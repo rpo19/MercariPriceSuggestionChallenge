{
  "nbformat": 4,
  "nbformat_minor": 0,
  "metadata": {
    "kernelspec": {
      "display_name": "Python 3",
      "language": "python",
      "name": "python3"
    },
    "language_info": {
      "codemirror_mode": {
        "name": "ipython",
        "version": 3
      },
      "file_extension": ".py",
      "mimetype": "text/x-python",
      "name": "python",
      "nbconvert_exporter": "python",
      "pygments_lexer": "ipython3",
      "version": "3.8.5"
    },
    "colab": {
      "name": "MercariPrice.ipynb",
      "provenance": [],
      "collapsed_sections": []
    },
    "accelerator": "GPU"
  },
  "cells": [
    {
      "cell_type": "markdown",
      "metadata": {
        "id": "M_oO4ZyYU00Y"
      },
      "source": [
        "### Mercari Price \n",
        "The files consist of a list of product listings. These files are tab-delimited.\n",
        "\n",
        "Fields:\n",
        "- train_id or test_id - the id of the listing\n",
        "\n",
        "- name - the title of the listing. Note that we have cleaned the data to remove text that look like prices (e.g. $20) to avoid  leakage. These removed prices are represented as [rm]\n",
        "\n",
        "- item_condition_id - the condition of the items provided by the seller\n",
        "\n",
        "- category_name - category of the listing\n",
        "\n",
        "- brand_name\n",
        "\n",
        "- price - the price that the item was sold for. This is the target variable that you will predict. The unit is USD. This column doesn't exist in test.tsv since that is what you will predict.\n",
        "\n",
        "- shipping - 1 if shipping fee is paid by seller and 0 by buyer\n",
        "\n",
        "- item_description - the full description of the item. Note that we have cleaned the data to remove text that look like prices (e.g. $20) to avoid leakage. These removed prices are represented as [rm]"
      ]
    },
    {
      "cell_type": "code",
      "metadata": {
        "id": "s4RfjlP1VCjh"
      },
      "source": [
        "import os"
      ],
      "execution_count": 1,
      "outputs": []
    },
    {
      "cell_type": "code",
      "metadata": {
        "colab": {
          "base_uri": "https://localhost:8080/"
        },
        "id": "oXCUW4PtU00k",
        "outputId": "f3e389f2-cda2-4f17-831c-7c3fc2b84b64"
      },
      "source": [
        "# check if in colab\n",
        "RunningInCOLAB = 'google.colab' in str(get_ipython())\n",
        "if RunningInCOLAB:\n",
        "    print(\"Running in colab\")\n",
        "    from google.colab import drive\n",
        "    drive.mount('/content/gdrive', force_remount=True)\n",
        "    colab_root = '/content/drive'\n",
        "    root_dir = \"/content/gdrive/My Drive/\"\n",
        "    base_dir = root_dir + 'project-mercari-price/'\n",
        "    if not os.path.isdir(base_dir):\n",
        "        os.mkdir(base_dir)\n",
        "else:\n",
        "    root_dir= os.getcwd()\n",
        "    base_dir = root_dir\n",
        "    \n",
        "os.chdir(base_dir)"
      ],
      "execution_count": 2,
      "outputs": [
        {
          "output_type": "stream",
          "text": [
            "Running in colab\n",
            "Mounted at /content/gdrive\n"
          ],
          "name": "stdout"
        }
      ]
    },
    {
      "cell_type": "code",
      "metadata": {
        "colab": {
          "base_uri": "https://localhost:8080/"
        },
        "id": "1JFkFCLXU00m",
        "outputId": "3ee79bbf-3081-4664-9bb5-88c38c7dff69"
      },
      "source": [
        "dataset_downloaded_path = os.path.join(base_dir, \"dataset_downloaded.ignore\")\n",
        "dataset_downloaded = os.path.isfile(dataset_downloaded_path)\n",
        "dataset_downloaded"
      ],
      "execution_count": 3,
      "outputs": [
        {
          "output_type": "execute_result",
          "data": {
            "text/plain": [
              "True"
            ]
          },
          "metadata": {
            "tags": []
          },
          "execution_count": 3
        }
      ]
    },
    {
      "cell_type": "code",
      "metadata": {
        "id": "24RhWXO6U00p"
      },
      "source": [
        "if not dataset_downloaded:\n",
        "  # install kaggle to download dataset\n",
        "  ! pip install kaggle python-dotenv"
      ],
      "execution_count": 4,
      "outputs": []
    },
    {
      "cell_type": "code",
      "metadata": {
        "id": "Xw0Fy7K5U00r"
      },
      "source": [
        "# set to True if you want to save kaggle credentials into a .env file\n",
        "persist_credentials = False\n",
        "\n",
        "if not dataset_downloaded:\n",
        "  # create .env file containing KAGGLE_USER and KAGGLE_KEY\n",
        "  kaggle_env = os.path.join(base_dir, '.env')\n",
        "  if not os.path.isfile(kaggle_env):\n",
        "    with open(kaggle_env, 'w') as envfile:\n",
        "      kaggle_user = input(\"Insert kaggle username\")\n",
        "      kaggle_key = input(\"Insert kaggle key; generate one from kaggle account\")\n",
        "      if persist_credentials:\n",
        "        envfile.write(f\"\"\"\n",
        "        KAGGLE_USERNAME={kaggle_user}\n",
        "        KAGGLE_KEY={kaggle_key}\n",
        "        \"\"\")\n",
        "\n",
        "      # set env vars\n",
        "      os.environ[\"KAGGLE_USERNAME\"] = kaggle_user\n",
        "      os.environ[\"KAGGLE_KEY\"] = kaggle_key\n",
        "\n",
        "      del kaggle_user\n",
        "      del kaggle_key"
      ],
      "execution_count": 5,
      "outputs": []
    },
    {
      "cell_type": "code",
      "metadata": {
        "id": "7zJ0iRN9U00u"
      },
      "source": [
        "if not dataset_downloaded:\n",
        "  # loading env vars if .env file exists\n",
        "  if os.path.isfile(kaggle_env):\n",
        "    from dotenv import load_dotenv\n",
        "    load_dotenv(dotenv_path=kaggle_env)\n",
        "  print(os.environ.get(\"KAGGLE_USERNAME\"))"
      ],
      "execution_count": 6,
      "outputs": []
    },
    {
      "cell_type": "code",
      "metadata": {
        "id": "SP-mPFo-U00v"
      },
      "source": [
        "if not dataset_downloaded:\n",
        "  # download and extract dataset\n",
        "  ! kaggle competitions download -c mercari-price-suggestion-challenge\n",
        "\n",
        "  # create file so that we know we already downloaded\n",
        "  with open(dataset_downloaded_path, 'w') as dd_file:\n",
        "    dataset_downloaded = True\n",
        "    dd_file.write(\"\")\n",
        "\n",
        "  print('cwd: ', os.getcwd())\n",
        "  os.listdir()"
      ],
      "execution_count": 7,
      "outputs": []
    },
    {
      "cell_type": "code",
      "metadata": {
        "id": "cpAT2yysVsRm"
      },
      "source": [
        "if not dataset_downloaded:\n",
        "  ! 7z x train.tsv.7z\n",
        "  ! 7z x test.tsv.7z"
      ],
      "execution_count": 8,
      "outputs": []
    },
    {
      "cell_type": "code",
      "metadata": {
        "colab": {
          "base_uri": "https://localhost:8080/"
        },
        "id": "rbwBGoI1VplX",
        "outputId": "cb4e2a9b-5d85-4bdb-f302-6e07ea367ec3"
      },
      "source": [
        "os.listdir()"
      ],
      "execution_count": 9,
      "outputs": [
        {
          "output_type": "execute_result",
          "data": {
            "text/plain": [
              "['train.tsv',\n",
              " 'test.tsv',\n",
              " '.env',\n",
              " 'sample_submission.csv.7z',\n",
              " 'test_stg2.tsv.zip',\n",
              " 'train.tsv.7z',\n",
              " 'test.tsv.7z',\n",
              " 'sample_submission_stg2.csv.zip',\n",
              " 'dataset_downloaded',\n",
              " '.git',\n",
              " '.gitignore',\n",
              " 'Notebook.Rmd',\n",
              " 'Readme.md',\n",
              " 'requirements.txt',\n",
              " 'Untitled.ipynb',\n",
              " 'git',\n",
              " 'dataset_downloaded.ignore']"
            ]
          },
          "metadata": {
            "tags": []
          },
          "execution_count": 9
        }
      ]
    },
    {
      "cell_type": "code",
      "metadata": {
        "id": "XZWiRNuUU00w"
      },
      "source": [
        "import pandas as pd\n",
        "from nltk.tokenize import word_tokenize\n",
        "import tensorflow as tf\n",
        "from tensorflow import keras"
      ],
      "execution_count": 10,
      "outputs": []
    },
    {
      "cell_type": "code",
      "metadata": {
        "colab": {
          "base_uri": "https://localhost:8080/"
        },
        "id": "fL7B4_jbU00x",
        "outputId": "4c45c49a-9f4c-4c9c-94a0-787da186eb45"
      },
      "source": [
        "from tqdm._tqdm_notebook import tqdm_notebook\n",
        "tqdm_notebook.pandas()"
      ],
      "execution_count": 11,
      "outputs": [
        {
          "output_type": "stream",
          "text": [
            "/usr/local/lib/python3.6/dist-packages/ipykernel_launcher.py:1: TqdmDeprecationWarning: This function will be removed in tqdm==5.0.0\n",
            "Please use `tqdm.notebook.*` instead of `tqdm._tqdm_notebook.*`\n",
            "  \"\"\"Entry point for launching an IPython kernel.\n"
          ],
          "name": "stderr"
        }
      ]
    },
    {
      "cell_type": "code",
      "metadata": {
        "colab": {
          "base_uri": "https://localhost:8080/",
          "height": 665
        },
        "id": "j5Vg17INU00x",
        "outputId": "f1133ee2-63a2-442f-b9d7-188602b66411"
      },
      "source": [
        "dtypes={\n",
        "    'name': 'string',\n",
        "    'item_condition_id': 'byte',\n",
        "    'category_name': 'string',\n",
        "    'brand_name': 'string',\n",
        "    'price': 'float',\n",
        "    'shipping': 'boolean',\n",
        "    'item_description': 'string'\n",
        "}\n",
        "data = pd.read_csv(\"train.tsv\", sep='\\t', index_col=\"train_id\", dtype=dtypes)\n",
        "data"
      ],
      "execution_count": 12,
      "outputs": [
        {
          "output_type": "stream",
          "text": [
            "/usr/local/lib/python3.6/dist-packages/numpy/lib/arraysetops.py:569: FutureWarning: elementwise comparison failed; returning scalar instead, but in the future will perform elementwise comparison\n",
            "  mask |= (ar1 == a)\n"
          ],
          "name": "stderr"
        },
        {
          "output_type": "execute_result",
          "data": {
            "text/html": [
              "<div>\n",
              "<style scoped>\n",
              "    .dataframe tbody tr th:only-of-type {\n",
              "        vertical-align: middle;\n",
              "    }\n",
              "\n",
              "    .dataframe tbody tr th {\n",
              "        vertical-align: top;\n",
              "    }\n",
              "\n",
              "    .dataframe thead th {\n",
              "        text-align: right;\n",
              "    }\n",
              "</style>\n",
              "<table border=\"1\" class=\"dataframe\">\n",
              "  <thead>\n",
              "    <tr style=\"text-align: right;\">\n",
              "      <th></th>\n",
              "      <th>name</th>\n",
              "      <th>item_condition_id</th>\n",
              "      <th>category_name</th>\n",
              "      <th>brand_name</th>\n",
              "      <th>price</th>\n",
              "      <th>shipping</th>\n",
              "      <th>item_description</th>\n",
              "    </tr>\n",
              "    <tr>\n",
              "      <th>train_id</th>\n",
              "      <th></th>\n",
              "      <th></th>\n",
              "      <th></th>\n",
              "      <th></th>\n",
              "      <th></th>\n",
              "      <th></th>\n",
              "      <th></th>\n",
              "    </tr>\n",
              "  </thead>\n",
              "  <tbody>\n",
              "    <tr>\n",
              "      <th>0</th>\n",
              "      <td>MLB Cincinnati Reds T Shirt Size XL</td>\n",
              "      <td>3</td>\n",
              "      <td>Men/Tops/T-shirts</td>\n",
              "      <td>&lt;NA&gt;</td>\n",
              "      <td>10.0</td>\n",
              "      <td>True</td>\n",
              "      <td>No description yet</td>\n",
              "    </tr>\n",
              "    <tr>\n",
              "      <th>1</th>\n",
              "      <td>Razer BlackWidow Chroma Keyboard</td>\n",
              "      <td>3</td>\n",
              "      <td>Electronics/Computers &amp; Tablets/Components &amp; P...</td>\n",
              "      <td>Razer</td>\n",
              "      <td>52.0</td>\n",
              "      <td>False</td>\n",
              "      <td>This keyboard is in great condition and works ...</td>\n",
              "    </tr>\n",
              "    <tr>\n",
              "      <th>2</th>\n",
              "      <td>AVA-VIV Blouse</td>\n",
              "      <td>1</td>\n",
              "      <td>Women/Tops &amp; Blouses/Blouse</td>\n",
              "      <td>Target</td>\n",
              "      <td>10.0</td>\n",
              "      <td>True</td>\n",
              "      <td>Adorable top with a hint of lace and a key hol...</td>\n",
              "    </tr>\n",
              "    <tr>\n",
              "      <th>3</th>\n",
              "      <td>Leather Horse Statues</td>\n",
              "      <td>1</td>\n",
              "      <td>Home/Home Décor/Home Décor Accents</td>\n",
              "      <td>&lt;NA&gt;</td>\n",
              "      <td>35.0</td>\n",
              "      <td>True</td>\n",
              "      <td>New with tags. Leather horses. Retail for [rm]...</td>\n",
              "    </tr>\n",
              "    <tr>\n",
              "      <th>4</th>\n",
              "      <td>24K GOLD plated rose</td>\n",
              "      <td>1</td>\n",
              "      <td>Women/Jewelry/Necklaces</td>\n",
              "      <td>&lt;NA&gt;</td>\n",
              "      <td>44.0</td>\n",
              "      <td>False</td>\n",
              "      <td>Complete with certificate of authenticity</td>\n",
              "    </tr>\n",
              "    <tr>\n",
              "      <th>...</th>\n",
              "      <td>...</td>\n",
              "      <td>...</td>\n",
              "      <td>...</td>\n",
              "      <td>...</td>\n",
              "      <td>...</td>\n",
              "      <td>...</td>\n",
              "      <td>...</td>\n",
              "    </tr>\n",
              "    <tr>\n",
              "      <th>1482530</th>\n",
              "      <td>Free People Inspired Dress</td>\n",
              "      <td>2</td>\n",
              "      <td>Women/Dresses/Mid-Calf</td>\n",
              "      <td>Free People</td>\n",
              "      <td>20.0</td>\n",
              "      <td>True</td>\n",
              "      <td>Lace, says size small but fits medium perfectl...</td>\n",
              "    </tr>\n",
              "    <tr>\n",
              "      <th>1482531</th>\n",
              "      <td>Little mermaid handmade dress</td>\n",
              "      <td>2</td>\n",
              "      <td>Kids/Girls 2T-5T/Dresses</td>\n",
              "      <td>Disney</td>\n",
              "      <td>14.0</td>\n",
              "      <td>False</td>\n",
              "      <td>Little mermaid handmade dress never worn size 2t</td>\n",
              "    </tr>\n",
              "    <tr>\n",
              "      <th>1482532</th>\n",
              "      <td>21 day fix containers and eating plan</td>\n",
              "      <td>2</td>\n",
              "      <td>Sports &amp; Outdoors/Exercise/Fitness accessories</td>\n",
              "      <td>&lt;NA&gt;</td>\n",
              "      <td>12.0</td>\n",
              "      <td>False</td>\n",
              "      <td>Used once or twice, still in great shape.</td>\n",
              "    </tr>\n",
              "    <tr>\n",
              "      <th>1482533</th>\n",
              "      <td>World markets lanterns</td>\n",
              "      <td>3</td>\n",
              "      <td>Home/Home Décor/Home Décor Accents</td>\n",
              "      <td>&lt;NA&gt;</td>\n",
              "      <td>45.0</td>\n",
              "      <td>True</td>\n",
              "      <td>There is 2 of each one that you see! So 2 red ...</td>\n",
              "    </tr>\n",
              "    <tr>\n",
              "      <th>1482534</th>\n",
              "      <td>Brand new lux de ville wallet</td>\n",
              "      <td>1</td>\n",
              "      <td>Women/Women's Accessories/Wallets</td>\n",
              "      <td>&lt;NA&gt;</td>\n",
              "      <td>22.0</td>\n",
              "      <td>False</td>\n",
              "      <td>New with tag, red with sparkle. Firm price, no...</td>\n",
              "    </tr>\n",
              "  </tbody>\n",
              "</table>\n",
              "<p>1482535 rows × 7 columns</p>\n",
              "</div>"
            ],
            "text/plain": [
              "                                           name  ...                                   item_description\n",
              "train_id                                         ...                                                   \n",
              "0           MLB Cincinnati Reds T Shirt Size XL  ...                                 No description yet\n",
              "1              Razer BlackWidow Chroma Keyboard  ...  This keyboard is in great condition and works ...\n",
              "2                                AVA-VIV Blouse  ...  Adorable top with a hint of lace and a key hol...\n",
              "3                         Leather Horse Statues  ...  New with tags. Leather horses. Retail for [rm]...\n",
              "4                          24K GOLD plated rose  ...          Complete with certificate of authenticity\n",
              "...                                         ...  ...                                                ...\n",
              "1482530              Free People Inspired Dress  ...  Lace, says size small but fits medium perfectl...\n",
              "1482531           Little mermaid handmade dress  ...   Little mermaid handmade dress never worn size 2t\n",
              "1482532   21 day fix containers and eating plan  ...          Used once or twice, still in great shape.\n",
              "1482533                  World markets lanterns  ...  There is 2 of each one that you see! So 2 red ...\n",
              "1482534           Brand new lux de ville wallet  ...  New with tag, red with sparkle. Firm price, no...\n",
              "\n",
              "[1482535 rows x 7 columns]"
            ]
          },
          "metadata": {
            "tags": []
          },
          "execution_count": 12
        }
      ]
    },
    {
      "cell_type": "code",
      "metadata": {
        "id": "DmtH5d_GU00z",
        "colab": {
          "base_uri": "https://localhost:8080/"
        },
        "outputId": "20065221-82dd-4596-979a-190cdad273b5"
      },
      "source": [
        "data.dtypes"
      ],
      "execution_count": 13,
      "outputs": [
        {
          "output_type": "execute_result",
          "data": {
            "text/plain": [
              "name                  string\n",
              "item_condition_id       int8\n",
              "category_name         string\n",
              "brand_name            string\n",
              "price                float64\n",
              "shipping             boolean\n",
              "item_description      string\n",
              "dtype: object"
            ]
          },
          "metadata": {
            "tags": []
          },
          "execution_count": 13
        }
      ]
    },
    {
      "cell_type": "code",
      "metadata": {
        "colab": {
          "base_uri": "https://localhost:8080/"
        },
        "id": "9TY3K5euCtuA",
        "outputId": "ce50ddaa-8d06-4f74-c4b3-edae3665c58e"
      },
      "source": [
        "data.shape"
      ],
      "execution_count": 14,
      "outputs": [
        {
          "output_type": "execute_result",
          "data": {
            "text/plain": [
              "(1482535, 7)"
            ]
          },
          "metadata": {
            "tags": []
          },
          "execution_count": 14
        }
      ]
    },
    {
      "cell_type": "code",
      "metadata": {
        "colab": {
          "base_uri": "https://localhost:8080/"
        },
        "id": "rvujMFFXCxL8",
        "outputId": "b4125c9b-48b9-42fd-f6f9-20fe8c324c4c"
      },
      "source": [
        "for column in data.columns:\n",
        "    print(\"number of null value in {} : {}\".format(column,data[column].isnull().sum()))"
      ],
      "execution_count": 15,
      "outputs": [
        {
          "output_type": "stream",
          "text": [
            "number of null value in name : 0\n",
            "number of null value in item_condition_id : 0\n",
            "number of null value in category_name : 6327\n",
            "number of null value in brand_name : 632682\n",
            "number of null value in price : 0\n",
            "number of null value in shipping : 0\n",
            "number of null value in item_description : 4\n"
          ],
          "name": "stdout"
        }
      ]
    },
    {
      "cell_type": "code",
      "metadata": {
        "colab": {
          "base_uri": "https://localhost:8080/"
        },
        "id": "jUBsIEJqC0cg",
        "outputId": "a1d6941c-37fa-4996-c76b-8018f11a9251"
      },
      "source": [
        "data = data[data[\"item_description\"].notna()]\n",
        "data.shape"
      ],
      "execution_count": 16,
      "outputs": [
        {
          "output_type": "execute_result",
          "data": {
            "text/plain": [
              "(1482531, 7)"
            ]
          },
          "metadata": {
            "tags": []
          },
          "execution_count": 16
        }
      ]
    },
    {
      "cell_type": "code",
      "metadata": {
        "id": "6R3shJ9NU001"
      },
      "source": [
        "from tensorflow.keras.layers.experimental.preprocessing import TextVectorization"
      ],
      "execution_count": 17,
      "outputs": []
    },
    {
      "cell_type": "code",
      "metadata": {
        "id": "CKUWKJPCU002",
        "colab": {
          "base_uri": "https://localhost:8080/",
          "height": 52
        },
        "outputId": "c10d8625-fbf8-4281-d4fa-03b42b100bd7"
      },
      "source": [
        "'''max_features = 20000\n",
        "embedding_dim = 128\n",
        "sequence_length = 500\n",
        "\n",
        "vectorize_layer = TextVectorization(\n",
        "    max_tokens=max_features,\n",
        "    output_mode=\"int\",\n",
        "    output_sequence_length=sequence_length,\n",
        ")'''"
      ],
      "execution_count": 18,
      "outputs": [
        {
          "output_type": "execute_result",
          "data": {
            "application/vnd.google.colaboratory.intrinsic+json": {
              "type": "string"
            },
            "text/plain": [
              "'max_features = 20000\\nembedding_dim = 128\\nsequence_length = 500\\n\\nvectorize_layer = TextVectorization(\\n    max_tokens=max_features,\\n    output_mode=\"int\",\\n    output_sequence_length=sequence_length,\\n)'"
            ]
          },
          "metadata": {
            "tags": []
          },
          "execution_count": 18
        }
      ]
    },
    {
      "cell_type": "code",
      "metadata": {
        "id": "WODqw4pGU002"
      },
      "source": [
        "#description= data[\"item_description\"].to_numpy()"
      ],
      "execution_count": 19,
      "outputs": []
    },
    {
      "cell_type": "code",
      "metadata": {
        "id": "b18jYgQoU003"
      },
      "source": [
        "# call `adapt` on a text-only dataset to create the vocabulary\n",
        "#vectorize_layer.adapt(description)"
      ],
      "execution_count": 20,
      "outputs": []
    },
    {
      "cell_type": "code",
      "metadata": {
        "id": "hQ2H77fuU003"
      },
      "source": [
        "from sklearn.model_selection import train_test_split"
      ],
      "execution_count": 21,
      "outputs": []
    },
    {
      "cell_type": "code",
      "metadata": {
        "id": "2kmzUCJpU003",
        "colab": {
          "base_uri": "https://localhost:8080/"
        },
        "outputId": "2617773c-3e53-464a-ee9a-8adfc204a04b"
      },
      "source": [
        "type(data[\"item_description\"].values[0])"
      ],
      "execution_count": 22,
      "outputs": [
        {
          "output_type": "execute_result",
          "data": {
            "text/plain": [
              "str"
            ]
          },
          "metadata": {
            "tags": []
          },
          "execution_count": 22
        }
      ]
    },
    {
      "cell_type": "code",
      "metadata": {
        "id": "mjWbKB7CU004"
      },
      "source": [
        "sentences = data[\"item_description\"].values"
      ],
      "execution_count": 23,
      "outputs": []
    },
    {
      "cell_type": "code",
      "metadata": {
        "id": "L8cv7yT3U006",
        "colab": {
          "base_uri": "https://localhost:8080/"
        },
        "outputId": "aa5ee2ce-0abf-4a3c-e46a-618aaf27133c"
      },
      "source": [
        "len(sentences)"
      ],
      "execution_count": 24,
      "outputs": [
        {
          "output_type": "execute_result",
          "data": {
            "text/plain": [
              "1482531"
            ]
          },
          "metadata": {
            "tags": []
          },
          "execution_count": 24
        }
      ]
    },
    {
      "cell_type": "code",
      "metadata": {
        "id": "CgK3uH2uU006",
        "colab": {
          "base_uri": "https://localhost:8080/"
        },
        "outputId": "b5ea9f0e-7cda-45d2-d3de-9d53d2c513ba"
      },
      "source": [
        "type(sentences[0])"
      ],
      "execution_count": 25,
      "outputs": [
        {
          "output_type": "execute_result",
          "data": {
            "text/plain": [
              "str"
            ]
          },
          "metadata": {
            "tags": []
          },
          "execution_count": 25
        }
      ]
    },
    {
      "cell_type": "code",
      "metadata": {
        "id": "xmW4FfnTU007"
      },
      "source": [
        "y = data[\"price\"].values\n",
        "sentences_train, sentences_validation, y_train, y_validation = train_test_split(sentences, y, test_size=0.25, random_state=1000)"
      ],
      "execution_count": 26,
      "outputs": []
    },
    {
      "cell_type": "code",
      "metadata": {
        "id": "kyPdF8INU007"
      },
      "source": [
        "from tensorflow.keras.preprocessing.text import Tokenizer"
      ],
      "execution_count": 27,
      "outputs": []
    },
    {
      "cell_type": "code",
      "metadata": {
        "id": "jCk7ihOwU008"
      },
      "source": [
        "tokenizer = Tokenizer(num_words=5000)\n",
        "tokenizer.fit_on_texts(sentences_train)"
      ],
      "execution_count": 28,
      "outputs": []
    },
    {
      "cell_type": "code",
      "metadata": {
        "id": "ejVYGL5jDTBR"
      },
      "source": [
        "X_train = tokenizer.texts_to_sequences(sentences_train)\n",
        "X_validation = tokenizer.texts_to_sequences(sentences_validation)"
      ],
      "execution_count": 29,
      "outputs": []
    },
    {
      "cell_type": "code",
      "metadata": {
        "colab": {
          "base_uri": "https://localhost:8080/"
        },
        "id": "5W0A95PQEDb_",
        "outputId": "89c64f8e-9f13-4925-99dc-deb120a2b33b"
      },
      "source": [
        "vocab_size = len(tokenizer.word_index) + 1\n",
        "vocab_size"
      ],
      "execution_count": 30,
      "outputs": [
        {
          "output_type": "execute_result",
          "data": {
            "text/plain": [
              "178233"
            ]
          },
          "metadata": {
            "tags": []
          },
          "execution_count": 30
        }
      ]
    },
    {
      "cell_type": "code",
      "metadata": {
        "colab": {
          "base_uri": "https://localhost:8080/"
        },
        "id": "7HZeg0KvFHc9",
        "outputId": "428f3bb0-ab62-4dba-9c35-bf322977200e"
      },
      "source": [
        "len(tokenizer.word_index)"
      ],
      "execution_count": 31,
      "outputs": [
        {
          "output_type": "execute_result",
          "data": {
            "text/plain": [
              "178232"
            ]
          },
          "metadata": {
            "tags": []
          },
          "execution_count": 31
        }
      ]
    },
    {
      "cell_type": "code",
      "metadata": {
        "colab": {
          "base_uri": "https://localhost:8080/"
        },
        "id": "cdl0gw3HEkM1",
        "outputId": "39b5bb78-3ab0-4fa6-80c3-acfd0e5828d4"
      },
      "source": [
        "[(key,value) for key,value in tokenizer.word_index.items() if value in range(1,10)]"
      ],
      "execution_count": 32,
      "outputs": [
        {
          "output_type": "execute_result",
          "data": {
            "text/plain": [
              "[('and', 1),\n",
              " ('the', 2),\n",
              " ('a', 3),\n",
              " ('for', 4),\n",
              " ('in', 5),\n",
              " ('new', 6),\n",
              " ('to', 7),\n",
              " ('with', 8),\n",
              " ('size', 9)]"
            ]
          },
          "metadata": {
            "tags": []
          },
          "execution_count": 32
        }
      ]
    },
    {
      "cell_type": "code",
      "metadata": {
        "colab": {
          "base_uri": "https://localhost:8080/"
        },
        "id": "OjR6ARh4ERfz",
        "outputId": "6215b71c-4b05-4ae7-85a2-5c617bc01942"
      },
      "source": [
        "len(sentences_train)"
      ],
      "execution_count": 33,
      "outputs": [
        {
          "output_type": "execute_result",
          "data": {
            "text/plain": [
              "1111898"
            ]
          },
          "metadata": {
            "tags": []
          },
          "execution_count": 33
        }
      ]
    },
    {
      "cell_type": "code",
      "metadata": {
        "colab": {
          "base_uri": "https://localhost:8080/"
        },
        "id": "fUPLKaX3Du37",
        "outputId": "0eabb2c7-88bd-42bd-9b93-f67483297767"
      },
      "source": [
        "len(X_train)"
      ],
      "execution_count": 34,
      "outputs": [
        {
          "output_type": "execute_result",
          "data": {
            "text/plain": [
              "1111898"
            ]
          },
          "metadata": {
            "tags": []
          },
          "execution_count": 34
        }
      ]
    },
    {
      "cell_type": "code",
      "metadata": {
        "colab": {
          "base_uri": "https://localhost:8080/",
          "height": 35
        },
        "id": "1ZAfrB_KEVXx",
        "outputId": "a0b504ef-4bc6-45df-9f5b-cbab591e13f8"
      },
      "source": [
        "sentences_train[0]"
      ],
      "execution_count": 35,
      "outputs": [
        {
          "output_type": "execute_result",
          "data": {
            "application/vnd.google.colaboratory.intrinsic+json": {
              "type": "string"
            },
            "text/plain": [
              "'For Clara only. Red boyfriend tshirt and american eagle shorts.'"
            ]
          },
          "metadata": {
            "tags": []
          },
          "execution_count": 35
        }
      ]
    },
    {
      "cell_type": "code",
      "metadata": {
        "colab": {
          "base_uri": "https://localhost:8080/"
        },
        "id": "YnHZLEliEZok",
        "outputId": "86de1db9-631c-4dd2-83e6-9fef79aab764"
      },
      "source": [
        "X_train[0]"
      ],
      "execution_count": 36,
      "outputs": [
        {
          "output_type": "execute_result",
          "data": {
            "text/plain": [
              "[4, 49, 139, 1808, 1350, 1, 344, 591, 222]"
            ]
          },
          "metadata": {
            "tags": []
          },
          "execution_count": 36
        }
      ]
    },
    {
      "cell_type": "code",
      "metadata": {
        "colab": {
          "base_uri": "https://localhost:8080/",
          "height": 109
        },
        "id": "O_RcZFD-Fp-v",
        "outputId": "6789b4c3-71ef-4a1a-f886-315e130b65e0"
      },
      "source": [
        "data[data[\"item_description\"] == sentences_train[0]]"
      ],
      "execution_count": 37,
      "outputs": [
        {
          "output_type": "execute_result",
          "data": {
            "text/html": [
              "<div>\n",
              "<style scoped>\n",
              "    .dataframe tbody tr th:only-of-type {\n",
              "        vertical-align: middle;\n",
              "    }\n",
              "\n",
              "    .dataframe tbody tr th {\n",
              "        vertical-align: top;\n",
              "    }\n",
              "\n",
              "    .dataframe thead th {\n",
              "        text-align: right;\n",
              "    }\n",
              "</style>\n",
              "<table border=\"1\" class=\"dataframe\">\n",
              "  <thead>\n",
              "    <tr style=\"text-align: right;\">\n",
              "      <th></th>\n",
              "      <th>name</th>\n",
              "      <th>item_condition_id</th>\n",
              "      <th>category_name</th>\n",
              "      <th>brand_name</th>\n",
              "      <th>price</th>\n",
              "      <th>shipping</th>\n",
              "      <th>item_description</th>\n",
              "    </tr>\n",
              "    <tr>\n",
              "      <th>train_id</th>\n",
              "      <th></th>\n",
              "      <th></th>\n",
              "      <th></th>\n",
              "      <th></th>\n",
              "      <th></th>\n",
              "      <th></th>\n",
              "      <th></th>\n",
              "    </tr>\n",
              "  </thead>\n",
              "  <tbody>\n",
              "    <tr>\n",
              "      <th>1363265</th>\n",
              "      <td>Clara's bundle.</td>\n",
              "      <td>3</td>\n",
              "      <td>Women/Athletic Apparel/Shirts &amp; Tops</td>\n",
              "      <td>&lt;NA&gt;</td>\n",
              "      <td>13.0</td>\n",
              "      <td>False</td>\n",
              "      <td>For Clara only. Red boyfriend tshirt and ameri...</td>\n",
              "    </tr>\n",
              "  </tbody>\n",
              "</table>\n",
              "</div>"
            ],
            "text/plain": [
              "                     name  ...                                   item_description\n",
              "train_id                   ...                                                   \n",
              "1363265   Clara's bundle.  ...  For Clara only. Red boyfriend tshirt and ameri...\n",
              "\n",
              "[1 rows x 7 columns]"
            ]
          },
          "metadata": {
            "tags": []
          },
          "execution_count": 37
        }
      ]
    },
    {
      "cell_type": "code",
      "metadata": {
        "colab": {
          "base_uri": "https://localhost:8080/"
        },
        "id": "Y40ov-ULHtla",
        "outputId": "93d701d0-0a30-4f27-d1bf-73179ef281d9"
      },
      "source": [
        "from keras.preprocessing.sequence import pad_sequences\n",
        "\n",
        "maxlen = 100\n",
        "\n",
        "X_train = pad_sequences(X_train, padding='post', maxlen=maxlen)\n",
        "X_validation = pad_sequences(X_validation, padding='post', maxlen=maxlen)\n",
        "\n",
        "print(X_train[0, :])"
      ],
      "execution_count": 38,
      "outputs": [
        {
          "output_type": "stream",
          "text": [
            "[   4   49  139 1808 1350    1  344  591  222    0    0    0    0    0\n",
            "    0    0    0    0    0    0    0    0    0    0    0    0    0    0\n",
            "    0    0    0    0    0    0    0    0    0    0    0    0    0    0\n",
            "    0    0    0    0    0    0    0    0    0    0    0    0    0    0\n",
            "    0    0    0    0    0    0    0    0    0    0    0    0    0    0\n",
            "    0    0    0    0    0    0    0    0    0    0    0    0    0    0\n",
            "    0    0    0    0    0    0    0    0    0    0    0    0    0    0\n",
            "    0    0]\n"
          ],
          "name": "stdout"
        }
      ]
    },
    {
      "cell_type": "code",
      "metadata": {
        "colab": {
          "base_uri": "https://localhost:8080/"
        },
        "id": "voHiy6YcH2mV",
        "outputId": "685605fb-0144-4029-e20f-60b458e4c3e3"
      },
      "source": [
        "len(X_train[0])"
      ],
      "execution_count": 39,
      "outputs": [
        {
          "output_type": "execute_result",
          "data": {
            "text/plain": [
              "100"
            ]
          },
          "metadata": {
            "tags": []
          },
          "execution_count": 39
        }
      ]
    },
    {
      "cell_type": "code",
      "metadata": {
        "id": "SLcxUX3ESGDo"
      },
      "source": [
        "import keras.backend as K\n",
        "msle = tf.keras.losses.MeanSquaredLogarithmicError()\n",
        "\n",
        "def root_mean_squared_logarithmic_error(y_true, y_pred):\n",
        "    return K.sqrt(msle(y_true, y_pred))\n"
      ],
      "execution_count": 46,
      "outputs": []
    },
    {
      "cell_type": "code",
      "metadata": {
        "colab": {
          "base_uri": "https://localhost:8080/"
        },
        "id": "1-rcb1aLIHPX",
        "outputId": "afa152e0-094f-4311-9f86-5233c4acffab"
      },
      "source": [
        "from keras.models import Sequential\n",
        "from keras import layers\n",
        "\n",
        "embedding_dim = 50\n",
        "\n",
        "model = Sequential()\n",
        "model.add(layers.Embedding(input_dim=vocab_size, \n",
        "                           output_dim=embedding_dim, \n",
        "                           input_length=maxlen))\n",
        "model.add(layers.Flatten())\n",
        "model.add(layers.Dense(10, activation='relu'))\n",
        "model.add(layers.Dense(1, activation='linear'))\n",
        "model.compile(optimizer='adam',\n",
        "              loss='mse',\n",
        "              metrics=[tf.keras.metrics.RootMeanSquaredError(), 'mean_squared_logarithmic_error', root_mean_squared_logarithmic_error])\n",
        "model.summary()"
      ],
      "execution_count": 47,
      "outputs": [
        {
          "output_type": "stream",
          "text": [
            "Model: \"sequential_2\"\n",
            "_________________________________________________________________\n",
            "Layer (type)                 Output Shape              Param #   \n",
            "=================================================================\n",
            "embedding_2 (Embedding)      (None, 100, 50)           8911650   \n",
            "_________________________________________________________________\n",
            "flatten_2 (Flatten)          (None, 5000)              0         \n",
            "_________________________________________________________________\n",
            "dense_4 (Dense)              (None, 10)                50010     \n",
            "_________________________________________________________________\n",
            "dense_5 (Dense)              (None, 1)                 11        \n",
            "=================================================================\n",
            "Total params: 8,961,671\n",
            "Trainable params: 8,961,671\n",
            "Non-trainable params: 0\n",
            "_________________________________________________________________\n"
          ],
          "name": "stdout"
        }
      ]
    },
    {
      "cell_type": "code",
      "metadata": {
        "colab": {
          "base_uri": "https://localhost:8080/"
        },
        "id": "Y2m3WcI-JWcP",
        "outputId": "be101128-acfc-48f2-d343-07dfabc2591d"
      },
      "source": [
        "history = model.fit(X_train, y_train,\n",
        "                    epochs=5,\n",
        "                    verbose=True,\n",
        "                    validation_data=(X_validation, y_validation),\n",
        "                    batch_size=256)"
      ],
      "execution_count": null,
      "outputs": [
        {
          "output_type": "stream",
          "text": [
            "Epoch 1/5\n",
            "4344/4344 [==============================] - 367s 84ms/step - loss: 1169.4216 - root_mean_squared_error: 34.1968 - mean_squared_logarithmic_error: 0.5526 - root_mean_squared_logarithmic_error: 0.7316 - val_loss: 1056.5256 - val_root_mean_squared_error: 32.5042 - val_mean_squared_logarithmic_error: 0.4208 - val_root_mean_squared_logarithmic_error: 0.6478\n",
            "Epoch 2/5\n",
            "4344/4344 [==============================] - 366s 84ms/step - loss: 1029.7288 - root_mean_squared_error: 32.0894 - mean_squared_logarithmic_error: 0.4412 - root_mean_squared_logarithmic_error: 0.6632 - val_loss: 1013.3099 - val_root_mean_squared_error: 31.8325 - val_mean_squared_logarithmic_error: 0.4140 - val_root_mean_squared_logarithmic_error: 0.6426\n",
            "Epoch 3/5\n",
            "2867/4344 [==================>...........] - ETA: 2:03 - loss: 1008.3107 - root_mean_squared_error: 31.7539 - mean_squared_logarithmic_error: 0.4295 - root_mean_squared_logarithmic_error: 0.6544"
          ],
          "name": "stdout"
        }
      ]
    },
    {
      "cell_type": "code",
      "metadata": {
        "id": "qYe-41yBTDx7"
      },
      "source": [
        "#history1= history"
      ],
      "execution_count": 44,
      "outputs": []
    },
    {
      "cell_type": "code",
      "metadata": {
        "id": "AgzvCNHwJusZ"
      },
      "source": [
        "loss, accuracy = model.evaluate(X_train, y_train, verbose=True)\n",
        "print(\"Training Accuracy: {:.4f}\".format(accuracy))\n",
        "loss, accuracy = model.evaluate(X_test, y_test, verbose=False)\n",
        "print(\"Testing Accuracy:  {:.4f}\".format(accuracy))\n",
        "plot_history(history)"
      ],
      "execution_count": null,
      "outputs": []
    }
  ]
}