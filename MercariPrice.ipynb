{
 "cells": [
  {
   "cell_type": "markdown",
   "metadata": {
    "id": "M_oO4ZyYU00Y"
   },
   "source": [
    "### Mercari Price \n",
    "The files consist of a list of product listings. These files are tab-delimited.\n",
    "\n",
    "Fields:\n",
    "- train_id or test_id - the id of the listing\n",
    "\n",
    "- name - the title of the listing. Note that we have cleaned the data to remove text that look like prices (e.g. $20) to avoid  leakage. These removed prices are represented as [rm]\n",
    "\n",
    "- item_condition_id - the condition of the items provided by the seller\n",
    "\n",
    "- category_name - category of the listing\n",
    "\n",
    "- brand_name\n",
    "\n",
    "- price - the price that the item was sold for. This is the target variable that you will predict. The unit is USD. This column doesn't exist in test.tsv since that is what you will predict.\n",
    "\n",
    "- shipping - 1 if shipping fee is paid by seller and 0 by buyer\n",
    "\n",
    "- item_description - the full description of the item. Note that we have cleaned the data to remove text that look like prices (e.g. $20) to avoid leakage. These removed prices are represented as [rm]"
   ]
  },
  {
   "cell_type": "code",
   "execution_count": 118,
   "metadata": {
    "id": "XZWiRNuUU00w"
   },
   "outputs": [],
   "source": [
    "import pandas as pd\n",
    "import numpy as np\n",
    "\n",
    "from nltk.tokenize import word_tokenize\n",
    "import nltk\n",
    "import tensorflow as tf\n",
    "from tensorflow import keras\n",
    "from tensorflow.keras.preprocessing.text import Tokenizer\n",
    "from tensorflow.keras.preprocessing.sequence import pad_sequences\n",
    "\n",
    "\n",
    "from tqdm._tqdm_notebook import tqdm_notebook\n",
    "\n",
    "import os\n",
    "import itertools\n",
    "\n",
    "import matplotlib.pyplot as plt\n",
    "import itertools\n",
    "from collections import Counter\n",
    "import seaborn as sns\n",
    "\n",
    "from sklearn.model_selection import train_test_split\n",
    "from sklearn import preprocessing"
   ]
  },
  {
   "cell_type": "code",
   "execution_count": 2,
   "metadata": {
    "id": "s4RfjlP1VCjh"
   },
   "outputs": [
    {
     "name": "stderr",
     "output_type": "stream",
     "text": [
      "/home/rpo/workspace/advancedml2021/project-mercari-price/venv/lib/python3.8/site-packages/tqdm/std.py:699: FutureWarning: The Panel class is removed from pandas. Accessing it from the top-level namespace will also be removed in the next version\n",
      "  from pandas import Panel\n"
     ]
    }
   ],
   "source": [
    "tqdm_notebook.pandas()"
   ]
  },
  {
   "cell_type": "markdown",
   "metadata": {},
   "source": [
    "### Dataset download"
   ]
  },
  {
   "cell_type": "code",
   "execution_count": 3,
   "metadata": {
    "colab": {
     "base_uri": "https://localhost:8080/"
    },
    "id": "oXCUW4PtU00k",
    "outputId": "f3e389f2-cda2-4f17-831c-7c3fc2b84b64"
   },
   "outputs": [],
   "source": [
    "# check if in colab\n",
    "RunningInCOLAB = 'google.colab' in str(get_ipython())\n",
    "if RunningInCOLAB:\n",
    "    print(\"Running in colab\")\n",
    "    from google.colab import drive\n",
    "    drive.mount('/content/gdrive', force_remount=True)\n",
    "    colab_root = '/content/drive'\n",
    "    root_dir = \"/content/gdrive/My Drive/\"\n",
    "    base_dir = root_dir + 'project-mercari-price/'\n",
    "    if not os.path.isdir(base_dir):\n",
    "        os.mkdir(base_dir)\n",
    "else:\n",
    "    root_dir= os.getcwd()\n",
    "    base_dir = root_dir\n",
    "    \n",
    "os.chdir(base_dir)"
   ]
  },
  {
   "cell_type": "code",
   "execution_count": 4,
   "metadata": {
    "colab": {
     "base_uri": "https://localhost:8080/"
    },
    "id": "1JFkFCLXU00m",
    "outputId": "3ee79bbf-3081-4664-9bb5-88c38c7dff69"
   },
   "outputs": [
    {
     "data": {
      "text/plain": [
       "True"
      ]
     },
     "execution_count": 4,
     "metadata": {},
     "output_type": "execute_result"
    }
   ],
   "source": [
    "dataset_downloaded_path = os.path.join(base_dir, \"dataset_downloaded.ignore\")\n",
    "dataset_downloaded = os.path.isfile(dataset_downloaded_path)\n",
    "dataset_downloaded"
   ]
  },
  {
   "cell_type": "code",
   "execution_count": 5,
   "metadata": {
    "id": "24RhWXO6U00p"
   },
   "outputs": [],
   "source": [
    "if not dataset_downloaded:\n",
    "  # install kaggle to download dataset\n",
    "  ! pip install kaggle python-dotenv"
   ]
  },
  {
   "cell_type": "code",
   "execution_count": 6,
   "metadata": {
    "id": "Xw0Fy7K5U00r"
   },
   "outputs": [],
   "source": [
    "# set to True if you want to save kaggle credentials into a .env file\n",
    "persist_credentials = False\n",
    "\n",
    "if not dataset_downloaded:\n",
    "  # create .env file containing KAGGLE_USER and KAGGLE_KEY\n",
    "    kaggle_env = os.path.join(base_dir, '.env')\n",
    "    if not os.path.isfile(kaggle_env):\n",
    "        with open(kaggle_env, 'w') as envfile:\n",
    "            kaggle_user = input(\"Insert kaggle username\")\n",
    "            kaggle_key = input(\"Insert kaggle key; generate one from kaggle account\")\n",
    "        if persist_credentials:\n",
    "            envfile.write(f\"\"\"\n",
    "            KAGGLE_USERNAME={kaggle_user}\n",
    "            KAGGLE_KEY={kaggle_key}\n",
    "            \"\"\")\n",
    "\n",
    "        # set env vars\n",
    "        os.environ[\"KAGGLE_USERNAME\"] = kaggle_user\n",
    "        os.environ[\"KAGGLE_KEY\"] = kaggle_key\n",
    "\n",
    "        del kaggle_user\n",
    "        del kaggle_key"
   ]
  },
  {
   "cell_type": "code",
   "execution_count": 7,
   "metadata": {
    "id": "7zJ0iRN9U00u"
   },
   "outputs": [],
   "source": [
    "if not dataset_downloaded:\n",
    "  # loading env vars if .env file exists\n",
    "    if os.path.isfile(kaggle_env):\n",
    "        from dotenv import load_dotenv\n",
    "        load_dotenv(dotenv_path=kaggle_env)\n",
    "    print(os.environ.get(\"KAGGLE_USERNAME\"))"
   ]
  },
  {
   "cell_type": "code",
   "execution_count": 8,
   "metadata": {
    "id": "SP-mPFo-U00v"
   },
   "outputs": [],
   "source": [
    "if not dataset_downloaded:\n",
    "    # download and extract dataset\n",
    "    ! kaggle competitions download -c mercari-price-suggestion-challenge\n",
    "\n",
    "    # create file so that we know we already downloaded\n",
    "    with open(dataset_downloaded_path, 'w') as dd_file:\n",
    "        dataset_downloaded = True\n",
    "        dd_file.write(\"\")\n",
    "\n",
    "    print('cwd: ', os.getcwd())\n",
    "    \n",
    "    os.listdir()"
   ]
  },
  {
   "cell_type": "code",
   "execution_count": 9,
   "metadata": {
    "id": "cpAT2yysVsRm"
   },
   "outputs": [],
   "source": [
    "if not dataset_downloaded:\n",
    "    ! 7z x train.tsv.7z\n",
    "    ! 7z x test.tsv.7z"
   ]
  },
  {
   "cell_type": "code",
   "execution_count": 10,
   "metadata": {
    "colab": {
     "base_uri": "https://localhost:8080/"
    },
    "id": "rbwBGoI1VplX",
    "outputId": "cb4e2a9b-5d85-4bdb-f302-6e07ea367ec3"
   },
   "outputs": [
    {
     "data": {
      "text/plain": [
       "['sample_submission.csv.7z',\n",
       " 'MercariPrice.ipynb',\n",
       " 'train.tsv',\n",
       " 'requirements.txt',\n",
       " 'venv',\n",
       " 'test.tsv.7z',\n",
       " 'mercari-price-suggestion-challenge.zip',\n",
       " 'Readme.md',\n",
       " '.gitignore',\n",
       " 'dataset_downloaded.ignore',\n",
       " 'train.tsv.7z',\n",
       " '.ipynb_checkpoints',\n",
       " 'test.tsv',\n",
       " 'test_stg2.tsv.zip',\n",
       " 'sample_submission_stg2.csv.zip',\n",
       " '.git']"
      ]
     },
     "execution_count": 10,
     "metadata": {},
     "output_type": "execute_result"
    }
   ],
   "source": [
    "os.listdir()"
   ]
  },
  {
   "cell_type": "markdown",
   "metadata": {},
   "source": [
    "## Load dataset"
   ]
  },
  {
   "cell_type": "code",
   "execution_count": 46,
   "metadata": {
    "colab": {
     "base_uri": "https://localhost:8080/",
     "height": 665
    },
    "id": "j5Vg17INU00x",
    "outputId": "f1133ee2-63a2-442f-b9d7-188602b66411"
   },
   "outputs": [
    {
     "data": {
      "text/html": [
       "<div>\n",
       "<style scoped>\n",
       "    .dataframe tbody tr th:only-of-type {\n",
       "        vertical-align: middle;\n",
       "    }\n",
       "\n",
       "    .dataframe tbody tr th {\n",
       "        vertical-align: top;\n",
       "    }\n",
       "\n",
       "    .dataframe thead th {\n",
       "        text-align: right;\n",
       "    }\n",
       "</style>\n",
       "<table border=\"1\" class=\"dataframe\">\n",
       "  <thead>\n",
       "    <tr style=\"text-align: right;\">\n",
       "      <th></th>\n",
       "      <th>name</th>\n",
       "      <th>item_condition_id</th>\n",
       "      <th>category_name</th>\n",
       "      <th>brand_name</th>\n",
       "      <th>price</th>\n",
       "      <th>shipping</th>\n",
       "      <th>item_description</th>\n",
       "    </tr>\n",
       "  </thead>\n",
       "  <tbody>\n",
       "    <tr>\n",
       "      <th>0</th>\n",
       "      <td>MLB Cincinnati Reds T Shirt Size XL</td>\n",
       "      <td>3</td>\n",
       "      <td>Men/Tops/T-shirts</td>\n",
       "      <td>&lt;NA&gt;</td>\n",
       "      <td>10.0</td>\n",
       "      <td>True</td>\n",
       "      <td>No description yet</td>\n",
       "    </tr>\n",
       "    <tr>\n",
       "      <th>1</th>\n",
       "      <td>Razer BlackWidow Chroma Keyboard</td>\n",
       "      <td>3</td>\n",
       "      <td>Electronics/Computers &amp; Tablets/Components &amp; P...</td>\n",
       "      <td>Razer</td>\n",
       "      <td>52.0</td>\n",
       "      <td>False</td>\n",
       "      <td>This keyboard is in great condition and works ...</td>\n",
       "    </tr>\n",
       "    <tr>\n",
       "      <th>2</th>\n",
       "      <td>AVA-VIV Blouse</td>\n",
       "      <td>1</td>\n",
       "      <td>Women/Tops &amp; Blouses/Blouse</td>\n",
       "      <td>Target</td>\n",
       "      <td>10.0</td>\n",
       "      <td>True</td>\n",
       "      <td>Adorable top with a hint of lace and a key hol...</td>\n",
       "    </tr>\n",
       "    <tr>\n",
       "      <th>3</th>\n",
       "      <td>Leather Horse Statues</td>\n",
       "      <td>1</td>\n",
       "      <td>Home/Home Décor/Home Décor Accents</td>\n",
       "      <td>&lt;NA&gt;</td>\n",
       "      <td>35.0</td>\n",
       "      <td>True</td>\n",
       "      <td>New with tags. Leather horses. Retail for [rm]...</td>\n",
       "    </tr>\n",
       "    <tr>\n",
       "      <th>4</th>\n",
       "      <td>24K GOLD plated rose</td>\n",
       "      <td>1</td>\n",
       "      <td>Women/Jewelry/Necklaces</td>\n",
       "      <td>&lt;NA&gt;</td>\n",
       "      <td>44.0</td>\n",
       "      <td>False</td>\n",
       "      <td>Complete with certificate of authenticity</td>\n",
       "    </tr>\n",
       "    <tr>\n",
       "      <th>...</th>\n",
       "      <td>...</td>\n",
       "      <td>...</td>\n",
       "      <td>...</td>\n",
       "      <td>...</td>\n",
       "      <td>...</td>\n",
       "      <td>...</td>\n",
       "      <td>...</td>\n",
       "    </tr>\n",
       "    <tr>\n",
       "      <th>1482530</th>\n",
       "      <td>Free People Inspired Dress</td>\n",
       "      <td>2</td>\n",
       "      <td>Women/Dresses/Mid-Calf</td>\n",
       "      <td>Free People</td>\n",
       "      <td>20.0</td>\n",
       "      <td>True</td>\n",
       "      <td>Lace, says size small but fits medium perfectl...</td>\n",
       "    </tr>\n",
       "    <tr>\n",
       "      <th>1482531</th>\n",
       "      <td>Little mermaid handmade dress</td>\n",
       "      <td>2</td>\n",
       "      <td>Kids/Girls 2T-5T/Dresses</td>\n",
       "      <td>Disney</td>\n",
       "      <td>14.0</td>\n",
       "      <td>False</td>\n",
       "      <td>Little mermaid handmade dress never worn size 2t</td>\n",
       "    </tr>\n",
       "    <tr>\n",
       "      <th>1482532</th>\n",
       "      <td>21 day fix containers and eating plan</td>\n",
       "      <td>2</td>\n",
       "      <td>Sports &amp; Outdoors/Exercise/Fitness accessories</td>\n",
       "      <td>&lt;NA&gt;</td>\n",
       "      <td>12.0</td>\n",
       "      <td>False</td>\n",
       "      <td>Used once or twice, still in great shape.</td>\n",
       "    </tr>\n",
       "    <tr>\n",
       "      <th>1482533</th>\n",
       "      <td>World markets lanterns</td>\n",
       "      <td>3</td>\n",
       "      <td>Home/Home Décor/Home Décor Accents</td>\n",
       "      <td>&lt;NA&gt;</td>\n",
       "      <td>45.0</td>\n",
       "      <td>True</td>\n",
       "      <td>There is 2 of each one that you see! So 2 red ...</td>\n",
       "    </tr>\n",
       "    <tr>\n",
       "      <th>1482534</th>\n",
       "      <td>Brand new lux de ville wallet</td>\n",
       "      <td>1</td>\n",
       "      <td>Women/Women's Accessories/Wallets</td>\n",
       "      <td>&lt;NA&gt;</td>\n",
       "      <td>22.0</td>\n",
       "      <td>False</td>\n",
       "      <td>New with tag, red with sparkle. Firm price, no...</td>\n",
       "    </tr>\n",
       "  </tbody>\n",
       "</table>\n",
       "<p>1482535 rows × 7 columns</p>\n",
       "</div>"
      ],
      "text/plain": [
       "                                          name  item_condition_id  \\\n",
       "0          MLB Cincinnati Reds T Shirt Size XL                  3   \n",
       "1             Razer BlackWidow Chroma Keyboard                  3   \n",
       "2                               AVA-VIV Blouse                  1   \n",
       "3                        Leather Horse Statues                  1   \n",
       "4                         24K GOLD plated rose                  1   \n",
       "...                                        ...                ...   \n",
       "1482530             Free People Inspired Dress                  2   \n",
       "1482531          Little mermaid handmade dress                  2   \n",
       "1482532  21 day fix containers and eating plan                  2   \n",
       "1482533                 World markets lanterns                  3   \n",
       "1482534          Brand new lux de ville wallet                  1   \n",
       "\n",
       "                                             category_name   brand_name  \\\n",
       "0                                        Men/Tops/T-shirts         <NA>   \n",
       "1        Electronics/Computers & Tablets/Components & P...        Razer   \n",
       "2                              Women/Tops & Blouses/Blouse       Target   \n",
       "3                       Home/Home Décor/Home Décor Accents         <NA>   \n",
       "4                                  Women/Jewelry/Necklaces         <NA>   \n",
       "...                                                    ...          ...   \n",
       "1482530                             Women/Dresses/Mid-Calf  Free People   \n",
       "1482531                           Kids/Girls 2T-5T/Dresses       Disney   \n",
       "1482532     Sports & Outdoors/Exercise/Fitness accessories         <NA>   \n",
       "1482533                 Home/Home Décor/Home Décor Accents         <NA>   \n",
       "1482534                  Women/Women's Accessories/Wallets         <NA>   \n",
       "\n",
       "         price  shipping                                   item_description  \n",
       "0         10.0      True                                 No description yet  \n",
       "1         52.0     False  This keyboard is in great condition and works ...  \n",
       "2         10.0      True  Adorable top with a hint of lace and a key hol...  \n",
       "3         35.0      True  New with tags. Leather horses. Retail for [rm]...  \n",
       "4         44.0     False          Complete with certificate of authenticity  \n",
       "...        ...       ...                                                ...  \n",
       "1482530   20.0      True  Lace, says size small but fits medium perfectl...  \n",
       "1482531   14.0     False   Little mermaid handmade dress never worn size 2t  \n",
       "1482532   12.0     False          Used once or twice, still in great shape.  \n",
       "1482533   45.0      True  There is 2 of each one that you see! So 2 red ...  \n",
       "1482534   22.0     False  New with tag, red with sparkle. Firm price, no...  \n",
       "\n",
       "[1482535 rows x 7 columns]"
      ]
     },
     "execution_count": 46,
     "metadata": {},
     "output_type": "execute_result"
    }
   ],
   "source": [
    "dtypes={\n",
    "    'name': 'string',\n",
    "    'item_condition_id': 'byte',\n",
    "    'category_name': 'string',\n",
    "    'brand_name': 'string',\n",
    "    'price': 'float',\n",
    "    'shipping': 'boolean',\n",
    "    'item_description': 'string'\n",
    "}\n",
    "data = pd.read_csv(\"train.tsv\", sep='\\t', dtype=dtypes)\n",
    "data = data.drop(columns=[\"train_id\"])\n",
    "data"
   ]
  },
  {
   "cell_type": "code",
   "execution_count": 47,
   "metadata": {
    "colab": {
     "base_uri": "https://localhost:8080/"
    },
    "id": "DmtH5d_GU00z",
    "outputId": "20065221-82dd-4596-979a-190cdad273b5"
   },
   "outputs": [
    {
     "data": {
      "text/plain": [
       "name                  string\n",
       "item_condition_id       int8\n",
       "category_name         string\n",
       "brand_name            string\n",
       "price                float64\n",
       "shipping             boolean\n",
       "item_description      string\n",
       "dtype: object"
      ]
     },
     "execution_count": 47,
     "metadata": {},
     "output_type": "execute_result"
    }
   ],
   "source": [
    "data.dtypes"
   ]
  },
  {
   "cell_type": "code",
   "execution_count": 48,
   "metadata": {
    "colab": {
     "base_uri": "https://localhost:8080/"
    },
    "id": "9TY3K5euCtuA",
    "outputId": "ce50ddaa-8d06-4f74-c4b3-edae3665c58e"
   },
   "outputs": [
    {
     "data": {
      "text/plain": [
       "(1482535, 7)"
      ]
     },
     "execution_count": 48,
     "metadata": {},
     "output_type": "execute_result"
    }
   ],
   "source": [
    "data.shape"
   ]
  },
  {
   "cell_type": "code",
   "execution_count": 49,
   "metadata": {
    "colab": {
     "base_uri": "https://localhost:8080/"
    },
    "id": "rvujMFFXCxL8",
    "outputId": "b4125c9b-48b9-42fd-f6f9-20fe8c324c4c"
   },
   "outputs": [
    {
     "name": "stdout",
     "output_type": "stream",
     "text": [
      "number of null value in name : 0\n",
      "number of null value in item_condition_id : 0\n",
      "number of null value in category_name : 6327\n",
      "number of null value in brand_name : 632682\n",
      "number of null value in price : 0\n",
      "number of null value in shipping : 0\n",
      "number of null value in item_description : 4\n"
     ]
    }
   ],
   "source": [
    "for column in data.columns:\n",
    "    print(\"number of null value in {} : {}\".format(column,data[column].isnull().sum()))"
   ]
  },
  {
   "cell_type": "code",
   "execution_count": 50,
   "metadata": {
    "colab": {
     "base_uri": "https://localhost:8080/"
    },
    "id": "jUBsIEJqC0cg",
    "outputId": "a1d6941c-37fa-4996-c76b-8018f11a9251"
   },
   "outputs": [
    {
     "name": "stderr",
     "output_type": "stream",
     "text": [
      "<ipython-input-50-73e1feea4d04>:2: SettingWithCopyWarning: \n",
      "A value is trying to be set on a copy of a slice from a DataFrame.\n",
      "Try using .loc[row_indexer,col_indexer] = value instead\n",
      "\n",
      "See the caveats in the documentation: https://pandas.pydata.org/pandas-docs/stable/user_guide/indexing.html#returning-a-view-versus-a-copy\n",
      "  data[\"brand_name\"] = data[\"brand_name\"].fillna(value=\"NA\")\n",
      "<ipython-input-50-73e1feea4d04>:3: SettingWithCopyWarning: \n",
      "A value is trying to be set on a copy of a slice from a DataFrame.\n",
      "Try using .loc[row_indexer,col_indexer] = value instead\n",
      "\n",
      "See the caveats in the documentation: https://pandas.pydata.org/pandas-docs/stable/user_guide/indexing.html#returning-a-view-versus-a-copy\n",
      "  data[\"category_name\"] = data[\"category_name\"].fillna(value=\"NA\")\n"
     ]
    },
    {
     "data": {
      "text/plain": [
       "(1482531, 7)"
      ]
     },
     "execution_count": 50,
     "metadata": {},
     "output_type": "execute_result"
    }
   ],
   "source": [
    "data = data[data[\"item_description\"].notna()]\n",
    "data[\"brand_name\"] = data[\"brand_name\"].fillna(value=\"NA\")\n",
    "data[\"category_name\"] = data[\"category_name\"].fillna(value=\"NA\")\n",
    "# see warnings -> inplace?\n",
    "data.shape"
   ]
  },
  {
   "cell_type": "code",
   "execution_count": 51,
   "metadata": {},
   "outputs": [],
   "source": [
    "def flat_list(l):\n",
    "    return  [item for sublist in l for item in sublist]\n",
    "\n",
    "\n",
    "def plot_common_tokens(tokens, title, n=20):\n",
    "    sentences = (list(itertools.chain(tokens)))\n",
    "    flat_sentences = flat_list(sentences)\n",
    "    counts = Counter(flat_sentences)\n",
    "    #print(counts.most_common(30))\n",
    "    common_words = [word[0] for word in counts.most_common(n)]\n",
    "    common_counts = [word[1] for word in counts.most_common(n)]\n",
    "    fig = plt.figure(figsize=(18,6))\n",
    "    sns.barplot(x=common_words, y=common_counts)\n",
    "    plt.title(title)\n",
    "    plt.show()\n"
   ]
  },
  {
   "cell_type": "code",
   "execution_count": 52,
   "metadata": {
    "scrolled": true
   },
   "outputs": [],
   "source": [
    "#plot_common_tokens(data[\"item_description_tokens\"], \"Most Common Tokens from Descriptions\")"
   ]
  },
  {
   "cell_type": "code",
   "execution_count": 53,
   "metadata": {},
   "outputs": [],
   "source": [
    "X = data[['name', 'item_condition_id', 'category_name', 'brand_name',\n",
    "       'shipping','item_description']]\n",
    "y = data['price']"
   ]
  },
  {
   "cell_type": "code",
   "execution_count": 54,
   "metadata": {},
   "outputs": [],
   "source": [
    "X_train, X_test, y_train, y_test = train_test_split(X, y, test_size=0.25, random_state=1000)\n",
    "X_train, X_validation, y_train, y_validation = train_test_split(X_train, y_train, test_size=0.2, random_state=1000)"
   ]
  },
  {
   "cell_type": "code",
   "execution_count": 24,
   "metadata": {},
   "outputs": [],
   "source": [
    "def getTokens(data, tokenizer=None, dataFit=None, num_words=5000):\n",
    "    if dataFit is None:\n",
    "        dataFit = data\n",
    "        \n",
    "    if tokenizer is None:\n",
    "        tokenizer = Tokenizer(num_words=num_words)\n",
    "        tokenizer.fit_on_texts(dataFit)\n",
    "    \n",
    "    tokens = tokenizer.texts_to_sequences(data)\n",
    "    return tokens, tokenizer"
   ]
  },
  {
   "cell_type": "code",
   "execution_count": 27,
   "metadata": {},
   "outputs": [],
   "source": [
    "tokenizers = {}"
   ]
  },
  {
   "cell_type": "code",
   "execution_count": 127,
   "metadata": {},
   "outputs": [],
   "source": [
    "X_train[\"item_description_t\"], tokenizers[\"item_description\"] = getTokens(X_train[\"item_description\"])\n",
    "X_train[\"name_t\"], tokenizers[\"name\"] = getTokens(X_train[\"name\"])\n",
    "#X_train[\"brand_name_t\"], tokenizers[\"brand_name\"] = getTokens(X_train[\"brand_name\"])\n",
    "#X_train[\"category_name_t\"], tokenizers[\"category_name\"] = getTokens(X_train[\"category_name\"])"
   ]
  },
  {
   "cell_type": "code",
   "execution_count": 128,
   "metadata": {},
   "outputs": [
    {
     "data": {
      "text/plain": [
       "{'item_description': <keras_preprocessing.text.Tokenizer at 0x7f3ee941d820>,\n",
       " 'name': <keras_preprocessing.text.Tokenizer at 0x7f3f9869a8e0>,\n",
       " 'brand_name': <keras_preprocessing.text.Tokenizer at 0x7f3f986a9190>,\n",
       " 'category_name': <keras_preprocessing.text.Tokenizer at 0x7f3f0fd0adc0>}"
      ]
     },
     "execution_count": 128,
     "metadata": {},
     "output_type": "execute_result"
    }
   ],
   "source": [
    "tokenizers"
   ]
  },
  {
   "cell_type": "code",
   "execution_count": 129,
   "metadata": {},
   "outputs": [
    {
     "data": {
      "text/plain": [
       "995196     [6, 5, 144, 279, 173, 979, 84, 135, 173, 657, ...\n",
       "28823      [685, 1020, 340, 78, 306, 50, 6, 281, 90, 2526...\n",
       "661855     [27, 17, 136, 170, 194, 1102, 613, 188, 759, 6...\n",
       "733730     [5, 444, 1202, 99, 16, 86, 177, 16, 12, 165, 1...\n",
       "807837     [27, 106, 497, 11, 435, 117, 235, 4571, 682, 2...\n",
       "                                 ...                        \n",
       "371719                              [9, 83, 232, 35, 32, 26]\n",
       "1311257    [3867, 3867, 2095, 23, 3, 146, 3928, 2, 1827, ...\n",
       "404942                     [6, 49, 540, 167, 41, 1340, 1878]\n",
       "242521     [200, 128, 69, 2977, 124, 234, 362, 96, 133, 9...\n",
       "371320     [2, 1450, 761, 2116, 5, 10, 3, 153, 494, 494, ...\n",
       "Name: item_description_t, Length: 889518, dtype: object"
      ]
     },
     "execution_count": 129,
     "metadata": {},
     "output_type": "execute_result"
    }
   ],
   "source": [
    "X_train[\"item_description_t\"]"
   ]
  },
  {
   "cell_type": "code",
   "execution_count": 98,
   "metadata": {},
   "outputs": [
    {
     "data": {
      "text/plain": [
       "LabelEncoder()"
      ]
     },
     "execution_count": 98,
     "metadata": {},
     "output_type": "execute_result"
    }
   ],
   "source": []
  },
  {
   "cell_type": "code",
   "execution_count": 102,
   "metadata": {},
   "outputs": [],
   "source": [
    "cat_le = preprocessing.LabelEncoder()\n",
    "cat_le.fit(X_train[\"category_name\"])\n",
    "\n",
    "X_train[\"category_name_l\"] = cat_le.transform(X_train[\"category_name\"])"
   ]
  },
  {
   "cell_type": "code",
   "execution_count": 105,
   "metadata": {},
   "outputs": [],
   "source": [
    "brand_le = preprocessing.LabelEncoder()\n",
    "brand_le.fit(X_train[\"brand_name\"])\n",
    "\n",
    "X_train[\"brand_name_l\"] = brand_le.transform(X_train[\"brand_name\"])"
   ]
  },
  {
   "cell_type": "code",
   "execution_count": 57,
   "metadata": {},
   "outputs": [
    {
     "data": {
      "text/plain": [
       "158136"
      ]
     },
     "execution_count": 57,
     "metadata": {},
     "output_type": "execute_result"
    }
   ],
   "source": [
    "len(tokenizers[\"item_description\"].word_index)"
   ]
  },
  {
   "cell_type": "code",
   "execution_count": 106,
   "metadata": {},
   "outputs": [],
   "source": [
    "# unknown values !!! now -> crash"
   ]
  },
  {
   "cell_type": "code",
   "execution_count": 36,
   "metadata": {},
   "outputs": [
    {
     "data": {
      "text/plain": [
       "name      PINK❤️warm and cozy mist/lotion set\n",
       "name_t                [9, 1995, 431, 288, 17]\n",
       "Name: 995196, dtype: object"
      ]
     },
     "execution_count": 36,
     "metadata": {},
     "output_type": "execute_result"
    }
   ],
   "source": [
    "X_train.loc[995196, [\"name\", \"name_t\"]]"
   ]
  },
  {
   "cell_type": "code",
   "execution_count": 111,
   "metadata": {},
   "outputs": [
    {
     "data": {
      "text/html": [
       "<div>\n",
       "<style scoped>\n",
       "    .dataframe tbody tr th:only-of-type {\n",
       "        vertical-align: middle;\n",
       "    }\n",
       "\n",
       "    .dataframe tbody tr th {\n",
       "        vertical-align: top;\n",
       "    }\n",
       "\n",
       "    .dataframe thead th {\n",
       "        text-align: right;\n",
       "    }\n",
       "</style>\n",
       "<table border=\"1\" class=\"dataframe\">\n",
       "  <thead>\n",
       "    <tr style=\"text-align: right;\">\n",
       "      <th></th>\n",
       "      <th>name</th>\n",
       "      <th>item_condition_id</th>\n",
       "      <th>category_name</th>\n",
       "      <th>brand_name</th>\n",
       "      <th>shipping</th>\n",
       "      <th>item_description</th>\n",
       "      <th>item_description_t</th>\n",
       "      <th>name_t</th>\n",
       "      <th>category_name_l</th>\n",
       "      <th>brand_name_l</th>\n",
       "    </tr>\n",
       "  </thead>\n",
       "  <tbody>\n",
       "    <tr>\n",
       "      <th>995196</th>\n",
       "      <td>PINK❤️warm and cozy mist/lotion set</td>\n",
       "      <td>1</td>\n",
       "      <td>Beauty/Fragrance/Women</td>\n",
       "      <td>Victoria's Secret</td>\n",
       "      <td>False</td>\n",
       "      <td>New in original packaging -Body mist 250ml/8.4...</td>\n",
       "      <td>[6, 5, 144, 279, 173, 979, 84, 135, 173, 657, ...</td>\n",
       "      <td>[9, 1995, 431, 288, 17]</td>\n",
       "      <td>11</td>\n",
       "      <td>3885</td>\n",
       "    </tr>\n",
       "    <tr>\n",
       "      <th>28823</th>\n",
       "      <td>18 min vest</td>\n",
       "      <td>3</td>\n",
       "      <td>Kids/Girls 0-24 Mos/One-Pieces</td>\n",
       "      <td>NA</td>\n",
       "      <td>True</td>\n",
       "      <td>Faux fur zipper up best like new Purchased at ...</td>\n",
       "      <td>[685, 1020, 340, 78, 306, 50, 6, 281, 90, 2526...</td>\n",
       "      <td>[234, 276]</td>\n",
       "      <td>596</td>\n",
       "      <td>2585</td>\n",
       "    </tr>\n",
       "    <tr>\n",
       "      <th>661855</th>\n",
       "      <td>Artsy stylish leather purse &amp; pouch</td>\n",
       "      <td>3</td>\n",
       "      <td>Handmade/Bags and Purses/Purse</td>\n",
       "      <td>NA</td>\n",
       "      <td>False</td>\n",
       "      <td>Used condition cowhide high quality leather!! ...</td>\n",
       "      <td>[27, 17, 136, 170, 194, 1102, 613, 188, 759, 6...</td>\n",
       "      <td>[3172, 118, 83, 922]</td>\n",
       "      <td>157</td>\n",
       "      <td>2585</td>\n",
       "    </tr>\n",
       "    <tr>\n",
       "      <th>733730</th>\n",
       "      <td>Decor pillows</td>\n",
       "      <td>2</td>\n",
       "      <td>Home/Home Décor/Decorative Pillows</td>\n",
       "      <td>NA</td>\n",
       "      <td>False</td>\n",
       "      <td>In mint conditions Smoke free home Pet free No...</td>\n",
       "      <td>[5, 444, 1202, 99, 16, 86, 177, 16, 12, 165, 1...</td>\n",
       "      <td>[599, 2390]</td>\n",
       "      <td>453</td>\n",
       "      <td>2585</td>\n",
       "    </tr>\n",
       "    <tr>\n",
       "      <th>807837</th>\n",
       "      <td>IF NOT SOLD DONATING 2/6</td>\n",
       "      <td>4</td>\n",
       "      <td>Men/Shoes/Outdoor</td>\n",
       "      <td>Oakley</td>\n",
       "      <td>False</td>\n",
       "      <td>Used still lots of life...see pictures...Oakle...</td>\n",
       "      <td>[27, 106, 497, 11, 435, 117, 235, 4571, 682, 2...</td>\n",
       "      <td>[4155, 630, 1029, 11, 20]</td>\n",
       "      <td>733</td>\n",
       "      <td>2714</td>\n",
       "    </tr>\n",
       "  </tbody>\n",
       "</table>\n",
       "</div>"
      ],
      "text/plain": [
       "                                       name  item_condition_id  \\\n",
       "995196  PINK❤️warm and cozy mist/lotion set                  1   \n",
       "28823                           18 min vest                  3   \n",
       "661855  Artsy stylish leather purse & pouch                  3   \n",
       "733730                        Decor pillows                  2   \n",
       "807837             IF NOT SOLD DONATING 2/6                  4   \n",
       "\n",
       "                             category_name         brand_name  shipping  \\\n",
       "995196              Beauty/Fragrance/Women  Victoria's Secret     False   \n",
       "28823       Kids/Girls 0-24 Mos/One-Pieces                 NA      True   \n",
       "661855      Handmade/Bags and Purses/Purse                 NA     False   \n",
       "733730  Home/Home Décor/Decorative Pillows                 NA     False   \n",
       "807837                   Men/Shoes/Outdoor             Oakley     False   \n",
       "\n",
       "                                         item_description  \\\n",
       "995196  New in original packaging -Body mist 250ml/8.4...   \n",
       "28823   Faux fur zipper up best like new Purchased at ...   \n",
       "661855  Used condition cowhide high quality leather!! ...   \n",
       "733730  In mint conditions Smoke free home Pet free No...   \n",
       "807837  Used still lots of life...see pictures...Oakle...   \n",
       "\n",
       "                                       item_description_t  \\\n",
       "995196  [6, 5, 144, 279, 173, 979, 84, 135, 173, 657, ...   \n",
       "28823   [685, 1020, 340, 78, 306, 50, 6, 281, 90, 2526...   \n",
       "661855  [27, 17, 136, 170, 194, 1102, 613, 188, 759, 6...   \n",
       "733730  [5, 444, 1202, 99, 16, 86, 177, 16, 12, 165, 1...   \n",
       "807837  [27, 106, 497, 11, 435, 117, 235, 4571, 682, 2...   \n",
       "\n",
       "                           name_t  category_name_l  brand_name_l  \n",
       "995196    [9, 1995, 431, 288, 17]               11          3885  \n",
       "28823                  [234, 276]              596          2585  \n",
       "661855       [3172, 118, 83, 922]              157          2585  \n",
       "733730                [599, 2390]              453          2585  \n",
       "807837  [4155, 630, 1029, 11, 20]              733          2714  "
      ]
     },
     "execution_count": 111,
     "metadata": {},
     "output_type": "execute_result"
    }
   ],
   "source": [
    "X_train.head()"
   ]
  },
  {
   "cell_type": "code",
   "execution_count": 116,
   "metadata": {
    "colab": {
     "base_uri": "https://localhost:8080/"
    },
    "id": "5W0A95PQEDb_",
    "outputId": "89c64f8e-9f13-4925-99dc-deb120a2b33b"
   },
   "outputs": [
    {
     "name": "stdout",
     "output_type": "stream",
     "text": [
      "158137\n",
      "88696\n"
     ]
    }
   ],
   "source": [
    "desc_vocab_size = len(tokenizers['item_description'].word_index) + 1\n",
    "print(desc_vocab_size)\n",
    "\n",
    "name_vocab_size = len(tokenizers['name'].word_index) + 1\n",
    "print(name_vocab_size)"
   ]
  },
  {
   "cell_type": "code",
   "execution_count": 119,
   "metadata": {},
   "outputs": [
    {
     "data": {
      "text/plain": [
       "995196     [6, 5, 144, 279, 173, 979, 84, 135, 173, 657, ...\n",
       "28823      [685, 1020, 340, 78, 306, 50, 6, 281, 90, 2526...\n",
       "661855     [27, 17, 136, 170, 194, 1102, 613, 188, 759, 6...\n",
       "733730     [5, 444, 1202, 99, 16, 86, 177, 16, 12, 165, 1...\n",
       "807837     [27, 106, 497, 11, 435, 117, 235, 4571, 682, 2...\n",
       "                                 ...                        \n",
       "371719                              [9, 83, 232, 35, 32, 26]\n",
       "1311257    [3867, 3867, 2095, 23, 3, 146, 3928, 2, 1827, ...\n",
       "404942                     [6, 49, 540, 167, 41, 1340, 1878]\n",
       "242521     [200, 128, 69, 2977, 124, 234, 362, 96, 133, 9...\n",
       "371320     [2, 1450, 761, 2116, 5, 10, 3, 153, 494, 494, ...\n",
       "Name: item_description_t, Length: 889518, dtype: object"
      ]
     },
     "execution_count": 119,
     "metadata": {},
     "output_type": "execute_result"
    }
   ],
   "source": [
    "X_train[\"item_description_t\"]"
   ]
  },
  {
   "cell_type": "code",
   "execution_count": 140,
   "metadata": {},
   "outputs": [],
   "source": [
    "test = X_train[\"item_description_t\"]\n",
    "padded = pad_sequences(test, padding='post', maxlen=20)"
   ]
  },
  {
   "cell_type": "code",
   "execution_count": 246,
   "metadata": {
    "colab": {
     "base_uri": "https://localhost:8080/"
    },
    "id": "Y40ov-ULHtla",
    "outputId": "93d701d0-0a30-4f27-d1bf-73179ef281d9"
   },
   "outputs": [],
   "source": [
    "\n",
    "maxlen = 100\n",
    "\n",
    "inputDesc_train= pad_sequences(X_train[\"item_description_t\"],\n",
    "                                                  padding='post', maxlen=maxlen)"
   ]
  },
  {
   "cell_type": "code",
   "execution_count": 247,
   "metadata": {},
   "outputs": [],
   "source": [
    "inputName_train = pad_sequences(X_train[\"name_t\"], padding='post', maxlen=20)"
   ]
  },
  {
   "cell_type": "code",
   "execution_count": 164,
   "metadata": {
    "id": "SLcxUX3ESGDo"
   },
   "outputs": [],
   "source": [
    "import tensorflow.keras.backend as K\n",
    "msle = tf.keras.losses.MeanSquaredLogarithmicError()\n",
    "\n",
    "def root_mean_squared_logarithmic_error(y_true, y_pred):\n",
    "    return K.sqrt(msle(y_true, y_pred))\n"
   ]
  },
  {
   "cell_type": "code",
   "execution_count": 198,
   "metadata": {},
   "outputs": [
    {
     "data": {
      "text/plain": [
       "995196      24.0\n",
       "28823       13.0\n",
       "661855     126.0\n",
       "733730      12.0\n",
       "807837      13.0\n",
       "           ...  \n",
       "371719      24.0\n",
       "1311257     10.0\n",
       "404942      10.0\n",
       "242521      23.0\n",
       "371320       8.0\n",
       "Name: price, Length: 889518, dtype: float64"
      ]
     },
     "execution_count": 198,
     "metadata": {},
     "output_type": "execute_result"
    }
   ],
   "source": [
    "y_train"
   ]
  },
  {
   "cell_type": "code",
   "execution_count": 175,
   "metadata": {},
   "outputs": [],
   "source": [
    "from tensorflow.keras.layers import Dense, Input, Embedding, Concatenate, Flatten\n",
    "from tensorflow.keras.models import Model"
   ]
  },
  {
   "cell_type": "code",
   "execution_count": 173,
   "metadata": {},
   "outputs": [
    {
     "data": {
      "text/plain": [
       "158137"
      ]
     },
     "execution_count": 173,
     "metadata": {},
     "output_type": "execute_result"
    }
   ],
   "source": [
    "desc_vocab_size"
   ]
  },
  {
   "cell_type": "code",
   "execution_count": 255,
   "metadata": {},
   "outputs": [
    {
     "data": {
      "text/html": [
       "<div>\n",
       "<style scoped>\n",
       "    .dataframe tbody tr th:only-of-type {\n",
       "        vertical-align: middle;\n",
       "    }\n",
       "\n",
       "    .dataframe tbody tr th {\n",
       "        vertical-align: top;\n",
       "    }\n",
       "\n",
       "    .dataframe thead th {\n",
       "        text-align: right;\n",
       "    }\n",
       "</style>\n",
       "<table border=\"1\" class=\"dataframe\">\n",
       "  <thead>\n",
       "    <tr style=\"text-align: right;\">\n",
       "      <th></th>\n",
       "      <th>item_condition_id</th>\n",
       "      <th>category_name_l</th>\n",
       "      <th>brand_name_l</th>\n",
       "      <th>shipping</th>\n",
       "    </tr>\n",
       "  </thead>\n",
       "  <tbody>\n",
       "    <tr>\n",
       "      <th>995196</th>\n",
       "      <td>1</td>\n",
       "      <td>11</td>\n",
       "      <td>3885</td>\n",
       "      <td>False</td>\n",
       "    </tr>\n",
       "    <tr>\n",
       "      <th>28823</th>\n",
       "      <td>3</td>\n",
       "      <td>596</td>\n",
       "      <td>2585</td>\n",
       "      <td>True</td>\n",
       "    </tr>\n",
       "    <tr>\n",
       "      <th>661855</th>\n",
       "      <td>3</td>\n",
       "      <td>157</td>\n",
       "      <td>2585</td>\n",
       "      <td>False</td>\n",
       "    </tr>\n",
       "    <tr>\n",
       "      <th>733730</th>\n",
       "      <td>2</td>\n",
       "      <td>453</td>\n",
       "      <td>2585</td>\n",
       "      <td>False</td>\n",
       "    </tr>\n",
       "    <tr>\n",
       "      <th>807837</th>\n",
       "      <td>4</td>\n",
       "      <td>733</td>\n",
       "      <td>2714</td>\n",
       "      <td>False</td>\n",
       "    </tr>\n",
       "    <tr>\n",
       "      <th>...</th>\n",
       "      <td>...</td>\n",
       "      <td>...</td>\n",
       "      <td>...</td>\n",
       "      <td>...</td>\n",
       "    </tr>\n",
       "    <tr>\n",
       "      <th>371719</th>\n",
       "      <td>2</td>\n",
       "      <td>699</td>\n",
       "      <td>2180</td>\n",
       "      <td>False</td>\n",
       "    </tr>\n",
       "    <tr>\n",
       "      <th>1311257</th>\n",
       "      <td>1</td>\n",
       "      <td>652</td>\n",
       "      <td>1705</td>\n",
       "      <td>False</td>\n",
       "    </tr>\n",
       "    <tr>\n",
       "      <th>404942</th>\n",
       "      <td>1</td>\n",
       "      <td>28</td>\n",
       "      <td>2585</td>\n",
       "      <td>False</td>\n",
       "    </tr>\n",
       "    <tr>\n",
       "      <th>242521</th>\n",
       "      <td>2</td>\n",
       "      <td>1217</td>\n",
       "      <td>3885</td>\n",
       "      <td>True</td>\n",
       "    </tr>\n",
       "    <tr>\n",
       "      <th>371320</th>\n",
       "      <td>1</td>\n",
       "      <td>33</td>\n",
       "      <td>2585</td>\n",
       "      <td>False</td>\n",
       "    </tr>\n",
       "  </tbody>\n",
       "</table>\n",
       "<p>889518 rows × 4 columns</p>\n",
       "</div>"
      ],
      "text/plain": [
       "         item_condition_id  category_name_l  brand_name_l  shipping\n",
       "995196                   1               11          3885     False\n",
       "28823                    3              596          2585      True\n",
       "661855                   3              157          2585     False\n",
       "733730                   2              453          2585     False\n",
       "807837                   4              733          2714     False\n",
       "...                    ...              ...           ...       ...\n",
       "371719                   2              699          2180     False\n",
       "1311257                  1              652          1705     False\n",
       "404942                   1               28          2585     False\n",
       "242521                   2             1217          3885      True\n",
       "371320                   1               33          2585     False\n",
       "\n",
       "[889518 rows x 4 columns]"
      ]
     },
     "execution_count": 255,
     "metadata": {},
     "output_type": "execute_result"
    }
   ],
   "source": [
    "X_train[[\"item_condition_id\", \"category_name_l\", \"brand_name_l\", \"shipping\"]]"
   ]
  },
  {
   "cell_type": "code",
   "execution_count": 184,
   "metadata": {},
   "outputs": [],
   "source": [
    "def getModel():\n",
    "    inputA = Input(shape=(4,))\n",
    "    Ad = Dense(4, activation='relu')(inputA)\n",
    "    \n",
    "    inputName = Input(shape=(20,))\n",
    "    Ne = Embedding(input_dim=name_vocab_size, output_dim=16, input_length=20)(inputName)\n",
    "    Nf = Flatten()(Ne)\n",
    "    Nd = Dense(8, activation='relu')(Nf)\n",
    "    \n",
    "    inputDesc = Input(shape=(100,))\n",
    "    De = Embedding(input_dim=desc_vocab_size, output_dim=32, input_length=100)(inputDesc)\n",
    "    Df = Flatten()(De)\n",
    "    Dd = Dense(16, activation='relu')(Df)\n",
    "    \n",
    "    concat = Concatenate()([Ad, Nd, Dd])\n",
    "    \n",
    "    x = Dense(32, activation='relu')(concat)\n",
    "    x = Dense(1, activation='linear')(x)\n",
    "    \n",
    "    model = Model(inputs=[inputA, inputName, inputDesc], outputs=x)\n",
    "    \n",
    "    return model\n",
    "    "
   ]
  },
  {
   "cell_type": "code",
   "execution_count": 186,
   "metadata": {},
   "outputs": [
    {
     "name": "stdout",
     "output_type": "stream",
     "text": [
      "Model: \"functional_3\"\n",
      "__________________________________________________________________________________________________\n",
      "Layer (type)                    Output Shape         Param #     Connected to                     \n",
      "==================================================================================================\n",
      "input_16 (InputLayer)           [(None, 20)]         0                                            \n",
      "__________________________________________________________________________________________________\n",
      "input_17 (InputLayer)           [(None, 100)]        0                                            \n",
      "__________________________________________________________________________________________________\n",
      "embedding_7 (Embedding)         (None, 20, 16)       1419136     input_16[0][0]                   \n",
      "__________________________________________________________________________________________________\n",
      "embedding_8 (Embedding)         (None, 100, 32)      5060384     input_17[0][0]                   \n",
      "__________________________________________________________________________________________________\n",
      "input_15 (InputLayer)           [(None, 4)]          0                                            \n",
      "__________________________________________________________________________________________________\n",
      "flatten_7 (Flatten)             (None, 320)          0           embedding_7[0][0]                \n",
      "__________________________________________________________________________________________________\n",
      "flatten_8 (Flatten)             (None, 3200)         0           embedding_8[0][0]                \n",
      "__________________________________________________________________________________________________\n",
      "dense_13 (Dense)                (None, 4)            20          input_15[0][0]                   \n",
      "__________________________________________________________________________________________________\n",
      "dense_14 (Dense)                (None, 8)            2568        flatten_7[0][0]                  \n",
      "__________________________________________________________________________________________________\n",
      "dense_15 (Dense)                (None, 16)           51216       flatten_8[0][0]                  \n",
      "__________________________________________________________________________________________________\n",
      "concatenate_2 (Concatenate)     (None, 28)           0           dense_13[0][0]                   \n",
      "                                                                 dense_14[0][0]                   \n",
      "                                                                 dense_15[0][0]                   \n",
      "__________________________________________________________________________________________________\n",
      "dense_16 (Dense)                (None, 32)           928         concatenate_2[0][0]              \n",
      "__________________________________________________________________________________________________\n",
      "dense_17 (Dense)                (None, 1)            33          dense_16[0][0]                   \n",
      "==================================================================================================\n",
      "Total params: 6,534,285\n",
      "Trainable params: 6,534,285\n",
      "Non-trainable params: 0\n",
      "__________________________________________________________________________________________________\n"
     ]
    }
   ],
   "source": [
    "model = getModel()\n",
    "model.summary()"
   ]
  },
  {
   "cell_type": "code",
   "execution_count": 194,
   "metadata": {
    "colab": {
     "base_uri": "https://localhost:8080/"
    },
    "id": "1-rcb1aLIHPX",
    "outputId": "afa152e0-094f-4311-9f86-5233c4acffab"
   },
   "outputs": [],
   "source": [
    "model.compile(optimizer='adam',\n",
    "              loss='mse',\n",
    "              metrics=[tf.keras.metrics.RootMeanSquaredError(), 'mean_squared_logarithmic_error', root_mean_squared_logarithmic_error])"
   ]
  },
  {
   "cell_type": "code",
   "execution_count": 267,
   "metadata": {},
   "outputs": [],
   "source": [
    "inputA_train = X_train[[\"item_condition_id\", \"category_name_l\", \"brand_name_l\", \"shipping\"]].values.astype('int32')"
   ]
  },
  {
   "cell_type": "code",
   "execution_count": 266,
   "metadata": {},
   "outputs": [
    {
     "data": {
      "text/plain": [
       "array([[   1,   11, 3885,    0],\n",
       "       [   3,  596, 2585,    1],\n",
       "       [   3,  157, 2585,    0],\n",
       "       ...,\n",
       "       [   1,   28, 2585,    0],\n",
       "       [   2, 1217, 3885,    1],\n",
       "       [   1,   33, 2585,    0]], dtype=int32)"
      ]
     },
     "execution_count": 266,
     "metadata": {},
     "output_type": "execute_result"
    }
   ],
   "source": [
    "inputA_train.astype('int32')"
   ]
  },
  {
   "cell_type": "code",
   "execution_count": null,
   "metadata": {
    "colab": {
     "base_uri": "https://localhost:8080/"
    },
    "id": "Y2m3WcI-JWcP",
    "outputId": "be101128-acfc-48f2-d343-07dfabc2591d"
   },
   "outputs": [
    {
     "name": "stdout",
     "output_type": "stream",
     "text": [
      "Epoch 1/5\n"
     ]
    }
   ],
   "source": [
    "history = model.fit(x=[inputA_train, inputName_train, inputDesc_train], y=y_train,\n",
    "                    epochs=5,\n",
    "                    verbose=True,\n",
    "                    #validation_data=(X_validation, y_validation),\n",
    "                    batch_size=256)"
   ]
  },
  {
   "cell_type": "code",
   "execution_count": null,
   "metadata": {
    "id": "qYe-41yBTDx7"
   },
   "outputs": [],
   "source": [
    "#history1= history"
   ]
  },
  {
   "cell_type": "code",
   "execution_count": null,
   "metadata": {
    "id": "AgzvCNHwJusZ"
   },
   "outputs": [],
   "source": [
    "loss, accuracy = model.evaluate(X_train, y_train, verbose=True)\n",
    "print(\"Training Accuracy: {:.4f}\".format(accuracy))\n",
    "loss, accuracy = model.evaluate(X_test, y_test, verbose=False)\n",
    "print(\"Testing Accuracy:  {:.4f}\".format(accuracy))\n",
    "plot_history(history)"
   ]
  }
 ],
 "metadata": {
  "accelerator": "GPU",
  "colab": {
   "collapsed_sections": [],
   "name": "MercariPrice.ipynb",
   "provenance": []
  },
  "kernelspec": {
   "display_name": "Python 3",
   "language": "python",
   "name": "python3"
  },
  "language_info": {
   "codemirror_mode": {
    "name": "ipython",
    "version": 3
   },
   "file_extension": ".py",
   "mimetype": "text/x-python",
   "name": "python",
   "nbconvert_exporter": "python",
   "pygments_lexer": "ipython3",
   "version": "3.8.5"
  }
 },
 "nbformat": 4,
 "nbformat_minor": 1
}
