{
  "nbformat": 4,
  "nbformat_minor": 0,
  "metadata": {
    "accelerator": "GPU",
    "colab": {
      "name": "MercariPrice.ipynb",
      "provenance": [],
      "collapsed_sections": []
    },
    "kernelspec": {
      "display_name": "Python 3",
      "language": "python",
      "name": "python3"
    },
    "language_info": {
      "codemirror_mode": {
        "name": "ipython",
        "version": 3
      },
      "file_extension": ".py",
      "mimetype": "text/x-python",
      "name": "python",
      "nbconvert_exporter": "python",
      "pygments_lexer": "ipython3",
      "version": "3.8.5"
    }
  },
  "cells": [
    {
      "cell_type": "markdown",
      "metadata": {
        "id": "M_oO4ZyYU00Y"
      },
      "source": [
        "### Mercari Price \n",
        "The files consist of a list of product listings. These files are tab-delimited.\n",
        "\n",
        "Fields:\n",
        "- train_id or test_id - the id of the listing\n",
        "\n",
        "- name - the title of the listing. Note that we have cleaned the data to remove text that look like prices (e.g. $20) to avoid  leakage. These removed prices are represented as [rm]\n",
        "\n",
        "- item_condition_id - the condition of the items provided by the seller\n",
        "\n",
        "- category_name - category of the listing\n",
        "\n",
        "- brand_name\n",
        "\n",
        "- price - the price that the item was sold for. This is the target variable that you will predict. The unit is USD. This column doesn't exist in test.tsv since that is what you will predict.\n",
        "\n",
        "- shipping - 1 if shipping fee is paid by seller and 0 by buyer\n",
        "\n",
        "- item_description - the full description of the item. Note that we have cleaned the data to remove text that look like prices (e.g. $20) to avoid leakage. These removed prices are represented as [rm]"
      ]
    },
    {
      "cell_type": "code",
      "metadata": {
        "id": "XZWiRNuUU00w"
      },
      "source": [
        "import pandas as pd\n",
        "import numpy as np\n",
        "\n",
        "from nltk.tokenize import word_tokenize\n",
        "import nltk\n",
        "import tensorflow as tf\n",
        "from tensorflow import keras\n",
        "from tensorflow.keras.preprocessing.text import Tokenizer\n",
        "from tensorflow.keras.preprocessing.sequence import pad_sequences\n",
        "\n",
        "import tensorflow.keras.backend as K\n",
        "\n",
        "\n",
        "from tqdm._tqdm_notebook import tqdm_notebook\n",
        "\n",
        "import os\n",
        "import itertools\n",
        "\n",
        "import matplotlib.pyplot as plt\n",
        "import itertools\n",
        "from collections import Counter\n",
        "import seaborn as sns\n",
        "\n",
        "from sklearn.model_selection import train_test_split\n",
        "from sklearn import preprocessing\n",
        "from sklearn.preprocessing import StandardScaler\n",
        "\n",
        "from tensorflow.keras.layers import Dense, Input, Embedding, Concatenate, Flatten, Dropout\n",
        "from tensorflow.keras.models import Model\n",
        "from tensorflow.keras.utils import plot_model "
      ],
      "execution_count": 120,
      "outputs": []
    },
    {
      "cell_type": "code",
      "metadata": {
        "id": "s4RfjlP1VCjh"
      },
      "source": [
        "tqdm_notebook.pandas()"
      ],
      "execution_count": 3,
      "outputs": []
    },
    {
      "cell_type": "code",
      "metadata": {
        "colab": {
          "base_uri": "https://localhost:8080/"
        },
        "id": "sI0KxMNH4A5s",
        "outputId": "25e02f4d-317d-4aa3-bf45-0d170d88b619"
      },
      "source": [
        "! pip install pydot graphviz"
      ],
      "execution_count": 4,
      "outputs": [
        {
          "output_type": "stream",
          "text": [
            "Requirement already satisfied: pydot in /usr/local/lib/python3.6/dist-packages (1.3.0)\n",
            "Requirement already satisfied: graphviz in /usr/local/lib/python3.6/dist-packages (0.10.1)\n",
            "Requirement already satisfied: pyparsing>=2.1.4 in /usr/local/lib/python3.6/dist-packages (from pydot) (2.4.7)\n"
          ],
          "name": "stdout"
        }
      ]
    },
    {
      "cell_type": "markdown",
      "metadata": {
        "id": "5tMt4O6n3yTD"
      },
      "source": [
        "### Dataset download"
      ]
    },
    {
      "cell_type": "code",
      "metadata": {
        "colab": {
          "base_uri": "https://localhost:8080/"
        },
        "id": "oXCUW4PtU00k",
        "outputId": "fa3ac2e1-f79c-4306-fb46-c42a293fb62c"
      },
      "source": [
        "# check if in colab\n",
        "RunningInCOLAB = 'google.colab' in str(get_ipython())\n",
        "if RunningInCOLAB:\n",
        "    print(\"Running in colab\")\n",
        "    from google.colab import drive\n",
        "    drive.mount('/content/gdrive', force_remount=True)\n",
        "    colab_root = '/content/drive'\n",
        "    root_dir = \"/content/gdrive/My Drive/\"\n",
        "    base_dir = root_dir + 'project-mercari-price/'\n",
        "    if not os.path.isdir(base_dir):\n",
        "        os.mkdir(base_dir)\n",
        "else:\n",
        "    root_dir= os.getcwd()\n",
        "    base_dir = root_dir\n",
        "    \n",
        "os.chdir(base_dir)"
      ],
      "execution_count": 5,
      "outputs": [
        {
          "output_type": "stream",
          "text": [
            "Running in colab\n",
            "Mounted at /content/gdrive\n"
          ],
          "name": "stdout"
        }
      ]
    },
    {
      "cell_type": "code",
      "metadata": {
        "colab": {
          "base_uri": "https://localhost:8080/"
        },
        "id": "1JFkFCLXU00m",
        "outputId": "f552fc2b-27ad-4dea-dce4-24b518a45135"
      },
      "source": [
        "dataset_downloaded_path = os.path.join(base_dir, \"dataset_downloaded.ignore\")\n",
        "dataset_downloaded = os.path.isfile(dataset_downloaded_path)\n",
        "dataset_downloaded"
      ],
      "execution_count": 6,
      "outputs": [
        {
          "output_type": "execute_result",
          "data": {
            "text/plain": [
              "True"
            ]
          },
          "metadata": {
            "tags": []
          },
          "execution_count": 6
        }
      ]
    },
    {
      "cell_type": "code",
      "metadata": {
        "id": "24RhWXO6U00p"
      },
      "source": [
        "if not dataset_downloaded:\n",
        "  # install kaggle to download dataset\n",
        "  ! pip install kaggle python-dotenv"
      ],
      "execution_count": 7,
      "outputs": []
    },
    {
      "cell_type": "code",
      "metadata": {
        "id": "Xw0Fy7K5U00r"
      },
      "source": [
        "# set to True if you want to save kaggle credentials into a .env file\n",
        "persist_credentials = False\n",
        "\n",
        "if not dataset_downloaded:\n",
        "  # create .env file containing KAGGLE_USER and KAGGLE_KEY\n",
        "    kaggle_env = os.path.join(base_dir, '.env')\n",
        "    if not os.path.isfile(kaggle_env):\n",
        "        with open(kaggle_env, 'w') as envfile:\n",
        "            kaggle_user = input(\"Insert kaggle username\")\n",
        "            kaggle_key = input(\"Insert kaggle key; generate one from kaggle account\")\n",
        "        if persist_credentials:\n",
        "            envfile.write(f\"\"\"\n",
        "            KAGGLE_USERNAME={kaggle_user}\n",
        "            KAGGLE_KEY={kaggle_key}\n",
        "            \"\"\")\n",
        "\n",
        "        # set env vars\n",
        "        os.environ[\"KAGGLE_USERNAME\"] = kaggle_user\n",
        "        os.environ[\"KAGGLE_KEY\"] = kaggle_key\n",
        "\n",
        "        del kaggle_user\n",
        "        del kaggle_key"
      ],
      "execution_count": 8,
      "outputs": []
    },
    {
      "cell_type": "code",
      "metadata": {
        "id": "7zJ0iRN9U00u"
      },
      "source": [
        "if not dataset_downloaded:\n",
        "  # loading env vars if .env file exists\n",
        "    if os.path.isfile(kaggle_env):\n",
        "        from dotenv import load_dotenv\n",
        "        load_dotenv(dotenv_path=kaggle_env)\n",
        "    print(os.environ.get(\"KAGGLE_USERNAME\"))"
      ],
      "execution_count": 9,
      "outputs": []
    },
    {
      "cell_type": "code",
      "metadata": {
        "id": "SP-mPFo-U00v"
      },
      "source": [
        "if not dataset_downloaded:\n",
        "    # download and extract dataset\n",
        "    ! kaggle competitions download -c mercari-price-suggestion-challenge\n",
        "\n",
        "    # create file so that we know we already downloaded\n",
        "    with open(dataset_downloaded_path, 'w') as dd_file:\n",
        "        dataset_downloaded = True\n",
        "        dd_file.write(\"\")\n",
        "\n",
        "    print('cwd: ', os.getcwd())\n",
        "    \n",
        "    os.listdir()"
      ],
      "execution_count": 10,
      "outputs": []
    },
    {
      "cell_type": "code",
      "metadata": {
        "id": "cpAT2yysVsRm"
      },
      "source": [
        "if not dataset_downloaded:\n",
        "    ! 7z x train.tsv.7z\n",
        "    ! 7z x test.tsv.7z"
      ],
      "execution_count": 11,
      "outputs": []
    },
    {
      "cell_type": "code",
      "metadata": {
        "colab": {
          "base_uri": "https://localhost:8080/"
        },
        "id": "rbwBGoI1VplX",
        "outputId": "590e632e-9734-4492-d96b-e35e63912782"
      },
      "source": [
        "os.listdir()"
      ],
      "execution_count": 12,
      "outputs": [
        {
          "output_type": "execute_result",
          "data": {
            "text/plain": [
              "['train.tsv',\n",
              " 'test.tsv',\n",
              " '.env',\n",
              " 'sample_submission.csv.7z',\n",
              " 'test_stg2.tsv.zip',\n",
              " 'train.tsv.7z',\n",
              " 'test.tsv.7z',\n",
              " 'sample_submission_stg2.csv.zip',\n",
              " 'dataset_downloaded',\n",
              " '.git',\n",
              " '.gitignore',\n",
              " 'Notebook.Rmd',\n",
              " 'Readme.md',\n",
              " 'requirements.txt',\n",
              " 'Untitled.ipynb',\n",
              " 'git',\n",
              " 'dataset_downloaded.ignore',\n",
              " 'model.png']"
            ]
          },
          "metadata": {
            "tags": []
          },
          "execution_count": 12
        }
      ]
    },
    {
      "cell_type": "markdown",
      "metadata": {
        "id": "8pyEueRK3yTL"
      },
      "source": [
        "## Load dataset"
      ]
    },
    {
      "cell_type": "code",
      "metadata": {
        "colab": {
          "base_uri": "https://localhost:8080/",
          "height": 419
        },
        "id": "j5Vg17INU00x",
        "outputId": "14765ada-1b2c-466a-9f4e-49e2eea55eb0"
      },
      "source": [
        "dtypes={\n",
        "    'name': 'string',\n",
        "    'item_condition_id': 'int32',\n",
        "    'category_name': 'string',\n",
        "    'brand_name': 'string',\n",
        "    'price': 'float',\n",
        "    'shipping': 'int32',\n",
        "    'item_description': 'string'\n",
        "}\n",
        "data = pd.read_csv(\"train.tsv\", sep='\\t', dtype=dtypes)\n",
        "data = data.drop(columns=[\"train_id\"])\n",
        "data"
      ],
      "execution_count": 13,
      "outputs": [
        {
          "output_type": "execute_result",
          "data": {
            "text/html": [
              "<div>\n",
              "<style scoped>\n",
              "    .dataframe tbody tr th:only-of-type {\n",
              "        vertical-align: middle;\n",
              "    }\n",
              "\n",
              "    .dataframe tbody tr th {\n",
              "        vertical-align: top;\n",
              "    }\n",
              "\n",
              "    .dataframe thead th {\n",
              "        text-align: right;\n",
              "    }\n",
              "</style>\n",
              "<table border=\"1\" class=\"dataframe\">\n",
              "  <thead>\n",
              "    <tr style=\"text-align: right;\">\n",
              "      <th></th>\n",
              "      <th>name</th>\n",
              "      <th>item_condition_id</th>\n",
              "      <th>category_name</th>\n",
              "      <th>brand_name</th>\n",
              "      <th>price</th>\n",
              "      <th>shipping</th>\n",
              "      <th>item_description</th>\n",
              "    </tr>\n",
              "  </thead>\n",
              "  <tbody>\n",
              "    <tr>\n",
              "      <th>0</th>\n",
              "      <td>MLB Cincinnati Reds T Shirt Size XL</td>\n",
              "      <td>3</td>\n",
              "      <td>Men/Tops/T-shirts</td>\n",
              "      <td>&lt;NA&gt;</td>\n",
              "      <td>10.0</td>\n",
              "      <td>1</td>\n",
              "      <td>No description yet</td>\n",
              "    </tr>\n",
              "    <tr>\n",
              "      <th>1</th>\n",
              "      <td>Razer BlackWidow Chroma Keyboard</td>\n",
              "      <td>3</td>\n",
              "      <td>Electronics/Computers &amp; Tablets/Components &amp; P...</td>\n",
              "      <td>Razer</td>\n",
              "      <td>52.0</td>\n",
              "      <td>0</td>\n",
              "      <td>This keyboard is in great condition and works ...</td>\n",
              "    </tr>\n",
              "    <tr>\n",
              "      <th>2</th>\n",
              "      <td>AVA-VIV Blouse</td>\n",
              "      <td>1</td>\n",
              "      <td>Women/Tops &amp; Blouses/Blouse</td>\n",
              "      <td>Target</td>\n",
              "      <td>10.0</td>\n",
              "      <td>1</td>\n",
              "      <td>Adorable top with a hint of lace and a key hol...</td>\n",
              "    </tr>\n",
              "    <tr>\n",
              "      <th>3</th>\n",
              "      <td>Leather Horse Statues</td>\n",
              "      <td>1</td>\n",
              "      <td>Home/Home Décor/Home Décor Accents</td>\n",
              "      <td>&lt;NA&gt;</td>\n",
              "      <td>35.0</td>\n",
              "      <td>1</td>\n",
              "      <td>New with tags. Leather horses. Retail for [rm]...</td>\n",
              "    </tr>\n",
              "    <tr>\n",
              "      <th>4</th>\n",
              "      <td>24K GOLD plated rose</td>\n",
              "      <td>1</td>\n",
              "      <td>Women/Jewelry/Necklaces</td>\n",
              "      <td>&lt;NA&gt;</td>\n",
              "      <td>44.0</td>\n",
              "      <td>0</td>\n",
              "      <td>Complete with certificate of authenticity</td>\n",
              "    </tr>\n",
              "    <tr>\n",
              "      <th>...</th>\n",
              "      <td>...</td>\n",
              "      <td>...</td>\n",
              "      <td>...</td>\n",
              "      <td>...</td>\n",
              "      <td>...</td>\n",
              "      <td>...</td>\n",
              "      <td>...</td>\n",
              "    </tr>\n",
              "    <tr>\n",
              "      <th>1482530</th>\n",
              "      <td>Free People Inspired Dress</td>\n",
              "      <td>2</td>\n",
              "      <td>Women/Dresses/Mid-Calf</td>\n",
              "      <td>Free People</td>\n",
              "      <td>20.0</td>\n",
              "      <td>1</td>\n",
              "      <td>Lace, says size small but fits medium perfectl...</td>\n",
              "    </tr>\n",
              "    <tr>\n",
              "      <th>1482531</th>\n",
              "      <td>Little mermaid handmade dress</td>\n",
              "      <td>2</td>\n",
              "      <td>Kids/Girls 2T-5T/Dresses</td>\n",
              "      <td>Disney</td>\n",
              "      <td>14.0</td>\n",
              "      <td>0</td>\n",
              "      <td>Little mermaid handmade dress never worn size 2t</td>\n",
              "    </tr>\n",
              "    <tr>\n",
              "      <th>1482532</th>\n",
              "      <td>21 day fix containers and eating plan</td>\n",
              "      <td>2</td>\n",
              "      <td>Sports &amp; Outdoors/Exercise/Fitness accessories</td>\n",
              "      <td>&lt;NA&gt;</td>\n",
              "      <td>12.0</td>\n",
              "      <td>0</td>\n",
              "      <td>Used once or twice, still in great shape.</td>\n",
              "    </tr>\n",
              "    <tr>\n",
              "      <th>1482533</th>\n",
              "      <td>World markets lanterns</td>\n",
              "      <td>3</td>\n",
              "      <td>Home/Home Décor/Home Décor Accents</td>\n",
              "      <td>&lt;NA&gt;</td>\n",
              "      <td>45.0</td>\n",
              "      <td>1</td>\n",
              "      <td>There is 2 of each one that you see! So 2 red ...</td>\n",
              "    </tr>\n",
              "    <tr>\n",
              "      <th>1482534</th>\n",
              "      <td>Brand new lux de ville wallet</td>\n",
              "      <td>1</td>\n",
              "      <td>Women/Women's Accessories/Wallets</td>\n",
              "      <td>&lt;NA&gt;</td>\n",
              "      <td>22.0</td>\n",
              "      <td>0</td>\n",
              "      <td>New with tag, red with sparkle. Firm price, no...</td>\n",
              "    </tr>\n",
              "  </tbody>\n",
              "</table>\n",
              "<p>1482535 rows × 7 columns</p>\n",
              "</div>"
            ],
            "text/plain": [
              "                                          name  ...                                   item_description\n",
              "0          MLB Cincinnati Reds T Shirt Size XL  ...                                 No description yet\n",
              "1             Razer BlackWidow Chroma Keyboard  ...  This keyboard is in great condition and works ...\n",
              "2                               AVA-VIV Blouse  ...  Adorable top with a hint of lace and a key hol...\n",
              "3                        Leather Horse Statues  ...  New with tags. Leather horses. Retail for [rm]...\n",
              "4                         24K GOLD plated rose  ...          Complete with certificate of authenticity\n",
              "...                                        ...  ...                                                ...\n",
              "1482530             Free People Inspired Dress  ...  Lace, says size small but fits medium perfectl...\n",
              "1482531          Little mermaid handmade dress  ...   Little mermaid handmade dress never worn size 2t\n",
              "1482532  21 day fix containers and eating plan  ...          Used once or twice, still in great shape.\n",
              "1482533                 World markets lanterns  ...  There is 2 of each one that you see! So 2 red ...\n",
              "1482534          Brand new lux de ville wallet  ...  New with tag, red with sparkle. Firm price, no...\n",
              "\n",
              "[1482535 rows x 7 columns]"
            ]
          },
          "metadata": {
            "tags": []
          },
          "execution_count": 13
        }
      ]
    },
    {
      "cell_type": "code",
      "metadata": {
        "colab": {
          "base_uri": "https://localhost:8080/"
        },
        "id": "DmtH5d_GU00z",
        "outputId": "f469d901-c0ca-4cec-937b-4616df78d39b"
      },
      "source": [
        "data.dtypes"
      ],
      "execution_count": 14,
      "outputs": [
        {
          "output_type": "execute_result",
          "data": {
            "text/plain": [
              "name                  string\n",
              "item_condition_id      int32\n",
              "category_name         string\n",
              "brand_name            string\n",
              "price                float64\n",
              "shipping               int32\n",
              "item_description      string\n",
              "dtype: object"
            ]
          },
          "metadata": {
            "tags": []
          },
          "execution_count": 14
        }
      ]
    },
    {
      "cell_type": "code",
      "metadata": {
        "colab": {
          "base_uri": "https://localhost:8080/"
        },
        "id": "9TY3K5euCtuA",
        "outputId": "047db8ac-a671-4c46-b92e-e37f1af4f40e"
      },
      "source": [
        "data.shape"
      ],
      "execution_count": 15,
      "outputs": [
        {
          "output_type": "execute_result",
          "data": {
            "text/plain": [
              "(1482535, 7)"
            ]
          },
          "metadata": {
            "tags": []
          },
          "execution_count": 15
        }
      ]
    },
    {
      "cell_type": "code",
      "metadata": {
        "colab": {
          "base_uri": "https://localhost:8080/"
        },
        "id": "rvujMFFXCxL8",
        "outputId": "90f99cc1-11e8-474f-c41d-a8fd4b68f069"
      },
      "source": [
        "for column in data.columns:\n",
        "    print(\"number of null value in {} : {}\".format(column,data[column].isnull().sum()))"
      ],
      "execution_count": 16,
      "outputs": [
        {
          "output_type": "stream",
          "text": [
            "number of null value in name : 0\n",
            "number of null value in item_condition_id : 0\n",
            "number of null value in category_name : 6327\n",
            "number of null value in brand_name : 632682\n",
            "number of null value in price : 0\n",
            "number of null value in shipping : 0\n",
            "number of null value in item_description : 4\n"
          ],
          "name": "stdout"
        }
      ]
    },
    {
      "cell_type": "code",
      "metadata": {
        "colab": {
          "base_uri": "https://localhost:8080/"
        },
        "id": "jUBsIEJqC0cg",
        "outputId": "8305c8b3-5b9b-46b6-ed21-b5aef5dee804"
      },
      "source": [
        "data = data[data[\"item_description\"].notna()]\n",
        "data[\"brand_name\"] = data[\"brand_name\"].fillna(value=\"NA\")\n",
        "data[\"category_name\"] = data[\"category_name\"].fillna(value=\"NA\")\n",
        "# see warnings -> inplace?\n",
        "data.shape"
      ],
      "execution_count": 17,
      "outputs": [
        {
          "output_type": "stream",
          "text": [
            "/usr/local/lib/python3.6/dist-packages/ipykernel_launcher.py:2: SettingWithCopyWarning: \n",
            "A value is trying to be set on a copy of a slice from a DataFrame.\n",
            "Try using .loc[row_indexer,col_indexer] = value instead\n",
            "\n",
            "See the caveats in the documentation: https://pandas.pydata.org/pandas-docs/stable/user_guide/indexing.html#returning-a-view-versus-a-copy\n",
            "  \n",
            "/usr/local/lib/python3.6/dist-packages/ipykernel_launcher.py:3: SettingWithCopyWarning: \n",
            "A value is trying to be set on a copy of a slice from a DataFrame.\n",
            "Try using .loc[row_indexer,col_indexer] = value instead\n",
            "\n",
            "See the caveats in the documentation: https://pandas.pydata.org/pandas-docs/stable/user_guide/indexing.html#returning-a-view-versus-a-copy\n",
            "  This is separate from the ipykernel package so we can avoid doing imports until\n"
          ],
          "name": "stderr"
        },
        {
          "output_type": "execute_result",
          "data": {
            "text/plain": [
              "(1482531, 7)"
            ]
          },
          "metadata": {
            "tags": []
          },
          "execution_count": 17
        }
      ]
    },
    {
      "cell_type": "code",
      "metadata": {
        "id": "vD-R4RTy3yTO"
      },
      "source": [
        "def flat_list(l):\n",
        "    return  [item for sublist in l for item in sublist]\n",
        "\n",
        "\n",
        "def plot_common_tokens(tokens, title, n=20):\n",
        "    sentences = (list(itertools.chain(tokens)))\n",
        "    flat_sentences = flat_list(sentences)\n",
        "    counts = Counter(flat_sentences)\n",
        "    #print(counts.most_common(30))\n",
        "    common_words = [word[0] for word in counts.most_common(n)]\n",
        "    common_counts = [word[1] for word in counts.most_common(n)]\n",
        "    fig = plt.figure(figsize=(18,6))\n",
        "    sns.barplot(x=common_words, y=common_counts)\n",
        "    plt.title(title)\n",
        "    plt.show()\n"
      ],
      "execution_count": 18,
      "outputs": []
    },
    {
      "cell_type": "code",
      "metadata": {
        "id": "qkd6dXhF3yTO"
      },
      "source": [
        "#plot_common_tokens(data[\"item_description_tokens\"], \"Most Common Tokens from Descriptions\")"
      ],
      "execution_count": 19,
      "outputs": []
    },
    {
      "cell_type": "code",
      "metadata": {
        "id": "BZkjRq5d3yTP"
      },
      "source": [
        "X = data[['name', 'item_condition_id', 'category_name', 'brand_name',\n",
        "       'shipping','item_description']]\n",
        "y = data['price']"
      ],
      "execution_count": 20,
      "outputs": []
    },
    {
      "cell_type": "code",
      "metadata": {
        "id": "_CJ0g0Ou3yTP"
      },
      "source": [
        "X_train, X_test, y_train, y_test = train_test_split(X, y, test_size=0.25, random_state=1000)\n",
        "X_train, X_validation, y_train, y_validation = train_test_split(X_train, y_train, test_size=0.2, random_state=1000)"
      ],
      "execution_count": 21,
      "outputs": []
    },
    {
      "cell_type": "code",
      "metadata": {
        "id": "k0nbQxek3yTQ"
      },
      "source": [
        "def getTokens(data, tokenizer=None, dataFit=None, num_words=5000):\n",
        "    if dataFit is None:\n",
        "        dataFit = data\n",
        "        \n",
        "    if tokenizer is None:\n",
        "        tokenizer = Tokenizer(num_words=num_words)\n",
        "        tokenizer.fit_on_texts(dataFit)\n",
        "    \n",
        "    tokens = tokenizer.texts_to_sequences(data)\n",
        "    return tokens, tokenizer"
      ],
      "execution_count": 22,
      "outputs": []
    },
    {
      "cell_type": "code",
      "metadata": {
        "id": "GBwuL7ah3yTQ"
      },
      "source": [
        "tokenizers = {}"
      ],
      "execution_count": 23,
      "outputs": []
    },
    {
      "cell_type": "code",
      "metadata": {
        "id": "lg4CyT1Z3yTQ"
      },
      "source": [
        "X_train[\"item_description_t\"], tokenizers[\"item_description\"] = getTokens(X_train[\"item_description\"])\n",
        "X_train[\"name_t\"], tokenizers[\"name\"] = getTokens(X_train[\"name\"])"
      ],
      "execution_count": 24,
      "outputs": []
    },
    {
      "cell_type": "code",
      "metadata": {
        "id": "gHbIyMAi8_Wl"
      },
      "source": [
        "X_validation[\"item_description_t\"], _ = getTokens(X_validation[\"item_description\"], tokenizer=tokenizers[\"item_description\"])\r\n",
        "X_validation[\"name_t\"], _ = getTokens(X_validation[\"name\"], tokenizer=tokenizers[\"name\"])"
      ],
      "execution_count": 25,
      "outputs": []
    },
    {
      "cell_type": "code",
      "metadata": {
        "colab": {
          "base_uri": "https://localhost:8080/"
        },
        "id": "0Lc7bahI3yTQ",
        "outputId": "fb395885-d2f8-4056-86b0-465b50cc7451"
      },
      "source": [
        "tokenizers"
      ],
      "execution_count": 26,
      "outputs": [
        {
          "output_type": "execute_result",
          "data": {
            "text/plain": [
              "{'item_description': <keras_preprocessing.text.Tokenizer at 0x7f2734683828>,\n",
              " 'name': <keras_preprocessing.text.Tokenizer at 0x7f27358e7128>}"
            ]
          },
          "metadata": {
            "tags": []
          },
          "execution_count": 26
        }
      ]
    },
    {
      "cell_type": "code",
      "metadata": {
        "colab": {
          "base_uri": "https://localhost:8080/"
        },
        "id": "-4IHUS1O3yTR",
        "outputId": "4d6fbcae-819f-4175-ea69-d6a95798feb3"
      },
      "source": [
        "X_train[\"item_description_t\"]"
      ],
      "execution_count": 27,
      "outputs": [
        {
          "output_type": "execute_result",
          "data": {
            "text/plain": [
              "995196     [6, 5, 144, 279, 173, 979, 84, 135, 173, 657, ...\n",
              "28823      [685, 1020, 340, 78, 306, 50, 6, 281, 90, 2526...\n",
              "661855     [27, 17, 136, 170, 194, 1102, 613, 188, 759, 6...\n",
              "733730     [5, 444, 1202, 99, 16, 86, 177, 16, 12, 165, 1...\n",
              "807837     [27, 106, 497, 11, 435, 117, 235, 4571, 682, 2...\n",
              "                                 ...                        \n",
              "371719                              [9, 83, 232, 35, 32, 26]\n",
              "1311257    [3867, 3867, 2095, 23, 3, 146, 3928, 2, 1827, ...\n",
              "404942                     [6, 49, 540, 167, 41, 1340, 1878]\n",
              "242521     [200, 128, 69, 2977, 124, 234, 362, 96, 133, 9...\n",
              "371320     [2, 1450, 761, 2116, 5, 10, 3, 153, 494, 494, ...\n",
              "Name: item_description_t, Length: 889518, dtype: object"
            ]
          },
          "metadata": {
            "tags": []
          },
          "execution_count": 27
        }
      ]
    },
    {
      "cell_type": "code",
      "metadata": {
        "id": "trBPru1qEK5b"
      },
      "source": [
        "class LabelEncoder:\r\n",
        "  def __init__(self, unknown = 0, invUnknown = 'unknown'):\r\n",
        "    self.leDict = {}\r\n",
        "    self.invDict = {}\r\n",
        "    self.unknown = unknown\r\n",
        "    self.invUnknown = invUnknown\r\n",
        "\r\n",
        "  def fit(self, data):\r\n",
        "    vci = data.value_counts().index\r\n",
        "    self.leDict = dict(zip(vci, range(1, len(vci))))\r\n",
        "    self.invDict = dict(zip(range(1, len(vci)), vci))\r\n",
        "\r\n",
        "  def transform1(self, item):\r\n",
        "    return self.leDict.get(item, self.unknown)\r\n",
        "\r\n",
        "  def transform(self, data):\r\n",
        "    return data.apply(lambda item: self.transform1(item))\r\n",
        "\r\n",
        "  def inverse_transform1(self, item):\r\n",
        "    return self.invDict.get(item, self.invUnknown)\r\n",
        "\r\n",
        "  def inverse_transform(self, data):\r\n",
        "    return data.apply(lambda item: self.inverse_transform1(item))"
      ],
      "execution_count": 57,
      "outputs": []
    },
    {
      "cell_type": "code",
      "metadata": {
        "id": "XO4EL__E3yTS"
      },
      "source": [
        "cat_le = LabelEncoder()\n",
        "cat_le.fit(X_train[\"category_name\"])\n",
        "\n",
        "X_train[\"category_name_l\"] = cat_le.transform(X_train[\"category_name\"])"
      ],
      "execution_count": 61,
      "outputs": []
    },
    {
      "cell_type": "code",
      "metadata": {
        "id": "b81R6-EsKsmF"
      },
      "source": [
        "X_validation[\"category_name_l\"] = cat_le.transform(X_validation[\"category_name\"])"
      ],
      "execution_count": 71,
      "outputs": []
    },
    {
      "cell_type": "code",
      "metadata": {
        "id": "gfiZte2s3yTS"
      },
      "source": [
        "brand_le = LabelEncoder()\n",
        "brand_le.fit(X_train[\"brand_name\"])\n",
        "\n",
        "X_train[\"brand_name_l\"] = brand_le.transform(X_train[\"brand_name\"])"
      ],
      "execution_count": 70,
      "outputs": []
    },
    {
      "cell_type": "code",
      "metadata": {
        "id": "H-zi4cpSK1kA"
      },
      "source": [
        "X_validation[\"brand_name_l\"] = brand_le.transform(X_validation[\"brand_name\"])"
      ],
      "execution_count": 73,
      "outputs": []
    },
    {
      "cell_type": "code",
      "metadata": {
        "colab": {
          "base_uri": "https://localhost:8080/"
        },
        "id": "I8J8tdJ33yTS",
        "outputId": "ed8b030a-f4c0-4f95-f062-225fa7227859"
      },
      "source": [
        "len(tokenizers[\"item_description\"].word_index)"
      ],
      "execution_count": 74,
      "outputs": [
        {
          "output_type": "execute_result",
          "data": {
            "text/plain": [
              "158136"
            ]
          },
          "metadata": {
            "tags": []
          },
          "execution_count": 74
        }
      ]
    },
    {
      "cell_type": "code",
      "metadata": {
        "id": "AUGQ6wIZ3yTS"
      },
      "source": [
        "# unknown values !!! now -> crash"
      ],
      "execution_count": 75,
      "outputs": []
    },
    {
      "cell_type": "code",
      "metadata": {
        "colab": {
          "base_uri": "https://localhost:8080/"
        },
        "id": "WdMZOVTh3yTT",
        "outputId": "37d7d7e7-bb07-4626-ad1e-5c6b4c015594"
      },
      "source": [
        "X_train.loc[995196, [\"name\", \"name_t\"]]"
      ],
      "execution_count": 76,
      "outputs": [
        {
          "output_type": "execute_result",
          "data": {
            "text/plain": [
              "name      PINK❤️warm and cozy mist/lotion set\n",
              "name_t                [9, 1995, 431, 288, 17]\n",
              "Name: 995196, dtype: object"
            ]
          },
          "metadata": {
            "tags": []
          },
          "execution_count": 76
        }
      ]
    },
    {
      "cell_type": "code",
      "metadata": {
        "colab": {
          "base_uri": "https://localhost:8080/",
          "height": 289
        },
        "id": "SG-oJkvN3yTU",
        "outputId": "22848494-22d8-41bf-cfb9-b62c2e487b3b"
      },
      "source": [
        "X_train.head()"
      ],
      "execution_count": 77,
      "outputs": [
        {
          "output_type": "execute_result",
          "data": {
            "text/html": [
              "<div>\n",
              "<style scoped>\n",
              "    .dataframe tbody tr th:only-of-type {\n",
              "        vertical-align: middle;\n",
              "    }\n",
              "\n",
              "    .dataframe tbody tr th {\n",
              "        vertical-align: top;\n",
              "    }\n",
              "\n",
              "    .dataframe thead th {\n",
              "        text-align: right;\n",
              "    }\n",
              "</style>\n",
              "<table border=\"1\" class=\"dataframe\">\n",
              "  <thead>\n",
              "    <tr style=\"text-align: right;\">\n",
              "      <th></th>\n",
              "      <th>name</th>\n",
              "      <th>item_condition_id</th>\n",
              "      <th>category_name</th>\n",
              "      <th>brand_name</th>\n",
              "      <th>shipping</th>\n",
              "      <th>item_description</th>\n",
              "      <th>item_description_t</th>\n",
              "      <th>name_t</th>\n",
              "      <th>category_name_l</th>\n",
              "      <th>brand_name_l</th>\n",
              "    </tr>\n",
              "  </thead>\n",
              "  <tbody>\n",
              "    <tr>\n",
              "      <th>995196</th>\n",
              "      <td>PINK❤️warm and cozy mist/lotion set</td>\n",
              "      <td>1</td>\n",
              "      <td>Beauty/Fragrance/Women</td>\n",
              "      <td>Victoria's Secret</td>\n",
              "      <td>0</td>\n",
              "      <td>New in original packaging -Body mist 250ml/8.4...</td>\n",
              "      <td>[6, 5, 144, 279, 173, 979, 84, 135, 173, 657, ...</td>\n",
              "      <td>[9, 1995, 431, 288, 17]</td>\n",
              "      <td>16</td>\n",
              "      <td>4</td>\n",
              "    </tr>\n",
              "    <tr>\n",
              "      <th>28823</th>\n",
              "      <td>18 min vest</td>\n",
              "      <td>3</td>\n",
              "      <td>Kids/Girls 0-24 Mos/One-Pieces</td>\n",
              "      <td>NA</td>\n",
              "      <td>1</td>\n",
              "      <td>Faux fur zipper up best like new Purchased at ...</td>\n",
              "      <td>[685, 1020, 340, 78, 306, 50, 6, 281, 90, 2526...</td>\n",
              "      <td>[234, 276]</td>\n",
              "      <td>68</td>\n",
              "      <td>1</td>\n",
              "    </tr>\n",
              "    <tr>\n",
              "      <th>661855</th>\n",
              "      <td>Artsy stylish leather purse &amp; pouch</td>\n",
              "      <td>3</td>\n",
              "      <td>Handmade/Bags and Purses/Purse</td>\n",
              "      <td>NA</td>\n",
              "      <td>0</td>\n",
              "      <td>Used condition cowhide high quality leather!! ...</td>\n",
              "      <td>[27, 17, 136, 170, 194, 1102, 613, 188, 759, 6...</td>\n",
              "      <td>[3172, 118, 83, 922]</td>\n",
              "      <td>189</td>\n",
              "      <td>1</td>\n",
              "    </tr>\n",
              "    <tr>\n",
              "      <th>733730</th>\n",
              "      <td>Decor pillows</td>\n",
              "      <td>2</td>\n",
              "      <td>Home/Home Décor/Decorative Pillows</td>\n",
              "      <td>NA</td>\n",
              "      <td>0</td>\n",
              "      <td>In mint conditions Smoke free home Pet free No...</td>\n",
              "      <td>[5, 444, 1202, 99, 16, 86, 177, 16, 12, 165, 1...</td>\n",
              "      <td>[599, 2390]</td>\n",
              "      <td>261</td>\n",
              "      <td>1</td>\n",
              "    </tr>\n",
              "    <tr>\n",
              "      <th>807837</th>\n",
              "      <td>IF NOT SOLD DONATING 2/6</td>\n",
              "      <td>4</td>\n",
              "      <td>Men/Shoes/Outdoor</td>\n",
              "      <td>Oakley</td>\n",
              "      <td>0</td>\n",
              "      <td>Used still lots of life...see pictures...Oakle...</td>\n",
              "      <td>[27, 106, 497, 11, 435, 117, 235, 4571, 682, 2...</td>\n",
              "      <td>[4155, 630, 1029, 11, 20]</td>\n",
              "      <td>732</td>\n",
              "      <td>172</td>\n",
              "    </tr>\n",
              "  </tbody>\n",
              "</table>\n",
              "</div>"
            ],
            "text/plain": [
              "                                       name  ...  brand_name_l\n",
              "995196  PINK❤️warm and cozy mist/lotion set  ...             4\n",
              "28823                           18 min vest  ...             1\n",
              "661855  Artsy stylish leather purse & pouch  ...             1\n",
              "733730                        Decor pillows  ...             1\n",
              "807837             IF NOT SOLD DONATING 2/6  ...           172\n",
              "\n",
              "[5 rows x 10 columns]"
            ]
          },
          "metadata": {
            "tags": []
          },
          "execution_count": 77
        }
      ]
    },
    {
      "cell_type": "code",
      "metadata": {
        "colab": {
          "base_uri": "https://localhost:8080/"
        },
        "id": "5W0A95PQEDb_",
        "outputId": "bfa07b10-9a6b-4792-af46-9dc2e0ceb20e"
      },
      "source": [
        "desc_vocab_size = len(tokenizers['item_description'].word_index) + 1\n",
        "print(desc_vocab_size)\n",
        "\n",
        "name_vocab_size = len(tokenizers['name'].word_index) + 1\n",
        "print(name_vocab_size)"
      ],
      "execution_count": 78,
      "outputs": [
        {
          "output_type": "stream",
          "text": [
            "158137\n",
            "88696\n"
          ],
          "name": "stdout"
        }
      ]
    },
    {
      "cell_type": "code",
      "metadata": {
        "colab": {
          "base_uri": "https://localhost:8080/"
        },
        "id": "fTMf850Y3yTU",
        "outputId": "1154e6d9-1914-4edd-959c-e83519d5771d"
      },
      "source": [
        "X_train[\"item_description_t\"]"
      ],
      "execution_count": 79,
      "outputs": [
        {
          "output_type": "execute_result",
          "data": {
            "text/plain": [
              "995196     [6, 5, 144, 279, 173, 979, 84, 135, 173, 657, ...\n",
              "28823      [685, 1020, 340, 78, 306, 50, 6, 281, 90, 2526...\n",
              "661855     [27, 17, 136, 170, 194, 1102, 613, 188, 759, 6...\n",
              "733730     [5, 444, 1202, 99, 16, 86, 177, 16, 12, 165, 1...\n",
              "807837     [27, 106, 497, 11, 435, 117, 235, 4571, 682, 2...\n",
              "                                 ...                        \n",
              "371719                              [9, 83, 232, 35, 32, 26]\n",
              "1311257    [3867, 3867, 2095, 23, 3, 146, 3928, 2, 1827, ...\n",
              "404942                     [6, 49, 540, 167, 41, 1340, 1878]\n",
              "242521     [200, 128, 69, 2977, 124, 234, 362, 96, 133, 9...\n",
              "371320     [2, 1450, 761, 2116, 5, 10, 3, 153, 494, 494, ...\n",
              "Name: item_description_t, Length: 889518, dtype: object"
            ]
          },
          "metadata": {
            "tags": []
          },
          "execution_count": 79
        }
      ]
    },
    {
      "cell_type": "code",
      "metadata": {
        "id": "wGmnn5zJq3uK"
      },
      "source": [
        "def lengthCumDistribution(data, threshold=0.8):\r\n",
        "  lengths = data.apply(lambda x: len(x))\r\n",
        "  lengthsHist = lengths.hist\r\n",
        "  lengthsFreq = lengths.value_counts().sort_index()\r\n",
        "  lengthsFreqNormalized = lengthsFreq / sum(lengthsFreq)\r\n",
        "  lengthsCumFreq = lengthsFreqNormalized.cumsum()\r\n",
        "\r\n",
        "  index = lengthsCumFreq.where(lengthsCumFreq >= threshold).first_valid_index()\r\n",
        "\r\n",
        "  cumPlot = lengthsCumFreq.plot\r\n",
        "\r\n",
        "  return index, lengthsCumFreq, cumPlot, lengthsHist"
      ],
      "execution_count": 80,
      "outputs": []
    },
    {
      "cell_type": "code",
      "metadata": {
        "colab": {
          "base_uri": "https://localhost:8080/",
          "height": 299
        },
        "id": "ffJDQoivrt4s",
        "outputId": "42688ad9-892f-49d3-f69c-8ff00f9e51d6"
      },
      "source": [
        "name_length_max, name_length_distr, name_length_dplot, name_length_hist = lengthCumDistribution(X_train[\"name_t\"])\r\n",
        "print('name length max', name_length_max)\r\n",
        "name_length_dplot()"
      ],
      "execution_count": 81,
      "outputs": [
        {
          "output_type": "stream",
          "text": [
            "name length max 6\n"
          ],
          "name": "stdout"
        },
        {
          "output_type": "execute_result",
          "data": {
            "text/plain": [
              "<matplotlib.axes._subplots.AxesSubplot at 0x7f27108727b8>"
            ]
          },
          "metadata": {
            "tags": []
          },
          "execution_count": 81
        },
        {
          "output_type": "display_data",
          "data": {
            "image/png": "[encoded data removed]",
            "text/plain": [
              "<Figure size 432x288 with 1 Axes>"
            ]
          },
          "metadata": {
            "tags": [],
            "needs_background": "light"
          }
        }
      ]
    },
    {
      "cell_type": "code",
      "metadata": {
        "colab": {
          "base_uri": "https://localhost:8080/",
          "height": 282
        },
        "id": "BRSiAJ7uuP58",
        "outputId": "398e52dc-b161-4eaa-e7ba-fffad0d67115"
      },
      "source": [
        "name_length_hist()"
      ],
      "execution_count": 82,
      "outputs": [
        {
          "output_type": "execute_result",
          "data": {
            "text/plain": [
              "<matplotlib.axes._subplots.AxesSubplot at 0x7f27109011d0>"
            ]
          },
          "metadata": {
            "tags": []
          },
          "execution_count": 82
        },
        {
          "output_type": "display_data",
          "data": {
            "image/png": "[encoded data removed]",
            "text/plain": [
              "<Figure size 432x288 with 1 Axes>"
            ]
          },
          "metadata": {
            "tags": [],
            "needs_background": "light"
          }
        }
      ]
    },
    {
      "cell_type": "code",
      "metadata": {
        "colab": {
          "base_uri": "https://localhost:8080/",
          "height": 299
        },
        "id": "l_mrckzhuEBK",
        "outputId": "162d8a8a-2fda-4308-d7a4-d8dfbbf087bf"
      },
      "source": [
        "desc_length_max, desc_length_distr, desc_length_dplot, desc_length_hist = lengthCumDistribution(X_train[\"item_description_t\"])\r\n",
        "print('name length max', desc_length_max)\r\n",
        "desc_length_dplot()"
      ],
      "execution_count": 83,
      "outputs": [
        {
          "output_type": "stream",
          "text": [
            "name length max 35\n"
          ],
          "name": "stdout"
        },
        {
          "output_type": "execute_result",
          "data": {
            "text/plain": [
              "<matplotlib.axes._subplots.AxesSubplot at 0x7f270f0096a0>"
            ]
          },
          "metadata": {
            "tags": []
          },
          "execution_count": 83
        },
        {
          "output_type": "display_data",
          "data": {
            "image/png": "[encoded data removed]",
            "text/plain": [
              "<Figure size 432x288 with 1 Axes>"
            ]
          },
          "metadata": {
            "tags": [],
            "needs_background": "light"
          }
        }
      ]
    },
    {
      "cell_type": "code",
      "metadata": {
        "colab": {
          "base_uri": "https://localhost:8080/",
          "height": 282
        },
        "id": "V7hbua5bsM9C",
        "outputId": "de23ad2c-173b-4436-9244-17b7fbc8f838"
      },
      "source": [
        "desc_length_hist()"
      ],
      "execution_count": 84,
      "outputs": [
        {
          "output_type": "execute_result",
          "data": {
            "text/plain": [
              "<matplotlib.axes._subplots.AxesSubplot at 0x7f27107babe0>"
            ]
          },
          "metadata": {
            "tags": []
          },
          "execution_count": 84
        },
        {
          "output_type": "display_data",
          "data": {
            "image/png": "[encoded data removed]",
            "text/plain": [
              "<Figure size 432x288 with 1 Axes>"
            ]
          },
          "metadata": {
            "tags": [],
            "needs_background": "light"
          }
        }
      ]
    },
    {
      "cell_type": "code",
      "metadata": {
        "id": "Y40ov-ULHtla"
      },
      "source": [
        "inputDesc_train = pad_sequences(X_train[\"item_description_t\"],\n",
        "                                                  padding='post', maxlen=desc_length_max)"
      ],
      "execution_count": 85,
      "outputs": []
    },
    {
      "cell_type": "code",
      "metadata": {
        "id": "tky1YzlkB8U5"
      },
      "source": [
        "inputDesc_validation = pad_sequences(X_validation[\"item_description_t\"],\r\n",
        "                                                  padding='post', maxlen=desc_length_max)"
      ],
      "execution_count": 86,
      "outputs": []
    },
    {
      "cell_type": "code",
      "metadata": {
        "id": "XBZIAP9n3yTU"
      },
      "source": [
        "inputName_train = pad_sequences(X_train[\"name_t\"], padding='post', maxlen=name_length_max)"
      ],
      "execution_count": 87,
      "outputs": []
    },
    {
      "cell_type": "code",
      "metadata": {
        "id": "1uhYXRYQCCHb"
      },
      "source": [
        "inputName_validation = pad_sequences(X_validation[\"name_t\"], padding='post', maxlen=name_length_max)"
      ],
      "execution_count": 88,
      "outputs": []
    },
    {
      "cell_type": "code",
      "metadata": {
        "colab": {
          "base_uri": "https://localhost:8080/"
        },
        "id": "nFlm8Qqx-Qab",
        "outputId": "120ed17a-ec14-4c69-9d6c-ab89131fed35"
      },
      "source": [
        "y_train"
      ],
      "execution_count": 90,
      "outputs": [
        {
          "output_type": "execute_result",
          "data": {
            "text/plain": [
              "995196      24.0\n",
              "28823       13.0\n",
              "661855     126.0\n",
              "733730      12.0\n",
              "807837      13.0\n",
              "           ...  \n",
              "371719      24.0\n",
              "1311257     10.0\n",
              "404942      10.0\n",
              "242521      23.0\n",
              "371320       8.0\n",
              "Name: price, Length: 889518, dtype: float64"
            ]
          },
          "metadata": {
            "tags": []
          },
          "execution_count": 90
        }
      ]
    },
    {
      "cell_type": "code",
      "metadata": {
        "id": "Y9tcLzah_V6w"
      },
      "source": [
        "class MeanStdScaler:\r\n",
        "  def __init__(self):\r\n",
        "    self.mean = 0\r\n",
        "    self.std = 1\r\n",
        "\r\n",
        "  def fit(self, data):\r\n",
        "    self.mean = np.mean(data)\r\n",
        "    self.std = np.std(data)\r\n",
        "\r\n",
        "  def transform(self, data):\r\n",
        "    return (data - self.mean) / self.std\r\n",
        "\r\n",
        "  def inverse_transform(self, data):\r\n",
        "    return (data * self.std) + self.mean"
      ],
      "execution_count": 91,
      "outputs": []
    },
    {
      "cell_type": "code",
      "metadata": {
        "id": "BeZ-eTtF_qbU"
      },
      "source": [
        "y_scaler = MeanStdScaler()\r\n",
        "y_scaler.fit(y_train)"
      ],
      "execution_count": 92,
      "outputs": []
    },
    {
      "cell_type": "code",
      "metadata": {
        "id": "U_lQI71yAXd0"
      },
      "source": [
        "y_train = y_scaler.transform(y_train)\r\n",
        "y_validation = y_scaler.transform(y_validation)"
      ],
      "execution_count": 93,
      "outputs": []
    },
    {
      "cell_type": "code",
      "metadata": {
        "colab": {
          "base_uri": "https://localhost:8080/",
          "height": 419
        },
        "id": "fIGydn223yTW",
        "outputId": "6ef72f76-a844-4566-b0b4-674040fe0e44"
      },
      "source": [
        "X_train[[\"item_condition_id\", \"category_name_l\", \"brand_name_l\", \"shipping\"]]"
      ],
      "execution_count": 94,
      "outputs": [
        {
          "output_type": "execute_result",
          "data": {
            "text/html": [
              "<div>\n",
              "<style scoped>\n",
              "    .dataframe tbody tr th:only-of-type {\n",
              "        vertical-align: middle;\n",
              "    }\n",
              "\n",
              "    .dataframe tbody tr th {\n",
              "        vertical-align: top;\n",
              "    }\n",
              "\n",
              "    .dataframe thead th {\n",
              "        text-align: right;\n",
              "    }\n",
              "</style>\n",
              "<table border=\"1\" class=\"dataframe\">\n",
              "  <thead>\n",
              "    <tr style=\"text-align: right;\">\n",
              "      <th></th>\n",
              "      <th>item_condition_id</th>\n",
              "      <th>category_name_l</th>\n",
              "      <th>brand_name_l</th>\n",
              "      <th>shipping</th>\n",
              "    </tr>\n",
              "  </thead>\n",
              "  <tbody>\n",
              "    <tr>\n",
              "      <th>995196</th>\n",
              "      <td>1</td>\n",
              "      <td>16</td>\n",
              "      <td>4</td>\n",
              "      <td>0</td>\n",
              "    </tr>\n",
              "    <tr>\n",
              "      <th>28823</th>\n",
              "      <td>3</td>\n",
              "      <td>68</td>\n",
              "      <td>1</td>\n",
              "      <td>1</td>\n",
              "    </tr>\n",
              "    <tr>\n",
              "      <th>661855</th>\n",
              "      <td>3</td>\n",
              "      <td>189</td>\n",
              "      <td>1</td>\n",
              "      <td>0</td>\n",
              "    </tr>\n",
              "    <tr>\n",
              "      <th>733730</th>\n",
              "      <td>2</td>\n",
              "      <td>261</td>\n",
              "      <td>1</td>\n",
              "      <td>0</td>\n",
              "    </tr>\n",
              "    <tr>\n",
              "      <th>807837</th>\n",
              "      <td>4</td>\n",
              "      <td>732</td>\n",
              "      <td>172</td>\n",
              "      <td>0</td>\n",
              "    </tr>\n",
              "    <tr>\n",
              "      <th>...</th>\n",
              "      <td>...</td>\n",
              "      <td>...</td>\n",
              "      <td>...</td>\n",
              "      <td>...</td>\n",
              "    </tr>\n",
              "    <tr>\n",
              "      <th>371719</th>\n",
              "      <td>2</td>\n",
              "      <td>435</td>\n",
              "      <td>58</td>\n",
              "      <td>0</td>\n",
              "    </tr>\n",
              "    <tr>\n",
              "      <th>1311257</th>\n",
              "      <td>1</td>\n",
              "      <td>31</td>\n",
              "      <td>208</td>\n",
              "      <td>0</td>\n",
              "    </tr>\n",
              "    <tr>\n",
              "      <th>404942</th>\n",
              "      <td>1</td>\n",
              "      <td>4</td>\n",
              "      <td>1</td>\n",
              "      <td>0</td>\n",
              "    </tr>\n",
              "    <tr>\n",
              "      <th>242521</th>\n",
              "      <td>2</td>\n",
              "      <td>127</td>\n",
              "      <td>4</td>\n",
              "      <td>1</td>\n",
              "    </tr>\n",
              "    <tr>\n",
              "      <th>371320</th>\n",
              "      <td>1</td>\n",
              "      <td>601</td>\n",
              "      <td>1</td>\n",
              "      <td>0</td>\n",
              "    </tr>\n",
              "  </tbody>\n",
              "</table>\n",
              "<p>889518 rows × 4 columns</p>\n",
              "</div>"
            ],
            "text/plain": [
              "         item_condition_id  category_name_l  brand_name_l  shipping\n",
              "995196                   1               16             4         0\n",
              "28823                    3               68             1         1\n",
              "661855                   3              189             1         0\n",
              "733730                   2              261             1         0\n",
              "807837                   4              732           172         0\n",
              "...                    ...              ...           ...       ...\n",
              "371719                   2              435            58         0\n",
              "1311257                  1               31           208         0\n",
              "404942                   1                4             1         0\n",
              "242521                   2              127             4         1\n",
              "371320                   1              601             1         0\n",
              "\n",
              "[889518 rows x 4 columns]"
            ]
          },
          "metadata": {
            "tags": []
          },
          "execution_count": 94
        }
      ]
    },
    {
      "cell_type": "code",
      "metadata": {
        "id": "CZh4kWw73yTY"
      },
      "source": [
        "inputA_train = X_train[[\"item_condition_id\", \"category_name_l\", \"brand_name_l\", \"shipping\"]].values.astype('int32')"
      ],
      "execution_count": 133,
      "outputs": []
    },
    {
      "cell_type": "code",
      "metadata": {
        "id": "-oTri-SwCHqe"
      },
      "source": [
        "inputA_validation = X_validation[[\"item_condition_id\", \"category_name_l\", \"brand_name_l\", \"shipping\"]].values.astype('int32')"
      ],
      "execution_count": 134,
      "outputs": []
    },
    {
      "cell_type": "code",
      "metadata": {
        "id": "SLcxUX3ESGDo"
      },
      "source": [
        "msle = tf.keras.losses.MeanSquaredLogarithmicError()\n",
        "mae = tf.keras.losses.MeanAbsoluteError()\n",
        "\n",
        "# sclb stands for scaled back\n",
        "\n",
        "def root_mean_squared_logarithmic_error_sclb(y_true, y_pred):\n",
        "  y_true = y_scaler.inverse_transform(y_true)\n",
        "  y_pred = y_scaler.inverse_transform(y_pred)\n",
        "  return K.sqrt(msle(y_true, y_pred))\n",
        "\n",
        "def mae_sclb(y_true, y_pred):\n",
        "  y_true = y_scaler.inverse_transform(y_true)\n",
        "  y_pred = y_scaler.inverse_transform(y_pred)\n",
        "\n",
        "  return mae(y_true, y_pred)\n"
      ],
      "execution_count": 127,
      "outputs": []
    },
    {
      "cell_type": "code",
      "metadata": {
        "id": "7ZmQxJaT3yTX"
      },
      "source": [
        "def getModel():\n",
        "    inputA = Input(shape=(4,))\n",
        "    #Ad = Dense(4, activation='relu')(inputA)\n",
        "    Ad = inputA\n",
        "    \n",
        "    inputName = Input(shape=(name_length_max,))\n",
        "    Ne = Embedding(input_dim=name_vocab_size, output_dim=8, input_length=name_length_max)(inputName)\n",
        "    Nf = Flatten()(Ne)\n",
        "    #Nd = Dense(8, activation='relu')(Nf)\n",
        "    Nd = Nf\n",
        "    \n",
        "    inputDesc = Input(shape=(desc_length_max,))\n",
        "    De = Embedding(input_dim=desc_vocab_size, output_dim=12, input_length=desc_length_max)(inputDesc)\n",
        "    Df = Flatten()(De)\n",
        "    #Dd = Dense(12, activation='relu')(Df)\n",
        "    Dd = Df\n",
        "    \n",
        "    concat = Concatenate()([Ad, Nd, Dd])\n",
        "\n",
        "    x = Dropout(0.1)(concat)    \n",
        "    x = Dense(24, activation='relu')(x)\n",
        "    x = Dropout(0.1)(x)\n",
        "    x = Dense(16, activation='relu')(x)\n",
        "    x = Dense(1, activation='linear')(x)\n",
        "    \n",
        "    model = Model(inputs=[inputA, inputName, inputDesc], outputs=x)\n",
        "    \n",
        "    return model\n",
        "    "
      ],
      "execution_count": 142,
      "outputs": []
    },
    {
      "cell_type": "code",
      "metadata": {
        "colab": {
          "base_uri": "https://localhost:8080/"
        },
        "id": "SWfolHUC3yTX",
        "outputId": "1b4a8baf-3ce7-4c03-a7cf-c6ecc0f06268"
      },
      "source": [
        "model = getModel()\n",
        "model.summary()"
      ],
      "execution_count": 143,
      "outputs": [
        {
          "output_type": "stream",
          "text": [
            "Model: \"functional_7\"\n",
            "__________________________________________________________________________________________________\n",
            "Layer (type)                    Output Shape         Param #     Connected to                     \n",
            "==================================================================================================\n",
            "input_17 (InputLayer)           [(None, 6)]          0                                            \n",
            "__________________________________________________________________________________________________\n",
            "input_18 (InputLayer)           [(None, 35)]         0                                            \n",
            "__________________________________________________________________________________________________\n",
            "embedding_10 (Embedding)        (None, 6, 8)         709568      input_17[0][0]                   \n",
            "__________________________________________________________________________________________________\n",
            "embedding_11 (Embedding)        (None, 35, 12)       1897644     input_18[0][0]                   \n",
            "__________________________________________________________________________________________________\n",
            "input_16 (InputLayer)           [(None, 4)]          0                                            \n",
            "__________________________________________________________________________________________________\n",
            "flatten_10 (Flatten)            (None, 48)           0           embedding_10[0][0]               \n",
            "__________________________________________________________________________________________________\n",
            "flatten_11 (Flatten)            (None, 420)          0           embedding_11[0][0]               \n",
            "__________________________________________________________________________________________________\n",
            "concatenate_5 (Concatenate)     (None, 472)          0           input_16[0][0]                   \n",
            "                                                                 flatten_10[0][0]                 \n",
            "                                                                 flatten_11[0][0]                 \n",
            "__________________________________________________________________________________________________\n",
            "dropout_3 (Dropout)             (None, 472)          0           concatenate_5[0][0]              \n",
            "__________________________________________________________________________________________________\n",
            "dense_9 (Dense)                 (None, 24)           11352       dropout_3[0][0]                  \n",
            "__________________________________________________________________________________________________\n",
            "dropout_4 (Dropout)             (None, 24)           0           dense_9[0][0]                    \n",
            "__________________________________________________________________________________________________\n",
            "dense_10 (Dense)                (None, 16)           400         dropout_4[0][0]                  \n",
            "__________________________________________________________________________________________________\n",
            "dense_11 (Dense)                (None, 1)            17          dense_10[0][0]                   \n",
            "==================================================================================================\n",
            "Total params: 2,618,981\n",
            "Trainable params: 2,618,981\n",
            "Non-trainable params: 0\n",
            "__________________________________________________________________________________________________\n"
          ],
          "name": "stdout"
        }
      ]
    },
    {
      "cell_type": "code",
      "metadata": {
        "colab": {
          "base_uri": "https://localhost:8080/",
          "height": 856
        },
        "id": "aNoRvN6T3yTX",
        "outputId": "6af8480a-3ced-4aa2-b580-87878bf7a3b4"
      },
      "source": [
        "plot_model(model)"
      ],
      "execution_count": 144,
      "outputs": [
        {
          "output_type": "execute_result",
          "data": {
            "image/png": "[encoded data removed]",
            "text/plain": [
              "<IPython.core.display.Image object>"
            ]
          },
          "metadata": {
            "tags": []
          },
          "execution_count": 144
        }
      ]
    },
    {
      "cell_type": "code",
      "metadata": {
        "id": "1-rcb1aLIHPX"
      },
      "source": [
        "model.compile(optimizer='adam',\n",
        "              loss='mse',\n",
        "              metrics=[mae_sclb, root_mean_squared_logarithmic_error_sclb])"
      ],
      "execution_count": 145,
      "outputs": []
    },
    {
      "cell_type": "code",
      "metadata": {
        "colab": {
          "base_uri": "https://localhost:8080/"
        },
        "id": "Y2m3WcI-JWcP",
        "outputId": "8e4a69ee-5c36-4934-eafe-ecbd6a141c61"
      },
      "source": [
        "history = model.fit(x=[inputA_train, inputName_train, inputDesc_train], y=y_train,\n",
        "                    epochs=10,\n",
        "                    verbose=True,\n",
        "                    validation_data=([inputA_validation, inputName_validation, inputDesc_validation], y_validation),\n",
        "                    batch_size=512)"
      ],
      "execution_count": 146,
      "outputs": [
        {
          "output_type": "stream",
          "text": [
            "Epoch 1/10\n",
            "1738/1738 [==============================] - 52s 30ms/step - loss: 2.7953 - mae_sclb: 21.5651 - root_mean_squared_logarithmic_error_sclb: 0.9269 - val_loss: 0.6257 - val_mae_sclb: 13.5567 - val_root_mean_squared_logarithmic_error_sclb: 0.6243\n",
            "Epoch 2/10\n",
            "1738/1738 [==============================] - 51s 30ms/step - loss: 0.6584 - mae_sclb: 14.0726 - root_mean_squared_logarithmic_error_sclb: 0.6956 - val_loss: 0.5832 - val_mae_sclb: 13.2253 - val_root_mean_squared_logarithmic_error_sclb: 0.6212\n",
            "Epoch 3/10\n",
            "1738/1738 [==============================] - 51s 29ms/step - loss: 0.5812 - mae_sclb: 13.3289 - root_mean_squared_logarithmic_error_sclb: 0.6559 - val_loss: 0.5597 - val_mae_sclb: 13.8671 - val_root_mean_squared_logarithmic_error_sclb: 0.6379\n",
            "Epoch 4/10\n",
            "1738/1738 [==============================] - 51s 29ms/step - loss: 0.5436 - mae_sclb: 12.9638 - root_mean_squared_logarithmic_error_sclb: 0.6372 - val_loss: 0.5558 - val_mae_sclb: 12.9136 - val_root_mean_squared_logarithmic_error_sclb: 0.6038\n",
            "Epoch 5/10\n",
            "1738/1738 [==============================] - 52s 30ms/step - loss: 0.5049 - mae_sclb: 12.6540 - root_mean_squared_logarithmic_error_sclb: 0.6119 - val_loss: 0.5485 - val_mae_sclb: 12.8547 - val_root_mean_squared_logarithmic_error_sclb: 0.5948\n",
            "Epoch 6/10\n",
            "1738/1738 [==============================] - 52s 30ms/step - loss: 0.4766 - mae_sclb: 12.4623 - root_mean_squared_logarithmic_error_sclb: 0.5961 - val_loss: 0.5563 - val_mae_sclb: 12.5505 - val_root_mean_squared_logarithmic_error_sclb: 0.5777\n",
            "Epoch 7/10\n",
            "1738/1738 [==============================] - 51s 30ms/step - loss: 0.4470 - mae_sclb: 12.2794 - root_mean_squared_logarithmic_error_sclb: 0.5852 - val_loss: 0.5527 - val_mae_sclb: 12.3723 - val_root_mean_squared_logarithmic_error_sclb: 0.5705\n",
            "Epoch 8/10\n",
            "1738/1738 [==============================] - 51s 30ms/step - loss: 0.4222 - mae_sclb: 12.1378 - root_mean_squared_logarithmic_error_sclb: 0.5824 - val_loss: 0.5689 - val_mae_sclb: 12.4838 - val_root_mean_squared_logarithmic_error_sclb: 0.5707\n",
            "Epoch 9/10\n",
            "1738/1738 [==============================] - 51s 30ms/step - loss: 0.4076 - mae_sclb: 12.0373 - root_mean_squared_logarithmic_error_sclb: 0.5780 - val_loss: 0.5579 - val_mae_sclb: 12.4845 - val_root_mean_squared_logarithmic_error_sclb: 0.5716\n",
            "Epoch 10/10\n",
            "1738/1738 [==============================] - 52s 30ms/step - loss: 0.3975 - mae_sclb: 11.9650 - root_mean_squared_logarithmic_error_sclb: 0.5775 - val_loss: 0.5781 - val_mae_sclb: 13.1159 - val_root_mean_squared_logarithmic_error_sclb: 0.6121\n"
          ],
          "name": "stdout"
        }
      ]
    },
    {
      "cell_type": "code",
      "metadata": {
        "id": "m6ZqDQxG4de0",
        "colab": {
          "base_uri": "https://localhost:8080/",
          "height": 204
        },
        "outputId": "063d7dc9-521a-448f-8322-014438d358af"
      },
      "source": [
        "histDf = pd.DataFrame(history.history)\r\n",
        "histDf.tail()"
      ],
      "execution_count": 147,
      "outputs": [
        {
          "output_type": "execute_result",
          "data": {
            "text/html": [
              "<div>\n",
              "<style scoped>\n",
              "    .dataframe tbody tr th:only-of-type {\n",
              "        vertical-align: middle;\n",
              "    }\n",
              "\n",
              "    .dataframe tbody tr th {\n",
              "        vertical-align: top;\n",
              "    }\n",
              "\n",
              "    .dataframe thead th {\n",
              "        text-align: right;\n",
              "    }\n",
              "</style>\n",
              "<table border=\"1\" class=\"dataframe\">\n",
              "  <thead>\n",
              "    <tr style=\"text-align: right;\">\n",
              "      <th></th>\n",
              "      <th>loss</th>\n",
              "      <th>mae_sclb</th>\n",
              "      <th>root_mean_squared_logarithmic_error_sclb</th>\n",
              "      <th>val_loss</th>\n",
              "      <th>val_mae_sclb</th>\n",
              "      <th>val_root_mean_squared_logarithmic_error_sclb</th>\n",
              "    </tr>\n",
              "  </thead>\n",
              "  <tbody>\n",
              "    <tr>\n",
              "      <th>5</th>\n",
              "      <td>0.476606</td>\n",
              "      <td>12.462254</td>\n",
              "      <td>0.596104</td>\n",
              "      <td>0.556343</td>\n",
              "      <td>12.550454</td>\n",
              "      <td>0.577678</td>\n",
              "    </tr>\n",
              "    <tr>\n",
              "      <th>6</th>\n",
              "      <td>0.447031</td>\n",
              "      <td>12.279383</td>\n",
              "      <td>0.585221</td>\n",
              "      <td>0.552715</td>\n",
              "      <td>12.372323</td>\n",
              "      <td>0.570468</td>\n",
              "    </tr>\n",
              "    <tr>\n",
              "      <th>7</th>\n",
              "      <td>0.422235</td>\n",
              "      <td>12.137775</td>\n",
              "      <td>0.582416</td>\n",
              "      <td>0.568879</td>\n",
              "      <td>12.483811</td>\n",
              "      <td>0.570694</td>\n",
              "    </tr>\n",
              "    <tr>\n",
              "      <th>8</th>\n",
              "      <td>0.407632</td>\n",
              "      <td>12.037266</td>\n",
              "      <td>0.578049</td>\n",
              "      <td>0.557858</td>\n",
              "      <td>12.484520</td>\n",
              "      <td>0.571568</td>\n",
              "    </tr>\n",
              "    <tr>\n",
              "      <th>9</th>\n",
              "      <td>0.397469</td>\n",
              "      <td>11.964991</td>\n",
              "      <td>0.577472</td>\n",
              "      <td>0.578131</td>\n",
              "      <td>13.115880</td>\n",
              "      <td>0.612132</td>\n",
              "    </tr>\n",
              "  </tbody>\n",
              "</table>\n",
              "</div>"
            ],
            "text/plain": [
              "       loss  ...  val_root_mean_squared_logarithmic_error_sclb\n",
              "5  0.476606  ...                                      0.577678\n",
              "6  0.447031  ...                                      0.570468\n",
              "7  0.422235  ...                                      0.570694\n",
              "8  0.407632  ...                                      0.571568\n",
              "9  0.397469  ...                                      0.612132\n",
              "\n",
              "[5 rows x 6 columns]"
            ]
          },
          "metadata": {
            "tags": []
          },
          "execution_count": 147
        }
      ]
    },
    {
      "cell_type": "code",
      "metadata": {
        "colab": {
          "base_uri": "https://localhost:8080/",
          "height": 282
        },
        "id": "d8NNZQXuht7t",
        "outputId": "4d3932e4-a4c2-4a06-ff5a-c2b2513db405"
      },
      "source": [
        "histDf.plot(y=[\"loss\", \"val_loss\"])"
      ],
      "execution_count": 148,
      "outputs": [
        {
          "output_type": "execute_result",
          "data": {
            "text/plain": [
              "<matplotlib.axes._subplots.AxesSubplot at 0x7f26b17aad68>"
            ]
          },
          "metadata": {
            "tags": []
          },
          "execution_count": 148
        },
        {
          "output_type": "display_data",
          "data": {
            "image/png": "[encoded data removed]",
            "text/plain": [
              "<Figure size 432x288 with 1 Axes>"
            ]
          },
          "metadata": {
            "tags": [],
            "needs_background": "light"
          }
        }
      ]
    },
    {
      "cell_type": "code",
      "metadata": {
        "colab": {
          "base_uri": "https://localhost:8080/",
          "height": 285
        },
        "id": "PUhr3WR3wpgt",
        "outputId": "2cc8e291-df84-4cd1-a008-21fd386b0d79"
      },
      "source": [
        "histDf.plot(y=[\"mae_sclb\", \"val_mae_sclb\"])"
      ],
      "execution_count": 149,
      "outputs": [
        {
          "output_type": "execute_result",
          "data": {
            "text/plain": [
              "<matplotlib.axes._subplots.AxesSubplot at 0x7f26b2d2c780>"
            ]
          },
          "metadata": {
            "tags": []
          },
          "execution_count": 149
        },
        {
          "output_type": "display_data",
          "data": {
            "image/png": "[encoded data removed]",
            "text/plain": [
              "<Figure size 432x288 with 1 Axes>"
            ]
          },
          "metadata": {
            "tags": [],
            "needs_background": "light"
          }
        }
      ]
    },
    {
      "cell_type": "code",
      "metadata": {
        "colab": {
          "base_uri": "https://localhost:8080/",
          "height": 282
        },
        "id": "B4R67iRKhvwW",
        "outputId": "0ccbf327-9882-46dc-d490-c7aa017b4a29"
      },
      "source": [
        "histDf.plot(y=[\"root_mean_squared_logarithmic_error_sclb\", \"val_root_mean_squared_logarithmic_error_sclb\"])"
      ],
      "execution_count": 150,
      "outputs": [
        {
          "output_type": "execute_result",
          "data": {
            "text/plain": [
              "<matplotlib.axes._subplots.AxesSubplot at 0x7f26b06a3cf8>"
            ]
          },
          "metadata": {
            "tags": []
          },
          "execution_count": 150
        },
        {
          "output_type": "display_data",
          "data": {
            "image/png": "[encoded data removed]",
            "text/plain": [
              "<Figure size 432x288 with 1 Axes>"
            ]
          },
          "metadata": {
            "tags": [],
            "needs_background": "light"
          }
        }
      ]
    }
  ]
}