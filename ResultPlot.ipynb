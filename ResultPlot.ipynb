{
 "cells": [
  {
   "cell_type": "code",
   "execution_count": 178,
   "metadata": {},
   "outputs": [],
   "source": [
    "import pandas as pd\n",
    "import plotly.express as px\n",
    "import plotly.graph_objects as go\n",
    "import numpy as np\n",
    "import random\n",
    "import re"
   ]
  },
  {
   "cell_type": "code",
   "execution_count": 179,
   "metadata": {},
   "outputs": [
    {
     "data": {
      "text/html": [
       "<div>\n",
       "<style scoped>\n",
       "    .dataframe tbody tr th:only-of-type {\n",
       "        vertical-align: middle;\n",
       "    }\n",
       "\n",
       "    .dataframe tbody tr th {\n",
       "        vertical-align: top;\n",
       "    }\n",
       "\n",
       "    .dataframe thead th {\n",
       "        text-align: right;\n",
       "    }\n",
       "</style>\n",
       "<table border=\"1\" class=\"dataframe\">\n",
       "  <thead>\n",
       "    <tr style=\"text-align: right;\">\n",
       "      <th></th>\n",
       "      <th>model</th>\n",
       "      <th>clean</th>\n",
       "      <th>totparams</th>\n",
       "      <th>trainparams</th>\n",
       "      <th>epochtime</th>\n",
       "      <th>nepochs</th>\n",
       "      <th>rmsle</th>\n",
       "    </tr>\n",
       "  </thead>\n",
       "  <tbody>\n",
       "    <tr>\n",
       "      <th>0</th>\n",
       "      <td>BoW</td>\n",
       "      <td>0</td>\n",
       "      <td>6678049</td>\n",
       "      <td>6678049</td>\n",
       "      <td>250</td>\n",
       "      <td>20</td>\n",
       "      <td>0.448557</td>\n",
       "    </tr>\n",
       "    <tr>\n",
       "      <th>1</th>\n",
       "      <td>BoW_clean</td>\n",
       "      <td>1</td>\n",
       "      <td>6225953</td>\n",
       "      <td>6225953</td>\n",
       "      <td>250</td>\n",
       "      <td>19</td>\n",
       "      <td>0.450954</td>\n",
       "    </tr>\n",
       "    <tr>\n",
       "      <th>2</th>\n",
       "      <td>TfIdf</td>\n",
       "      <td>0</td>\n",
       "      <td>6678049</td>\n",
       "      <td>6678049</td>\n",
       "      <td>250</td>\n",
       "      <td>20</td>\n",
       "      <td>0.457627</td>\n",
       "    </tr>\n",
       "    <tr>\n",
       "      <th>3</th>\n",
       "      <td>TfIdf_clean</td>\n",
       "      <td>1</td>\n",
       "      <td>6225953</td>\n",
       "      <td>6225953</td>\n",
       "      <td>250</td>\n",
       "      <td>20</td>\n",
       "      <td>0.454004</td>\n",
       "    </tr>\n",
       "    <tr>\n",
       "      <th>4</th>\n",
       "      <td>GloVe6B</td>\n",
       "      <td>0</td>\n",
       "      <td>119191497</td>\n",
       "      <td>75297</td>\n",
       "      <td>117</td>\n",
       "      <td>39</td>\n",
       "      <td>0.472487</td>\n",
       "    </tr>\n",
       "    <tr>\n",
       "      <th>5</th>\n",
       "      <td>GloVe6B_clean</td>\n",
       "      <td>1</td>\n",
       "      <td>90674697</td>\n",
       "      <td>75297</td>\n",
       "      <td>118</td>\n",
       "      <td>53</td>\n",
       "      <td>0.470249</td>\n",
       "    </tr>\n",
       "    <tr>\n",
       "      <th>6</th>\n",
       "      <td>GloVe840B</td>\n",
       "      <td>0</td>\n",
       "      <td>119191497</td>\n",
       "      <td>75297</td>\n",
       "      <td>135</td>\n",
       "      <td>40</td>\n",
       "      <td>0.460703</td>\n",
       "    </tr>\n",
       "    <tr>\n",
       "      <th>7</th>\n",
       "      <td>GloVe840B_clean</td>\n",
       "      <td>1</td>\n",
       "      <td>90674697</td>\n",
       "      <td>75297</td>\n",
       "      <td>121</td>\n",
       "      <td>40</td>\n",
       "      <td>0.463314</td>\n",
       "    </tr>\n",
       "    <tr>\n",
       "      <th>8</th>\n",
       "      <td>Bert</td>\n",
       "      <td>0</td>\n",
       "      <td>66543009</td>\n",
       "      <td>180129</td>\n",
       "      <td>1600</td>\n",
       "      <td>5</td>\n",
       "      <td>0.557600</td>\n",
       "    </tr>\n",
       "    <tr>\n",
       "      <th>9</th>\n",
       "      <td>NonText</td>\n",
       "      <td>0</td>\n",
       "      <td>769</td>\n",
       "      <td>769</td>\n",
       "      <td>14</td>\n",
       "      <td>40</td>\n",
       "      <td>0.656347</td>\n",
       "    </tr>\n",
       "    <tr>\n",
       "      <th>10</th>\n",
       "      <td>Keras</td>\n",
       "      <td>0</td>\n",
       "      <td>19871997</td>\n",
       "      <td>19871997</td>\n",
       "      <td>790</td>\n",
       "      <td>7</td>\n",
       "      <td>0.446618</td>\n",
       "    </tr>\n",
       "    <tr>\n",
       "      <th>11</th>\n",
       "      <td>Keras_clean</td>\n",
       "      <td>1</td>\n",
       "      <td>15119197</td>\n",
       "      <td>15119197</td>\n",
       "      <td>549</td>\n",
       "      <td>9</td>\n",
       "      <td>0.452475</td>\n",
       "    </tr>\n",
       "  </tbody>\n",
       "</table>\n",
       "</div>"
      ],
      "text/plain": [
       "              model  clean  totparams  trainparams  epochtime  nepochs  \\\n",
       "0               BoW      0    6678049      6678049        250       20   \n",
       "1         BoW_clean      1    6225953      6225953        250       19   \n",
       "2             TfIdf      0    6678049      6678049        250       20   \n",
       "3       TfIdf_clean      1    6225953      6225953        250       20   \n",
       "4           GloVe6B      0  119191497        75297        117       39   \n",
       "5     GloVe6B_clean      1   90674697        75297        118       53   \n",
       "6         GloVe840B      0  119191497        75297        135       40   \n",
       "7   GloVe840B_clean      1   90674697        75297        121       40   \n",
       "8              Bert      0   66543009       180129       1600        5   \n",
       "9           NonText      0        769          769         14       40   \n",
       "10            Keras      0   19871997     19871997        790        7   \n",
       "11      Keras_clean      1   15119197     15119197        549        9   \n",
       "\n",
       "       rmsle  \n",
       "0   0.448557  \n",
       "1   0.450954  \n",
       "2   0.457627  \n",
       "3   0.454004  \n",
       "4   0.472487  \n",
       "5   0.470249  \n",
       "6   0.460703  \n",
       "7   0.463314  \n",
       "8   0.557600  \n",
       "9   0.656347  \n",
       "10  0.446618  \n",
       "11  0.452475  "
      ]
     },
     "execution_count": 179,
     "metadata": {},
     "output_type": "execute_result"
    }
   ],
   "source": [
    "df = pd.read_csv('final_results.csv')\n",
    "df"
   ]
  },
  {
   "cell_type": "code",
   "execution_count": 180,
   "metadata": {},
   "outputs": [
    {
     "data": {
      "text/html": [
       "<div>\n",
       "<style scoped>\n",
       "    .dataframe tbody tr th:only-of-type {\n",
       "        vertical-align: middle;\n",
       "    }\n",
       "\n",
       "    .dataframe tbody tr th {\n",
       "        vertical-align: top;\n",
       "    }\n",
       "\n",
       "    .dataframe thead th {\n",
       "        text-align: right;\n",
       "    }\n",
       "</style>\n",
       "<table border=\"1\" class=\"dataframe\">\n",
       "  <thead>\n",
       "    <tr style=\"text-align: right;\">\n",
       "      <th></th>\n",
       "      <th>model</th>\n",
       "      <th>clean</th>\n",
       "      <th>totparams</th>\n",
       "      <th>trainparams</th>\n",
       "      <th>epochtime</th>\n",
       "      <th>nepochs</th>\n",
       "      <th>rmsle</th>\n",
       "      <th>trainparams_log</th>\n",
       "      <th>trainparams_log2</th>\n",
       "      <th>totparams_log</th>\n",
       "      <th>totparams_log2</th>\n",
       "      <th>etime_log</th>\n",
       "      <th>etime_log2</th>\n",
       "      <th>tottime</th>\n",
       "      <th>clean_b</th>\n",
       "    </tr>\n",
       "  </thead>\n",
       "  <tbody>\n",
       "    <tr>\n",
       "      <th>0</th>\n",
       "      <td>BoW</td>\n",
       "      <td>0</td>\n",
       "      <td>6678049</td>\n",
       "      <td>6678049</td>\n",
       "      <td>250</td>\n",
       "      <td>20</td>\n",
       "      <td>0.448557</td>\n",
       "      <td>15.714336</td>\n",
       "      <td>246.940370</td>\n",
       "      <td>15.714336</td>\n",
       "      <td>246.940370</td>\n",
       "      <td>5.521461</td>\n",
       "      <td>30.486531</td>\n",
       "      <td>5000</td>\n",
       "      <td>False</td>\n",
       "    </tr>\n",
       "    <tr>\n",
       "      <th>1</th>\n",
       "      <td>BoW_clean</td>\n",
       "      <td>1</td>\n",
       "      <td>6225953</td>\n",
       "      <td>6225953</td>\n",
       "      <td>250</td>\n",
       "      <td>19</td>\n",
       "      <td>0.450954</td>\n",
       "      <td>15.644237</td>\n",
       "      <td>244.742154</td>\n",
       "      <td>15.644237</td>\n",
       "      <td>244.742154</td>\n",
       "      <td>5.521461</td>\n",
       "      <td>30.486531</td>\n",
       "      <td>4750</td>\n",
       "      <td>True</td>\n",
       "    </tr>\n",
       "    <tr>\n",
       "      <th>2</th>\n",
       "      <td>TfIdf</td>\n",
       "      <td>0</td>\n",
       "      <td>6678049</td>\n",
       "      <td>6678049</td>\n",
       "      <td>250</td>\n",
       "      <td>20</td>\n",
       "      <td>0.457627</td>\n",
       "      <td>15.714336</td>\n",
       "      <td>246.940370</td>\n",
       "      <td>15.714336</td>\n",
       "      <td>246.940370</td>\n",
       "      <td>5.521461</td>\n",
       "      <td>30.486531</td>\n",
       "      <td>5000</td>\n",
       "      <td>False</td>\n",
       "    </tr>\n",
       "    <tr>\n",
       "      <th>3</th>\n",
       "      <td>TfIdf_clean</td>\n",
       "      <td>1</td>\n",
       "      <td>6225953</td>\n",
       "      <td>6225953</td>\n",
       "      <td>250</td>\n",
       "      <td>20</td>\n",
       "      <td>0.454004</td>\n",
       "      <td>15.644237</td>\n",
       "      <td>244.742154</td>\n",
       "      <td>15.644237</td>\n",
       "      <td>244.742154</td>\n",
       "      <td>5.521461</td>\n",
       "      <td>30.486531</td>\n",
       "      <td>5000</td>\n",
       "      <td>True</td>\n",
       "    </tr>\n",
       "    <tr>\n",
       "      <th>4</th>\n",
       "      <td>GloVe6B</td>\n",
       "      <td>0</td>\n",
       "      <td>119191497</td>\n",
       "      <td>75297</td>\n",
       "      <td>117</td>\n",
       "      <td>39</td>\n",
       "      <td>0.472487</td>\n",
       "      <td>11.229196</td>\n",
       "      <td>126.094833</td>\n",
       "      <td>18.596242</td>\n",
       "      <td>345.820216</td>\n",
       "      <td>4.762174</td>\n",
       "      <td>22.678301</td>\n",
       "      <td>4563</td>\n",
       "      <td>False</td>\n",
       "    </tr>\n",
       "    <tr>\n",
       "      <th>5</th>\n",
       "      <td>GloVe6B_clean</td>\n",
       "      <td>1</td>\n",
       "      <td>90674697</td>\n",
       "      <td>75297</td>\n",
       "      <td>118</td>\n",
       "      <td>53</td>\n",
       "      <td>0.470249</td>\n",
       "      <td>11.229196</td>\n",
       "      <td>126.094833</td>\n",
       "      <td>18.322789</td>\n",
       "      <td>335.724593</td>\n",
       "      <td>4.770685</td>\n",
       "      <td>22.759432</td>\n",
       "      <td>6254</td>\n",
       "      <td>True</td>\n",
       "    </tr>\n",
       "    <tr>\n",
       "      <th>6</th>\n",
       "      <td>GloVe840B</td>\n",
       "      <td>0</td>\n",
       "      <td>119191497</td>\n",
       "      <td>75297</td>\n",
       "      <td>135</td>\n",
       "      <td>40</td>\n",
       "      <td>0.460703</td>\n",
       "      <td>11.229196</td>\n",
       "      <td>126.094833</td>\n",
       "      <td>18.596242</td>\n",
       "      <td>345.820216</td>\n",
       "      <td>4.905275</td>\n",
       "      <td>24.061721</td>\n",
       "      <td>5400</td>\n",
       "      <td>False</td>\n",
       "    </tr>\n",
       "    <tr>\n",
       "      <th>7</th>\n",
       "      <td>GloVe840B_clean</td>\n",
       "      <td>1</td>\n",
       "      <td>90674697</td>\n",
       "      <td>75297</td>\n",
       "      <td>121</td>\n",
       "      <td>40</td>\n",
       "      <td>0.463314</td>\n",
       "      <td>11.229196</td>\n",
       "      <td>126.094833</td>\n",
       "      <td>18.322789</td>\n",
       "      <td>335.724593</td>\n",
       "      <td>4.795791</td>\n",
       "      <td>22.999607</td>\n",
       "      <td>4840</td>\n",
       "      <td>True</td>\n",
       "    </tr>\n",
       "    <tr>\n",
       "      <th>8</th>\n",
       "      <td>Bert</td>\n",
       "      <td>0</td>\n",
       "      <td>66543009</td>\n",
       "      <td>180129</td>\n",
       "      <td>1600</td>\n",
       "      <td>5</td>\n",
       "      <td>0.557600</td>\n",
       "      <td>12.101429</td>\n",
       "      <td>146.444573</td>\n",
       "      <td>18.013359</td>\n",
       "      <td>324.481104</td>\n",
       "      <td>7.377759</td>\n",
       "      <td>54.431327</td>\n",
       "      <td>8000</td>\n",
       "      <td>False</td>\n",
       "    </tr>\n",
       "    <tr>\n",
       "      <th>9</th>\n",
       "      <td>NonText</td>\n",
       "      <td>0</td>\n",
       "      <td>769</td>\n",
       "      <td>769</td>\n",
       "      <td>14</td>\n",
       "      <td>40</td>\n",
       "      <td>0.656347</td>\n",
       "      <td>6.645091</td>\n",
       "      <td>44.157234</td>\n",
       "      <td>6.645091</td>\n",
       "      <td>44.157234</td>\n",
       "      <td>2.639057</td>\n",
       "      <td>6.964624</td>\n",
       "      <td>560</td>\n",
       "      <td>False</td>\n",
       "    </tr>\n",
       "    <tr>\n",
       "      <th>10</th>\n",
       "      <td>Keras</td>\n",
       "      <td>0</td>\n",
       "      <td>19871997</td>\n",
       "      <td>19871997</td>\n",
       "      <td>790</td>\n",
       "      <td>7</td>\n",
       "      <td>0.446618</td>\n",
       "      <td>16.804822</td>\n",
       "      <td>282.402046</td>\n",
       "      <td>16.804822</td>\n",
       "      <td>282.402046</td>\n",
       "      <td>6.672033</td>\n",
       "      <td>44.516024</td>\n",
       "      <td>5530</td>\n",
       "      <td>False</td>\n",
       "    </tr>\n",
       "    <tr>\n",
       "      <th>11</th>\n",
       "      <td>Keras_clean</td>\n",
       "      <td>1</td>\n",
       "      <td>15119197</td>\n",
       "      <td>15119197</td>\n",
       "      <td>549</td>\n",
       "      <td>9</td>\n",
       "      <td>0.452475</td>\n",
       "      <td>16.531476</td>\n",
       "      <td>273.289693</td>\n",
       "      <td>16.531476</td>\n",
       "      <td>273.289693</td>\n",
       "      <td>6.308098</td>\n",
       "      <td>39.792106</td>\n",
       "      <td>4941</td>\n",
       "      <td>True</td>\n",
       "    </tr>\n",
       "  </tbody>\n",
       "</table>\n",
       "</div>"
      ],
      "text/plain": [
       "              model  clean  totparams  trainparams  epochtime  nepochs  \\\n",
       "0               BoW      0    6678049      6678049        250       20   \n",
       "1         BoW_clean      1    6225953      6225953        250       19   \n",
       "2             TfIdf      0    6678049      6678049        250       20   \n",
       "3       TfIdf_clean      1    6225953      6225953        250       20   \n",
       "4           GloVe6B      0  119191497        75297        117       39   \n",
       "5     GloVe6B_clean      1   90674697        75297        118       53   \n",
       "6         GloVe840B      0  119191497        75297        135       40   \n",
       "7   GloVe840B_clean      1   90674697        75297        121       40   \n",
       "8              Bert      0   66543009       180129       1600        5   \n",
       "9           NonText      0        769          769         14       40   \n",
       "10            Keras      0   19871997     19871997        790        7   \n",
       "11      Keras_clean      1   15119197     15119197        549        9   \n",
       "\n",
       "       rmsle  trainparams_log  trainparams_log2  totparams_log  \\\n",
       "0   0.448557        15.714336        246.940370      15.714336   \n",
       "1   0.450954        15.644237        244.742154      15.644237   \n",
       "2   0.457627        15.714336        246.940370      15.714336   \n",
       "3   0.454004        15.644237        244.742154      15.644237   \n",
       "4   0.472487        11.229196        126.094833      18.596242   \n",
       "5   0.470249        11.229196        126.094833      18.322789   \n",
       "6   0.460703        11.229196        126.094833      18.596242   \n",
       "7   0.463314        11.229196        126.094833      18.322789   \n",
       "8   0.557600        12.101429        146.444573      18.013359   \n",
       "9   0.656347         6.645091         44.157234       6.645091   \n",
       "10  0.446618        16.804822        282.402046      16.804822   \n",
       "11  0.452475        16.531476        273.289693      16.531476   \n",
       "\n",
       "    totparams_log2  etime_log  etime_log2  tottime  clean_b  \n",
       "0       246.940370   5.521461   30.486531     5000    False  \n",
       "1       244.742154   5.521461   30.486531     4750     True  \n",
       "2       246.940370   5.521461   30.486531     5000    False  \n",
       "3       244.742154   5.521461   30.486531     5000     True  \n",
       "4       345.820216   4.762174   22.678301     4563    False  \n",
       "5       335.724593   4.770685   22.759432     6254     True  \n",
       "6       345.820216   4.905275   24.061721     5400    False  \n",
       "7       335.724593   4.795791   22.999607     4840     True  \n",
       "8       324.481104   7.377759   54.431327     8000    False  \n",
       "9        44.157234   2.639057    6.964624      560    False  \n",
       "10      282.402046   6.672033   44.516024     5530    False  \n",
       "11      273.289693   6.308098   39.792106     4941     True  "
      ]
     },
     "execution_count": 180,
     "metadata": {},
     "output_type": "execute_result"
    }
   ],
   "source": [
    "df['trainparams_log'] = df[\"trainparams\"].apply(np.log)\n",
    "df['trainparams_log2'] = df[\"trainparams\"].apply(lambda x: np.log(x)**2)\n",
    "df['totparams_log'] = df[\"totparams\"].apply(np.log)\n",
    "df['totparams_log2'] = df[\"totparams\"].apply(lambda x: np.log(x)**2)\n",
    "df['etime_log'] = df[\"epochtime\"].apply(np.log)\n",
    "df['etime_log2'] = df[\"epochtime\"].apply(lambda x: np.log(x)**2)\n",
    "df['tottime'] = df['epochtime']*df['nepochs']\n",
    "df[\"clean_b\"] = df[\"clean\"].astype('boolean')\n",
    "df"
   ]
  },
  {
   "cell_type": "code",
   "execution_count": 181,
   "metadata": {},
   "outputs": [
    {
     "data": {
      "text/html": [
       "<div>\n",
       "<style scoped>\n",
       "    .dataframe tbody tr th:only-of-type {\n",
       "        vertical-align: middle;\n",
       "    }\n",
       "\n",
       "    .dataframe tbody tr th {\n",
       "        vertical-align: top;\n",
       "    }\n",
       "\n",
       "    .dataframe thead th {\n",
       "        text-align: right;\n",
       "    }\n",
       "</style>\n",
       "<table border=\"1\" class=\"dataframe\">\n",
       "  <thead>\n",
       "    <tr style=\"text-align: right;\">\n",
       "      <th></th>\n",
       "      <th>model</th>\n",
       "      <th>clean</th>\n",
       "      <th>totparams</th>\n",
       "      <th>trainparams</th>\n",
       "      <th>epochtime</th>\n",
       "      <th>nepochs</th>\n",
       "      <th>rmsle</th>\n",
       "      <th>trainparams_log</th>\n",
       "      <th>trainparams_log2</th>\n",
       "      <th>totparams_log</th>\n",
       "      <th>totparams_log2</th>\n",
       "      <th>etime_log</th>\n",
       "      <th>etime_log2</th>\n",
       "      <th>tottime</th>\n",
       "      <th>clean_b</th>\n",
       "    </tr>\n",
       "  </thead>\n",
       "  <tbody>\n",
       "    <tr>\n",
       "      <th>0</th>\n",
       "      <td>Bert</td>\n",
       "      <td>0</td>\n",
       "      <td>66543009</td>\n",
       "      <td>180129</td>\n",
       "      <td>1600</td>\n",
       "      <td>5</td>\n",
       "      <td>0.557600</td>\n",
       "      <td>12.101429</td>\n",
       "      <td>146.444573</td>\n",
       "      <td>18.013359</td>\n",
       "      <td>324.481104</td>\n",
       "      <td>7.377759</td>\n",
       "      <td>54.431327</td>\n",
       "      <td>8000</td>\n",
       "      <td>False</td>\n",
       "    </tr>\n",
       "    <tr>\n",
       "      <th>1</th>\n",
       "      <td>BoW</td>\n",
       "      <td>0</td>\n",
       "      <td>6678049</td>\n",
       "      <td>6678049</td>\n",
       "      <td>250</td>\n",
       "      <td>20</td>\n",
       "      <td>0.448557</td>\n",
       "      <td>15.714336</td>\n",
       "      <td>246.940370</td>\n",
       "      <td>15.714336</td>\n",
       "      <td>246.940370</td>\n",
       "      <td>5.521461</td>\n",
       "      <td>30.486531</td>\n",
       "      <td>5000</td>\n",
       "      <td>False</td>\n",
       "    </tr>\n",
       "  </tbody>\n",
       "</table>\n",
       "</div>"
      ],
      "text/plain": [
       "  model  clean  totparams  trainparams  epochtime  nepochs     rmsle  \\\n",
       "0  Bert      0   66543009       180129       1600        5  0.557600   \n",
       "1   BoW      0    6678049      6678049        250       20  0.448557   \n",
       "\n",
       "   trainparams_log  trainparams_log2  totparams_log  totparams_log2  \\\n",
       "0        12.101429        146.444573      18.013359      324.481104   \n",
       "1        15.714336        246.940370      15.714336      246.940370   \n",
       "\n",
       "   etime_log  etime_log2  tottime  clean_b  \n",
       "0   7.377759   54.431327     8000    False  \n",
       "1   5.521461   30.486531     5000    False  "
      ]
     },
     "execution_count": 181,
     "metadata": {},
     "output_type": "execute_result"
    }
   ],
   "source": [
    "df = df.sort_values(\"model\")\n",
    "df.reset_index(inplace=True, drop=True)\n",
    "df.head(2)"
   ]
  },
  {
   "cell_type": "code",
   "execution_count": null,
   "metadata": {
    "scrolled": false
   },
   "outputs": [],
   "source": [
    "fig = px.scatter(df, x=\"epochtime\", y=\"rmsle\", size='totparams_log2',\n",
    "                 text=None, color=\"model\", width=700, height=400,\n",
    "                 log_x=False, log_y=False, size_max=30,\n",
    "                 labels={\n",
    "                     \"epochtime\": \"Durata di un'epoca (s)\",\n",
    "                     \"rmsle\": \"Rmsle\",\n",
    "                     \"model\": \"Modello\"\n",
    "                 },\n",
    "                 #title=\"Rmsle in funzione della Durata di un epoca di training. La dimensione corrisponde ai Parametri Totali\"\n",
    "                )\n",
    "#fig.update_layout(paper_bgcolor='rgba(0,0,0,0)',plot_bgcolor='rgba(0,0,0,0)')\n",
    "#fig.update_traces(textposition='top center')\n",
    "#fig.update_layout(showlegend=False)\n",
    "\n",
    "for i in fig['data']:\n",
    "    if re.match('.*_clean$', i['name']):\n",
    "        i['marker']['symbol'] = 'diamond'\n",
    "\n",
    "# errore in funzione del tempo richiesto da una singola epoca.\n",
    "# la dimensione corrisponde ai parametri totali dei modelli\n",
    "\n",
    "fig.show()"
   ]
  },
  {
   "cell_type": "code",
   "execution_count": 196,
   "metadata": {},
   "outputs": [
    {
     "data": {
      "application/vnd.plotly.v1+json": {
       "config": {
        "plotlyServerURL": "https://plot.ly"
       },
       "data": [
        {
         "hovertemplate": "Modello=Bert<br>Durata di un'epoca (s)=%{x}<br>Rmsle=%{y}<br>totparams_log2=%{marker.size}<extra></extra>",
         "legendgroup": "Bert",
         "marker": {
          "color": "rgb(102, 197, 204)",
          "size": [
           324.48110420844455
          ],
          "sizemode": "area",
          "sizeref": 0.38424468403982254,
          "symbol": "circle"
         },
         "mode": "markers",
         "name": "Bert",
         "orientation": "v",
         "showlegend": true,
         "type": "scatter",
         "x": [
          1600
         ],
         "xaxis": "x",
         "y": [
          0.5576
         ],
         "yaxis": "y"
        },
        {
         "hovertemplate": "Modello=BoW<br>Durata di un'epoca (s)=%{x}<br>Rmsle=%{y}<br>totparams_log2=%{marker.size}<extra></extra>",
         "legendgroup": "BoW",
         "marker": {
          "color": "rgb(246, 207, 113)",
          "size": [
           246.94036965475516
          ],
          "sizemode": "area",
          "sizeref": 0.38424468403982254,
          "symbol": "circle"
         },
         "mode": "markers",
         "name": "BoW",
         "orientation": "v",
         "showlegend": true,
         "type": "scatter",
         "x": [
          250
         ],
         "xaxis": "x",
         "y": [
          0.4485570192337036
         ],
         "yaxis": "y"
        },
        {
         "hovertemplate": "Modello=BoW_clean<br>Durata di un'epoca (s)=%{x}<br>Rmsle=%{y}<br>totparams_log2=%{marker.size}<extra></extra>",
         "legendgroup": "BoW_clean",
         "marker": {
          "color": "rgb(248, 156, 116)",
          "size": [
           244.74215384550547
          ],
          "sizemode": "area",
          "sizeref": 0.38424468403982254,
          "symbol": "diamond"
         },
         "mode": "markers",
         "name": "BoW_clean",
         "orientation": "v",
         "showlegend": true,
         "type": "scatter",
         "x": [
          250
         ],
         "xaxis": "x",
         "y": [
          0.4509544968605042
         ],
         "yaxis": "y"
        },
        {
         "hovertemplate": "Modello=GloVe6B<br>Durata di un'epoca (s)=%{x}<br>Rmsle=%{y}<br>totparams_log2=%{marker.size}<extra></extra>",
         "legendgroup": "GloVe6B",
         "marker": {
          "color": "rgb(220, 176, 242)",
          "size": [
           345.82021563584027
          ],
          "sizemode": "area",
          "sizeref": 0.38424468403982254,
          "symbol": "circle"
         },
         "mode": "markers",
         "name": "GloVe6B",
         "orientation": "v",
         "showlegend": true,
         "type": "scatter",
         "x": [
          117
         ],
         "xaxis": "x",
         "y": [
          0.4724872410297394
         ],
         "yaxis": "y"
        },
        {
         "hovertemplate": "Modello=GloVe6B_clean<br>Durata di un'epoca (s)=%{x}<br>Rmsle=%{y}<br>totparams_log2=%{marker.size}<extra></extra>",
         "legendgroup": "GloVe6B_clean",
         "marker": {
          "color": "rgb(135, 197, 95)",
          "size": [
           335.72459312977537
          ],
          "sizemode": "area",
          "sizeref": 0.38424468403982254,
          "symbol": "diamond"
         },
         "mode": "markers",
         "name": "GloVe6B_clean",
         "orientation": "v",
         "showlegend": true,
         "type": "scatter",
         "x": [
          118
         ],
         "xaxis": "x",
         "y": [
          0.470249354839325
         ],
         "yaxis": "y"
        },
        {
         "hovertemplate": "Modello=GloVe840B<br>Durata di un'epoca (s)=%{x}<br>Rmsle=%{y}<br>totparams_log2=%{marker.size}<extra></extra>",
         "legendgroup": "GloVe840B",
         "marker": {
          "color": "rgb(158, 185, 243)",
          "size": [
           345.82021563584027
          ],
          "sizemode": "area",
          "sizeref": 0.38424468403982254,
          "symbol": "circle"
         },
         "mode": "markers",
         "name": "GloVe840B",
         "orientation": "v",
         "showlegend": true,
         "type": "scatter",
         "x": [
          135
         ],
         "xaxis": "x",
         "y": [
          0.4607028365135193
         ],
         "yaxis": "y"
        },
        {
         "hovertemplate": "Modello=GloVe840B_clean<br>Durata di un'epoca (s)=%{x}<br>Rmsle=%{y}<br>totparams_log2=%{marker.size}<extra></extra>",
         "legendgroup": "GloVe840B_clean",
         "marker": {
          "color": "rgb(254, 136, 177)",
          "size": [
           335.72459312977537
          ],
          "sizemode": "area",
          "sizeref": 0.38424468403982254,
          "symbol": "diamond"
         },
         "mode": "markers",
         "name": "GloVe840B_clean",
         "orientation": "v",
         "showlegend": true,
         "type": "scatter",
         "x": [
          121
         ],
         "xaxis": "x",
         "y": [
          0.463313639163971
         ],
         "yaxis": "y"
        },
        {
         "hovertemplate": "Modello=Keras<br>Durata di un'epoca (s)=%{x}<br>Rmsle=%{y}<br>totparams_log2=%{marker.size}<extra></extra>",
         "legendgroup": "Keras",
         "marker": {
          "color": "rgb(201, 219, 116)",
          "size": [
           282.40204624114267
          ],
          "sizemode": "area",
          "sizeref": 0.38424468403982254,
          "symbol": "circle"
         },
         "mode": "markers",
         "name": "Keras",
         "orientation": "v",
         "showlegend": true,
         "type": "scatter",
         "x": [
          790
         ],
         "xaxis": "x",
         "y": [
          0.4466181695461273
         ],
         "yaxis": "y"
        },
        {
         "hovertemplate": "Modello=Keras_clean<br>Durata di un'epoca (s)=%{x}<br>Rmsle=%{y}<br>totparams_log2=%{marker.size}<extra></extra>",
         "legendgroup": "Keras_clean",
         "marker": {
          "color": "rgb(139, 224, 164)",
          "size": [
           273.28969274888334
          ],
          "sizemode": "area",
          "sizeref": 0.38424468403982254,
          "symbol": "diamond"
         },
         "mode": "markers",
         "name": "Keras_clean",
         "orientation": "v",
         "showlegend": true,
         "type": "scatter",
         "x": [
          549
         ],
         "xaxis": "x",
         "y": [
          0.4524747729301453
         ],
         "yaxis": "y"
        },
        {
         "hovertemplate": "Modello=NonText<br>Durata di un'epoca (s)=%{x}<br>Rmsle=%{y}<br>totparams_log2=%{marker.size}<extra></extra>",
         "legendgroup": "NonText",
         "marker": {
          "color": "rgb(180, 151, 231)",
          "size": [
           44.15723399300546
          ],
          "sizemode": "area",
          "sizeref": 0.38424468403982254,
          "symbol": "circle"
         },
         "mode": "markers",
         "name": "NonText",
         "orientation": "v",
         "showlegend": true,
         "type": "scatter",
         "x": [
          14
         ],
         "xaxis": "x",
         "y": [
          0.6563467383384705
         ],
         "yaxis": "y"
        },
        {
         "hovertemplate": "Modello=TfIdf<br>Durata di un'epoca (s)=%{x}<br>Rmsle=%{y}<br>totparams_log2=%{marker.size}<extra></extra>",
         "legendgroup": "TfIdf",
         "marker": {
          "color": "rgb(179, 179, 179)",
          "size": [
           246.94036965475516
          ],
          "sizemode": "area",
          "sizeref": 0.38424468403982254,
          "symbol": "circle"
         },
         "mode": "markers",
         "name": "TfIdf",
         "orientation": "v",
         "showlegend": true,
         "type": "scatter",
         "x": [
          250
         ],
         "xaxis": "x",
         "y": [
          0.4576269388198853
         ],
         "yaxis": "y"
        },
        {
         "hovertemplate": "Modello=TfIdf_clean<br>Durata di un'epoca (s)=%{x}<br>Rmsle=%{y}<br>totparams_log2=%{marker.size}<extra></extra>",
         "legendgroup": "TfIdf_clean",
         "marker": {
          "color": "rgb(102, 197, 204)",
          "size": [
           244.74215384550547
          ],
          "sizemode": "area",
          "sizeref": 0.38424468403982254,
          "symbol": "diamond"
         },
         "mode": "markers",
         "name": "TfIdf_clean",
         "orientation": "v",
         "showlegend": true,
         "type": "scatter",
         "x": [
          250
         ],
         "xaxis": "x",
         "y": [
          0.4540041983127594
         ],
         "yaxis": "y"
        }
       ],
       "layout": {
        "height": 400,
        "legend": {
         "itemsizing": "constant",
         "title": {
          "text": "Modello"
         },
         "tracegroupgap": 0
        },
        "margin": {
         "t": 60
        },
        "template": {
         "data": {
          "bar": [
           {
            "error_x": {
             "color": "#2a3f5f"
            },
            "error_y": {
             "color": "#2a3f5f"
            },
            "marker": {
             "line": {
              "color": "#E5ECF6",
              "width": 0.5
             }
            },
            "type": "bar"
           }
          ],
          "barpolar": [
           {
            "marker": {
             "line": {
              "color": "#E5ECF6",
              "width": 0.5
             }
            },
            "type": "barpolar"
           }
          ],
          "carpet": [
           {
            "aaxis": {
             "endlinecolor": "#2a3f5f",
             "gridcolor": "white",
             "linecolor": "white",
             "minorgridcolor": "white",
             "startlinecolor": "#2a3f5f"
            },
            "baxis": {
             "endlinecolor": "#2a3f5f",
             "gridcolor": "white",
             "linecolor": "white",
             "minorgridcolor": "white",
             "startlinecolor": "#2a3f5f"
            },
            "type": "carpet"
           }
          ],
          "choropleth": [
           {
            "colorbar": {
             "outlinewidth": 0,
             "ticks": ""
            },
            "type": "choropleth"
           }
          ],
          "contour": [
           {
            "colorbar": {
             "outlinewidth": 0,
             "ticks": ""
            },
            "colorscale": [
             [
              0,
              "#0d0887"
             ],
             [
              0.1111111111111111,
              "#46039f"
             ],
             [
              0.2222222222222222,
              "#7201a8"
             ],
             [
              0.3333333333333333,
              "#9c179e"
             ],
             [
              0.4444444444444444,
              "#bd3786"
             ],
             [
              0.5555555555555556,
              "#d8576b"
             ],
             [
              0.6666666666666666,
              "#ed7953"
             ],
             [
              0.7777777777777778,
              "#fb9f3a"
             ],
             [
              0.8888888888888888,
              "#fdca26"
             ],
             [
              1,
              "#f0f921"
             ]
            ],
            "type": "contour"
           }
          ],
          "contourcarpet": [
           {
            "colorbar": {
             "outlinewidth": 0,
             "ticks": ""
            },
            "type": "contourcarpet"
           }
          ],
          "heatmap": [
           {
            "colorbar": {
             "outlinewidth": 0,
             "ticks": ""
            },
            "colorscale": [
             [
              0,
              "#0d0887"
             ],
             [
              0.1111111111111111,
              "#46039f"
             ],
             [
              0.2222222222222222,
              "#7201a8"
             ],
             [
              0.3333333333333333,
              "#9c179e"
             ],
             [
              0.4444444444444444,
              "#bd3786"
             ],
             [
              0.5555555555555556,
              "#d8576b"
             ],
             [
              0.6666666666666666,
              "#ed7953"
             ],
             [
              0.7777777777777778,
              "#fb9f3a"
             ],
             [
              0.8888888888888888,
              "#fdca26"
             ],
             [
              1,
              "#f0f921"
             ]
            ],
            "type": "heatmap"
           }
          ],
          "heatmapgl": [
           {
            "colorbar": {
             "outlinewidth": 0,
             "ticks": ""
            },
            "colorscale": [
             [
              0,
              "#0d0887"
             ],
             [
              0.1111111111111111,
              "#46039f"
             ],
             [
              0.2222222222222222,
              "#7201a8"
             ],
             [
              0.3333333333333333,
              "#9c179e"
             ],
             [
              0.4444444444444444,
              "#bd3786"
             ],
             [
              0.5555555555555556,
              "#d8576b"
             ],
             [
              0.6666666666666666,
              "#ed7953"
             ],
             [
              0.7777777777777778,
              "#fb9f3a"
             ],
             [
              0.8888888888888888,
              "#fdca26"
             ],
             [
              1,
              "#f0f921"
             ]
            ],
            "type": "heatmapgl"
           }
          ],
          "histogram": [
           {
            "marker": {
             "colorbar": {
              "outlinewidth": 0,
              "ticks": ""
             }
            },
            "type": "histogram"
           }
          ],
          "histogram2d": [
           {
            "colorbar": {
             "outlinewidth": 0,
             "ticks": ""
            },
            "colorscale": [
             [
              0,
              "#0d0887"
             ],
             [
              0.1111111111111111,
              "#46039f"
             ],
             [
              0.2222222222222222,
              "#7201a8"
             ],
             [
              0.3333333333333333,
              "#9c179e"
             ],
             [
              0.4444444444444444,
              "#bd3786"
             ],
             [
              0.5555555555555556,
              "#d8576b"
             ],
             [
              0.6666666666666666,
              "#ed7953"
             ],
             [
              0.7777777777777778,
              "#fb9f3a"
             ],
             [
              0.8888888888888888,
              "#fdca26"
             ],
             [
              1,
              "#f0f921"
             ]
            ],
            "type": "histogram2d"
           }
          ],
          "histogram2dcontour": [
           {
            "colorbar": {
             "outlinewidth": 0,
             "ticks": ""
            },
            "colorscale": [
             [
              0,
              "#0d0887"
             ],
             [
              0.1111111111111111,
              "#46039f"
             ],
             [
              0.2222222222222222,
              "#7201a8"
             ],
             [
              0.3333333333333333,
              "#9c179e"
             ],
             [
              0.4444444444444444,
              "#bd3786"
             ],
             [
              0.5555555555555556,
              "#d8576b"
             ],
             [
              0.6666666666666666,
              "#ed7953"
             ],
             [
              0.7777777777777778,
              "#fb9f3a"
             ],
             [
              0.8888888888888888,
              "#fdca26"
             ],
             [
              1,
              "#f0f921"
             ]
            ],
            "type": "histogram2dcontour"
           }
          ],
          "mesh3d": [
           {
            "colorbar": {
             "outlinewidth": 0,
             "ticks": ""
            },
            "type": "mesh3d"
           }
          ],
          "parcoords": [
           {
            "line": {
             "colorbar": {
              "outlinewidth": 0,
              "ticks": ""
             }
            },
            "type": "parcoords"
           }
          ],
          "pie": [
           {
            "automargin": true,
            "type": "pie"
           }
          ],
          "scatter": [
           {
            "marker": {
             "colorbar": {
              "outlinewidth": 0,
              "ticks": ""
             }
            },
            "type": "scatter"
           }
          ],
          "scatter3d": [
           {
            "line": {
             "colorbar": {
              "outlinewidth": 0,
              "ticks": ""
             }
            },
            "marker": {
             "colorbar": {
              "outlinewidth": 0,
              "ticks": ""
             }
            },
            "type": "scatter3d"
           }
          ],
          "scattercarpet": [
           {
            "marker": {
             "colorbar": {
              "outlinewidth": 0,
              "ticks": ""
             }
            },
            "type": "scattercarpet"
           }
          ],
          "scattergeo": [
           {
            "marker": {
             "colorbar": {
              "outlinewidth": 0,
              "ticks": ""
             }
            },
            "type": "scattergeo"
           }
          ],
          "scattergl": [
           {
            "marker": {
             "colorbar": {
              "outlinewidth": 0,
              "ticks": ""
             }
            },
            "type": "scattergl"
           }
          ],
          "scattermapbox": [
           {
            "marker": {
             "colorbar": {
              "outlinewidth": 0,
              "ticks": ""
             }
            },
            "type": "scattermapbox"
           }
          ],
          "scatterpolar": [
           {
            "marker": {
             "colorbar": {
              "outlinewidth": 0,
              "ticks": ""
             }
            },
            "type": "scatterpolar"
           }
          ],
          "scatterpolargl": [
           {
            "marker": {
             "colorbar": {
              "outlinewidth": 0,
              "ticks": ""
             }
            },
            "type": "scatterpolargl"
           }
          ],
          "scatterternary": [
           {
            "marker": {
             "colorbar": {
              "outlinewidth": 0,
              "ticks": ""
             }
            },
            "type": "scatterternary"
           }
          ],
          "surface": [
           {
            "colorbar": {
             "outlinewidth": 0,
             "ticks": ""
            },
            "colorscale": [
             [
              0,
              "#0d0887"
             ],
             [
              0.1111111111111111,
              "#46039f"
             ],
             [
              0.2222222222222222,
              "#7201a8"
             ],
             [
              0.3333333333333333,
              "#9c179e"
             ],
             [
              0.4444444444444444,
              "#bd3786"
             ],
             [
              0.5555555555555556,
              "#d8576b"
             ],
             [
              0.6666666666666666,
              "#ed7953"
             ],
             [
              0.7777777777777778,
              "#fb9f3a"
             ],
             [
              0.8888888888888888,
              "#fdca26"
             ],
             [
              1,
              "#f0f921"
             ]
            ],
            "type": "surface"
           }
          ],
          "table": [
           {
            "cells": {
             "fill": {
              "color": "#EBF0F8"
             },
             "line": {
              "color": "white"
             }
            },
            "header": {
             "fill": {
              "color": "#C8D4E3"
             },
             "line": {
              "color": "white"
             }
            },
            "type": "table"
           }
          ]
         },
         "layout": {
          "annotationdefaults": {
           "arrowcolor": "#2a3f5f",
           "arrowhead": 0,
           "arrowwidth": 1
          },
          "autotypenumbers": "strict",
          "coloraxis": {
           "colorbar": {
            "outlinewidth": 0,
            "ticks": ""
           }
          },
          "colorscale": {
           "diverging": [
            [
             0,
             "#8e0152"
            ],
            [
             0.1,
             "#c51b7d"
            ],
            [
             0.2,
             "#de77ae"
            ],
            [
             0.3,
             "#f1b6da"
            ],
            [
             0.4,
             "#fde0ef"
            ],
            [
             0.5,
             "#f7f7f7"
            ],
            [
             0.6,
             "#e6f5d0"
            ],
            [
             0.7,
             "#b8e186"
            ],
            [
             0.8,
             "#7fbc41"
            ],
            [
             0.9,
             "#4d9221"
            ],
            [
             1,
             "#276419"
            ]
           ],
           "sequential": [
            [
             0,
             "#0d0887"
            ],
            [
             0.1111111111111111,
             "#46039f"
            ],
            [
             0.2222222222222222,
             "#7201a8"
            ],
            [
             0.3333333333333333,
             "#9c179e"
            ],
            [
             0.4444444444444444,
             "#bd3786"
            ],
            [
             0.5555555555555556,
             "#d8576b"
            ],
            [
             0.6666666666666666,
             "#ed7953"
            ],
            [
             0.7777777777777778,
             "#fb9f3a"
            ],
            [
             0.8888888888888888,
             "#fdca26"
            ],
            [
             1,
             "#f0f921"
            ]
           ],
           "sequentialminus": [
            [
             0,
             "#0d0887"
            ],
            [
             0.1111111111111111,
             "#46039f"
            ],
            [
             0.2222222222222222,
             "#7201a8"
            ],
            [
             0.3333333333333333,
             "#9c179e"
            ],
            [
             0.4444444444444444,
             "#bd3786"
            ],
            [
             0.5555555555555556,
             "#d8576b"
            ],
            [
             0.6666666666666666,
             "#ed7953"
            ],
            [
             0.7777777777777778,
             "#fb9f3a"
            ],
            [
             0.8888888888888888,
             "#fdca26"
            ],
            [
             1,
             "#f0f921"
            ]
           ]
          },
          "colorway": [
           "#636efa",
           "#EF553B",
           "#00cc96",
           "#ab63fa",
           "#FFA15A",
           "#19d3f3",
           "#FF6692",
           "#B6E880",
           "#FF97FF",
           "#FECB52"
          ],
          "font": {
           "color": "#2a3f5f"
          },
          "geo": {
           "bgcolor": "white",
           "lakecolor": "white",
           "landcolor": "#E5ECF6",
           "showlakes": true,
           "showland": true,
           "subunitcolor": "white"
          },
          "hoverlabel": {
           "align": "left"
          },
          "hovermode": "closest",
          "mapbox": {
           "style": "light"
          },
          "paper_bgcolor": "white",
          "plot_bgcolor": "#E5ECF6",
          "polar": {
           "angularaxis": {
            "gridcolor": "white",
            "linecolor": "white",
            "ticks": ""
           },
           "bgcolor": "#E5ECF6",
           "radialaxis": {
            "gridcolor": "white",
            "linecolor": "white",
            "ticks": ""
           }
          },
          "scene": {
           "xaxis": {
            "backgroundcolor": "#E5ECF6",
            "gridcolor": "white",
            "gridwidth": 2,
            "linecolor": "white",
            "showbackground": true,
            "ticks": "",
            "zerolinecolor": "white"
           },
           "yaxis": {
            "backgroundcolor": "#E5ECF6",
            "gridcolor": "white",
            "gridwidth": 2,
            "linecolor": "white",
            "showbackground": true,
            "ticks": "",
            "zerolinecolor": "white"
           },
           "zaxis": {
            "backgroundcolor": "#E5ECF6",
            "gridcolor": "white",
            "gridwidth": 2,
            "linecolor": "white",
            "showbackground": true,
            "ticks": "",
            "zerolinecolor": "white"
           }
          },
          "shapedefaults": {
           "line": {
            "color": "#2a3f5f"
           }
          },
          "ternary": {
           "aaxis": {
            "gridcolor": "white",
            "linecolor": "white",
            "ticks": ""
           },
           "baxis": {
            "gridcolor": "white",
            "linecolor": "white",
            "ticks": ""
           },
           "bgcolor": "#E5ECF6",
           "caxis": {
            "gridcolor": "white",
            "linecolor": "white",
            "ticks": ""
           }
          },
          "title": {
           "x": 0.05
          },
          "xaxis": {
           "automargin": true,
           "gridcolor": "white",
           "linecolor": "white",
           "ticks": "",
           "title": {
            "standoff": 15
           },
           "zerolinecolor": "white",
           "zerolinewidth": 2
          },
          "yaxis": {
           "automargin": true,
           "gridcolor": "white",
           "linecolor": "white",
           "ticks": "",
           "title": {
            "standoff": 15
           },
           "zerolinecolor": "white",
           "zerolinewidth": 2
          }
         }
        },
        "width": 700,
        "xaxis": {
         "anchor": "y",
         "domain": [
          0,
          1
         ],
         "title": {
          "text": "Durata di un'epoca (s)"
         }
        },
        "yaxis": {
         "anchor": "x",
         "domain": [
          0,
          1
         ],
         "title": {
          "text": "Rmsle"
         }
        }
       }
      },
      "text/html": [
       "<div>                            <div id=\"e6db93da-53eb-4ac4-b3ff-d69a5c4835b0\" class=\"plotly-graph-div\" style=\"height:400px; width:700px;\"></div>            <script type=\"text/javascript\">                require([\"plotly\"], function(Plotly) {                    window.PLOTLYENV=window.PLOTLYENV || {};                                    if (document.getElementById(\"e6db93da-53eb-4ac4-b3ff-d69a5c4835b0\")) {                    Plotly.newPlot(                        \"e6db93da-53eb-4ac4-b3ff-d69a5c4835b0\",                        [{\"hovertemplate\": \"Modello=Bert<br>Durata di un'epoca (s)=%{x}<br>Rmsle=%{y}<br>totparams_log2=%{marker.size}<extra></extra>\", \"legendgroup\": \"Bert\", \"marker\": {\"color\": \"rgb(102, 197, 204)\", \"size\": [324.48110420844455], \"sizemode\": \"area\", \"sizeref\": 0.38424468403982254, \"symbol\": \"circle\"}, \"mode\": \"markers\", \"name\": \"Bert\", \"orientation\": \"v\", \"showlegend\": true, \"type\": \"scatter\", \"x\": [1600], \"xaxis\": \"x\", \"y\": [0.5576], \"yaxis\": \"y\"}, {\"hovertemplate\": \"Modello=BoW<br>Durata di un'epoca (s)=%{x}<br>Rmsle=%{y}<br>totparams_log2=%{marker.size}<extra></extra>\", \"legendgroup\": \"BoW\", \"marker\": {\"color\": \"rgb(246, 207, 113)\", \"size\": [246.94036965475516], \"sizemode\": \"area\", \"sizeref\": 0.38424468403982254, \"symbol\": \"circle\"}, \"mode\": \"markers\", \"name\": \"BoW\", \"orientation\": \"v\", \"showlegend\": true, \"type\": \"scatter\", \"x\": [250], \"xaxis\": \"x\", \"y\": [0.4485570192337036], \"yaxis\": \"y\"}, {\"hovertemplate\": \"Modello=BoW_clean<br>Durata di un'epoca (s)=%{x}<br>Rmsle=%{y}<br>totparams_log2=%{marker.size}<extra></extra>\", \"legendgroup\": \"BoW_clean\", \"marker\": {\"color\": \"rgb(248, 156, 116)\", \"size\": [244.74215384550547], \"sizemode\": \"area\", \"sizeref\": 0.38424468403982254, \"symbol\": \"diamond\"}, \"mode\": \"markers\", \"name\": \"BoW_clean\", \"orientation\": \"v\", \"showlegend\": true, \"type\": \"scatter\", \"x\": [250], \"xaxis\": \"x\", \"y\": [0.4509544968605042], \"yaxis\": \"y\"}, {\"hovertemplate\": \"Modello=GloVe6B<br>Durata di un'epoca (s)=%{x}<br>Rmsle=%{y}<br>totparams_log2=%{marker.size}<extra></extra>\", \"legendgroup\": \"GloVe6B\", \"marker\": {\"color\": \"rgb(220, 176, 242)\", \"size\": [345.82021563584027], \"sizemode\": \"area\", \"sizeref\": 0.38424468403982254, \"symbol\": \"circle\"}, \"mode\": \"markers\", \"name\": \"GloVe6B\", \"orientation\": \"v\", \"showlegend\": true, \"type\": \"scatter\", \"x\": [117], \"xaxis\": \"x\", \"y\": [0.4724872410297394], \"yaxis\": \"y\"}, {\"hovertemplate\": \"Modello=GloVe6B_clean<br>Durata di un'epoca (s)=%{x}<br>Rmsle=%{y}<br>totparams_log2=%{marker.size}<extra></extra>\", \"legendgroup\": \"GloVe6B_clean\", \"marker\": {\"color\": \"rgb(135, 197, 95)\", \"size\": [335.72459312977537], \"sizemode\": \"area\", \"sizeref\": 0.38424468403982254, \"symbol\": \"diamond\"}, \"mode\": \"markers\", \"name\": \"GloVe6B_clean\", \"orientation\": \"v\", \"showlegend\": true, \"type\": \"scatter\", \"x\": [118], \"xaxis\": \"x\", \"y\": [0.470249354839325], \"yaxis\": \"y\"}, {\"hovertemplate\": \"Modello=GloVe840B<br>Durata di un'epoca (s)=%{x}<br>Rmsle=%{y}<br>totparams_log2=%{marker.size}<extra></extra>\", \"legendgroup\": \"GloVe840B\", \"marker\": {\"color\": \"rgb(158, 185, 243)\", \"size\": [345.82021563584027], \"sizemode\": \"area\", \"sizeref\": 0.38424468403982254, \"symbol\": \"circle\"}, \"mode\": \"markers\", \"name\": \"GloVe840B\", \"orientation\": \"v\", \"showlegend\": true, \"type\": \"scatter\", \"x\": [135], \"xaxis\": \"x\", \"y\": [0.4607028365135193], \"yaxis\": \"y\"}, {\"hovertemplate\": \"Modello=GloVe840B_clean<br>Durata di un'epoca (s)=%{x}<br>Rmsle=%{y}<br>totparams_log2=%{marker.size}<extra></extra>\", \"legendgroup\": \"GloVe840B_clean\", \"marker\": {\"color\": \"rgb(254, 136, 177)\", \"size\": [335.72459312977537], \"sizemode\": \"area\", \"sizeref\": 0.38424468403982254, \"symbol\": \"diamond\"}, \"mode\": \"markers\", \"name\": \"GloVe840B_clean\", \"orientation\": \"v\", \"showlegend\": true, \"type\": \"scatter\", \"x\": [121], \"xaxis\": \"x\", \"y\": [0.463313639163971], \"yaxis\": \"y\"}, {\"hovertemplate\": \"Modello=Keras<br>Durata di un'epoca (s)=%{x}<br>Rmsle=%{y}<br>totparams_log2=%{marker.size}<extra></extra>\", \"legendgroup\": \"Keras\", \"marker\": {\"color\": \"rgb(201, 219, 116)\", \"size\": [282.40204624114267], \"sizemode\": \"area\", \"sizeref\": 0.38424468403982254, \"symbol\": \"circle\"}, \"mode\": \"markers\", \"name\": \"Keras\", \"orientation\": \"v\", \"showlegend\": true, \"type\": \"scatter\", \"x\": [790], \"xaxis\": \"x\", \"y\": [0.4466181695461273], \"yaxis\": \"y\"}, {\"hovertemplate\": \"Modello=Keras_clean<br>Durata di un'epoca (s)=%{x}<br>Rmsle=%{y}<br>totparams_log2=%{marker.size}<extra></extra>\", \"legendgroup\": \"Keras_clean\", \"marker\": {\"color\": \"rgb(139, 224, 164)\", \"size\": [273.28969274888334], \"sizemode\": \"area\", \"sizeref\": 0.38424468403982254, \"symbol\": \"diamond\"}, \"mode\": \"markers\", \"name\": \"Keras_clean\", \"orientation\": \"v\", \"showlegend\": true, \"type\": \"scatter\", \"x\": [549], \"xaxis\": \"x\", \"y\": [0.4524747729301453], \"yaxis\": \"y\"}, {\"hovertemplate\": \"Modello=NonText<br>Durata di un'epoca (s)=%{x}<br>Rmsle=%{y}<br>totparams_log2=%{marker.size}<extra></extra>\", \"legendgroup\": \"NonText\", \"marker\": {\"color\": \"rgb(180, 151, 231)\", \"size\": [44.15723399300546], \"sizemode\": \"area\", \"sizeref\": 0.38424468403982254, \"symbol\": \"circle\"}, \"mode\": \"markers\", \"name\": \"NonText\", \"orientation\": \"v\", \"showlegend\": true, \"type\": \"scatter\", \"x\": [14], \"xaxis\": \"x\", \"y\": [0.6563467383384705], \"yaxis\": \"y\"}, {\"hovertemplate\": \"Modello=TfIdf<br>Durata di un'epoca (s)=%{x}<br>Rmsle=%{y}<br>totparams_log2=%{marker.size}<extra></extra>\", \"legendgroup\": \"TfIdf\", \"marker\": {\"color\": \"rgb(179, 179, 179)\", \"size\": [246.94036965475516], \"sizemode\": \"area\", \"sizeref\": 0.38424468403982254, \"symbol\": \"circle\"}, \"mode\": \"markers\", \"name\": \"TfIdf\", \"orientation\": \"v\", \"showlegend\": true, \"type\": \"scatter\", \"x\": [250], \"xaxis\": \"x\", \"y\": [0.4576269388198853], \"yaxis\": \"y\"}, {\"hovertemplate\": \"Modello=TfIdf_clean<br>Durata di un'epoca (s)=%{x}<br>Rmsle=%{y}<br>totparams_log2=%{marker.size}<extra></extra>\", \"legendgroup\": \"TfIdf_clean\", \"marker\": {\"color\": \"rgb(102, 197, 204)\", \"size\": [244.74215384550547], \"sizemode\": \"area\", \"sizeref\": 0.38424468403982254, \"symbol\": \"diamond\"}, \"mode\": \"markers\", \"name\": \"TfIdf_clean\", \"orientation\": \"v\", \"showlegend\": true, \"type\": \"scatter\", \"x\": [250], \"xaxis\": \"x\", \"y\": [0.4540041983127594], \"yaxis\": \"y\"}],                        {\"height\": 400, \"legend\": {\"itemsizing\": \"constant\", \"title\": {\"text\": \"Modello\"}, \"tracegroupgap\": 0}, \"margin\": {\"t\": 60}, \"template\": {\"data\": {\"bar\": [{\"error_x\": {\"color\": \"#2a3f5f\"}, \"error_y\": {\"color\": \"#2a3f5f\"}, \"marker\": {\"line\": {\"color\": \"#E5ECF6\", \"width\": 0.5}}, \"type\": \"bar\"}], \"barpolar\": [{\"marker\": {\"line\": {\"color\": \"#E5ECF6\", \"width\": 0.5}}, \"type\": \"barpolar\"}], \"carpet\": [{\"aaxis\": {\"endlinecolor\": \"#2a3f5f\", \"gridcolor\": \"white\", \"linecolor\": \"white\", \"minorgridcolor\": \"white\", \"startlinecolor\": \"#2a3f5f\"}, \"baxis\": {\"endlinecolor\": \"#2a3f5f\", \"gridcolor\": \"white\", \"linecolor\": \"white\", \"minorgridcolor\": \"white\", \"startlinecolor\": \"#2a3f5f\"}, \"type\": \"carpet\"}], \"choropleth\": [{\"colorbar\": {\"outlinewidth\": 0, \"ticks\": \"\"}, \"type\": \"choropleth\"}], \"contour\": [{\"colorbar\": {\"outlinewidth\": 0, \"ticks\": \"\"}, \"colorscale\": [[0.0, \"#0d0887\"], [0.1111111111111111, \"#46039f\"], [0.2222222222222222, \"#7201a8\"], [0.3333333333333333, \"#9c179e\"], [0.4444444444444444, \"#bd3786\"], [0.5555555555555556, \"#d8576b\"], [0.6666666666666666, \"#ed7953\"], [0.7777777777777778, \"#fb9f3a\"], [0.8888888888888888, \"#fdca26\"], [1.0, \"#f0f921\"]], \"type\": \"contour\"}], \"contourcarpet\": [{\"colorbar\": {\"outlinewidth\": 0, \"ticks\": \"\"}, \"type\": \"contourcarpet\"}], \"heatmap\": [{\"colorbar\": {\"outlinewidth\": 0, \"ticks\": \"\"}, \"colorscale\": [[0.0, \"#0d0887\"], [0.1111111111111111, \"#46039f\"], [0.2222222222222222, \"#7201a8\"], [0.3333333333333333, \"#9c179e\"], [0.4444444444444444, \"#bd3786\"], [0.5555555555555556, \"#d8576b\"], [0.6666666666666666, \"#ed7953\"], [0.7777777777777778, \"#fb9f3a\"], [0.8888888888888888, \"#fdca26\"], [1.0, \"#f0f921\"]], \"type\": \"heatmap\"}], \"heatmapgl\": [{\"colorbar\": {\"outlinewidth\": 0, \"ticks\": \"\"}, \"colorscale\": [[0.0, \"#0d0887\"], [0.1111111111111111, \"#46039f\"], [0.2222222222222222, \"#7201a8\"], [0.3333333333333333, \"#9c179e\"], [0.4444444444444444, \"#bd3786\"], [0.5555555555555556, \"#d8576b\"], [0.6666666666666666, \"#ed7953\"], [0.7777777777777778, \"#fb9f3a\"], [0.8888888888888888, \"#fdca26\"], [1.0, \"#f0f921\"]], \"type\": \"heatmapgl\"}], \"histogram\": [{\"marker\": {\"colorbar\": {\"outlinewidth\": 0, \"ticks\": \"\"}}, \"type\": \"histogram\"}], \"histogram2d\": [{\"colorbar\": {\"outlinewidth\": 0, \"ticks\": \"\"}, \"colorscale\": [[0.0, \"#0d0887\"], [0.1111111111111111, \"#46039f\"], [0.2222222222222222, \"#7201a8\"], [0.3333333333333333, \"#9c179e\"], [0.4444444444444444, \"#bd3786\"], [0.5555555555555556, \"#d8576b\"], [0.6666666666666666, \"#ed7953\"], [0.7777777777777778, \"#fb9f3a\"], [0.8888888888888888, \"#fdca26\"], [1.0, \"#f0f921\"]], \"type\": \"histogram2d\"}], \"histogram2dcontour\": [{\"colorbar\": {\"outlinewidth\": 0, \"ticks\": \"\"}, \"colorscale\": [[0.0, \"#0d0887\"], [0.1111111111111111, \"#46039f\"], [0.2222222222222222, \"#7201a8\"], [0.3333333333333333, \"#9c179e\"], [0.4444444444444444, \"#bd3786\"], [0.5555555555555556, \"#d8576b\"], [0.6666666666666666, \"#ed7953\"], [0.7777777777777778, \"#fb9f3a\"], [0.8888888888888888, \"#fdca26\"], [1.0, \"#f0f921\"]], \"type\": \"histogram2dcontour\"}], \"mesh3d\": [{\"colorbar\": {\"outlinewidth\": 0, \"ticks\": \"\"}, \"type\": \"mesh3d\"}], \"parcoords\": [{\"line\": {\"colorbar\": {\"outlinewidth\": 0, \"ticks\": \"\"}}, \"type\": \"parcoords\"}], \"pie\": [{\"automargin\": true, \"type\": \"pie\"}], \"scatter\": [{\"marker\": {\"colorbar\": {\"outlinewidth\": 0, \"ticks\": \"\"}}, \"type\": \"scatter\"}], \"scatter3d\": [{\"line\": {\"colorbar\": {\"outlinewidth\": 0, \"ticks\": \"\"}}, \"marker\": {\"colorbar\": {\"outlinewidth\": 0, \"ticks\": \"\"}}, \"type\": \"scatter3d\"}], \"scattercarpet\": [{\"marker\": {\"colorbar\": {\"outlinewidth\": 0, \"ticks\": \"\"}}, \"type\": \"scattercarpet\"}], \"scattergeo\": [{\"marker\": {\"colorbar\": {\"outlinewidth\": 0, \"ticks\": \"\"}}, \"type\": \"scattergeo\"}], \"scattergl\": [{\"marker\": {\"colorbar\": {\"outlinewidth\": 0, \"ticks\": \"\"}}, \"type\": \"scattergl\"}], \"scattermapbox\": [{\"marker\": {\"colorbar\": {\"outlinewidth\": 0, \"ticks\": \"\"}}, \"type\": \"scattermapbox\"}], \"scatterpolar\": [{\"marker\": {\"colorbar\": {\"outlinewidth\": 0, \"ticks\": \"\"}}, \"type\": \"scatterpolar\"}], \"scatterpolargl\": [{\"marker\": {\"colorbar\": {\"outlinewidth\": 0, \"ticks\": \"\"}}, \"type\": \"scatterpolargl\"}], \"scatterternary\": [{\"marker\": {\"colorbar\": {\"outlinewidth\": 0, \"ticks\": \"\"}}, \"type\": \"scatterternary\"}], \"surface\": [{\"colorbar\": {\"outlinewidth\": 0, \"ticks\": \"\"}, \"colorscale\": [[0.0, \"#0d0887\"], [0.1111111111111111, \"#46039f\"], [0.2222222222222222, \"#7201a8\"], [0.3333333333333333, \"#9c179e\"], [0.4444444444444444, \"#bd3786\"], [0.5555555555555556, \"#d8576b\"], [0.6666666666666666, \"#ed7953\"], [0.7777777777777778, \"#fb9f3a\"], [0.8888888888888888, \"#fdca26\"], [1.0, \"#f0f921\"]], \"type\": \"surface\"}], \"table\": [{\"cells\": {\"fill\": {\"color\": \"#EBF0F8\"}, \"line\": {\"color\": \"white\"}}, \"header\": {\"fill\": {\"color\": \"#C8D4E3\"}, \"line\": {\"color\": \"white\"}}, \"type\": \"table\"}]}, \"layout\": {\"annotationdefaults\": {\"arrowcolor\": \"#2a3f5f\", \"arrowhead\": 0, \"arrowwidth\": 1}, \"autotypenumbers\": \"strict\", \"coloraxis\": {\"colorbar\": {\"outlinewidth\": 0, \"ticks\": \"\"}}, \"colorscale\": {\"diverging\": [[0, \"#8e0152\"], [0.1, \"#c51b7d\"], [0.2, \"#de77ae\"], [0.3, \"#f1b6da\"], [0.4, \"#fde0ef\"], [0.5, \"#f7f7f7\"], [0.6, \"#e6f5d0\"], [0.7, \"#b8e186\"], [0.8, \"#7fbc41\"], [0.9, \"#4d9221\"], [1, \"#276419\"]], \"sequential\": [[0.0, \"#0d0887\"], [0.1111111111111111, \"#46039f\"], [0.2222222222222222, \"#7201a8\"], [0.3333333333333333, \"#9c179e\"], [0.4444444444444444, \"#bd3786\"], [0.5555555555555556, \"#d8576b\"], [0.6666666666666666, \"#ed7953\"], [0.7777777777777778, \"#fb9f3a\"], [0.8888888888888888, \"#fdca26\"], [1.0, \"#f0f921\"]], \"sequentialminus\": [[0.0, \"#0d0887\"], [0.1111111111111111, \"#46039f\"], [0.2222222222222222, \"#7201a8\"], [0.3333333333333333, \"#9c179e\"], [0.4444444444444444, \"#bd3786\"], [0.5555555555555556, \"#d8576b\"], [0.6666666666666666, \"#ed7953\"], [0.7777777777777778, \"#fb9f3a\"], [0.8888888888888888, \"#fdca26\"], [1.0, \"#f0f921\"]]}, \"colorway\": [\"#636efa\", \"#EF553B\", \"#00cc96\", \"#ab63fa\", \"#FFA15A\", \"#19d3f3\", \"#FF6692\", \"#B6E880\", \"#FF97FF\", \"#FECB52\"], \"font\": {\"color\": \"#2a3f5f\"}, \"geo\": {\"bgcolor\": \"white\", \"lakecolor\": \"white\", \"landcolor\": \"#E5ECF6\", \"showlakes\": true, \"showland\": true, \"subunitcolor\": \"white\"}, \"hoverlabel\": {\"align\": \"left\"}, \"hovermode\": \"closest\", \"mapbox\": {\"style\": \"light\"}, \"paper_bgcolor\": \"white\", \"plot_bgcolor\": \"#E5ECF6\", \"polar\": {\"angularaxis\": {\"gridcolor\": \"white\", \"linecolor\": \"white\", \"ticks\": \"\"}, \"bgcolor\": \"#E5ECF6\", \"radialaxis\": {\"gridcolor\": \"white\", \"linecolor\": \"white\", \"ticks\": \"\"}}, \"scene\": {\"xaxis\": {\"backgroundcolor\": \"#E5ECF6\", \"gridcolor\": \"white\", \"gridwidth\": 2, \"linecolor\": \"white\", \"showbackground\": true, \"ticks\": \"\", \"zerolinecolor\": \"white\"}, \"yaxis\": {\"backgroundcolor\": \"#E5ECF6\", \"gridcolor\": \"white\", \"gridwidth\": 2, \"linecolor\": \"white\", \"showbackground\": true, \"ticks\": \"\", \"zerolinecolor\": \"white\"}, \"zaxis\": {\"backgroundcolor\": \"#E5ECF6\", \"gridcolor\": \"white\", \"gridwidth\": 2, \"linecolor\": \"white\", \"showbackground\": true, \"ticks\": \"\", \"zerolinecolor\": \"white\"}}, \"shapedefaults\": {\"line\": {\"color\": \"#2a3f5f\"}}, \"ternary\": {\"aaxis\": {\"gridcolor\": \"white\", \"linecolor\": \"white\", \"ticks\": \"\"}, \"baxis\": {\"gridcolor\": \"white\", \"linecolor\": \"white\", \"ticks\": \"\"}, \"bgcolor\": \"#E5ECF6\", \"caxis\": {\"gridcolor\": \"white\", \"linecolor\": \"white\", \"ticks\": \"\"}}, \"title\": {\"x\": 0.05}, \"xaxis\": {\"automargin\": true, \"gridcolor\": \"white\", \"linecolor\": \"white\", \"ticks\": \"\", \"title\": {\"standoff\": 15}, \"zerolinecolor\": \"white\", \"zerolinewidth\": 2}, \"yaxis\": {\"automargin\": true, \"gridcolor\": \"white\", \"linecolor\": \"white\", \"ticks\": \"\", \"title\": {\"standoff\": 15}, \"zerolinecolor\": \"white\", \"zerolinewidth\": 2}}}, \"width\": 700, \"xaxis\": {\"anchor\": \"y\", \"domain\": [0.0, 1.0], \"title\": {\"text\": \"Durata di un'epoca (s)\"}}, \"yaxis\": {\"anchor\": \"x\", \"domain\": [0.0, 1.0], \"title\": {\"text\": \"Rmsle\"}}},                        {\"responsive\": true}                    ).then(function(){\n",
       "                            \n",
       "var gd = document.getElementById('e6db93da-53eb-4ac4-b3ff-d69a5c4835b0');\n",
       "var x = new MutationObserver(function (mutations, observer) {{\n",
       "        var display = window.getComputedStyle(gd).display;\n",
       "        if (!display || display === 'none') {{\n",
       "            console.log([gd, 'removed!']);\n",
       "            Plotly.purge(gd);\n",
       "            observer.disconnect();\n",
       "        }}\n",
       "}});\n",
       "\n",
       "// Listen for the removal of the full notebook cells\n",
       "var notebookContainer = gd.closest('#notebook-container');\n",
       "if (notebookContainer) {{\n",
       "    x.observe(notebookContainer, {childList: true});\n",
       "}}\n",
       "\n",
       "// Listen for the clearing of the current output cell\n",
       "var outputEl = gd.closest('.output');\n",
       "if (outputEl) {{\n",
       "    x.observe(outputEl, {childList: true});\n",
       "}}\n",
       "\n",
       "                        })                };                });            </script>        </div>"
      ]
     },
     "metadata": {},
     "output_type": "display_data"
    }
   ],
   "source": [
    "#df['trainparams_log2'] = df[\"trainparams\"].apply(lambda x: np.log(x)**2)\n",
    "fig = px.scatter(df, x=\"epochtime\", y=\"rmsle\", size='trainparams_log2',\n",
    "                 text=None, color=\"model\", width=700, height=400,\n",
    "                 log_x=False, log_y=False, size_max=30,\n",
    "                 labels={\n",
    "                     \"epochtime\": \"Durata di un'epoca (s)\",\n",
    "                     \"rmsle\": \"Rmsle\",\n",
    "                     \"model\": \"Modello\"\n",
    "                 },\n",
    "                 color_discrete_sequence=px.colors.qualitative.Pastel\n",
    "                #title=\"Rmsle in funzione della Durata di un epoca di training. La dimensione corrisponde ai Parametri Allenabili\"\n",
    "                )\n",
    "#fig.update_layout(paper_bgcolor='rgba(0,0,0,0)',plot_bgcolor='rgba(0,0,0,0)')\n",
    "#fig.update_traces(textposition='top center')\n",
    "#fig.update_layout(showlegend=False)ù\n",
    "\n",
    "for i in fig['data']:\n",
    "    if re.match('.*_clean$', i['name']):\n",
    "        i['marker']['symbol'] = 'diamond'\n",
    "    else:\n",
    "        i['marker']['symbol'] = 'circle'\n",
    "\n",
    "# errore in funzione del tempo richiesto da una singola epoche.\n",
    "# la dimensione corrisponde ai parametri trainabili dei modelli\n",
    "\n",
    "fig.show()"
   ]
  },
  {
   "cell_type": "code",
   "execution_count": null,
   "metadata": {},
   "outputs": [],
   "source": [
    "fig = px.scatter(df, x=\"nepochs\", y=\"rmsle\", size='etime_log2',\n",
    "                 text=None, color=\"model\", width=900, height=600,\n",
    "                 log_x=False, log_y=False, size_max=50,\n",
    "                 labels={\n",
    "                     \"nepochs\": \"Numero di epoche\",\n",
    "                     \"rmsle\": \"Rmsle\",\n",
    "                     \"model\": \"Modello\"\n",
    "                 },\n",
    "                 #title=\"Rmsle in funzione del numero totale di epoche di training. La dimensione corrisponde alla durata di una singola epoca\"\n",
    "                )\n",
    "#fig.update_layout(paper_bgcolor='rgba(0,0,0,0)',plot_bgcolor='rgba(0,0,0,0)')\n",
    "#fig.update_traces(textposition='top center')\n",
    "#fig.update_layout(showlegend=False)\n",
    "\n",
    "for i in fig['data']:\n",
    "    if re.match('.*_clean$', i['name']):\n",
    "        i['marker']['symbol'] = 'diamond'\n",
    "\n",
    "# Errore in funzione del Numero di Epoche\n",
    "# La dimensione dipende dal tempo richiesto da una singola epoca\n",
    "fig.show()"
   ]
  },
  {
   "cell_type": "code",
   "execution_count": 197,
   "metadata": {},
   "outputs": [
    {
     "data": {
      "application/vnd.plotly.v1+json": {
       "config": {
        "plotlyServerURL": "https://plot.ly"
       },
       "data": [
        {
         "hovertemplate": "Modello=Bert<br>Tempo totale di training (s)=%{x}<br>Rmsle=%{y}<br>etime_log2=%{marker.size}<extra></extra>",
         "legendgroup": "Bert",
         "marker": {
          "color": "rgb(102, 197, 204)",
          "size": [
           54.43132650793573
          ],
          "sizemode": "area",
          "sizeref": 0.060479251675484146,
          "symbol": "circle"
         },
         "mode": "markers",
         "name": "Bert",
         "orientation": "v",
         "showlegend": true,
         "type": "scatter",
         "x": [
          8000
         ],
         "xaxis": "x",
         "y": [
          0.5576
         ],
         "yaxis": "y"
        },
        {
         "hovertemplate": "Modello=BoW<br>Tempo totale di training (s)=%{x}<br>Rmsle=%{y}<br>etime_log2=%{marker.size}<extra></extra>",
         "legendgroup": "BoW",
         "marker": {
          "color": "rgb(246, 207, 113)",
          "size": [
           30.486530667480196
          ],
          "sizemode": "area",
          "sizeref": 0.060479251675484146,
          "symbol": "circle"
         },
         "mode": "markers",
         "name": "BoW",
         "orientation": "v",
         "showlegend": true,
         "type": "scatter",
         "x": [
          5000
         ],
         "xaxis": "x",
         "y": [
          0.4485570192337036
         ],
         "yaxis": "y"
        },
        {
         "hovertemplate": "Modello=BoW_clean<br>Tempo totale di training (s)=%{x}<br>Rmsle=%{y}<br>etime_log2=%{marker.size}<extra></extra>",
         "legendgroup": "BoW_clean",
         "marker": {
          "color": "rgb(248, 156, 116)",
          "size": [
           30.486530667480196
          ],
          "sizemode": "area",
          "sizeref": 0.060479251675484146,
          "symbol": "diamond"
         },
         "mode": "markers",
         "name": "BoW_clean",
         "orientation": "v",
         "showlegend": true,
         "type": "scatter",
         "x": [
          4750
         ],
         "xaxis": "x",
         "y": [
          0.4509544968605042
         ],
         "yaxis": "y"
        },
        {
         "hovertemplate": "Modello=GloVe6B<br>Tempo totale di training (s)=%{x}<br>Rmsle=%{y}<br>etime_log2=%{marker.size}<extra></extra>",
         "legendgroup": "GloVe6B",
         "marker": {
          "color": "rgb(220, 176, 242)",
          "size": [
           22.678300585267145
          ],
          "sizemode": "area",
          "sizeref": 0.060479251675484146,
          "symbol": "circle"
         },
         "mode": "markers",
         "name": "GloVe6B",
         "orientation": "v",
         "showlegend": true,
         "type": "scatter",
         "x": [
          4563
         ],
         "xaxis": "x",
         "y": [
          0.4724872410297394
         ],
         "yaxis": "y"
        },
        {
         "hovertemplate": "Modello=GloVe6B_clean<br>Tempo totale di training (s)=%{x}<br>Rmsle=%{y}<br>etime_log2=%{marker.size}<extra></extra>",
         "legendgroup": "GloVe6B_clean",
         "marker": {
          "color": "rgb(135, 197, 95)",
          "size": [
           22.759431786113105
          ],
          "sizemode": "area",
          "sizeref": 0.060479251675484146,
          "symbol": "diamond"
         },
         "mode": "markers",
         "name": "GloVe6B_clean",
         "orientation": "v",
         "showlegend": true,
         "type": "scatter",
         "x": [
          6254
         ],
         "xaxis": "x",
         "y": [
          0.470249354839325
         ],
         "yaxis": "y"
        },
        {
         "hovertemplate": "Modello=GloVe840B<br>Tempo totale di training (s)=%{x}<br>Rmsle=%{y}<br>etime_log2=%{marker.size}<extra></extra>",
         "legendgroup": "GloVe840B",
         "marker": {
          "color": "rgb(158, 185, 243)",
          "size": [
           24.061720651984185
          ],
          "sizemode": "area",
          "sizeref": 0.060479251675484146,
          "symbol": "circle"
         },
         "mode": "markers",
         "name": "GloVe840B",
         "orientation": "v",
         "showlegend": true,
         "type": "scatter",
         "x": [
          5400
         ],
         "xaxis": "x",
         "y": [
          0.4607028365135193
         ],
         "yaxis": "y"
        },
        {
         "hovertemplate": "Modello=GloVe840B_clean<br>Tempo totale di training (s)=%{x}<br>Rmsle=%{y}<br>etime_log2=%{marker.size}<extra></extra>",
         "legendgroup": "GloVe840B_clean",
         "marker": {
          "color": "rgb(254, 136, 177)",
          "size": [
           22.99960695723509
          ],
          "sizemode": "area",
          "sizeref": 0.060479251675484146,
          "symbol": "diamond"
         },
         "mode": "markers",
         "name": "GloVe840B_clean",
         "orientation": "v",
         "showlegend": true,
         "type": "scatter",
         "x": [
          4840
         ],
         "xaxis": "x",
         "y": [
          0.463313639163971
         ],
         "yaxis": "y"
        },
        {
         "hovertemplate": "Modello=Keras<br>Tempo totale di training (s)=%{x}<br>Rmsle=%{y}<br>etime_log2=%{marker.size}<extra></extra>",
         "legendgroup": "Keras",
         "marker": {
          "color": "rgb(201, 219, 116)",
          "size": [
           44.516023625317885
          ],
          "sizemode": "area",
          "sizeref": 0.060479251675484146,
          "symbol": "circle"
         },
         "mode": "markers",
         "name": "Keras",
         "orientation": "v",
         "showlegend": true,
         "type": "scatter",
         "x": [
          5530
         ],
         "xaxis": "x",
         "y": [
          0.4466181695461273
         ],
         "yaxis": "y"
        },
        {
         "hovertemplate": "Modello=Keras_clean<br>Tempo totale di training (s)=%{x}<br>Rmsle=%{y}<br>etime_log2=%{marker.size}<extra></extra>",
         "legendgroup": "Keras_clean",
         "marker": {
          "color": "rgb(139, 224, 164)",
          "size": [
           39.79210594777497
          ],
          "sizemode": "area",
          "sizeref": 0.060479251675484146,
          "symbol": "diamond"
         },
         "mode": "markers",
         "name": "Keras_clean",
         "orientation": "v",
         "showlegend": true,
         "type": "scatter",
         "x": [
          4941
         ],
         "xaxis": "x",
         "y": [
          0.4524747729301453
         ],
         "yaxis": "y"
        },
        {
         "hovertemplate": "Modello=NonText<br>Tempo totale di training (s)=%{x}<br>Rmsle=%{y}<br>etime_log2=%{marker.size}<extra></extra>",
         "legendgroup": "NonText",
         "marker": {
          "color": "rgb(180, 151, 231)",
          "size": [
           6.964623588996019
          ],
          "sizemode": "area",
          "sizeref": 0.060479251675484146,
          "symbol": "circle"
         },
         "mode": "markers",
         "name": "NonText",
         "orientation": "v",
         "showlegend": true,
         "type": "scatter",
         "x": [
          560
         ],
         "xaxis": "x",
         "y": [
          0.6563467383384705
         ],
         "yaxis": "y"
        },
        {
         "hovertemplate": "Modello=TfIdf<br>Tempo totale di training (s)=%{x}<br>Rmsle=%{y}<br>etime_log2=%{marker.size}<extra></extra>",
         "legendgroup": "TfIdf",
         "marker": {
          "color": "rgb(179, 179, 179)",
          "size": [
           30.486530667480196
          ],
          "sizemode": "area",
          "sizeref": 0.060479251675484146,
          "symbol": "circle"
         },
         "mode": "markers",
         "name": "TfIdf",
         "orientation": "v",
         "showlegend": true,
         "type": "scatter",
         "x": [
          5000
         ],
         "xaxis": "x",
         "y": [
          0.4576269388198853
         ],
         "yaxis": "y"
        },
        {
         "hovertemplate": "Modello=TfIdf_clean<br>Tempo totale di training (s)=%{x}<br>Rmsle=%{y}<br>etime_log2=%{marker.size}<extra></extra>",
         "legendgroup": "TfIdf_clean",
         "marker": {
          "color": "rgb(102, 197, 204)",
          "size": [
           30.486530667480196
          ],
          "sizemode": "area",
          "sizeref": 0.060479251675484146,
          "symbol": "diamond"
         },
         "mode": "markers",
         "name": "TfIdf_clean",
         "orientation": "v",
         "showlegend": true,
         "type": "scatter",
         "x": [
          5000
         ],
         "xaxis": "x",
         "y": [
          0.4540041983127594
         ],
         "yaxis": "y"
        }
       ],
       "layout": {
        "height": 400,
        "legend": {
         "itemsizing": "constant",
         "title": {
          "text": "Modello"
         },
         "tracegroupgap": 0
        },
        "margin": {
         "t": 60
        },
        "template": {
         "data": {
          "bar": [
           {
            "error_x": {
             "color": "#2a3f5f"
            },
            "error_y": {
             "color": "#2a3f5f"
            },
            "marker": {
             "line": {
              "color": "#E5ECF6",
              "width": 0.5
             }
            },
            "type": "bar"
           }
          ],
          "barpolar": [
           {
            "marker": {
             "line": {
              "color": "#E5ECF6",
              "width": 0.5
             }
            },
            "type": "barpolar"
           }
          ],
          "carpet": [
           {
            "aaxis": {
             "endlinecolor": "#2a3f5f",
             "gridcolor": "white",
             "linecolor": "white",
             "minorgridcolor": "white",
             "startlinecolor": "#2a3f5f"
            },
            "baxis": {
             "endlinecolor": "#2a3f5f",
             "gridcolor": "white",
             "linecolor": "white",
             "minorgridcolor": "white",
             "startlinecolor": "#2a3f5f"
            },
            "type": "carpet"
           }
          ],
          "choropleth": [
           {
            "colorbar": {
             "outlinewidth": 0,
             "ticks": ""
            },
            "type": "choropleth"
           }
          ],
          "contour": [
           {
            "colorbar": {
             "outlinewidth": 0,
             "ticks": ""
            },
            "colorscale": [
             [
              0,
              "#0d0887"
             ],
             [
              0.1111111111111111,
              "#46039f"
             ],
             [
              0.2222222222222222,
              "#7201a8"
             ],
             [
              0.3333333333333333,
              "#9c179e"
             ],
             [
              0.4444444444444444,
              "#bd3786"
             ],
             [
              0.5555555555555556,
              "#d8576b"
             ],
             [
              0.6666666666666666,
              "#ed7953"
             ],
             [
              0.7777777777777778,
              "#fb9f3a"
             ],
             [
              0.8888888888888888,
              "#fdca26"
             ],
             [
              1,
              "#f0f921"
             ]
            ],
            "type": "contour"
           }
          ],
          "contourcarpet": [
           {
            "colorbar": {
             "outlinewidth": 0,
             "ticks": ""
            },
            "type": "contourcarpet"
           }
          ],
          "heatmap": [
           {
            "colorbar": {
             "outlinewidth": 0,
             "ticks": ""
            },
            "colorscale": [
             [
              0,
              "#0d0887"
             ],
             [
              0.1111111111111111,
              "#46039f"
             ],
             [
              0.2222222222222222,
              "#7201a8"
             ],
             [
              0.3333333333333333,
              "#9c179e"
             ],
             [
              0.4444444444444444,
              "#bd3786"
             ],
             [
              0.5555555555555556,
              "#d8576b"
             ],
             [
              0.6666666666666666,
              "#ed7953"
             ],
             [
              0.7777777777777778,
              "#fb9f3a"
             ],
             [
              0.8888888888888888,
              "#fdca26"
             ],
             [
              1,
              "#f0f921"
             ]
            ],
            "type": "heatmap"
           }
          ],
          "heatmapgl": [
           {
            "colorbar": {
             "outlinewidth": 0,
             "ticks": ""
            },
            "colorscale": [
             [
              0,
              "#0d0887"
             ],
             [
              0.1111111111111111,
              "#46039f"
             ],
             [
              0.2222222222222222,
              "#7201a8"
             ],
             [
              0.3333333333333333,
              "#9c179e"
             ],
             [
              0.4444444444444444,
              "#bd3786"
             ],
             [
              0.5555555555555556,
              "#d8576b"
             ],
             [
              0.6666666666666666,
              "#ed7953"
             ],
             [
              0.7777777777777778,
              "#fb9f3a"
             ],
             [
              0.8888888888888888,
              "#fdca26"
             ],
             [
              1,
              "#f0f921"
             ]
            ],
            "type": "heatmapgl"
           }
          ],
          "histogram": [
           {
            "marker": {
             "colorbar": {
              "outlinewidth": 0,
              "ticks": ""
             }
            },
            "type": "histogram"
           }
          ],
          "histogram2d": [
           {
            "colorbar": {
             "outlinewidth": 0,
             "ticks": ""
            },
            "colorscale": [
             [
              0,
              "#0d0887"
             ],
             [
              0.1111111111111111,
              "#46039f"
             ],
             [
              0.2222222222222222,
              "#7201a8"
             ],
             [
              0.3333333333333333,
              "#9c179e"
             ],
             [
              0.4444444444444444,
              "#bd3786"
             ],
             [
              0.5555555555555556,
              "#d8576b"
             ],
             [
              0.6666666666666666,
              "#ed7953"
             ],
             [
              0.7777777777777778,
              "#fb9f3a"
             ],
             [
              0.8888888888888888,
              "#fdca26"
             ],
             [
              1,
              "#f0f921"
             ]
            ],
            "type": "histogram2d"
           }
          ],
          "histogram2dcontour": [
           {
            "colorbar": {
             "outlinewidth": 0,
             "ticks": ""
            },
            "colorscale": [
             [
              0,
              "#0d0887"
             ],
             [
              0.1111111111111111,
              "#46039f"
             ],
             [
              0.2222222222222222,
              "#7201a8"
             ],
             [
              0.3333333333333333,
              "#9c179e"
             ],
             [
              0.4444444444444444,
              "#bd3786"
             ],
             [
              0.5555555555555556,
              "#d8576b"
             ],
             [
              0.6666666666666666,
              "#ed7953"
             ],
             [
              0.7777777777777778,
              "#fb9f3a"
             ],
             [
              0.8888888888888888,
              "#fdca26"
             ],
             [
              1,
              "#f0f921"
             ]
            ],
            "type": "histogram2dcontour"
           }
          ],
          "mesh3d": [
           {
            "colorbar": {
             "outlinewidth": 0,
             "ticks": ""
            },
            "type": "mesh3d"
           }
          ],
          "parcoords": [
           {
            "line": {
             "colorbar": {
              "outlinewidth": 0,
              "ticks": ""
             }
            },
            "type": "parcoords"
           }
          ],
          "pie": [
           {
            "automargin": true,
            "type": "pie"
           }
          ],
          "scatter": [
           {
            "marker": {
             "colorbar": {
              "outlinewidth": 0,
              "ticks": ""
             }
            },
            "type": "scatter"
           }
          ],
          "scatter3d": [
           {
            "line": {
             "colorbar": {
              "outlinewidth": 0,
              "ticks": ""
             }
            },
            "marker": {
             "colorbar": {
              "outlinewidth": 0,
              "ticks": ""
             }
            },
            "type": "scatter3d"
           }
          ],
          "scattercarpet": [
           {
            "marker": {
             "colorbar": {
              "outlinewidth": 0,
              "ticks": ""
             }
            },
            "type": "scattercarpet"
           }
          ],
          "scattergeo": [
           {
            "marker": {
             "colorbar": {
              "outlinewidth": 0,
              "ticks": ""
             }
            },
            "type": "scattergeo"
           }
          ],
          "scattergl": [
           {
            "marker": {
             "colorbar": {
              "outlinewidth": 0,
              "ticks": ""
             }
            },
            "type": "scattergl"
           }
          ],
          "scattermapbox": [
           {
            "marker": {
             "colorbar": {
              "outlinewidth": 0,
              "ticks": ""
             }
            },
            "type": "scattermapbox"
           }
          ],
          "scatterpolar": [
           {
            "marker": {
             "colorbar": {
              "outlinewidth": 0,
              "ticks": ""
             }
            },
            "type": "scatterpolar"
           }
          ],
          "scatterpolargl": [
           {
            "marker": {
             "colorbar": {
              "outlinewidth": 0,
              "ticks": ""
             }
            },
            "type": "scatterpolargl"
           }
          ],
          "scatterternary": [
           {
            "marker": {
             "colorbar": {
              "outlinewidth": 0,
              "ticks": ""
             }
            },
            "type": "scatterternary"
           }
          ],
          "surface": [
           {
            "colorbar": {
             "outlinewidth": 0,
             "ticks": ""
            },
            "colorscale": [
             [
              0,
              "#0d0887"
             ],
             [
              0.1111111111111111,
              "#46039f"
             ],
             [
              0.2222222222222222,
              "#7201a8"
             ],
             [
              0.3333333333333333,
              "#9c179e"
             ],
             [
              0.4444444444444444,
              "#bd3786"
             ],
             [
              0.5555555555555556,
              "#d8576b"
             ],
             [
              0.6666666666666666,
              "#ed7953"
             ],
             [
              0.7777777777777778,
              "#fb9f3a"
             ],
             [
              0.8888888888888888,
              "#fdca26"
             ],
             [
              1,
              "#f0f921"
             ]
            ],
            "type": "surface"
           }
          ],
          "table": [
           {
            "cells": {
             "fill": {
              "color": "#EBF0F8"
             },
             "line": {
              "color": "white"
             }
            },
            "header": {
             "fill": {
              "color": "#C8D4E3"
             },
             "line": {
              "color": "white"
             }
            },
            "type": "table"
           }
          ]
         },
         "layout": {
          "annotationdefaults": {
           "arrowcolor": "#2a3f5f",
           "arrowhead": 0,
           "arrowwidth": 1
          },
          "autotypenumbers": "strict",
          "coloraxis": {
           "colorbar": {
            "outlinewidth": 0,
            "ticks": ""
           }
          },
          "colorscale": {
           "diverging": [
            [
             0,
             "#8e0152"
            ],
            [
             0.1,
             "#c51b7d"
            ],
            [
             0.2,
             "#de77ae"
            ],
            [
             0.3,
             "#f1b6da"
            ],
            [
             0.4,
             "#fde0ef"
            ],
            [
             0.5,
             "#f7f7f7"
            ],
            [
             0.6,
             "#e6f5d0"
            ],
            [
             0.7,
             "#b8e186"
            ],
            [
             0.8,
             "#7fbc41"
            ],
            [
             0.9,
             "#4d9221"
            ],
            [
             1,
             "#276419"
            ]
           ],
           "sequential": [
            [
             0,
             "#0d0887"
            ],
            [
             0.1111111111111111,
             "#46039f"
            ],
            [
             0.2222222222222222,
             "#7201a8"
            ],
            [
             0.3333333333333333,
             "#9c179e"
            ],
            [
             0.4444444444444444,
             "#bd3786"
            ],
            [
             0.5555555555555556,
             "#d8576b"
            ],
            [
             0.6666666666666666,
             "#ed7953"
            ],
            [
             0.7777777777777778,
             "#fb9f3a"
            ],
            [
             0.8888888888888888,
             "#fdca26"
            ],
            [
             1,
             "#f0f921"
            ]
           ],
           "sequentialminus": [
            [
             0,
             "#0d0887"
            ],
            [
             0.1111111111111111,
             "#46039f"
            ],
            [
             0.2222222222222222,
             "#7201a8"
            ],
            [
             0.3333333333333333,
             "#9c179e"
            ],
            [
             0.4444444444444444,
             "#bd3786"
            ],
            [
             0.5555555555555556,
             "#d8576b"
            ],
            [
             0.6666666666666666,
             "#ed7953"
            ],
            [
             0.7777777777777778,
             "#fb9f3a"
            ],
            [
             0.8888888888888888,
             "#fdca26"
            ],
            [
             1,
             "#f0f921"
            ]
           ]
          },
          "colorway": [
           "#636efa",
           "#EF553B",
           "#00cc96",
           "#ab63fa",
           "#FFA15A",
           "#19d3f3",
           "#FF6692",
           "#B6E880",
           "#FF97FF",
           "#FECB52"
          ],
          "font": {
           "color": "#2a3f5f"
          },
          "geo": {
           "bgcolor": "white",
           "lakecolor": "white",
           "landcolor": "#E5ECF6",
           "showlakes": true,
           "showland": true,
           "subunitcolor": "white"
          },
          "hoverlabel": {
           "align": "left"
          },
          "hovermode": "closest",
          "mapbox": {
           "style": "light"
          },
          "paper_bgcolor": "white",
          "plot_bgcolor": "#E5ECF6",
          "polar": {
           "angularaxis": {
            "gridcolor": "white",
            "linecolor": "white",
            "ticks": ""
           },
           "bgcolor": "#E5ECF6",
           "radialaxis": {
            "gridcolor": "white",
            "linecolor": "white",
            "ticks": ""
           }
          },
          "scene": {
           "xaxis": {
            "backgroundcolor": "#E5ECF6",
            "gridcolor": "white",
            "gridwidth": 2,
            "linecolor": "white",
            "showbackground": true,
            "ticks": "",
            "zerolinecolor": "white"
           },
           "yaxis": {
            "backgroundcolor": "#E5ECF6",
            "gridcolor": "white",
            "gridwidth": 2,
            "linecolor": "white",
            "showbackground": true,
            "ticks": "",
            "zerolinecolor": "white"
           },
           "zaxis": {
            "backgroundcolor": "#E5ECF6",
            "gridcolor": "white",
            "gridwidth": 2,
            "linecolor": "white",
            "showbackground": true,
            "ticks": "",
            "zerolinecolor": "white"
           }
          },
          "shapedefaults": {
           "line": {
            "color": "#2a3f5f"
           }
          },
          "ternary": {
           "aaxis": {
            "gridcolor": "white",
            "linecolor": "white",
            "ticks": ""
           },
           "baxis": {
            "gridcolor": "white",
            "linecolor": "white",
            "ticks": ""
           },
           "bgcolor": "#E5ECF6",
           "caxis": {
            "gridcolor": "white",
            "linecolor": "white",
            "ticks": ""
           }
          },
          "title": {
           "x": 0.05
          },
          "xaxis": {
           "automargin": true,
           "gridcolor": "white",
           "linecolor": "white",
           "ticks": "",
           "title": {
            "standoff": 15
           },
           "zerolinecolor": "white",
           "zerolinewidth": 2
          },
          "yaxis": {
           "automargin": true,
           "gridcolor": "white",
           "linecolor": "white",
           "ticks": "",
           "title": {
            "standoff": 15
           },
           "zerolinecolor": "white",
           "zerolinewidth": 2
          }
         }
        },
        "width": 700,
        "xaxis": {
         "anchor": "y",
         "domain": [
          0,
          1
         ],
         "title": {
          "text": "Tempo totale di training (s)"
         }
        },
        "yaxis": {
         "anchor": "x",
         "domain": [
          0,
          1
         ],
         "title": {
          "text": "Rmsle"
         }
        }
       }
      },
      "text/html": [
       "<div>                            <div id=\"631c53c8-2bde-41ab-b8e0-3489af7eb548\" class=\"plotly-graph-div\" style=\"height:400px; width:700px;\"></div>            <script type=\"text/javascript\">                require([\"plotly\"], function(Plotly) {                    window.PLOTLYENV=window.PLOTLYENV || {};                                    if (document.getElementById(\"631c53c8-2bde-41ab-b8e0-3489af7eb548\")) {                    Plotly.newPlot(                        \"631c53c8-2bde-41ab-b8e0-3489af7eb548\",                        [{\"hovertemplate\": \"Modello=Bert<br>Tempo totale di training (s)=%{x}<br>Rmsle=%{y}<br>etime_log2=%{marker.size}<extra></extra>\", \"legendgroup\": \"Bert\", \"marker\": {\"color\": \"rgb(102, 197, 204)\", \"size\": [54.43132650793573], \"sizemode\": \"area\", \"sizeref\": 0.060479251675484146, \"symbol\": \"circle\"}, \"mode\": \"markers\", \"name\": \"Bert\", \"orientation\": \"v\", \"showlegend\": true, \"type\": \"scatter\", \"x\": [8000], \"xaxis\": \"x\", \"y\": [0.5576], \"yaxis\": \"y\"}, {\"hovertemplate\": \"Modello=BoW<br>Tempo totale di training (s)=%{x}<br>Rmsle=%{y}<br>etime_log2=%{marker.size}<extra></extra>\", \"legendgroup\": \"BoW\", \"marker\": {\"color\": \"rgb(246, 207, 113)\", \"size\": [30.486530667480196], \"sizemode\": \"area\", \"sizeref\": 0.060479251675484146, \"symbol\": \"circle\"}, \"mode\": \"markers\", \"name\": \"BoW\", \"orientation\": \"v\", \"showlegend\": true, \"type\": \"scatter\", \"x\": [5000], \"xaxis\": \"x\", \"y\": [0.4485570192337036], \"yaxis\": \"y\"}, {\"hovertemplate\": \"Modello=BoW_clean<br>Tempo totale di training (s)=%{x}<br>Rmsle=%{y}<br>etime_log2=%{marker.size}<extra></extra>\", \"legendgroup\": \"BoW_clean\", \"marker\": {\"color\": \"rgb(248, 156, 116)\", \"size\": [30.486530667480196], \"sizemode\": \"area\", \"sizeref\": 0.060479251675484146, \"symbol\": \"diamond\"}, \"mode\": \"markers\", \"name\": \"BoW_clean\", \"orientation\": \"v\", \"showlegend\": true, \"type\": \"scatter\", \"x\": [4750], \"xaxis\": \"x\", \"y\": [0.4509544968605042], \"yaxis\": \"y\"}, {\"hovertemplate\": \"Modello=GloVe6B<br>Tempo totale di training (s)=%{x}<br>Rmsle=%{y}<br>etime_log2=%{marker.size}<extra></extra>\", \"legendgroup\": \"GloVe6B\", \"marker\": {\"color\": \"rgb(220, 176, 242)\", \"size\": [22.678300585267145], \"sizemode\": \"area\", \"sizeref\": 0.060479251675484146, \"symbol\": \"circle\"}, \"mode\": \"markers\", \"name\": \"GloVe6B\", \"orientation\": \"v\", \"showlegend\": true, \"type\": \"scatter\", \"x\": [4563], \"xaxis\": \"x\", \"y\": [0.4724872410297394], \"yaxis\": \"y\"}, {\"hovertemplate\": \"Modello=GloVe6B_clean<br>Tempo totale di training (s)=%{x}<br>Rmsle=%{y}<br>etime_log2=%{marker.size}<extra></extra>\", \"legendgroup\": \"GloVe6B_clean\", \"marker\": {\"color\": \"rgb(135, 197, 95)\", \"size\": [22.759431786113105], \"sizemode\": \"area\", \"sizeref\": 0.060479251675484146, \"symbol\": \"diamond\"}, \"mode\": \"markers\", \"name\": \"GloVe6B_clean\", \"orientation\": \"v\", \"showlegend\": true, \"type\": \"scatter\", \"x\": [6254], \"xaxis\": \"x\", \"y\": [0.470249354839325], \"yaxis\": \"y\"}, {\"hovertemplate\": \"Modello=GloVe840B<br>Tempo totale di training (s)=%{x}<br>Rmsle=%{y}<br>etime_log2=%{marker.size}<extra></extra>\", \"legendgroup\": \"GloVe840B\", \"marker\": {\"color\": \"rgb(158, 185, 243)\", \"size\": [24.061720651984185], \"sizemode\": \"area\", \"sizeref\": 0.060479251675484146, \"symbol\": \"circle\"}, \"mode\": \"markers\", \"name\": \"GloVe840B\", \"orientation\": \"v\", \"showlegend\": true, \"type\": \"scatter\", \"x\": [5400], \"xaxis\": \"x\", \"y\": [0.4607028365135193], \"yaxis\": \"y\"}, {\"hovertemplate\": \"Modello=GloVe840B_clean<br>Tempo totale di training (s)=%{x}<br>Rmsle=%{y}<br>etime_log2=%{marker.size}<extra></extra>\", \"legendgroup\": \"GloVe840B_clean\", \"marker\": {\"color\": \"rgb(254, 136, 177)\", \"size\": [22.99960695723509], \"sizemode\": \"area\", \"sizeref\": 0.060479251675484146, \"symbol\": \"diamond\"}, \"mode\": \"markers\", \"name\": \"GloVe840B_clean\", \"orientation\": \"v\", \"showlegend\": true, \"type\": \"scatter\", \"x\": [4840], \"xaxis\": \"x\", \"y\": [0.463313639163971], \"yaxis\": \"y\"}, {\"hovertemplate\": \"Modello=Keras<br>Tempo totale di training (s)=%{x}<br>Rmsle=%{y}<br>etime_log2=%{marker.size}<extra></extra>\", \"legendgroup\": \"Keras\", \"marker\": {\"color\": \"rgb(201, 219, 116)\", \"size\": [44.516023625317885], \"sizemode\": \"area\", \"sizeref\": 0.060479251675484146, \"symbol\": \"circle\"}, \"mode\": \"markers\", \"name\": \"Keras\", \"orientation\": \"v\", \"showlegend\": true, \"type\": \"scatter\", \"x\": [5530], \"xaxis\": \"x\", \"y\": [0.4466181695461273], \"yaxis\": \"y\"}, {\"hovertemplate\": \"Modello=Keras_clean<br>Tempo totale di training (s)=%{x}<br>Rmsle=%{y}<br>etime_log2=%{marker.size}<extra></extra>\", \"legendgroup\": \"Keras_clean\", \"marker\": {\"color\": \"rgb(139, 224, 164)\", \"size\": [39.79210594777497], \"sizemode\": \"area\", \"sizeref\": 0.060479251675484146, \"symbol\": \"diamond\"}, \"mode\": \"markers\", \"name\": \"Keras_clean\", \"orientation\": \"v\", \"showlegend\": true, \"type\": \"scatter\", \"x\": [4941], \"xaxis\": \"x\", \"y\": [0.4524747729301453], \"yaxis\": \"y\"}, {\"hovertemplate\": \"Modello=NonText<br>Tempo totale di training (s)=%{x}<br>Rmsle=%{y}<br>etime_log2=%{marker.size}<extra></extra>\", \"legendgroup\": \"NonText\", \"marker\": {\"color\": \"rgb(180, 151, 231)\", \"size\": [6.964623588996019], \"sizemode\": \"area\", \"sizeref\": 0.060479251675484146, \"symbol\": \"circle\"}, \"mode\": \"markers\", \"name\": \"NonText\", \"orientation\": \"v\", \"showlegend\": true, \"type\": \"scatter\", \"x\": [560], \"xaxis\": \"x\", \"y\": [0.6563467383384705], \"yaxis\": \"y\"}, {\"hovertemplate\": \"Modello=TfIdf<br>Tempo totale di training (s)=%{x}<br>Rmsle=%{y}<br>etime_log2=%{marker.size}<extra></extra>\", \"legendgroup\": \"TfIdf\", \"marker\": {\"color\": \"rgb(179, 179, 179)\", \"size\": [30.486530667480196], \"sizemode\": \"area\", \"sizeref\": 0.060479251675484146, \"symbol\": \"circle\"}, \"mode\": \"markers\", \"name\": \"TfIdf\", \"orientation\": \"v\", \"showlegend\": true, \"type\": \"scatter\", \"x\": [5000], \"xaxis\": \"x\", \"y\": [0.4576269388198853], \"yaxis\": \"y\"}, {\"hovertemplate\": \"Modello=TfIdf_clean<br>Tempo totale di training (s)=%{x}<br>Rmsle=%{y}<br>etime_log2=%{marker.size}<extra></extra>\", \"legendgroup\": \"TfIdf_clean\", \"marker\": {\"color\": \"rgb(102, 197, 204)\", \"size\": [30.486530667480196], \"sizemode\": \"area\", \"sizeref\": 0.060479251675484146, \"symbol\": \"diamond\"}, \"mode\": \"markers\", \"name\": \"TfIdf_clean\", \"orientation\": \"v\", \"showlegend\": true, \"type\": \"scatter\", \"x\": [5000], \"xaxis\": \"x\", \"y\": [0.4540041983127594], \"yaxis\": \"y\"}],                        {\"height\": 400, \"legend\": {\"itemsizing\": \"constant\", \"title\": {\"text\": \"Modello\"}, \"tracegroupgap\": 0}, \"margin\": {\"t\": 60}, \"template\": {\"data\": {\"bar\": [{\"error_x\": {\"color\": \"#2a3f5f\"}, \"error_y\": {\"color\": \"#2a3f5f\"}, \"marker\": {\"line\": {\"color\": \"#E5ECF6\", \"width\": 0.5}}, \"type\": \"bar\"}], \"barpolar\": [{\"marker\": {\"line\": {\"color\": \"#E5ECF6\", \"width\": 0.5}}, \"type\": \"barpolar\"}], \"carpet\": [{\"aaxis\": {\"endlinecolor\": \"#2a3f5f\", \"gridcolor\": \"white\", \"linecolor\": \"white\", \"minorgridcolor\": \"white\", \"startlinecolor\": \"#2a3f5f\"}, \"baxis\": {\"endlinecolor\": \"#2a3f5f\", \"gridcolor\": \"white\", \"linecolor\": \"white\", \"minorgridcolor\": \"white\", \"startlinecolor\": \"#2a3f5f\"}, \"type\": \"carpet\"}], \"choropleth\": [{\"colorbar\": {\"outlinewidth\": 0, \"ticks\": \"\"}, \"type\": \"choropleth\"}], \"contour\": [{\"colorbar\": {\"outlinewidth\": 0, \"ticks\": \"\"}, \"colorscale\": [[0.0, \"#0d0887\"], [0.1111111111111111, \"#46039f\"], [0.2222222222222222, \"#7201a8\"], [0.3333333333333333, \"#9c179e\"], [0.4444444444444444, \"#bd3786\"], [0.5555555555555556, \"#d8576b\"], [0.6666666666666666, \"#ed7953\"], [0.7777777777777778, \"#fb9f3a\"], [0.8888888888888888, \"#fdca26\"], [1.0, \"#f0f921\"]], \"type\": \"contour\"}], \"contourcarpet\": [{\"colorbar\": {\"outlinewidth\": 0, \"ticks\": \"\"}, \"type\": \"contourcarpet\"}], \"heatmap\": [{\"colorbar\": {\"outlinewidth\": 0, \"ticks\": \"\"}, \"colorscale\": [[0.0, \"#0d0887\"], [0.1111111111111111, \"#46039f\"], [0.2222222222222222, \"#7201a8\"], [0.3333333333333333, \"#9c179e\"], [0.4444444444444444, \"#bd3786\"], [0.5555555555555556, \"#d8576b\"], [0.6666666666666666, \"#ed7953\"], [0.7777777777777778, \"#fb9f3a\"], [0.8888888888888888, \"#fdca26\"], [1.0, \"#f0f921\"]], \"type\": \"heatmap\"}], \"heatmapgl\": [{\"colorbar\": {\"outlinewidth\": 0, \"ticks\": \"\"}, \"colorscale\": [[0.0, \"#0d0887\"], [0.1111111111111111, \"#46039f\"], [0.2222222222222222, \"#7201a8\"], [0.3333333333333333, \"#9c179e\"], [0.4444444444444444, \"#bd3786\"], [0.5555555555555556, \"#d8576b\"], [0.6666666666666666, \"#ed7953\"], [0.7777777777777778, \"#fb9f3a\"], [0.8888888888888888, \"#fdca26\"], [1.0, \"#f0f921\"]], \"type\": \"heatmapgl\"}], \"histogram\": [{\"marker\": {\"colorbar\": {\"outlinewidth\": 0, \"ticks\": \"\"}}, \"type\": \"histogram\"}], \"histogram2d\": [{\"colorbar\": {\"outlinewidth\": 0, \"ticks\": \"\"}, \"colorscale\": [[0.0, \"#0d0887\"], [0.1111111111111111, \"#46039f\"], [0.2222222222222222, \"#7201a8\"], [0.3333333333333333, \"#9c179e\"], [0.4444444444444444, \"#bd3786\"], [0.5555555555555556, \"#d8576b\"], [0.6666666666666666, \"#ed7953\"], [0.7777777777777778, \"#fb9f3a\"], [0.8888888888888888, \"#fdca26\"], [1.0, \"#f0f921\"]], \"type\": \"histogram2d\"}], \"histogram2dcontour\": [{\"colorbar\": {\"outlinewidth\": 0, \"ticks\": \"\"}, \"colorscale\": [[0.0, \"#0d0887\"], [0.1111111111111111, \"#46039f\"], [0.2222222222222222, \"#7201a8\"], [0.3333333333333333, \"#9c179e\"], [0.4444444444444444, \"#bd3786\"], [0.5555555555555556, \"#d8576b\"], [0.6666666666666666, \"#ed7953\"], [0.7777777777777778, \"#fb9f3a\"], [0.8888888888888888, \"#fdca26\"], [1.0, \"#f0f921\"]], \"type\": \"histogram2dcontour\"}], \"mesh3d\": [{\"colorbar\": {\"outlinewidth\": 0, \"ticks\": \"\"}, \"type\": \"mesh3d\"}], \"parcoords\": [{\"line\": {\"colorbar\": {\"outlinewidth\": 0, \"ticks\": \"\"}}, \"type\": \"parcoords\"}], \"pie\": [{\"automargin\": true, \"type\": \"pie\"}], \"scatter\": [{\"marker\": {\"colorbar\": {\"outlinewidth\": 0, \"ticks\": \"\"}}, \"type\": \"scatter\"}], \"scatter3d\": [{\"line\": {\"colorbar\": {\"outlinewidth\": 0, \"ticks\": \"\"}}, \"marker\": {\"colorbar\": {\"outlinewidth\": 0, \"ticks\": \"\"}}, \"type\": \"scatter3d\"}], \"scattercarpet\": [{\"marker\": {\"colorbar\": {\"outlinewidth\": 0, \"ticks\": \"\"}}, \"type\": \"scattercarpet\"}], \"scattergeo\": [{\"marker\": {\"colorbar\": {\"outlinewidth\": 0, \"ticks\": \"\"}}, \"type\": \"scattergeo\"}], \"scattergl\": [{\"marker\": {\"colorbar\": {\"outlinewidth\": 0, \"ticks\": \"\"}}, \"type\": \"scattergl\"}], \"scattermapbox\": [{\"marker\": {\"colorbar\": {\"outlinewidth\": 0, \"ticks\": \"\"}}, \"type\": \"scattermapbox\"}], \"scatterpolar\": [{\"marker\": {\"colorbar\": {\"outlinewidth\": 0, \"ticks\": \"\"}}, \"type\": \"scatterpolar\"}], \"scatterpolargl\": [{\"marker\": {\"colorbar\": {\"outlinewidth\": 0, \"ticks\": \"\"}}, \"type\": \"scatterpolargl\"}], \"scatterternary\": [{\"marker\": {\"colorbar\": {\"outlinewidth\": 0, \"ticks\": \"\"}}, \"type\": \"scatterternary\"}], \"surface\": [{\"colorbar\": {\"outlinewidth\": 0, \"ticks\": \"\"}, \"colorscale\": [[0.0, \"#0d0887\"], [0.1111111111111111, \"#46039f\"], [0.2222222222222222, \"#7201a8\"], [0.3333333333333333, \"#9c179e\"], [0.4444444444444444, \"#bd3786\"], [0.5555555555555556, \"#d8576b\"], [0.6666666666666666, \"#ed7953\"], [0.7777777777777778, \"#fb9f3a\"], [0.8888888888888888, \"#fdca26\"], [1.0, \"#f0f921\"]], \"type\": \"surface\"}], \"table\": [{\"cells\": {\"fill\": {\"color\": \"#EBF0F8\"}, \"line\": {\"color\": \"white\"}}, \"header\": {\"fill\": {\"color\": \"#C8D4E3\"}, \"line\": {\"color\": \"white\"}}, \"type\": \"table\"}]}, \"layout\": {\"annotationdefaults\": {\"arrowcolor\": \"#2a3f5f\", \"arrowhead\": 0, \"arrowwidth\": 1}, \"autotypenumbers\": \"strict\", \"coloraxis\": {\"colorbar\": {\"outlinewidth\": 0, \"ticks\": \"\"}}, \"colorscale\": {\"diverging\": [[0, \"#8e0152\"], [0.1, \"#c51b7d\"], [0.2, \"#de77ae\"], [0.3, \"#f1b6da\"], [0.4, \"#fde0ef\"], [0.5, \"#f7f7f7\"], [0.6, \"#e6f5d0\"], [0.7, \"#b8e186\"], [0.8, \"#7fbc41\"], [0.9, \"#4d9221\"], [1, \"#276419\"]], \"sequential\": [[0.0, \"#0d0887\"], [0.1111111111111111, \"#46039f\"], [0.2222222222222222, \"#7201a8\"], [0.3333333333333333, \"#9c179e\"], [0.4444444444444444, \"#bd3786\"], [0.5555555555555556, \"#d8576b\"], [0.6666666666666666, \"#ed7953\"], [0.7777777777777778, \"#fb9f3a\"], [0.8888888888888888, \"#fdca26\"], [1.0, \"#f0f921\"]], \"sequentialminus\": [[0.0, \"#0d0887\"], [0.1111111111111111, \"#46039f\"], [0.2222222222222222, \"#7201a8\"], [0.3333333333333333, \"#9c179e\"], [0.4444444444444444, \"#bd3786\"], [0.5555555555555556, \"#d8576b\"], [0.6666666666666666, \"#ed7953\"], [0.7777777777777778, \"#fb9f3a\"], [0.8888888888888888, \"#fdca26\"], [1.0, \"#f0f921\"]]}, \"colorway\": [\"#636efa\", \"#EF553B\", \"#00cc96\", \"#ab63fa\", \"#FFA15A\", \"#19d3f3\", \"#FF6692\", \"#B6E880\", \"#FF97FF\", \"#FECB52\"], \"font\": {\"color\": \"#2a3f5f\"}, \"geo\": {\"bgcolor\": \"white\", \"lakecolor\": \"white\", \"landcolor\": \"#E5ECF6\", \"showlakes\": true, \"showland\": true, \"subunitcolor\": \"white\"}, \"hoverlabel\": {\"align\": \"left\"}, \"hovermode\": \"closest\", \"mapbox\": {\"style\": \"light\"}, \"paper_bgcolor\": \"white\", \"plot_bgcolor\": \"#E5ECF6\", \"polar\": {\"angularaxis\": {\"gridcolor\": \"white\", \"linecolor\": \"white\", \"ticks\": \"\"}, \"bgcolor\": \"#E5ECF6\", \"radialaxis\": {\"gridcolor\": \"white\", \"linecolor\": \"white\", \"ticks\": \"\"}}, \"scene\": {\"xaxis\": {\"backgroundcolor\": \"#E5ECF6\", \"gridcolor\": \"white\", \"gridwidth\": 2, \"linecolor\": \"white\", \"showbackground\": true, \"ticks\": \"\", \"zerolinecolor\": \"white\"}, \"yaxis\": {\"backgroundcolor\": \"#E5ECF6\", \"gridcolor\": \"white\", \"gridwidth\": 2, \"linecolor\": \"white\", \"showbackground\": true, \"ticks\": \"\", \"zerolinecolor\": \"white\"}, \"zaxis\": {\"backgroundcolor\": \"#E5ECF6\", \"gridcolor\": \"white\", \"gridwidth\": 2, \"linecolor\": \"white\", \"showbackground\": true, \"ticks\": \"\", \"zerolinecolor\": \"white\"}}, \"shapedefaults\": {\"line\": {\"color\": \"#2a3f5f\"}}, \"ternary\": {\"aaxis\": {\"gridcolor\": \"white\", \"linecolor\": \"white\", \"ticks\": \"\"}, \"baxis\": {\"gridcolor\": \"white\", \"linecolor\": \"white\", \"ticks\": \"\"}, \"bgcolor\": \"#E5ECF6\", \"caxis\": {\"gridcolor\": \"white\", \"linecolor\": \"white\", \"ticks\": \"\"}}, \"title\": {\"x\": 0.05}, \"xaxis\": {\"automargin\": true, \"gridcolor\": \"white\", \"linecolor\": \"white\", \"ticks\": \"\", \"title\": {\"standoff\": 15}, \"zerolinecolor\": \"white\", \"zerolinewidth\": 2}, \"yaxis\": {\"automargin\": true, \"gridcolor\": \"white\", \"linecolor\": \"white\", \"ticks\": \"\", \"title\": {\"standoff\": 15}, \"zerolinecolor\": \"white\", \"zerolinewidth\": 2}}}, \"width\": 700, \"xaxis\": {\"anchor\": \"y\", \"domain\": [0.0, 1.0], \"title\": {\"text\": \"Tempo totale di training (s)\"}}, \"yaxis\": {\"anchor\": \"x\", \"domain\": [0.0, 1.0], \"title\": {\"text\": \"Rmsle\"}}},                        {\"responsive\": true}                    ).then(function(){\n",
       "                            \n",
       "var gd = document.getElementById('631c53c8-2bde-41ab-b8e0-3489af7eb548');\n",
       "var x = new MutationObserver(function (mutations, observer) {{\n",
       "        var display = window.getComputedStyle(gd).display;\n",
       "        if (!display || display === 'none') {{\n",
       "            console.log([gd, 'removed!']);\n",
       "            Plotly.purge(gd);\n",
       "            observer.disconnect();\n",
       "        }}\n",
       "}});\n",
       "\n",
       "// Listen for the removal of the full notebook cells\n",
       "var notebookContainer = gd.closest('#notebook-container');\n",
       "if (notebookContainer) {{\n",
       "    x.observe(notebookContainer, {childList: true});\n",
       "}}\n",
       "\n",
       "// Listen for the clearing of the current output cell\n",
       "var outputEl = gd.closest('.output');\n",
       "if (outputEl) {{\n",
       "    x.observe(outputEl, {childList: true});\n",
       "}}\n",
       "\n",
       "                        })                };                });            </script>        </div>"
      ]
     },
     "metadata": {},
     "output_type": "display_data"
    }
   ],
   "source": [
    "fig = px.scatter(df, x=\"tottime\", y=\"rmsle\", size='etime_log2',\n",
    "                 text=None, color=\"model\", width=700, height=400,\n",
    "                 log_x=False, log_y=False, size_max=30,\n",
    "                 labels={\n",
    "                     \"tottime\": \"Tempo totale di training (s)\",\n",
    "                     \"rmsle\": \"Rmsle\",\n",
    "                     \"model\": \"Modello\"\n",
    "                 },\n",
    "                 #title=\"Rmsle in funzione del Tempo totale di training. La dimensione corrisponde alla durata di una singola epoca\"\n",
    "                 color_discrete_sequence=px.colors.qualitative.Pastel\n",
    "                )\n",
    "#fig.update_layout(paper_bgcolor='rgba(0,0,0,0)',plot_bgcolor='rgba(0,0,0,0)')\n",
    "#fig.update_traces(textposition='top center')\n",
    "#fig.update_layout(showlegend=False)\n",
    "\n",
    "# errore in funzione del tempo totale di train = nepochs*epochstime\n",
    "# dimensione è il tempo della singola epoca\n",
    "\n",
    "for i in fig['data']:\n",
    "    if re.match('.*_clean$', i['name']):\n",
    "        i['marker']['symbol'] = 'diamond'\n",
    "    else:\n",
    "        i['marker']['symbol'] = 'circle'\n",
    "fig.show()"
   ]
  },
  {
   "cell_type": "code",
   "execution_count": 195,
   "metadata": {},
   "outputs": [
    {
     "data": {
      "application/vnd.plotly.v1+json": {
       "config": {
        "plotlyServerURL": "https://plot.ly"
       },
       "data": [
        {
         "hovertemplate": "Modello=Bert<br>Numero di Paramatri Allenabili=%{x}<br>Rmsle=%{y}<br>totparams_log2=%{marker.size}<extra></extra>",
         "legendgroup": "Bert",
         "marker": {
          "color": "rgb(102, 197, 204)",
          "size": [
           324.48110420844455
          ],
          "sizemode": "area",
          "sizeref": 0.38424468403982254,
          "symbol": "circle"
         },
         "mode": "markers",
         "name": "Bert",
         "orientation": "v",
         "showlegend": true,
         "type": "scatter",
         "x": [
          180129
         ],
         "xaxis": "x",
         "y": [
          0.5576
         ],
         "yaxis": "y"
        },
        {
         "hovertemplate": "Modello=BoW<br>Numero di Paramatri Allenabili=%{x}<br>Rmsle=%{y}<br>totparams_log2=%{marker.size}<extra></extra>",
         "legendgroup": "BoW",
         "marker": {
          "color": "rgb(246, 207, 113)",
          "size": [
           246.94036965475516
          ],
          "sizemode": "area",
          "sizeref": 0.38424468403982254,
          "symbol": "circle"
         },
         "mode": "markers",
         "name": "BoW",
         "orientation": "v",
         "showlegend": true,
         "type": "scatter",
         "x": [
          6678049
         ],
         "xaxis": "x",
         "y": [
          0.4485570192337036
         ],
         "yaxis": "y"
        },
        {
         "hovertemplate": "Modello=BoW_clean<br>Numero di Paramatri Allenabili=%{x}<br>Rmsle=%{y}<br>totparams_log2=%{marker.size}<extra></extra>",
         "legendgroup": "BoW_clean",
         "marker": {
          "color": "rgb(248, 156, 116)",
          "size": [
           244.74215384550547
          ],
          "sizemode": "area",
          "sizeref": 0.38424468403982254,
          "symbol": "diamond"
         },
         "mode": "markers",
         "name": "BoW_clean",
         "orientation": "v",
         "showlegend": true,
         "type": "scatter",
         "x": [
          6225953
         ],
         "xaxis": "x",
         "y": [
          0.4509544968605042
         ],
         "yaxis": "y"
        },
        {
         "hovertemplate": "Modello=GloVe6B<br>Numero di Paramatri Allenabili=%{x}<br>Rmsle=%{y}<br>totparams_log2=%{marker.size}<extra></extra>",
         "legendgroup": "GloVe6B",
         "marker": {
          "color": "rgb(220, 176, 242)",
          "size": [
           345.82021563584027
          ],
          "sizemode": "area",
          "sizeref": 0.38424468403982254,
          "symbol": "circle"
         },
         "mode": "markers",
         "name": "GloVe6B",
         "orientation": "v",
         "showlegend": true,
         "type": "scatter",
         "x": [
          75297
         ],
         "xaxis": "x",
         "y": [
          0.4724872410297394
         ],
         "yaxis": "y"
        },
        {
         "hovertemplate": "Modello=GloVe6B_clean<br>Numero di Paramatri Allenabili=%{x}<br>Rmsle=%{y}<br>totparams_log2=%{marker.size}<extra></extra>",
         "legendgroup": "GloVe6B_clean",
         "marker": {
          "color": "rgb(135, 197, 95)",
          "size": [
           335.72459312977537
          ],
          "sizemode": "area",
          "sizeref": 0.38424468403982254,
          "symbol": "diamond"
         },
         "mode": "markers",
         "name": "GloVe6B_clean",
         "orientation": "v",
         "showlegend": true,
         "type": "scatter",
         "x": [
          75297
         ],
         "xaxis": "x",
         "y": [
          0.470249354839325
         ],
         "yaxis": "y"
        },
        {
         "hovertemplate": "Modello=GloVe840B<br>Numero di Paramatri Allenabili=%{x}<br>Rmsle=%{y}<br>totparams_log2=%{marker.size}<extra></extra>",
         "legendgroup": "GloVe840B",
         "marker": {
          "color": "rgb(158, 185, 243)",
          "size": [
           345.82021563584027
          ],
          "sizemode": "area",
          "sizeref": 0.38424468403982254,
          "symbol": "circle"
         },
         "mode": "markers",
         "name": "GloVe840B",
         "orientation": "v",
         "showlegend": true,
         "type": "scatter",
         "x": [
          75297
         ],
         "xaxis": "x",
         "y": [
          0.4607028365135193
         ],
         "yaxis": "y"
        },
        {
         "hovertemplate": "Modello=GloVe840B_clean<br>Numero di Paramatri Allenabili=%{x}<br>Rmsle=%{y}<br>totparams_log2=%{marker.size}<extra></extra>",
         "legendgroup": "GloVe840B_clean",
         "marker": {
          "color": "rgb(254, 136, 177)",
          "size": [
           335.72459312977537
          ],
          "sizemode": "area",
          "sizeref": 0.38424468403982254,
          "symbol": "diamond"
         },
         "mode": "markers",
         "name": "GloVe840B_clean",
         "orientation": "v",
         "showlegend": true,
         "type": "scatter",
         "x": [
          75297
         ],
         "xaxis": "x",
         "y": [
          0.463313639163971
         ],
         "yaxis": "y"
        },
        {
         "hovertemplate": "Modello=Keras<br>Numero di Paramatri Allenabili=%{x}<br>Rmsle=%{y}<br>totparams_log2=%{marker.size}<extra></extra>",
         "legendgroup": "Keras",
         "marker": {
          "color": "rgb(201, 219, 116)",
          "size": [
           282.40204624114267
          ],
          "sizemode": "area",
          "sizeref": 0.38424468403982254,
          "symbol": "circle"
         },
         "mode": "markers",
         "name": "Keras",
         "orientation": "v",
         "showlegend": true,
         "type": "scatter",
         "x": [
          19871997
         ],
         "xaxis": "x",
         "y": [
          0.4466181695461273
         ],
         "yaxis": "y"
        },
        {
         "hovertemplate": "Modello=Keras_clean<br>Numero di Paramatri Allenabili=%{x}<br>Rmsle=%{y}<br>totparams_log2=%{marker.size}<extra></extra>",
         "legendgroup": "Keras_clean",
         "marker": {
          "color": "rgb(139, 224, 164)",
          "size": [
           273.28969274888334
          ],
          "sizemode": "area",
          "sizeref": 0.38424468403982254,
          "symbol": "diamond"
         },
         "mode": "markers",
         "name": "Keras_clean",
         "orientation": "v",
         "showlegend": true,
         "type": "scatter",
         "x": [
          15119197
         ],
         "xaxis": "x",
         "y": [
          0.4524747729301453
         ],
         "yaxis": "y"
        },
        {
         "hovertemplate": "Modello=NonText<br>Numero di Paramatri Allenabili=%{x}<br>Rmsle=%{y}<br>totparams_log2=%{marker.size}<extra></extra>",
         "legendgroup": "NonText",
         "marker": {
          "color": "rgb(180, 151, 231)",
          "size": [
           44.15723399300546
          ],
          "sizemode": "area",
          "sizeref": 0.38424468403982254,
          "symbol": "circle"
         },
         "mode": "markers",
         "name": "NonText",
         "orientation": "v",
         "showlegend": true,
         "type": "scatter",
         "x": [
          769
         ],
         "xaxis": "x",
         "y": [
          0.6563467383384705
         ],
         "yaxis": "y"
        },
        {
         "hovertemplate": "Modello=TfIdf<br>Numero di Paramatri Allenabili=%{x}<br>Rmsle=%{y}<br>totparams_log2=%{marker.size}<extra></extra>",
         "legendgroup": "TfIdf",
         "marker": {
          "color": "rgb(179, 179, 179)",
          "size": [
           246.94036965475516
          ],
          "sizemode": "area",
          "sizeref": 0.38424468403982254,
          "symbol": "circle"
         },
         "mode": "markers",
         "name": "TfIdf",
         "orientation": "v",
         "showlegend": true,
         "type": "scatter",
         "x": [
          6678049
         ],
         "xaxis": "x",
         "y": [
          0.4576269388198853
         ],
         "yaxis": "y"
        },
        {
         "hovertemplate": "Modello=TfIdf_clean<br>Numero di Paramatri Allenabili=%{x}<br>Rmsle=%{y}<br>totparams_log2=%{marker.size}<extra></extra>",
         "legendgroup": "TfIdf_clean",
         "marker": {
          "color": "rgb(102, 197, 204)",
          "size": [
           244.74215384550547
          ],
          "sizemode": "area",
          "sizeref": 0.38424468403982254,
          "symbol": "diamond"
         },
         "mode": "markers",
         "name": "TfIdf_clean",
         "orientation": "v",
         "showlegend": true,
         "type": "scatter",
         "x": [
          6225953
         ],
         "xaxis": "x",
         "y": [
          0.4540041983127594
         ],
         "yaxis": "y"
        }
       ],
       "layout": {
        "height": 400,
        "legend": {
         "itemsizing": "constant",
         "title": {
          "text": "Modello"
         },
         "tracegroupgap": 0
        },
        "margin": {
         "t": 60
        },
        "template": {
         "data": {
          "bar": [
           {
            "error_x": {
             "color": "#2a3f5f"
            },
            "error_y": {
             "color": "#2a3f5f"
            },
            "marker": {
             "line": {
              "color": "#E5ECF6",
              "width": 0.5
             }
            },
            "type": "bar"
           }
          ],
          "barpolar": [
           {
            "marker": {
             "line": {
              "color": "#E5ECF6",
              "width": 0.5
             }
            },
            "type": "barpolar"
           }
          ],
          "carpet": [
           {
            "aaxis": {
             "endlinecolor": "#2a3f5f",
             "gridcolor": "white",
             "linecolor": "white",
             "minorgridcolor": "white",
             "startlinecolor": "#2a3f5f"
            },
            "baxis": {
             "endlinecolor": "#2a3f5f",
             "gridcolor": "white",
             "linecolor": "white",
             "minorgridcolor": "white",
             "startlinecolor": "#2a3f5f"
            },
            "type": "carpet"
           }
          ],
          "choropleth": [
           {
            "colorbar": {
             "outlinewidth": 0,
             "ticks": ""
            },
            "type": "choropleth"
           }
          ],
          "contour": [
           {
            "colorbar": {
             "outlinewidth": 0,
             "ticks": ""
            },
            "colorscale": [
             [
              0,
              "#0d0887"
             ],
             [
              0.1111111111111111,
              "#46039f"
             ],
             [
              0.2222222222222222,
              "#7201a8"
             ],
             [
              0.3333333333333333,
              "#9c179e"
             ],
             [
              0.4444444444444444,
              "#bd3786"
             ],
             [
              0.5555555555555556,
              "#d8576b"
             ],
             [
              0.6666666666666666,
              "#ed7953"
             ],
             [
              0.7777777777777778,
              "#fb9f3a"
             ],
             [
              0.8888888888888888,
              "#fdca26"
             ],
             [
              1,
              "#f0f921"
             ]
            ],
            "type": "contour"
           }
          ],
          "contourcarpet": [
           {
            "colorbar": {
             "outlinewidth": 0,
             "ticks": ""
            },
            "type": "contourcarpet"
           }
          ],
          "heatmap": [
           {
            "colorbar": {
             "outlinewidth": 0,
             "ticks": ""
            },
            "colorscale": [
             [
              0,
              "#0d0887"
             ],
             [
              0.1111111111111111,
              "#46039f"
             ],
             [
              0.2222222222222222,
              "#7201a8"
             ],
             [
              0.3333333333333333,
              "#9c179e"
             ],
             [
              0.4444444444444444,
              "#bd3786"
             ],
             [
              0.5555555555555556,
              "#d8576b"
             ],
             [
              0.6666666666666666,
              "#ed7953"
             ],
             [
              0.7777777777777778,
              "#fb9f3a"
             ],
             [
              0.8888888888888888,
              "#fdca26"
             ],
             [
              1,
              "#f0f921"
             ]
            ],
            "type": "heatmap"
           }
          ],
          "heatmapgl": [
           {
            "colorbar": {
             "outlinewidth": 0,
             "ticks": ""
            },
            "colorscale": [
             [
              0,
              "#0d0887"
             ],
             [
              0.1111111111111111,
              "#46039f"
             ],
             [
              0.2222222222222222,
              "#7201a8"
             ],
             [
              0.3333333333333333,
              "#9c179e"
             ],
             [
              0.4444444444444444,
              "#bd3786"
             ],
             [
              0.5555555555555556,
              "#d8576b"
             ],
             [
              0.6666666666666666,
              "#ed7953"
             ],
             [
              0.7777777777777778,
              "#fb9f3a"
             ],
             [
              0.8888888888888888,
              "#fdca26"
             ],
             [
              1,
              "#f0f921"
             ]
            ],
            "type": "heatmapgl"
           }
          ],
          "histogram": [
           {
            "marker": {
             "colorbar": {
              "outlinewidth": 0,
              "ticks": ""
             }
            },
            "type": "histogram"
           }
          ],
          "histogram2d": [
           {
            "colorbar": {
             "outlinewidth": 0,
             "ticks": ""
            },
            "colorscale": [
             [
              0,
              "#0d0887"
             ],
             [
              0.1111111111111111,
              "#46039f"
             ],
             [
              0.2222222222222222,
              "#7201a8"
             ],
             [
              0.3333333333333333,
              "#9c179e"
             ],
             [
              0.4444444444444444,
              "#bd3786"
             ],
             [
              0.5555555555555556,
              "#d8576b"
             ],
             [
              0.6666666666666666,
              "#ed7953"
             ],
             [
              0.7777777777777778,
              "#fb9f3a"
             ],
             [
              0.8888888888888888,
              "#fdca26"
             ],
             [
              1,
              "#f0f921"
             ]
            ],
            "type": "histogram2d"
           }
          ],
          "histogram2dcontour": [
           {
            "colorbar": {
             "outlinewidth": 0,
             "ticks": ""
            },
            "colorscale": [
             [
              0,
              "#0d0887"
             ],
             [
              0.1111111111111111,
              "#46039f"
             ],
             [
              0.2222222222222222,
              "#7201a8"
             ],
             [
              0.3333333333333333,
              "#9c179e"
             ],
             [
              0.4444444444444444,
              "#bd3786"
             ],
             [
              0.5555555555555556,
              "#d8576b"
             ],
             [
              0.6666666666666666,
              "#ed7953"
             ],
             [
              0.7777777777777778,
              "#fb9f3a"
             ],
             [
              0.8888888888888888,
              "#fdca26"
             ],
             [
              1,
              "#f0f921"
             ]
            ],
            "type": "histogram2dcontour"
           }
          ],
          "mesh3d": [
           {
            "colorbar": {
             "outlinewidth": 0,
             "ticks": ""
            },
            "type": "mesh3d"
           }
          ],
          "parcoords": [
           {
            "line": {
             "colorbar": {
              "outlinewidth": 0,
              "ticks": ""
             }
            },
            "type": "parcoords"
           }
          ],
          "pie": [
           {
            "automargin": true,
            "type": "pie"
           }
          ],
          "scatter": [
           {
            "marker": {
             "colorbar": {
              "outlinewidth": 0,
              "ticks": ""
             }
            },
            "type": "scatter"
           }
          ],
          "scatter3d": [
           {
            "line": {
             "colorbar": {
              "outlinewidth": 0,
              "ticks": ""
             }
            },
            "marker": {
             "colorbar": {
              "outlinewidth": 0,
              "ticks": ""
             }
            },
            "type": "scatter3d"
           }
          ],
          "scattercarpet": [
           {
            "marker": {
             "colorbar": {
              "outlinewidth": 0,
              "ticks": ""
             }
            },
            "type": "scattercarpet"
           }
          ],
          "scattergeo": [
           {
            "marker": {
             "colorbar": {
              "outlinewidth": 0,
              "ticks": ""
             }
            },
            "type": "scattergeo"
           }
          ],
          "scattergl": [
           {
            "marker": {
             "colorbar": {
              "outlinewidth": 0,
              "ticks": ""
             }
            },
            "type": "scattergl"
           }
          ],
          "scattermapbox": [
           {
            "marker": {
             "colorbar": {
              "outlinewidth": 0,
              "ticks": ""
             }
            },
            "type": "scattermapbox"
           }
          ],
          "scatterpolar": [
           {
            "marker": {
             "colorbar": {
              "outlinewidth": 0,
              "ticks": ""
             }
            },
            "type": "scatterpolar"
           }
          ],
          "scatterpolargl": [
           {
            "marker": {
             "colorbar": {
              "outlinewidth": 0,
              "ticks": ""
             }
            },
            "type": "scatterpolargl"
           }
          ],
          "scatterternary": [
           {
            "marker": {
             "colorbar": {
              "outlinewidth": 0,
              "ticks": ""
             }
            },
            "type": "scatterternary"
           }
          ],
          "surface": [
           {
            "colorbar": {
             "outlinewidth": 0,
             "ticks": ""
            },
            "colorscale": [
             [
              0,
              "#0d0887"
             ],
             [
              0.1111111111111111,
              "#46039f"
             ],
             [
              0.2222222222222222,
              "#7201a8"
             ],
             [
              0.3333333333333333,
              "#9c179e"
             ],
             [
              0.4444444444444444,
              "#bd3786"
             ],
             [
              0.5555555555555556,
              "#d8576b"
             ],
             [
              0.6666666666666666,
              "#ed7953"
             ],
             [
              0.7777777777777778,
              "#fb9f3a"
             ],
             [
              0.8888888888888888,
              "#fdca26"
             ],
             [
              1,
              "#f0f921"
             ]
            ],
            "type": "surface"
           }
          ],
          "table": [
           {
            "cells": {
             "fill": {
              "color": "#EBF0F8"
             },
             "line": {
              "color": "white"
             }
            },
            "header": {
             "fill": {
              "color": "#C8D4E3"
             },
             "line": {
              "color": "white"
             }
            },
            "type": "table"
           }
          ]
         },
         "layout": {
          "annotationdefaults": {
           "arrowcolor": "#2a3f5f",
           "arrowhead": 0,
           "arrowwidth": 1
          },
          "autotypenumbers": "strict",
          "coloraxis": {
           "colorbar": {
            "outlinewidth": 0,
            "ticks": ""
           }
          },
          "colorscale": {
           "diverging": [
            [
             0,
             "#8e0152"
            ],
            [
             0.1,
             "#c51b7d"
            ],
            [
             0.2,
             "#de77ae"
            ],
            [
             0.3,
             "#f1b6da"
            ],
            [
             0.4,
             "#fde0ef"
            ],
            [
             0.5,
             "#f7f7f7"
            ],
            [
             0.6,
             "#e6f5d0"
            ],
            [
             0.7,
             "#b8e186"
            ],
            [
             0.8,
             "#7fbc41"
            ],
            [
             0.9,
             "#4d9221"
            ],
            [
             1,
             "#276419"
            ]
           ],
           "sequential": [
            [
             0,
             "#0d0887"
            ],
            [
             0.1111111111111111,
             "#46039f"
            ],
            [
             0.2222222222222222,
             "#7201a8"
            ],
            [
             0.3333333333333333,
             "#9c179e"
            ],
            [
             0.4444444444444444,
             "#bd3786"
            ],
            [
             0.5555555555555556,
             "#d8576b"
            ],
            [
             0.6666666666666666,
             "#ed7953"
            ],
            [
             0.7777777777777778,
             "#fb9f3a"
            ],
            [
             0.8888888888888888,
             "#fdca26"
            ],
            [
             1,
             "#f0f921"
            ]
           ],
           "sequentialminus": [
            [
             0,
             "#0d0887"
            ],
            [
             0.1111111111111111,
             "#46039f"
            ],
            [
             0.2222222222222222,
             "#7201a8"
            ],
            [
             0.3333333333333333,
             "#9c179e"
            ],
            [
             0.4444444444444444,
             "#bd3786"
            ],
            [
             0.5555555555555556,
             "#d8576b"
            ],
            [
             0.6666666666666666,
             "#ed7953"
            ],
            [
             0.7777777777777778,
             "#fb9f3a"
            ],
            [
             0.8888888888888888,
             "#fdca26"
            ],
            [
             1,
             "#f0f921"
            ]
           ]
          },
          "colorway": [
           "#636efa",
           "#EF553B",
           "#00cc96",
           "#ab63fa",
           "#FFA15A",
           "#19d3f3",
           "#FF6692",
           "#B6E880",
           "#FF97FF",
           "#FECB52"
          ],
          "font": {
           "color": "#2a3f5f"
          },
          "geo": {
           "bgcolor": "white",
           "lakecolor": "white",
           "landcolor": "#E5ECF6",
           "showlakes": true,
           "showland": true,
           "subunitcolor": "white"
          },
          "hoverlabel": {
           "align": "left"
          },
          "hovermode": "closest",
          "mapbox": {
           "style": "light"
          },
          "paper_bgcolor": "white",
          "plot_bgcolor": "#E5ECF6",
          "polar": {
           "angularaxis": {
            "gridcolor": "white",
            "linecolor": "white",
            "ticks": ""
           },
           "bgcolor": "#E5ECF6",
           "radialaxis": {
            "gridcolor": "white",
            "linecolor": "white",
            "ticks": ""
           }
          },
          "scene": {
           "xaxis": {
            "backgroundcolor": "#E5ECF6",
            "gridcolor": "white",
            "gridwidth": 2,
            "linecolor": "white",
            "showbackground": true,
            "ticks": "",
            "zerolinecolor": "white"
           },
           "yaxis": {
            "backgroundcolor": "#E5ECF6",
            "gridcolor": "white",
            "gridwidth": 2,
            "linecolor": "white",
            "showbackground": true,
            "ticks": "",
            "zerolinecolor": "white"
           },
           "zaxis": {
            "backgroundcolor": "#E5ECF6",
            "gridcolor": "white",
            "gridwidth": 2,
            "linecolor": "white",
            "showbackground": true,
            "ticks": "",
            "zerolinecolor": "white"
           }
          },
          "shapedefaults": {
           "line": {
            "color": "#2a3f5f"
           }
          },
          "ternary": {
           "aaxis": {
            "gridcolor": "white",
            "linecolor": "white",
            "ticks": ""
           },
           "baxis": {
            "gridcolor": "white",
            "linecolor": "white",
            "ticks": ""
           },
           "bgcolor": "#E5ECF6",
           "caxis": {
            "gridcolor": "white",
            "linecolor": "white",
            "ticks": ""
           }
          },
          "title": {
           "x": 0.05
          },
          "xaxis": {
           "automargin": true,
           "gridcolor": "white",
           "linecolor": "white",
           "ticks": "",
           "title": {
            "standoff": 15
           },
           "zerolinecolor": "white",
           "zerolinewidth": 2
          },
          "yaxis": {
           "automargin": true,
           "gridcolor": "white",
           "linecolor": "white",
           "ticks": "",
           "title": {
            "standoff": 15
           },
           "zerolinecolor": "white",
           "zerolinewidth": 2
          }
         }
        },
        "width": 700,
        "xaxis": {
         "anchor": "y",
         "domain": [
          0,
          1
         ],
         "title": {
          "text": "Numero di Paramatri Allenabili"
         },
         "type": "log"
        },
        "yaxis": {
         "anchor": "x",
         "domain": [
          0,
          1
         ],
         "title": {
          "text": "Rmsle"
         }
        }
       }
      },
      "text/html": [
       "<div>                            <div id=\"89c3a0c6-9a56-4bb8-b9cd-59d36098ac40\" class=\"plotly-graph-div\" style=\"height:400px; width:700px;\"></div>            <script type=\"text/javascript\">                require([\"plotly\"], function(Plotly) {                    window.PLOTLYENV=window.PLOTLYENV || {};                                    if (document.getElementById(\"89c3a0c6-9a56-4bb8-b9cd-59d36098ac40\")) {                    Plotly.newPlot(                        \"89c3a0c6-9a56-4bb8-b9cd-59d36098ac40\",                        [{\"hovertemplate\": \"Modello=Bert<br>Numero di Paramatri Allenabili=%{x}<br>Rmsle=%{y}<br>totparams_log2=%{marker.size}<extra></extra>\", \"legendgroup\": \"Bert\", \"marker\": {\"color\": \"rgb(102, 197, 204)\", \"size\": [324.48110420844455], \"sizemode\": \"area\", \"sizeref\": 0.38424468403982254, \"symbol\": \"circle\"}, \"mode\": \"markers\", \"name\": \"Bert\", \"orientation\": \"v\", \"showlegend\": true, \"type\": \"scatter\", \"x\": [180129], \"xaxis\": \"x\", \"y\": [0.5576], \"yaxis\": \"y\"}, {\"hovertemplate\": \"Modello=BoW<br>Numero di Paramatri Allenabili=%{x}<br>Rmsle=%{y}<br>totparams_log2=%{marker.size}<extra></extra>\", \"legendgroup\": \"BoW\", \"marker\": {\"color\": \"rgb(246, 207, 113)\", \"size\": [246.94036965475516], \"sizemode\": \"area\", \"sizeref\": 0.38424468403982254, \"symbol\": \"circle\"}, \"mode\": \"markers\", \"name\": \"BoW\", \"orientation\": \"v\", \"showlegend\": true, \"type\": \"scatter\", \"x\": [6678049], \"xaxis\": \"x\", \"y\": [0.4485570192337036], \"yaxis\": \"y\"}, {\"hovertemplate\": \"Modello=BoW_clean<br>Numero di Paramatri Allenabili=%{x}<br>Rmsle=%{y}<br>totparams_log2=%{marker.size}<extra></extra>\", \"legendgroup\": \"BoW_clean\", \"marker\": {\"color\": \"rgb(248, 156, 116)\", \"size\": [244.74215384550547], \"sizemode\": \"area\", \"sizeref\": 0.38424468403982254, \"symbol\": \"diamond\"}, \"mode\": \"markers\", \"name\": \"BoW_clean\", \"orientation\": \"v\", \"showlegend\": true, \"type\": \"scatter\", \"x\": [6225953], \"xaxis\": \"x\", \"y\": [0.4509544968605042], \"yaxis\": \"y\"}, {\"hovertemplate\": \"Modello=GloVe6B<br>Numero di Paramatri Allenabili=%{x}<br>Rmsle=%{y}<br>totparams_log2=%{marker.size}<extra></extra>\", \"legendgroup\": \"GloVe6B\", \"marker\": {\"color\": \"rgb(220, 176, 242)\", \"size\": [345.82021563584027], \"sizemode\": \"area\", \"sizeref\": 0.38424468403982254, \"symbol\": \"circle\"}, \"mode\": \"markers\", \"name\": \"GloVe6B\", \"orientation\": \"v\", \"showlegend\": true, \"type\": \"scatter\", \"x\": [75297], \"xaxis\": \"x\", \"y\": [0.4724872410297394], \"yaxis\": \"y\"}, {\"hovertemplate\": \"Modello=GloVe6B_clean<br>Numero di Paramatri Allenabili=%{x}<br>Rmsle=%{y}<br>totparams_log2=%{marker.size}<extra></extra>\", \"legendgroup\": \"GloVe6B_clean\", \"marker\": {\"color\": \"rgb(135, 197, 95)\", \"size\": [335.72459312977537], \"sizemode\": \"area\", \"sizeref\": 0.38424468403982254, \"symbol\": \"diamond\"}, \"mode\": \"markers\", \"name\": \"GloVe6B_clean\", \"orientation\": \"v\", \"showlegend\": true, \"type\": \"scatter\", \"x\": [75297], \"xaxis\": \"x\", \"y\": [0.470249354839325], \"yaxis\": \"y\"}, {\"hovertemplate\": \"Modello=GloVe840B<br>Numero di Paramatri Allenabili=%{x}<br>Rmsle=%{y}<br>totparams_log2=%{marker.size}<extra></extra>\", \"legendgroup\": \"GloVe840B\", \"marker\": {\"color\": \"rgb(158, 185, 243)\", \"size\": [345.82021563584027], \"sizemode\": \"area\", \"sizeref\": 0.38424468403982254, \"symbol\": \"circle\"}, \"mode\": \"markers\", \"name\": \"GloVe840B\", \"orientation\": \"v\", \"showlegend\": true, \"type\": \"scatter\", \"x\": [75297], \"xaxis\": \"x\", \"y\": [0.4607028365135193], \"yaxis\": \"y\"}, {\"hovertemplate\": \"Modello=GloVe840B_clean<br>Numero di Paramatri Allenabili=%{x}<br>Rmsle=%{y}<br>totparams_log2=%{marker.size}<extra></extra>\", \"legendgroup\": \"GloVe840B_clean\", \"marker\": {\"color\": \"rgb(254, 136, 177)\", \"size\": [335.72459312977537], \"sizemode\": \"area\", \"sizeref\": 0.38424468403982254, \"symbol\": \"diamond\"}, \"mode\": \"markers\", \"name\": \"GloVe840B_clean\", \"orientation\": \"v\", \"showlegend\": true, \"type\": \"scatter\", \"x\": [75297], \"xaxis\": \"x\", \"y\": [0.463313639163971], \"yaxis\": \"y\"}, {\"hovertemplate\": \"Modello=Keras<br>Numero di Paramatri Allenabili=%{x}<br>Rmsle=%{y}<br>totparams_log2=%{marker.size}<extra></extra>\", \"legendgroup\": \"Keras\", \"marker\": {\"color\": \"rgb(201, 219, 116)\", \"size\": [282.40204624114267], \"sizemode\": \"area\", \"sizeref\": 0.38424468403982254, \"symbol\": \"circle\"}, \"mode\": \"markers\", \"name\": \"Keras\", \"orientation\": \"v\", \"showlegend\": true, \"type\": \"scatter\", \"x\": [19871997], \"xaxis\": \"x\", \"y\": [0.4466181695461273], \"yaxis\": \"y\"}, {\"hovertemplate\": \"Modello=Keras_clean<br>Numero di Paramatri Allenabili=%{x}<br>Rmsle=%{y}<br>totparams_log2=%{marker.size}<extra></extra>\", \"legendgroup\": \"Keras_clean\", \"marker\": {\"color\": \"rgb(139, 224, 164)\", \"size\": [273.28969274888334], \"sizemode\": \"area\", \"sizeref\": 0.38424468403982254, \"symbol\": \"diamond\"}, \"mode\": \"markers\", \"name\": \"Keras_clean\", \"orientation\": \"v\", \"showlegend\": true, \"type\": \"scatter\", \"x\": [15119197], \"xaxis\": \"x\", \"y\": [0.4524747729301453], \"yaxis\": \"y\"}, {\"hovertemplate\": \"Modello=NonText<br>Numero di Paramatri Allenabili=%{x}<br>Rmsle=%{y}<br>totparams_log2=%{marker.size}<extra></extra>\", \"legendgroup\": \"NonText\", \"marker\": {\"color\": \"rgb(180, 151, 231)\", \"size\": [44.15723399300546], \"sizemode\": \"area\", \"sizeref\": 0.38424468403982254, \"symbol\": \"circle\"}, \"mode\": \"markers\", \"name\": \"NonText\", \"orientation\": \"v\", \"showlegend\": true, \"type\": \"scatter\", \"x\": [769], \"xaxis\": \"x\", \"y\": [0.6563467383384705], \"yaxis\": \"y\"}, {\"hovertemplate\": \"Modello=TfIdf<br>Numero di Paramatri Allenabili=%{x}<br>Rmsle=%{y}<br>totparams_log2=%{marker.size}<extra></extra>\", \"legendgroup\": \"TfIdf\", \"marker\": {\"color\": \"rgb(179, 179, 179)\", \"size\": [246.94036965475516], \"sizemode\": \"area\", \"sizeref\": 0.38424468403982254, \"symbol\": \"circle\"}, \"mode\": \"markers\", \"name\": \"TfIdf\", \"orientation\": \"v\", \"showlegend\": true, \"type\": \"scatter\", \"x\": [6678049], \"xaxis\": \"x\", \"y\": [0.4576269388198853], \"yaxis\": \"y\"}, {\"hovertemplate\": \"Modello=TfIdf_clean<br>Numero di Paramatri Allenabili=%{x}<br>Rmsle=%{y}<br>totparams_log2=%{marker.size}<extra></extra>\", \"legendgroup\": \"TfIdf_clean\", \"marker\": {\"color\": \"rgb(102, 197, 204)\", \"size\": [244.74215384550547], \"sizemode\": \"area\", \"sizeref\": 0.38424468403982254, \"symbol\": \"diamond\"}, \"mode\": \"markers\", \"name\": \"TfIdf_clean\", \"orientation\": \"v\", \"showlegend\": true, \"type\": \"scatter\", \"x\": [6225953], \"xaxis\": \"x\", \"y\": [0.4540041983127594], \"yaxis\": \"y\"}],                        {\"height\": 400, \"legend\": {\"itemsizing\": \"constant\", \"title\": {\"text\": \"Modello\"}, \"tracegroupgap\": 0}, \"margin\": {\"t\": 60}, \"template\": {\"data\": {\"bar\": [{\"error_x\": {\"color\": \"#2a3f5f\"}, \"error_y\": {\"color\": \"#2a3f5f\"}, \"marker\": {\"line\": {\"color\": \"#E5ECF6\", \"width\": 0.5}}, \"type\": \"bar\"}], \"barpolar\": [{\"marker\": {\"line\": {\"color\": \"#E5ECF6\", \"width\": 0.5}}, \"type\": \"barpolar\"}], \"carpet\": [{\"aaxis\": {\"endlinecolor\": \"#2a3f5f\", \"gridcolor\": \"white\", \"linecolor\": \"white\", \"minorgridcolor\": \"white\", \"startlinecolor\": \"#2a3f5f\"}, \"baxis\": {\"endlinecolor\": \"#2a3f5f\", \"gridcolor\": \"white\", \"linecolor\": \"white\", \"minorgridcolor\": \"white\", \"startlinecolor\": \"#2a3f5f\"}, \"type\": \"carpet\"}], \"choropleth\": [{\"colorbar\": {\"outlinewidth\": 0, \"ticks\": \"\"}, \"type\": \"choropleth\"}], \"contour\": [{\"colorbar\": {\"outlinewidth\": 0, \"ticks\": \"\"}, \"colorscale\": [[0.0, \"#0d0887\"], [0.1111111111111111, \"#46039f\"], [0.2222222222222222, \"#7201a8\"], [0.3333333333333333, \"#9c179e\"], [0.4444444444444444, \"#bd3786\"], [0.5555555555555556, \"#d8576b\"], [0.6666666666666666, \"#ed7953\"], [0.7777777777777778, \"#fb9f3a\"], [0.8888888888888888, \"#fdca26\"], [1.0, \"#f0f921\"]], \"type\": \"contour\"}], \"contourcarpet\": [{\"colorbar\": {\"outlinewidth\": 0, \"ticks\": \"\"}, \"type\": \"contourcarpet\"}], \"heatmap\": [{\"colorbar\": {\"outlinewidth\": 0, \"ticks\": \"\"}, \"colorscale\": [[0.0, \"#0d0887\"], [0.1111111111111111, \"#46039f\"], [0.2222222222222222, \"#7201a8\"], [0.3333333333333333, \"#9c179e\"], [0.4444444444444444, \"#bd3786\"], [0.5555555555555556, \"#d8576b\"], [0.6666666666666666, \"#ed7953\"], [0.7777777777777778, \"#fb9f3a\"], [0.8888888888888888, \"#fdca26\"], [1.0, \"#f0f921\"]], \"type\": \"heatmap\"}], \"heatmapgl\": [{\"colorbar\": {\"outlinewidth\": 0, \"ticks\": \"\"}, \"colorscale\": [[0.0, \"#0d0887\"], [0.1111111111111111, \"#46039f\"], [0.2222222222222222, \"#7201a8\"], [0.3333333333333333, \"#9c179e\"], [0.4444444444444444, \"#bd3786\"], [0.5555555555555556, \"#d8576b\"], [0.6666666666666666, \"#ed7953\"], [0.7777777777777778, \"#fb9f3a\"], [0.8888888888888888, \"#fdca26\"], [1.0, \"#f0f921\"]], \"type\": \"heatmapgl\"}], \"histogram\": [{\"marker\": {\"colorbar\": {\"outlinewidth\": 0, \"ticks\": \"\"}}, \"type\": \"histogram\"}], \"histogram2d\": [{\"colorbar\": {\"outlinewidth\": 0, \"ticks\": \"\"}, \"colorscale\": [[0.0, \"#0d0887\"], [0.1111111111111111, \"#46039f\"], [0.2222222222222222, \"#7201a8\"], [0.3333333333333333, \"#9c179e\"], [0.4444444444444444, \"#bd3786\"], [0.5555555555555556, \"#d8576b\"], [0.6666666666666666, \"#ed7953\"], [0.7777777777777778, \"#fb9f3a\"], [0.8888888888888888, \"#fdca26\"], [1.0, \"#f0f921\"]], \"type\": \"histogram2d\"}], \"histogram2dcontour\": [{\"colorbar\": {\"outlinewidth\": 0, \"ticks\": \"\"}, \"colorscale\": [[0.0, \"#0d0887\"], [0.1111111111111111, \"#46039f\"], [0.2222222222222222, \"#7201a8\"], [0.3333333333333333, \"#9c179e\"], [0.4444444444444444, \"#bd3786\"], [0.5555555555555556, \"#d8576b\"], [0.6666666666666666, \"#ed7953\"], [0.7777777777777778, \"#fb9f3a\"], [0.8888888888888888, \"#fdca26\"], [1.0, \"#f0f921\"]], \"type\": \"histogram2dcontour\"}], \"mesh3d\": [{\"colorbar\": {\"outlinewidth\": 0, \"ticks\": \"\"}, \"type\": \"mesh3d\"}], \"parcoords\": [{\"line\": {\"colorbar\": {\"outlinewidth\": 0, \"ticks\": \"\"}}, \"type\": \"parcoords\"}], \"pie\": [{\"automargin\": true, \"type\": \"pie\"}], \"scatter\": [{\"marker\": {\"colorbar\": {\"outlinewidth\": 0, \"ticks\": \"\"}}, \"type\": \"scatter\"}], \"scatter3d\": [{\"line\": {\"colorbar\": {\"outlinewidth\": 0, \"ticks\": \"\"}}, \"marker\": {\"colorbar\": {\"outlinewidth\": 0, \"ticks\": \"\"}}, \"type\": \"scatter3d\"}], \"scattercarpet\": [{\"marker\": {\"colorbar\": {\"outlinewidth\": 0, \"ticks\": \"\"}}, \"type\": \"scattercarpet\"}], \"scattergeo\": [{\"marker\": {\"colorbar\": {\"outlinewidth\": 0, \"ticks\": \"\"}}, \"type\": \"scattergeo\"}], \"scattergl\": [{\"marker\": {\"colorbar\": {\"outlinewidth\": 0, \"ticks\": \"\"}}, \"type\": \"scattergl\"}], \"scattermapbox\": [{\"marker\": {\"colorbar\": {\"outlinewidth\": 0, \"ticks\": \"\"}}, \"type\": \"scattermapbox\"}], \"scatterpolar\": [{\"marker\": {\"colorbar\": {\"outlinewidth\": 0, \"ticks\": \"\"}}, \"type\": \"scatterpolar\"}], \"scatterpolargl\": [{\"marker\": {\"colorbar\": {\"outlinewidth\": 0, \"ticks\": \"\"}}, \"type\": \"scatterpolargl\"}], \"scatterternary\": [{\"marker\": {\"colorbar\": {\"outlinewidth\": 0, \"ticks\": \"\"}}, \"type\": \"scatterternary\"}], \"surface\": [{\"colorbar\": {\"outlinewidth\": 0, \"ticks\": \"\"}, \"colorscale\": [[0.0, \"#0d0887\"], [0.1111111111111111, \"#46039f\"], [0.2222222222222222, \"#7201a8\"], [0.3333333333333333, \"#9c179e\"], [0.4444444444444444, \"#bd3786\"], [0.5555555555555556, \"#d8576b\"], [0.6666666666666666, \"#ed7953\"], [0.7777777777777778, \"#fb9f3a\"], [0.8888888888888888, \"#fdca26\"], [1.0, \"#f0f921\"]], \"type\": \"surface\"}], \"table\": [{\"cells\": {\"fill\": {\"color\": \"#EBF0F8\"}, \"line\": {\"color\": \"white\"}}, \"header\": {\"fill\": {\"color\": \"#C8D4E3\"}, \"line\": {\"color\": \"white\"}}, \"type\": \"table\"}]}, \"layout\": {\"annotationdefaults\": {\"arrowcolor\": \"#2a3f5f\", \"arrowhead\": 0, \"arrowwidth\": 1}, \"autotypenumbers\": \"strict\", \"coloraxis\": {\"colorbar\": {\"outlinewidth\": 0, \"ticks\": \"\"}}, \"colorscale\": {\"diverging\": [[0, \"#8e0152\"], [0.1, \"#c51b7d\"], [0.2, \"#de77ae\"], [0.3, \"#f1b6da\"], [0.4, \"#fde0ef\"], [0.5, \"#f7f7f7\"], [0.6, \"#e6f5d0\"], [0.7, \"#b8e186\"], [0.8, \"#7fbc41\"], [0.9, \"#4d9221\"], [1, \"#276419\"]], \"sequential\": [[0.0, \"#0d0887\"], [0.1111111111111111, \"#46039f\"], [0.2222222222222222, \"#7201a8\"], [0.3333333333333333, \"#9c179e\"], [0.4444444444444444, \"#bd3786\"], [0.5555555555555556, \"#d8576b\"], [0.6666666666666666, \"#ed7953\"], [0.7777777777777778, \"#fb9f3a\"], [0.8888888888888888, \"#fdca26\"], [1.0, \"#f0f921\"]], \"sequentialminus\": [[0.0, \"#0d0887\"], [0.1111111111111111, \"#46039f\"], [0.2222222222222222, \"#7201a8\"], [0.3333333333333333, \"#9c179e\"], [0.4444444444444444, \"#bd3786\"], [0.5555555555555556, \"#d8576b\"], [0.6666666666666666, \"#ed7953\"], [0.7777777777777778, \"#fb9f3a\"], [0.8888888888888888, \"#fdca26\"], [1.0, \"#f0f921\"]]}, \"colorway\": [\"#636efa\", \"#EF553B\", \"#00cc96\", \"#ab63fa\", \"#FFA15A\", \"#19d3f3\", \"#FF6692\", \"#B6E880\", \"#FF97FF\", \"#FECB52\"], \"font\": {\"color\": \"#2a3f5f\"}, \"geo\": {\"bgcolor\": \"white\", \"lakecolor\": \"white\", \"landcolor\": \"#E5ECF6\", \"showlakes\": true, \"showland\": true, \"subunitcolor\": \"white\"}, \"hoverlabel\": {\"align\": \"left\"}, \"hovermode\": \"closest\", \"mapbox\": {\"style\": \"light\"}, \"paper_bgcolor\": \"white\", \"plot_bgcolor\": \"#E5ECF6\", \"polar\": {\"angularaxis\": {\"gridcolor\": \"white\", \"linecolor\": \"white\", \"ticks\": \"\"}, \"bgcolor\": \"#E5ECF6\", \"radialaxis\": {\"gridcolor\": \"white\", \"linecolor\": \"white\", \"ticks\": \"\"}}, \"scene\": {\"xaxis\": {\"backgroundcolor\": \"#E5ECF6\", \"gridcolor\": \"white\", \"gridwidth\": 2, \"linecolor\": \"white\", \"showbackground\": true, \"ticks\": \"\", \"zerolinecolor\": \"white\"}, \"yaxis\": {\"backgroundcolor\": \"#E5ECF6\", \"gridcolor\": \"white\", \"gridwidth\": 2, \"linecolor\": \"white\", \"showbackground\": true, \"ticks\": \"\", \"zerolinecolor\": \"white\"}, \"zaxis\": {\"backgroundcolor\": \"#E5ECF6\", \"gridcolor\": \"white\", \"gridwidth\": 2, \"linecolor\": \"white\", \"showbackground\": true, \"ticks\": \"\", \"zerolinecolor\": \"white\"}}, \"shapedefaults\": {\"line\": {\"color\": \"#2a3f5f\"}}, \"ternary\": {\"aaxis\": {\"gridcolor\": \"white\", \"linecolor\": \"white\", \"ticks\": \"\"}, \"baxis\": {\"gridcolor\": \"white\", \"linecolor\": \"white\", \"ticks\": \"\"}, \"bgcolor\": \"#E5ECF6\", \"caxis\": {\"gridcolor\": \"white\", \"linecolor\": \"white\", \"ticks\": \"\"}}, \"title\": {\"x\": 0.05}, \"xaxis\": {\"automargin\": true, \"gridcolor\": \"white\", \"linecolor\": \"white\", \"ticks\": \"\", \"title\": {\"standoff\": 15}, \"zerolinecolor\": \"white\", \"zerolinewidth\": 2}, \"yaxis\": {\"automargin\": true, \"gridcolor\": \"white\", \"linecolor\": \"white\", \"ticks\": \"\", \"title\": {\"standoff\": 15}, \"zerolinecolor\": \"white\", \"zerolinewidth\": 2}}}, \"width\": 700, \"xaxis\": {\"anchor\": \"y\", \"domain\": [0.0, 1.0], \"title\": {\"text\": \"Numero di Paramatri Allenabili\"}, \"type\": \"log\"}, \"yaxis\": {\"anchor\": \"x\", \"domain\": [0.0, 1.0], \"title\": {\"text\": \"Rmsle\"}}},                        {\"responsive\": true}                    ).then(function(){\n",
       "                            \n",
       "var gd = document.getElementById('89c3a0c6-9a56-4bb8-b9cd-59d36098ac40');\n",
       "var x = new MutationObserver(function (mutations, observer) {{\n",
       "        var display = window.getComputedStyle(gd).display;\n",
       "        if (!display || display === 'none') {{\n",
       "            console.log([gd, 'removed!']);\n",
       "            Plotly.purge(gd);\n",
       "            observer.disconnect();\n",
       "        }}\n",
       "}});\n",
       "\n",
       "// Listen for the removal of the full notebook cells\n",
       "var notebookContainer = gd.closest('#notebook-container');\n",
       "if (notebookContainer) {{\n",
       "    x.observe(notebookContainer, {childList: true});\n",
       "}}\n",
       "\n",
       "// Listen for the clearing of the current output cell\n",
       "var outputEl = gd.closest('.output');\n",
       "if (outputEl) {{\n",
       "    x.observe(outputEl, {childList: true});\n",
       "}}\n",
       "\n",
       "                        })                };                });            </script>        </div>"
      ]
     },
     "metadata": {},
     "output_type": "display_data"
    }
   ],
   "source": [
    "### df['totparams_log2'] = df[\"totparams\"].apply(lambda x: np.log(x)**2)\n",
    "fig = px.scatter(df, x=\"trainparams\", y=\"rmsle\", size='totparams_log2',\n",
    "                 text=None, color=\"model\", width=700, height=400,\n",
    "                 log_x=True, log_y=False, size_max=30,\n",
    "                 labels={\n",
    "                     \"trainparams\": \"Numero di Paramatri Allenabili\",\n",
    "                     \"rmsle\": \"Rmsle\",\n",
    "                     \"model\": \"Modello\"\n",
    "                 },\n",
    "                 color_discrete_sequence=px.colors.qualitative.Pastel\n",
    "                 #title=\"Rmsle in funzione del Numeri di Parametri Allenabili. La dimensione corrisponde ai Parametri Totali\"\n",
    "                )\n",
    "#fig.update_layout(paper_bgcolor='rgba(0,0,0,0)',plot_bgcolor='rgba(0,0,0,0)')\n",
    "#fig.update_traces(textposition='top center')\n",
    "#fig.update_layout(showlegend=False)\n",
    "\n",
    "# errore in funzione del numero di parametri trainabili (anche dimensione)\n",
    "\n",
    "for i in fig['data']:\n",
    "    if re.match('.*_clean$', i['name']):\n",
    "        i['marker']['symbol'] = 'diamond'\n",
    "    else:\n",
    "        i['marker']['symbol'] = 'circle'\n",
    "\n",
    "fig.show()"
   ]
  },
  {
   "cell_type": "code",
   "execution_count": null,
   "metadata": {},
   "outputs": [],
   "source": [
    "fig = px.scatter(df, x=\"totparams\", y=\"rmsle\", size='trainparams_log2',\n",
    "                 text=None, color=\"model\", width=900, height=600,\n",
    "                 log_x=True, log_y=False, size_max=40,\n",
    "                 labels={\n",
    "                     \"totparams\": \"Numero Totale di Paramatri\",\n",
    "                     \"rmsle\": \"Rmsle\",\n",
    "                     \"model\": \"Modello\"\n",
    "                 },\n",
    "                 #title=\"Rmsle in funzione del Numeri Totale Parametri Allenabili. La dimensione corrisponde ai Parametri Allenabili\"\n",
    "                )\n",
    "#fig.update_layout(paper_bgcolor='rgba(0,0,0,0)',plot_bgcolor='rgba(0,0,0,0)')\n",
    "#fig.update_traces(textposition='top center')\n",
    "#fig.update_layout(showlegend=False)\n",
    "\n",
    "# errore in funzione del numero di parametri trainabili (anche dimensione)\n",
    "\n",
    "for i in fig['data']:\n",
    "    if re.match('.*_clean$', i['name']):\n",
    "        i['marker']['symbol'] = 'diamond'\n",
    "\n",
    "fig.show()"
   ]
  },
  {
   "cell_type": "code",
   "execution_count": null,
   "metadata": {
    "scrolled": false
   },
   "outputs": [],
   "source": [
    "fig = px.scatter(df, x=\"epochtime\", y=\"rmsle\", size='trainparams_log2',\n",
    "                 text=None, color=\"clean_b\", width=900, height=600,\n",
    "                 log_x=False, log_y=False, size_max=40,\n",
    "                 labels={\n",
    "                     \"epochtime\": \"Durata di una singola Epoca (s)\",\n",
    "                     \"rmsle\": \"Rmsle\",\n",
    "                     \"clean_b\": \"Pulizia del Testo\"\n",
    "                 },\n",
    "                 #title=\"Pulizia del Testo (colore). Rmsle in funzione della Durata di una singola Epoca. La dimensione corrisponde ai Parametri Allenabili\"\n",
    "                )\n",
    "#fig.update_layout(paper_bgcolor='rgba(0,0,0,0)',plot_bgcolor='rgba(0,0,0,0)')\n",
    "#fig.update_traces(textposition='top center')\n",
    "#fig.update_layout(showlegend=False)\n",
    "\n",
    "# errore in funzione del numero di parametri trainabili (anche dimensione)\n",
    "\n",
    "fig.show()"
   ]
  },
  {
   "cell_type": "code",
   "execution_count": null,
   "metadata": {},
   "outputs": [],
   "source": [
    "if re.match('^.*_clean$', 'name_clean'):\n",
    "    print('match')"
   ]
  },
  {
   "cell_type": "code",
   "execution_count": null,
   "metadata": {
    "scrolled": false
   },
   "outputs": [],
   "source": [
    "fig = px.scatter(df, x=\"epochtime\", y=\"rmsle\", size='trainparams_log2',\n",
    "                 text=None, color=\"model\", width=900, height=600,\n",
    "                 log_x=False, log_y=False, size_max=40,\n",
    "                 labels={\n",
    "                     \"epochtime\": \"Durata di una singola Epoca (s)\",\n",
    "                     \"rmsle\": \"Rmsle\",\n",
    "                     \"model\": \"Model\"\n",
    "                 },\n",
    "                 #title=\"Pulizia del Testo (colore). Rmsle in funzione della Durata di una singola Epoca. La dimensione corrisponde ai Parametri Allenabili\"\n",
    "                )\n",
    "#fig.update_layout(paper_bgcolor='rgba(0,0,0,0)',plot_bgcolor='rgba(0,0,0,0)')\n",
    "#fig.update_traces(textposition='top center')\n",
    "#fig.update_layout(showlegend=False)\n",
    "\n",
    "# errore in funzione del numero di parametri trainabili (anche dimensione)\n",
    "\n",
    "#fig['data'][0]['marker']['symbol'] = 'triangle-left'\n",
    "for i in fig['data']:\n",
    "    if re.match('.*_clean$', i['name']):\n",
    "        i['marker']['symbol'] = 'diamond'\n",
    "        \n",
    "\n",
    "fig.show()"
   ]
  },
  {
   "cell_type": "code",
   "execution_count": null,
   "metadata": {},
   "outputs": [],
   "source": [
    "# libraries\n",
    "import matplotlib.pyplot as plt\n",
    "import numpy as np\n",
    "import seaborn as sns\n",
    " \n",
    "# create data\n",
    "x = np.random.rand(15)\n",
    "y = x+np.random.rand(15)\n",
    "z = x+np.random.rand(15)\n",
    "z=z*z\n",
    " \n",
    "# Change color with c and alpha. I map the color to the X axis value.\n",
    "plt.scatter(x, y, s=z*2000, c=x, cmap=\"Blues\", alpha=1, edgecolors=\"grey\", linewidth=2)\n",
    " \n",
    "# Add titles (main and on axis)\n",
    "plt.xlabel(\"the X axis\")\n",
    "plt.ylabel(\"the Y axis\")\n",
    "plt.title(\"A colored bubble plot\")\n",
    " \n",
    "plt.show()\n"
   ]
  },
  {
   "cell_type": "code",
   "execution_count": null,
   "metadata": {},
   "outputs": [],
   "source": [
    "textmat = ((0.4485570192337036, 250, \"BoW\"),\n",
    "(0.4509544968605042, 250, \"BoW_clean\"),\n",
    "(0.4576269388198853, 35, \"TfIdf\"),\n",
    "(0.4540041983127594, 35, \"TfIdf_clean\"),\n",
    "(0.4724872410297394, 117, \"GloVe6B\"),\n",
    "(0.470249354839325, 118, \"GloVe6B_clean\"),\n",
    "(0.4607028365135193, 135, \"GloVe840B\"),\n",
    "(0.463313639163971, 121, \"GloVe840B_clean\"),\n",
    "(0.5576, 1400, \"Bert\"),\n",
    "(0.6563467383384705, 16, \"NonText\"))\n",
    "textmat"
   ]
  },
  {
   "cell_type": "code",
   "execution_count": null,
   "metadata": {},
   "outputs": [],
   "source": [
    "# Change color with c and alpha. I map the color to the X axis value.\n",
    "plt.scatter(df['epochtime'], df['rmsle'], s=df['totparams_log']*100, c=df.index, alpha=0.8,\n",
    "            edgecolors=\"black\", linewidth=1)\n",
    " \n",
    "# Add titles (main and on axis)\n",
    "plt.xlabel(\"epoch time\")\n",
    "plt.ylabel(\"rmsle\")\n",
    "plt.title(\"Result graph\")\n",
    "\n",
    "plt.yscale('log')\n",
    "plt.xscale('log')\n",
    "\n",
    "#for i in range(df.shape[1]-1):\n",
    "#    line = df.iloc[i]\n",
    "#    plt.text(line[\"epochtime\"], line[\"rmsle\"], line[\"model\"])\n",
    "for i in textmat:\n",
    "    plt.text(i[1],i[0],i[2])\n",
    "    \n",
    "plt.show()"
   ]
  },
  {
   "cell_type": "code",
   "execution_count": null,
   "metadata": {},
   "outputs": [],
   "source": [
    "for i in range(df.shape[1]-1):\n",
    "    line = df.iloc[i]\n",
    "    print(line[\"rmsle\"], line[\"epochtime\"], line[\"model\"])"
   ]
  }
 ],
 "metadata": {
  "kernelspec": {
   "display_name": "Python 3",
   "language": "python",
   "name": "python3"
  },
  "language_info": {
   "codemirror_mode": {
    "name": "ipython",
    "version": 3
   },
   "file_extension": ".py",
   "mimetype": "text/x-python",
   "name": "python",
   "nbconvert_exporter": "python",
   "pygments_lexer": "ipython3",
   "version": "3.8.5"
  }
 },
 "nbformat": 4,
 "nbformat_minor": 4
}
