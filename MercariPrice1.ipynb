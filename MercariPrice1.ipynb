{
  "nbformat": 4,
  "nbformat_minor": 0,
  "metadata": {
    "accelerator": "GPU",
    "colab": {
      "name": "MercariPrice1.ipynb",
      "provenance": [],
      "collapsed_sections": []
    },
    "kernelspec": {
      "display_name": "Python 3",
      "language": "python",
      "name": "python3"
    },
    "language_info": {
      "codemirror_mode": {
        "name": "ipython",
        "version": 3
      },
      "file_extension": ".py",
      "mimetype": "text/x-python",
      "name": "python",
      "nbconvert_exporter": "python",
      "pygments_lexer": "ipython3",
      "version": "3.7.0"
    }
  },
  "cells": [
    {
      "cell_type": "markdown",
      "metadata": {
        "id": "M_oO4ZyYU00Y"
      },
      "source": [
        "### Mercari Price \n",
        "The files consist of a list of product listings. These files are tab-delimited.\n",
        "\n",
        "Fields:\n",
        "- train_id or test_id - the id of the listing\n",
        "\n",
        "- name - the title of the listing. Note that we have cleaned the data to remove text that look like prices (e.g. $20) to avoid  leakage. These removed prices are represented as [rm]\n",
        "\n",
        "- item_condition_id - the condition of the items provided by the seller\n",
        "\n",
        "- category_name - category of the listing\n",
        "\n",
        "- brand_name\n",
        "\n",
        "- price - the price that the item was sold for. This is the target variable that you will predict. The unit is USD. This column doesn't exist in test.tsv since that is what you will predict.\n",
        "\n",
        "- shipping - 1 if shipping fee is paid by seller and 0 by buyer\n",
        "\n",
        "- item_description - the full description of the item. Note that we have cleaned the data to remove text that look like prices (e.g. $20) to avoid leakage. These removed prices are represented as [rm]"
      ]
    },
    {
      "cell_type": "code",
      "metadata": {
        "id": "XZWiRNuUU00w",
        "colab": {
          "base_uri": "https://localhost:8080/"
        },
        "outputId": "3250b47e-d485-42ab-b10b-b503ee9f68e1"
      },
      "source": [
        "import pandas as pd\n",
        "import numpy as np\n",
        "\n",
        "from nltk.tokenize import word_tokenize\n",
        "import nltk\n",
        "import tensorflow as tf\n",
        "from tensorflow import keras\n",
        "from tensorflow.keras.preprocessing.text import Tokenizer\n",
        "from tensorflow.keras.preprocessing.sequence import pad_sequences\n",
        "\n",
        "import tensorflow.keras.backend as K\n",
        "\n",
        "\n",
        "from tqdm._tqdm_notebook import tqdm_notebook\n",
        "\n",
        "import os\n",
        "import itertools\n",
        "\n",
        "import matplotlib.pyplot as plt\n",
        "import itertools\n",
        "from collections import Counter\n",
        "import seaborn as sns\n",
        "\n",
        "from sklearn.model_selection import train_test_split\n",
        "from sklearn import preprocessing\n",
        "from sklearn.preprocessing import StandardScaler\n",
        "\n",
        "from tensorflow.keras.layers import Dense, Input, Embedding, Concatenate, Flatten, Dropout, LSTM\n",
        "from tensorflow.keras.models import Model\n",
        "from tensorflow.keras.utils import plot_model "
      ],
      "execution_count": 1,
      "outputs": [
        {
          "output_type": "stream",
          "text": [
            "/usr/local/lib/python3.6/dist-packages/ipykernel_launcher.py:14: TqdmDeprecationWarning: This function will be removed in tqdm==5.0.0\n",
            "Please use `tqdm.notebook.*` instead of `tqdm._tqdm_notebook.*`\n",
            "  \n"
          ],
          "name": "stderr"
        }
      ]
    },
    {
      "cell_type": "code",
      "metadata": {
        "id": "s4RfjlP1VCjh"
      },
      "source": [
        "tqdm_notebook.pandas()"
      ],
      "execution_count": 2,
      "outputs": []
    },
    {
      "cell_type": "code",
      "metadata": {
        "colab": {
          "base_uri": "https://localhost:8080/"
        },
        "id": "sI0KxMNH4A5s",
        "outputId": "af8434e8-488c-4df2-a94f-61b907b4fbd1"
      },
      "source": [
        "#! pip install pydot graphviz"
      ],
      "execution_count": null,
      "outputs": [
        {
          "output_type": "stream",
          "text": [
            "Requirement already satisfied: pydot in /usr/local/lib/python3.6/dist-packages (1.3.0)\n",
            "Requirement already satisfied: graphviz in /usr/local/lib/python3.6/dist-packages (0.10.1)\n",
            "Requirement already satisfied: pyparsing>=2.1.4 in /usr/local/lib/python3.6/dist-packages (from pydot) (2.4.7)\n"
          ],
          "name": "stdout"
        }
      ]
    },
    {
      "cell_type": "markdown",
      "metadata": {
        "id": "5tMt4O6n3yTD"
      },
      "source": [
        "### Dataset download"
      ]
    },
    {
      "cell_type": "code",
      "metadata": {
        "colab": {
          "base_uri": "https://localhost:8080/"
        },
        "id": "oXCUW4PtU00k",
        "outputId": "3b5504dc-a5d6-4195-e4b9-76a2c9e26299"
      },
      "source": [
        "# check if in colab\n",
        "RunningInCOLAB = 'google.colab' in str(get_ipython())\n",
        "if RunningInCOLAB:\n",
        "    print(\"Running in colab\")\n",
        "    from google.colab import drive\n",
        "    drive.mount('/content/gdrive', force_remount=True)\n",
        "    colab_root = '/content/drive'\n",
        "    root_dir = \"/content/gdrive/My Drive/\"\n",
        "    base_dir = root_dir + 'project-mercari-price/'\n",
        "    if not os.path.isdir(base_dir):\n",
        "        os.mkdir(base_dir)\n",
        "else:\n",
        "    root_dir= os.getcwd()\n",
        "    base_dir = root_dir\n",
        "    \n",
        "os.chdir(base_dir)"
      ],
      "execution_count": 3,
      "outputs": [
        {
          "output_type": "stream",
          "text": [
            "Running in colab\n",
            "Mounted at /content/gdrive\n"
          ],
          "name": "stdout"
        }
      ]
    },
    {
      "cell_type": "code",
      "metadata": {
        "colab": {
          "base_uri": "https://localhost:8080/"
        },
        "id": "1JFkFCLXU00m",
        "outputId": "2ed9fc21-bbbd-425b-ae7e-74e689223495"
      },
      "source": [
        "dataset_downloaded_path = os.path.join(base_dir, \"dataset_downloaded.ignore\")\n",
        "dataset_downloaded = os.path.isfile(dataset_downloaded_path)\n",
        "dataset_downloaded"
      ],
      "execution_count": 4,
      "outputs": [
        {
          "output_type": "execute_result",
          "data": {
            "text/plain": [
              "True"
            ]
          },
          "metadata": {
            "tags": []
          },
          "execution_count": 4
        }
      ]
    },
    {
      "cell_type": "code",
      "metadata": {
        "id": "24RhWXO6U00p"
      },
      "source": [
        "if not dataset_downloaded:\n",
        "  # install kaggle to download dataset\n",
        "  ! pip install kaggle python-dotenv"
      ],
      "execution_count": 5,
      "outputs": []
    },
    {
      "cell_type": "code",
      "metadata": {
        "id": "Xw0Fy7K5U00r"
      },
      "source": [
        "# set to True if you want to save kaggle credentials into a .env file\n",
        "persist_credentials = False\n",
        "\n",
        "if not dataset_downloaded:\n",
        "  # create .env file containing KAGGLE_USER and KAGGLE_KEY\n",
        "    kaggle_env = os.path.join(base_dir, '.env')\n",
        "    if not os.path.isfile(kaggle_env):\n",
        "        with open(kaggle_env, 'w') as envfile:\n",
        "            kaggle_user = input(\"Insert kaggle username\")\n",
        "            kaggle_key = input(\"Insert kaggle key; generate one from kaggle account\")\n",
        "        if persist_credentials:\n",
        "            envfile.write(f\"\"\"\n",
        "            KAGGLE_USERNAME={kaggle_user}\n",
        "            KAGGLE_KEY={kaggle_key}\n",
        "            \"\"\")\n",
        "\n",
        "        # set env vars\n",
        "        os.environ[\"KAGGLE_USERNAME\"] = kaggle_user\n",
        "        os.environ[\"KAGGLE_KEY\"] = kaggle_key\n",
        "\n",
        "        del kaggle_user\n",
        "        del kaggle_key"
      ],
      "execution_count": null,
      "outputs": []
    },
    {
      "cell_type": "code",
      "metadata": {
        "id": "7zJ0iRN9U00u"
      },
      "source": [
        "if not dataset_downloaded:\n",
        "  # loading env vars if .env file exists\n",
        "    if os.path.isfile(kaggle_env):\n",
        "        from dotenv import load_dotenv\n",
        "        load_dotenv(dotenv_path=kaggle_env)\n",
        "    print(os.environ.get(\"KAGGLE_USERNAME\"))"
      ],
      "execution_count": null,
      "outputs": []
    },
    {
      "cell_type": "code",
      "metadata": {
        "id": "SP-mPFo-U00v"
      },
      "source": [
        "if not dataset_downloaded:\n",
        "    # download and extract dataset\n",
        "    ! kaggle competitions download -c mercari-price-suggestion-challenge\n",
        "\n",
        "    # create file so that we know we already downloaded\n",
        "    with open(dataset_downloaded_path, 'w') as dd_file:\n",
        "        dataset_downloaded = True\n",
        "        dd_file.write(\"\")\n",
        "\n",
        "    print('cwd: ', os.getcwd())\n",
        "    \n",
        "    os.listdir()"
      ],
      "execution_count": null,
      "outputs": []
    },
    {
      "cell_type": "code",
      "metadata": {
        "id": "cpAT2yysVsRm"
      },
      "source": [
        "if not dataset_downloaded:\n",
        "    ! 7z x train.tsv.7z\n",
        "    ! 7z x test.tsv.7z"
      ],
      "execution_count": null,
      "outputs": []
    },
    {
      "cell_type": "code",
      "metadata": {
        "colab": {
          "base_uri": "https://localhost:8080/"
        },
        "id": "rbwBGoI1VplX",
        "outputId": "590e632e-9734-4492-d96b-e35e63912782"
      },
      "source": [
        "os.listdir()"
      ],
      "execution_count": null,
      "outputs": [
        {
          "output_type": "execute_result",
          "data": {
            "text/plain": [
              "['train.tsv',\n",
              " 'test.tsv',\n",
              " '.env',\n",
              " 'sample_submission.csv.7z',\n",
              " 'test_stg2.tsv.zip',\n",
              " 'train.tsv.7z',\n",
              " 'test.tsv.7z',\n",
              " 'sample_submission_stg2.csv.zip',\n",
              " 'dataset_downloaded',\n",
              " '.git',\n",
              " '.gitignore',\n",
              " 'Notebook.Rmd',\n",
              " 'Readme.md',\n",
              " 'requirements.txt',\n",
              " 'Untitled.ipynb',\n",
              " 'git',\n",
              " 'dataset_downloaded.ignore',\n",
              " 'model.png']"
            ]
          },
          "metadata": {
            "tags": []
          },
          "execution_count": 12
        }
      ]
    },
    {
      "cell_type": "markdown",
      "metadata": {
        "id": "8pyEueRK3yTL"
      },
      "source": [
        "## Load dataset"
      ]
    },
    {
      "cell_type": "code",
      "metadata": {
        "colab": {
          "base_uri": "https://localhost:8080/",
          "height": 399
        },
        "id": "j5Vg17INU00x",
        "outputId": "8c8c0ce4-af92-448a-d92b-2c2802482ff7"
      },
      "source": [
        "dtypes={\n",
        "    'name': 'string',\n",
        "    'item_condition_id': 'int32',\n",
        "    'category_name': 'string',\n",
        "    'brand_name': 'string',\n",
        "    'price': 'float',\n",
        "    'shipping': 'int32',\n",
        "    'item_description': 'string'\n",
        "}\n",
        "data = pd.read_csv(\"train.tsv\", sep='\\t', dtype=dtypes)\n",
        "data = data.drop(columns=[\"train_id\"])\n",
        "data"
      ],
      "execution_count": 4,
      "outputs": [
        {
          "output_type": "execute_result",
          "data": {
            "text/html": [
              "<div>\n",
              "<style scoped>\n",
              "    .dataframe tbody tr th:only-of-type {\n",
              "        vertical-align: middle;\n",
              "    }\n",
              "\n",
              "    .dataframe tbody tr th {\n",
              "        vertical-align: top;\n",
              "    }\n",
              "\n",
              "    .dataframe thead th {\n",
              "        text-align: right;\n",
              "    }\n",
              "</style>\n",
              "<table border=\"1\" class=\"dataframe\">\n",
              "  <thead>\n",
              "    <tr style=\"text-align: right;\">\n",
              "      <th></th>\n",
              "      <th>name</th>\n",
              "      <th>item_condition_id</th>\n",
              "      <th>category_name</th>\n",
              "      <th>brand_name</th>\n",
              "      <th>price</th>\n",
              "      <th>shipping</th>\n",
              "      <th>item_description</th>\n",
              "    </tr>\n",
              "  </thead>\n",
              "  <tbody>\n",
              "    <tr>\n",
              "      <th>0</th>\n",
              "      <td>MLB Cincinnati Reds T Shirt Size XL</td>\n",
              "      <td>3</td>\n",
              "      <td>Men/Tops/T-shirts</td>\n",
              "      <td>&lt;NA&gt;</td>\n",
              "      <td>10.0</td>\n",
              "      <td>1</td>\n",
              "      <td>No description yet</td>\n",
              "    </tr>\n",
              "    <tr>\n",
              "      <th>1</th>\n",
              "      <td>Razer BlackWidow Chroma Keyboard</td>\n",
              "      <td>3</td>\n",
              "      <td>Electronics/Computers &amp; Tablets/Components &amp; P...</td>\n",
              "      <td>Razer</td>\n",
              "      <td>52.0</td>\n",
              "      <td>0</td>\n",
              "      <td>This keyboard is in great condition and works ...</td>\n",
              "    </tr>\n",
              "    <tr>\n",
              "      <th>2</th>\n",
              "      <td>AVA-VIV Blouse</td>\n",
              "      <td>1</td>\n",
              "      <td>Women/Tops &amp; Blouses/Blouse</td>\n",
              "      <td>Target</td>\n",
              "      <td>10.0</td>\n",
              "      <td>1</td>\n",
              "      <td>Adorable top with a hint of lace and a key hol...</td>\n",
              "    </tr>\n",
              "    <tr>\n",
              "      <th>3</th>\n",
              "      <td>Leather Horse Statues</td>\n",
              "      <td>1</td>\n",
              "      <td>Home/Home Décor/Home Décor Accents</td>\n",
              "      <td>&lt;NA&gt;</td>\n",
              "      <td>35.0</td>\n",
              "      <td>1</td>\n",
              "      <td>New with tags. Leather horses. Retail for [rm]...</td>\n",
              "    </tr>\n",
              "    <tr>\n",
              "      <th>4</th>\n",
              "      <td>24K GOLD plated rose</td>\n",
              "      <td>1</td>\n",
              "      <td>Women/Jewelry/Necklaces</td>\n",
              "      <td>&lt;NA&gt;</td>\n",
              "      <td>44.0</td>\n",
              "      <td>0</td>\n",
              "      <td>Complete with certificate of authenticity</td>\n",
              "    </tr>\n",
              "    <tr>\n",
              "      <th>...</th>\n",
              "      <td>...</td>\n",
              "      <td>...</td>\n",
              "      <td>...</td>\n",
              "      <td>...</td>\n",
              "      <td>...</td>\n",
              "      <td>...</td>\n",
              "      <td>...</td>\n",
              "    </tr>\n",
              "    <tr>\n",
              "      <th>1482530</th>\n",
              "      <td>Free People Inspired Dress</td>\n",
              "      <td>2</td>\n",
              "      <td>Women/Dresses/Mid-Calf</td>\n",
              "      <td>Free People</td>\n",
              "      <td>20.0</td>\n",
              "      <td>1</td>\n",
              "      <td>Lace, says size small but fits medium perfectl...</td>\n",
              "    </tr>\n",
              "    <tr>\n",
              "      <th>1482531</th>\n",
              "      <td>Little mermaid handmade dress</td>\n",
              "      <td>2</td>\n",
              "      <td>Kids/Girls 2T-5T/Dresses</td>\n",
              "      <td>Disney</td>\n",
              "      <td>14.0</td>\n",
              "      <td>0</td>\n",
              "      <td>Little mermaid handmade dress never worn size 2t</td>\n",
              "    </tr>\n",
              "    <tr>\n",
              "      <th>1482532</th>\n",
              "      <td>21 day fix containers and eating plan</td>\n",
              "      <td>2</td>\n",
              "      <td>Sports &amp; Outdoors/Exercise/Fitness accessories</td>\n",
              "      <td>&lt;NA&gt;</td>\n",
              "      <td>12.0</td>\n",
              "      <td>0</td>\n",
              "      <td>Used once or twice, still in great shape.</td>\n",
              "    </tr>\n",
              "    <tr>\n",
              "      <th>1482533</th>\n",
              "      <td>World markets lanterns</td>\n",
              "      <td>3</td>\n",
              "      <td>Home/Home Décor/Home Décor Accents</td>\n",
              "      <td>&lt;NA&gt;</td>\n",
              "      <td>45.0</td>\n",
              "      <td>1</td>\n",
              "      <td>There is 2 of each one that you see! So 2 red ...</td>\n",
              "    </tr>\n",
              "    <tr>\n",
              "      <th>1482534</th>\n",
              "      <td>Brand new lux de ville wallet</td>\n",
              "      <td>1</td>\n",
              "      <td>Women/Women's Accessories/Wallets</td>\n",
              "      <td>&lt;NA&gt;</td>\n",
              "      <td>22.0</td>\n",
              "      <td>0</td>\n",
              "      <td>New with tag, red with sparkle. Firm price, no...</td>\n",
              "    </tr>\n",
              "  </tbody>\n",
              "</table>\n",
              "<p>1482535 rows × 7 columns</p>\n",
              "</div>"
            ],
            "text/plain": [
              "                                          name  ...                                   item_description\n",
              "0          MLB Cincinnati Reds T Shirt Size XL  ...                                 No description yet\n",
              "1             Razer BlackWidow Chroma Keyboard  ...  This keyboard is in great condition and works ...\n",
              "2                               AVA-VIV Blouse  ...  Adorable top with a hint of lace and a key hol...\n",
              "3                        Leather Horse Statues  ...  New with tags. Leather horses. Retail for [rm]...\n",
              "4                         24K GOLD plated rose  ...          Complete with certificate of authenticity\n",
              "...                                        ...  ...                                                ...\n",
              "1482530             Free People Inspired Dress  ...  Lace, says size small but fits medium perfectl...\n",
              "1482531          Little mermaid handmade dress  ...   Little mermaid handmade dress never worn size 2t\n",
              "1482532  21 day fix containers and eating plan  ...          Used once or twice, still in great shape.\n",
              "1482533                 World markets lanterns  ...  There is 2 of each one that you see! So 2 red ...\n",
              "1482534          Brand new lux de ville wallet  ...  New with tag, red with sparkle. Firm price, no...\n",
              "\n",
              "[1482535 rows x 7 columns]"
            ]
          },
          "metadata": {
            "tags": []
          },
          "execution_count": 4
        }
      ]
    },
    {
      "cell_type": "code",
      "metadata": {
        "colab": {
          "base_uri": "https://localhost:8080/"
        },
        "id": "DmtH5d_GU00z",
        "outputId": "f60948db-6a4d-4028-cf90-956de77dd779"
      },
      "source": [
        "data.dtypes"
      ],
      "execution_count": 5,
      "outputs": [
        {
          "output_type": "execute_result",
          "data": {
            "text/plain": [
              "name                  string\n",
              "item_condition_id      int32\n",
              "category_name         string\n",
              "brand_name            string\n",
              "price                float64\n",
              "shipping               int32\n",
              "item_description      string\n",
              "dtype: object"
            ]
          },
          "metadata": {
            "tags": []
          },
          "execution_count": 5
        }
      ]
    },
    {
      "cell_type": "code",
      "metadata": {
        "colab": {
          "base_uri": "https://localhost:8080/"
        },
        "id": "9TY3K5euCtuA",
        "outputId": "92004d8e-bb5c-42e3-bd07-886047c114ea"
      },
      "source": [
        "data.shape"
      ],
      "execution_count": 6,
      "outputs": [
        {
          "output_type": "execute_result",
          "data": {
            "text/plain": [
              "(1482535, 7)"
            ]
          },
          "metadata": {
            "tags": []
          },
          "execution_count": 6
        }
      ]
    },
    {
      "cell_type": "code",
      "metadata": {
        "colab": {
          "base_uri": "https://localhost:8080/"
        },
        "id": "rvujMFFXCxL8",
        "outputId": "a9320e89-a5e7-45d5-e86b-bd2f2300e7dc"
      },
      "source": [
        "for column in data.columns:\n",
        "    print(\"number of null value in {} : {}\".format(column,data[column].isnull().sum()))"
      ],
      "execution_count": 7,
      "outputs": [
        {
          "output_type": "stream",
          "text": [
            "number of null value in name : 0\n",
            "number of null value in item_condition_id : 0\n",
            "number of null value in category_name : 6327\n",
            "number of null value in brand_name : 632682\n",
            "number of null value in price : 0\n",
            "number of null value in shipping : 0\n",
            "number of null value in item_description : 4\n"
          ],
          "name": "stdout"
        }
      ]
    },
    {
      "cell_type": "code",
      "metadata": {
        "colab": {
          "base_uri": "https://localhost:8080/"
        },
        "id": "XtxgmC-LHnmN",
        "outputId": "6b943575-45f4-4041-acb7-a31ac93ee71a"
      },
      "source": [
        "data[\"category_name\"].value_counts()"
      ],
      "execution_count": 8,
      "outputs": [
        {
          "output_type": "execute_result",
          "data": {
            "text/plain": [
              "Women/Athletic Apparel/Pants, Tights, Leggings    60177\n",
              "Women/Tops & Blouses/T-Shirts                     46380\n",
              "Beauty/Makeup/Face                                34335\n",
              "Beauty/Makeup/Lips                                29910\n",
              "Electronics/Video Games & Consoles/Games          26557\n",
              "                                                  ...  \n",
              "Vintage & Collectibles/Supplies/Ephemera              1\n",
              "Other/Automotive/RV Parts & Accessories               1\n",
              "Vintage & Collectibles/Furniture/Entertainment        1\n",
              "Handmade/Accessories/Mirror                           1\n",
              "Handmade/Knitting/Doll                                1\n",
              "Name: category_name, Length: 1287, dtype: Int64"
            ]
          },
          "metadata": {
            "tags": []
          },
          "execution_count": 8
        }
      ]
    },
    {
      "cell_type": "code",
      "metadata": {
        "colab": {
          "base_uri": "https://localhost:8080/"
        },
        "id": "JOYErCoVHnmO",
        "outputId": "86231050-0148-4220-851a-036bd65ed625"
      },
      "source": [
        "data[\"price\"].describe()"
      ],
      "execution_count": 9,
      "outputs": [
        {
          "output_type": "execute_result",
          "data": {
            "text/plain": [
              "count    1.482535e+06\n",
              "mean     2.673752e+01\n",
              "std      3.858607e+01\n",
              "min      0.000000e+00\n",
              "25%      1.000000e+01\n",
              "50%      1.700000e+01\n",
              "75%      2.900000e+01\n",
              "max      2.009000e+03\n",
              "Name: price, dtype: float64"
            ]
          },
          "metadata": {
            "tags": []
          },
          "execution_count": 9
        }
      ]
    },
    {
      "cell_type": "code",
      "metadata": {
        "colab": {
          "base_uri": "https://localhost:8080/"
        },
        "id": "yyUE4a4Jp4E9",
        "outputId": "6c029e16-6a34-4a93-a2d9-e8ba99149cb4"
      },
      "source": [
        "len(data[data[\"price\"]<5])"
      ],
      "execution_count": 10,
      "outputs": [
        {
          "output_type": "execute_result",
          "data": {
            "text/plain": [
              "35716"
            ]
          },
          "metadata": {
            "tags": []
          },
          "execution_count": 10
        }
      ]
    },
    {
      "cell_type": "code",
      "metadata": {
        "id": "jCbqNKgKp7f2"
      },
      "source": [
        "data=data[data[\"price\"]>=5]"
      ],
      "execution_count": 11,
      "outputs": []
    },
    {
      "cell_type": "code",
      "metadata": {
        "colab": {
          "base_uri": "https://localhost:8080/"
        },
        "id": "jUBsIEJqC0cg",
        "outputId": "c56bf520-322d-44ed-b49b-c18e897deefb"
      },
      "source": [
        "data = data[data[\"item_description\"].notna()]\n",
        "data[\"brand_name\"] = data[\"brand_name\"].fillna(value=\"NA\")\n",
        "data[\"category_name\"] = data[\"category_name\"].fillna(value=\"NA\")\n",
        "# see warnings -> inplace?\n",
        "data.shape"
      ],
      "execution_count": 12,
      "outputs": [
        {
          "output_type": "execute_result",
          "data": {
            "text/plain": [
              "(1446815, 7)"
            ]
          },
          "metadata": {
            "tags": []
          },
          "execution_count": 12
        }
      ]
    },
    {
      "cell_type": "code",
      "metadata": {
        "id": "vD-R4RTy3yTO"
      },
      "source": [
        "def flat_list(l):\n",
        "    return  [item for sublist in l for item in sublist]\n",
        "\n",
        "\n",
        "def plot_common_tokens(tokens, title, n=20):\n",
        "    sentences = (list(itertools.chain(tokens)))\n",
        "    flat_sentences = flat_list(sentences)\n",
        "    counts = Counter(flat_sentences)\n",
        "    #print(counts.most_common(30))\n",
        "    common_words = [word[0] for word in counts.most_common(n)]\n",
        "    common_counts = [word[1] for word in counts.most_common(n)]\n",
        "    fig = plt.figure(figsize=(18,6))\n",
        "    sns.barplot(x=common_words, y=common_counts)\n",
        "    plt.title(title)\n",
        "    plt.show()\n"
      ],
      "execution_count": 13,
      "outputs": []
    },
    {
      "cell_type": "code",
      "metadata": {
        "id": "qkd6dXhF3yTO"
      },
      "source": [
        "#plot_common_tokens(data[\"item_description_tokens\"], \"Most Common Tokens from Descriptions\")"
      ],
      "execution_count": null,
      "outputs": []
    },
    {
      "cell_type": "code",
      "metadata": {
        "colab": {
          "base_uri": "https://localhost:8080/",
          "height": 399
        },
        "id": "FNY29qP2HnmS",
        "outputId": "1478e1b2-b000-4faa-ffde-9f54fa207619"
      },
      "source": [
        "data"
      ],
      "execution_count": 14,
      "outputs": [
        {
          "output_type": "execute_result",
          "data": {
            "text/html": [
              "<div>\n",
              "<style scoped>\n",
              "    .dataframe tbody tr th:only-of-type {\n",
              "        vertical-align: middle;\n",
              "    }\n",
              "\n",
              "    .dataframe tbody tr th {\n",
              "        vertical-align: top;\n",
              "    }\n",
              "\n",
              "    .dataframe thead th {\n",
              "        text-align: right;\n",
              "    }\n",
              "</style>\n",
              "<table border=\"1\" class=\"dataframe\">\n",
              "  <thead>\n",
              "    <tr style=\"text-align: right;\">\n",
              "      <th></th>\n",
              "      <th>name</th>\n",
              "      <th>item_condition_id</th>\n",
              "      <th>category_name</th>\n",
              "      <th>brand_name</th>\n",
              "      <th>price</th>\n",
              "      <th>shipping</th>\n",
              "      <th>item_description</th>\n",
              "    </tr>\n",
              "  </thead>\n",
              "  <tbody>\n",
              "    <tr>\n",
              "      <th>0</th>\n",
              "      <td>MLB Cincinnati Reds T Shirt Size XL</td>\n",
              "      <td>3</td>\n",
              "      <td>Men/Tops/T-shirts</td>\n",
              "      <td>NA</td>\n",
              "      <td>10.0</td>\n",
              "      <td>1</td>\n",
              "      <td>No description yet</td>\n",
              "    </tr>\n",
              "    <tr>\n",
              "      <th>1</th>\n",
              "      <td>Razer BlackWidow Chroma Keyboard</td>\n",
              "      <td>3</td>\n",
              "      <td>Electronics/Computers &amp; Tablets/Components &amp; P...</td>\n",
              "      <td>Razer</td>\n",
              "      <td>52.0</td>\n",
              "      <td>0</td>\n",
              "      <td>This keyboard is in great condition and works ...</td>\n",
              "    </tr>\n",
              "    <tr>\n",
              "      <th>2</th>\n",
              "      <td>AVA-VIV Blouse</td>\n",
              "      <td>1</td>\n",
              "      <td>Women/Tops &amp; Blouses/Blouse</td>\n",
              "      <td>Target</td>\n",
              "      <td>10.0</td>\n",
              "      <td>1</td>\n",
              "      <td>Adorable top with a hint of lace and a key hol...</td>\n",
              "    </tr>\n",
              "    <tr>\n",
              "      <th>3</th>\n",
              "      <td>Leather Horse Statues</td>\n",
              "      <td>1</td>\n",
              "      <td>Home/Home Décor/Home Décor Accents</td>\n",
              "      <td>NA</td>\n",
              "      <td>35.0</td>\n",
              "      <td>1</td>\n",
              "      <td>New with tags. Leather horses. Retail for [rm]...</td>\n",
              "    </tr>\n",
              "    <tr>\n",
              "      <th>4</th>\n",
              "      <td>24K GOLD plated rose</td>\n",
              "      <td>1</td>\n",
              "      <td>Women/Jewelry/Necklaces</td>\n",
              "      <td>NA</td>\n",
              "      <td>44.0</td>\n",
              "      <td>0</td>\n",
              "      <td>Complete with certificate of authenticity</td>\n",
              "    </tr>\n",
              "    <tr>\n",
              "      <th>...</th>\n",
              "      <td>...</td>\n",
              "      <td>...</td>\n",
              "      <td>...</td>\n",
              "      <td>...</td>\n",
              "      <td>...</td>\n",
              "      <td>...</td>\n",
              "      <td>...</td>\n",
              "    </tr>\n",
              "    <tr>\n",
              "      <th>1482530</th>\n",
              "      <td>Free People Inspired Dress</td>\n",
              "      <td>2</td>\n",
              "      <td>Women/Dresses/Mid-Calf</td>\n",
              "      <td>Free People</td>\n",
              "      <td>20.0</td>\n",
              "      <td>1</td>\n",
              "      <td>Lace, says size small but fits medium perfectl...</td>\n",
              "    </tr>\n",
              "    <tr>\n",
              "      <th>1482531</th>\n",
              "      <td>Little mermaid handmade dress</td>\n",
              "      <td>2</td>\n",
              "      <td>Kids/Girls 2T-5T/Dresses</td>\n",
              "      <td>Disney</td>\n",
              "      <td>14.0</td>\n",
              "      <td>0</td>\n",
              "      <td>Little mermaid handmade dress never worn size 2t</td>\n",
              "    </tr>\n",
              "    <tr>\n",
              "      <th>1482532</th>\n",
              "      <td>21 day fix containers and eating plan</td>\n",
              "      <td>2</td>\n",
              "      <td>Sports &amp; Outdoors/Exercise/Fitness accessories</td>\n",
              "      <td>NA</td>\n",
              "      <td>12.0</td>\n",
              "      <td>0</td>\n",
              "      <td>Used once or twice, still in great shape.</td>\n",
              "    </tr>\n",
              "    <tr>\n",
              "      <th>1482533</th>\n",
              "      <td>World markets lanterns</td>\n",
              "      <td>3</td>\n",
              "      <td>Home/Home Décor/Home Décor Accents</td>\n",
              "      <td>NA</td>\n",
              "      <td>45.0</td>\n",
              "      <td>1</td>\n",
              "      <td>There is 2 of each one that you see! So 2 red ...</td>\n",
              "    </tr>\n",
              "    <tr>\n",
              "      <th>1482534</th>\n",
              "      <td>Brand new lux de ville wallet</td>\n",
              "      <td>1</td>\n",
              "      <td>Women/Women's Accessories/Wallets</td>\n",
              "      <td>NA</td>\n",
              "      <td>22.0</td>\n",
              "      <td>0</td>\n",
              "      <td>New with tag, red with sparkle. Firm price, no...</td>\n",
              "    </tr>\n",
              "  </tbody>\n",
              "</table>\n",
              "<p>1446815 rows × 7 columns</p>\n",
              "</div>"
            ],
            "text/plain": [
              "                                          name  ...                                   item_description\n",
              "0          MLB Cincinnati Reds T Shirt Size XL  ...                                 No description yet\n",
              "1             Razer BlackWidow Chroma Keyboard  ...  This keyboard is in great condition and works ...\n",
              "2                               AVA-VIV Blouse  ...  Adorable top with a hint of lace and a key hol...\n",
              "3                        Leather Horse Statues  ...  New with tags. Leather horses. Retail for [rm]...\n",
              "4                         24K GOLD plated rose  ...          Complete with certificate of authenticity\n",
              "...                                        ...  ...                                                ...\n",
              "1482530             Free People Inspired Dress  ...  Lace, says size small but fits medium perfectl...\n",
              "1482531          Little mermaid handmade dress  ...   Little mermaid handmade dress never worn size 2t\n",
              "1482532  21 day fix containers and eating plan  ...          Used once or twice, still in great shape.\n",
              "1482533                 World markets lanterns  ...  There is 2 of each one that you see! So 2 red ...\n",
              "1482534          Brand new lux de ville wallet  ...  New with tag, red with sparkle. Firm price, no...\n",
              "\n",
              "[1446815 rows x 7 columns]"
            ]
          },
          "metadata": {
            "tags": []
          },
          "execution_count": 14
        }
      ]
    },
    {
      "cell_type": "code",
      "metadata": {
        "id": "trBPru1qEK5b"
      },
      "source": [
        "class LabelEncoder:\n",
        "  def __init__(self, unknown = 0, invUnknown = 'unknown'):\n",
        "    self.leDict = {}\n",
        "    self.invDict = {}\n",
        "    self.unknown = unknown\n",
        "    self.invUnknown = invUnknown\n",
        "\n",
        "  def fit(self, data):\n",
        "    vci = data.value_counts().index\n",
        "    self.leDict = dict(zip(vci, range(1, len(vci))))\n",
        "    self.invDict = dict(zip(range(1, len(vci)), vci))\n",
        "\n",
        "  def transform1(self, item):\n",
        "    return self.leDict.get(item, self.unknown)\n",
        "\n",
        "  def transform(self, data):\n",
        "    return data.apply(lambda item: self.transform1(item))\n",
        "\n",
        "  def inverse_transform1(self, item):\n",
        "    return self.invDict.get(item, self.invUnknown)\n",
        "\n",
        "  def inverse_transform(self, data):\n",
        "    return data.apply(lambda item: self.inverse_transform1(item))"
      ],
      "execution_count": 15,
      "outputs": []
    },
    {
      "cell_type": "code",
      "metadata": {
        "id": "XO4EL__E3yTS"
      },
      "source": [
        "cat_le = LabelEncoder()\n",
        "cat_le.fit(data[\"category_name\"])\n",
        "\n",
        "data[\"category_name_l\"] = cat_le.transform(data[\"category_name\"])"
      ],
      "execution_count": 16,
      "outputs": []
    },
    {
      "cell_type": "code",
      "metadata": {
        "id": "gfiZte2s3yTS"
      },
      "source": [
        "brand_le = LabelEncoder()\n",
        "brand_le.fit(data[\"brand_name\"])\n",
        "\n",
        "data[\"brand_name_l\"] = brand_le.transform(data[\"brand_name\"])"
      ],
      "execution_count": 17,
      "outputs": []
    },
    {
      "cell_type": "code",
      "metadata": {
        "id": "k0nbQxek3yTQ"
      },
      "source": [
        "def getTokens(data, tokenizer=None, dataFit=None, num_words=5000):\n",
        "    if dataFit is None:\n",
        "        dataFit = data\n",
        "        \n",
        "    if tokenizer is None:\n",
        "        tokenizer = Tokenizer(num_words=num_words)\n",
        "        tokenizer.fit_on_texts(dataFit)\n",
        "    \n",
        "    tokens = tokenizer.texts_to_sequences(data)\n",
        "    return tokens, tokenizer"
      ],
      "execution_count": 18,
      "outputs": []
    },
    {
      "cell_type": "code",
      "metadata": {
        "colab": {
          "base_uri": "https://localhost:8080/",
          "height": 194
        },
        "id": "lkGhq22YJJGf",
        "outputId": "1fbd49bf-d112-4d4e-9061-cc341c783a83"
      },
      "source": [
        "data[\"item_description\"]=data[\"item_description\"].str.lower()\r\n",
        "data[\"name\"]=data[\"name\"].str.lower()\r\n",
        "data.head()"
      ],
      "execution_count": 19,
      "outputs": [
        {
          "output_type": "execute_result",
          "data": {
            "text/html": [
              "<div>\n",
              "<style scoped>\n",
              "    .dataframe tbody tr th:only-of-type {\n",
              "        vertical-align: middle;\n",
              "    }\n",
              "\n",
              "    .dataframe tbody tr th {\n",
              "        vertical-align: top;\n",
              "    }\n",
              "\n",
              "    .dataframe thead th {\n",
              "        text-align: right;\n",
              "    }\n",
              "</style>\n",
              "<table border=\"1\" class=\"dataframe\">\n",
              "  <thead>\n",
              "    <tr style=\"text-align: right;\">\n",
              "      <th></th>\n",
              "      <th>name</th>\n",
              "      <th>item_condition_id</th>\n",
              "      <th>category_name</th>\n",
              "      <th>brand_name</th>\n",
              "      <th>price</th>\n",
              "      <th>shipping</th>\n",
              "      <th>item_description</th>\n",
              "      <th>category_name_l</th>\n",
              "      <th>brand_name_l</th>\n",
              "    </tr>\n",
              "  </thead>\n",
              "  <tbody>\n",
              "    <tr>\n",
              "      <th>0</th>\n",
              "      <td>mlb cincinnati reds t shirt size xl</td>\n",
              "      <td>3</td>\n",
              "      <td>Men/Tops/T-shirts</td>\n",
              "      <td>NA</td>\n",
              "      <td>10.0</td>\n",
              "      <td>1</td>\n",
              "      <td>no description yet</td>\n",
              "      <td>19</td>\n",
              "      <td>1</td>\n",
              "    </tr>\n",
              "    <tr>\n",
              "      <th>1</th>\n",
              "      <td>razer blackwidow chroma keyboard</td>\n",
              "      <td>3</td>\n",
              "      <td>Electronics/Computers &amp; Tablets/Components &amp; P...</td>\n",
              "      <td>Razer</td>\n",
              "      <td>52.0</td>\n",
              "      <td>0</td>\n",
              "      <td>this keyboard is in great condition and works ...</td>\n",
              "      <td>242</td>\n",
              "      <td>585</td>\n",
              "    </tr>\n",
              "    <tr>\n",
              "      <th>2</th>\n",
              "      <td>ava-viv blouse</td>\n",
              "      <td>1</td>\n",
              "      <td>Women/Tops &amp; Blouses/Blouse</td>\n",
              "      <td>Target</td>\n",
              "      <td>10.0</td>\n",
              "      <td>1</td>\n",
              "      <td>adorable top with a hint of lace and a key hol...</td>\n",
              "      <td>10</td>\n",
              "      <td>85</td>\n",
              "    </tr>\n",
              "    <tr>\n",
              "      <th>3</th>\n",
              "      <td>leather horse statues</td>\n",
              "      <td>1</td>\n",
              "      <td>Home/Home Décor/Home Décor Accents</td>\n",
              "      <td>NA</td>\n",
              "      <td>35.0</td>\n",
              "      <td>1</td>\n",
              "      <td>new with tags. leather horses. retail for [rm]...</td>\n",
              "      <td>28</td>\n",
              "      <td>1</td>\n",
              "    </tr>\n",
              "    <tr>\n",
              "      <th>4</th>\n",
              "      <td>24k gold plated rose</td>\n",
              "      <td>1</td>\n",
              "      <td>Women/Jewelry/Necklaces</td>\n",
              "      <td>NA</td>\n",
              "      <td>44.0</td>\n",
              "      <td>0</td>\n",
              "      <td>complete with certificate of authenticity</td>\n",
              "      <td>16</td>\n",
              "      <td>1</td>\n",
              "    </tr>\n",
              "  </tbody>\n",
              "</table>\n",
              "</div>"
            ],
            "text/plain": [
              "                                  name  ...  brand_name_l\n",
              "0  mlb cincinnati reds t shirt size xl  ...             1\n",
              "1     razer blackwidow chroma keyboard  ...           585\n",
              "2                       ava-viv blouse  ...            85\n",
              "3                leather horse statues  ...             1\n",
              "4                 24k gold plated rose  ...             1\n",
              "\n",
              "[5 rows x 9 columns]"
            ]
          },
          "metadata": {
            "tags": []
          },
          "execution_count": 19
        }
      ]
    },
    {
      "cell_type": "code",
      "metadata": {
        "id": "GkS1a6HSHnmV"
      },
      "source": [
        "tokenizer = Tokenizer(num_words=5000)\n",
        "\n",
        "texts = np.hstack([data[\"item_description\"], data[\"name\"]])\n",
        "tokenizer.fit_on_texts(texts)\n",
        "\n",
        "data[\"item_description_t\"]=tokenizer.texts_to_sequences(data[\"item_description\"])\n",
        "data[\"name_t\"]=tokenizer.texts_to_sequences(data[\"name\"])"
      ],
      "execution_count": 20,
      "outputs": []
    },
    {
      "cell_type": "code",
      "metadata": {
        "colab": {
          "base_uri": "https://localhost:8080/",
          "height": 669
        },
        "id": "yoWprujJHnmW",
        "outputId": "1000d31d-841d-480d-b320-c4fdaa2e207f"
      },
      "source": [
        "data"
      ],
      "execution_count": 21,
      "outputs": [
        {
          "output_type": "execute_result",
          "data": {
            "text/html": [
              "<div>\n",
              "<style scoped>\n",
              "    .dataframe tbody tr th:only-of-type {\n",
              "        vertical-align: middle;\n",
              "    }\n",
              "\n",
              "    .dataframe tbody tr th {\n",
              "        vertical-align: top;\n",
              "    }\n",
              "\n",
              "    .dataframe thead th {\n",
              "        text-align: right;\n",
              "    }\n",
              "</style>\n",
              "<table border=\"1\" class=\"dataframe\">\n",
              "  <thead>\n",
              "    <tr style=\"text-align: right;\">\n",
              "      <th></th>\n",
              "      <th>name</th>\n",
              "      <th>item_condition_id</th>\n",
              "      <th>category_name</th>\n",
              "      <th>brand_name</th>\n",
              "      <th>price</th>\n",
              "      <th>shipping</th>\n",
              "      <th>item_description</th>\n",
              "      <th>category_name_l</th>\n",
              "      <th>brand_name_l</th>\n",
              "      <th>item_description_t</th>\n",
              "      <th>name_t</th>\n",
              "    </tr>\n",
              "  </thead>\n",
              "  <tbody>\n",
              "    <tr>\n",
              "      <th>0</th>\n",
              "      <td>mlb cincinnati reds t shirt size xl</td>\n",
              "      <td>3</td>\n",
              "      <td>Men/Tops/T-shirts</td>\n",
              "      <td>NA</td>\n",
              "      <td>10.0</td>\n",
              "      <td>1</td>\n",
              "      <td>no description yet</td>\n",
              "      <td>19</td>\n",
              "      <td>1</td>\n",
              "      <td>[12, 71, 82]</td>\n",
              "      <td>[3843, 206, 83, 6, 154]</td>\n",
              "    </tr>\n",
              "    <tr>\n",
              "      <th>1</th>\n",
              "      <td>razer blackwidow chroma keyboard</td>\n",
              "      <td>3</td>\n",
              "      <td>Electronics/Computers &amp; Tablets/Components &amp; P...</td>\n",
              "      <td>Razer</td>\n",
              "      <td>52.0</td>\n",
              "      <td>0</td>\n",
              "      <td>this keyboard is in great condition and works ...</td>\n",
              "      <td>242</td>\n",
              "      <td>585</td>\n",
              "      <td>[29, 2593, 10, 7, 39, 17, 1, 205, 51, 19, 1115...</td>\n",
              "      <td>[2593]</td>\n",
              "    </tr>\n",
              "    <tr>\n",
              "      <th>2</th>\n",
              "      <td>ava-viv blouse</td>\n",
              "      <td>1</td>\n",
              "      <td>Women/Tops &amp; Blouses/Blouse</td>\n",
              "      <td>Target</td>\n",
              "      <td>10.0</td>\n",
              "      <td>1</td>\n",
              "      <td>adorable top with a hint of lace and a key hol...</td>\n",
              "      <td>10</td>\n",
              "      <td>85</td>\n",
              "      <td>[597, 60, 8, 5, 11, 193, 1, 5, 893, 1304, 7, 2...</td>\n",
              "      <td>[663]</td>\n",
              "    </tr>\n",
              "    <tr>\n",
              "      <th>3</th>\n",
              "      <td>leather horse statues</td>\n",
              "      <td>1</td>\n",
              "      <td>Home/Home Décor/Home Décor Accents</td>\n",
              "      <td>NA</td>\n",
              "      <td>35.0</td>\n",
              "      <td>1</td>\n",
              "      <td>new with tags. leather horses. retail for [rm]...</td>\n",
              "      <td>28</td>\n",
              "      <td>1</td>\n",
              "      <td>[4, 8, 61, 176, 227, 3, 22, 171, 1064, 226, 5,...</td>\n",
              "      <td>[176, 2603]</td>\n",
              "    </tr>\n",
              "    <tr>\n",
              "      <th>4</th>\n",
              "      <td>24k gold plated rose</td>\n",
              "      <td>1</td>\n",
              "      <td>Women/Jewelry/Necklaces</td>\n",
              "      <td>NA</td>\n",
              "      <td>44.0</td>\n",
              "      <td>0</td>\n",
              "      <td>complete with certificate of authenticity</td>\n",
              "      <td>16</td>\n",
              "      <td>1</td>\n",
              "      <td>[809, 8, 11, 1953]</td>\n",
              "      <td>[4845, 106, 1083, 284]</td>\n",
              "    </tr>\n",
              "    <tr>\n",
              "      <th>...</th>\n",
              "      <td>...</td>\n",
              "      <td>...</td>\n",
              "      <td>...</td>\n",
              "      <td>...</td>\n",
              "      <td>...</td>\n",
              "      <td>...</td>\n",
              "      <td>...</td>\n",
              "      <td>...</td>\n",
              "      <td>...</td>\n",
              "      <td>...</td>\n",
              "      <td>...</td>\n",
              "    </tr>\n",
              "    <tr>\n",
              "      <th>1482530</th>\n",
              "      <td>free people inspired dress</td>\n",
              "      <td>2</td>\n",
              "      <td>Women/Dresses/Mid-Calf</td>\n",
              "      <td>Free People</td>\n",
              "      <td>20.0</td>\n",
              "      <td>1</td>\n",
              "      <td>lace, says size small but fits medium perfectl...</td>\n",
              "      <td>243</td>\n",
              "      <td>46</td>\n",
              "      <td>[193, 684, 6, 44, 38, 160, 66, 703, 164, 36, 3...</td>\n",
              "      <td>[13, 570, 1683, 80]</td>\n",
              "    </tr>\n",
              "    <tr>\n",
              "      <th>1482531</th>\n",
              "      <td>little mermaid handmade dress</td>\n",
              "      <td>2</td>\n",
              "      <td>Kids/Girls 2T-5T/Dresses</td>\n",
              "      <td>Disney</td>\n",
              "      <td>14.0</td>\n",
              "      <td>0</td>\n",
              "      <td>little mermaid handmade dress never worn size 2t</td>\n",
              "      <td>122</td>\n",
              "      <td>16</td>\n",
              "      <td>[156, 1327, 754, 80, 36, 30, 6, 990]</td>\n",
              "      <td>[156, 1327, 754, 80]</td>\n",
              "    </tr>\n",
              "    <tr>\n",
              "      <th>1482532</th>\n",
              "      <td>21 day fix containers and eating plan</td>\n",
              "      <td>2</td>\n",
              "      <td>Sports &amp; Outdoors/Exercise/Fitness accessories</td>\n",
              "      <td>NA</td>\n",
              "      <td>12.0</td>\n",
              "      <td>0</td>\n",
              "      <td>used once or twice, still in great shape.</td>\n",
              "      <td>86</td>\n",
              "      <td>1</td>\n",
              "      <td>[31, 97, 23, 350, 122, 7, 39, 382]</td>\n",
              "      <td>[291, 117, 1517, 2498, 1, 3665]</td>\n",
              "    </tr>\n",
              "    <tr>\n",
              "      <th>1482533</th>\n",
              "      <td>world markets lanterns</td>\n",
              "      <td>3</td>\n",
              "      <td>Home/Home Décor/Home Décor Accents</td>\n",
              "      <td>NA</td>\n",
              "      <td>45.0</td>\n",
              "      <td>1</td>\n",
              "      <td>there is 2 of each one that you see! so 2 red ...</td>\n",
              "      <td>28</td>\n",
              "      <td>1</td>\n",
              "      <td>[239, 10, 21, 11, 171, 46, 76, 18, 137, 78, 21...</td>\n",
              "      <td>[1354]</td>\n",
              "    </tr>\n",
              "    <tr>\n",
              "      <th>1482534</th>\n",
              "      <td>brand new lux de ville wallet</td>\n",
              "      <td>1</td>\n",
              "      <td>Women/Women's Accessories/Wallets</td>\n",
              "      <td>NA</td>\n",
              "      <td>22.0</td>\n",
              "      <td>0</td>\n",
              "      <td>new with tag, red with sparkle. firm price, no...</td>\n",
              "      <td>26</td>\n",
              "      <td>1</td>\n",
              "      <td>[4, 8, 186, 118, 8, 1627, 74, 40, 12, 13, 20]</td>\n",
              "      <td>[16, 4, 1176, 293]</td>\n",
              "    </tr>\n",
              "  </tbody>\n",
              "</table>\n",
              "<p>1446815 rows × 11 columns</p>\n",
              "</div>"
            ],
            "text/plain": [
              "                                          name  ...                           name_t\n",
              "0          mlb cincinnati reds t shirt size xl  ...          [3843, 206, 83, 6, 154]\n",
              "1             razer blackwidow chroma keyboard  ...                           [2593]\n",
              "2                               ava-viv blouse  ...                            [663]\n",
              "3                        leather horse statues  ...                      [176, 2603]\n",
              "4                         24k gold plated rose  ...           [4845, 106, 1083, 284]\n",
              "...                                        ...  ...                              ...\n",
              "1482530             free people inspired dress  ...              [13, 570, 1683, 80]\n",
              "1482531          little mermaid handmade dress  ...             [156, 1327, 754, 80]\n",
              "1482532  21 day fix containers and eating plan  ...  [291, 117, 1517, 2498, 1, 3665]\n",
              "1482533                 world markets lanterns  ...                           [1354]\n",
              "1482534          brand new lux de ville wallet  ...               [16, 4, 1176, 293]\n",
              "\n",
              "[1446815 rows x 11 columns]"
            ]
          },
          "metadata": {
            "tags": []
          },
          "execution_count": 21
        }
      ]
    },
    {
      "cell_type": "code",
      "metadata": {
        "colab": {
          "base_uri": "https://localhost:8080/",
          "height": 399
        },
        "id": "UPSDnO6uHnmX",
        "outputId": "8055acc9-6e13-4232-adbf-e0481ac81c7e"
      },
      "source": [
        "final_data=data[[\"item_condition_id\",\"shipping\",\"category_name_l\",\"brand_name_l\", \"item_description_t\", \"name_t\", \"price\"]]\n",
        "final_data"
      ],
      "execution_count": 22,
      "outputs": [
        {
          "output_type": "execute_result",
          "data": {
            "text/html": [
              "<div>\n",
              "<style scoped>\n",
              "    .dataframe tbody tr th:only-of-type {\n",
              "        vertical-align: middle;\n",
              "    }\n",
              "\n",
              "    .dataframe tbody tr th {\n",
              "        vertical-align: top;\n",
              "    }\n",
              "\n",
              "    .dataframe thead th {\n",
              "        text-align: right;\n",
              "    }\n",
              "</style>\n",
              "<table border=\"1\" class=\"dataframe\">\n",
              "  <thead>\n",
              "    <tr style=\"text-align: right;\">\n",
              "      <th></th>\n",
              "      <th>item_condition_id</th>\n",
              "      <th>shipping</th>\n",
              "      <th>category_name_l</th>\n",
              "      <th>brand_name_l</th>\n",
              "      <th>item_description_t</th>\n",
              "      <th>name_t</th>\n",
              "      <th>price</th>\n",
              "    </tr>\n",
              "  </thead>\n",
              "  <tbody>\n",
              "    <tr>\n",
              "      <th>0</th>\n",
              "      <td>3</td>\n",
              "      <td>1</td>\n",
              "      <td>19</td>\n",
              "      <td>1</td>\n",
              "      <td>[12, 71, 82]</td>\n",
              "      <td>[3843, 206, 83, 6, 154]</td>\n",
              "      <td>10.0</td>\n",
              "    </tr>\n",
              "    <tr>\n",
              "      <th>1</th>\n",
              "      <td>3</td>\n",
              "      <td>0</td>\n",
              "      <td>242</td>\n",
              "      <td>585</td>\n",
              "      <td>[29, 2593, 10, 7, 39, 17, 1, 205, 51, 19, 1115...</td>\n",
              "      <td>[2593]</td>\n",
              "      <td>52.0</td>\n",
              "    </tr>\n",
              "    <tr>\n",
              "      <th>2</th>\n",
              "      <td>1</td>\n",
              "      <td>1</td>\n",
              "      <td>10</td>\n",
              "      <td>85</td>\n",
              "      <td>[597, 60, 8, 5, 11, 193, 1, 5, 893, 1304, 7, 2...</td>\n",
              "      <td>[663]</td>\n",
              "      <td>10.0</td>\n",
              "    </tr>\n",
              "    <tr>\n",
              "      <th>3</th>\n",
              "      <td>1</td>\n",
              "      <td>1</td>\n",
              "      <td>28</td>\n",
              "      <td>1</td>\n",
              "      <td>[4, 8, 61, 176, 227, 3, 22, 171, 1064, 226, 5,...</td>\n",
              "      <td>[176, 2603]</td>\n",
              "      <td>35.0</td>\n",
              "    </tr>\n",
              "    <tr>\n",
              "      <th>4</th>\n",
              "      <td>1</td>\n",
              "      <td>0</td>\n",
              "      <td>16</td>\n",
              "      <td>1</td>\n",
              "      <td>[809, 8, 11, 1953]</td>\n",
              "      <td>[4845, 106, 1083, 284]</td>\n",
              "      <td>44.0</td>\n",
              "    </tr>\n",
              "    <tr>\n",
              "      <th>...</th>\n",
              "      <td>...</td>\n",
              "      <td>...</td>\n",
              "      <td>...</td>\n",
              "      <td>...</td>\n",
              "      <td>...</td>\n",
              "      <td>...</td>\n",
              "      <td>...</td>\n",
              "    </tr>\n",
              "    <tr>\n",
              "      <th>1482530</th>\n",
              "      <td>2</td>\n",
              "      <td>1</td>\n",
              "      <td>243</td>\n",
              "      <td>46</td>\n",
              "      <td>[193, 684, 6, 44, 38, 160, 66, 703, 164, 36, 3...</td>\n",
              "      <td>[13, 570, 1683, 80]</td>\n",
              "      <td>20.0</td>\n",
              "    </tr>\n",
              "    <tr>\n",
              "      <th>1482531</th>\n",
              "      <td>2</td>\n",
              "      <td>0</td>\n",
              "      <td>122</td>\n",
              "      <td>16</td>\n",
              "      <td>[156, 1327, 754, 80, 36, 30, 6, 990]</td>\n",
              "      <td>[156, 1327, 754, 80]</td>\n",
              "      <td>14.0</td>\n",
              "    </tr>\n",
              "    <tr>\n",
              "      <th>1482532</th>\n",
              "      <td>2</td>\n",
              "      <td>0</td>\n",
              "      <td>86</td>\n",
              "      <td>1</td>\n",
              "      <td>[31, 97, 23, 350, 122, 7, 39, 382]</td>\n",
              "      <td>[291, 117, 1517, 2498, 1, 3665]</td>\n",
              "      <td>12.0</td>\n",
              "    </tr>\n",
              "    <tr>\n",
              "      <th>1482533</th>\n",
              "      <td>3</td>\n",
              "      <td>1</td>\n",
              "      <td>28</td>\n",
              "      <td>1</td>\n",
              "      <td>[239, 10, 21, 11, 171, 46, 76, 18, 137, 78, 21...</td>\n",
              "      <td>[1354]</td>\n",
              "      <td>45.0</td>\n",
              "    </tr>\n",
              "    <tr>\n",
              "      <th>1482534</th>\n",
              "      <td>1</td>\n",
              "      <td>0</td>\n",
              "      <td>26</td>\n",
              "      <td>1</td>\n",
              "      <td>[4, 8, 186, 118, 8, 1627, 74, 40, 12, 13, 20]</td>\n",
              "      <td>[16, 4, 1176, 293]</td>\n",
              "      <td>22.0</td>\n",
              "    </tr>\n",
              "  </tbody>\n",
              "</table>\n",
              "<p>1446815 rows × 7 columns</p>\n",
              "</div>"
            ],
            "text/plain": [
              "         item_condition_id  shipping  ...                           name_t  price\n",
              "0                        3         1  ...          [3843, 206, 83, 6, 154]   10.0\n",
              "1                        3         0  ...                           [2593]   52.0\n",
              "2                        1         1  ...                            [663]   10.0\n",
              "3                        1         1  ...                      [176, 2603]   35.0\n",
              "4                        1         0  ...           [4845, 106, 1083, 284]   44.0\n",
              "...                    ...       ...  ...                              ...    ...\n",
              "1482530                  2         1  ...              [13, 570, 1683, 80]   20.0\n",
              "1482531                  2         0  ...             [156, 1327, 754, 80]   14.0\n",
              "1482532                  2         0  ...  [291, 117, 1517, 2498, 1, 3665]   12.0\n",
              "1482533                  3         1  ...                           [1354]   45.0\n",
              "1482534                  1         0  ...               [16, 4, 1176, 293]   22.0\n",
              "\n",
              "[1446815 rows x 7 columns]"
            ]
          },
          "metadata": {
            "tags": []
          },
          "execution_count": 22
        }
      ]
    },
    {
      "cell_type": "code",
      "metadata": {
        "id": "siBwn0ntHnmY"
      },
      "source": [
        "train, validation = train_test_split(final_data, test_size=0.2, random_state=1000)"
      ],
      "execution_count": 23,
      "outputs": []
    },
    {
      "cell_type": "code",
      "metadata": {
        "id": "BZkjRq5d3yTP"
      },
      "source": [
        "'''X = data[['name', 'item_condition_id', 'category_name', 'brand_name',\n",
        "       'shipping','item_description']]\n",
        "y = data['price']'''"
      ],
      "execution_count": null,
      "outputs": []
    },
    {
      "cell_type": "code",
      "metadata": {
        "id": "_CJ0g0Ou3yTP"
      },
      "source": [
        "'''X_train, X_test, y_train, y_test = train_test_split(X, y, test_size=0.25, random_state=1000)\n",
        "X_train, X_validation, y_train, y_validation = train_test_split(X_train, y_train, test_size=0.2, random_state=1000)'''"
      ],
      "execution_count": null,
      "outputs": []
    },
    {
      "cell_type": "code",
      "metadata": {
        "id": "GBwuL7ah3yTQ"
      },
      "source": [
        "#tokenizers = {}"
      ],
      "execution_count": null,
      "outputs": []
    },
    {
      "cell_type": "code",
      "metadata": {
        "id": "lg4CyT1Z3yTQ"
      },
      "source": [
        "#X_train[\"item_description_t\"], tokenizers[\"item_description\"] = getTokens(X_train[\"item_description\"])\n",
        "#X_train[\"name_t\"], tokenizers[\"name\"] = getTokens(X_train[\"name\"])"
      ],
      "execution_count": null,
      "outputs": []
    },
    {
      "cell_type": "code",
      "metadata": {
        "id": "gHbIyMAi8_Wl"
      },
      "source": [
        "#X_validation[\"item_description_t\"], _ = getTokens(X_validation[\"item_description\"], tokenizer=tokenizers[\"item_description\"])\n",
        "#X_validation[\"name_t\"], _ = getTokens(X_validation[\"name\"], tokenizer=tokenizers[\"name\"])"
      ],
      "execution_count": null,
      "outputs": []
    },
    {
      "cell_type": "code",
      "metadata": {
        "colab": {
          "base_uri": "https://localhost:8080/"
        },
        "id": "0Lc7bahI3yTQ",
        "outputId": "fb395885-d2f8-4056-86b0-465b50cc7451"
      },
      "source": [
        "#tokenizers"
      ],
      "execution_count": null,
      "outputs": [
        {
          "output_type": "execute_result",
          "data": {
            "text/plain": [
              "{'item_description': <keras_preprocessing.text.Tokenizer at 0x7f2734683828>,\n",
              " 'name': <keras_preprocessing.text.Tokenizer at 0x7f27358e7128>}"
            ]
          },
          "metadata": {
            "tags": []
          },
          "execution_count": 26
        }
      ]
    },
    {
      "cell_type": "code",
      "metadata": {
        "colab": {
          "base_uri": "https://localhost:8080/"
        },
        "id": "-4IHUS1O3yTR",
        "outputId": "4d6fbcae-819f-4175-ea69-d6a95798feb3"
      },
      "source": [
        "#X_train[\"item_description_t\"]"
      ],
      "execution_count": null,
      "outputs": [
        {
          "output_type": "execute_result",
          "data": {
            "text/plain": [
              "995196     [6, 5, 144, 279, 173, 979, 84, 135, 173, 657, ...\n",
              "28823      [685, 1020, 340, 78, 306, 50, 6, 281, 90, 2526...\n",
              "661855     [27, 17, 136, 170, 194, 1102, 613, 188, 759, 6...\n",
              "733730     [5, 444, 1202, 99, 16, 86, 177, 16, 12, 165, 1...\n",
              "807837     [27, 106, 497, 11, 435, 117, 235, 4571, 682, 2...\n",
              "                                 ...                        \n",
              "371719                              [9, 83, 232, 35, 32, 26]\n",
              "1311257    [3867, 3867, 2095, 23, 3, 146, 3928, 2, 1827, ...\n",
              "404942                     [6, 49, 540, 167, 41, 1340, 1878]\n",
              "242521     [200, 128, 69, 2977, 124, 234, 362, 96, 133, 9...\n",
              "371320     [2, 1450, 761, 2116, 5, 10, 3, 153, 494, 494, ...\n",
              "Name: item_description_t, Length: 889518, dtype: object"
            ]
          },
          "metadata": {
            "tags": []
          },
          "execution_count": 27
        }
      ]
    },
    {
      "cell_type": "code",
      "metadata": {
        "id": "b81R6-EsKsmF"
      },
      "source": [
        "#X_validation[\"category_name_l\"] = cat_le.transform(X_validation[\"category_name\"])"
      ],
      "execution_count": null,
      "outputs": []
    },
    {
      "cell_type": "code",
      "metadata": {
        "id": "H-zi4cpSK1kA"
      },
      "source": [
        "#X_validation[\"brand_name_l\"] = brand_le.transform(X_validation[\"brand_name\"])"
      ],
      "execution_count": null,
      "outputs": []
    },
    {
      "cell_type": "code",
      "metadata": {
        "id": "I8J8tdJ33yTS"
      },
      "source": [
        "#len(tokenizers[\"item_description\"].word_index)"
      ],
      "execution_count": null,
      "outputs": []
    },
    {
      "cell_type": "code",
      "metadata": {
        "id": "AUGQ6wIZ3yTS"
      },
      "source": [
        "# unknown values !!! now -> crash"
      ],
      "execution_count": null,
      "outputs": []
    },
    {
      "cell_type": "code",
      "metadata": {
        "colab": {
          "base_uri": "https://localhost:8080/"
        },
        "id": "WdMZOVTh3yTT",
        "outputId": "37d7d7e7-bb07-4626-ad1e-5c6b4c015594"
      },
      "source": [
        "#X_train.loc[995196, [\"name\", \"name_t\"]]"
      ],
      "execution_count": null,
      "outputs": [
        {
          "output_type": "execute_result",
          "data": {
            "text/plain": [
              "name      PINK❤️warm and cozy mist/lotion set\n",
              "name_t                [9, 1995, 431, 288, 17]\n",
              "Name: 995196, dtype: object"
            ]
          },
          "metadata": {
            "tags": []
          },
          "execution_count": 76
        }
      ]
    },
    {
      "cell_type": "code",
      "metadata": {
        "colab": {
          "base_uri": "https://localhost:8080/",
          "height": 289
        },
        "id": "SG-oJkvN3yTU",
        "outputId": "22848494-22d8-41bf-cfb9-b62c2e487b3b"
      },
      "source": [
        "#X_train.head()"
      ],
      "execution_count": null,
      "outputs": [
        {
          "output_type": "execute_result",
          "data": {
            "text/html": [
              "<div>\n",
              "<style scoped>\n",
              "    .dataframe tbody tr th:only-of-type {\n",
              "        vertical-align: middle;\n",
              "    }\n",
              "\n",
              "    .dataframe tbody tr th {\n",
              "        vertical-align: top;\n",
              "    }\n",
              "\n",
              "    .dataframe thead th {\n",
              "        text-align: right;\n",
              "    }\n",
              "</style>\n",
              "<table border=\"1\" class=\"dataframe\">\n",
              "  <thead>\n",
              "    <tr style=\"text-align: right;\">\n",
              "      <th></th>\n",
              "      <th>name</th>\n",
              "      <th>item_condition_id</th>\n",
              "      <th>category_name</th>\n",
              "      <th>brand_name</th>\n",
              "      <th>shipping</th>\n",
              "      <th>item_description</th>\n",
              "      <th>item_description_t</th>\n",
              "      <th>name_t</th>\n",
              "      <th>category_name_l</th>\n",
              "      <th>brand_name_l</th>\n",
              "    </tr>\n",
              "  </thead>\n",
              "  <tbody>\n",
              "    <tr>\n",
              "      <th>995196</th>\n",
              "      <td>PINK❤️warm and cozy mist/lotion set</td>\n",
              "      <td>1</td>\n",
              "      <td>Beauty/Fragrance/Women</td>\n",
              "      <td>Victoria's Secret</td>\n",
              "      <td>0</td>\n",
              "      <td>New in original packaging -Body mist 250ml/8.4...</td>\n",
              "      <td>[6, 5, 144, 279, 173, 979, 84, 135, 173, 657, ...</td>\n",
              "      <td>[9, 1995, 431, 288, 17]</td>\n",
              "      <td>16</td>\n",
              "      <td>4</td>\n",
              "    </tr>\n",
              "    <tr>\n",
              "      <th>28823</th>\n",
              "      <td>18 min vest</td>\n",
              "      <td>3</td>\n",
              "      <td>Kids/Girls 0-24 Mos/One-Pieces</td>\n",
              "      <td>NA</td>\n",
              "      <td>1</td>\n",
              "      <td>Faux fur zipper up best like new Purchased at ...</td>\n",
              "      <td>[685, 1020, 340, 78, 306, 50, 6, 281, 90, 2526...</td>\n",
              "      <td>[234, 276]</td>\n",
              "      <td>68</td>\n",
              "      <td>1</td>\n",
              "    </tr>\n",
              "    <tr>\n",
              "      <th>661855</th>\n",
              "      <td>Artsy stylish leather purse &amp; pouch</td>\n",
              "      <td>3</td>\n",
              "      <td>Handmade/Bags and Purses/Purse</td>\n",
              "      <td>NA</td>\n",
              "      <td>0</td>\n",
              "      <td>Used condition cowhide high quality leather!! ...</td>\n",
              "      <td>[27, 17, 136, 170, 194, 1102, 613, 188, 759, 6...</td>\n",
              "      <td>[3172, 118, 83, 922]</td>\n",
              "      <td>189</td>\n",
              "      <td>1</td>\n",
              "    </tr>\n",
              "    <tr>\n",
              "      <th>733730</th>\n",
              "      <td>Decor pillows</td>\n",
              "      <td>2</td>\n",
              "      <td>Home/Home Décor/Decorative Pillows</td>\n",
              "      <td>NA</td>\n",
              "      <td>0</td>\n",
              "      <td>In mint conditions Smoke free home Pet free No...</td>\n",
              "      <td>[5, 444, 1202, 99, 16, 86, 177, 16, 12, 165, 1...</td>\n",
              "      <td>[599, 2390]</td>\n",
              "      <td>261</td>\n",
              "      <td>1</td>\n",
              "    </tr>\n",
              "    <tr>\n",
              "      <th>807837</th>\n",
              "      <td>IF NOT SOLD DONATING 2/6</td>\n",
              "      <td>4</td>\n",
              "      <td>Men/Shoes/Outdoor</td>\n",
              "      <td>Oakley</td>\n",
              "      <td>0</td>\n",
              "      <td>Used still lots of life...see pictures...Oakle...</td>\n",
              "      <td>[27, 106, 497, 11, 435, 117, 235, 4571, 682, 2...</td>\n",
              "      <td>[4155, 630, 1029, 11, 20]</td>\n",
              "      <td>732</td>\n",
              "      <td>172</td>\n",
              "    </tr>\n",
              "  </tbody>\n",
              "</table>\n",
              "</div>"
            ],
            "text/plain": [
              "                                       name  ...  brand_name_l\n",
              "995196  PINK❤️warm and cozy mist/lotion set  ...             4\n",
              "28823                           18 min vest  ...             1\n",
              "661855  Artsy stylish leather purse & pouch  ...             1\n",
              "733730                        Decor pillows  ...             1\n",
              "807837             IF NOT SOLD DONATING 2/6  ...           172\n",
              "\n",
              "[5 rows x 10 columns]"
            ]
          },
          "metadata": {
            "tags": []
          },
          "execution_count": 77
        }
      ]
    },
    {
      "cell_type": "code",
      "metadata": {
        "colab": {
          "base_uri": "https://localhost:8080/"
        },
        "id": "5W0A95PQEDb_",
        "outputId": "72032d9c-fa73-49a0-cd60-81bc6aa677a9"
      },
      "source": [
        "'''desc_vocab_size = len(t['item_description'].word_index) + 1\n",
        "print(desc_vocab_size)\n",
        "\n",
        "name_vocab_size = len(t['name'].word_index) + 1\n",
        "print(name_vocab_size)'''\n",
        "vocab_size= len(tokenizer.word_index)+1\n",
        "print(vocab_size)"
      ],
      "execution_count": 24,
      "outputs": [
        {
          "output_type": "stream",
          "text": [
            "255431\n"
          ],
          "name": "stdout"
        }
      ]
    },
    {
      "cell_type": "code",
      "metadata": {
        "colab": {
          "base_uri": "https://localhost:8080/"
        },
        "id": "fTMf850Y3yTU",
        "outputId": "1154e6d9-1914-4edd-959c-e83519d5771d"
      },
      "source": [
        "#X_train[\"item_description_t\"]"
      ],
      "execution_count": null,
      "outputs": [
        {
          "output_type": "execute_result",
          "data": {
            "text/plain": [
              "995196     [6, 5, 144, 279, 173, 979, 84, 135, 173, 657, ...\n",
              "28823      [685, 1020, 340, 78, 306, 50, 6, 281, 90, 2526...\n",
              "661855     [27, 17, 136, 170, 194, 1102, 613, 188, 759, 6...\n",
              "733730     [5, 444, 1202, 99, 16, 86, 177, 16, 12, 165, 1...\n",
              "807837     [27, 106, 497, 11, 435, 117, 235, 4571, 682, 2...\n",
              "                                 ...                        \n",
              "371719                              [9, 83, 232, 35, 32, 26]\n",
              "1311257    [3867, 3867, 2095, 23, 3, 146, 3928, 2, 1827, ...\n",
              "404942                     [6, 49, 540, 167, 41, 1340, 1878]\n",
              "242521     [200, 128, 69, 2977, 124, 234, 362, 96, 133, 9...\n",
              "371320     [2, 1450, 761, 2116, 5, 10, 3, 153, 494, 494, ...\n",
              "Name: item_description_t, Length: 889518, dtype: object"
            ]
          },
          "metadata": {
            "tags": []
          },
          "execution_count": 79
        }
      ]
    },
    {
      "cell_type": "code",
      "metadata": {
        "id": "wGmnn5zJq3uK"
      },
      "source": [
        "def lengthCumDistribution(data, threshold=0.8):\n",
        "  lengths = data.apply(lambda x: len(x))\n",
        "  lengthsHist = lengths.hist\n",
        "  lengthsFreq = lengths.value_counts().sort_index()\n",
        "  lengthsFreqNormalized = lengthsFreq / sum(lengthsFreq)\n",
        "  lengthsCumFreq = lengthsFreqNormalized.cumsum()\n",
        "\n",
        "  index = lengthsCumFreq.where(lengthsCumFreq >= threshold).first_valid_index()\n",
        "\n",
        "  cumPlot = lengthsCumFreq.plot\n",
        "\n",
        "  return index, lengthsCumFreq, cumPlot, lengthsHist"
      ],
      "execution_count": null,
      "outputs": []
    },
    {
      "cell_type": "code",
      "metadata": {
        "colab": {
          "base_uri": "https://localhost:8080/",
          "height": 299
        },
        "id": "ffJDQoivrt4s",
        "outputId": "42688ad9-892f-49d3-f69c-8ff00f9e51d6"
      },
      "source": [
        "name_length_max, name_length_distr, name_length_dplot, name_length_hist = lengthCumDistribution(X_train[\"name_t\"])\n",
        "print('name length max', name_length_max)\n",
        "name_length_dplot()"
      ],
      "execution_count": null,
      "outputs": [
        {
          "output_type": "stream",
          "text": [
            "name length max 6\n"
          ],
          "name": "stdout"
        },
        {
          "output_type": "execute_result",
          "data": {
            "text/plain": [
              "<matplotlib.axes._subplots.AxesSubplot at 0x7f27108727b8>"
            ]
          },
          "metadata": {
            "tags": []
          },
          "execution_count": 81
        },
        {
          "output_type": "display_data",
          "data": {
            "image/png": "[encoded data removed]",
            "text/plain": [
              "<Figure size 432x288 with 1 Axes>"
            ]
          },
          "metadata": {
            "tags": []
          }
        }
      ]
    },
    {
      "cell_type": "code",
      "metadata": {
        "colab": {
          "base_uri": "https://localhost:8080/",
          "height": 282
        },
        "id": "BRSiAJ7uuP58",
        "outputId": "398e52dc-b161-4eaa-e7ba-fffad0d67115"
      },
      "source": [
        "name_length_hist()"
      ],
      "execution_count": null,
      "outputs": [
        {
          "output_type": "execute_result",
          "data": {
            "text/plain": [
              "<matplotlib.axes._subplots.AxesSubplot at 0x7f27109011d0>"
            ]
          },
          "metadata": {
            "tags": []
          },
          "execution_count": 82
        },
        {
          "output_type": "display_data",
          "data": {
            "image/png": "[encoded data removed]",
            "text/plain": [
              "<Figure size 432x288 with 1 Axes>"
            ]
          },
          "metadata": {
            "tags": []
          }
        }
      ]
    },
    {
      "cell_type": "code",
      "metadata": {
        "colab": {
          "base_uri": "https://localhost:8080/",
          "height": 299
        },
        "id": "l_mrckzhuEBK",
        "outputId": "162d8a8a-2fda-4308-d7a4-d8dfbbf087bf"
      },
      "source": [
        "desc_length_max, desc_length_distr, desc_length_dplot, desc_length_hist = lengthCumDistribution(X_train[\"item_description_t\"])\n",
        "print('name length max', desc_length_max)\n",
        "desc_length_dplot()"
      ],
      "execution_count": null,
      "outputs": [
        {
          "output_type": "stream",
          "text": [
            "name length max 35\n"
          ],
          "name": "stdout"
        },
        {
          "output_type": "execute_result",
          "data": {
            "text/plain": [
              "<matplotlib.axes._subplots.AxesSubplot at 0x7f270f0096a0>"
            ]
          },
          "metadata": {
            "tags": []
          },
          "execution_count": 83
        },
        {
          "output_type": "display_data",
          "data": {
            "image/png": "[encoded data removed]",
            "text/plain": [
              "<Figure size 432x288 with 1 Axes>"
            ]
          },
          "metadata": {
            "tags": []
          }
        }
      ]
    },
    {
      "cell_type": "code",
      "metadata": {
        "colab": {
          "base_uri": "https://localhost:8080/",
          "height": 282
        },
        "id": "V7hbua5bsM9C",
        "outputId": "de23ad2c-173b-4436-9244-17b7fbc8f838"
      },
      "source": [
        "desc_length_hist()"
      ],
      "execution_count": null,
      "outputs": [
        {
          "output_type": "execute_result",
          "data": {
            "text/plain": [
              "<matplotlib.axes._subplots.AxesSubplot at 0x7f27107babe0>"
            ]
          },
          "metadata": {
            "tags": []
          },
          "execution_count": 84
        },
        {
          "output_type": "display_data",
          "data": {
            "image/png": "[encoded data removed]",
            "text/plain": [
              "<Figure size 432x288 with 1 Axes>"
            ]
          },
          "metadata": {
            "tags": []
          }
        }
      ]
    },
    {
      "cell_type": "code",
      "metadata": {
        "colab": {
          "base_uri": "https://localhost:8080/",
          "height": 399
        },
        "id": "cVKaHBR0QPgs",
        "outputId": "50099141-2b3b-4045-90b7-f03db7d20e6c"
      },
      "source": [
        "train[[\"item_description_t\",\"name_t\"]]"
      ],
      "execution_count": null,
      "outputs": [
        {
          "output_type": "execute_result",
          "data": {
            "text/html": [
              "<div>\n",
              "<style scoped>\n",
              "    .dataframe tbody tr th:only-of-type {\n",
              "        vertical-align: middle;\n",
              "    }\n",
              "\n",
              "    .dataframe tbody tr th {\n",
              "        vertical-align: top;\n",
              "    }\n",
              "\n",
              "    .dataframe thead th {\n",
              "        text-align: right;\n",
              "    }\n",
              "</style>\n",
              "<table border=\"1\" class=\"dataframe\">\n",
              "  <thead>\n",
              "    <tr style=\"text-align: right;\">\n",
              "      <th></th>\n",
              "      <th>item_description_t</th>\n",
              "      <th>name_t</th>\n",
              "    </tr>\n",
              "  </thead>\n",
              "  <tbody>\n",
              "    <tr>\n",
              "      <th>1095625</th>\n",
              "      <td>315</td>\n",
              "      <td>[553, 569, 791, 101]</td>\n",
              "    </tr>\n",
              "    <tr>\n",
              "      <th>633753</th>\n",
              "      <td>36</td>\n",
              "      <td>[105, 1653]</td>\n",
              "    </tr>\n",
              "    <tr>\n",
              "      <th>1397300</th>\n",
              "      <td>200</td>\n",
              "      <td>[480, 512]</td>\n",
              "    </tr>\n",
              "    <tr>\n",
              "      <th>417395</th>\n",
              "      <td>875</td>\n",
              "      <td>[875, 823, 2222]</td>\n",
              "    </tr>\n",
              "    <tr>\n",
              "      <th>34778</th>\n",
              "      <td>12</td>\n",
              "      <td>[1175, 1611, 259, 303, 256]</td>\n",
              "    </tr>\n",
              "    <tr>\n",
              "      <th>...</th>\n",
              "      <td>...</td>\n",
              "      <td>...</td>\n",
              "    </tr>\n",
              "    <tr>\n",
              "      <th>18782</th>\n",
              "      <td>24</td>\n",
              "      <td>[283, 2226]</td>\n",
              "    </tr>\n",
              "    <tr>\n",
              "      <th>376059</th>\n",
              "      <td>56</td>\n",
              "      <td>[3786, 2040, 1022]</td>\n",
              "    </tr>\n",
              "    <tr>\n",
              "      <th>134848</th>\n",
              "      <td>235</td>\n",
              "      <td>[134, 2956, 174, 24, 2350, 244, 1264]</td>\n",
              "    </tr>\n",
              "    <tr>\n",
              "      <th>1120329</th>\n",
              "      <td>230</td>\n",
              "      <td>[230, 21, 1392]</td>\n",
              "    </tr>\n",
              "    <tr>\n",
              "      <th>1156533</th>\n",
              "      <td>13</td>\n",
              "      <td>[13, 20, 16, 5, 2566, 2445]</td>\n",
              "    </tr>\n",
              "  </tbody>\n",
              "</table>\n",
              "<p>1186024 rows × 2 columns</p>\n",
              "</div>"
            ],
            "text/plain": [
              "         item_description_t                                 name_t\n",
              "1095625                 315                   [553, 569, 791, 101]\n",
              "633753                   36                            [105, 1653]\n",
              "1397300                 200                             [480, 512]\n",
              "417395                  875                       [875, 823, 2222]\n",
              "34778                    12            [1175, 1611, 259, 303, 256]\n",
              "...                     ...                                    ...\n",
              "18782                    24                            [283, 2226]\n",
              "376059                   56                     [3786, 2040, 1022]\n",
              "134848                  235  [134, 2956, 174, 24, 2350, 244, 1264]\n",
              "1120329                 230                        [230, 21, 1392]\n",
              "1156533                  13            [13, 20, 16, 5, 2566, 2445]\n",
              "\n",
              "[1186024 rows x 2 columns]"
            ]
          },
          "metadata": {
            "tags": []
          },
          "execution_count": 38
        }
      ]
    },
    {
      "cell_type": "code",
      "metadata": {
        "id": "Y40ov-ULHtla"
      },
      "source": [
        "desc_length_max=75\n",
        "inputDesc_train = pad_sequences(train[\"item_description_t\"],\n",
        "                                                  padding='post', maxlen=desc_length_max)"
      ],
      "execution_count": 25,
      "outputs": []
    },
    {
      "cell_type": "code",
      "metadata": {
        "id": "tky1YzlkB8U5"
      },
      "source": [
        "inputDesc_validation = pad_sequences(validation[\"item_description_t\"],\n",
        "                                                  padding='post', maxlen=desc_length_max)"
      ],
      "execution_count": 26,
      "outputs": []
    },
    {
      "cell_type": "code",
      "metadata": {
        "id": "XBZIAP9n3yTU"
      },
      "source": [
        "name_length_max=10\r\n",
        "inputName_train = pad_sequences(train[\"name_t\"], padding='post', maxlen=name_length_max)"
      ],
      "execution_count": 27,
      "outputs": []
    },
    {
      "cell_type": "code",
      "metadata": {
        "id": "1uhYXRYQCCHb"
      },
      "source": [
        "inputName_validation = pad_sequences(validation[\"name_t\"], padding='post', maxlen=name_length_max)"
      ],
      "execution_count": 28,
      "outputs": []
    },
    {
      "cell_type": "code",
      "metadata": {
        "colab": {
          "base_uri": "https://localhost:8080/"
        },
        "id": "nFlm8Qqx-Qab",
        "outputId": "4b0fc686-5d75-4e2c-a4be-c74edd87763c"
      },
      "source": [
        "y_train = train[\"price\"]\r\n",
        "y_train"
      ],
      "execution_count": 29,
      "outputs": [
        {
          "output_type": "execute_result",
          "data": {
            "text/plain": [
              "233645     105.0\n",
              "1419447     16.0\n",
              "935662      26.0\n",
              "1147679     14.0\n",
              "766955       8.0\n",
              "           ...  \n",
              "19252       18.0\n",
              "385322      54.0\n",
              "138223      23.0\n",
              "1148150     14.0\n",
              "1185228     18.0\n",
              "Name: price, Length: 1157452, dtype: float64"
            ]
          },
          "metadata": {
            "tags": []
          },
          "execution_count": 29
        }
      ]
    },
    {
      "cell_type": "code",
      "metadata": {
        "colab": {
          "base_uri": "https://localhost:8080/"
        },
        "id": "IkHBOiRXggJw",
        "outputId": "7a23da9b-8e1e-4146-fe1c-e7812cd84c8f"
      },
      "source": [
        "y_validation = validation[\"price\"]\r\n",
        "y_validation"
      ],
      "execution_count": 30,
      "outputs": [
        {
          "output_type": "execute_result",
          "data": {
            "text/plain": [
              "1378349     39.0\n",
              "1186437     14.0\n",
              "1356070    559.0\n",
              "981120      54.0\n",
              "1017699     25.0\n",
              "           ...  \n",
              "933953      10.0\n",
              "1246650     30.0\n",
              "1415233     10.0\n",
              "376025      28.0\n",
              "511335      19.0\n",
              "Name: price, Length: 289363, dtype: float64"
            ]
          },
          "metadata": {
            "tags": []
          },
          "execution_count": 30
        }
      ]
    },
    {
      "cell_type": "code",
      "metadata": {
        "id": "Y9tcLzah_V6w"
      },
      "source": [
        "class MeanStdScaler:\n",
        "  def __init__(self):\n",
        "    self.mean = 0\n",
        "    self.std = 1\n",
        "\n",
        "  def fit(self, data):\n",
        "    self.mean = np.mean(data)\n",
        "    self.std = np.std(data)\n",
        "\n",
        "  def transform(self, data):\n",
        "    return (data - self.mean) / self.std\n",
        "\n",
        "  def inverse_transform(self, data):\n",
        "    return (data * self.std) + self.mean"
      ],
      "execution_count": 31,
      "outputs": []
    },
    {
      "cell_type": "code",
      "metadata": {
        "id": "BeZ-eTtF_qbU"
      },
      "source": [
        "'''y_scaler = MeanStdScaler()\n",
        "y_scaler.fit(y_train)'''"
      ],
      "execution_count": 30,
      "outputs": []
    },
    {
      "cell_type": "code",
      "metadata": {
        "id": "U_lQI71yAXd0"
      },
      "source": [
        "'''y_train = y_scaler.transform(y_train)\n",
        "y_validation = y_scaler.transform(y_validation)'''"
      ],
      "execution_count": 31,
      "outputs": []
    },
    {
      "cell_type": "code",
      "metadata": {
        "id": "fIGydn223yTW"
      },
      "source": [
        "#X_train[[\"item_condition_id\", \"category_name_l\", \"brand_name_l\", \"shipping\"]]"
      ],
      "execution_count": 32,
      "outputs": []
    },
    {
      "cell_type": "code",
      "metadata": {
        "colab": {
          "base_uri": "https://localhost:8080/",
          "height": 194
        },
        "id": "HR5og0VNTg-Y",
        "outputId": "6f6150e6-ffd2-48a0-dd69-abaed55fcde4"
      },
      "source": [
        "train.head()"
      ],
      "execution_count": 33,
      "outputs": [
        {
          "output_type": "execute_result",
          "data": {
            "text/html": [
              "<div>\n",
              "<style scoped>\n",
              "    .dataframe tbody tr th:only-of-type {\n",
              "        vertical-align: middle;\n",
              "    }\n",
              "\n",
              "    .dataframe tbody tr th {\n",
              "        vertical-align: top;\n",
              "    }\n",
              "\n",
              "    .dataframe thead th {\n",
              "        text-align: right;\n",
              "    }\n",
              "</style>\n",
              "<table border=\"1\" class=\"dataframe\">\n",
              "  <thead>\n",
              "    <tr style=\"text-align: right;\">\n",
              "      <th></th>\n",
              "      <th>item_condition_id</th>\n",
              "      <th>shipping</th>\n",
              "      <th>category_name_l</th>\n",
              "      <th>brand_name_l</th>\n",
              "      <th>item_description_t</th>\n",
              "      <th>name_t</th>\n",
              "      <th>price</th>\n",
              "    </tr>\n",
              "  </thead>\n",
              "  <tbody>\n",
              "    <tr>\n",
              "      <th>233645</th>\n",
              "      <td>4</td>\n",
              "      <td>1</td>\n",
              "      <td>42</td>\n",
              "      <td>6</td>\n",
              "      <td>[31, 77, 617, 400, 10, 2522, 784, 5, 400, 1839...</td>\n",
              "      <td>[77, 617]</td>\n",
              "      <td>105.0</td>\n",
              "    </tr>\n",
              "    <tr>\n",
              "      <th>1419447</th>\n",
              "      <td>1</td>\n",
              "      <td>0</td>\n",
              "      <td>6</td>\n",
              "      <td>1</td>\n",
              "      <td>[16, 4, 100, 48, 134, 207]</td>\n",
              "      <td>[230, 1968, 3491, 2821, 100]</td>\n",
              "      <td>16.0</td>\n",
              "    </tr>\n",
              "    <tr>\n",
              "      <th>935662</th>\n",
              "      <td>3</td>\n",
              "      <td>1</td>\n",
              "      <td>29</td>\n",
              "      <td>625</td>\n",
              "      <td>[138, 31, 17, 1387, 462, 60, 6, 66, 841, 44, 4...</td>\n",
              "      <td>[462, 60, 66]</td>\n",
              "      <td>26.0</td>\n",
              "    </tr>\n",
              "    <tr>\n",
              "      <th>1147679</th>\n",
              "      <td>2</td>\n",
              "      <td>0</td>\n",
              "      <td>78</td>\n",
              "      <td>1</td>\n",
              "      <td>[36, 31]</td>\n",
              "      <td>[]</td>\n",
              "      <td>14.0</td>\n",
              "    </tr>\n",
              "    <tr>\n",
              "      <th>766955</th>\n",
              "      <td>1</td>\n",
              "      <td>1</td>\n",
              "      <td>4</td>\n",
              "      <td>13</td>\n",
              "      <td>[415, 2, 71, 14, 2, 216, 16, 4, 36, 31]</td>\n",
              "      <td>[212, 1407]</td>\n",
              "      <td>8.0</td>\n",
              "    </tr>\n",
              "  </tbody>\n",
              "</table>\n",
              "</div>"
            ],
            "text/plain": [
              "         item_condition_id  shipping  ...                        name_t  price\n",
              "233645                   4         1  ...                     [77, 617]  105.0\n",
              "1419447                  1         0  ...  [230, 1968, 3491, 2821, 100]   16.0\n",
              "935662                   3         1  ...                 [462, 60, 66]   26.0\n",
              "1147679                  2         0  ...                            []   14.0\n",
              "766955                   1         1  ...                   [212, 1407]    8.0\n",
              "\n",
              "[5 rows x 7 columns]"
            ]
          },
          "metadata": {
            "tags": []
          },
          "execution_count": 33
        }
      ]
    },
    {
      "cell_type": "code",
      "metadata": {
        "id": "CZh4kWw73yTY"
      },
      "source": [
        "inputA_train = train[[\"item_condition_id\", \"category_name_l\", \"brand_name_l\", \"shipping\"]].values.astype('int32')"
      ],
      "execution_count": 34,
      "outputs": []
    },
    {
      "cell_type": "code",
      "metadata": {
        "id": "-oTri-SwCHqe"
      },
      "source": [
        "inputA_validation = validation[[\"item_condition_id\", \"category_name_l\", \"brand_name_l\", \"shipping\"]].values.astype('int32')"
      ],
      "execution_count": 35,
      "outputs": []
    },
    {
      "cell_type": "code",
      "metadata": {
        "id": "SLcxUX3ESGDo"
      },
      "source": [
        "msle = tf.keras.losses.MeanSquaredLogarithmicError()\n",
        "mae = tf.keras.losses.MeanAbsoluteError()\n",
        "\n",
        "# sclb stands for scaled back\n",
        "\n",
        "def root_mean_squared_logarithmic_error_sclb(y_true, y_pred):\n",
        "  y_true = y_scaler.inverse_transform(y_true)\n",
        "  y_pred = y_scaler.inverse_transform(y_pred)\n",
        "  return K.sqrt(msle(y_true, y_pred))\n",
        "\n",
        "def mae_sclb(y_true, y_pred):\n",
        "  y_true = y_scaler.inverse_transform(y_true)\n",
        "  y_pred = y_scaler.inverse_transform(y_pred)\n",
        "\n",
        "  return mae(y_true, y_pred)\n"
      ],
      "execution_count": 36,
      "outputs": []
    },
    {
      "cell_type": "code",
      "metadata": {
        "id": "7ZmQxJaT3yTX"
      },
      "source": [
        "name_vocab_size=vocab_size\n",
        "desc_vocab_size=vocab_size\n",
        "def getModel():\n",
        "    inputA = Input(shape=(4,))\n",
        "    #Ad = Dense(4, activation='relu')(inputA)\n",
        "    Ad = inputA\n",
        "    \n",
        "    inputName = Input(shape=(name_length_max,))\n",
        "    Ne = Embedding(input_dim=name_vocab_size, output_dim=8, input_length=name_length_max)(inputName)\n",
        "    Nd = LSTM(8,return_sequences=True)(Ne)\n",
        "    Nd = Flatten()(Nd)\n",
        "\n",
        "    #Nd = Nf\n",
        "    \n",
        "    inputDesc = Input(shape=(desc_length_max,))\n",
        "    De = Embedding(input_dim=desc_vocab_size, output_dim=16, input_length=desc_length_max)(inputDesc)\n",
        "    Dd = LSTM(16,return_sequences=True)(De)\n",
        "    Dd = LSTM(8,return_sequences=True)(Dd)\n",
        "    Dd = Flatten()(Dd)\n",
        "    #Dd = Df\n",
        "    \n",
        "    concat = Concatenate()([Ad, Nd, Dd])\n",
        "\n",
        "    x = Dropout(0.1)(concat)    \n",
        "    x = Dense(32, activation='relu')(x)\n",
        "    x = Dropout(0.1)(x)\n",
        "    x = Dense(16, activation='relu')(x)\n",
        "    \n",
        "    x = Dense(1, activation='linear')(x)\n",
        "    \n",
        "    model = Model(inputs=[inputA, inputName, inputDesc], outputs=x)\n",
        "    \n",
        "    return model\n",
        "    "
      ],
      "execution_count": 51,
      "outputs": []
    },
    {
      "cell_type": "code",
      "metadata": {
        "colab": {
          "base_uri": "https://localhost:8080/"
        },
        "id": "SWfolHUC3yTX",
        "outputId": "49914d13-c57a-468a-baf9-633b05e54423"
      },
      "source": [
        "model = getModel()\n",
        "model.summary()"
      ],
      "execution_count": 52,
      "outputs": [
        {
          "output_type": "stream",
          "text": [
            "Model: \"model_2\"\n",
            "__________________________________________________________________________________________________\n",
            "Layer (type)                    Output Shape         Param #     Connected to                     \n",
            "==================================================================================================\n",
            "input_9 (InputLayer)            [(None, 75)]         0                                            \n",
            "__________________________________________________________________________________________________\n",
            "input_8 (InputLayer)            [(None, 10)]         0                                            \n",
            "__________________________________________________________________________________________________\n",
            "embedding_5 (Embedding)         (None, 75, 16)       4086896     input_9[0][0]                    \n",
            "__________________________________________________________________________________________________\n",
            "embedding_4 (Embedding)         (None, 10, 8)        2043448     input_8[0][0]                    \n",
            "__________________________________________________________________________________________________\n",
            "lstm_7 (LSTM)                   (None, 75, 16)       2112        embedding_5[0][0]                \n",
            "__________________________________________________________________________________________________\n",
            "lstm_6 (LSTM)                   (None, 10, 8)        544         embedding_4[0][0]                \n",
            "__________________________________________________________________________________________________\n",
            "lstm_8 (LSTM)                   (None, 75, 8)        800         lstm_7[0][0]                     \n",
            "__________________________________________________________________________________________________\n",
            "input_7 (InputLayer)            [(None, 4)]          0                                            \n",
            "__________________________________________________________________________________________________\n",
            "flatten_4 (Flatten)             (None, 80)           0           lstm_6[0][0]                     \n",
            "__________________________________________________________________________________________________\n",
            "flatten_5 (Flatten)             (None, 600)          0           lstm_8[0][0]                     \n",
            "__________________________________________________________________________________________________\n",
            "concatenate_2 (Concatenate)     (None, 684)          0           input_7[0][0]                    \n",
            "                                                                 flatten_4[0][0]                  \n",
            "                                                                 flatten_5[0][0]                  \n",
            "__________________________________________________________________________________________________\n",
            "dropout_6 (Dropout)             (None, 684)          0           concatenate_2[0][0]              \n",
            "__________________________________________________________________________________________________\n",
            "dense_8 (Dense)                 (None, 32)           21920       dropout_6[0][0]                  \n",
            "__________________________________________________________________________________________________\n",
            "dropout_7 (Dropout)             (None, 32)           0           dense_8[0][0]                    \n",
            "__________________________________________________________________________________________________\n",
            "dense_9 (Dense)                 (None, 16)           528         dropout_7[0][0]                  \n",
            "__________________________________________________________________________________________________\n",
            "dense_10 (Dense)                (None, 1)            17          dense_9[0][0]                    \n",
            "==================================================================================================\n",
            "Total params: 6,156,265\n",
            "Trainable params: 6,156,265\n",
            "Non-trainable params: 0\n",
            "__________________________________________________________________________________________________\n"
          ],
          "name": "stdout"
        }
      ]
    },
    {
      "cell_type": "code",
      "metadata": {
        "colab": {
          "base_uri": "https://localhost:8080/",
          "height": 1000
        },
        "id": "aNoRvN6T3yTX",
        "outputId": "2d5d7f30-7f76-45d7-a7e5-2d2db22c4ebd"
      },
      "source": [
        "plot_model(model)"
      ],
      "execution_count": 53,
      "outputs": [
        {
          "output_type": "execute_result",
          "data": {
            "image/png": "[encoded data removed]",
            "text/plain": [
              "<IPython.core.display.Image object>"
            ]
          },
          "metadata": {
            "tags": []
          },
          "execution_count": 53
        }
      ]
    },
    {
      "cell_type": "code",
      "metadata": {
        "id": "K0ETrpfjg_ha"
      },
      "source": [
        "import keras.backend as K\r\n",
        "msle = tf.keras.losses.MeanSquaredLogarithmicError()\r\n",
        "\r\n",
        "def root_mean_squared_logarithmic_error(y_true, y_pred):\r\n",
        "    return K.sqrt(msle(y_true, y_pred))"
      ],
      "execution_count": 54,
      "outputs": []
    },
    {
      "cell_type": "code",
      "metadata": {
        "id": "1-rcb1aLIHPX"
      },
      "source": [
        "model.compile(loss = 'mse', optimizer='adam', metrics=['mse', 'mae', tf.keras.metrics.RootMeanSquaredError(), 'mean_squared_logarithmic_error', root_mean_squared_logarithmic_error])"
      ],
      "execution_count": 55,
      "outputs": []
    },
    {
      "cell_type": "code",
      "metadata": {
        "colab": {
          "base_uri": "https://localhost:8080/"
        },
        "id": "Y2m3WcI-JWcP",
        "outputId": "4d17f0f0-847d-4000-c121-afb0571e2d68"
      },
      "source": [
        "history = model.fit(x=[inputA_train, inputName_train, inputDesc_train], y=y_train,\n",
        "                    epochs=10,\n",
        "                    verbose=True,\n",
        "                    validation_data=([inputA_validation, inputName_validation, inputDesc_validation], y_validation),\n",
        "                    batch_size=512)"
      ],
      "execution_count": 56,
      "outputs": [
        {
          "output_type": "stream",
          "text": [
            "Epoch 1/10\n",
            "2261/2261 [==============================] - 162s 70ms/step - loss: 1215.9229 - mse: 1215.9229 - mae: 15.6361 - root_mean_squared_error: 34.7109 - mean_squared_logarithmic_error: 0.6299 - root_mean_squared_logarithmic_error: 0.7276 - val_loss: 841.6656 - val_mse: 841.6656 - val_mae: 13.4121 - val_root_mean_squared_error: 29.0115 - val_mean_squared_logarithmic_error: 0.3367 - val_root_mean_squared_logarithmic_error: 0.5799\n",
            "Epoch 2/10\n",
            "2261/2261 [==============================] - 155s 69ms/step - loss: 892.4043 - mse: 892.4043 - mae: 13.4808 - root_mean_squared_error: 29.8641 - mean_squared_logarithmic_error: 0.3430 - root_mean_squared_logarithmic_error: 0.5851 - val_loss: 806.9968 - val_mse: 806.9968 - val_mae: 13.2394 - val_root_mean_squared_error: 28.4077 - val_mean_squared_logarithmic_error: 0.3245 - val_root_mean_squared_logarithmic_error: 0.5692\n",
            "Epoch 3/10\n",
            "2261/2261 [==============================] - 156s 69ms/step - loss: 809.1561 - mse: 809.1561 - mae: 13.0728 - root_mean_squared_error: 28.4405 - mean_squared_logarithmic_error: 0.3262 - root_mean_squared_logarithmic_error: 0.5706 - val_loss: 818.0825 - val_mse: 818.0825 - val_mae: 12.5816 - val_root_mean_squared_error: 28.6021 - val_mean_squared_logarithmic_error: 0.3015 - val_root_mean_squared_logarithmic_error: 0.5487\n",
            "Epoch 4/10\n",
            "2261/2261 [==============================] - 156s 69ms/step - loss: 776.2012 - mse: 776.2012 - mae: 12.9387 - root_mean_squared_error: 27.8562 - mean_squared_logarithmic_error: 0.3216 - root_mean_squared_logarithmic_error: 0.5665 - val_loss: 822.0777 - val_mse: 822.0777 - val_mae: 12.8165 - val_root_mean_squared_error: 28.6719 - val_mean_squared_logarithmic_error: 0.3142 - val_root_mean_squared_logarithmic_error: 0.5602\n",
            "Epoch 5/10\n",
            "2261/2261 [==============================] - 158s 70ms/step - loss: 750.4619 - mse: 750.4619 - mae: 12.7197 - root_mean_squared_error: 27.3759 - mean_squared_logarithmic_error: 0.3126 - root_mean_squared_logarithmic_error: 0.5586 - val_loss: 800.1920 - val_mse: 800.1920 - val_mae: 12.1881 - val_root_mean_squared_error: 28.2877 - val_mean_squared_logarithmic_error: 0.2883 - val_root_mean_squared_logarithmic_error: 0.5365\n",
            "Epoch 6/10\n",
            "2261/2261 [==============================] - 159s 70ms/step - loss: 716.2683 - mse: 716.2683 - mae: 12.4898 - root_mean_squared_error: 26.7570 - mean_squared_logarithmic_error: 0.3036 - root_mean_squared_logarithmic_error: 0.5506 - val_loss: 784.3699 - val_mse: 784.3699 - val_mae: 12.2541 - val_root_mean_squared_error: 28.0066 - val_mean_squared_logarithmic_error: 0.2837 - val_root_mean_squared_logarithmic_error: 0.5322\n",
            "Epoch 7/10\n",
            "2261/2261 [==============================] - 158s 70ms/step - loss: 686.1986 - mse: 686.1986 - mae: 12.3395 - root_mean_squared_error: 26.1917 - mean_squared_logarithmic_error: 0.2972 - root_mean_squared_logarithmic_error: 0.5447 - val_loss: 822.3075 - val_mse: 822.3075 - val_mae: 12.5260 - val_root_mean_squared_error: 28.6759 - val_mean_squared_logarithmic_error: 0.2890 - val_root_mean_squared_logarithmic_error: 0.5372\n",
            "Epoch 8/10\n",
            "2261/2261 [==============================] - 160s 71ms/step - loss: 657.0243 - mse: 657.0243 - mae: 12.1507 - root_mean_squared_error: 25.6290 - mean_squared_logarithmic_error: 0.2909 - root_mean_squared_logarithmic_error: 0.5389 - val_loss: 797.0004 - val_mse: 797.0004 - val_mae: 12.6968 - val_root_mean_squared_error: 28.2312 - val_mean_squared_logarithmic_error: 0.3089 - val_root_mean_squared_logarithmic_error: 0.5554\n",
            "Epoch 9/10\n",
            "2261/2261 [==============================] - 160s 71ms/step - loss: 664.7598 - mse: 664.7598 - mae: 12.0801 - root_mean_squared_error: 25.7785 - mean_squared_logarithmic_error: 0.2883 - root_mean_squared_logarithmic_error: 0.5364 - val_loss: 797.5394 - val_mse: 797.5394 - val_mae: 11.8974 - val_root_mean_squared_error: 28.2407 - val_mean_squared_logarithmic_error: 0.2700 - val_root_mean_squared_logarithmic_error: 0.5192\n",
            "Epoch 10/10\n",
            "2261/2261 [==============================] - 161s 71ms/step - loss: 625.9505 - mse: 625.9505 - mae: 11.9645 - root_mean_squared_error: 25.0155 - mean_squared_logarithmic_error: 0.2846 - root_mean_squared_logarithmic_error: 0.5329 - val_loss: 829.2312 - val_mse: 829.2312 - val_mae: 12.0056 - val_root_mean_squared_error: 28.7964 - val_mean_squared_logarithmic_error: 0.2736 - val_root_mean_squared_logarithmic_error: 0.5227\n"
          ],
          "name": "stdout"
        }
      ]
    },
    {
      "cell_type": "code",
      "metadata": {
        "colab": {
          "base_uri": "https://localhost:8080/",
          "height": 204
        },
        "id": "m6ZqDQxG4de0",
        "outputId": "063d7dc9-521a-448f-8322-014438d358af"
      },
      "source": [
        "histDf = pd.DataFrame(history.history)\n",
        "histDf.tail()"
      ],
      "execution_count": null,
      "outputs": [
        {
          "output_type": "execute_result",
          "data": {
            "text/html": [
              "<div>\n",
              "<style scoped>\n",
              "    .dataframe tbody tr th:only-of-type {\n",
              "        vertical-align: middle;\n",
              "    }\n",
              "\n",
              "    .dataframe tbody tr th {\n",
              "        vertical-align: top;\n",
              "    }\n",
              "\n",
              "    .dataframe thead th {\n",
              "        text-align: right;\n",
              "    }\n",
              "</style>\n",
              "<table border=\"1\" class=\"dataframe\">\n",
              "  <thead>\n",
              "    <tr style=\"text-align: right;\">\n",
              "      <th></th>\n",
              "      <th>loss</th>\n",
              "      <th>mae_sclb</th>\n",
              "      <th>root_mean_squared_logarithmic_error_sclb</th>\n",
              "      <th>val_loss</th>\n",
              "      <th>val_mae_sclb</th>\n",
              "      <th>val_root_mean_squared_logarithmic_error_sclb</th>\n",
              "    </tr>\n",
              "  </thead>\n",
              "  <tbody>\n",
              "    <tr>\n",
              "      <th>5</th>\n",
              "      <td>0.476606</td>\n",
              "      <td>12.462254</td>\n",
              "      <td>0.596104</td>\n",
              "      <td>0.556343</td>\n",
              "      <td>12.550454</td>\n",
              "      <td>0.577678</td>\n",
              "    </tr>\n",
              "    <tr>\n",
              "      <th>6</th>\n",
              "      <td>0.447031</td>\n",
              "      <td>12.279383</td>\n",
              "      <td>0.585221</td>\n",
              "      <td>0.552715</td>\n",
              "      <td>12.372323</td>\n",
              "      <td>0.570468</td>\n",
              "    </tr>\n",
              "    <tr>\n",
              "      <th>7</th>\n",
              "      <td>0.422235</td>\n",
              "      <td>12.137775</td>\n",
              "      <td>0.582416</td>\n",
              "      <td>0.568879</td>\n",
              "      <td>12.483811</td>\n",
              "      <td>0.570694</td>\n",
              "    </tr>\n",
              "    <tr>\n",
              "      <th>8</th>\n",
              "      <td>0.407632</td>\n",
              "      <td>12.037266</td>\n",
              "      <td>0.578049</td>\n",
              "      <td>0.557858</td>\n",
              "      <td>12.484520</td>\n",
              "      <td>0.571568</td>\n",
              "    </tr>\n",
              "    <tr>\n",
              "      <th>9</th>\n",
              "      <td>0.397469</td>\n",
              "      <td>11.964991</td>\n",
              "      <td>0.577472</td>\n",
              "      <td>0.578131</td>\n",
              "      <td>13.115880</td>\n",
              "      <td>0.612132</td>\n",
              "    </tr>\n",
              "  </tbody>\n",
              "</table>\n",
              "</div>"
            ],
            "text/plain": [
              "       loss  ...  val_root_mean_squared_logarithmic_error_sclb\n",
              "5  0.476606  ...                                      0.577678\n",
              "6  0.447031  ...                                      0.570468\n",
              "7  0.422235  ...                                      0.570694\n",
              "8  0.407632  ...                                      0.571568\n",
              "9  0.397469  ...                                      0.612132\n",
              "\n",
              "[5 rows x 6 columns]"
            ]
          },
          "metadata": {
            "tags": []
          },
          "execution_count": 147
        }
      ]
    },
    {
      "cell_type": "code",
      "metadata": {
        "colab": {
          "base_uri": "https://localhost:8080/",
          "height": 282
        },
        "id": "d8NNZQXuht7t",
        "outputId": "4d3932e4-a4c2-4a06-ff5a-c2b2513db405"
      },
      "source": [
        "histDf.plot(y=[\"loss\", \"val_loss\"])"
      ],
      "execution_count": null,
      "outputs": [
        {
          "output_type": "execute_result",
          "data": {
            "text/plain": [
              "<matplotlib.axes._subplots.AxesSubplot at 0x7f26b17aad68>"
            ]
          },
          "metadata": {
            "tags": []
          },
          "execution_count": 148
        },
        {
          "output_type": "display_data",
          "data": {
            "image/png": "[encoded data removed]",
            "text/plain": [
              "<Figure size 432x288 with 1 Axes>"
            ]
          },
          "metadata": {
            "tags": []
          }
        }
      ]
    },
    {
      "cell_type": "code",
      "metadata": {
        "colab": {
          "base_uri": "https://localhost:8080/",
          "height": 285
        },
        "id": "PUhr3WR3wpgt",
        "outputId": "2cc8e291-df84-4cd1-a008-21fd386b0d79"
      },
      "source": [
        "histDf.plot(y=[\"mae_sclb\", \"val_mae_sclb\"])"
      ],
      "execution_count": null,
      "outputs": [
        {
          "output_type": "execute_result",
          "data": {
            "text/plain": [
              "<matplotlib.axes._subplots.AxesSubplot at 0x7f26b2d2c780>"
            ]
          },
          "metadata": {
            "tags": []
          },
          "execution_count": 149
        },
        {
          "output_type": "display_data",
          "data": {
            "image/png": "[encoded data removed]",
            "text/plain": [
              "<Figure size 432x288 with 1 Axes>"
            ]
          },
          "metadata": {
            "tags": []
          }
        }
      ]
    },
    {
      "cell_type": "code",
      "metadata": {
        "colab": {
          "base_uri": "https://localhost:8080/",
          "height": 282
        },
        "id": "B4R67iRKhvwW",
        "outputId": "0ccbf327-9882-46dc-d490-c7aa017b4a29"
      },
      "source": [
        "histDf.plot(y=[\"root_mean_squared_logarithmic_error_sclb\", \"val_root_mean_squared_logarithmic_error_sclb\"])"
      ],
      "execution_count": null,
      "outputs": [
        {
          "output_type": "execute_result",
          "data": {
            "text/plain": [
              "<matplotlib.axes._subplots.AxesSubplot at 0x7f26b06a3cf8>"
            ]
          },
          "metadata": {
            "tags": []
          },
          "execution_count": 150
        },
        {
          "output_type": "display_data",
          "data": {
            "image/png": "[encoded data removed]",
            "text/plain": [
              "<Figure size 432x288 with 1 Axes>"
            ]
          },
          "metadata": {
            "tags": []
          }
        }
      ]
    }
  ]
}