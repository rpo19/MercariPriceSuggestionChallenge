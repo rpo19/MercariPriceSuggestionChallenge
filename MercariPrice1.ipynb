{
  "nbformat": 4,
  "nbformat_minor": 0,
  "metadata": {
    "accelerator": "GPU",
    "colab": {
      "name": "MercariPrice1.ipynb",
      "provenance": [],
      "collapsed_sections": []
    },
    "kernelspec": {
      "display_name": "Python 3",
      "language": "python",
      "name": "python3"
    },
    "language_info": {
      "codemirror_mode": {
        "name": "ipython",
        "version": 3
      },
      "file_extension": ".py",
      "mimetype": "text/x-python",
      "name": "python",
      "nbconvert_exporter": "python",
      "pygments_lexer": "ipython3",
      "version": "3.7.0"
    }
  },
  "cells": [
    {
      "cell_type": "markdown",
      "metadata": {
        "id": "M_oO4ZyYU00Y"
      },
      "source": [
        "### Mercari Price \n",
        "The files consist of a list of product listings. These files are tab-delimited.\n",
        "\n",
        "Fields:\n",
        "- train_id or test_id - the id of the listing\n",
        "\n",
        "- name - the title of the listing. Note that we have cleaned the data to remove text that look like prices (e.g. $20) to avoid  leakage. These removed prices are represented as [rm]\n",
        "\n",
        "- item_condition_id - the condition of the items provided by the seller\n",
        "\n",
        "- category_name - category of the listing\n",
        "\n",
        "- brand_name\n",
        "\n",
        "- price - the price that the item was sold for. This is the target variable that you will predict. The unit is USD. This column doesn't exist in test.tsv since that is what you will predict.\n",
        "\n",
        "- shipping - 1 if shipping fee is paid by seller and 0 by buyer\n",
        "\n",
        "- item_description - the full description of the item. Note that we have cleaned the data to remove text that look like prices (e.g. $20) to avoid leakage. These removed prices are represented as [rm]"
      ]
    },
    {
      "cell_type": "code",
      "metadata": {
        "id": "XZWiRNuUU00w"
      },
      "source": [
        "import pandas as pd\n",
        "import numpy as np\n",
        "\n",
        "from nltk.tokenize import word_tokenize\n",
        "import nltk\n",
        "import tensorflow as tf\n",
        "from tensorflow import keras\n",
        "from tensorflow.keras.preprocessing.text import Tokenizer\n",
        "from tensorflow.keras.preprocessing.sequence import pad_sequences\n",
        "\n",
        "import tensorflow.keras.backend as K\n",
        "\n",
        "\n",
        "from tqdm._tqdm_notebook import tqdm_notebook\n",
        "\n",
        "import os\n",
        "import itertools\n",
        "\n",
        "import matplotlib.pyplot as plt\n",
        "import itertools\n",
        "from collections import Counter\n",
        "import seaborn as sns\n",
        "\n",
        "from sklearn.model_selection import train_test_split\n",
        "from sklearn import preprocessing\n",
        "from sklearn.preprocessing import StandardScaler\n",
        "\n",
        "from tensorflow.keras.layers import Dense, Input, Embedding, Concatenate, Flatten, Dropout, LSTM\n",
        "from tensorflow.keras.models import Model\n",
        "from tensorflow.keras.utils import plot_model "
      ],
      "execution_count": null,
      "outputs": []
    },
    {
      "cell_type": "code",
      "metadata": {
        "id": "s4RfjlP1VCjh"
      },
      "source": [
        "tqdm_notebook.pandas()"
      ],
      "execution_count": null,
      "outputs": []
    },
    {
      "cell_type": "code",
      "metadata": {
        "colab": {
          "base_uri": "https://localhost:8080/"
        },
        "id": "sI0KxMNH4A5s",
        "outputId": "af8434e8-488c-4df2-a94f-61b907b4fbd1"
      },
      "source": [
        "#! pip install pydot graphviz"
      ],
      "execution_count": null,
      "outputs": [
        {
          "output_type": "stream",
          "text": [
            "Requirement already satisfied: pydot in /usr/local/lib/python3.6/dist-packages (1.3.0)\n",
            "Requirement already satisfied: graphviz in /usr/local/lib/python3.6/dist-packages (0.10.1)\n",
            "Requirement already satisfied: pyparsing>=2.1.4 in /usr/local/lib/python3.6/dist-packages (from pydot) (2.4.7)\n"
          ],
          "name": "stdout"
        }
      ]
    },
    {
      "cell_type": "markdown",
      "metadata": {
        "id": "5tMt4O6n3yTD"
      },
      "source": [
        "### Dataset download"
      ]
    },
    {
      "cell_type": "code",
      "metadata": {
        "colab": {
          "base_uri": "https://localhost:8080/"
        },
        "id": "oXCUW4PtU00k",
        "outputId": "450f84c8-828b-40e5-c497-d5a97cda25e3"
      },
      "source": [
        "# check if in colab\n",
        "RunningInCOLAB = 'google.colab' in str(get_ipython())\n",
        "if RunningInCOLAB:\n",
        "    print(\"Running in colab\")\n",
        "    from google.colab import drive\n",
        "    drive.mount('/content/gdrive', force_remount=True)\n",
        "    colab_root = '/content/drive'\n",
        "    root_dir = \"/content/gdrive/My Drive/\"\n",
        "    base_dir = root_dir + 'project-mercari-price/'\n",
        "    if not os.path.isdir(base_dir):\n",
        "        os.mkdir(base_dir)\n",
        "else:\n",
        "    root_dir= os.getcwd()\n",
        "    base_dir = root_dir\n",
        "    \n",
        "os.chdir(base_dir)"
      ],
      "execution_count": null,
      "outputs": [
        {
          "output_type": "stream",
          "text": [
            "Running in colab\n",
            "Mounted at /content/gdrive\n"
          ],
          "name": "stdout"
        }
      ]
    },
    {
      "cell_type": "code",
      "metadata": {
        "colab": {
          "base_uri": "https://localhost:8080/"
        },
        "id": "1JFkFCLXU00m",
        "outputId": "f552fc2b-27ad-4dea-dce4-24b518a45135"
      },
      "source": [
        "dataset_downloaded_path = os.path.join(base_dir, \"dataset_downloaded.ignore\")\n",
        "dataset_downloaded = os.path.isfile(dataset_downloaded_path)\n",
        "dataset_downloaded"
      ],
      "execution_count": null,
      "outputs": [
        {
          "output_type": "execute_result",
          "data": {
            "text/plain": [
              "True"
            ]
          },
          "metadata": {
            "tags": []
          },
          "execution_count": 6
        }
      ]
    },
    {
      "cell_type": "code",
      "metadata": {
        "id": "24RhWXO6U00p"
      },
      "source": [
        "if not dataset_downloaded:\n",
        "  # install kaggle to download dataset\n",
        "  ! pip install kaggle python-dotenv"
      ],
      "execution_count": null,
      "outputs": []
    },
    {
      "cell_type": "code",
      "metadata": {
        "id": "Xw0Fy7K5U00r"
      },
      "source": [
        "# set to True if you want to save kaggle credentials into a .env file\n",
        "persist_credentials = False\n",
        "\n",
        "if not dataset_downloaded:\n",
        "  # create .env file containing KAGGLE_USER and KAGGLE_KEY\n",
        "    kaggle_env = os.path.join(base_dir, '.env')\n",
        "    if not os.path.isfile(kaggle_env):\n",
        "        with open(kaggle_env, 'w') as envfile:\n",
        "            kaggle_user = input(\"Insert kaggle username\")\n",
        "            kaggle_key = input(\"Insert kaggle key; generate one from kaggle account\")\n",
        "        if persist_credentials:\n",
        "            envfile.write(f\"\"\"\n",
        "            KAGGLE_USERNAME={kaggle_user}\n",
        "            KAGGLE_KEY={kaggle_key}\n",
        "            \"\"\")\n",
        "\n",
        "        # set env vars\n",
        "        os.environ[\"KAGGLE_USERNAME\"] = kaggle_user\n",
        "        os.environ[\"KAGGLE_KEY\"] = kaggle_key\n",
        "\n",
        "        del kaggle_user\n",
        "        del kaggle_key"
      ],
      "execution_count": null,
      "outputs": []
    },
    {
      "cell_type": "code",
      "metadata": {
        "id": "7zJ0iRN9U00u"
      },
      "source": [
        "if not dataset_downloaded:\n",
        "  # loading env vars if .env file exists\n",
        "    if os.path.isfile(kaggle_env):\n",
        "        from dotenv import load_dotenv\n",
        "        load_dotenv(dotenv_path=kaggle_env)\n",
        "    print(os.environ.get(\"KAGGLE_USERNAME\"))"
      ],
      "execution_count": null,
      "outputs": []
    },
    {
      "cell_type": "code",
      "metadata": {
        "id": "SP-mPFo-U00v"
      },
      "source": [
        "if not dataset_downloaded:\n",
        "    # download and extract dataset\n",
        "    ! kaggle competitions download -c mercari-price-suggestion-challenge\n",
        "\n",
        "    # create file so that we know we already downloaded\n",
        "    with open(dataset_downloaded_path, 'w') as dd_file:\n",
        "        dataset_downloaded = True\n",
        "        dd_file.write(\"\")\n",
        "\n",
        "    print('cwd: ', os.getcwd())\n",
        "    \n",
        "    os.listdir()"
      ],
      "execution_count": null,
      "outputs": []
    },
    {
      "cell_type": "code",
      "metadata": {
        "id": "cpAT2yysVsRm"
      },
      "source": [
        "if not dataset_downloaded:\n",
        "    ! 7z x train.tsv.7z\n",
        "    ! 7z x test.tsv.7z"
      ],
      "execution_count": null,
      "outputs": []
    },
    {
      "cell_type": "code",
      "metadata": {
        "colab": {
          "base_uri": "https://localhost:8080/"
        },
        "id": "rbwBGoI1VplX",
        "outputId": "590e632e-9734-4492-d96b-e35e63912782"
      },
      "source": [
        "os.listdir()"
      ],
      "execution_count": null,
      "outputs": [
        {
          "output_type": "execute_result",
          "data": {
            "text/plain": [
              "['train.tsv',\n",
              " 'test.tsv',\n",
              " '.env',\n",
              " 'sample_submission.csv.7z',\n",
              " 'test_stg2.tsv.zip',\n",
              " 'train.tsv.7z',\n",
              " 'test.tsv.7z',\n",
              " 'sample_submission_stg2.csv.zip',\n",
              " 'dataset_downloaded',\n",
              " '.git',\n",
              " '.gitignore',\n",
              " 'Notebook.Rmd',\n",
              " 'Readme.md',\n",
              " 'requirements.txt',\n",
              " 'Untitled.ipynb',\n",
              " 'git',\n",
              " 'dataset_downloaded.ignore',\n",
              " 'model.png']"
            ]
          },
          "metadata": {
            "tags": []
          },
          "execution_count": 12
        }
      ]
    },
    {
      "cell_type": "markdown",
      "metadata": {
        "id": "8pyEueRK3yTL"
      },
      "source": [
        "## Load dataset"
      ]
    },
    {
      "cell_type": "code",
      "metadata": {
        "colab": {
          "base_uri": "https://localhost:8080/",
          "height": 841
        },
        "id": "j5Vg17INU00x",
        "outputId": "3dd585b4-aef5-4940-80c0-3c0ec94f370b"
      },
      "source": [
        "dtypes={\n",
        "    'name': 'string',\n",
        "    'item_condition_id': 'int32',\n",
        "    'category_name': 'string',\n",
        "    'brand_name': 'string',\n",
        "    'price': 'float',\n",
        "    'shipping': 'int32',\n",
        "    'item_description': 'string'\n",
        "}\n",
        "data = pd.read_csv(\"train.tsv\", sep='\\t', dtype=dtypes)\n",
        "data = data.drop(columns=[\"train_id\"])\n",
        "data"
      ],
      "execution_count": null,
      "outputs": [
        {
          "output_type": "execute_result",
          "data": {
            "text/html": [
              "<div>\n",
              "<style scoped>\n",
              "    .dataframe tbody tr th:only-of-type {\n",
              "        vertical-align: middle;\n",
              "    }\n",
              "\n",
              "    .dataframe tbody tr th {\n",
              "        vertical-align: top;\n",
              "    }\n",
              "\n",
              "    .dataframe thead th {\n",
              "        text-align: right;\n",
              "    }\n",
              "</style>\n",
              "<table border=\"1\" class=\"dataframe\">\n",
              "  <thead>\n",
              "    <tr style=\"text-align: right;\">\n",
              "      <th></th>\n",
              "      <th>name</th>\n",
              "      <th>item_condition_id</th>\n",
              "      <th>category_name</th>\n",
              "      <th>brand_name</th>\n",
              "      <th>price</th>\n",
              "      <th>shipping</th>\n",
              "      <th>item_description</th>\n",
              "    </tr>\n",
              "  </thead>\n",
              "  <tbody>\n",
              "    <tr>\n",
              "      <th>0</th>\n",
              "      <td>MLB Cincinnati Reds T Shirt Size XL</td>\n",
              "      <td>3</td>\n",
              "      <td>Men/Tops/T-shirts</td>\n",
              "      <td>&lt;NA&gt;</td>\n",
              "      <td>10.0</td>\n",
              "      <td>1</td>\n",
              "      <td>No description yet</td>\n",
              "    </tr>\n",
              "    <tr>\n",
              "      <th>1</th>\n",
              "      <td>Razer BlackWidow Chroma Keyboard</td>\n",
              "      <td>3</td>\n",
              "      <td>Electronics/Computers &amp; Tablets/Components &amp; P...</td>\n",
              "      <td>Razer</td>\n",
              "      <td>52.0</td>\n",
              "      <td>0</td>\n",
              "      <td>This keyboard is in great condition and works ...</td>\n",
              "    </tr>\n",
              "    <tr>\n",
              "      <th>2</th>\n",
              "      <td>AVA-VIV Blouse</td>\n",
              "      <td>1</td>\n",
              "      <td>Women/Tops &amp; Blouses/Blouse</td>\n",
              "      <td>Target</td>\n",
              "      <td>10.0</td>\n",
              "      <td>1</td>\n",
              "      <td>Adorable top with a hint of lace and a key hol...</td>\n",
              "    </tr>\n",
              "    <tr>\n",
              "      <th>3</th>\n",
              "      <td>Leather Horse Statues</td>\n",
              "      <td>1</td>\n",
              "      <td>Home/Home Décor/Home Décor Accents</td>\n",
              "      <td>&lt;NA&gt;</td>\n",
              "      <td>35.0</td>\n",
              "      <td>1</td>\n",
              "      <td>New with tags. Leather horses. Retail for [rm]...</td>\n",
              "    </tr>\n",
              "    <tr>\n",
              "      <th>4</th>\n",
              "      <td>24K GOLD plated rose</td>\n",
              "      <td>1</td>\n",
              "      <td>Women/Jewelry/Necklaces</td>\n",
              "      <td>&lt;NA&gt;</td>\n",
              "      <td>44.0</td>\n",
              "      <td>0</td>\n",
              "      <td>Complete with certificate of authenticity</td>\n",
              "    </tr>\n",
              "    <tr>\n",
              "      <th>...</th>\n",
              "      <td>...</td>\n",
              "      <td>...</td>\n",
              "      <td>...</td>\n",
              "      <td>...</td>\n",
              "      <td>...</td>\n",
              "      <td>...</td>\n",
              "      <td>...</td>\n",
              "    </tr>\n",
              "    <tr>\n",
              "      <th>1482530</th>\n",
              "      <td>Free People Inspired Dress</td>\n",
              "      <td>2</td>\n",
              "      <td>Women/Dresses/Mid-Calf</td>\n",
              "      <td>Free People</td>\n",
              "      <td>20.0</td>\n",
              "      <td>1</td>\n",
              "      <td>Lace, says size small but fits medium perfectl...</td>\n",
              "    </tr>\n",
              "    <tr>\n",
              "      <th>1482531</th>\n",
              "      <td>Little mermaid handmade dress</td>\n",
              "      <td>2</td>\n",
              "      <td>Kids/Girls 2T-5T/Dresses</td>\n",
              "      <td>Disney</td>\n",
              "      <td>14.0</td>\n",
              "      <td>0</td>\n",
              "      <td>Little mermaid handmade dress never worn size 2t</td>\n",
              "    </tr>\n",
              "    <tr>\n",
              "      <th>1482532</th>\n",
              "      <td>21 day fix containers and eating plan</td>\n",
              "      <td>2</td>\n",
              "      <td>Sports &amp; Outdoors/Exercise/Fitness accessories</td>\n",
              "      <td>&lt;NA&gt;</td>\n",
              "      <td>12.0</td>\n",
              "      <td>0</td>\n",
              "      <td>Used once or twice, still in great shape.</td>\n",
              "    </tr>\n",
              "    <tr>\n",
              "      <th>1482533</th>\n",
              "      <td>World markets lanterns</td>\n",
              "      <td>3</td>\n",
              "      <td>Home/Home Décor/Home Décor Accents</td>\n",
              "      <td>&lt;NA&gt;</td>\n",
              "      <td>45.0</td>\n",
              "      <td>1</td>\n",
              "      <td>There is 2 of each one that you see! So 2 red ...</td>\n",
              "    </tr>\n",
              "    <tr>\n",
              "      <th>1482534</th>\n",
              "      <td>Brand new lux de ville wallet</td>\n",
              "      <td>1</td>\n",
              "      <td>Women/Women's Accessories/Wallets</td>\n",
              "      <td>&lt;NA&gt;</td>\n",
              "      <td>22.0</td>\n",
              "      <td>0</td>\n",
              "      <td>New with tag, red with sparkle. Firm price, no...</td>\n",
              "    </tr>\n",
              "  </tbody>\n",
              "</table>\n",
              "<p>1482535 rows × 7 columns</p>\n",
              "</div>"
            ],
            "text/plain": [
              "                                          name  ...                                   item_description\n",
              "0          MLB Cincinnati Reds T Shirt Size XL  ...                                 No description yet\n",
              "1             Razer BlackWidow Chroma Keyboard  ...  This keyboard is in great condition and works ...\n",
              "2                               AVA-VIV Blouse  ...  Adorable top with a hint of lace and a key hol...\n",
              "3                        Leather Horse Statues  ...  New with tags. Leather horses. Retail for [rm]...\n",
              "4                         24K GOLD plated rose  ...          Complete with certificate of authenticity\n",
              "...                                        ...  ...                                                ...\n",
              "1482530             Free People Inspired Dress  ...  Lace, says size small but fits medium perfectl...\n",
              "1482531          Little mermaid handmade dress  ...   Little mermaid handmade dress never worn size 2t\n",
              "1482532  21 day fix containers and eating plan  ...          Used once or twice, still in great shape.\n",
              "1482533                 World markets lanterns  ...  There is 2 of each one that you see! So 2 red ...\n",
              "1482534          Brand new lux de ville wallet  ...  New with tag, red with sparkle. Firm price, no...\n",
              "\n",
              "[1482535 rows x 7 columns]"
            ]
          },
          "metadata": {
            "tags": []
          },
          "execution_count": 4
        }
      ]
    },
    {
      "cell_type": "code",
      "metadata": {
        "colab": {
          "base_uri": "https://localhost:8080/"
        },
        "id": "DmtH5d_GU00z",
        "outputId": "34981c22-fe68-478f-f537-987ef7ceed03"
      },
      "source": [
        "data.dtypes"
      ],
      "execution_count": null,
      "outputs": [
        {
          "output_type": "execute_result",
          "data": {
            "text/plain": [
              "name                  string\n",
              "item_condition_id      int32\n",
              "category_name         string\n",
              "brand_name            string\n",
              "price                float64\n",
              "shipping               int32\n",
              "item_description      string\n",
              "dtype: object"
            ]
          },
          "metadata": {
            "tags": []
          },
          "execution_count": 5
        }
      ]
    },
    {
      "cell_type": "code",
      "metadata": {
        "colab": {
          "base_uri": "https://localhost:8080/"
        },
        "id": "9TY3K5euCtuA",
        "outputId": "945558fc-0b9e-465a-d2b4-aa1fc3fa3b78"
      },
      "source": [
        "data.shape"
      ],
      "execution_count": null,
      "outputs": [
        {
          "output_type": "execute_result",
          "data": {
            "text/plain": [
              "(1482535, 7)"
            ]
          },
          "metadata": {
            "tags": []
          },
          "execution_count": 6
        }
      ]
    },
    {
      "cell_type": "code",
      "metadata": {
        "colab": {
          "base_uri": "https://localhost:8080/"
        },
        "id": "rvujMFFXCxL8",
        "outputId": "5a26b55b-f814-42bd-ec85-af4e157309af"
      },
      "source": [
        "for column in data.columns:\n",
        "    print(\"number of null value in {} : {}\".format(column,data[column].isnull().sum()))"
      ],
      "execution_count": null,
      "outputs": [
        {
          "output_type": "stream",
          "text": [
            "number of null value in name : 0\n",
            "number of null value in item_condition_id : 0\n",
            "number of null value in category_name : 6327\n",
            "number of null value in brand_name : 632682\n",
            "number of null value in price : 0\n",
            "number of null value in shipping : 0\n",
            "number of null value in item_description : 4\n"
          ],
          "name": "stdout"
        }
      ]
    },
    {
      "cell_type": "code",
      "metadata": {
        "colab": {
          "base_uri": "https://localhost:8080/"
        },
        "id": "XtxgmC-LHnmN",
        "outputId": "e61ac0b7-4405-4bf2-c7a2-09fadf8087cc"
      },
      "source": [
        "data[\"category_name\"].value_counts()"
      ],
      "execution_count": null,
      "outputs": [
        {
          "output_type": "execute_result",
          "data": {
            "text/plain": [
              "Women/Athletic Apparel/Pants, Tights, Leggings    60177\n",
              "Women/Tops & Blouses/T-Shirts                     46380\n",
              "Beauty/Makeup/Face                                34335\n",
              "Beauty/Makeup/Lips                                29910\n",
              "Electronics/Video Games & Consoles/Games          26557\n",
              "                                                  ...  \n",
              "Vintage & Collectibles/Book/Decorating                1\n",
              "Handmade/Knitting/Bags and Purses                     1\n",
              "Handmade/Toys/Bear                                    1\n",
              "Handmade/Woodworking/Supplies                         1\n",
              "Handmade/Weddings/Frames                              1\n",
              "Name: category_name, Length: 1287, dtype: Int64"
            ]
          },
          "metadata": {
            "tags": []
          },
          "execution_count": 8
        }
      ]
    },
    {
      "cell_type": "code",
      "metadata": {
        "colab": {
          "base_uri": "https://localhost:8080/"
        },
        "id": "JOYErCoVHnmO",
        "outputId": "d1ea4f1f-f5b7-4e8d-9e7a-8a54679ce779"
      },
      "source": [
        "data[\"price\"].describe()"
      ],
      "execution_count": null,
      "outputs": [
        {
          "output_type": "execute_result",
          "data": {
            "text/plain": [
              "count    1.482535e+06\n",
              "mean     2.673752e+01\n",
              "std      3.858607e+01\n",
              "min      0.000000e+00\n",
              "25%      1.000000e+01\n",
              "50%      1.700000e+01\n",
              "75%      2.900000e+01\n",
              "max      2.009000e+03\n",
              "Name: price, dtype: float64"
            ]
          },
          "metadata": {
            "tags": []
          },
          "execution_count": 9
        }
      ]
    },
    {
      "cell_type": "code",
      "metadata": {
        "colab": {
          "base_uri": "https://localhost:8080/"
        },
        "id": "jUBsIEJqC0cg",
        "outputId": "5fd8a475-ecfd-45a7-c555-da8e9563b570"
      },
      "source": [
        "data = data[data[\"item_description\"].notna()]\n",
        "data[\"brand_name\"] = data[\"brand_name\"].fillna(value=\"NA\")\n",
        "data[\"category_name\"] = data[\"category_name\"].fillna(value=\"NA\")\n",
        "# see warnings -> inplace?\n",
        "data.shape"
      ],
      "execution_count": null,
      "outputs": [
        {
          "output_type": "stream",
          "text": [
            "/usr/local/lib/python3.6/dist-packages/ipykernel_launcher.py:2: SettingWithCopyWarning: \n",
            "A value is trying to be set on a copy of a slice from a DataFrame.\n",
            "Try using .loc[row_indexer,col_indexer] = value instead\n",
            "\n",
            "See the caveats in the documentation: https://pandas.pydata.org/pandas-docs/stable/user_guide/indexing.html#returning-a-view-versus-a-copy\n",
            "  \n",
            "/usr/local/lib/python3.6/dist-packages/ipykernel_launcher.py:3: SettingWithCopyWarning: \n",
            "A value is trying to be set on a copy of a slice from a DataFrame.\n",
            "Try using .loc[row_indexer,col_indexer] = value instead\n",
            "\n",
            "See the caveats in the documentation: https://pandas.pydata.org/pandas-docs/stable/user_guide/indexing.html#returning-a-view-versus-a-copy\n",
            "  This is separate from the ipykernel package so we can avoid doing imports until\n"
          ],
          "name": "stderr"
        },
        {
          "output_type": "execute_result",
          "data": {
            "text/plain": [
              "(1482531, 7)"
            ]
          },
          "metadata": {
            "tags": []
          },
          "execution_count": 10
        }
      ]
    },
    {
      "cell_type": "code",
      "metadata": {
        "id": "vD-R4RTy3yTO"
      },
      "source": [
        "def flat_list(l):\n",
        "    return  [item for sublist in l for item in sublist]\n",
        "\n",
        "\n",
        "def plot_common_tokens(tokens, title, n=20):\n",
        "    sentences = (list(itertools.chain(tokens)))\n",
        "    flat_sentences = flat_list(sentences)\n",
        "    counts = Counter(flat_sentences)\n",
        "    #print(counts.most_common(30))\n",
        "    common_words = [word[0] for word in counts.most_common(n)]\n",
        "    common_counts = [word[1] for word in counts.most_common(n)]\n",
        "    fig = plt.figure(figsize=(18,6))\n",
        "    sns.barplot(x=common_words, y=common_counts)\n",
        "    plt.title(title)\n",
        "    plt.show()\n"
      ],
      "execution_count": null,
      "outputs": []
    },
    {
      "cell_type": "code",
      "metadata": {
        "id": "qkd6dXhF3yTO"
      },
      "source": [
        "#plot_common_tokens(data[\"item_description_tokens\"], \"Most Common Tokens from Descriptions\")"
      ],
      "execution_count": null,
      "outputs": []
    },
    {
      "cell_type": "code",
      "metadata": {
        "colab": {
          "base_uri": "https://localhost:8080/",
          "height": 841
        },
        "id": "FNY29qP2HnmS",
        "outputId": "1f49921c-cb23-4131-f4af-ebf783095405"
      },
      "source": [
        "data"
      ],
      "execution_count": null,
      "outputs": [
        {
          "output_type": "execute_result",
          "data": {
            "text/html": [
              "<div>\n",
              "<style scoped>\n",
              "    .dataframe tbody tr th:only-of-type {\n",
              "        vertical-align: middle;\n",
              "    }\n",
              "\n",
              "    .dataframe tbody tr th {\n",
              "        vertical-align: top;\n",
              "    }\n",
              "\n",
              "    .dataframe thead th {\n",
              "        text-align: right;\n",
              "    }\n",
              "</style>\n",
              "<table border=\"1\" class=\"dataframe\">\n",
              "  <thead>\n",
              "    <tr style=\"text-align: right;\">\n",
              "      <th></th>\n",
              "      <th>name</th>\n",
              "      <th>item_condition_id</th>\n",
              "      <th>category_name</th>\n",
              "      <th>brand_name</th>\n",
              "      <th>price</th>\n",
              "      <th>shipping</th>\n",
              "      <th>item_description</th>\n",
              "    </tr>\n",
              "  </thead>\n",
              "  <tbody>\n",
              "    <tr>\n",
              "      <th>0</th>\n",
              "      <td>MLB Cincinnati Reds T Shirt Size XL</td>\n",
              "      <td>3</td>\n",
              "      <td>Men/Tops/T-shirts</td>\n",
              "      <td>NA</td>\n",
              "      <td>10.0</td>\n",
              "      <td>1</td>\n",
              "      <td>No description yet</td>\n",
              "    </tr>\n",
              "    <tr>\n",
              "      <th>1</th>\n",
              "      <td>Razer BlackWidow Chroma Keyboard</td>\n",
              "      <td>3</td>\n",
              "      <td>Electronics/Computers &amp; Tablets/Components &amp; P...</td>\n",
              "      <td>Razer</td>\n",
              "      <td>52.0</td>\n",
              "      <td>0</td>\n",
              "      <td>This keyboard is in great condition and works ...</td>\n",
              "    </tr>\n",
              "    <tr>\n",
              "      <th>2</th>\n",
              "      <td>AVA-VIV Blouse</td>\n",
              "      <td>1</td>\n",
              "      <td>Women/Tops &amp; Blouses/Blouse</td>\n",
              "      <td>Target</td>\n",
              "      <td>10.0</td>\n",
              "      <td>1</td>\n",
              "      <td>Adorable top with a hint of lace and a key hol...</td>\n",
              "    </tr>\n",
              "    <tr>\n",
              "      <th>3</th>\n",
              "      <td>Leather Horse Statues</td>\n",
              "      <td>1</td>\n",
              "      <td>Home/Home Décor/Home Décor Accents</td>\n",
              "      <td>NA</td>\n",
              "      <td>35.0</td>\n",
              "      <td>1</td>\n",
              "      <td>New with tags. Leather horses. Retail for [rm]...</td>\n",
              "    </tr>\n",
              "    <tr>\n",
              "      <th>4</th>\n",
              "      <td>24K GOLD plated rose</td>\n",
              "      <td>1</td>\n",
              "      <td>Women/Jewelry/Necklaces</td>\n",
              "      <td>NA</td>\n",
              "      <td>44.0</td>\n",
              "      <td>0</td>\n",
              "      <td>Complete with certificate of authenticity</td>\n",
              "    </tr>\n",
              "    <tr>\n",
              "      <th>...</th>\n",
              "      <td>...</td>\n",
              "      <td>...</td>\n",
              "      <td>...</td>\n",
              "      <td>...</td>\n",
              "      <td>...</td>\n",
              "      <td>...</td>\n",
              "      <td>...</td>\n",
              "    </tr>\n",
              "    <tr>\n",
              "      <th>1482530</th>\n",
              "      <td>Free People Inspired Dress</td>\n",
              "      <td>2</td>\n",
              "      <td>Women/Dresses/Mid-Calf</td>\n",
              "      <td>Free People</td>\n",
              "      <td>20.0</td>\n",
              "      <td>1</td>\n",
              "      <td>Lace, says size small but fits medium perfectl...</td>\n",
              "    </tr>\n",
              "    <tr>\n",
              "      <th>1482531</th>\n",
              "      <td>Little mermaid handmade dress</td>\n",
              "      <td>2</td>\n",
              "      <td>Kids/Girls 2T-5T/Dresses</td>\n",
              "      <td>Disney</td>\n",
              "      <td>14.0</td>\n",
              "      <td>0</td>\n",
              "      <td>Little mermaid handmade dress never worn size 2t</td>\n",
              "    </tr>\n",
              "    <tr>\n",
              "      <th>1482532</th>\n",
              "      <td>21 day fix containers and eating plan</td>\n",
              "      <td>2</td>\n",
              "      <td>Sports &amp; Outdoors/Exercise/Fitness accessories</td>\n",
              "      <td>NA</td>\n",
              "      <td>12.0</td>\n",
              "      <td>0</td>\n",
              "      <td>Used once or twice, still in great shape.</td>\n",
              "    </tr>\n",
              "    <tr>\n",
              "      <th>1482533</th>\n",
              "      <td>World markets lanterns</td>\n",
              "      <td>3</td>\n",
              "      <td>Home/Home Décor/Home Décor Accents</td>\n",
              "      <td>NA</td>\n",
              "      <td>45.0</td>\n",
              "      <td>1</td>\n",
              "      <td>There is 2 of each one that you see! So 2 red ...</td>\n",
              "    </tr>\n",
              "    <tr>\n",
              "      <th>1482534</th>\n",
              "      <td>Brand new lux de ville wallet</td>\n",
              "      <td>1</td>\n",
              "      <td>Women/Women's Accessories/Wallets</td>\n",
              "      <td>NA</td>\n",
              "      <td>22.0</td>\n",
              "      <td>0</td>\n",
              "      <td>New with tag, red with sparkle. Firm price, no...</td>\n",
              "    </tr>\n",
              "  </tbody>\n",
              "</table>\n",
              "<p>1482531 rows × 7 columns</p>\n",
              "</div>"
            ],
            "text/plain": [
              "                                          name  ...                                   item_description\n",
              "0          MLB Cincinnati Reds T Shirt Size XL  ...                                 No description yet\n",
              "1             Razer BlackWidow Chroma Keyboard  ...  This keyboard is in great condition and works ...\n",
              "2                               AVA-VIV Blouse  ...  Adorable top with a hint of lace and a key hol...\n",
              "3                        Leather Horse Statues  ...  New with tags. Leather horses. Retail for [rm]...\n",
              "4                         24K GOLD plated rose  ...          Complete with certificate of authenticity\n",
              "...                                        ...  ...                                                ...\n",
              "1482530             Free People Inspired Dress  ...  Lace, says size small but fits medium perfectl...\n",
              "1482531          Little mermaid handmade dress  ...   Little mermaid handmade dress never worn size 2t\n",
              "1482532  21 day fix containers and eating plan  ...          Used once or twice, still in great shape.\n",
              "1482533                 World markets lanterns  ...  There is 2 of each one that you see! So 2 red ...\n",
              "1482534          Brand new lux de ville wallet  ...  New with tag, red with sparkle. Firm price, no...\n",
              "\n",
              "[1482531 rows x 7 columns]"
            ]
          },
          "metadata": {
            "tags": []
          },
          "execution_count": 11
        }
      ]
    },
    {
      "cell_type": "code",
      "metadata": {
        "id": "trBPru1qEK5b"
      },
      "source": [
        "class LabelEncoder:\n",
        "  def __init__(self, unknown = 0, invUnknown = 'unknown'):\n",
        "    self.leDict = {}\n",
        "    self.invDict = {}\n",
        "    self.unknown = unknown\n",
        "    self.invUnknown = invUnknown\n",
        "\n",
        "  def fit(self, data):\n",
        "    vci = data.value_counts().index\n",
        "    self.leDict = dict(zip(vci, range(1, len(vci))))\n",
        "    self.invDict = dict(zip(range(1, len(vci)), vci))\n",
        "\n",
        "  def transform1(self, item):\n",
        "    return self.leDict.get(item, self.unknown)\n",
        "\n",
        "  def transform(self, data):\n",
        "    return data.apply(lambda item: self.transform1(item))\n",
        "\n",
        "  def inverse_transform1(self, item):\n",
        "    return self.invDict.get(item, self.invUnknown)\n",
        "\n",
        "  def inverse_transform(self, data):\n",
        "    return data.apply(lambda item: self.inverse_transform1(item))"
      ],
      "execution_count": null,
      "outputs": []
    },
    {
      "cell_type": "code",
      "metadata": {
        "colab": {
          "base_uri": "https://localhost:8080/"
        },
        "id": "XO4EL__E3yTS",
        "outputId": "c9feb069-120c-4e83-dbcb-492e032abb09"
      },
      "source": [
        "cat_le = LabelEncoder()\n",
        "cat_le.fit(data[\"category_name\"])\n",
        "\n",
        "data[\"category_name_l\"] = cat_le.transform(data[\"category_name\"])"
      ],
      "execution_count": null,
      "outputs": [
        {
          "output_type": "stream",
          "text": [
            "/usr/local/lib/python3.6/dist-packages/ipykernel_launcher.py:4: SettingWithCopyWarning: \n",
            "A value is trying to be set on a copy of a slice from a DataFrame.\n",
            "Try using .loc[row_indexer,col_indexer] = value instead\n",
            "\n",
            "See the caveats in the documentation: https://pandas.pydata.org/pandas-docs/stable/user_guide/indexing.html#returning-a-view-versus-a-copy\n",
            "  after removing the cwd from sys.path.\n"
          ],
          "name": "stderr"
        }
      ]
    },
    {
      "cell_type": "code",
      "metadata": {
        "colab": {
          "base_uri": "https://localhost:8080/"
        },
        "id": "gfiZte2s3yTS",
        "outputId": "2416645d-93df-4333-b998-d1c6ea5bec94"
      },
      "source": [
        "brand_le = LabelEncoder()\n",
        "brand_le.fit(data[\"brand_name\"])\n",
        "\n",
        "data[\"brand_name_l\"] = brand_le.transform(data[\"brand_name\"])"
      ],
      "execution_count": null,
      "outputs": [
        {
          "output_type": "stream",
          "text": [
            "/usr/local/lib/python3.6/dist-packages/ipykernel_launcher.py:4: SettingWithCopyWarning: \n",
            "A value is trying to be set on a copy of a slice from a DataFrame.\n",
            "Try using .loc[row_indexer,col_indexer] = value instead\n",
            "\n",
            "See the caveats in the documentation: https://pandas.pydata.org/pandas-docs/stable/user_guide/indexing.html#returning-a-view-versus-a-copy\n",
            "  after removing the cwd from sys.path.\n"
          ],
          "name": "stderr"
        }
      ]
    },
    {
      "cell_type": "code",
      "metadata": {
        "id": "k0nbQxek3yTQ"
      },
      "source": [
        "def getTokens(data, tokenizer=None, dataFit=None, num_words=5000):\n",
        "    if dataFit is None:\n",
        "        dataFit = data\n",
        "        \n",
        "    if tokenizer is None:\n",
        "        tokenizer = Tokenizer(num_words=num_words)\n",
        "        tokenizer.fit_on_texts(dataFit)\n",
        "    \n",
        "    tokens = tokenizer.texts_to_sequences(data)\n",
        "    return tokens, tokenizer"
      ],
      "execution_count": null,
      "outputs": []
    },
    {
      "cell_type": "code",
      "metadata": {
        "colab": {
          "base_uri": "https://localhost:8080/",
          "height": 630
        },
        "id": "lkGhq22YJJGf",
        "outputId": "190b7757-bb43-4f2e-a75e-03589c8919d2"
      },
      "source": [
        "data[\"item_description\"]=data[\"item_description\"].str.lower()\r\n",
        "data[\"name\"]=data[\"name\"].str.lower()\r\n",
        "data.head()"
      ],
      "execution_count": null,
      "outputs": [
        {
          "output_type": "stream",
          "text": [
            "/usr/local/lib/python3.6/dist-packages/ipykernel_launcher.py:1: SettingWithCopyWarning: \n",
            "A value is trying to be set on a copy of a slice from a DataFrame.\n",
            "Try using .loc[row_indexer,col_indexer] = value instead\n",
            "\n",
            "See the caveats in the documentation: https://pandas.pydata.org/pandas-docs/stable/user_guide/indexing.html#returning-a-view-versus-a-copy\n",
            "  \"\"\"Entry point for launching an IPython kernel.\n",
            "/usr/local/lib/python3.6/dist-packages/ipykernel_launcher.py:2: SettingWithCopyWarning: \n",
            "A value is trying to be set on a copy of a slice from a DataFrame.\n",
            "Try using .loc[row_indexer,col_indexer] = value instead\n",
            "\n",
            "See the caveats in the documentation: https://pandas.pydata.org/pandas-docs/stable/user_guide/indexing.html#returning-a-view-versus-a-copy\n",
            "  \n"
          ],
          "name": "stderr"
        },
        {
          "output_type": "execute_result",
          "data": {
            "text/html": [
              "<div>\n",
              "<style scoped>\n",
              "    .dataframe tbody tr th:only-of-type {\n",
              "        vertical-align: middle;\n",
              "    }\n",
              "\n",
              "    .dataframe tbody tr th {\n",
              "        vertical-align: top;\n",
              "    }\n",
              "\n",
              "    .dataframe thead th {\n",
              "        text-align: right;\n",
              "    }\n",
              "</style>\n",
              "<table border=\"1\" class=\"dataframe\">\n",
              "  <thead>\n",
              "    <tr style=\"text-align: right;\">\n",
              "      <th></th>\n",
              "      <th>name</th>\n",
              "      <th>item_condition_id</th>\n",
              "      <th>category_name</th>\n",
              "      <th>brand_name</th>\n",
              "      <th>price</th>\n",
              "      <th>shipping</th>\n",
              "      <th>item_description</th>\n",
              "      <th>category_name_l</th>\n",
              "      <th>brand_name_l</th>\n",
              "    </tr>\n",
              "  </thead>\n",
              "  <tbody>\n",
              "    <tr>\n",
              "      <th>0</th>\n",
              "      <td>mlb cincinnati reds t shirt size xl</td>\n",
              "      <td>3</td>\n",
              "      <td>Men/Tops/T-shirts</td>\n",
              "      <td>NA</td>\n",
              "      <td>10.0</td>\n",
              "      <td>1</td>\n",
              "      <td>no description yet</td>\n",
              "      <td>19</td>\n",
              "      <td>1</td>\n",
              "    </tr>\n",
              "    <tr>\n",
              "      <th>1</th>\n",
              "      <td>razer blackwidow chroma keyboard</td>\n",
              "      <td>3</td>\n",
              "      <td>Electronics/Computers &amp; Tablets/Components &amp; P...</td>\n",
              "      <td>Razer</td>\n",
              "      <td>52.0</td>\n",
              "      <td>0</td>\n",
              "      <td>this keyboard is in great condition and works ...</td>\n",
              "      <td>242</td>\n",
              "      <td>585</td>\n",
              "    </tr>\n",
              "    <tr>\n",
              "      <th>2</th>\n",
              "      <td>ava-viv blouse</td>\n",
              "      <td>1</td>\n",
              "      <td>Women/Tops &amp; Blouses/Blouse</td>\n",
              "      <td>Target</td>\n",
              "      <td>10.0</td>\n",
              "      <td>1</td>\n",
              "      <td>adorable top with a hint of lace and a key hol...</td>\n",
              "      <td>9</td>\n",
              "      <td>82</td>\n",
              "    </tr>\n",
              "    <tr>\n",
              "      <th>3</th>\n",
              "      <td>leather horse statues</td>\n",
              "      <td>1</td>\n",
              "      <td>Home/Home Décor/Home Décor Accents</td>\n",
              "      <td>NA</td>\n",
              "      <td>35.0</td>\n",
              "      <td>1</td>\n",
              "      <td>new with tags. leather horses. retail for [rm]...</td>\n",
              "      <td>28</td>\n",
              "      <td>1</td>\n",
              "    </tr>\n",
              "    <tr>\n",
              "      <th>4</th>\n",
              "      <td>24k gold plated rose</td>\n",
              "      <td>1</td>\n",
              "      <td>Women/Jewelry/Necklaces</td>\n",
              "      <td>NA</td>\n",
              "      <td>44.0</td>\n",
              "      <td>0</td>\n",
              "      <td>complete with certificate of authenticity</td>\n",
              "      <td>12</td>\n",
              "      <td>1</td>\n",
              "    </tr>\n",
              "  </tbody>\n",
              "</table>\n",
              "</div>"
            ],
            "text/plain": [
              "                                  name  ...  brand_name_l\n",
              "0  mlb cincinnati reds t shirt size xl  ...             1\n",
              "1     razer blackwidow chroma keyboard  ...           585\n",
              "2                       ava-viv blouse  ...            82\n",
              "3                leather horse statues  ...             1\n",
              "4                 24k gold plated rose  ...             1\n",
              "\n",
              "[5 rows x 9 columns]"
            ]
          },
          "metadata": {
            "tags": []
          },
          "execution_count": 17
        }
      ]
    },
    {
      "cell_type": "code",
      "metadata": {
        "colab": {
          "base_uri": "https://localhost:8080/"
        },
        "id": "GkS1a6HSHnmV",
        "outputId": "93caca3d-4be3-4905-ad00-5714fc01a2a1"
      },
      "source": [
        "tokenizer = Tokenizer(num_words=5000)\n",
        "\n",
        "texts = np.hstack([data[\"item_description\"], data[\"name\"]])\n",
        "tokenizer.fit_on_texts(texts)\n",
        "\n",
        "data[\"item_description_t\"]=tokenizer.texts_to_sequences(data[\"item_description\"])\n",
        "data[\"name_t\"]=tokenizer.texts_to_sequences(data[\"name\"])"
      ],
      "execution_count": null,
      "outputs": [
        {
          "output_type": "stream",
          "text": [
            "/usr/local/lib/python3.6/dist-packages/ipykernel_launcher.py:6: SettingWithCopyWarning: \n",
            "A value is trying to be set on a copy of a slice from a DataFrame.\n",
            "Try using .loc[row_indexer,col_indexer] = value instead\n",
            "\n",
            "See the caveats in the documentation: https://pandas.pydata.org/pandas-docs/stable/user_guide/indexing.html#returning-a-view-versus-a-copy\n",
            "  \n",
            "/usr/local/lib/python3.6/dist-packages/ipykernel_launcher.py:7: SettingWithCopyWarning: \n",
            "A value is trying to be set on a copy of a slice from a DataFrame.\n",
            "Try using .loc[row_indexer,col_indexer] = value instead\n",
            "\n",
            "See the caveats in the documentation: https://pandas.pydata.org/pandas-docs/stable/user_guide/indexing.html#returning-a-view-versus-a-copy\n",
            "  import sys\n"
          ],
          "name": "stderr"
        }
      ]
    },
    {
      "cell_type": "code",
      "metadata": {
        "colab": {
          "base_uri": "https://localhost:8080/",
          "height": 892
        },
        "id": "yoWprujJHnmW",
        "outputId": "0fcb0fa2-4287-4812-ad34-e43b051146ab"
      },
      "source": [
        "data"
      ],
      "execution_count": null,
      "outputs": [
        {
          "output_type": "execute_result",
          "data": {
            "text/html": [
              "<div>\n",
              "<style scoped>\n",
              "    .dataframe tbody tr th:only-of-type {\n",
              "        vertical-align: middle;\n",
              "    }\n",
              "\n",
              "    .dataframe tbody tr th {\n",
              "        vertical-align: top;\n",
              "    }\n",
              "\n",
              "    .dataframe thead th {\n",
              "        text-align: right;\n",
              "    }\n",
              "</style>\n",
              "<table border=\"1\" class=\"dataframe\">\n",
              "  <thead>\n",
              "    <tr style=\"text-align: right;\">\n",
              "      <th></th>\n",
              "      <th>name</th>\n",
              "      <th>item_condition_id</th>\n",
              "      <th>category_name</th>\n",
              "      <th>brand_name</th>\n",
              "      <th>price</th>\n",
              "      <th>shipping</th>\n",
              "      <th>item_description</th>\n",
              "      <th>category_name_l</th>\n",
              "      <th>brand_name_l</th>\n",
              "      <th>item_description_t</th>\n",
              "      <th>name_t</th>\n",
              "    </tr>\n",
              "  </thead>\n",
              "  <tbody>\n",
              "    <tr>\n",
              "      <th>0</th>\n",
              "      <td>mlb cincinnati reds t shirt size xl</td>\n",
              "      <td>3</td>\n",
              "      <td>Men/Tops/T-shirts</td>\n",
              "      <td>NA</td>\n",
              "      <td>10.0</td>\n",
              "      <td>1</td>\n",
              "      <td>no description yet</td>\n",
              "      <td>19</td>\n",
              "      <td>1</td>\n",
              "      <td>[12, 68, 79]</td>\n",
              "      <td>[3852, 208, 84, 6, 155]</td>\n",
              "    </tr>\n",
              "    <tr>\n",
              "      <th>1</th>\n",
              "      <td>razer blackwidow chroma keyboard</td>\n",
              "      <td>3</td>\n",
              "      <td>Electronics/Computers &amp; Tablets/Components &amp; P...</td>\n",
              "      <td>Razer</td>\n",
              "      <td>52.0</td>\n",
              "      <td>0</td>\n",
              "      <td>this keyboard is in great condition and works ...</td>\n",
              "      <td>242</td>\n",
              "      <td>585</td>\n",
              "      <td>[29, 2627, 10, 7, 39, 17, 1, 207, 51, 19, 1113...</td>\n",
              "      <td>[2627]</td>\n",
              "    </tr>\n",
              "    <tr>\n",
              "      <th>2</th>\n",
              "      <td>ava-viv blouse</td>\n",
              "      <td>1</td>\n",
              "      <td>Women/Tops &amp; Blouses/Blouse</td>\n",
              "      <td>Target</td>\n",
              "      <td>10.0</td>\n",
              "      <td>1</td>\n",
              "      <td>adorable top with a hint of lace and a key hol...</td>\n",
              "      <td>9</td>\n",
              "      <td>82</td>\n",
              "      <td>[604, 60, 9, 4, 11, 192, 1, 4, 886, 1290, 7, 2...</td>\n",
              "      <td>[666]</td>\n",
              "    </tr>\n",
              "    <tr>\n",
              "      <th>3</th>\n",
              "      <td>leather horse statues</td>\n",
              "      <td>1</td>\n",
              "      <td>Home/Home Décor/Home Décor Accents</td>\n",
              "      <td>NA</td>\n",
              "      <td>35.0</td>\n",
              "      <td>1</td>\n",
              "      <td>new with tags. leather horses. retail for [rm]...</td>\n",
              "      <td>28</td>\n",
              "      <td>1</td>\n",
              "      <td>[5, 9, 61, 178, 230, 3, 21, 166, 1085, 222, 4,...</td>\n",
              "      <td>[178, 2610]</td>\n",
              "    </tr>\n",
              "    <tr>\n",
              "      <th>4</th>\n",
              "      <td>24k gold plated rose</td>\n",
              "      <td>1</td>\n",
              "      <td>Women/Jewelry/Necklaces</td>\n",
              "      <td>NA</td>\n",
              "      <td>44.0</td>\n",
              "      <td>0</td>\n",
              "      <td>complete with certificate of authenticity</td>\n",
              "      <td>12</td>\n",
              "      <td>1</td>\n",
              "      <td>[807, 9, 11, 1997]</td>\n",
              "      <td>[4884, 104, 1032, 280]</td>\n",
              "    </tr>\n",
              "    <tr>\n",
              "      <th>...</th>\n",
              "      <td>...</td>\n",
              "      <td>...</td>\n",
              "      <td>...</td>\n",
              "      <td>...</td>\n",
              "      <td>...</td>\n",
              "      <td>...</td>\n",
              "      <td>...</td>\n",
              "      <td>...</td>\n",
              "      <td>...</td>\n",
              "      <td>...</td>\n",
              "      <td>...</td>\n",
              "    </tr>\n",
              "    <tr>\n",
              "      <th>1482530</th>\n",
              "      <td>free people inspired dress</td>\n",
              "      <td>2</td>\n",
              "      <td>Women/Dresses/Mid-Calf</td>\n",
              "      <td>Free People</td>\n",
              "      <td>20.0</td>\n",
              "      <td>1</td>\n",
              "      <td>lace, says size small but fits medium perfectl...</td>\n",
              "      <td>247</td>\n",
              "      <td>46</td>\n",
              "      <td>[192, 690, 6, 44, 38, 160, 69, 710, 165, 36, 3...</td>\n",
              "      <td>[13, 573, 1667, 82]</td>\n",
              "    </tr>\n",
              "    <tr>\n",
              "      <th>1482531</th>\n",
              "      <td>little mermaid handmade dress</td>\n",
              "      <td>2</td>\n",
              "      <td>Kids/Girls 2T-5T/Dresses</td>\n",
              "      <td>Disney</td>\n",
              "      <td>14.0</td>\n",
              "      <td>0</td>\n",
              "      <td>little mermaid handmade dress never worn size 2t</td>\n",
              "      <td>126</td>\n",
              "      <td>15</td>\n",
              "      <td>[156, 1321, 693, 82, 36, 30, 6, 1000]</td>\n",
              "      <td>[156, 1321, 693, 82]</td>\n",
              "    </tr>\n",
              "    <tr>\n",
              "      <th>1482532</th>\n",
              "      <td>21 day fix containers and eating plan</td>\n",
              "      <td>2</td>\n",
              "      <td>Sports &amp; Outdoors/Exercise/Fitness accessories</td>\n",
              "      <td>NA</td>\n",
              "      <td>12.0</td>\n",
              "      <td>0</td>\n",
              "      <td>used once or twice, still in great shape.</td>\n",
              "      <td>86</td>\n",
              "      <td>1</td>\n",
              "      <td>[31, 96, 23, 356, 121, 7, 39, 385]</td>\n",
              "      <td>[293, 117, 1526, 2496, 1, 3693]</td>\n",
              "    </tr>\n",
              "    <tr>\n",
              "      <th>1482533</th>\n",
              "      <td>world markets lanterns</td>\n",
              "      <td>3</td>\n",
              "      <td>Home/Home Décor/Home Décor Accents</td>\n",
              "      <td>NA</td>\n",
              "      <td>45.0</td>\n",
              "      <td>1</td>\n",
              "      <td>there is 2 of each one that you see! so 2 red ...</td>\n",
              "      <td>28</td>\n",
              "      <td>1</td>\n",
              "      <td>[240, 10, 22, 11, 166, 46, 78, 18, 138, 76, 22...</td>\n",
              "      <td>[1370]</td>\n",
              "    </tr>\n",
              "    <tr>\n",
              "      <th>1482534</th>\n",
              "      <td>brand new lux de ville wallet</td>\n",
              "      <td>1</td>\n",
              "      <td>Women/Women's Accessories/Wallets</td>\n",
              "      <td>NA</td>\n",
              "      <td>22.0</td>\n",
              "      <td>0</td>\n",
              "      <td>new with tag, red with sparkle. firm price, no...</td>\n",
              "      <td>26</td>\n",
              "      <td>1</td>\n",
              "      <td>[5, 9, 188, 118, 9, 1619, 74, 41, 12, 13, 20]</td>\n",
              "      <td>[16, 5, 1195, 298]</td>\n",
              "    </tr>\n",
              "  </tbody>\n",
              "</table>\n",
              "<p>1482531 rows × 11 columns</p>\n",
              "</div>"
            ],
            "text/plain": [
              "                                          name  ...                           name_t\n",
              "0          mlb cincinnati reds t shirt size xl  ...          [3852, 208, 84, 6, 155]\n",
              "1             razer blackwidow chroma keyboard  ...                           [2627]\n",
              "2                               ava-viv blouse  ...                            [666]\n",
              "3                        leather horse statues  ...                      [178, 2610]\n",
              "4                         24k gold plated rose  ...           [4884, 104, 1032, 280]\n",
              "...                                        ...  ...                              ...\n",
              "1482530             free people inspired dress  ...              [13, 573, 1667, 82]\n",
              "1482531          little mermaid handmade dress  ...             [156, 1321, 693, 82]\n",
              "1482532  21 day fix containers and eating plan  ...  [293, 117, 1526, 2496, 1, 3693]\n",
              "1482533                 world markets lanterns  ...                           [1370]\n",
              "1482534          brand new lux de ville wallet  ...               [16, 5, 1195, 298]\n",
              "\n",
              "[1482531 rows x 11 columns]"
            ]
          },
          "metadata": {
            "tags": []
          },
          "execution_count": 20
        }
      ]
    },
    {
      "cell_type": "code",
      "metadata": {
        "colab": {
          "base_uri": "https://localhost:8080/",
          "height": 399
        },
        "id": "UPSDnO6uHnmX",
        "outputId": "020f6163-7ad1-4c97-f31a-96a8485135f9"
      },
      "source": [
        "final_data=data[[\"item_condition_id\",\"shipping\",\"category_name_l\",\"brand_name_l\", \"item_description_t\", \"name_t\", \"price\"]]\n",
        "final_data"
      ],
      "execution_count": null,
      "outputs": [
        {
          "output_type": "execute_result",
          "data": {
            "text/html": [
              "<div>\n",
              "<style scoped>\n",
              "    .dataframe tbody tr th:only-of-type {\n",
              "        vertical-align: middle;\n",
              "    }\n",
              "\n",
              "    .dataframe tbody tr th {\n",
              "        vertical-align: top;\n",
              "    }\n",
              "\n",
              "    .dataframe thead th {\n",
              "        text-align: right;\n",
              "    }\n",
              "</style>\n",
              "<table border=\"1\" class=\"dataframe\">\n",
              "  <thead>\n",
              "    <tr style=\"text-align: right;\">\n",
              "      <th></th>\n",
              "      <th>item_condition_id</th>\n",
              "      <th>shipping</th>\n",
              "      <th>category_name_l</th>\n",
              "      <th>brand_name_l</th>\n",
              "      <th>item_description_t</th>\n",
              "      <th>name_t</th>\n",
              "      <th>price</th>\n",
              "    </tr>\n",
              "  </thead>\n",
              "  <tbody>\n",
              "    <tr>\n",
              "      <th>0</th>\n",
              "      <td>3</td>\n",
              "      <td>1</td>\n",
              "      <td>19</td>\n",
              "      <td>1</td>\n",
              "      <td>[12, 68, 79]</td>\n",
              "      <td>[3852, 208, 84, 6, 155]</td>\n",
              "      <td>10.0</td>\n",
              "    </tr>\n",
              "    <tr>\n",
              "      <th>1</th>\n",
              "      <td>3</td>\n",
              "      <td>0</td>\n",
              "      <td>242</td>\n",
              "      <td>585</td>\n",
              "      <td>[29, 2627, 10, 7, 39, 17, 1, 207, 51, 19, 1113...</td>\n",
              "      <td>[2627]</td>\n",
              "      <td>52.0</td>\n",
              "    </tr>\n",
              "    <tr>\n",
              "      <th>2</th>\n",
              "      <td>1</td>\n",
              "      <td>1</td>\n",
              "      <td>9</td>\n",
              "      <td>82</td>\n",
              "      <td>[604, 60, 9, 4, 11, 192, 1, 4, 886, 1290, 7, 2...</td>\n",
              "      <td>[666]</td>\n",
              "      <td>10.0</td>\n",
              "    </tr>\n",
              "    <tr>\n",
              "      <th>3</th>\n",
              "      <td>1</td>\n",
              "      <td>1</td>\n",
              "      <td>28</td>\n",
              "      <td>1</td>\n",
              "      <td>[5, 9, 61, 178, 230, 3, 21, 166, 1085, 222, 4,...</td>\n",
              "      <td>[178, 2610]</td>\n",
              "      <td>35.0</td>\n",
              "    </tr>\n",
              "    <tr>\n",
              "      <th>4</th>\n",
              "      <td>1</td>\n",
              "      <td>0</td>\n",
              "      <td>12</td>\n",
              "      <td>1</td>\n",
              "      <td>[807, 9, 11, 1997]</td>\n",
              "      <td>[4884, 104, 1032, 280]</td>\n",
              "      <td>44.0</td>\n",
              "    </tr>\n",
              "    <tr>\n",
              "      <th>...</th>\n",
              "      <td>...</td>\n",
              "      <td>...</td>\n",
              "      <td>...</td>\n",
              "      <td>...</td>\n",
              "      <td>...</td>\n",
              "      <td>...</td>\n",
              "      <td>...</td>\n",
              "    </tr>\n",
              "    <tr>\n",
              "      <th>1482530</th>\n",
              "      <td>2</td>\n",
              "      <td>1</td>\n",
              "      <td>247</td>\n",
              "      <td>46</td>\n",
              "      <td>[192, 690, 6, 44, 38, 160, 69, 710, 165, 36, 3...</td>\n",
              "      <td>[13, 573, 1667, 82]</td>\n",
              "      <td>20.0</td>\n",
              "    </tr>\n",
              "    <tr>\n",
              "      <th>1482531</th>\n",
              "      <td>2</td>\n",
              "      <td>0</td>\n",
              "      <td>126</td>\n",
              "      <td>15</td>\n",
              "      <td>[156, 1321, 693, 82, 36, 30, 6, 1000]</td>\n",
              "      <td>[156, 1321, 693, 82]</td>\n",
              "      <td>14.0</td>\n",
              "    </tr>\n",
              "    <tr>\n",
              "      <th>1482532</th>\n",
              "      <td>2</td>\n",
              "      <td>0</td>\n",
              "      <td>86</td>\n",
              "      <td>1</td>\n",
              "      <td>[31, 96, 23, 356, 121, 7, 39, 385]</td>\n",
              "      <td>[293, 117, 1526, 2496, 1, 3693]</td>\n",
              "      <td>12.0</td>\n",
              "    </tr>\n",
              "    <tr>\n",
              "      <th>1482533</th>\n",
              "      <td>3</td>\n",
              "      <td>1</td>\n",
              "      <td>28</td>\n",
              "      <td>1</td>\n",
              "      <td>[240, 10, 22, 11, 166, 46, 78, 18, 138, 76, 22...</td>\n",
              "      <td>[1370]</td>\n",
              "      <td>45.0</td>\n",
              "    </tr>\n",
              "    <tr>\n",
              "      <th>1482534</th>\n",
              "      <td>1</td>\n",
              "      <td>0</td>\n",
              "      <td>26</td>\n",
              "      <td>1</td>\n",
              "      <td>[5, 9, 188, 118, 9, 1619, 74, 41, 12, 13, 20]</td>\n",
              "      <td>[16, 5, 1195, 298]</td>\n",
              "      <td>22.0</td>\n",
              "    </tr>\n",
              "  </tbody>\n",
              "</table>\n",
              "<p>1482531 rows × 7 columns</p>\n",
              "</div>"
            ],
            "text/plain": [
              "         item_condition_id  shipping  ...                           name_t  price\n",
              "0                        3         1  ...          [3852, 208, 84, 6, 155]   10.0\n",
              "1                        3         0  ...                           [2627]   52.0\n",
              "2                        1         1  ...                            [666]   10.0\n",
              "3                        1         1  ...                      [178, 2610]   35.0\n",
              "4                        1         0  ...           [4884, 104, 1032, 280]   44.0\n",
              "...                    ...       ...  ...                              ...    ...\n",
              "1482530                  2         1  ...              [13, 573, 1667, 82]   20.0\n",
              "1482531                  2         0  ...             [156, 1321, 693, 82]   14.0\n",
              "1482532                  2         0  ...  [293, 117, 1526, 2496, 1, 3693]   12.0\n",
              "1482533                  3         1  ...                           [1370]   45.0\n",
              "1482534                  1         0  ...               [16, 5, 1195, 298]   22.0\n",
              "\n",
              "[1482531 rows x 7 columns]"
            ]
          },
          "metadata": {
            "tags": []
          },
          "execution_count": 21
        }
      ]
    },
    {
      "cell_type": "code",
      "metadata": {
        "id": "siBwn0ntHnmY"
      },
      "source": [
        "train, validation = train_test_split(final_data, test_size=0.2, random_state=1000)"
      ],
      "execution_count": null,
      "outputs": []
    },
    {
      "cell_type": "code",
      "metadata": {
        "id": "BZkjRq5d3yTP"
      },
      "source": [
        "'''X = data[['name', 'item_condition_id', 'category_name', 'brand_name',\n",
        "       'shipping','item_description']]\n",
        "y = data['price']'''"
      ],
      "execution_count": null,
      "outputs": []
    },
    {
      "cell_type": "code",
      "metadata": {
        "id": "_CJ0g0Ou3yTP"
      },
      "source": [
        "'''X_train, X_test, y_train, y_test = train_test_split(X, y, test_size=0.25, random_state=1000)\n",
        "X_train, X_validation, y_train, y_validation = train_test_split(X_train, y_train, test_size=0.2, random_state=1000)'''"
      ],
      "execution_count": null,
      "outputs": []
    },
    {
      "cell_type": "code",
      "metadata": {
        "id": "GBwuL7ah3yTQ"
      },
      "source": [
        "#tokenizers = {}"
      ],
      "execution_count": null,
      "outputs": []
    },
    {
      "cell_type": "code",
      "metadata": {
        "id": "lg4CyT1Z3yTQ"
      },
      "source": [
        "#X_train[\"item_description_t\"], tokenizers[\"item_description\"] = getTokens(X_train[\"item_description\"])\n",
        "#X_train[\"name_t\"], tokenizers[\"name\"] = getTokens(X_train[\"name\"])"
      ],
      "execution_count": null,
      "outputs": []
    },
    {
      "cell_type": "code",
      "metadata": {
        "id": "gHbIyMAi8_Wl"
      },
      "source": [
        "#X_validation[\"item_description_t\"], _ = getTokens(X_validation[\"item_description\"], tokenizer=tokenizers[\"item_description\"])\n",
        "#X_validation[\"name_t\"], _ = getTokens(X_validation[\"name\"], tokenizer=tokenizers[\"name\"])"
      ],
      "execution_count": null,
      "outputs": []
    },
    {
      "cell_type": "code",
      "metadata": {
        "colab": {
          "base_uri": "https://localhost:8080/"
        },
        "id": "0Lc7bahI3yTQ",
        "outputId": "fb395885-d2f8-4056-86b0-465b50cc7451"
      },
      "source": [
        "#tokenizers"
      ],
      "execution_count": null,
      "outputs": [
        {
          "output_type": "execute_result",
          "data": {
            "text/plain": [
              "{'item_description': <keras_preprocessing.text.Tokenizer at 0x7f2734683828>,\n",
              " 'name': <keras_preprocessing.text.Tokenizer at 0x7f27358e7128>}"
            ]
          },
          "metadata": {
            "tags": []
          },
          "execution_count": 26
        }
      ]
    },
    {
      "cell_type": "code",
      "metadata": {
        "colab": {
          "base_uri": "https://localhost:8080/"
        },
        "id": "-4IHUS1O3yTR",
        "outputId": "4d6fbcae-819f-4175-ea69-d6a95798feb3"
      },
      "source": [
        "#X_train[\"item_description_t\"]"
      ],
      "execution_count": null,
      "outputs": [
        {
          "output_type": "execute_result",
          "data": {
            "text/plain": [
              "995196     [6, 5, 144, 279, 173, 979, 84, 135, 173, 657, ...\n",
              "28823      [685, 1020, 340, 78, 306, 50, 6, 281, 90, 2526...\n",
              "661855     [27, 17, 136, 170, 194, 1102, 613, 188, 759, 6...\n",
              "733730     [5, 444, 1202, 99, 16, 86, 177, 16, 12, 165, 1...\n",
              "807837     [27, 106, 497, 11, 435, 117, 235, 4571, 682, 2...\n",
              "                                 ...                        \n",
              "371719                              [9, 83, 232, 35, 32, 26]\n",
              "1311257    [3867, 3867, 2095, 23, 3, 146, 3928, 2, 1827, ...\n",
              "404942                     [6, 49, 540, 167, 41, 1340, 1878]\n",
              "242521     [200, 128, 69, 2977, 124, 234, 362, 96, 133, 9...\n",
              "371320     [2, 1450, 761, 2116, 5, 10, 3, 153, 494, 494, ...\n",
              "Name: item_description_t, Length: 889518, dtype: object"
            ]
          },
          "metadata": {
            "tags": []
          },
          "execution_count": 27
        }
      ]
    },
    {
      "cell_type": "code",
      "metadata": {
        "id": "b81R6-EsKsmF"
      },
      "source": [
        "#X_validation[\"category_name_l\"] = cat_le.transform(X_validation[\"category_name\"])"
      ],
      "execution_count": null,
      "outputs": []
    },
    {
      "cell_type": "code",
      "metadata": {
        "id": "H-zi4cpSK1kA"
      },
      "source": [
        "#X_validation[\"brand_name_l\"] = brand_le.transform(X_validation[\"brand_name\"])"
      ],
      "execution_count": null,
      "outputs": []
    },
    {
      "cell_type": "code",
      "metadata": {
        "id": "I8J8tdJ33yTS"
      },
      "source": [
        "#len(tokenizers[\"item_description\"].word_index)"
      ],
      "execution_count": null,
      "outputs": []
    },
    {
      "cell_type": "code",
      "metadata": {
        "id": "AUGQ6wIZ3yTS"
      },
      "source": [
        "# unknown values !!! now -> crash"
      ],
      "execution_count": null,
      "outputs": []
    },
    {
      "cell_type": "code",
      "metadata": {
        "colab": {
          "base_uri": "https://localhost:8080/"
        },
        "id": "WdMZOVTh3yTT",
        "outputId": "37d7d7e7-bb07-4626-ad1e-5c6b4c015594"
      },
      "source": [
        "#X_train.loc[995196, [\"name\", \"name_t\"]]"
      ],
      "execution_count": null,
      "outputs": [
        {
          "output_type": "execute_result",
          "data": {
            "text/plain": [
              "name      PINK❤️warm and cozy mist/lotion set\n",
              "name_t                [9, 1995, 431, 288, 17]\n",
              "Name: 995196, dtype: object"
            ]
          },
          "metadata": {
            "tags": []
          },
          "execution_count": 76
        }
      ]
    },
    {
      "cell_type": "code",
      "metadata": {
        "colab": {
          "base_uri": "https://localhost:8080/",
          "height": 289
        },
        "id": "SG-oJkvN3yTU",
        "outputId": "22848494-22d8-41bf-cfb9-b62c2e487b3b"
      },
      "source": [
        "#X_train.head()"
      ],
      "execution_count": null,
      "outputs": [
        {
          "output_type": "execute_result",
          "data": {
            "text/html": [
              "<div>\n",
              "<style scoped>\n",
              "    .dataframe tbody tr th:only-of-type {\n",
              "        vertical-align: middle;\n",
              "    }\n",
              "\n",
              "    .dataframe tbody tr th {\n",
              "        vertical-align: top;\n",
              "    }\n",
              "\n",
              "    .dataframe thead th {\n",
              "        text-align: right;\n",
              "    }\n",
              "</style>\n",
              "<table border=\"1\" class=\"dataframe\">\n",
              "  <thead>\n",
              "    <tr style=\"text-align: right;\">\n",
              "      <th></th>\n",
              "      <th>name</th>\n",
              "      <th>item_condition_id</th>\n",
              "      <th>category_name</th>\n",
              "      <th>brand_name</th>\n",
              "      <th>shipping</th>\n",
              "      <th>item_description</th>\n",
              "      <th>item_description_t</th>\n",
              "      <th>name_t</th>\n",
              "      <th>category_name_l</th>\n",
              "      <th>brand_name_l</th>\n",
              "    </tr>\n",
              "  </thead>\n",
              "  <tbody>\n",
              "    <tr>\n",
              "      <th>995196</th>\n",
              "      <td>PINK❤️warm and cozy mist/lotion set</td>\n",
              "      <td>1</td>\n",
              "      <td>Beauty/Fragrance/Women</td>\n",
              "      <td>Victoria's Secret</td>\n",
              "      <td>0</td>\n",
              "      <td>New in original packaging -Body mist 250ml/8.4...</td>\n",
              "      <td>[6, 5, 144, 279, 173, 979, 84, 135, 173, 657, ...</td>\n",
              "      <td>[9, 1995, 431, 288, 17]</td>\n",
              "      <td>16</td>\n",
              "      <td>4</td>\n",
              "    </tr>\n",
              "    <tr>\n",
              "      <th>28823</th>\n",
              "      <td>18 min vest</td>\n",
              "      <td>3</td>\n",
              "      <td>Kids/Girls 0-24 Mos/One-Pieces</td>\n",
              "      <td>NA</td>\n",
              "      <td>1</td>\n",
              "      <td>Faux fur zipper up best like new Purchased at ...</td>\n",
              "      <td>[685, 1020, 340, 78, 306, 50, 6, 281, 90, 2526...</td>\n",
              "      <td>[234, 276]</td>\n",
              "      <td>68</td>\n",
              "      <td>1</td>\n",
              "    </tr>\n",
              "    <tr>\n",
              "      <th>661855</th>\n",
              "      <td>Artsy stylish leather purse &amp; pouch</td>\n",
              "      <td>3</td>\n",
              "      <td>Handmade/Bags and Purses/Purse</td>\n",
              "      <td>NA</td>\n",
              "      <td>0</td>\n",
              "      <td>Used condition cowhide high quality leather!! ...</td>\n",
              "      <td>[27, 17, 136, 170, 194, 1102, 613, 188, 759, 6...</td>\n",
              "      <td>[3172, 118, 83, 922]</td>\n",
              "      <td>189</td>\n",
              "      <td>1</td>\n",
              "    </tr>\n",
              "    <tr>\n",
              "      <th>733730</th>\n",
              "      <td>Decor pillows</td>\n",
              "      <td>2</td>\n",
              "      <td>Home/Home Décor/Decorative Pillows</td>\n",
              "      <td>NA</td>\n",
              "      <td>0</td>\n",
              "      <td>In mint conditions Smoke free home Pet free No...</td>\n",
              "      <td>[5, 444, 1202, 99, 16, 86, 177, 16, 12, 165, 1...</td>\n",
              "      <td>[599, 2390]</td>\n",
              "      <td>261</td>\n",
              "      <td>1</td>\n",
              "    </tr>\n",
              "    <tr>\n",
              "      <th>807837</th>\n",
              "      <td>IF NOT SOLD DONATING 2/6</td>\n",
              "      <td>4</td>\n",
              "      <td>Men/Shoes/Outdoor</td>\n",
              "      <td>Oakley</td>\n",
              "      <td>0</td>\n",
              "      <td>Used still lots of life...see pictures...Oakle...</td>\n",
              "      <td>[27, 106, 497, 11, 435, 117, 235, 4571, 682, 2...</td>\n",
              "      <td>[4155, 630, 1029, 11, 20]</td>\n",
              "      <td>732</td>\n",
              "      <td>172</td>\n",
              "    </tr>\n",
              "  </tbody>\n",
              "</table>\n",
              "</div>"
            ],
            "text/plain": [
              "                                       name  ...  brand_name_l\n",
              "995196  PINK❤️warm and cozy mist/lotion set  ...             4\n",
              "28823                           18 min vest  ...             1\n",
              "661855  Artsy stylish leather purse & pouch  ...             1\n",
              "733730                        Decor pillows  ...             1\n",
              "807837             IF NOT SOLD DONATING 2/6  ...           172\n",
              "\n",
              "[5 rows x 10 columns]"
            ]
          },
          "metadata": {
            "tags": []
          },
          "execution_count": 77
        }
      ]
    },
    {
      "cell_type": "code",
      "metadata": {
        "colab": {
          "base_uri": "https://localhost:8080/"
        },
        "id": "5W0A95PQEDb_",
        "outputId": "083cdf6c-255d-47d7-ec00-c6f805409a66"
      },
      "source": [
        "'''desc_vocab_size = len(t['item_description'].word_index) + 1\n",
        "print(desc_vocab_size)\n",
        "\n",
        "name_vocab_size = len(t['name'].word_index) + 1\n",
        "print(name_vocab_size)'''\n",
        "vocab_size= len(tokenizer.word_index)+1\n",
        "print(vocab_size)"
      ],
      "execution_count": null,
      "outputs": [
        {
          "output_type": "stream",
          "text": [
            "259088\n"
          ],
          "name": "stdout"
        }
      ]
    },
    {
      "cell_type": "code",
      "metadata": {
        "colab": {
          "base_uri": "https://localhost:8080/"
        },
        "id": "fTMf850Y3yTU",
        "outputId": "1154e6d9-1914-4edd-959c-e83519d5771d"
      },
      "source": [
        "#X_train[\"item_description_t\"]"
      ],
      "execution_count": null,
      "outputs": [
        {
          "output_type": "execute_result",
          "data": {
            "text/plain": [
              "995196     [6, 5, 144, 279, 173, 979, 84, 135, 173, 657, ...\n",
              "28823      [685, 1020, 340, 78, 306, 50, 6, 281, 90, 2526...\n",
              "661855     [27, 17, 136, 170, 194, 1102, 613, 188, 759, 6...\n",
              "733730     [5, 444, 1202, 99, 16, 86, 177, 16, 12, 165, 1...\n",
              "807837     [27, 106, 497, 11, 435, 117, 235, 4571, 682, 2...\n",
              "                                 ...                        \n",
              "371719                              [9, 83, 232, 35, 32, 26]\n",
              "1311257    [3867, 3867, 2095, 23, 3, 146, 3928, 2, 1827, ...\n",
              "404942                     [6, 49, 540, 167, 41, 1340, 1878]\n",
              "242521     [200, 128, 69, 2977, 124, 234, 362, 96, 133, 9...\n",
              "371320     [2, 1450, 761, 2116, 5, 10, 3, 153, 494, 494, ...\n",
              "Name: item_description_t, Length: 889518, dtype: object"
            ]
          },
          "metadata": {
            "tags": []
          },
          "execution_count": 79
        }
      ]
    },
    {
      "cell_type": "code",
      "metadata": {
        "id": "wGmnn5zJq3uK"
      },
      "source": [
        "def lengthCumDistribution(data, threshold=0.8):\n",
        "  lengths = data.apply(lambda x: len(x))\n",
        "  lengthsHist = lengths.hist\n",
        "  lengthsFreq = lengths.value_counts().sort_index()\n",
        "  lengthsFreqNormalized = lengthsFreq / sum(lengthsFreq)\n",
        "  lengthsCumFreq = lengthsFreqNormalized.cumsum()\n",
        "\n",
        "  index = lengthsCumFreq.where(lengthsCumFreq >= threshold).first_valid_index()\n",
        "\n",
        "  cumPlot = lengthsCumFreq.plot\n",
        "\n",
        "  return index, lengthsCumFreq, cumPlot, lengthsHist"
      ],
      "execution_count": null,
      "outputs": []
    },
    {
      "cell_type": "code",
      "metadata": {
        "colab": {
          "base_uri": "https://localhost:8080/",
          "height": 299
        },
        "id": "ffJDQoivrt4s",
        "outputId": "42688ad9-892f-49d3-f69c-8ff00f9e51d6"
      },
      "source": [
        "name_length_max, name_length_distr, name_length_dplot, name_length_hist = lengthCumDistribution(X_train[\"name_t\"])\n",
        "print('name length max', name_length_max)\n",
        "name_length_dplot()"
      ],
      "execution_count": null,
      "outputs": [
        {
          "output_type": "stream",
          "text": [
            "name length max 6\n"
          ],
          "name": "stdout"
        },
        {
          "output_type": "execute_result",
          "data": {
            "text/plain": [
              "<matplotlib.axes._subplots.AxesSubplot at 0x7f27108727b8>"
            ]
          },
          "metadata": {
            "tags": []
          },
          "execution_count": 81
        },
        {
          "output_type": "display_data",
          "data": {
            "image/png": "[encoded data removed]",
            "text/plain": [
              "<Figure size 432x288 with 1 Axes>"
            ]
          },
          "metadata": {
            "tags": []
          }
        }
      ]
    },
    {
      "cell_type": "code",
      "metadata": {
        "colab": {
          "base_uri": "https://localhost:8080/",
          "height": 282
        },
        "id": "BRSiAJ7uuP58",
        "outputId": "398e52dc-b161-4eaa-e7ba-fffad0d67115"
      },
      "source": [
        "name_length_hist()"
      ],
      "execution_count": null,
      "outputs": [
        {
          "output_type": "execute_result",
          "data": {
            "text/plain": [
              "<matplotlib.axes._subplots.AxesSubplot at 0x7f27109011d0>"
            ]
          },
          "metadata": {
            "tags": []
          },
          "execution_count": 82
        },
        {
          "output_type": "display_data",
          "data": {
            "image/png": "[encoded data removed]",
            "text/plain": [
              "<Figure size 432x288 with 1 Axes>"
            ]
          },
          "metadata": {
            "tags": []
          }
        }
      ]
    },
    {
      "cell_type": "code",
      "metadata": {
        "colab": {
          "base_uri": "https://localhost:8080/",
          "height": 299
        },
        "id": "l_mrckzhuEBK",
        "outputId": "162d8a8a-2fda-4308-d7a4-d8dfbbf087bf"
      },
      "source": [
        "desc_length_max, desc_length_distr, desc_length_dplot, desc_length_hist = lengthCumDistribution(X_train[\"item_description_t\"])\n",
        "print('name length max', desc_length_max)\n",
        "desc_length_dplot()"
      ],
      "execution_count": null,
      "outputs": [
        {
          "output_type": "stream",
          "text": [
            "name length max 35\n"
          ],
          "name": "stdout"
        },
        {
          "output_type": "execute_result",
          "data": {
            "text/plain": [
              "<matplotlib.axes._subplots.AxesSubplot at 0x7f270f0096a0>"
            ]
          },
          "metadata": {
            "tags": []
          },
          "execution_count": 83
        },
        {
          "output_type": "display_data",
          "data": {
            "image/png": "[encoded data removed]",
            "text/plain": [
              "<Figure size 432x288 with 1 Axes>"
            ]
          },
          "metadata": {
            "tags": []
          }
        }
      ]
    },
    {
      "cell_type": "code",
      "metadata": {
        "colab": {
          "base_uri": "https://localhost:8080/",
          "height": 282
        },
        "id": "V7hbua5bsM9C",
        "outputId": "de23ad2c-173b-4436-9244-17b7fbc8f838"
      },
      "source": [
        "desc_length_hist()"
      ],
      "execution_count": null,
      "outputs": [
        {
          "output_type": "execute_result",
          "data": {
            "text/plain": [
              "<matplotlib.axes._subplots.AxesSubplot at 0x7f27107babe0>"
            ]
          },
          "metadata": {
            "tags": []
          },
          "execution_count": 84
        },
        {
          "output_type": "display_data",
          "data": {
            "image/png": "[encoded data removed]",
            "text/plain": [
              "<Figure size 432x288 with 1 Axes>"
            ]
          },
          "metadata": {
            "tags": []
          }
        }
      ]
    },
    {
      "cell_type": "code",
      "metadata": {
        "colab": {
          "base_uri": "https://localhost:8080/",
          "height": 399
        },
        "id": "cVKaHBR0QPgs",
        "outputId": "50099141-2b3b-4045-90b7-f03db7d20e6c"
      },
      "source": [
        "train[[\"item_description_t\",\"name_t\"]]"
      ],
      "execution_count": null,
      "outputs": [
        {
          "output_type": "execute_result",
          "data": {
            "text/html": [
              "<div>\n",
              "<style scoped>\n",
              "    .dataframe tbody tr th:only-of-type {\n",
              "        vertical-align: middle;\n",
              "    }\n",
              "\n",
              "    .dataframe tbody tr th {\n",
              "        vertical-align: top;\n",
              "    }\n",
              "\n",
              "    .dataframe thead th {\n",
              "        text-align: right;\n",
              "    }\n",
              "</style>\n",
              "<table border=\"1\" class=\"dataframe\">\n",
              "  <thead>\n",
              "    <tr style=\"text-align: right;\">\n",
              "      <th></th>\n",
              "      <th>item_description_t</th>\n",
              "      <th>name_t</th>\n",
              "    </tr>\n",
              "  </thead>\n",
              "  <tbody>\n",
              "    <tr>\n",
              "      <th>1095625</th>\n",
              "      <td>315</td>\n",
              "      <td>[553, 569, 791, 101]</td>\n",
              "    </tr>\n",
              "    <tr>\n",
              "      <th>633753</th>\n",
              "      <td>36</td>\n",
              "      <td>[105, 1653]</td>\n",
              "    </tr>\n",
              "    <tr>\n",
              "      <th>1397300</th>\n",
              "      <td>200</td>\n",
              "      <td>[480, 512]</td>\n",
              "    </tr>\n",
              "    <tr>\n",
              "      <th>417395</th>\n",
              "      <td>875</td>\n",
              "      <td>[875, 823, 2222]</td>\n",
              "    </tr>\n",
              "    <tr>\n",
              "      <th>34778</th>\n",
              "      <td>12</td>\n",
              "      <td>[1175, 1611, 259, 303, 256]</td>\n",
              "    </tr>\n",
              "    <tr>\n",
              "      <th>...</th>\n",
              "      <td>...</td>\n",
              "      <td>...</td>\n",
              "    </tr>\n",
              "    <tr>\n",
              "      <th>18782</th>\n",
              "      <td>24</td>\n",
              "      <td>[283, 2226]</td>\n",
              "    </tr>\n",
              "    <tr>\n",
              "      <th>376059</th>\n",
              "      <td>56</td>\n",
              "      <td>[3786, 2040, 1022]</td>\n",
              "    </tr>\n",
              "    <tr>\n",
              "      <th>134848</th>\n",
              "      <td>235</td>\n",
              "      <td>[134, 2956, 174, 24, 2350, 244, 1264]</td>\n",
              "    </tr>\n",
              "    <tr>\n",
              "      <th>1120329</th>\n",
              "      <td>230</td>\n",
              "      <td>[230, 21, 1392]</td>\n",
              "    </tr>\n",
              "    <tr>\n",
              "      <th>1156533</th>\n",
              "      <td>13</td>\n",
              "      <td>[13, 20, 16, 5, 2566, 2445]</td>\n",
              "    </tr>\n",
              "  </tbody>\n",
              "</table>\n",
              "<p>1186024 rows × 2 columns</p>\n",
              "</div>"
            ],
            "text/plain": [
              "         item_description_t                                 name_t\n",
              "1095625                 315                   [553, 569, 791, 101]\n",
              "633753                   36                            [105, 1653]\n",
              "1397300                 200                             [480, 512]\n",
              "417395                  875                       [875, 823, 2222]\n",
              "34778                    12            [1175, 1611, 259, 303, 256]\n",
              "...                     ...                                    ...\n",
              "18782                    24                            [283, 2226]\n",
              "376059                   56                     [3786, 2040, 1022]\n",
              "134848                  235  [134, 2956, 174, 24, 2350, 244, 1264]\n",
              "1120329                 230                        [230, 21, 1392]\n",
              "1156533                  13            [13, 20, 16, 5, 2566, 2445]\n",
              "\n",
              "[1186024 rows x 2 columns]"
            ]
          },
          "metadata": {
            "tags": []
          },
          "execution_count": 38
        }
      ]
    },
    {
      "cell_type": "code",
      "metadata": {
        "id": "Y40ov-ULHtla"
      },
      "source": [
        "desc_length_max=75\n",
        "inputDesc_train = pad_sequences(train[\"item_description_t\"],\n",
        "                                                  padding='post', maxlen=desc_length_max)"
      ],
      "execution_count": null,
      "outputs": []
    },
    {
      "cell_type": "code",
      "metadata": {
        "id": "tky1YzlkB8U5"
      },
      "source": [
        "inputDesc_validation = pad_sequences(validation[\"item_description_t\"],\n",
        "                                                  padding='post', maxlen=desc_length_max)"
      ],
      "execution_count": null,
      "outputs": []
    },
    {
      "cell_type": "code",
      "metadata": {
        "id": "XBZIAP9n3yTU"
      },
      "source": [
        "name_length_max=10\r\n",
        "inputName_train = pad_sequences(train[\"name_t\"], padding='post', maxlen=name_length_max)"
      ],
      "execution_count": null,
      "outputs": []
    },
    {
      "cell_type": "code",
      "metadata": {
        "id": "1uhYXRYQCCHb"
      },
      "source": [
        "inputName_validation = pad_sequences(validation[\"name_t\"], padding='post', maxlen=name_length_max)"
      ],
      "execution_count": null,
      "outputs": []
    },
    {
      "cell_type": "code",
      "metadata": {
        "colab": {
          "base_uri": "https://localhost:8080/"
        },
        "id": "nFlm8Qqx-Qab",
        "outputId": "003574e8-0539-4be5-8c70-390646b4e732"
      },
      "source": [
        "y_train = train[\"price\"]\r\n",
        "y_train"
      ],
      "execution_count": null,
      "outputs": [
        {
          "output_type": "execute_result",
          "data": {
            "text/plain": [
              "1095625    35.0\n",
              "633753     13.0\n",
              "1397300    16.0\n",
              "417395     38.0\n",
              "34778      74.0\n",
              "           ... \n",
              "18782      12.0\n",
              "376059      6.0\n",
              "134848     23.0\n",
              "1120329    25.0\n",
              "1156533     6.0\n",
              "Name: price, Length: 1186024, dtype: float64"
            ]
          },
          "metadata": {
            "tags": []
          },
          "execution_count": 55
        }
      ]
    },
    {
      "cell_type": "code",
      "metadata": {
        "colab": {
          "base_uri": "https://localhost:8080/"
        },
        "id": "IkHBOiRXggJw",
        "outputId": "437becdf-8eb1-47c6-8bb6-456f251605ce"
      },
      "source": [
        "y_validation = validation[\"price\"]\r\n",
        "y_validation"
      ],
      "execution_count": null,
      "outputs": [
        {
          "output_type": "execute_result",
          "data": {
            "text/plain": [
              "197599      19.0\n",
              "678463       9.0\n",
              "630578     116.0\n",
              "470176      16.0\n",
              "1183785     13.0\n",
              "           ...  \n",
              "856621      12.0\n",
              "178114      13.0\n",
              "496647       4.0\n",
              "938510      18.0\n",
              "919189      25.0\n",
              "Name: price, Length: 296507, dtype: float64"
            ]
          },
          "metadata": {
            "tags": []
          },
          "execution_count": 57
        }
      ]
    },
    {
      "cell_type": "code",
      "metadata": {
        "id": "Y9tcLzah_V6w"
      },
      "source": [
        "class MeanStdScaler:\n",
        "  def __init__(self):\n",
        "    self.mean = 0\n",
        "    self.std = 1\n",
        "\n",
        "  def fit(self, data):\n",
        "    self.mean = np.mean(data)\n",
        "    self.std = np.std(data)\n",
        "\n",
        "  def transform(self, data):\n",
        "    return (data - self.mean) / self.std\n",
        "\n",
        "  def inverse_transform(self, data):\n",
        "    return (data * self.std) + self.mean"
      ],
      "execution_count": null,
      "outputs": []
    },
    {
      "cell_type": "code",
      "metadata": {
        "id": "BeZ-eTtF_qbU"
      },
      "source": [
        "y_scaler = MeanStdScaler()\n",
        "y_scaler.fit(y_train)"
      ],
      "execution_count": null,
      "outputs": []
    },
    {
      "cell_type": "code",
      "metadata": {
        "id": "U_lQI71yAXd0"
      },
      "source": [
        "y_train = y_scaler.transform(y_train)\n",
        "y_validation = y_scaler.transform(y_validation)"
      ],
      "execution_count": null,
      "outputs": []
    },
    {
      "cell_type": "code",
      "metadata": {
        "colab": {
          "base_uri": "https://localhost:8080/",
          "height": 419
        },
        "id": "fIGydn223yTW",
        "outputId": "6ef72f76-a844-4566-b0b4-674040fe0e44"
      },
      "source": [
        "X_train[[\"item_condition_id\", \"category_name_l\", \"brand_name_l\", \"shipping\"]]"
      ],
      "execution_count": null,
      "outputs": [
        {
          "output_type": "execute_result",
          "data": {
            "text/html": [
              "<div>\n",
              "<style scoped>\n",
              "    .dataframe tbody tr th:only-of-type {\n",
              "        vertical-align: middle;\n",
              "    }\n",
              "\n",
              "    .dataframe tbody tr th {\n",
              "        vertical-align: top;\n",
              "    }\n",
              "\n",
              "    .dataframe thead th {\n",
              "        text-align: right;\n",
              "    }\n",
              "</style>\n",
              "<table border=\"1\" class=\"dataframe\">\n",
              "  <thead>\n",
              "    <tr style=\"text-align: right;\">\n",
              "      <th></th>\n",
              "      <th>item_condition_id</th>\n",
              "      <th>category_name_l</th>\n",
              "      <th>brand_name_l</th>\n",
              "      <th>shipping</th>\n",
              "    </tr>\n",
              "  </thead>\n",
              "  <tbody>\n",
              "    <tr>\n",
              "      <th>995196</th>\n",
              "      <td>1</td>\n",
              "      <td>16</td>\n",
              "      <td>4</td>\n",
              "      <td>0</td>\n",
              "    </tr>\n",
              "    <tr>\n",
              "      <th>28823</th>\n",
              "      <td>3</td>\n",
              "      <td>68</td>\n",
              "      <td>1</td>\n",
              "      <td>1</td>\n",
              "    </tr>\n",
              "    <tr>\n",
              "      <th>661855</th>\n",
              "      <td>3</td>\n",
              "      <td>189</td>\n",
              "      <td>1</td>\n",
              "      <td>0</td>\n",
              "    </tr>\n",
              "    <tr>\n",
              "      <th>733730</th>\n",
              "      <td>2</td>\n",
              "      <td>261</td>\n",
              "      <td>1</td>\n",
              "      <td>0</td>\n",
              "    </tr>\n",
              "    <tr>\n",
              "      <th>807837</th>\n",
              "      <td>4</td>\n",
              "      <td>732</td>\n",
              "      <td>172</td>\n",
              "      <td>0</td>\n",
              "    </tr>\n",
              "    <tr>\n",
              "      <th>...</th>\n",
              "      <td>...</td>\n",
              "      <td>...</td>\n",
              "      <td>...</td>\n",
              "      <td>...</td>\n",
              "    </tr>\n",
              "    <tr>\n",
              "      <th>371719</th>\n",
              "      <td>2</td>\n",
              "      <td>435</td>\n",
              "      <td>58</td>\n",
              "      <td>0</td>\n",
              "    </tr>\n",
              "    <tr>\n",
              "      <th>1311257</th>\n",
              "      <td>1</td>\n",
              "      <td>31</td>\n",
              "      <td>208</td>\n",
              "      <td>0</td>\n",
              "    </tr>\n",
              "    <tr>\n",
              "      <th>404942</th>\n",
              "      <td>1</td>\n",
              "      <td>4</td>\n",
              "      <td>1</td>\n",
              "      <td>0</td>\n",
              "    </tr>\n",
              "    <tr>\n",
              "      <th>242521</th>\n",
              "      <td>2</td>\n",
              "      <td>127</td>\n",
              "      <td>4</td>\n",
              "      <td>1</td>\n",
              "    </tr>\n",
              "    <tr>\n",
              "      <th>371320</th>\n",
              "      <td>1</td>\n",
              "      <td>601</td>\n",
              "      <td>1</td>\n",
              "      <td>0</td>\n",
              "    </tr>\n",
              "  </tbody>\n",
              "</table>\n",
              "<p>889518 rows × 4 columns</p>\n",
              "</div>"
            ],
            "text/plain": [
              "         item_condition_id  category_name_l  brand_name_l  shipping\n",
              "995196                   1               16             4         0\n",
              "28823                    3               68             1         1\n",
              "661855                   3              189             1         0\n",
              "733730                   2              261             1         0\n",
              "807837                   4              732           172         0\n",
              "...                    ...              ...           ...       ...\n",
              "371719                   2              435            58         0\n",
              "1311257                  1               31           208         0\n",
              "404942                   1                4             1         0\n",
              "242521                   2              127             4         1\n",
              "371320                   1              601             1         0\n",
              "\n",
              "[889518 rows x 4 columns]"
            ]
          },
          "metadata": {
            "tags": []
          },
          "execution_count": 94
        }
      ]
    },
    {
      "cell_type": "code",
      "metadata": {
        "colab": {
          "base_uri": "https://localhost:8080/",
          "height": 194
        },
        "id": "HR5og0VNTg-Y",
        "outputId": "cbd165ed-781d-4d46-82db-2f47051fa76f"
      },
      "source": [
        "train.head()"
      ],
      "execution_count": null,
      "outputs": [
        {
          "output_type": "execute_result",
          "data": {
            "text/html": [
              "<div>\n",
              "<style scoped>\n",
              "    .dataframe tbody tr th:only-of-type {\n",
              "        vertical-align: middle;\n",
              "    }\n",
              "\n",
              "    .dataframe tbody tr th {\n",
              "        vertical-align: top;\n",
              "    }\n",
              "\n",
              "    .dataframe thead th {\n",
              "        text-align: right;\n",
              "    }\n",
              "</style>\n",
              "<table border=\"1\" class=\"dataframe\">\n",
              "  <thead>\n",
              "    <tr style=\"text-align: right;\">\n",
              "      <th></th>\n",
              "      <th>item_condition_id</th>\n",
              "      <th>shipping</th>\n",
              "      <th>category_name_l</th>\n",
              "      <th>brand_name_l</th>\n",
              "      <th>item_description_t</th>\n",
              "      <th>name_t</th>\n",
              "      <th>price</th>\n",
              "    </tr>\n",
              "  </thead>\n",
              "  <tbody>\n",
              "    <tr>\n",
              "      <th>1095625</th>\n",
              "      <td>1</td>\n",
              "      <td>1</td>\n",
              "      <td>18</td>\n",
              "      <td>30</td>\n",
              "      <td>[315, 791, 733, 24, 1, 59, 101]</td>\n",
              "      <td>[553, 569, 791, 101]</td>\n",
              "      <td>35.0</td>\n",
              "    </tr>\n",
              "    <tr>\n",
              "      <th>633753</th>\n",
              "      <td>2</td>\n",
              "      <td>0</td>\n",
              "      <td>165</td>\n",
              "      <td>4</td>\n",
              "      <td>[36, 30, 4935, 15, 667, 119, 6, 69]</td>\n",
              "      <td>[105, 1653]</td>\n",
              "      <td>13.0</td>\n",
              "    </tr>\n",
              "    <tr>\n",
              "      <th>1397300</th>\n",
              "      <td>3</td>\n",
              "      <td>1</td>\n",
              "      <td>138</td>\n",
              "      <td>37</td>\n",
              "      <td>[200, 155, 118, 939, 1, 219, 1, 193, 66, 731, ...</td>\n",
              "      <td>[480, 512]</td>\n",
              "      <td>16.0</td>\n",
              "    </tr>\n",
              "    <tr>\n",
              "      <th>417395</th>\n",
              "      <td>2</td>\n",
              "      <td>0</td>\n",
              "      <td>23</td>\n",
              "      <td>32</td>\n",
              "      <td>[875, 823, 4114, 2222, 9, 104, 1056, 7, 51, 5,...</td>\n",
              "      <td>[875, 823, 2222]</td>\n",
              "      <td>38.0</td>\n",
              "    </tr>\n",
              "    <tr>\n",
              "      <th>34778</th>\n",
              "      <td>3</td>\n",
              "      <td>0</td>\n",
              "      <td>17</td>\n",
              "      <td>877</td>\n",
              "      <td>[12, 68, 79]</td>\n",
              "      <td>[1175, 1611, 259, 303, 256]</td>\n",
              "      <td>74.0</td>\n",
              "    </tr>\n",
              "  </tbody>\n",
              "</table>\n",
              "</div>"
            ],
            "text/plain": [
              "         item_condition_id  shipping  ...                       name_t  price\n",
              "1095625                  1         1  ...         [553, 569, 791, 101]   35.0\n",
              "633753                   2         0  ...                  [105, 1653]   13.0\n",
              "1397300                  3         1  ...                   [480, 512]   16.0\n",
              "417395                   2         0  ...             [875, 823, 2222]   38.0\n",
              "34778                    3         0  ...  [1175, 1611, 259, 303, 256]   74.0\n",
              "\n",
              "[5 rows x 7 columns]"
            ]
          },
          "metadata": {
            "tags": []
          },
          "execution_count": 32
        }
      ]
    },
    {
      "cell_type": "code",
      "metadata": {
        "id": "CZh4kWw73yTY"
      },
      "source": [
        "inputA_train = train[[\"item_condition_id\", \"category_name_l\", \"brand_name_l\", \"shipping\"]].values.astype('int32')"
      ],
      "execution_count": null,
      "outputs": []
    },
    {
      "cell_type": "code",
      "metadata": {
        "id": "-oTri-SwCHqe"
      },
      "source": [
        "inputA_validation = validation[[\"item_condition_id\", \"category_name_l\", \"brand_name_l\", \"shipping\"]].values.astype('int32')"
      ],
      "execution_count": null,
      "outputs": []
    },
    {
      "cell_type": "code",
      "metadata": {
        "id": "SLcxUX3ESGDo"
      },
      "source": [
        "msle = tf.keras.losses.MeanSquaredLogarithmicError()\n",
        "mae = tf.keras.losses.MeanAbsoluteError()\n",
        "\n",
        "# sclb stands for scaled back\n",
        "\n",
        "def root_mean_squared_logarithmic_error_sclb(y_true, y_pred):\n",
        "  y_true = y_scaler.inverse_transform(y_true)\n",
        "  y_pred = y_scaler.inverse_transform(y_pred)\n",
        "  return K.sqrt(msle(y_true, y_pred))\n",
        "\n",
        "def mae_sclb(y_true, y_pred):\n",
        "  y_true = y_scaler.inverse_transform(y_true)\n",
        "  y_pred = y_scaler.inverse_transform(y_pred)\n",
        "\n",
        "  return mae(y_true, y_pred)\n"
      ],
      "execution_count": null,
      "outputs": []
    },
    {
      "cell_type": "code",
      "metadata": {
        "id": "7ZmQxJaT3yTX"
      },
      "source": [
        "name_vocab_size=vocab_size\n",
        "desc_vocab_size=vocab_size\n",
        "def getModel():\n",
        "    inputA = Input(shape=(4,))\n",
        "    #Ad = Dense(4, activation='relu')(inputA)\n",
        "    Ad = inputA\n",
        "    \n",
        "    inputName = Input(shape=(name_length_max,))\n",
        "    Ne = Embedding(input_dim=name_vocab_size, output_dim=8, input_length=name_length_max)(inputName)\n",
        "    Nd = LSTM(8,return_sequences=True)(Ne)\n",
        "    Nd = Flatten()(Nd)\n",
        "\n",
        "    #Nd = Nf\n",
        "    \n",
        "    inputDesc = Input(shape=(desc_length_max,))\n",
        "    De = Embedding(input_dim=desc_vocab_size, output_dim=16, input_length=desc_length_max)(inputDesc)\n",
        "    Dd = LSTM(16,return_sequences=True)(De)\n",
        "    Dd = Flatten()(Dd)\n",
        "    #Dd = Df\n",
        "    \n",
        "    concat = Concatenate()([Ad, Nd, Dd])\n",
        "\n",
        "    x = Dropout(0.1)(concat)    \n",
        "    x = Dense(128, activation='relu')(x)\n",
        "    x = Dropout(0.1)(x)\n",
        "    x = Dense(64, activation='relu')(x)\n",
        "    x = Dense(1, activation='linear')(x)\n",
        "    \n",
        "    model = Model(inputs=[inputA, inputName, inputDesc], outputs=x)\n",
        "    \n",
        "    return model\n",
        "    "
      ],
      "execution_count": null,
      "outputs": []
    },
    {
      "cell_type": "code",
      "metadata": {
        "colab": {
          "base_uri": "https://localhost:8080/"
        },
        "id": "SWfolHUC3yTX",
        "outputId": "965b4efb-209d-4380-d4e5-b7c45cc68723"
      },
      "source": [
        "model = getModel()\n",
        "model.summary()"
      ],
      "execution_count": null,
      "outputs": [
        {
          "output_type": "stream",
          "text": [
            "Model: \"functional_1\"\n",
            "__________________________________________________________________________________________________\n",
            "Layer (type)                    Output Shape         Param #     Connected to                     \n",
            "==================================================================================================\n",
            "input_13 (InputLayer)           [(None, 10)]         0                                            \n",
            "__________________________________________________________________________________________________\n",
            "input_14 (InputLayer)           [(None, 75)]         0                                            \n",
            "__________________________________________________________________________________________________\n",
            "embedding_5 (Embedding)         (None, 10, 8)        2072704     input_13[0][0]                   \n",
            "__________________________________________________________________________________________________\n",
            "embedding_6 (Embedding)         (None, 75, 16)       4145408     input_14[0][0]                   \n",
            "__________________________________________________________________________________________________\n",
            "lstm_5 (LSTM)                   (None, 10, 8)        544         embedding_5[0][0]                \n",
            "__________________________________________________________________________________________________\n",
            "lstm_6 (LSTM)                   (None, 75, 16)       2112        embedding_6[0][0]                \n",
            "__________________________________________________________________________________________________\n",
            "input_12 (InputLayer)           [(None, 4)]          0                                            \n",
            "__________________________________________________________________________________________________\n",
            "flatten_2 (Flatten)             (None, 80)           0           lstm_5[0][0]                     \n",
            "__________________________________________________________________________________________________\n",
            "flatten_3 (Flatten)             (None, 1200)         0           lstm_6[0][0]                     \n",
            "__________________________________________________________________________________________________\n",
            "concatenate_1 (Concatenate)     (None, 1284)         0           input_12[0][0]                   \n",
            "                                                                 flatten_2[0][0]                  \n",
            "                                                                 flatten_3[0][0]                  \n",
            "__________________________________________________________________________________________________\n",
            "dropout (Dropout)               (None, 1284)         0           concatenate_1[0][0]              \n",
            "__________________________________________________________________________________________________\n",
            "dense (Dense)                   (None, 128)          164480      dropout[0][0]                    \n",
            "__________________________________________________________________________________________________\n",
            "dropout_1 (Dropout)             (None, 128)          0           dense[0][0]                      \n",
            "__________________________________________________________________________________________________\n",
            "dense_1 (Dense)                 (None, 64)           8256        dropout_1[0][0]                  \n",
            "__________________________________________________________________________________________________\n",
            "dense_2 (Dense)                 (None, 1)            65          dense_1[0][0]                    \n",
            "==================================================================================================\n",
            "Total params: 6,393,569\n",
            "Trainable params: 6,393,569\n",
            "Non-trainable params: 0\n",
            "__________________________________________________________________________________________________\n"
          ],
          "name": "stdout"
        }
      ]
    },
    {
      "cell_type": "code",
      "metadata": {
        "colab": {
          "base_uri": "https://localhost:8080/",
          "height": 953
        },
        "id": "aNoRvN6T3yTX",
        "outputId": "0591f2b7-c64f-4798-a794-7f4443fed03b"
      },
      "source": [
        "plot_model(model)"
      ],
      "execution_count": null,
      "outputs": [
        {
          "output_type": "execute_result",
          "data": {
            "image/png": "[encoded data removed]",
            "text/plain": [
              "<IPython.core.display.Image object>"
            ]
          },
          "metadata": {
            "tags": []
          },
          "execution_count": 51
        }
      ]
    },
    {
      "cell_type": "code",
      "metadata": {
        "id": "K0ETrpfjg_ha"
      },
      "source": [
        "import keras.backend as K\r\n",
        "msle = tf.keras.losses.MeanSquaredLogarithmicError()\r\n",
        "\r\n",
        "def root_mean_squared_logarithmic_error(y_true, y_pred):\r\n",
        "    return K.sqrt(msle(y_true, y_pred))"
      ],
      "execution_count": null,
      "outputs": []
    },
    {
      "cell_type": "code",
      "metadata": {
        "id": "1-rcb1aLIHPX"
      },
      "source": [
        "model.compile(loss = 'mse', optimizer='adam', metrics=['mse', 'mae', tf.keras.metrics.RootMeanSquaredError(), 'mean_squared_logarithmic_error', root_mean_squared_logarithmic_error])"
      ],
      "execution_count": null,
      "outputs": []
    },
    {
      "cell_type": "code",
      "metadata": {
        "colab": {
          "background_save": true,
          "base_uri": "https://localhost:8080/"
        },
        "id": "Y2m3WcI-JWcP",
        "outputId": "10dc40f9-1188-481a-cac7-d798e25a6ea5"
      },
      "source": [
        "history = model.fit(x=[inputA_train, inputName_train, inputDesc_train], y=y_train,\n",
        "                    epochs=10,\n",
        "                    verbose=True,\n",
        "                    validation_data=([inputA_validation, inputName_validation, inputDesc_validation], y_validation),\n",
        "                    batch_size=512)"
      ],
      "execution_count": null,
      "outputs": [
        {
          "output_type": "stream",
          "text": [
            "Epoch 1/10\n",
            "2317/2317 [==============================] - 145s 62ms/step - loss: 969.2584 - mse: 969.2584 - mae: 13.9309 - root_mean_squared_error: 31.1329 - mean_squared_logarithmic_error: 0.4198 - root_mean_squared_logarithmic_error: 0.6405 - val_loss: 913.6985 - val_mse: 913.6985 - val_mae: 12.9963 - val_root_mean_squared_error: 30.2274 - val_mean_squared_logarithmic_error: 0.3866 - val_root_mean_squared_logarithmic_error: 0.6213\n",
            "Epoch 2/10\n",
            "2317/2317 [==============================] - 145s 63ms/step - loss: 843.9734 - mse: 843.9734 - mae: 13.1733 - root_mean_squared_error: 29.0512 - mean_squared_logarithmic_error: 0.3655 - root_mean_squared_logarithmic_error: 0.6036 - val_loss: 828.5457 - val_mse: 828.5457 - val_mae: 12.9138 - val_root_mean_squared_error: 28.7845 - val_mean_squared_logarithmic_error: 0.3493 - val_root_mean_squared_logarithmic_error: 0.5907\n",
            "Epoch 3/10\n",
            "2317/2317 [==============================] - 146s 63ms/step - loss: 798.4120 - mse: 798.4120 - mae: 12.9762 - root_mean_squared_error: 28.2562 - mean_squared_logarithmic_error: 0.3557 - root_mean_squared_logarithmic_error: 0.5956 - val_loss: 836.6852 - val_mse: 836.6852 - val_mae: 12.4120 - val_root_mean_squared_error: 28.9255 - val_mean_squared_logarithmic_error: 0.3225 - val_root_mean_squared_logarithmic_error: 0.5676\n",
            "Epoch 4/10\n",
            "2317/2317 [==============================] - 150s 65ms/step - loss: 767.8518 - mse: 767.8518 - mae: 12.8203 - root_mean_squared_error: 27.7101 - mean_squared_logarithmic_error: 0.3488 - root_mean_squared_logarithmic_error: 0.5898 - val_loss: 824.4846 - val_mse: 824.4846 - val_mae: 12.3231 - val_root_mean_squared_error: 28.7138 - val_mean_squared_logarithmic_error: 0.3169 - val_root_mean_squared_logarithmic_error: 0.5625\n",
            "Epoch 5/10\n",
            "2317/2317 [==============================] - 151s 65ms/step - loss: 739.6354 - mse: 739.6354 - mae: 12.6452 - root_mean_squared_error: 27.1962 - mean_squared_logarithmic_error: 0.3395 - root_mean_squared_logarithmic_error: 0.5819 - val_loss: 818.4596 - val_mse: 818.4596 - val_mae: 12.3608 - val_root_mean_squared_error: 28.6087 - val_mean_squared_logarithmic_error: 0.3170 - val_root_mean_squared_logarithmic_error: 0.5627\n",
            "Epoch 6/10\n",
            "2317/2317 [==============================] - 150s 65ms/step - loss: 715.9962 - mse: 715.9962 - mae: 12.4878 - root_mean_squared_error: 26.7581 - mean_squared_logarithmic_error: 0.3329 - root_mean_squared_logarithmic_error: 0.5763 - val_loss: 822.3422 - val_mse: 822.3422 - val_mae: 12.1175 - val_root_mean_squared_error: 28.6765 - val_mean_squared_logarithmic_error: 0.3088 - val_root_mean_squared_logarithmic_error: 0.5553\n",
            "Epoch 7/10\n",
            "2317/2317 [==============================] - 149s 64ms/step - loss: 694.7084 - mse: 694.7084 - mae: 12.3190 - root_mean_squared_error: 26.3573 - mean_squared_logarithmic_error: 0.3263 - root_mean_squared_logarithmic_error: 0.5705 - val_loss: 843.7386 - val_mse: 843.7386 - val_mae: 11.9254 - val_root_mean_squared_error: 29.0472 - val_mean_squared_logarithmic_error: 0.2992 - val_root_mean_squared_logarithmic_error: 0.5467\n",
            "Epoch 8/10\n",
            "2317/2317 [==============================] - 144s 62ms/step - loss: 671.4066 - mse: 671.4066 - mae: 12.1395 - root_mean_squared_error: 25.9115 - mean_squared_logarithmic_error: 0.3195 - root_mean_squared_logarithmic_error: 0.5646 - val_loss: 812.3037 - val_mse: 812.3037 - val_mae: 11.9641 - val_root_mean_squared_error: 28.5009 - val_mean_squared_logarithmic_error: 0.2998 - val_root_mean_squared_logarithmic_error: 0.5471\n",
            "Epoch 9/10\n",
            "2317/2317 [==============================] - 142s 61ms/step - loss: 648.0519 - mse: 648.0519 - mae: 11.9737 - root_mean_squared_error: 25.4569 - mean_squared_logarithmic_error: 0.3128 - root_mean_squared_logarithmic_error: 0.5586 - val_loss: 800.6093 - val_mse: 800.6093 - val_mae: 11.8098 - val_root_mean_squared_error: 28.2950 - val_mean_squared_logarithmic_error: 0.2948 - val_root_mean_squared_logarithmic_error: 0.5426\n",
            "Epoch 10/10\n",
            "2317/2317 [==============================] - 144s 62ms/step - loss: 630.1796 - mse: 630.1796 - mae: 11.8699 - root_mean_squared_error: 25.1034 - mean_squared_logarithmic_error: 0.3107 - root_mean_squared_logarithmic_error: 0.5567 - val_loss: 804.3076 - val_mse: 804.3076 - val_mae: 11.6773 - val_root_mean_squared_error: 28.3603 - val_mean_squared_logarithmic_error: 0.2891 - val_root_mean_squared_logarithmic_error: 0.5373\n"
          ],
          "name": "stdout"
        }
      ]
    },
    {
      "cell_type": "code",
      "metadata": {
        "colab": {
          "base_uri": "https://localhost:8080/",
          "height": 204
        },
        "id": "m6ZqDQxG4de0",
        "outputId": "063d7dc9-521a-448f-8322-014438d358af"
      },
      "source": [
        "histDf = pd.DataFrame(history.history)\n",
        "histDf.tail()"
      ],
      "execution_count": null,
      "outputs": [
        {
          "output_type": "execute_result",
          "data": {
            "text/html": [
              "<div>\n",
              "<style scoped>\n",
              "    .dataframe tbody tr th:only-of-type {\n",
              "        vertical-align: middle;\n",
              "    }\n",
              "\n",
              "    .dataframe tbody tr th {\n",
              "        vertical-align: top;\n",
              "    }\n",
              "\n",
              "    .dataframe thead th {\n",
              "        text-align: right;\n",
              "    }\n",
              "</style>\n",
              "<table border=\"1\" class=\"dataframe\">\n",
              "  <thead>\n",
              "    <tr style=\"text-align: right;\">\n",
              "      <th></th>\n",
              "      <th>loss</th>\n",
              "      <th>mae_sclb</th>\n",
              "      <th>root_mean_squared_logarithmic_error_sclb</th>\n",
              "      <th>val_loss</th>\n",
              "      <th>val_mae_sclb</th>\n",
              "      <th>val_root_mean_squared_logarithmic_error_sclb</th>\n",
              "    </tr>\n",
              "  </thead>\n",
              "  <tbody>\n",
              "    <tr>\n",
              "      <th>5</th>\n",
              "      <td>0.476606</td>\n",
              "      <td>12.462254</td>\n",
              "      <td>0.596104</td>\n",
              "      <td>0.556343</td>\n",
              "      <td>12.550454</td>\n",
              "      <td>0.577678</td>\n",
              "    </tr>\n",
              "    <tr>\n",
              "      <th>6</th>\n",
              "      <td>0.447031</td>\n",
              "      <td>12.279383</td>\n",
              "      <td>0.585221</td>\n",
              "      <td>0.552715</td>\n",
              "      <td>12.372323</td>\n",
              "      <td>0.570468</td>\n",
              "    </tr>\n",
              "    <tr>\n",
              "      <th>7</th>\n",
              "      <td>0.422235</td>\n",
              "      <td>12.137775</td>\n",
              "      <td>0.582416</td>\n",
              "      <td>0.568879</td>\n",
              "      <td>12.483811</td>\n",
              "      <td>0.570694</td>\n",
              "    </tr>\n",
              "    <tr>\n",
              "      <th>8</th>\n",
              "      <td>0.407632</td>\n",
              "      <td>12.037266</td>\n",
              "      <td>0.578049</td>\n",
              "      <td>0.557858</td>\n",
              "      <td>12.484520</td>\n",
              "      <td>0.571568</td>\n",
              "    </tr>\n",
              "    <tr>\n",
              "      <th>9</th>\n",
              "      <td>0.397469</td>\n",
              "      <td>11.964991</td>\n",
              "      <td>0.577472</td>\n",
              "      <td>0.578131</td>\n",
              "      <td>13.115880</td>\n",
              "      <td>0.612132</td>\n",
              "    </tr>\n",
              "  </tbody>\n",
              "</table>\n",
              "</div>"
            ],
            "text/plain": [
              "       loss  ...  val_root_mean_squared_logarithmic_error_sclb\n",
              "5  0.476606  ...                                      0.577678\n",
              "6  0.447031  ...                                      0.570468\n",
              "7  0.422235  ...                                      0.570694\n",
              "8  0.407632  ...                                      0.571568\n",
              "9  0.397469  ...                                      0.612132\n",
              "\n",
              "[5 rows x 6 columns]"
            ]
          },
          "metadata": {
            "tags": []
          },
          "execution_count": 147
        }
      ]
    },
    {
      "cell_type": "code",
      "metadata": {
        "colab": {
          "base_uri": "https://localhost:8080/",
          "height": 282
        },
        "id": "d8NNZQXuht7t",
        "outputId": "4d3932e4-a4c2-4a06-ff5a-c2b2513db405"
      },
      "source": [
        "histDf.plot(y=[\"loss\", \"val_loss\"])"
      ],
      "execution_count": null,
      "outputs": [
        {
          "output_type": "execute_result",
          "data": {
            "text/plain": [
              "<matplotlib.axes._subplots.AxesSubplot at 0x7f26b17aad68>"
            ]
          },
          "metadata": {
            "tags": []
          },
          "execution_count": 148
        },
        {
          "output_type": "display_data",
          "data": {
            "image/png": "[encoded data removed]",
            "text/plain": [
              "<Figure size 432x288 with 1 Axes>"
            ]
          },
          "metadata": {
            "tags": []
          }
        }
      ]
    },
    {
      "cell_type": "code",
      "metadata": {
        "colab": {
          "base_uri": "https://localhost:8080/",
          "height": 285
        },
        "id": "PUhr3WR3wpgt",
        "outputId": "2cc8e291-df84-4cd1-a008-21fd386b0d79"
      },
      "source": [
        "histDf.plot(y=[\"mae_sclb\", \"val_mae_sclb\"])"
      ],
      "execution_count": null,
      "outputs": [
        {
          "output_type": "execute_result",
          "data": {
            "text/plain": [
              "<matplotlib.axes._subplots.AxesSubplot at 0x7f26b2d2c780>"
            ]
          },
          "metadata": {
            "tags": []
          },
          "execution_count": 149
        },
        {
          "output_type": "display_data",
          "data": {
            "image/png": "[encoded data removed]",
            "text/plain": [
              "<Figure size 432x288 with 1 Axes>"
            ]
          },
          "metadata": {
            "tags": []
          }
        }
      ]
    },
    {
      "cell_type": "code",
      "metadata": {
        "colab": {
          "base_uri": "https://localhost:8080/",
          "height": 282
        },
        "id": "B4R67iRKhvwW",
        "outputId": "0ccbf327-9882-46dc-d490-c7aa017b4a29"
      },
      "source": [
        "histDf.plot(y=[\"root_mean_squared_logarithmic_error_sclb\", \"val_root_mean_squared_logarithmic_error_sclb\"])"
      ],
      "execution_count": null,
      "outputs": [
        {
          "output_type": "execute_result",
          "data": {
            "text/plain": [
              "<matplotlib.axes._subplots.AxesSubplot at 0x7f26b06a3cf8>"
            ]
          },
          "metadata": {
            "tags": []
          },
          "execution_count": 150
        },
        {
          "output_type": "display_data",
          "data": {
            "image/png": "[encoded data removed]",
            "text/plain": [
              "<Figure size 432x288 with 1 Axes>"
            ]
          },
          "metadata": {
            "tags": []
          }
        }
      ]
    }
  ]
}