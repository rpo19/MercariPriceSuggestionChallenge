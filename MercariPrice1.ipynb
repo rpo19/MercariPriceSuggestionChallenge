{
  "nbformat": 4,
  "nbformat_minor": 0,
  "metadata": {
    "accelerator": "GPU",
    "colab": {
      "name": "MercariPrice1.ipynb",
      "provenance": [],
      "collapsed_sections": [
        "uuMtKfPMrZBk"
      ]
    },
    "kernelspec": {
      "display_name": "Python 3",
      "language": "python",
      "name": "python3"
    },
    "language_info": {
      "codemirror_mode": {
        "name": "ipython",
        "version": 3
      },
      "file_extension": ".py",
      "mimetype": "text/x-python",
      "name": "python",
      "nbconvert_exporter": "python",
      "pygments_lexer": "ipython3",
      "version": "3.7.0"
    },
    "widgets": {
      "application/vnd.jupyter.widget-state+json": {
        "fd983a4f8df448bbaa93c1776859c589": {
          "model_module": "@jupyter-widgets/controls",
          "model_name": "HBoxModel",
          "state": {
            "_dom_classes": [],
            "_model_module": "@jupyter-widgets/controls",
            "_model_module_version": "1.5.0",
            "_model_name": "HBoxModel",
            "_view_count": null,
            "_view_module": "@jupyter-widgets/controls",
            "_view_module_version": "1.5.0",
            "_view_name": "HBoxView",
            "box_style": "",
            "children": [
              "IPY_MODEL_ab34dc388d5141bbbfa0ef09bd932d81",
              "IPY_MODEL_209016ffac0d44778d229acf1d6f9507"
            ],
            "layout": "IPY_MODEL_ad934468f2d44369b64e1cd65c8ddd08"
          }
        },
        "ab34dc388d5141bbbfa0ef09bd932d81": {
          "model_module": "@jupyter-widgets/controls",
          "model_name": "FloatProgressModel",
          "state": {
            "_dom_classes": [],
            "_model_module": "@jupyter-widgets/controls",
            "_model_module_version": "1.5.0",
            "_model_name": "FloatProgressModel",
            "_view_count": null,
            "_view_module": "@jupyter-widgets/controls",
            "_view_module_version": "1.5.0",
            "_view_name": "ProgressView",
            "bar_style": "success",
            "description": "100%",
            "description_tooltip": null,
            "layout": "IPY_MODEL_29a47bbd066745adb14edcf0f6ecfbbc",
            "max": 1446815,
            "min": 0,
            "orientation": "horizontal",
            "style": "IPY_MODEL_2df9a41a15c24ea3b4f246ddc0402908",
            "value": 1446815
          }
        },
        "209016ffac0d44778d229acf1d6f9507": {
          "model_module": "@jupyter-widgets/controls",
          "model_name": "HTMLModel",
          "state": {
            "_dom_classes": [],
            "_model_module": "@jupyter-widgets/controls",
            "_model_module_version": "1.5.0",
            "_model_name": "HTMLModel",
            "_view_count": null,
            "_view_module": "@jupyter-widgets/controls",
            "_view_module_version": "1.5.0",
            "_view_name": "HTMLView",
            "description": "",
            "description_tooltip": null,
            "layout": "IPY_MODEL_eb20c9cacb234b239865ac72653db773",
            "placeholder": "​",
            "style": "IPY_MODEL_3214fc75baaa4bec9c8921bbb5a31e90",
            "value": " 1446815/1446815 [01:53&lt;00:00, 12716.69it/s]"
          }
        },
        "ad934468f2d44369b64e1cd65c8ddd08": {
          "model_module": "@jupyter-widgets/base",
          "model_name": "LayoutModel",
          "state": {
            "_model_module": "@jupyter-widgets/base",
            "_model_module_version": "1.2.0",
            "_model_name": "LayoutModel",
            "_view_count": null,
            "_view_module": "@jupyter-widgets/base",
            "_view_module_version": "1.2.0",
            "_view_name": "LayoutView",
            "align_content": null,
            "align_items": null,
            "align_self": null,
            "border": null,
            "bottom": null,
            "display": null,
            "flex": null,
            "flex_flow": null,
            "grid_area": null,
            "grid_auto_columns": null,
            "grid_auto_flow": null,
            "grid_auto_rows": null,
            "grid_column": null,
            "grid_gap": null,
            "grid_row": null,
            "grid_template_areas": null,
            "grid_template_columns": null,
            "grid_template_rows": null,
            "height": null,
            "justify_content": null,
            "justify_items": null,
            "left": null,
            "margin": null,
            "max_height": null,
            "max_width": null,
            "min_height": null,
            "min_width": null,
            "object_fit": null,
            "object_position": null,
            "order": null,
            "overflow": null,
            "overflow_x": null,
            "overflow_y": null,
            "padding": null,
            "right": null,
            "top": null,
            "visibility": null,
            "width": null
          }
        },
        "29a47bbd066745adb14edcf0f6ecfbbc": {
          "model_module": "@jupyter-widgets/base",
          "model_name": "LayoutModel",
          "state": {
            "_model_module": "@jupyter-widgets/base",
            "_model_module_version": "1.2.0",
            "_model_name": "LayoutModel",
            "_view_count": null,
            "_view_module": "@jupyter-widgets/base",
            "_view_module_version": "1.2.0",
            "_view_name": "LayoutView",
            "align_content": null,
            "align_items": null,
            "align_self": null,
            "border": null,
            "bottom": null,
            "display": null,
            "flex": null,
            "flex_flow": null,
            "grid_area": null,
            "grid_auto_columns": null,
            "grid_auto_flow": null,
            "grid_auto_rows": null,
            "grid_column": null,
            "grid_gap": null,
            "grid_row": null,
            "grid_template_areas": null,
            "grid_template_columns": null,
            "grid_template_rows": null,
            "height": null,
            "justify_content": null,
            "justify_items": null,
            "left": null,
            "margin": null,
            "max_height": null,
            "max_width": null,
            "min_height": null,
            "min_width": null,
            "object_fit": null,
            "object_position": null,
            "order": null,
            "overflow": null,
            "overflow_x": null,
            "overflow_y": null,
            "padding": null,
            "right": null,
            "top": null,
            "visibility": null,
            "width": null
          }
        },
        "2df9a41a15c24ea3b4f246ddc0402908": {
          "model_module": "@jupyter-widgets/controls",
          "model_name": "ProgressStyleModel",
          "state": {
            "_model_module": "@jupyter-widgets/controls",
            "_model_module_version": "1.5.0",
            "_model_name": "ProgressStyleModel",
            "_view_count": null,
            "_view_module": "@jupyter-widgets/base",
            "_view_module_version": "1.2.0",
            "_view_name": "StyleView",
            "bar_color": null,
            "description_width": "initial"
          }
        },
        "eb20c9cacb234b239865ac72653db773": {
          "model_module": "@jupyter-widgets/base",
          "model_name": "LayoutModel",
          "state": {
            "_model_module": "@jupyter-widgets/base",
            "_model_module_version": "1.2.0",
            "_model_name": "LayoutModel",
            "_view_count": null,
            "_view_module": "@jupyter-widgets/base",
            "_view_module_version": "1.2.0",
            "_view_name": "LayoutView",
            "align_content": null,
            "align_items": null,
            "align_self": null,
            "border": null,
            "bottom": null,
            "display": null,
            "flex": null,
            "flex_flow": null,
            "grid_area": null,
            "grid_auto_columns": null,
            "grid_auto_flow": null,
            "grid_auto_rows": null,
            "grid_column": null,
            "grid_gap": null,
            "grid_row": null,
            "grid_template_areas": null,
            "grid_template_columns": null,
            "grid_template_rows": null,
            "height": null,
            "justify_content": null,
            "justify_items": null,
            "left": null,
            "margin": null,
            "max_height": null,
            "max_width": null,
            "min_height": null,
            "min_width": null,
            "object_fit": null,
            "object_position": null,
            "order": null,
            "overflow": null,
            "overflow_x": null,
            "overflow_y": null,
            "padding": null,
            "right": null,
            "top": null,
            "visibility": null,
            "width": null
          }
        },
        "3214fc75baaa4bec9c8921bbb5a31e90": {
          "model_module": "@jupyter-widgets/controls",
          "model_name": "DescriptionStyleModel",
          "state": {
            "_model_module": "@jupyter-widgets/controls",
            "_model_module_version": "1.5.0",
            "_model_name": "DescriptionStyleModel",
            "_view_count": null,
            "_view_module": "@jupyter-widgets/base",
            "_view_module_version": "1.2.0",
            "_view_name": "StyleView",
            "description_width": ""
          }
        },
        "777803237cef4c87aa8699fb1d60d037": {
          "model_module": "@jupyter-widgets/controls",
          "model_name": "HBoxModel",
          "state": {
            "_dom_classes": [],
            "_model_module": "@jupyter-widgets/controls",
            "_model_module_version": "1.5.0",
            "_model_name": "HBoxModel",
            "_view_count": null,
            "_view_module": "@jupyter-widgets/controls",
            "_view_module_version": "1.5.0",
            "_view_name": "HBoxView",
            "box_style": "",
            "children": [
              "IPY_MODEL_b8a6521cc1aa477bb0a083566e62f449",
              "IPY_MODEL_198b983aebb3494b92d995093f358bad"
            ],
            "layout": "IPY_MODEL_f2f89028a8f6471cb70846b14503003d"
          }
        },
        "b8a6521cc1aa477bb0a083566e62f449": {
          "model_module": "@jupyter-widgets/controls",
          "model_name": "FloatProgressModel",
          "state": {
            "_dom_classes": [],
            "_model_module": "@jupyter-widgets/controls",
            "_model_module_version": "1.5.0",
            "_model_name": "FloatProgressModel",
            "_view_count": null,
            "_view_module": "@jupyter-widgets/controls",
            "_view_module_version": "1.5.0",
            "_view_name": "ProgressView",
            "bar_style": "",
            "description": "  1%",
            "description_tooltip": null,
            "layout": "IPY_MODEL_1c7ceb84daa640c9b4c16fb4f5c63d50",
            "max": 1446815,
            "min": 0,
            "orientation": "horizontal",
            "style": "IPY_MODEL_eb44019d8f70478da1db79707f42382c",
            "value": 20397
          }
        },
        "198b983aebb3494b92d995093f358bad": {
          "model_module": "@jupyter-widgets/controls",
          "model_name": "HTMLModel",
          "state": {
            "_dom_classes": [],
            "_model_module": "@jupyter-widgets/controls",
            "_model_module_version": "1.5.0",
            "_model_name": "HTMLModel",
            "_view_count": null,
            "_view_module": "@jupyter-widgets/controls",
            "_view_module_version": "1.5.0",
            "_view_name": "HTMLView",
            "description": "",
            "description_tooltip": null,
            "layout": "IPY_MODEL_7d23dae863d94dc99f2aba51de2b4b73",
            "placeholder": "​",
            "style": "IPY_MODEL_b2eacd4bbd01433eac95d0d8d1fe2a1f",
            "value": " 20397/1446815 [00:01&lt;01:57, 12119.65it/s]"
          }
        },
        "f2f89028a8f6471cb70846b14503003d": {
          "model_module": "@jupyter-widgets/base",
          "model_name": "LayoutModel",
          "state": {
            "_model_module": "@jupyter-widgets/base",
            "_model_module_version": "1.2.0",
            "_model_name": "LayoutModel",
            "_view_count": null,
            "_view_module": "@jupyter-widgets/base",
            "_view_module_version": "1.2.0",
            "_view_name": "LayoutView",
            "align_content": null,
            "align_items": null,
            "align_self": null,
            "border": null,
            "bottom": null,
            "display": null,
            "flex": null,
            "flex_flow": null,
            "grid_area": null,
            "grid_auto_columns": null,
            "grid_auto_flow": null,
            "grid_auto_rows": null,
            "grid_column": null,
            "grid_gap": null,
            "grid_row": null,
            "grid_template_areas": null,
            "grid_template_columns": null,
            "grid_template_rows": null,
            "height": null,
            "justify_content": null,
            "justify_items": null,
            "left": null,
            "margin": null,
            "max_height": null,
            "max_width": null,
            "min_height": null,
            "min_width": null,
            "object_fit": null,
            "object_position": null,
            "order": null,
            "overflow": null,
            "overflow_x": null,
            "overflow_y": null,
            "padding": null,
            "right": null,
            "top": null,
            "visibility": null,
            "width": null
          }
        },
        "1c7ceb84daa640c9b4c16fb4f5c63d50": {
          "model_module": "@jupyter-widgets/base",
          "model_name": "LayoutModel",
          "state": {
            "_model_module": "@jupyter-widgets/base",
            "_model_module_version": "1.2.0",
            "_model_name": "LayoutModel",
            "_view_count": null,
            "_view_module": "@jupyter-widgets/base",
            "_view_module_version": "1.2.0",
            "_view_name": "LayoutView",
            "align_content": null,
            "align_items": null,
            "align_self": null,
            "border": null,
            "bottom": null,
            "display": null,
            "flex": null,
            "flex_flow": null,
            "grid_area": null,
            "grid_auto_columns": null,
            "grid_auto_flow": null,
            "grid_auto_rows": null,
            "grid_column": null,
            "grid_gap": null,
            "grid_row": null,
            "grid_template_areas": null,
            "grid_template_columns": null,
            "grid_template_rows": null,
            "height": null,
            "justify_content": null,
            "justify_items": null,
            "left": null,
            "margin": null,
            "max_height": null,
            "max_width": null,
            "min_height": null,
            "min_width": null,
            "object_fit": null,
            "object_position": null,
            "order": null,
            "overflow": null,
            "overflow_x": null,
            "overflow_y": null,
            "padding": null,
            "right": null,
            "top": null,
            "visibility": null,
            "width": null
          }
        },
        "eb44019d8f70478da1db79707f42382c": {
          "model_module": "@jupyter-widgets/controls",
          "model_name": "ProgressStyleModel",
          "state": {
            "_model_module": "@jupyter-widgets/controls",
            "_model_module_version": "1.5.0",
            "_model_name": "ProgressStyleModel",
            "_view_count": null,
            "_view_module": "@jupyter-widgets/base",
            "_view_module_version": "1.2.0",
            "_view_name": "StyleView",
            "bar_color": null,
            "description_width": "initial"
          }
        },
        "7d23dae863d94dc99f2aba51de2b4b73": {
          "model_module": "@jupyter-widgets/base",
          "model_name": "LayoutModel",
          "state": {
            "_model_module": "@jupyter-widgets/base",
            "_model_module_version": "1.2.0",
            "_model_name": "LayoutModel",
            "_view_count": null,
            "_view_module": "@jupyter-widgets/base",
            "_view_module_version": "1.2.0",
            "_view_name": "LayoutView",
            "align_content": null,
            "align_items": null,
            "align_self": null,
            "border": null,
            "bottom": null,
            "display": null,
            "flex": null,
            "flex_flow": null,
            "grid_area": null,
            "grid_auto_columns": null,
            "grid_auto_flow": null,
            "grid_auto_rows": null,
            "grid_column": null,
            "grid_gap": null,
            "grid_row": null,
            "grid_template_areas": null,
            "grid_template_columns": null,
            "grid_template_rows": null,
            "height": null,
            "justify_content": null,
            "justify_items": null,
            "left": null,
            "margin": null,
            "max_height": null,
            "max_width": null,
            "min_height": null,
            "min_width": null,
            "object_fit": null,
            "object_position": null,
            "order": null,
            "overflow": null,
            "overflow_x": null,
            "overflow_y": null,
            "padding": null,
            "right": null,
            "top": null,
            "visibility": null,
            "width": null
          }
        },
        "b2eacd4bbd01433eac95d0d8d1fe2a1f": {
          "model_module": "@jupyter-widgets/controls",
          "model_name": "DescriptionStyleModel",
          "state": {
            "_model_module": "@jupyter-widgets/controls",
            "_model_module_version": "1.5.0",
            "_model_name": "DescriptionStyleModel",
            "_view_count": null,
            "_view_module": "@jupyter-widgets/base",
            "_view_module_version": "1.2.0",
            "_view_name": "StyleView",
            "description_width": ""
          }
        },
        "7bc6fa8f28c745b3ad5f14bd08222927": {
          "model_module": "@jupyter-widgets/controls",
          "model_name": "HBoxModel",
          "state": {
            "_dom_classes": [],
            "_model_module": "@jupyter-widgets/controls",
            "_model_module_version": "1.5.0",
            "_model_name": "HBoxModel",
            "_view_count": null,
            "_view_module": "@jupyter-widgets/controls",
            "_view_module_version": "1.5.0",
            "_view_name": "HBoxView",
            "box_style": "",
            "children": [
              "IPY_MODEL_fb8d3545398b40e1bbfc1fb91cc71be9",
              "IPY_MODEL_0bb211a31f2343f7b381b73a0f19f5c2"
            ],
            "layout": "IPY_MODEL_c0330aac1e1e496a98047e21a0e1116e"
          }
        },
        "fb8d3545398b40e1bbfc1fb91cc71be9": {
          "model_module": "@jupyter-widgets/controls",
          "model_name": "FloatProgressModel",
          "state": {
            "_dom_classes": [],
            "_model_module": "@jupyter-widgets/controls",
            "_model_module_version": "1.5.0",
            "_model_name": "FloatProgressModel",
            "_view_count": null,
            "_view_module": "@jupyter-widgets/controls",
            "_view_module_version": "1.5.0",
            "_view_name": "ProgressView",
            "bar_style": "",
            "description": "  6%",
            "description_tooltip": null,
            "layout": "IPY_MODEL_808849eb09754be0b9bb0e05fce6afac",
            "max": 693359,
            "min": 0,
            "orientation": "horizontal",
            "style": "IPY_MODEL_dc5b83d73dfd4a62b55f3c73b8cd1132",
            "value": 39759
          }
        },
        "0bb211a31f2343f7b381b73a0f19f5c2": {
          "model_module": "@jupyter-widgets/controls",
          "model_name": "HTMLModel",
          "state": {
            "_dom_classes": [],
            "_model_module": "@jupyter-widgets/controls",
            "_model_module_version": "1.5.0",
            "_model_name": "HTMLModel",
            "_view_count": null,
            "_view_module": "@jupyter-widgets/controls",
            "_view_module_version": "1.5.0",
            "_view_name": "HTMLView",
            "description": "",
            "description_tooltip": null,
            "layout": "IPY_MODEL_4a088fc005d0495085cbed5bf8392587",
            "placeholder": "​",
            "style": "IPY_MODEL_0555490beff54c77a1d4a3b25576cc0d",
            "value": " 39759/693359 [00:20&lt;00:46, 14106.17it/s]"
          }
        },
        "c0330aac1e1e496a98047e21a0e1116e": {
          "model_module": "@jupyter-widgets/base",
          "model_name": "LayoutModel",
          "state": {
            "_model_module": "@jupyter-widgets/base",
            "_model_module_version": "1.2.0",
            "_model_name": "LayoutModel",
            "_view_count": null,
            "_view_module": "@jupyter-widgets/base",
            "_view_module_version": "1.2.0",
            "_view_name": "LayoutView",
            "align_content": null,
            "align_items": null,
            "align_self": null,
            "border": null,
            "bottom": null,
            "display": null,
            "flex": null,
            "flex_flow": null,
            "grid_area": null,
            "grid_auto_columns": null,
            "grid_auto_flow": null,
            "grid_auto_rows": null,
            "grid_column": null,
            "grid_gap": null,
            "grid_row": null,
            "grid_template_areas": null,
            "grid_template_columns": null,
            "grid_template_rows": null,
            "height": null,
            "justify_content": null,
            "justify_items": null,
            "left": null,
            "margin": null,
            "max_height": null,
            "max_width": null,
            "min_height": null,
            "min_width": null,
            "object_fit": null,
            "object_position": null,
            "order": null,
            "overflow": null,
            "overflow_x": null,
            "overflow_y": null,
            "padding": null,
            "right": null,
            "top": null,
            "visibility": null,
            "width": null
          }
        },
        "808849eb09754be0b9bb0e05fce6afac": {
          "model_module": "@jupyter-widgets/base",
          "model_name": "LayoutModel",
          "state": {
            "_model_module": "@jupyter-widgets/base",
            "_model_module_version": "1.2.0",
            "_model_name": "LayoutModel",
            "_view_count": null,
            "_view_module": "@jupyter-widgets/base",
            "_view_module_version": "1.2.0",
            "_view_name": "LayoutView",
            "align_content": null,
            "align_items": null,
            "align_self": null,
            "border": null,
            "bottom": null,
            "display": null,
            "flex": null,
            "flex_flow": null,
            "grid_area": null,
            "grid_auto_columns": null,
            "grid_auto_flow": null,
            "grid_auto_rows": null,
            "grid_column": null,
            "grid_gap": null,
            "grid_row": null,
            "grid_template_areas": null,
            "grid_template_columns": null,
            "grid_template_rows": null,
            "height": null,
            "justify_content": null,
            "justify_items": null,
            "left": null,
            "margin": null,
            "max_height": null,
            "max_width": null,
            "min_height": null,
            "min_width": null,
            "object_fit": null,
            "object_position": null,
            "order": null,
            "overflow": null,
            "overflow_x": null,
            "overflow_y": null,
            "padding": null,
            "right": null,
            "top": null,
            "visibility": null,
            "width": null
          }
        },
        "dc5b83d73dfd4a62b55f3c73b8cd1132": {
          "model_module": "@jupyter-widgets/controls",
          "model_name": "ProgressStyleModel",
          "state": {
            "_model_module": "@jupyter-widgets/controls",
            "_model_module_version": "1.5.0",
            "_model_name": "ProgressStyleModel",
            "_view_count": null,
            "_view_module": "@jupyter-widgets/base",
            "_view_module_version": "1.2.0",
            "_view_name": "StyleView",
            "bar_color": null,
            "description_width": "initial"
          }
        },
        "4a088fc005d0495085cbed5bf8392587": {
          "model_module": "@jupyter-widgets/base",
          "model_name": "LayoutModel",
          "state": {
            "_model_module": "@jupyter-widgets/base",
            "_model_module_version": "1.2.0",
            "_model_name": "LayoutModel",
            "_view_count": null,
            "_view_module": "@jupyter-widgets/base",
            "_view_module_version": "1.2.0",
            "_view_name": "LayoutView",
            "align_content": null,
            "align_items": null,
            "align_self": null,
            "border": null,
            "bottom": null,
            "display": null,
            "flex": null,
            "flex_flow": null,
            "grid_area": null,
            "grid_auto_columns": null,
            "grid_auto_flow": null,
            "grid_auto_rows": null,
            "grid_column": null,
            "grid_gap": null,
            "grid_row": null,
            "grid_template_areas": null,
            "grid_template_columns": null,
            "grid_template_rows": null,
            "height": null,
            "justify_content": null,
            "justify_items": null,
            "left": null,
            "margin": null,
            "max_height": null,
            "max_width": null,
            "min_height": null,
            "min_width": null,
            "object_fit": null,
            "object_position": null,
            "order": null,
            "overflow": null,
            "overflow_x": null,
            "overflow_y": null,
            "padding": null,
            "right": null,
            "top": null,
            "visibility": null,
            "width": null
          }
        },
        "0555490beff54c77a1d4a3b25576cc0d": {
          "model_module": "@jupyter-widgets/controls",
          "model_name": "DescriptionStyleModel",
          "state": {
            "_model_module": "@jupyter-widgets/controls",
            "_model_module_version": "1.5.0",
            "_model_name": "DescriptionStyleModel",
            "_view_count": null,
            "_view_module": "@jupyter-widgets/base",
            "_view_module_version": "1.2.0",
            "_view_name": "StyleView",
            "description_width": ""
          }
        }
      }
    }
  },
  "cells": [
    {
      "cell_type": "markdown",
      "metadata": {
        "id": "M_oO4ZyYU00Y"
      },
      "source": [
        "### Mercari Price \n",
        "The files consist of a list of product listings. These files are tab-delimited.\n",
        "\n",
        "Fields:\n",
        "- train_id or test_id - the id of the listing\n",
        "\n",
        "- name - the title of the listing. Note that we have cleaned the data to remove text that look like prices (e.g. $20) to avoid  leakage. These removed prices are represented as [rm]\n",
        "\n",
        "- item_condition_id - the condition of the items provided by the seller\n",
        "\n",
        "- category_name - category of the listing\n",
        "\n",
        "- brand_name\n",
        "\n",
        "- price - the price that the item was sold for. This is the target variable that you will predict. The unit is USD. This column doesn't exist in test.tsv since that is what you will predict.\n",
        "\n",
        "- shipping - 1 if shipping fee is paid by seller and 0 by buyer\n",
        "\n",
        "- item_description - the full description of the item. Note that we have cleaned the data to remove text that look like prices (e.g. $20) to avoid leakage. These removed prices are represented as [rm]"
      ]
    },
    {
      "cell_type": "markdown",
      "metadata": {
        "id": "PTBm7hc-CoRA"
      },
      "source": [
        "## Setup"
      ]
    },
    {
      "cell_type": "code",
      "metadata": {
        "colab": {
          "base_uri": "https://localhost:8080/"
        },
        "id": "XZWiRNuUU00w",
        "outputId": "9bd40dd5-ca08-4b05-9890-e1f0473ef139"
      },
      "source": [
        "! pip install pydot graphviz emoji transformers\n",
        "\n",
        "import pandas as pd\n",
        "import numpy as np\n",
        "\n",
        "from nltk.tokenize import word_tokenize\n",
        "import nltk\n",
        "import tensorflow as tf\n",
        "from tensorflow import keras\n",
        "from tensorflow.keras.preprocessing.text import Tokenizer\n",
        "from tensorflow.keras.preprocessing.sequence import pad_sequences\n",
        "\n",
        "import tensorflow.keras.backend as K\n",
        "\n",
        "\n",
        "from tqdm._tqdm_notebook import tqdm_notebook\n",
        "\n",
        "import os\n",
        "import itertools\n",
        "\n",
        "import matplotlib.pyplot as plt\n",
        "import itertools\n",
        "from collections import Counter\n",
        "import seaborn as sns\n",
        "\n",
        "from sklearn.model_selection import train_test_split\n",
        "from sklearn import preprocessing\n",
        "from sklearn.preprocessing import StandardScaler\n",
        "\n",
        "from tensorflow.keras.layers import Dense, Input, Embedding, Concatenate, Flatten, Dropout, LSTM, GlobalMaxPool1D, GRU, Bidirectional, GlobalAveragePooling1D\n",
        "from tensorflow.keras.models import Model\n",
        "from tensorflow.keras.utils import plot_model\n",
        "\n",
        "from nltk.corpus import stopwords\n",
        "import string\n",
        "\n",
        "import pickle\n",
        "\n",
        "from tensorflow.keras.preprocessing.text import text_to_word_sequence \n",
        "from nltk.stem import WordNetLemmatizer\n",
        "\n",
        "from nltk.tokenize import TweetTokenizer\n",
        "\n",
        "import emoji\n",
        "import os\n",
        "\n",
        "from sklearn.feature_extraction.text import CountVectorizer\n",
        "\n",
        "import transformers\n",
        "from transformers import DistilBertTokenizer, TFDistilBertModel, pipeline\n",
        "\n",
        "nltk.download('wordnet')\n",
        "nltk.download('stopwords')\n",
        "nltk.download('punkt')\n",
        "\n",
        "\n",
        "stop_words = set(stopwords.words('english'))\n",
        "stop_words.remove(\"no\")\n",
        "\n",
        "tqdm_notebook.pandas()"
      ],
      "execution_count": null,
      "outputs": [
        {
          "output_type": "stream",
          "text": [
            "Requirement already satisfied: pydot in /usr/local/lib/python3.6/dist-packages (1.3.0)\n",
            "Requirement already satisfied: graphviz in /usr/local/lib/python3.6/dist-packages (0.10.1)\n",
            "Requirement already satisfied: emoji in /usr/local/lib/python3.6/dist-packages (0.6.0)\n",
            "Requirement already satisfied: transformers in /usr/local/lib/python3.6/dist-packages (4.1.1)\n",
            "Requirement already satisfied: pyparsing>=2.1.4 in /usr/local/lib/python3.6/dist-packages (from pydot) (2.4.7)\n",
            "Requirement already satisfied: dataclasses; python_version < \"3.7\" in /usr/local/lib/python3.6/dist-packages (from transformers) (0.8)\n",
            "Requirement already satisfied: sacremoses in /usr/local/lib/python3.6/dist-packages (from transformers) (0.0.43)\n",
            "Requirement already satisfied: filelock in /usr/local/lib/python3.6/dist-packages (from transformers) (3.0.12)\n",
            "Requirement already satisfied: requests in /usr/local/lib/python3.6/dist-packages (from transformers) (2.23.0)\n",
            "Requirement already satisfied: tokenizers==0.9.4 in /usr/local/lib/python3.6/dist-packages (from transformers) (0.9.4)\n",
            "Requirement already satisfied: regex!=2019.12.17 in /usr/local/lib/python3.6/dist-packages (from transformers) (2019.12.20)\n",
            "Requirement already satisfied: packaging in /usr/local/lib/python3.6/dist-packages (from transformers) (20.8)\n",
            "Requirement already satisfied: tqdm>=4.27 in /usr/local/lib/python3.6/dist-packages (from transformers) (4.41.1)\n",
            "Requirement already satisfied: numpy in /usr/local/lib/python3.6/dist-packages (from transformers) (1.19.4)\n",
            "Requirement already satisfied: joblib in /usr/local/lib/python3.6/dist-packages (from sacremoses->transformers) (1.0.0)\n",
            "Requirement already satisfied: six in /usr/local/lib/python3.6/dist-packages (from sacremoses->transformers) (1.15.0)\n",
            "Requirement already satisfied: click in /usr/local/lib/python3.6/dist-packages (from sacremoses->transformers) (7.1.2)\n",
            "Requirement already satisfied: chardet<4,>=3.0.2 in /usr/local/lib/python3.6/dist-packages (from requests->transformers) (3.0.4)\n",
            "Requirement already satisfied: idna<3,>=2.5 in /usr/local/lib/python3.6/dist-packages (from requests->transformers) (2.10)\n",
            "Requirement already satisfied: urllib3!=1.25.0,!=1.25.1,<1.26,>=1.21.1 in /usr/local/lib/python3.6/dist-packages (from requests->transformers) (1.24.3)\n",
            "Requirement already satisfied: certifi>=2017.4.17 in /usr/local/lib/python3.6/dist-packages (from requests->transformers) (2020.12.5)\n"
          ],
          "name": "stdout"
        },
        {
          "output_type": "stream",
          "text": [
            "/usr/local/lib/python3.6/dist-packages/ipykernel_launcher.py:16: TqdmDeprecationWarning: This function will be removed in tqdm==5.0.0\n",
            "Please use `tqdm.notebook.*` instead of `tqdm._tqdm_notebook.*`\n",
            "  app.launch_new_instance()\n"
          ],
          "name": "stderr"
        },
        {
          "output_type": "stream",
          "text": [
            "[nltk_data] Downloading package wordnet to /root/nltk_data...\n",
            "[nltk_data]   Package wordnet is already up-to-date!\n",
            "[nltk_data] Downloading package stopwords to /root/nltk_data...\n",
            "[nltk_data]   Package stopwords is already up-to-date!\n",
            "[nltk_data] Downloading package punkt to /root/nltk_data...\n",
            "[nltk_data]   Package punkt is already up-to-date!\n"
          ],
          "name": "stdout"
        }
      ]
    },
    {
      "cell_type": "code",
      "metadata": {
        "id": "K0ETrpfjg_ha"
      },
      "source": [
        "msle = tf.keras.losses.MeanSquaredLogarithmicError()\r\n",
        "\r\n",
        "def root_mean_squared_logarithmic_error(y_true, y_pred):\r\n",
        "    return K.sqrt(msle(y_true, y_pred))"
      ],
      "execution_count": null,
      "outputs": []
    },
    {
      "cell_type": "markdown",
      "metadata": {
        "id": "PRXV0oKS-Yn3"
      },
      "source": [
        "## Colab"
      ]
    },
    {
      "cell_type": "code",
      "metadata": {
        "colab": {
          "base_uri": "https://localhost:8080/",
          "height": 36
        },
        "id": "ckhXGgT8-XzG",
        "outputId": "534a89c8-87eb-4553-f364-d850caf084c0"
      },
      "source": [
        "RunningInCOLAB = 'google.colab' in str(get_ipython())\n",
        "\n",
        "# check if in colab\n",
        "if RunningInCOLAB and not os.path.isdir('/content/gdrive'):\n",
        "    print(\"Running in colab\")\n",
        "    from google.colab import drive\n",
        "    drive.mount('/content/gdrive', force_remount=True)\n",
        "    colab_root = '/content/drive'\n",
        "      \n",
        "if RunningInCOLAB:\n",
        "    root_dir = \"/content/gdrive/My Drive/\"\n",
        "    base_dir = root_dir + 'project-mercari-price/'\n",
        "    if not os.path.isdir(base_dir):\n",
        "        os.mkdir(base_dir)\n",
        "else:\n",
        "    root_dir= os.getcwd()\n",
        "    base_dir = root_dir\n",
        "\n",
        "os.chdir(base_dir)\n",
        "\n",
        "os.getcwd()"
      ],
      "execution_count": null,
      "outputs": [
        {
          "output_type": "execute_result",
          "data": {
            "application/vnd.google.colaboratory.intrinsic+json": {
              "type": "string"
            },
            "text/plain": [
              "'/content/gdrive/My Drive/project-mercari-price'"
            ]
          },
          "metadata": {
            "tags": []
          },
          "execution_count": 3
        }
      ]
    },
    {
      "cell_type": "markdown",
      "metadata": {
        "id": "5tMt4O6n3yTD"
      },
      "source": [
        "## Dataset download"
      ]
    },
    {
      "cell_type": "code",
      "metadata": {
        "colab": {
          "base_uri": "https://localhost:8080/"
        },
        "id": "oXCUW4PtU00k",
        "outputId": "5d82f82c-46e0-4623-a17c-034443f9b486"
      },
      "source": [
        "dataset_downloaded_path = os.path.join(base_dir, \"dataset_downloaded.ignore\")\n",
        "dataset_downloaded = os.path.isfile(dataset_downloaded_path)\n",
        "dataset_downloaded\n",
        "\n",
        "if not dataset_downloaded:\n",
        "  # install kaggle to download dataset\n",
        "  ! pip install kaggle python-dotenv\n",
        "\n",
        "# set to True if you want to save kaggle credentials into a .env file\n",
        "persist_credentials = False\n",
        "\n",
        "if not dataset_downloaded:\n",
        "  # create .env file containing KAGGLE_USER and KAGGLE_KEY\n",
        "    kaggle_env = os.path.join(base_dir, '.env')\n",
        "    if not os.path.isfile(kaggle_env):\n",
        "        with open(kaggle_env, 'w') as envfile:\n",
        "            kaggle_user = input(\"Insert kaggle username\")\n",
        "            kaggle_key = input(\"Insert kaggle key; generate one from kaggle account\")\n",
        "        if persist_credentials:\n",
        "            envfile.write(f\"\"\"\n",
        "            KAGGLE_USERNAME={kaggle_user}\n",
        "            KAGGLE_KEY={kaggle_key}\n",
        "            \"\"\")\n",
        "\n",
        "        # set env vars\n",
        "        os.environ[\"KAGGLE_USERNAME\"] = kaggle_user\n",
        "        os.environ[\"KAGGLE_KEY\"] = kaggle_key\n",
        "\n",
        "        del kaggle_user\n",
        "        del kaggle_key\n",
        "\n",
        "if not dataset_downloaded:\n",
        "  # loading env vars if .env file exists\n",
        "    if os.path.isfile(kaggle_env):\n",
        "        from dotenv import load_dotenv\n",
        "        load_dotenv(dotenv_path=kaggle_env)\n",
        "    print(os.environ.get(\"KAGGLE_USERNAME\"))\n",
        "\n",
        "if not dataset_downloaded:\n",
        "    # download and extract dataset\n",
        "    ! kaggle competitions download -c mercari-price-suggestion-challenge\n",
        "\n",
        "    # create file so that we know we already downloaded\n",
        "    with open(dataset_downloaded_path, 'w') as dd_file:\n",
        "        dataset_downloaded = True\n",
        "        dd_file.write(\"\")\n",
        "\n",
        "    print('cwd: ', os.getcwd())\n",
        "    \n",
        "    os.listdir()\n",
        "\n",
        "if not dataset_downloaded:\n",
        "    ! 7z x train.tsv.7z\n",
        "    ! 7z x test.tsv.7z\n",
        "\n",
        "os.listdir()"
      ],
      "execution_count": null,
      "outputs": [
        {
          "output_type": "execute_result",
          "data": {
            "text/plain": [
              "['train.tsv',\n",
              " 'test.tsv',\n",
              " '.env',\n",
              " 'dataset_downloaded.ignore',\n",
              " 'model.png',\n",
              " 'MercariPrice1.ipynb']"
            ]
          },
          "metadata": {
            "tags": []
          },
          "execution_count": 4
        }
      ]
    },
    {
      "cell_type": "markdown",
      "metadata": {
        "id": "8pyEueRK3yTL"
      },
      "source": [
        "## Load dataset"
      ]
    },
    {
      "cell_type": "code",
      "metadata": {
        "colab": {
          "base_uri": "https://localhost:8080/",
          "height": 559
        },
        "id": "j5Vg17INU00x",
        "outputId": "dced5197-ac1f-47e8-d5ac-e7b0148a2658"
      },
      "source": [
        "dtypes={\n",
        "    'name': 'string',\n",
        "    'item_condition_id': 'int32',\n",
        "    'category_name': 'string',\n",
        "    'brand_name': 'string',\n",
        "    'price': 'float',\n",
        "    'shipping': 'int32',\n",
        "    'item_description': 'string'\n",
        "}\n",
        "data = pd.read_csv(\"train.tsv\", sep='\\t', dtype=dtypes)\n",
        "data = data.drop(columns=[\"train_id\"])\n",
        "print(data.dtypes)\n",
        "print(data.shape)\n",
        "data"
      ],
      "execution_count": null,
      "outputs": [
        {
          "output_type": "stream",
          "text": [
            "name                  string\n",
            "item_condition_id      int32\n",
            "category_name         string\n",
            "brand_name            string\n",
            "price                float64\n",
            "shipping               int32\n",
            "item_description      string\n",
            "dtype: object\n",
            "(1482535, 7)\n"
          ],
          "name": "stdout"
        },
        {
          "output_type": "execute_result",
          "data": {
            "text/html": [
              "<div>\n",
              "<style scoped>\n",
              "    .dataframe tbody tr th:only-of-type {\n",
              "        vertical-align: middle;\n",
              "    }\n",
              "\n",
              "    .dataframe tbody tr th {\n",
              "        vertical-align: top;\n",
              "    }\n",
              "\n",
              "    .dataframe thead th {\n",
              "        text-align: right;\n",
              "    }\n",
              "</style>\n",
              "<table border=\"1\" class=\"dataframe\">\n",
              "  <thead>\n",
              "    <tr style=\"text-align: right;\">\n",
              "      <th></th>\n",
              "      <th>name</th>\n",
              "      <th>item_condition_id</th>\n",
              "      <th>category_name</th>\n",
              "      <th>brand_name</th>\n",
              "      <th>price</th>\n",
              "      <th>shipping</th>\n",
              "      <th>item_description</th>\n",
              "    </tr>\n",
              "  </thead>\n",
              "  <tbody>\n",
              "    <tr>\n",
              "      <th>0</th>\n",
              "      <td>MLB Cincinnati Reds T Shirt Size XL</td>\n",
              "      <td>3</td>\n",
              "      <td>Men/Tops/T-shirts</td>\n",
              "      <td>&lt;NA&gt;</td>\n",
              "      <td>10.0</td>\n",
              "      <td>1</td>\n",
              "      <td>No description yet</td>\n",
              "    </tr>\n",
              "    <tr>\n",
              "      <th>1</th>\n",
              "      <td>Razer BlackWidow Chroma Keyboard</td>\n",
              "      <td>3</td>\n",
              "      <td>Electronics/Computers &amp; Tablets/Components &amp; P...</td>\n",
              "      <td>Razer</td>\n",
              "      <td>52.0</td>\n",
              "      <td>0</td>\n",
              "      <td>This keyboard is in great condition and works ...</td>\n",
              "    </tr>\n",
              "    <tr>\n",
              "      <th>2</th>\n",
              "      <td>AVA-VIV Blouse</td>\n",
              "      <td>1</td>\n",
              "      <td>Women/Tops &amp; Blouses/Blouse</td>\n",
              "      <td>Target</td>\n",
              "      <td>10.0</td>\n",
              "      <td>1</td>\n",
              "      <td>Adorable top with a hint of lace and a key hol...</td>\n",
              "    </tr>\n",
              "    <tr>\n",
              "      <th>3</th>\n",
              "      <td>Leather Horse Statues</td>\n",
              "      <td>1</td>\n",
              "      <td>Home/Home Décor/Home Décor Accents</td>\n",
              "      <td>&lt;NA&gt;</td>\n",
              "      <td>35.0</td>\n",
              "      <td>1</td>\n",
              "      <td>New with tags. Leather horses. Retail for [rm]...</td>\n",
              "    </tr>\n",
              "    <tr>\n",
              "      <th>4</th>\n",
              "      <td>24K GOLD plated rose</td>\n",
              "      <td>1</td>\n",
              "      <td>Women/Jewelry/Necklaces</td>\n",
              "      <td>&lt;NA&gt;</td>\n",
              "      <td>44.0</td>\n",
              "      <td>0</td>\n",
              "      <td>Complete with certificate of authenticity</td>\n",
              "    </tr>\n",
              "    <tr>\n",
              "      <th>...</th>\n",
              "      <td>...</td>\n",
              "      <td>...</td>\n",
              "      <td>...</td>\n",
              "      <td>...</td>\n",
              "      <td>...</td>\n",
              "      <td>...</td>\n",
              "      <td>...</td>\n",
              "    </tr>\n",
              "    <tr>\n",
              "      <th>1482530</th>\n",
              "      <td>Free People Inspired Dress</td>\n",
              "      <td>2</td>\n",
              "      <td>Women/Dresses/Mid-Calf</td>\n",
              "      <td>Free People</td>\n",
              "      <td>20.0</td>\n",
              "      <td>1</td>\n",
              "      <td>Lace, says size small but fits medium perfectl...</td>\n",
              "    </tr>\n",
              "    <tr>\n",
              "      <th>1482531</th>\n",
              "      <td>Little mermaid handmade dress</td>\n",
              "      <td>2</td>\n",
              "      <td>Kids/Girls 2T-5T/Dresses</td>\n",
              "      <td>Disney</td>\n",
              "      <td>14.0</td>\n",
              "      <td>0</td>\n",
              "      <td>Little mermaid handmade dress never worn size 2t</td>\n",
              "    </tr>\n",
              "    <tr>\n",
              "      <th>1482532</th>\n",
              "      <td>21 day fix containers and eating plan</td>\n",
              "      <td>2</td>\n",
              "      <td>Sports &amp; Outdoors/Exercise/Fitness accessories</td>\n",
              "      <td>&lt;NA&gt;</td>\n",
              "      <td>12.0</td>\n",
              "      <td>0</td>\n",
              "      <td>Used once or twice, still in great shape.</td>\n",
              "    </tr>\n",
              "    <tr>\n",
              "      <th>1482533</th>\n",
              "      <td>World markets lanterns</td>\n",
              "      <td>3</td>\n",
              "      <td>Home/Home Décor/Home Décor Accents</td>\n",
              "      <td>&lt;NA&gt;</td>\n",
              "      <td>45.0</td>\n",
              "      <td>1</td>\n",
              "      <td>There is 2 of each one that you see! So 2 red ...</td>\n",
              "    </tr>\n",
              "    <tr>\n",
              "      <th>1482534</th>\n",
              "      <td>Brand new lux de ville wallet</td>\n",
              "      <td>1</td>\n",
              "      <td>Women/Women's Accessories/Wallets</td>\n",
              "      <td>&lt;NA&gt;</td>\n",
              "      <td>22.0</td>\n",
              "      <td>0</td>\n",
              "      <td>New with tag, red with sparkle. Firm price, no...</td>\n",
              "    </tr>\n",
              "  </tbody>\n",
              "</table>\n",
              "<p>1482535 rows × 7 columns</p>\n",
              "</div>"
            ],
            "text/plain": [
              "                                          name  ...                                   item_description\n",
              "0          MLB Cincinnati Reds T Shirt Size XL  ...                                 No description yet\n",
              "1             Razer BlackWidow Chroma Keyboard  ...  This keyboard is in great condition and works ...\n",
              "2                               AVA-VIV Blouse  ...  Adorable top with a hint of lace and a key hol...\n",
              "3                        Leather Horse Statues  ...  New with tags. Leather horses. Retail for [rm]...\n",
              "4                         24K GOLD plated rose  ...          Complete with certificate of authenticity\n",
              "...                                        ...  ...                                                ...\n",
              "1482530             Free People Inspired Dress  ...  Lace, says size small but fits medium perfectl...\n",
              "1482531          Little mermaid handmade dress  ...   Little mermaid handmade dress never worn size 2t\n",
              "1482532  21 day fix containers and eating plan  ...          Used once or twice, still in great shape.\n",
              "1482533                 World markets lanterns  ...  There is 2 of each one that you see! So 2 red ...\n",
              "1482534          Brand new lux de ville wallet  ...  New with tag, red with sparkle. Firm price, no...\n",
              "\n",
              "[1482535 rows x 7 columns]"
            ]
          },
          "metadata": {
            "tags": []
          },
          "execution_count": 4
        }
      ]
    },
    {
      "cell_type": "code",
      "metadata": {
        "colab": {
          "base_uri": "https://localhost:8080/",
          "height": 541
        },
        "id": "vWgi5SxW9SsE",
        "outputId": "f829ce94-4ad3-4fb1-a5ec-f22bb6f883e2"
      },
      "source": [
        "dtypes={\r\n",
        "    'name': 'string',\r\n",
        "    'item_condition_id': 'int32',\r\n",
        "    'category_name': 'string',\r\n",
        "    'brand_name': 'string',\r\n",
        "    'price': 'float',\r\n",
        "    'shipping': 'int32',\r\n",
        "    'item_description': 'string'\r\n",
        "}\r\n",
        "test = pd.read_csv(\"test.tsv\", sep='\\t', dtype=dtypes)\r\n",
        "test = test.drop(columns=[\"test_id\"])\r\n",
        "print(test.dtypes)\r\n",
        "print(test.shape)\r\n",
        "test"
      ],
      "execution_count": null,
      "outputs": [
        {
          "output_type": "stream",
          "text": [
            "name                 string\n",
            "item_condition_id     int32\n",
            "category_name        string\n",
            "brand_name           string\n",
            "shipping              int32\n",
            "item_description     string\n",
            "dtype: object\n",
            "(693359, 6)\n"
          ],
          "name": "stdout"
        },
        {
          "output_type": "execute_result",
          "data": {
            "text/html": [
              "<div>\n",
              "<style scoped>\n",
              "    .dataframe tbody tr th:only-of-type {\n",
              "        vertical-align: middle;\n",
              "    }\n",
              "\n",
              "    .dataframe tbody tr th {\n",
              "        vertical-align: top;\n",
              "    }\n",
              "\n",
              "    .dataframe thead th {\n",
              "        text-align: right;\n",
              "    }\n",
              "</style>\n",
              "<table border=\"1\" class=\"dataframe\">\n",
              "  <thead>\n",
              "    <tr style=\"text-align: right;\">\n",
              "      <th></th>\n",
              "      <th>name</th>\n",
              "      <th>item_condition_id</th>\n",
              "      <th>category_name</th>\n",
              "      <th>brand_name</th>\n",
              "      <th>shipping</th>\n",
              "      <th>item_description</th>\n",
              "    </tr>\n",
              "  </thead>\n",
              "  <tbody>\n",
              "    <tr>\n",
              "      <th>0</th>\n",
              "      <td>Breast cancer \"I fight like a girl\" ring</td>\n",
              "      <td>1</td>\n",
              "      <td>Women/Jewelry/Rings</td>\n",
              "      <td>&lt;NA&gt;</td>\n",
              "      <td>1</td>\n",
              "      <td>Size 7</td>\n",
              "    </tr>\n",
              "    <tr>\n",
              "      <th>1</th>\n",
              "      <td>25 pcs NEW 7.5\"x12\" Kraft Bubble Mailers</td>\n",
              "      <td>1</td>\n",
              "      <td>Other/Office supplies/Shipping Supplies</td>\n",
              "      <td>&lt;NA&gt;</td>\n",
              "      <td>1</td>\n",
              "      <td>25 pcs NEW 7.5\"x12\" Kraft Bubble Mailers Lined...</td>\n",
              "    </tr>\n",
              "    <tr>\n",
              "      <th>2</th>\n",
              "      <td>Coach bag</td>\n",
              "      <td>1</td>\n",
              "      <td>Vintage &amp; Collectibles/Bags and Purses/Handbag</td>\n",
              "      <td>Coach</td>\n",
              "      <td>1</td>\n",
              "      <td>Brand new coach bag. Bought for [rm] at a Coac...</td>\n",
              "    </tr>\n",
              "    <tr>\n",
              "      <th>3</th>\n",
              "      <td>Floral Kimono</td>\n",
              "      <td>2</td>\n",
              "      <td>Women/Sweaters/Cardigan</td>\n",
              "      <td>&lt;NA&gt;</td>\n",
              "      <td>0</td>\n",
              "      <td>-floral kimono -never worn -lightweight and pe...</td>\n",
              "    </tr>\n",
              "    <tr>\n",
              "      <th>4</th>\n",
              "      <td>Life after Death</td>\n",
              "      <td>3</td>\n",
              "      <td>Other/Books/Religion &amp; Spirituality</td>\n",
              "      <td>&lt;NA&gt;</td>\n",
              "      <td>1</td>\n",
              "      <td>Rediscovering life after the loss of a loved o...</td>\n",
              "    </tr>\n",
              "    <tr>\n",
              "      <th>...</th>\n",
              "      <td>...</td>\n",
              "      <td>...</td>\n",
              "      <td>...</td>\n",
              "      <td>...</td>\n",
              "      <td>...</td>\n",
              "      <td>...</td>\n",
              "    </tr>\n",
              "    <tr>\n",
              "      <th>693354</th>\n",
              "      <td>Quartz crystal on Flint stone</td>\n",
              "      <td>1</td>\n",
              "      <td>Home/Home Décor/Home Décor Accents</td>\n",
              "      <td>&lt;NA&gt;</td>\n",
              "      <td>0</td>\n",
              "      <td>Flint/Quartz cluster. Self mined ✨measures 3x2...</td>\n",
              "    </tr>\n",
              "    <tr>\n",
              "      <th>693355</th>\n",
              "      <td>It Cosmetics - Travel Bundle</td>\n",
              "      <td>1</td>\n",
              "      <td>Beauty/Makeup/Makeup Sets</td>\n",
              "      <td>IT Cosmetics</td>\n",
              "      <td>1</td>\n",
              "      <td>It Cosmetics travel bundle. Includes: Brow pow...</td>\n",
              "    </tr>\n",
              "    <tr>\n",
              "      <th>693356</th>\n",
              "      <td>Galaxy S8 hard shell case</td>\n",
              "      <td>1</td>\n",
              "      <td>Electronics/Cell Phones &amp; Accessories/Cases, C...</td>\n",
              "      <td>&lt;NA&gt;</td>\n",
              "      <td>1</td>\n",
              "      <td>New. Free shipping Basstop case</td>\n",
              "    </tr>\n",
              "    <tr>\n",
              "      <th>693357</th>\n",
              "      <td>Hi low floral kimono</td>\n",
              "      <td>2</td>\n",
              "      <td>Women/Swimwear/Cover-Ups</td>\n",
              "      <td>&lt;NA&gt;</td>\n",
              "      <td>0</td>\n",
              "      <td>Floral kimono. Tropical print. Open front. Hi ...</td>\n",
              "    </tr>\n",
              "    <tr>\n",
              "      <th>693358</th>\n",
              "      <td>FREESHIP 2 Floral Scrub Tops, medium.</td>\n",
              "      <td>2</td>\n",
              "      <td>Women/Tops &amp; Blouses/T-Shirts</td>\n",
              "      <td>&lt;NA&gt;</td>\n",
              "      <td>1</td>\n",
              "      <td>2 Floral scrub tops. Worn less than 5 times ea...</td>\n",
              "    </tr>\n",
              "  </tbody>\n",
              "</table>\n",
              "<p>693359 rows × 6 columns</p>\n",
              "</div>"
            ],
            "text/plain": [
              "                                            name  ...                                   item_description\n",
              "0       Breast cancer \"I fight like a girl\" ring  ...                                             Size 7\n",
              "1       25 pcs NEW 7.5\"x12\" Kraft Bubble Mailers  ...  25 pcs NEW 7.5\"x12\" Kraft Bubble Mailers Lined...\n",
              "2                                      Coach bag  ...  Brand new coach bag. Bought for [rm] at a Coac...\n",
              "3                                  Floral Kimono  ...  -floral kimono -never worn -lightweight and pe...\n",
              "4                               Life after Death  ...  Rediscovering life after the loss of a loved o...\n",
              "...                                          ...  ...                                                ...\n",
              "693354             Quartz crystal on Flint stone  ...  Flint/Quartz cluster. Self mined ✨measures 3x2...\n",
              "693355              It Cosmetics - Travel Bundle  ...  It Cosmetics travel bundle. Includes: Brow pow...\n",
              "693356                 Galaxy S8 hard shell case  ...                    New. Free shipping Basstop case\n",
              "693357                      Hi low floral kimono  ...  Floral kimono. Tropical print. Open front. Hi ...\n",
              "693358     FREESHIP 2 Floral Scrub Tops, medium.  ...  2 Floral scrub tops. Worn less than 5 times ea...\n",
              "\n",
              "[693359 rows x 6 columns]"
            ]
          },
          "metadata": {
            "tags": []
          },
          "execution_count": 5
        }
      ]
    },
    {
      "cell_type": "code",
      "metadata": {
        "colab": {
          "base_uri": "https://localhost:8080/"
        },
        "id": "rvujMFFXCxL8",
        "outputId": "089b583b-b368-45e3-9dad-1b3025018f0c"
      },
      "source": [
        "for column in data.columns:\n",
        "    print(\"number of null value in {} : {}\".format(column,data[column].isnull().sum()))"
      ],
      "execution_count": null,
      "outputs": [
        {
          "output_type": "stream",
          "text": [
            "number of null value in name : 0\n",
            "number of null value in item_condition_id : 0\n",
            "number of null value in category_name : 6327\n",
            "number of null value in brand_name : 632682\n",
            "number of null value in price : 0\n",
            "number of null value in shipping : 0\n",
            "number of null value in item_description : 4\n"
          ],
          "name": "stdout"
        }
      ]
    },
    {
      "cell_type": "code",
      "metadata": {
        "colab": {
          "base_uri": "https://localhost:8080/"
        },
        "id": "6NltZr2wAdYc",
        "outputId": "90fbe092-ea5b-4c87-9785-282eb6b0217f"
      },
      "source": [
        "for column in test.columns:\r\n",
        "    print(\"number of null value in {} : {}\".format(column,test[column].isnull().sum()))"
      ],
      "execution_count": null,
      "outputs": [
        {
          "output_type": "stream",
          "text": [
            "number of null value in name : 0\n",
            "number of null value in item_condition_id : 0\n",
            "number of null value in category_name : 3058\n",
            "number of null value in brand_name : 295525\n",
            "number of null value in shipping : 0\n",
            "number of null value in item_description : 0\n"
          ],
          "name": "stdout"
        }
      ]
    },
    {
      "cell_type": "code",
      "metadata": {
        "colab": {
          "base_uri": "https://localhost:8080/"
        },
        "id": "XtxgmC-LHnmN",
        "outputId": "0e618cb6-1888-4f6f-ebd3-f9c01cc1fea0"
      },
      "source": [
        "data[\"category_name\"].value_counts()"
      ],
      "execution_count": null,
      "outputs": [
        {
          "output_type": "execute_result",
          "data": {
            "text/plain": [
              "Women/Athletic Apparel/Pants, Tights, Leggings    60177\n",
              "Women/Tops & Blouses/T-Shirts                     46380\n",
              "Beauty/Makeup/Face                                34335\n",
              "Beauty/Makeup/Lips                                29910\n",
              "Electronics/Video Games & Consoles/Games          26557\n",
              "                                                  ...  \n",
              "Handmade/Housewares/Bathroom                          1\n",
              "Handmade/Quilts/Pillow                                1\n",
              "Vintage & Collectibles/Supplies/Ephemera              1\n",
              "Handmade/Quilts/Trim                                  1\n",
              "Handmade/Knitting/Women                               1\n",
              "Name: category_name, Length: 1287, dtype: Int64"
            ]
          },
          "metadata": {
            "tags": []
          },
          "execution_count": 8
        }
      ]
    },
    {
      "cell_type": "code",
      "metadata": {
        "colab": {
          "base_uri": "https://localhost:8080/"
        },
        "id": "JOYErCoVHnmO",
        "outputId": "c2e4a22a-516b-4319-f663-7dbccde1a83b"
      },
      "source": [
        "data[\"price\"].describe()"
      ],
      "execution_count": null,
      "outputs": [
        {
          "output_type": "execute_result",
          "data": {
            "text/plain": [
              "count    1.482535e+06\n",
              "mean     2.673752e+01\n",
              "std      3.858607e+01\n",
              "min      0.000000e+00\n",
              "25%      1.000000e+01\n",
              "50%      1.700000e+01\n",
              "75%      2.900000e+01\n",
              "max      2.009000e+03\n",
              "Name: price, dtype: float64"
            ]
          },
          "metadata": {
            "tags": []
          },
          "execution_count": 9
        }
      ]
    },
    {
      "cell_type": "markdown",
      "metadata": {
        "id": "cw5N2UjxiPcW"
      },
      "source": [
        "# Data cleaning\n",
        "\n",
        "Handle missing values and wrong prices"
      ]
    },
    {
      "cell_type": "markdown",
      "metadata": {
        "id": "UnzdF-qLrlGI"
      },
      "source": [
        "https://www.mercari.com/us/help_center/article/69"
      ]
    },
    {
      "cell_type": "code",
      "metadata": {
        "colab": {
          "base_uri": "https://localhost:8080/"
        },
        "id": "yyUE4a4Jp4E9",
        "outputId": "a4f5df20-62bb-4eca-955e-3f4d6df2dc29"
      },
      "source": [
        "len(data[data[\"price\"]<5])"
      ],
      "execution_count": null,
      "outputs": [
        {
          "output_type": "execute_result",
          "data": {
            "text/plain": [
              "35716"
            ]
          },
          "metadata": {
            "tags": []
          },
          "execution_count": 6
        }
      ]
    },
    {
      "cell_type": "code",
      "metadata": {
        "id": "jCbqNKgKp7f2"
      },
      "source": [
        "data=data[data[\"price\"]>=5]"
      ],
      "execution_count": null,
      "outputs": []
    },
    {
      "cell_type": "code",
      "metadata": {
        "colab": {
          "base_uri": "https://localhost:8080/"
        },
        "id": "kxBs1Xr4AlsD",
        "outputId": "81d51c3c-2644-41d0-b49c-7adf46c636ec"
      },
      "source": [
        "data = data[data[\"item_description\"].notna()]\r\n",
        "data[\"brand_name\"] = data[\"brand_name\"].fillna(value=\"NA\")\r\n",
        "data[\"category_name\"] = data[\"category_name\"].fillna(value=\"NA\")\r\n",
        "# see warnings -> inplace?\r\n",
        "data.shape"
      ],
      "execution_count": null,
      "outputs": [
        {
          "output_type": "execute_result",
          "data": {
            "text/plain": [
              "(1446815, 7)"
            ]
          },
          "metadata": {
            "tags": []
          },
          "execution_count": 7
        }
      ]
    },
    {
      "cell_type": "code",
      "metadata": {
        "colab": {
          "base_uri": "https://localhost:8080/"
        },
        "id": "jUBsIEJqC0cg",
        "outputId": "036f7e65-f599-49fb-9acb-3defaacc4b03"
      },
      "source": [
        "test[\"brand_name\"] = test[\"brand_name\"].fillna(value=\"NA\")\n",
        "test[\"category_name\"] = test[\"category_name\"].fillna(value=\"NA\")\n",
        "# see warnings -> inplace?\n",
        "test.shape"
      ],
      "execution_count": null,
      "outputs": [
        {
          "output_type": "execute_result",
          "data": {
            "text/plain": [
              "(693359, 6)"
            ]
          },
          "metadata": {
            "tags": []
          },
          "execution_count": 8
        }
      ]
    },
    {
      "cell_type": "code",
      "metadata": {
        "colab": {
          "base_uri": "https://localhost:8080/",
          "height": 399
        },
        "id": "FNY29qP2HnmS",
        "outputId": "3895ac38-57e0-44b8-9bec-3c685baa001d"
      },
      "source": [
        "data"
      ],
      "execution_count": null,
      "outputs": [
        {
          "output_type": "execute_result",
          "data": {
            "text/html": [
              "<div>\n",
              "<style scoped>\n",
              "    .dataframe tbody tr th:only-of-type {\n",
              "        vertical-align: middle;\n",
              "    }\n",
              "\n",
              "    .dataframe tbody tr th {\n",
              "        vertical-align: top;\n",
              "    }\n",
              "\n",
              "    .dataframe thead th {\n",
              "        text-align: right;\n",
              "    }\n",
              "</style>\n",
              "<table border=\"1\" class=\"dataframe\">\n",
              "  <thead>\n",
              "    <tr style=\"text-align: right;\">\n",
              "      <th></th>\n",
              "      <th>name</th>\n",
              "      <th>item_condition_id</th>\n",
              "      <th>category_name</th>\n",
              "      <th>brand_name</th>\n",
              "      <th>price</th>\n",
              "      <th>shipping</th>\n",
              "      <th>item_description</th>\n",
              "    </tr>\n",
              "  </thead>\n",
              "  <tbody>\n",
              "    <tr>\n",
              "      <th>0</th>\n",
              "      <td>MLB Cincinnati Reds T Shirt Size XL</td>\n",
              "      <td>3</td>\n",
              "      <td>Men/Tops/T-shirts</td>\n",
              "      <td>NA</td>\n",
              "      <td>10.0</td>\n",
              "      <td>1</td>\n",
              "      <td>No description yet</td>\n",
              "    </tr>\n",
              "    <tr>\n",
              "      <th>1</th>\n",
              "      <td>Razer BlackWidow Chroma Keyboard</td>\n",
              "      <td>3</td>\n",
              "      <td>Electronics/Computers &amp; Tablets/Components &amp; P...</td>\n",
              "      <td>Razer</td>\n",
              "      <td>52.0</td>\n",
              "      <td>0</td>\n",
              "      <td>This keyboard is in great condition and works ...</td>\n",
              "    </tr>\n",
              "    <tr>\n",
              "      <th>2</th>\n",
              "      <td>AVA-VIV Blouse</td>\n",
              "      <td>1</td>\n",
              "      <td>Women/Tops &amp; Blouses/Blouse</td>\n",
              "      <td>Target</td>\n",
              "      <td>10.0</td>\n",
              "      <td>1</td>\n",
              "      <td>Adorable top with a hint of lace and a key hol...</td>\n",
              "    </tr>\n",
              "    <tr>\n",
              "      <th>3</th>\n",
              "      <td>Leather Horse Statues</td>\n",
              "      <td>1</td>\n",
              "      <td>Home/Home Décor/Home Décor Accents</td>\n",
              "      <td>NA</td>\n",
              "      <td>35.0</td>\n",
              "      <td>1</td>\n",
              "      <td>New with tags. Leather horses. Retail for [rm]...</td>\n",
              "    </tr>\n",
              "    <tr>\n",
              "      <th>4</th>\n",
              "      <td>24K GOLD plated rose</td>\n",
              "      <td>1</td>\n",
              "      <td>Women/Jewelry/Necklaces</td>\n",
              "      <td>NA</td>\n",
              "      <td>44.0</td>\n",
              "      <td>0</td>\n",
              "      <td>Complete with certificate of authenticity</td>\n",
              "    </tr>\n",
              "    <tr>\n",
              "      <th>...</th>\n",
              "      <td>...</td>\n",
              "      <td>...</td>\n",
              "      <td>...</td>\n",
              "      <td>...</td>\n",
              "      <td>...</td>\n",
              "      <td>...</td>\n",
              "      <td>...</td>\n",
              "    </tr>\n",
              "    <tr>\n",
              "      <th>1482530</th>\n",
              "      <td>Free People Inspired Dress</td>\n",
              "      <td>2</td>\n",
              "      <td>Women/Dresses/Mid-Calf</td>\n",
              "      <td>Free People</td>\n",
              "      <td>20.0</td>\n",
              "      <td>1</td>\n",
              "      <td>Lace, says size small but fits medium perfectl...</td>\n",
              "    </tr>\n",
              "    <tr>\n",
              "      <th>1482531</th>\n",
              "      <td>Little mermaid handmade dress</td>\n",
              "      <td>2</td>\n",
              "      <td>Kids/Girls 2T-5T/Dresses</td>\n",
              "      <td>Disney</td>\n",
              "      <td>14.0</td>\n",
              "      <td>0</td>\n",
              "      <td>Little mermaid handmade dress never worn size 2t</td>\n",
              "    </tr>\n",
              "    <tr>\n",
              "      <th>1482532</th>\n",
              "      <td>21 day fix containers and eating plan</td>\n",
              "      <td>2</td>\n",
              "      <td>Sports &amp; Outdoors/Exercise/Fitness accessories</td>\n",
              "      <td>NA</td>\n",
              "      <td>12.0</td>\n",
              "      <td>0</td>\n",
              "      <td>Used once or twice, still in great shape.</td>\n",
              "    </tr>\n",
              "    <tr>\n",
              "      <th>1482533</th>\n",
              "      <td>World markets lanterns</td>\n",
              "      <td>3</td>\n",
              "      <td>Home/Home Décor/Home Décor Accents</td>\n",
              "      <td>NA</td>\n",
              "      <td>45.0</td>\n",
              "      <td>1</td>\n",
              "      <td>There is 2 of each one that you see! So 2 red ...</td>\n",
              "    </tr>\n",
              "    <tr>\n",
              "      <th>1482534</th>\n",
              "      <td>Brand new lux de ville wallet</td>\n",
              "      <td>1</td>\n",
              "      <td>Women/Women's Accessories/Wallets</td>\n",
              "      <td>NA</td>\n",
              "      <td>22.0</td>\n",
              "      <td>0</td>\n",
              "      <td>New with tag, red with sparkle. Firm price, no...</td>\n",
              "    </tr>\n",
              "  </tbody>\n",
              "</table>\n",
              "<p>1446815 rows × 7 columns</p>\n",
              "</div>"
            ],
            "text/plain": [
              "                                          name  ...                                   item_description\n",
              "0          MLB Cincinnati Reds T Shirt Size XL  ...                                 No description yet\n",
              "1             Razer BlackWidow Chroma Keyboard  ...  This keyboard is in great condition and works ...\n",
              "2                               AVA-VIV Blouse  ...  Adorable top with a hint of lace and a key hol...\n",
              "3                        Leather Horse Statues  ...  New with tags. Leather horses. Retail for [rm]...\n",
              "4                         24K GOLD plated rose  ...          Complete with certificate of authenticity\n",
              "...                                        ...  ...                                                ...\n",
              "1482530             Free People Inspired Dress  ...  Lace, says size small but fits medium perfectl...\n",
              "1482531          Little mermaid handmade dress  ...   Little mermaid handmade dress never worn size 2t\n",
              "1482532  21 day fix containers and eating plan  ...          Used once or twice, still in great shape.\n",
              "1482533                 World markets lanterns  ...  There is 2 of each one that you see! So 2 red ...\n",
              "1482534          Brand new lux de ville wallet  ...  New with tag, red with sparkle. Firm price, no...\n",
              "\n",
              "[1446815 rows x 7 columns]"
            ]
          },
          "metadata": {
            "tags": []
          },
          "execution_count": 8
        }
      ]
    },
    {
      "cell_type": "markdown",
      "metadata": {
        "id": "4m7ykQvijKp8"
      },
      "source": [
        "# Preprocessing"
      ]
    },
    {
      "cell_type": "code",
      "metadata": {
        "colab": {
          "base_uri": "https://localhost:8080/",
          "height": 194
        },
        "id": "lkGhq22YJJGf",
        "outputId": "1ff10b17-afcb-4a78-9ec8-508038b9735e"
      },
      "source": [
        "data[\"item_description\"]=data[\"item_description\"].str.lower()\r\n",
        "data[\"name\"]=data[\"name\"].str.lower()\r\n",
        "data.head()"
      ],
      "execution_count": null,
      "outputs": [
        {
          "output_type": "execute_result",
          "data": {
            "text/html": [
              "<div>\n",
              "<style scoped>\n",
              "    .dataframe tbody tr th:only-of-type {\n",
              "        vertical-align: middle;\n",
              "    }\n",
              "\n",
              "    .dataframe tbody tr th {\n",
              "        vertical-align: top;\n",
              "    }\n",
              "\n",
              "    .dataframe thead th {\n",
              "        text-align: right;\n",
              "    }\n",
              "</style>\n",
              "<table border=\"1\" class=\"dataframe\">\n",
              "  <thead>\n",
              "    <tr style=\"text-align: right;\">\n",
              "      <th></th>\n",
              "      <th>name</th>\n",
              "      <th>item_condition_id</th>\n",
              "      <th>category_name</th>\n",
              "      <th>brand_name</th>\n",
              "      <th>price</th>\n",
              "      <th>shipping</th>\n",
              "      <th>item_description</th>\n",
              "    </tr>\n",
              "  </thead>\n",
              "  <tbody>\n",
              "    <tr>\n",
              "      <th>0</th>\n",
              "      <td>mlb cincinnati reds t shirt size xl</td>\n",
              "      <td>3</td>\n",
              "      <td>Men/Tops/T-shirts</td>\n",
              "      <td>NA</td>\n",
              "      <td>10.0</td>\n",
              "      <td>1</td>\n",
              "      <td>no description yet</td>\n",
              "    </tr>\n",
              "    <tr>\n",
              "      <th>1</th>\n",
              "      <td>razer blackwidow chroma keyboard</td>\n",
              "      <td>3</td>\n",
              "      <td>Electronics/Computers &amp; Tablets/Components &amp; P...</td>\n",
              "      <td>Razer</td>\n",
              "      <td>52.0</td>\n",
              "      <td>0</td>\n",
              "      <td>this keyboard is in great condition and works ...</td>\n",
              "    </tr>\n",
              "    <tr>\n",
              "      <th>2</th>\n",
              "      <td>ava-viv blouse</td>\n",
              "      <td>1</td>\n",
              "      <td>Women/Tops &amp; Blouses/Blouse</td>\n",
              "      <td>Target</td>\n",
              "      <td>10.0</td>\n",
              "      <td>1</td>\n",
              "      <td>adorable top with a hint of lace and a key hol...</td>\n",
              "    </tr>\n",
              "    <tr>\n",
              "      <th>3</th>\n",
              "      <td>leather horse statues</td>\n",
              "      <td>1</td>\n",
              "      <td>Home/Home Décor/Home Décor Accents</td>\n",
              "      <td>NA</td>\n",
              "      <td>35.0</td>\n",
              "      <td>1</td>\n",
              "      <td>new with tags. leather horses. retail for [rm]...</td>\n",
              "    </tr>\n",
              "    <tr>\n",
              "      <th>4</th>\n",
              "      <td>24k gold plated rose</td>\n",
              "      <td>1</td>\n",
              "      <td>Women/Jewelry/Necklaces</td>\n",
              "      <td>NA</td>\n",
              "      <td>44.0</td>\n",
              "      <td>0</td>\n",
              "      <td>complete with certificate of authenticity</td>\n",
              "    </tr>\n",
              "  </tbody>\n",
              "</table>\n",
              "</div>"
            ],
            "text/plain": [
              "                                  name  ...                                   item_description\n",
              "0  mlb cincinnati reds t shirt size xl  ...                                 no description yet\n",
              "1     razer blackwidow chroma keyboard  ...  this keyboard is in great condition and works ...\n",
              "2                       ava-viv blouse  ...  adorable top with a hint of lace and a key hol...\n",
              "3                leather horse statues  ...  new with tags. leather horses. retail for [rm]...\n",
              "4                 24k gold plated rose  ...          complete with certificate of authenticity\n",
              "\n",
              "[5 rows x 7 columns]"
            ]
          },
          "metadata": {
            "tags": []
          },
          "execution_count": 9
        }
      ]
    },
    {
      "cell_type": "code",
      "metadata": {
        "colab": {
          "base_uri": "https://localhost:8080/",
          "height": 194
        },
        "id": "uqevrhyRC7yy",
        "outputId": "079527d9-6eb2-42f9-cc63-c79de4b1c891"
      },
      "source": [
        "test[\"item_description\"]=test[\"item_description\"].str.lower()\r\n",
        "test[\"name\"]=test[\"name\"].str.lower()\r\n",
        "test.head()"
      ],
      "execution_count": null,
      "outputs": [
        {
          "output_type": "execute_result",
          "data": {
            "text/html": [
              "<div>\n",
              "<style scoped>\n",
              "    .dataframe tbody tr th:only-of-type {\n",
              "        vertical-align: middle;\n",
              "    }\n",
              "\n",
              "    .dataframe tbody tr th {\n",
              "        vertical-align: top;\n",
              "    }\n",
              "\n",
              "    .dataframe thead th {\n",
              "        text-align: right;\n",
              "    }\n",
              "</style>\n",
              "<table border=\"1\" class=\"dataframe\">\n",
              "  <thead>\n",
              "    <tr style=\"text-align: right;\">\n",
              "      <th></th>\n",
              "      <th>name</th>\n",
              "      <th>item_condition_id</th>\n",
              "      <th>category_name</th>\n",
              "      <th>brand_name</th>\n",
              "      <th>shipping</th>\n",
              "      <th>item_description</th>\n",
              "    </tr>\n",
              "  </thead>\n",
              "  <tbody>\n",
              "    <tr>\n",
              "      <th>0</th>\n",
              "      <td>breast cancer \"i fight like a girl\" ring</td>\n",
              "      <td>1</td>\n",
              "      <td>Women/Jewelry/Rings</td>\n",
              "      <td>NA</td>\n",
              "      <td>1</td>\n",
              "      <td>size 7</td>\n",
              "    </tr>\n",
              "    <tr>\n",
              "      <th>1</th>\n",
              "      <td>25 pcs new 7.5\"x12\" kraft bubble mailers</td>\n",
              "      <td>1</td>\n",
              "      <td>Other/Office supplies/Shipping Supplies</td>\n",
              "      <td>NA</td>\n",
              "      <td>1</td>\n",
              "      <td>25 pcs new 7.5\"x12\" kraft bubble mailers lined...</td>\n",
              "    </tr>\n",
              "    <tr>\n",
              "      <th>2</th>\n",
              "      <td>coach bag</td>\n",
              "      <td>1</td>\n",
              "      <td>Vintage &amp; Collectibles/Bags and Purses/Handbag</td>\n",
              "      <td>Coach</td>\n",
              "      <td>1</td>\n",
              "      <td>brand new coach bag. bought for [rm] at a coac...</td>\n",
              "    </tr>\n",
              "    <tr>\n",
              "      <th>3</th>\n",
              "      <td>floral kimono</td>\n",
              "      <td>2</td>\n",
              "      <td>Women/Sweaters/Cardigan</td>\n",
              "      <td>NA</td>\n",
              "      <td>0</td>\n",
              "      <td>-floral kimono -never worn -lightweight and pe...</td>\n",
              "    </tr>\n",
              "    <tr>\n",
              "      <th>4</th>\n",
              "      <td>life after death</td>\n",
              "      <td>3</td>\n",
              "      <td>Other/Books/Religion &amp; Spirituality</td>\n",
              "      <td>NA</td>\n",
              "      <td>1</td>\n",
              "      <td>rediscovering life after the loss of a loved o...</td>\n",
              "    </tr>\n",
              "  </tbody>\n",
              "</table>\n",
              "</div>"
            ],
            "text/plain": [
              "                                       name  ...                                   item_description\n",
              "0  breast cancer \"i fight like a girl\" ring  ...                                             size 7\n",
              "1  25 pcs new 7.5\"x12\" kraft bubble mailers  ...  25 pcs new 7.5\"x12\" kraft bubble mailers lined...\n",
              "2                                 coach bag  ...  brand new coach bag. bought for [rm] at a coac...\n",
              "3                             floral kimono  ...  -floral kimono -never worn -lightweight and pe...\n",
              "4                          life after death  ...  rediscovering life after the loss of a loved o...\n",
              "\n",
              "[5 rows x 6 columns]"
            ]
          },
          "metadata": {
            "tags": []
          },
          "execution_count": 10
        }
      ]
    },
    {
      "cell_type": "code",
      "metadata": {
        "id": "6WynSk_Mdj44"
      },
      "source": [
        "tweetTokenizer = TweetTokenizer()\n",
        "\n",
        "def list_to_str(l):\n",
        "   return ' '.join([str(elem) for elem in l])\n",
        "   \n",
        "def textCleanup(df, flag=True):\n",
        "  df=df.to_frame(name=\"str\")\n",
        "  #df[\"clean\"] = df[\"str\"].progress_apply(text_to_word_sequence)   # 20 secondi\n",
        "  global tweetTokenizer\n",
        "  df[\"clean\"] = df[\"str\"].progress_apply(tweetTokenizer.tokenize) # 2 minutes but correctly handles emojis\n",
        "\n",
        "  # punct and stop words\n",
        "  \n",
        "\n",
        "  lemmatizer = WordNetLemmatizer() \n",
        "  \n",
        "  df[\"clean\"] = df[\"clean\"].progress_apply(lambda sentence : [lemmatizer.lemmatize(word) for word in sentence if word not in stop_words]) # 10 secondi\n",
        "  df[\"clean\"] = df[\"clean\"].progress_apply(lambda sentence:\n",
        "                                           [w for w in sentence if w\n",
        "                                              not in string.punctuation\n",
        "                                              and w not in stop_words and (len(w)>1 or w.isdigit()) and w not in emoji.UNICODE_EMOJI]) # 18 s\n",
        "  plot_common_tokens(df[\"clean\"], \"Most Common Tokens without StopWords\", n=20)\n",
        "  if flag:\n",
        "    df[\"clean\"] = df[\"clean\"].progress_apply(list_to_str) # 6 secondi\n",
        "  return df[\"clean\"]"
      ],
      "execution_count": null,
      "outputs": []
    },
    {
      "cell_type": "code",
      "metadata": {
        "id": "JwTCeUoL6Rq7"
      },
      "source": [
        "def preprocessData(data):\n",
        "  print('description clean up')\n",
        "  data[\"item_description_clean\"] = textCleanup(data[\"item_description\"]) \n",
        "\n",
        "  print('name clean up')\n",
        "  data[\"name_clean\"] = textCleanup(data[\"name\"])\n",
        "  \n",
        "  return data"
      ],
      "execution_count": null,
      "outputs": []
    },
    {
      "cell_type": "code",
      "metadata": {
        "id": "_JELRL6ipo0D"
      },
      "source": [
        "def flat_list(l):\r\n",
        "    return  [item for sublist in l for item in sublist]"
      ],
      "execution_count": null,
      "outputs": []
    },
    {
      "cell_type": "code",
      "metadata": {
        "id": "gMSrHLKdpWQL"
      },
      "source": [
        "def plot_common_tokens(tokens, title, n=20):\r\n",
        "    sentences = (list(itertools.chain(tokens)))\r\n",
        "    flat_sentences = flat_list(sentences)\r\n",
        "    counts = Counter(flat_sentences)\r\n",
        "    #print(counts.most_common(30))\r\n",
        "    common_words = [word[0] for word in counts.most_common(n)]\r\n",
        "    common_counts = [word[1] for word in counts.most_common(n)]\r\n",
        "    fig = plt.figure(figsize=(18,6))\r\n",
        "    sns.barplot(x=common_words, y=common_counts)\r\n",
        "    plt.title(title)\r\n",
        "    plt.show()"
      ],
      "execution_count": null,
      "outputs": []
    },
    {
      "cell_type": "code",
      "metadata": {
        "colab": {
          "background_save": true,
          "base_uri": "https://localhost:8080/",
          "height": 116,
          "referenced_widgets": [
            "fd983a4f8df448bbaa93c1776859c589",
            "ab34dc388d5141bbbfa0ef09bd932d81",
            "209016ffac0d44778d229acf1d6f9507",
            "ad934468f2d44369b64e1cd65c8ddd08",
            "29a47bbd066745adb14edcf0f6ecfbbc",
            "2df9a41a15c24ea3b4f246ddc0402908",
            "eb20c9cacb234b239865ac72653db773",
            "3214fc75baaa4bec9c8921bbb5a31e90",
            "777803237cef4c87aa8699fb1d60d037",
            "b8a6521cc1aa477bb0a083566e62f449",
            "198b983aebb3494b92d995093f358bad",
            "f2f89028a8f6471cb70846b14503003d",
            "1c7ceb84daa640c9b4c16fb4f5c63d50",
            "eb44019d8f70478da1db79707f42382c",
            "7d23dae863d94dc99f2aba51de2b4b73",
            "b2eacd4bbd01433eac95d0d8d1fe2a1f",
            "1ec3e063f3364940a72629a262493626",
            "f4a282d0fa294d44a8fbbaffaa026643",
            "b7ea8b9b5f2f450e9aaf1c7aba7bcbdb",
            "cc6a228e6ca244f1b8c9c159a34d2999",
            "3b7affd53ad347e3a6061b29de2ce142",
            "db3336fed7994c3da3469043249e072f"
          ]
        },
        "id": "TZbvig1qHceY",
        "outputId": "81ef0eac-245a-4f69-d72e-7949bfdc8abd"
      },
      "source": [
        "data = preprocessData(data)\r\n",
        "data.head()"
      ],
      "execution_count": null,
      "outputs": [
        {
          "output_type": "stream",
          "text": [
            "description clean up\n"
          ],
          "name": "stdout"
        },
        {
          "output_type": "display_data",
          "data": {
            "application/vnd.jupyter.widget-view+json": {
              "model_id": "fd983a4f8df448bbaa93c1776859c589",
              "version_major": 2,
              "version_minor": 0
            },
            "text/plain": [
              "HBox(children=(FloatProgress(value=0.0, max=1446815.0), HTML(value='')))"
            ]
          },
          "metadata": {
            "tags": []
          }
        },
        {
          "output_type": "stream",
          "text": [
            "\n"
          ],
          "name": "stdout"
        },
        {
          "output_type": "display_data",
          "data": {
            "application/vnd.jupyter.widget-view+json": {
              "model_id": "777803237cef4c87aa8699fb1d60d037",
              "version_major": 2,
              "version_minor": 0
            },
            "text/plain": [
              "HBox(children=(FloatProgress(value=0.0, max=1446815.0), HTML(value='')))"
            ]
          },
          "metadata": {
            "tags": []
          }
        },
        {
          "output_type": "stream",
          "text": [
            "\n"
          ],
          "name": "stdout"
        },
        {
          "output_type": "display_data",
          "data": {
            "application/vnd.jupyter.widget-view+json": {
              "model_id": "1ec3e063f3364940a72629a262493626",
              "version_major": 2,
              "version_minor": 0
            },
            "text/plain": [
              "HBox(children=(FloatProgress(value=0.0, max=1446815.0), HTML(value='')))"
            ]
          },
          "metadata": {
            "tags": []
          }
        },
        {
          "output_type": "stream",
          "text": [
            "\n"
          ],
          "name": "stdout"
        },
        {
          "output_type": "display_data",
          "data": {
            "image/png": "[encoded data removed]",
            "text/plain": [
              "<Figure size 1296x432 with 1 Axes>"
            ]
          },
          "metadata": {
            "tags": []
          }
        },
        {
          "output_type": "display_data",
          "data": {
            "application/vnd.jupyter.widget-view+json": {
              "model_id": "f4a282d0fa294d44a8fbbaffaa026643",
              "version_major": 2,
              "version_minor": 0
            },
            "text/plain": [
              "HBox(children=(FloatProgress(value=0.0, max=1446815.0), HTML(value='')))"
            ]
          },
          "metadata": {
            "tags": []
          }
        },
        {
          "output_type": "stream",
          "text": [
            "\n",
            "name clean up\n"
          ],
          "name": "stdout"
        },
        {
          "output_type": "display_data",
          "data": {
            "application/vnd.jupyter.widget-view+json": {
              "model_id": "b7ea8b9b5f2f450e9aaf1c7aba7bcbdb",
              "version_major": 2,
              "version_minor": 0
            },
            "text/plain": [
              "HBox(children=(FloatProgress(value=0.0, max=1446815.0), HTML(value='')))"
            ]
          },
          "metadata": {
            "tags": []
          }
        },
        {
          "output_type": "stream",
          "text": [
            "\n"
          ],
          "name": "stdout"
        },
        {
          "output_type": "display_data",
          "data": {
            "application/vnd.jupyter.widget-view+json": {
              "model_id": "cc6a228e6ca244f1b8c9c159a34d2999",
              "version_major": 2,
              "version_minor": 0
            },
            "text/plain": [
              "HBox(children=(FloatProgress(value=0.0, max=1446815.0), HTML(value='')))"
            ]
          },
          "metadata": {
            "tags": []
          }
        },
        {
          "output_type": "stream",
          "text": [
            "\n"
          ],
          "name": "stdout"
        },
        {
          "output_type": "display_data",
          "data": {
            "application/vnd.jupyter.widget-view+json": {
              "model_id": "3b7affd53ad347e3a6061b29de2ce142",
              "version_major": 2,
              "version_minor": 0
            },
            "text/plain": [
              "HBox(children=(FloatProgress(value=0.0, max=1446815.0), HTML(value='')))"
            ]
          },
          "metadata": {
            "tags": []
          }
        },
        {
          "output_type": "stream",
          "text": [
            "\n"
          ],
          "name": "stdout"
        },
        {
          "output_type": "display_data",
          "data": {
            "image/png": "[encoded data removed]",
            "text/plain": [
              "<Figure size 1296x432 with 1 Axes>"
            ]
          },
          "metadata": {
            "tags": []
          }
        },
        {
          "output_type": "display_data",
          "data": {
            "application/vnd.jupyter.widget-view+json": {
              "model_id": "db3336fed7994c3da3469043249e072f",
              "version_major": 2,
              "version_minor": 0
            },
            "text/plain": [
              "HBox(children=(FloatProgress(value=0.0, max=1446815.0), HTML(value='')))"
            ]
          },
          "metadata": {
            "tags": []
          }
        },
        {
          "output_type": "stream",
          "text": [
            "\n"
          ],
          "name": "stdout"
        },
        {
          "output_type": "execute_result",
          "data": {
            "text/html": [
              "<div>\n",
              "<style scoped>\n",
              "    .dataframe tbody tr th:only-of-type {\n",
              "        vertical-align: middle;\n",
              "    }\n",
              "\n",
              "    .dataframe tbody tr th {\n",
              "        vertical-align: top;\n",
              "    }\n",
              "\n",
              "    .dataframe thead th {\n",
              "        text-align: right;\n",
              "    }\n",
              "</style>\n",
              "<table border=\"1\" class=\"dataframe\">\n",
              "  <thead>\n",
              "    <tr style=\"text-align: right;\">\n",
              "      <th></th>\n",
              "      <th>name</th>\n",
              "      <th>item_condition_id</th>\n",
              "      <th>category_name</th>\n",
              "      <th>brand_name</th>\n",
              "      <th>price</th>\n",
              "      <th>shipping</th>\n",
              "      <th>item_description</th>\n",
              "      <th>item_description_clean</th>\n",
              "      <th>name_clean</th>\n",
              "    </tr>\n",
              "  </thead>\n",
              "  <tbody>\n",
              "    <tr>\n",
              "      <th>0</th>\n",
              "      <td>mlb cincinnati reds t shirt size xl</td>\n",
              "      <td>3</td>\n",
              "      <td>Men/Tops/T-shirts</td>\n",
              "      <td>NA</td>\n",
              "      <td>10.0</td>\n",
              "      <td>1</td>\n",
              "      <td>no description yet</td>\n",
              "      <td>no description yet</td>\n",
              "      <td>mlb cincinnati red shirt size xl</td>\n",
              "    </tr>\n",
              "    <tr>\n",
              "      <th>1</th>\n",
              "      <td>razer blackwidow chroma keyboard</td>\n",
              "      <td>3</td>\n",
              "      <td>Electronics/Computers &amp; Tablets/Components &amp; P...</td>\n",
              "      <td>Razer</td>\n",
              "      <td>52.0</td>\n",
              "      <td>0</td>\n",
              "      <td>this keyboard is in great condition and works ...</td>\n",
              "      <td>keyboard great condition work like came box po...</td>\n",
              "      <td>razer blackwidow chroma keyboard</td>\n",
              "    </tr>\n",
              "    <tr>\n",
              "      <th>2</th>\n",
              "      <td>ava-viv blouse</td>\n",
              "      <td>1</td>\n",
              "      <td>Women/Tops &amp; Blouses/Blouse</td>\n",
              "      <td>Target</td>\n",
              "      <td>10.0</td>\n",
              "      <td>1</td>\n",
              "      <td>adorable top with a hint of lace and a key hol...</td>\n",
              "      <td>adorable top hint lace key hole back pale pink...</td>\n",
              "      <td>ava-viv blouse</td>\n",
              "    </tr>\n",
              "    <tr>\n",
              "      <th>3</th>\n",
              "      <td>leather horse statues</td>\n",
              "      <td>1</td>\n",
              "      <td>Home/Home Décor/Home Décor Accents</td>\n",
              "      <td>NA</td>\n",
              "      <td>35.0</td>\n",
              "      <td>1</td>\n",
              "      <td>new with tags. leather horses. retail for [rm]...</td>\n",
              "      <td>new tag leather horse retail rm stand foot hig...</td>\n",
              "      <td>leather horse statue</td>\n",
              "    </tr>\n",
              "    <tr>\n",
              "      <th>4</th>\n",
              "      <td>24k gold plated rose</td>\n",
              "      <td>1</td>\n",
              "      <td>Women/Jewelry/Necklaces</td>\n",
              "      <td>NA</td>\n",
              "      <td>44.0</td>\n",
              "      <td>0</td>\n",
              "      <td>complete with certificate of authenticity</td>\n",
              "      <td>complete certificate authenticity</td>\n",
              "      <td>24k gold plated rose</td>\n",
              "    </tr>\n",
              "  </tbody>\n",
              "</table>\n",
              "</div>"
            ],
            "text/plain": [
              "                                  name  ...                        name_clean\n",
              "0  mlb cincinnati reds t shirt size xl  ...  mlb cincinnati red shirt size xl\n",
              "1     razer blackwidow chroma keyboard  ...  razer blackwidow chroma keyboard\n",
              "2                       ava-viv blouse  ...                    ava-viv blouse\n",
              "3                leather horse statues  ...              leather horse statue\n",
              "4                 24k gold plated rose  ...              24k gold plated rose\n",
              "\n",
              "[5 rows x 9 columns]"
            ]
          },
          "metadata": {
            "tags": []
          },
          "execution_count": 0
        }
      ]
    },
    {
      "cell_type": "code",
      "metadata": {
        "colab": {
          "base_uri": "https://localhost:8080/",
          "height": 420,
          "referenced_widgets": [
            "7bc6fa8f28c745b3ad5f14bd08222927",
            "fb8d3545398b40e1bbfc1fb91cc71be9",
            "0bb211a31f2343f7b381b73a0f19f5c2",
            "c0330aac1e1e496a98047e21a0e1116e",
            "808849eb09754be0b9bb0e05fce6afac",
            "dc5b83d73dfd4a62b55f3c73b8cd1132",
            "4a088fc005d0495085cbed5bf8392587",
            "0555490beff54c77a1d4a3b25576cc0d"
          ]
        },
        "id": "zE3PL_bmDNjK",
        "outputId": "b81d4825-7c9b-4622-a184-4fa9cb045644"
      },
      "source": [
        "test = preprocessData(test)\r\n",
        "test.head()"
      ],
      "execution_count": null,
      "outputs": [
        {
          "output_type": "stream",
          "text": [
            "description clean up\n"
          ],
          "name": "stdout"
        },
        {
          "output_type": "display_data",
          "data": {
            "application/vnd.jupyter.widget-view+json": {
              "model_id": "7bc6fa8f28c745b3ad5f14bd08222927",
              "version_major": 2,
              "version_minor": 0
            },
            "text/plain": [
              "HBox(children=(FloatProgress(value=0.0, max=693359.0), HTML(value='')))"
            ]
          },
          "metadata": {
            "tags": []
          }
        },
        {
          "output_type": "error",
          "ename": "KeyboardInterrupt",
          "evalue": "ignored",
          "traceback": [
            "\u001b[0;31m---------------------------------------------------------------------------\u001b[0m",
            "\u001b[0;31mKeyboardInterrupt\u001b[0m                         Traceback (most recent call last)",
            "\u001b[0;32m<ipython-input-17-0521228f84df>\u001b[0m in \u001b[0;36m<module>\u001b[0;34m()\u001b[0m\n\u001b[0;32m----> 1\u001b[0;31m \u001b[0mtest\u001b[0m \u001b[0;34m=\u001b[0m \u001b[0mpreprocessData\u001b[0m\u001b[0;34m(\u001b[0m\u001b[0mtest\u001b[0m\u001b[0;34m)\u001b[0m\u001b[0;34m\u001b[0m\u001b[0;34m\u001b[0m\u001b[0m\n\u001b[0m\u001b[1;32m      2\u001b[0m \u001b[0mtest\u001b[0m\u001b[0;34m.\u001b[0m\u001b[0mhead\u001b[0m\u001b[0;34m(\u001b[0m\u001b[0;34m)\u001b[0m\u001b[0;34m\u001b[0m\u001b[0;34m\u001b[0m\u001b[0m\n",
            "\u001b[0;32m<ipython-input-13-2a47051417f2>\u001b[0m in \u001b[0;36mpreprocessData\u001b[0;34m(data)\u001b[0m\n\u001b[1;32m      1\u001b[0m \u001b[0;32mdef\u001b[0m \u001b[0mpreprocessData\u001b[0m\u001b[0;34m(\u001b[0m\u001b[0mdata\u001b[0m\u001b[0;34m)\u001b[0m\u001b[0;34m:\u001b[0m\u001b[0;34m\u001b[0m\u001b[0;34m\u001b[0m\u001b[0m\n\u001b[1;32m      2\u001b[0m   \u001b[0mprint\u001b[0m\u001b[0;34m(\u001b[0m\u001b[0;34m'description clean up'\u001b[0m\u001b[0;34m)\u001b[0m\u001b[0;34m\u001b[0m\u001b[0;34m\u001b[0m\u001b[0m\n\u001b[0;32m----> 3\u001b[0;31m   \u001b[0mdata\u001b[0m\u001b[0;34m[\u001b[0m\u001b[0;34m\"item_description_clean\"\u001b[0m\u001b[0;34m]\u001b[0m \u001b[0;34m=\u001b[0m \u001b[0mtextCleanup\u001b[0m\u001b[0;34m(\u001b[0m\u001b[0mdata\u001b[0m\u001b[0;34m[\u001b[0m\u001b[0;34m\"item_description\"\u001b[0m\u001b[0;34m]\u001b[0m\u001b[0;34m)\u001b[0m\u001b[0;34m\u001b[0m\u001b[0;34m\u001b[0m\u001b[0m\n\u001b[0m\u001b[1;32m      4\u001b[0m \u001b[0;34m\u001b[0m\u001b[0m\n\u001b[1;32m      5\u001b[0m   \u001b[0mprint\u001b[0m\u001b[0;34m(\u001b[0m\u001b[0;34m'name clean up'\u001b[0m\u001b[0;34m)\u001b[0m\u001b[0;34m\u001b[0m\u001b[0;34m\u001b[0m\u001b[0m\n",
            "\u001b[0;32m<ipython-input-12-fc741b8f6efd>\u001b[0m in \u001b[0;36mtextCleanup\u001b[0;34m(df, flag)\u001b[0m\n\u001b[1;32m      8\u001b[0m   \u001b[0;31m#df[\"clean\"] = df[\"str\"].progress_apply(text_to_word_sequence)   # 20 secondi\u001b[0m\u001b[0;34m\u001b[0m\u001b[0;34m\u001b[0m\u001b[0;34m\u001b[0m\u001b[0m\n\u001b[1;32m      9\u001b[0m   \u001b[0;32mglobal\u001b[0m \u001b[0mtweetTokenizer\u001b[0m\u001b[0;34m\u001b[0m\u001b[0;34m\u001b[0m\u001b[0m\n\u001b[0;32m---> 10\u001b[0;31m   \u001b[0mdf\u001b[0m\u001b[0;34m[\u001b[0m\u001b[0;34m\"clean\"\u001b[0m\u001b[0;34m]\u001b[0m \u001b[0;34m=\u001b[0m \u001b[0mdf\u001b[0m\u001b[0;34m[\u001b[0m\u001b[0;34m\"str\"\u001b[0m\u001b[0;34m]\u001b[0m\u001b[0;34m.\u001b[0m\u001b[0mprogress_apply\u001b[0m\u001b[0;34m(\u001b[0m\u001b[0mtweetTokenizer\u001b[0m\u001b[0;34m.\u001b[0m\u001b[0mtokenize\u001b[0m\u001b[0;34m)\u001b[0m \u001b[0;31m# 2 minutes but correctly handles emojis\u001b[0m\u001b[0;34m\u001b[0m\u001b[0;34m\u001b[0m\u001b[0m\n\u001b[0m\u001b[1;32m     11\u001b[0m \u001b[0;34m\u001b[0m\u001b[0m\n\u001b[1;32m     12\u001b[0m   \u001b[0;31m# punct and stop words\u001b[0m\u001b[0;34m\u001b[0m\u001b[0;34m\u001b[0m\u001b[0;34m\u001b[0m\u001b[0m\n",
            "\u001b[0;32m/usr/local/lib/python3.6/dist-packages/tqdm/std.py\u001b[0m in \u001b[0;36minner\u001b[0;34m(df, func, *args, **kwargs)\u001b[0m\n\u001b[1;32m    751\u001b[0m                 \u001b[0;31m# Apply the provided function (in **kwargs)\u001b[0m\u001b[0;34m\u001b[0m\u001b[0;34m\u001b[0m\u001b[0;34m\u001b[0m\u001b[0m\n\u001b[1;32m    752\u001b[0m                 \u001b[0;31m# on the df using our wrapper (which provides bar updating)\u001b[0m\u001b[0;34m\u001b[0m\u001b[0;34m\u001b[0m\u001b[0;34m\u001b[0m\u001b[0m\n\u001b[0;32m--> 753\u001b[0;31m                 \u001b[0mresult\u001b[0m \u001b[0;34m=\u001b[0m \u001b[0mgetattr\u001b[0m\u001b[0;34m(\u001b[0m\u001b[0mdf\u001b[0m\u001b[0;34m,\u001b[0m \u001b[0mdf_function\u001b[0m\u001b[0;34m)\u001b[0m\u001b[0;34m(\u001b[0m\u001b[0mwrapper\u001b[0m\u001b[0;34m,\u001b[0m \u001b[0;34m**\u001b[0m\u001b[0mkwargs\u001b[0m\u001b[0;34m)\u001b[0m\u001b[0;34m\u001b[0m\u001b[0;34m\u001b[0m\u001b[0m\n\u001b[0m\u001b[1;32m    754\u001b[0m \u001b[0;34m\u001b[0m\u001b[0m\n\u001b[1;32m    755\u001b[0m                 \u001b[0;31m# Close bar and return pandas calculation result\u001b[0m\u001b[0;34m\u001b[0m\u001b[0;34m\u001b[0m\u001b[0;34m\u001b[0m\u001b[0m\n",
            "\u001b[0;32m/usr/local/lib/python3.6/dist-packages/pandas/core/series.py\u001b[0m in \u001b[0;36mapply\u001b[0;34m(self, func, convert_dtype, args, **kwds)\u001b[0m\n\u001b[1;32m   4211\u001b[0m             \u001b[0;32melse\u001b[0m\u001b[0;34m:\u001b[0m\u001b[0;34m\u001b[0m\u001b[0;34m\u001b[0m\u001b[0m\n\u001b[1;32m   4212\u001b[0m                 \u001b[0mvalues\u001b[0m \u001b[0;34m=\u001b[0m \u001b[0mself\u001b[0m\u001b[0;34m.\u001b[0m\u001b[0mastype\u001b[0m\u001b[0;34m(\u001b[0m\u001b[0mobject\u001b[0m\u001b[0;34m)\u001b[0m\u001b[0;34m.\u001b[0m\u001b[0m_values\u001b[0m\u001b[0;34m\u001b[0m\u001b[0;34m\u001b[0m\u001b[0m\n\u001b[0;32m-> 4213\u001b[0;31m                 \u001b[0mmapped\u001b[0m \u001b[0;34m=\u001b[0m \u001b[0mlib\u001b[0m\u001b[0;34m.\u001b[0m\u001b[0mmap_infer\u001b[0m\u001b[0;34m(\u001b[0m\u001b[0mvalues\u001b[0m\u001b[0;34m,\u001b[0m \u001b[0mf\u001b[0m\u001b[0;34m,\u001b[0m \u001b[0mconvert\u001b[0m\u001b[0;34m=\u001b[0m\u001b[0mconvert_dtype\u001b[0m\u001b[0;34m)\u001b[0m\u001b[0;34m\u001b[0m\u001b[0;34m\u001b[0m\u001b[0m\n\u001b[0m\u001b[1;32m   4214\u001b[0m \u001b[0;34m\u001b[0m\u001b[0m\n\u001b[1;32m   4215\u001b[0m         \u001b[0;32mif\u001b[0m \u001b[0mlen\u001b[0m\u001b[0;34m(\u001b[0m\u001b[0mmapped\u001b[0m\u001b[0;34m)\u001b[0m \u001b[0;32mand\u001b[0m \u001b[0misinstance\u001b[0m\u001b[0;34m(\u001b[0m\u001b[0mmapped\u001b[0m\u001b[0;34m[\u001b[0m\u001b[0;36m0\u001b[0m\u001b[0;34m]\u001b[0m\u001b[0;34m,\u001b[0m \u001b[0mSeries\u001b[0m\u001b[0;34m)\u001b[0m\u001b[0;34m:\u001b[0m\u001b[0;34m\u001b[0m\u001b[0;34m\u001b[0m\u001b[0m\n",
            "\u001b[0;32mpandas/_libs/lib.pyx\u001b[0m in \u001b[0;36mpandas._libs.lib.map_infer\u001b[0;34m()\u001b[0m\n",
            "\u001b[0;32m/usr/local/lib/python3.6/dist-packages/tqdm/std.py\u001b[0m in \u001b[0;36mwrapper\u001b[0;34m(*args, **kwargs)\u001b[0m\n\u001b[1;32m    747\u001b[0m                     \u001b[0;31m# take a fast or slow code path; so stop when t.total==t.n\u001b[0m\u001b[0;34m\u001b[0m\u001b[0;34m\u001b[0m\u001b[0;34m\u001b[0m\u001b[0m\n\u001b[1;32m    748\u001b[0m                     \u001b[0mt\u001b[0m\u001b[0;34m.\u001b[0m\u001b[0mupdate\u001b[0m\u001b[0;34m(\u001b[0m\u001b[0mn\u001b[0m\u001b[0;34m=\u001b[0m\u001b[0;36m1\u001b[0m \u001b[0;32mif\u001b[0m \u001b[0;32mnot\u001b[0m \u001b[0mt\u001b[0m\u001b[0;34m.\u001b[0m\u001b[0mtotal\u001b[0m \u001b[0;32mor\u001b[0m \u001b[0mt\u001b[0m\u001b[0;34m.\u001b[0m\u001b[0mn\u001b[0m \u001b[0;34m<\u001b[0m \u001b[0mt\u001b[0m\u001b[0;34m.\u001b[0m\u001b[0mtotal\u001b[0m \u001b[0;32melse\u001b[0m \u001b[0;36m0\u001b[0m\u001b[0;34m)\u001b[0m\u001b[0;34m\u001b[0m\u001b[0;34m\u001b[0m\u001b[0m\n\u001b[0;32m--> 749\u001b[0;31m                     \u001b[0;32mreturn\u001b[0m \u001b[0mfunc\u001b[0m\u001b[0;34m(\u001b[0m\u001b[0;34m*\u001b[0m\u001b[0margs\u001b[0m\u001b[0;34m,\u001b[0m \u001b[0;34m**\u001b[0m\u001b[0mkwargs\u001b[0m\u001b[0;34m)\u001b[0m\u001b[0;34m\u001b[0m\u001b[0;34m\u001b[0m\u001b[0m\n\u001b[0m\u001b[1;32m    750\u001b[0m \u001b[0;34m\u001b[0m\u001b[0m\n\u001b[1;32m    751\u001b[0m                 \u001b[0;31m# Apply the provided function (in **kwargs)\u001b[0m\u001b[0;34m\u001b[0m\u001b[0;34m\u001b[0m\u001b[0;34m\u001b[0m\u001b[0m\n",
            "\u001b[0;32m/usr/local/lib/python3.6/dist-packages/nltk/tokenize/casual.py\u001b[0m in \u001b[0;36mtokenize\u001b[0;34m(self, text)\u001b[0m\n\u001b[1;32m    303\u001b[0m         \u001b[0msafe_text\u001b[0m \u001b[0;34m=\u001b[0m \u001b[0mHANG_RE\u001b[0m\u001b[0;34m.\u001b[0m\u001b[0msub\u001b[0m\u001b[0;34m(\u001b[0m\u001b[0;34mr'\\1\\1\\1'\u001b[0m\u001b[0;34m,\u001b[0m \u001b[0mtext\u001b[0m\u001b[0;34m)\u001b[0m\u001b[0;34m\u001b[0m\u001b[0;34m\u001b[0m\u001b[0m\n\u001b[1;32m    304\u001b[0m         \u001b[0;31m# Tokenize:\u001b[0m\u001b[0;34m\u001b[0m\u001b[0;34m\u001b[0m\u001b[0;34m\u001b[0m\u001b[0m\n\u001b[0;32m--> 305\u001b[0;31m         \u001b[0mwords\u001b[0m \u001b[0;34m=\u001b[0m \u001b[0mWORD_RE\u001b[0m\u001b[0;34m.\u001b[0m\u001b[0mfindall\u001b[0m\u001b[0;34m(\u001b[0m\u001b[0msafe_text\u001b[0m\u001b[0;34m)\u001b[0m\u001b[0;34m\u001b[0m\u001b[0;34m\u001b[0m\u001b[0m\n\u001b[0m\u001b[1;32m    306\u001b[0m         \u001b[0;31m# Possibly alter the case, but avoid changing emoticons like :D into :d:\u001b[0m\u001b[0;34m\u001b[0m\u001b[0;34m\u001b[0m\u001b[0;34m\u001b[0m\u001b[0m\n\u001b[1;32m    307\u001b[0m         \u001b[0;32mif\u001b[0m \u001b[0;32mnot\u001b[0m \u001b[0mself\u001b[0m\u001b[0;34m.\u001b[0m\u001b[0mpreserve_case\u001b[0m\u001b[0;34m:\u001b[0m\u001b[0;34m\u001b[0m\u001b[0;34m\u001b[0m\u001b[0m\n",
            "\u001b[0;31mKeyboardInterrupt\u001b[0m: "
          ]
        }
      ]
    },
    {
      "cell_type": "markdown",
      "metadata": {
        "id": "sC4xOHj_0zow"
      },
      "source": [
        "# Load preprocessed"
      ]
    },
    {
      "cell_type": "code",
      "metadata": {
        "colab": {
          "base_uri": "https://localhost:8080/",
          "height": 370
        },
        "id": "b38isOpV0ejM",
        "outputId": "0ca8c5c6-fe51-4239-8d20-56b93ead97e7"
      },
      "source": [
        "# save preprocessed data train\n",
        "force_overwrite = False\n",
        "fname = 'train_preprocess.npy'\n",
        "\n",
        "if force_overwrite or not os.path.isfile(fname):\n",
        "  print(\"saving preprocess train data\")\n",
        "  data.to_pickle(fname)\n",
        "else:\n",
        "  print(\"loading existing preprocess train data\")\n",
        "  data = pd.read_pickle(fname)"
      ],
      "execution_count": null,
      "outputs": [
        {
          "output_type": "stream",
          "text": [
            "loading existing preprocess train data\n"
          ],
          "name": "stdout"
        },
        {
          "output_type": "error",
          "ename": "KeyboardInterrupt",
          "evalue": "ignored",
          "traceback": [
            "\u001b[0;31m---------------------------------------------------------------------------\u001b[0m",
            "\u001b[0;31mKeyboardInterrupt\u001b[0m                         Traceback (most recent call last)",
            "\u001b[0;32m<ipython-input-15-78e52eef6a8c>\u001b[0m in \u001b[0;36m<module>\u001b[0;34m()\u001b[0m\n\u001b[1;32m      8\u001b[0m \u001b[0;32melse\u001b[0m\u001b[0;34m:\u001b[0m\u001b[0;34m\u001b[0m\u001b[0;34m\u001b[0m\u001b[0m\n\u001b[1;32m      9\u001b[0m   \u001b[0mprint\u001b[0m\u001b[0;34m(\u001b[0m\u001b[0;34m\"loading existing preprocess train data\"\u001b[0m\u001b[0;34m)\u001b[0m\u001b[0;34m\u001b[0m\u001b[0;34m\u001b[0m\u001b[0m\n\u001b[0;32m---> 10\u001b[0;31m   \u001b[0mdata\u001b[0m \u001b[0;34m=\u001b[0m \u001b[0mpd\u001b[0m\u001b[0;34m.\u001b[0m\u001b[0mread_pickle\u001b[0m\u001b[0;34m(\u001b[0m\u001b[0mfname\u001b[0m\u001b[0;34m)\u001b[0m\u001b[0;34m\u001b[0m\u001b[0;34m\u001b[0m\u001b[0m\n\u001b[0m",
            "\u001b[0;32m/usr/local/lib/python3.6/dist-packages/pandas/io/pickle.py\u001b[0m in \u001b[0;36mread_pickle\u001b[0;34m(filepath_or_buffer, compression)\u001b[0m\n\u001b[1;32m    180\u001b[0m                 \u001b[0;31m# We want to silence any warnings about, e.g. moved modules.\u001b[0m\u001b[0;34m\u001b[0m\u001b[0;34m\u001b[0m\u001b[0;34m\u001b[0m\u001b[0m\n\u001b[1;32m    181\u001b[0m                 \u001b[0mwarnings\u001b[0m\u001b[0;34m.\u001b[0m\u001b[0msimplefilter\u001b[0m\u001b[0;34m(\u001b[0m\u001b[0;34m\"ignore\"\u001b[0m\u001b[0;34m,\u001b[0m \u001b[0mWarning\u001b[0m\u001b[0;34m)\u001b[0m\u001b[0;34m\u001b[0m\u001b[0;34m\u001b[0m\u001b[0m\n\u001b[0;32m--> 182\u001b[0;31m                 \u001b[0;32mreturn\u001b[0m \u001b[0mpickle\u001b[0m\u001b[0;34m.\u001b[0m\u001b[0mload\u001b[0m\u001b[0;34m(\u001b[0m\u001b[0mf\u001b[0m\u001b[0;34m)\u001b[0m\u001b[0;34m\u001b[0m\u001b[0;34m\u001b[0m\u001b[0m\n\u001b[0m\u001b[1;32m    183\u001b[0m         \u001b[0;32mexcept\u001b[0m \u001b[0mexcs_to_catch\u001b[0m\u001b[0;34m:\u001b[0m\u001b[0;34m\u001b[0m\u001b[0;34m\u001b[0m\u001b[0m\n\u001b[1;32m    184\u001b[0m             \u001b[0;31m# e.g.\u001b[0m\u001b[0;34m\u001b[0m\u001b[0;34m\u001b[0m\u001b[0;34m\u001b[0m\u001b[0m\n",
            "\u001b[0;32m/usr/local/lib/python3.6/dist-packages/pandas/core/indexes/base.py\u001b[0m in \u001b[0;36m_new_Index\u001b[0;34m(cls, d)\u001b[0m\n\u001b[1;32m    172\u001b[0m \u001b[0;34m\u001b[0m\u001b[0m\n\u001b[1;32m    173\u001b[0m \u001b[0;34m\u001b[0m\u001b[0m\n\u001b[0;32m--> 174\u001b[0;31m \u001b[0;32mdef\u001b[0m \u001b[0m_new_Index\u001b[0m\u001b[0;34m(\u001b[0m\u001b[0mcls\u001b[0m\u001b[0;34m,\u001b[0m \u001b[0md\u001b[0m\u001b[0;34m)\u001b[0m\u001b[0;34m:\u001b[0m\u001b[0;34m\u001b[0m\u001b[0;34m\u001b[0m\u001b[0m\n\u001b[0m\u001b[1;32m    175\u001b[0m     \"\"\"\n\u001b[1;32m    176\u001b[0m     \u001b[0mThis\u001b[0m \u001b[0;32mis\u001b[0m \u001b[0mcalled\u001b[0m \u001b[0mupon\u001b[0m \u001b[0munpickling\u001b[0m\u001b[0;34m,\u001b[0m \u001b[0mrather\u001b[0m \u001b[0mthan\u001b[0m \u001b[0mthe\u001b[0m \u001b[0mdefault\u001b[0m \u001b[0mwhich\u001b[0m \u001b[0mdoesn\u001b[0m\u001b[0;31m'\u001b[0m\u001b[0mt\u001b[0m\u001b[0;34m\u001b[0m\u001b[0;34m\u001b[0m\u001b[0m\n",
            "\u001b[0;31mKeyboardInterrupt\u001b[0m: "
          ]
        }
      ]
    },
    {
      "cell_type": "code",
      "metadata": {
        "colab": {
          "base_uri": "https://localhost:8080/"
        },
        "id": "_LJ_alCc1znc",
        "outputId": "ae3fe830-90bd-4387-9882-cfd78595fea1"
      },
      "source": [
        "force_overwrite = False\n",
        "fname = 'test_preprocess.npy'\n",
        "\n",
        "if force_overwrite or not os.path.isfile(fname):\n",
        "  print(\"saving preprocess test data\")\n",
        "  test.to_pickle(fname)\n",
        "else:\n",
        "  print(\"loading existing preprocess test data\")\n",
        "  test = pd.read_pickle(fname)"
      ],
      "execution_count": null,
      "outputs": [
        {
          "output_type": "stream",
          "text": [
            "saving preprocess test data\n"
          ],
          "name": "stdout"
        }
      ]
    },
    {
      "cell_type": "markdown",
      "metadata": {
        "id": "iYZRBnbN0sv-"
      },
      "source": [
        "# Encoding"
      ]
    },
    {
      "cell_type": "code",
      "metadata": {
        "id": "trBPru1qEK5b"
      },
      "source": [
        "# TODO ensure it is correct or use a well tested alternative like sklearn (found problems with dimensions)\n",
        "class LabelEncoder:\n",
        "  def __init__(self, unknown = 0, invUnknown = 'unknown'):\n",
        "    self.leDict = {}\n",
        "    self.invDict = {}\n",
        "    self.unknown = unknown\n",
        "    self.invUnknown = invUnknown\n",
        "\n",
        "  def fit(self, data):\n",
        "    vci = pd.value_counts(data).index\n",
        "    self.leDict = dict(zip(vci, range(1, len(vci)+1)))\n",
        "    self.invDict = dict(zip(range(1, len(vci)+1), vci))\n",
        "\n",
        "  def transform1(self, item):\n",
        "    return self.leDict.get(item, self.unknown)\n",
        "\n",
        "  def transform(self, data):\n",
        "    return data.apply(lambda item: self.transform1(item))\n",
        "\n",
        "  def inverse_transform1(self, item):\n",
        "    return self.invDict.get(item, self.invUnknown)\n",
        "\n",
        "  def inverse_transform(self, data):\n",
        "    return data.apply(lambda item: self.inverse_transform1(item))"
      ],
      "execution_count": null,
      "outputs": []
    },
    {
      "cell_type": "code",
      "metadata": {
        "id": "XO4EL__E3yTS"
      },
      "source": [
        "cat_le = LabelEncoder()\n",
        "cat_le.fit(np.hstack([data[\"category_name\"], test[\"category_name\"]]))\n",
        "\n",
        "data[\"category_name_l\"] = cat_le.transform(data[\"category_name\"])\n",
        "test[\"category_name_l\"] = cat_le.transform(test[\"category_name\"])"
      ],
      "execution_count": null,
      "outputs": []
    },
    {
      "cell_type": "code",
      "metadata": {
        "id": "gfiZte2s3yTS"
      },
      "source": [
        "brand_le = LabelEncoder()\n",
        "brand_le.fit(np.hstack([data[\"brand_name\"], test[\"category_name\"]]))\n",
        "\n",
        "data[\"brand_name_l\"] = brand_le.transform(data[\"brand_name\"])\n",
        "test[\"brand_name_l\"] = brand_le.transform(test[\"brand_name\"])"
      ],
      "execution_count": null,
      "outputs": []
    },
    {
      "cell_type": "markdown",
      "metadata": {
        "id": "Al4hG-g33lq8"
      },
      "source": [
        "## Keras Embedding"
      ]
    },
    {
      "cell_type": "code",
      "metadata": {
        "id": "L3fBpRMpHJoh"
      },
      "source": [
        "# tokenize with keras; it also does some encoding\r\n",
        "def tokenizeData(df, description, name, tokenizer= None, texts= None):\r\n",
        "  if tokenizer == None:\r\n",
        "    tokenizer = Tokenizer()\r\n",
        "\r\n",
        "    print(\"fit tokenizer\")\r\n",
        "    tokenizer.fit_on_texts(texts)\r\n",
        "  \r\n",
        "  print('tokenize description')\r\n",
        "  df[\"item_description_t\"]=tokenizer.texts_to_sequences(df[description])\r\n",
        "\r\n",
        "  print('tokenize name')\r\n",
        "  df[\"name_t\"]=tokenizer.texts_to_sequences(df[name])\r\n",
        "  return df, tokenizer"
      ],
      "execution_count": null,
      "outputs": []
    },
    {
      "cell_type": "code",
      "metadata": {
        "colab": {
          "base_uri": "https://localhost:8080/"
        },
        "id": "1hzwtYpKHon7",
        "outputId": "e749c74e-83dd-424d-c2fd-00c62d834b17"
      },
      "source": [
        "texts = np.hstack([data[\"item_description_clean\"], data[\"name_clean\"]])\r\n",
        "\r\n",
        "data_keras, tokenizer = tokenizeData(data ,\"item_description_clean\" ,\"name_clean\", None, texts)"
      ],
      "execution_count": null,
      "outputs": [
        {
          "output_type": "stream",
          "text": [
            "fit tokenizer\n",
            "tokenize description\n",
            "tokenize name\n"
          ],
          "name": "stdout"
        }
      ]
    },
    {
      "cell_type": "code",
      "metadata": {
        "id": "JClIo-Qt4eS-"
      },
      "source": [
        "#data_keras_bk = data_keras\n",
        "test_keras_bk = test_keras"
      ],
      "execution_count": null,
      "outputs": []
    },
    {
      "cell_type": "code",
      "metadata": {
        "colab": {
          "base_uri": "https://localhost:8080/",
          "height": 399
        },
        "id": "Uc1xhJ9nHnAL",
        "outputId": "666f1ce5-e1b1-4913-a3eb-7227253e7bf5"
      },
      "source": [
        "data_keras=data_keras[[\"item_condition_id\",\"shipping\",\"category_name_l\",\"brand_name_l\", \"item_description_t\", \"name_t\", \"price\"]]\r\n",
        "data_keras"
      ],
      "execution_count": null,
      "outputs": [
        {
          "output_type": "execute_result",
          "data": {
            "text/html": [
              "<div>\n",
              "<style scoped>\n",
              "    .dataframe tbody tr th:only-of-type {\n",
              "        vertical-align: middle;\n",
              "    }\n",
              "\n",
              "    .dataframe tbody tr th {\n",
              "        vertical-align: top;\n",
              "    }\n",
              "\n",
              "    .dataframe thead th {\n",
              "        text-align: right;\n",
              "    }\n",
              "</style>\n",
              "<table border=\"1\" class=\"dataframe\">\n",
              "  <thead>\n",
              "    <tr style=\"text-align: right;\">\n",
              "      <th></th>\n",
              "      <th>item_condition_id</th>\n",
              "      <th>shipping</th>\n",
              "      <th>category_name_l</th>\n",
              "      <th>brand_name_l</th>\n",
              "      <th>item_description_t</th>\n",
              "      <th>name_t</th>\n",
              "      <th>price</th>\n",
              "    </tr>\n",
              "  </thead>\n",
              "  <tbody>\n",
              "    <tr>\n",
              "      <th>0</th>\n",
              "      <td>3</td>\n",
              "      <td>1</td>\n",
              "      <td>19</td>\n",
              "      <td>1</td>\n",
              "      <td>[3, 39, 46]</td>\n",
              "      <td>[3366, 7703, 73, 32, 2, 105]</td>\n",
              "      <td>10.0</td>\n",
              "    </tr>\n",
              "    <tr>\n",
              "      <th>1</th>\n",
              "      <td>3</td>\n",
              "      <td>0</td>\n",
              "      <td>246</td>\n",
              "      <td>1074</td>\n",
              "      <td>[2272, 17, 6, 83, 22, 985, 24, 1524, 642, 83, ...</td>\n",
              "      <td>[9181, 21153, 13743, 2272]</td>\n",
              "      <td>52.0</td>\n",
              "    </tr>\n",
              "    <tr>\n",
              "      <th>2</th>\n",
              "      <td>1</td>\n",
              "      <td>1</td>\n",
              "      <td>10</td>\n",
              "      <td>175</td>\n",
              "      <td>[512, 26, 3950, 134, 589, 269, 60, 1722, 11, 5...</td>\n",
              "      <td>[6580, 8948, 537]</td>\n",
              "      <td>10.0</td>\n",
              "    </tr>\n",
              "    <tr>\n",
              "      <th>3</th>\n",
              "      <td>1</td>\n",
              "      <td>1</td>\n",
              "      <td>28</td>\n",
              "      <td>1</td>\n",
              "      <td>[1, 19, 128, 2013, 87, 8, 824, 598, 78, 254, 8...</td>\n",
              "      <td>[128, 2013, 4721]</td>\n",
              "      <td>35.0</td>\n",
              "    </tr>\n",
              "    <tr>\n",
              "      <th>4</th>\n",
              "      <td>1</td>\n",
              "      <td>0</td>\n",
              "      <td>16</td>\n",
              "      <td>1</td>\n",
              "      <td>[708, 5520, 1738]</td>\n",
              "      <td>[4187, 59, 956, 189]</td>\n",
              "      <td>44.0</td>\n",
              "    </tr>\n",
              "    <tr>\n",
              "      <th>...</th>\n",
              "      <td>...</td>\n",
              "      <td>...</td>\n",
              "      <td>...</td>\n",
              "      <td>...</td>\n",
              "      <td>...</td>\n",
              "      <td>...</td>\n",
              "      <td>...</td>\n",
              "    </tr>\n",
              "    <tr>\n",
              "      <th>1482530</th>\n",
              "      <td>2</td>\n",
              "      <td>1</td>\n",
              "      <td>245</td>\n",
              "      <td>96</td>\n",
              "      <td>[134, 392, 2, 20, 25, 33, 606, 16, 13, 55, 50,...</td>\n",
              "      <td>[4, 485, 1491, 40]</td>\n",
              "      <td>20.0</td>\n",
              "    </tr>\n",
              "    <tr>\n",
              "      <th>1482531</th>\n",
              "      <td>2</td>\n",
              "      <td>0</td>\n",
              "      <td>124</td>\n",
              "      <td>23</td>\n",
              "      <td>[109, 1149, 637, 40, 16, 12, 2, 883]</td>\n",
              "      <td>[109, 1149, 637, 40]</td>\n",
              "      <td>14.0</td>\n",
              "    </tr>\n",
              "    <tr>\n",
              "      <th>1482532</th>\n",
              "      <td>2</td>\n",
              "      <td>0</td>\n",
              "      <td>86</td>\n",
              "      <td>1</td>\n",
              "      <td>[13, 284, 76, 17, 293]</td>\n",
              "      <td>[204, 47, 1346, 1053, 5870, 3045]</td>\n",
              "      <td>12.0</td>\n",
              "    </tr>\n",
              "    <tr>\n",
              "      <th>1482533</th>\n",
              "      <td>3</td>\n",
              "      <td>1</td>\n",
              "      <td>28</td>\n",
              "      <td>1</td>\n",
              "      <td>[18, 91, 73, 322, 247, 73, 322, 18, 1161, 1959]</td>\n",
              "      <td>[1161, 1959, 4058]</td>\n",
              "      <td>45.0</td>\n",
              "    </tr>\n",
              "    <tr>\n",
              "      <th>1482534</th>\n",
              "      <td>1</td>\n",
              "      <td>0</td>\n",
              "      <td>26</td>\n",
              "      <td>1</td>\n",
              "      <td>[1, 19, 73, 1242, 38, 14, 3, 4, 7]</td>\n",
              "      <td>[5, 1, 7239, 1007, 25393, 226]</td>\n",
              "      <td>22.0</td>\n",
              "    </tr>\n",
              "  </tbody>\n",
              "</table>\n",
              "<p>1446815 rows × 7 columns</p>\n",
              "</div>"
            ],
            "text/plain": [
              "         item_condition_id  shipping  ...                             name_t  price\n",
              "0                        3         1  ...       [3366, 7703, 73, 32, 2, 105]   10.0\n",
              "1                        3         0  ...         [9181, 21153, 13743, 2272]   52.0\n",
              "2                        1         1  ...                  [6580, 8948, 537]   10.0\n",
              "3                        1         1  ...                  [128, 2013, 4721]   35.0\n",
              "4                        1         0  ...               [4187, 59, 956, 189]   44.0\n",
              "...                    ...       ...  ...                                ...    ...\n",
              "1482530                  2         1  ...                 [4, 485, 1491, 40]   20.0\n",
              "1482531                  2         0  ...               [109, 1149, 637, 40]   14.0\n",
              "1482532                  2         0  ...  [204, 47, 1346, 1053, 5870, 3045]   12.0\n",
              "1482533                  3         1  ...                 [1161, 1959, 4058]   45.0\n",
              "1482534                  1         0  ...     [5, 1, 7239, 1007, 25393, 226]   22.0\n",
              "\n",
              "[1446815 rows x 7 columns]"
            ]
          },
          "metadata": {
            "tags": []
          },
          "execution_count": 24
        }
      ]
    },
    {
      "cell_type": "code",
      "metadata": {
        "colab": {
          "base_uri": "https://localhost:8080/"
        },
        "id": "ClNGIbYoE416",
        "outputId": "cea80472-2347-4b8b-e821-27ada539794f"
      },
      "source": [
        "test_keras, _ = tokenizeData(test ,\"item_description\", \"name\", tokenizer)"
      ],
      "execution_count": null,
      "outputs": [
        {
          "output_type": "stream",
          "text": [
            "tokenize description\n",
            "tokenize name\n"
          ],
          "name": "stdout"
        }
      ]
    },
    {
      "cell_type": "code",
      "metadata": {
        "colab": {
          "base_uri": "https://localhost:8080/",
          "height": 399
        },
        "id": "srQCadR3Jvfu",
        "outputId": "13cf648f-eb45-4aae-e826-6ff3944ed76a"
      },
      "source": [
        "test_keras=test[[\"item_condition_id\",\"shipping\",\"category_name_l\",\"brand_name_l\", \"item_description_t\", \"name_t\"]]\r\n",
        "test_keras"
      ],
      "execution_count": null,
      "outputs": [
        {
          "output_type": "execute_result",
          "data": {
            "text/html": [
              "<div>\n",
              "<style scoped>\n",
              "    .dataframe tbody tr th:only-of-type {\n",
              "        vertical-align: middle;\n",
              "    }\n",
              "\n",
              "    .dataframe tbody tr th {\n",
              "        vertical-align: top;\n",
              "    }\n",
              "\n",
              "    .dataframe thead th {\n",
              "        text-align: right;\n",
              "    }\n",
              "</style>\n",
              "<table border=\"1\" class=\"dataframe\">\n",
              "  <thead>\n",
              "    <tr style=\"text-align: right;\">\n",
              "      <th></th>\n",
              "      <th>item_condition_id</th>\n",
              "      <th>shipping</th>\n",
              "      <th>category_name_l</th>\n",
              "      <th>brand_name_l</th>\n",
              "      <th>item_description_t</th>\n",
              "      <th>name_t</th>\n",
              "    </tr>\n",
              "  </thead>\n",
              "  <tbody>\n",
              "    <tr>\n",
              "      <th>0</th>\n",
              "      <td>1</td>\n",
              "      <td>1</td>\n",
              "      <td>34</td>\n",
              "      <td>1</td>\n",
              "      <td>[6, 64]</td>\n",
              "      <td>[1809, 3592, 15, 5457, 51, 5, 265, 275]</td>\n",
              "    </tr>\n",
              "    <tr>\n",
              "      <th>1</th>\n",
              "      <td>1</td>\n",
              "      <td>1</td>\n",
              "      <td>79</td>\n",
              "      <td>1</td>\n",
              "      <td>[434, 808, 4, 64, 35, 8895, 5309, 614, 1018, 7...</td>\n",
              "      <td>[434, 808, 4, 64, 35, 8895, 5309, 614, 1018]</td>\n",
              "    </tr>\n",
              "    <tr>\n",
              "      <th>2</th>\n",
              "      <td>1</td>\n",
              "      <td>1</td>\n",
              "      <td>203</td>\n",
              "      <td>21</td>\n",
              "      <td>[16, 4, 308, 101, 198, 3, 22, 107, 5, 308, 3618]</td>\n",
              "      <td>[308, 101]</td>\n",
              "    </tr>\n",
              "    <tr>\n",
              "      <th>3</th>\n",
              "      <td>2</td>\n",
              "      <td>0</td>\n",
              "      <td>45</td>\n",
              "      <td>1</td>\n",
              "      <td>[281, 2183, 36, 30, 566, 1, 92, 3, 349, 1857]</td>\n",
              "      <td>[281, 2183]</td>\n",
              "    </tr>\n",
              "    <tr>\n",
              "      <th>4</th>\n",
              "      <td>3</td>\n",
              "      <td>1</td>\n",
              "      <td>442</td>\n",
              "      <td>1</td>\n",
              "      <td>[106728, 464, 297, 2, 1485, 11, 5, 1080, 46, 1...</td>\n",
              "      <td>[464, 297, 5311]</td>\n",
              "    </tr>\n",
              "    <tr>\n",
              "      <th>...</th>\n",
              "      <td>...</td>\n",
              "      <td>...</td>\n",
              "      <td>...</td>\n",
              "      <td>...</td>\n",
              "      <td>...</td>\n",
              "      <td>...</td>\n",
              "    </tr>\n",
              "    <tr>\n",
              "      <th>693354</th>\n",
              "      <td>1</td>\n",
              "      <td>0</td>\n",
              "      <td>28</td>\n",
              "      <td>1</td>\n",
              "      <td>[14078, 2150, 8103, 858, 42172, 43503, 154643,...</td>\n",
              "      <td>[2150, 825, 14, 14078, 842]</td>\n",
              "    </tr>\n",
              "    <tr>\n",
              "      <th>693355</th>\n",
              "      <td>1</td>\n",
              "      <td>1</td>\n",
              "      <td>62</td>\n",
              "      <td>282</td>\n",
              "      <td>[19, 608, 454, 27, 166, 993, 618, 7, 2142, 200...</td>\n",
              "      <td>[19, 608, 454, 27]</td>\n",
              "    </tr>\n",
              "    <tr>\n",
              "      <th>693356</th>\n",
              "      <td>1</td>\n",
              "      <td>1</td>\n",
              "      <td>7</td>\n",
              "      <td>1</td>\n",
              "      <td>[4, 13, 20, 63238, 89]</td>\n",
              "      <td>[438, 3226, 398, 1549, 89]</td>\n",
              "    </tr>\n",
              "    <tr>\n",
              "      <th>693357</th>\n",
              "      <td>2</td>\n",
              "      <td>0</td>\n",
              "      <td>249</td>\n",
              "      <td>1</td>\n",
              "      <td>[281, 2183, 2385, 221, 403, 180, 1440, 323, 27...</td>\n",
              "      <td>[1440, 323, 281, 2183]</td>\n",
              "    </tr>\n",
              "    <tr>\n",
              "      <th>693358</th>\n",
              "      <td>2</td>\n",
              "      <td>1</td>\n",
              "      <td>2</td>\n",
              "      <td>1</td>\n",
              "      <td>[21, 281, 897, 716, 30, 890, 243, 35, 125, 171...</td>\n",
              "      <td>[1269, 21, 281, 897, 716, 66]</td>\n",
              "    </tr>\n",
              "  </tbody>\n",
              "</table>\n",
              "<p>693359 rows × 6 columns</p>\n",
              "</div>"
            ],
            "text/plain": [
              "        item_condition_id  ...                                        name_t\n",
              "0                       1  ...       [1809, 3592, 15, 5457, 51, 5, 265, 275]\n",
              "1                       1  ...  [434, 808, 4, 64, 35, 8895, 5309, 614, 1018]\n",
              "2                       1  ...                                    [308, 101]\n",
              "3                       2  ...                                   [281, 2183]\n",
              "4                       3  ...                              [464, 297, 5311]\n",
              "...                   ...  ...                                           ...\n",
              "693354                  1  ...                   [2150, 825, 14, 14078, 842]\n",
              "693355                  1  ...                            [19, 608, 454, 27]\n",
              "693356                  1  ...                    [438, 3226, 398, 1549, 89]\n",
              "693357                  2  ...                        [1440, 323, 281, 2183]\n",
              "693358                  2  ...                 [1269, 21, 281, 897, 716, 66]\n",
              "\n",
              "[693359 rows x 6 columns]"
            ]
          },
          "metadata": {
            "tags": []
          },
          "execution_count": 21
        }
      ]
    },
    {
      "cell_type": "code",
      "metadata": {
        "id": "siBwn0ntHnmY"
      },
      "source": [
        "train_keras, validation_keras = train_test_split(data_keras, test_size=0.2, random_state=1000)"
      ],
      "execution_count": null,
      "outputs": []
    },
    {
      "cell_type": "code",
      "metadata": {
        "colab": {
          "base_uri": "https://localhost:8080/"
        },
        "id": "5W0A95PQEDb_",
        "outputId": "36eda7ad-49b5-4436-8e61-90db1f7b8c7e"
      },
      "source": [
        "vocab_size= len(tokenizer.word_index)+1\n",
        "print(vocab_size)\n",
        "# clean con trattamento emoji 193300\n",
        "# clean 246054\n",
        "# no clean 255431 (considerando tutto anche punteggiatura)"
      ],
      "execution_count": null,
      "outputs": [
        {
          "output_type": "stream",
          "text": [
            "193300\n"
          ],
          "name": "stdout"
        }
      ]
    },
    {
      "cell_type": "code",
      "metadata": {
        "colab": {
          "base_uri": "https://localhost:8080/",
          "height": 399
        },
        "id": "cVKaHBR0QPgs",
        "outputId": "79b675e0-d71f-45f2-babb-346bc2e599fc"
      },
      "source": [
        "train_keras[[\"item_description_t\",\"name_t\"]]"
      ],
      "execution_count": null,
      "outputs": [
        {
          "output_type": "execute_result",
          "data": {
            "text/html": [
              "<div>\n",
              "<style scoped>\n",
              "    .dataframe tbody tr th:only-of-type {\n",
              "        vertical-align: middle;\n",
              "    }\n",
              "\n",
              "    .dataframe tbody tr th {\n",
              "        vertical-align: top;\n",
              "    }\n",
              "\n",
              "    .dataframe thead th {\n",
              "        text-align: right;\n",
              "    }\n",
              "</style>\n",
              "<table border=\"1\" class=\"dataframe\">\n",
              "  <thead>\n",
              "    <tr style=\"text-align: right;\">\n",
              "      <th></th>\n",
              "      <th>item_description_t</th>\n",
              "      <th>name_t</th>\n",
              "    </tr>\n",
              "  </thead>\n",
              "  <tbody>\n",
              "    <tr>\n",
              "      <th>233645</th>\n",
              "      <td>[31, 77, 617, 400, 10, 2522, 784, 5, 400, 1839...</td>\n",
              "      <td>[77, 617]</td>\n",
              "    </tr>\n",
              "    <tr>\n",
              "      <th>1419447</th>\n",
              "      <td>[16, 4, 100, 48, 134, 207]</td>\n",
              "      <td>[230, 1968, 3491, 2821, 100]</td>\n",
              "    </tr>\n",
              "    <tr>\n",
              "      <th>935662</th>\n",
              "      <td>[138, 31, 17, 1387, 7943, 462, 60, 6, 66, 841,...</td>\n",
              "      <td>[7943, 462, 60, 66]</td>\n",
              "    </tr>\n",
              "    <tr>\n",
              "      <th>1147679</th>\n",
              "      <td>[36, 31]</td>\n",
              "      <td>[9700]</td>\n",
              "    </tr>\n",
              "    <tr>\n",
              "      <th>766955</th>\n",
              "      <td>[415, 2, 71, 14, 2, 216, 16, 4, 36, 31]</td>\n",
              "      <td>[5926, 212, 1407]</td>\n",
              "    </tr>\n",
              "    <tr>\n",
              "      <th>...</th>\n",
              "      <td>...</td>\n",
              "      <td>...</td>\n",
              "    </tr>\n",
              "    <tr>\n",
              "      <th>19252</th>\n",
              "      <td>[12, 57, 683]</td>\n",
              "      <td>[492, 335, 2354, 1487, 5445]</td>\n",
              "    </tr>\n",
              "    <tr>\n",
              "      <th>385322</th>\n",
              "      <td>[855, 803, 5071, 408, 8, 140, 529, 11, 109]</td>\n",
              "      <td>[158, 855, 803, 5071, 408]</td>\n",
              "    </tr>\n",
              "    <tr>\n",
              "      <th>138223</th>\n",
              "      <td>[126, 25, 6, 66, 111, 187, 2242, 548, 7, 39, 1...</td>\n",
              "      <td>[260, 2242, 548]</td>\n",
              "    </tr>\n",
              "    <tr>\n",
              "      <th>1148150</th>\n",
              "      <td>[324, 31, 8876, 77, 45, 119, 89, 8, 5, 184, 39...</td>\n",
              "      <td>[8876, 77, 45, 119, 210, 89]</td>\n",
              "    </tr>\n",
              "    <tr>\n",
              "      <th>1185228</th>\n",
              "      <td>[6, 44, 24101, 7613, 80, 874, 388, 183, 8, 193...</td>\n",
              "      <td>[24101, 7613, 874, 388, 80, 96, 173]</td>\n",
              "    </tr>\n",
              "  </tbody>\n",
              "</table>\n",
              "<p>1157452 rows × 2 columns</p>\n",
              "</div>"
            ],
            "text/plain": [
              "                                        item_description_t                                name_t\n",
              "233645   [31, 77, 617, 400, 10, 2522, 784, 5, 400, 1839...                             [77, 617]\n",
              "1419447                         [16, 4, 100, 48, 134, 207]          [230, 1968, 3491, 2821, 100]\n",
              "935662   [138, 31, 17, 1387, 7943, 462, 60, 6, 66, 841,...                   [7943, 462, 60, 66]\n",
              "1147679                                           [36, 31]                                [9700]\n",
              "766955             [415, 2, 71, 14, 2, 216, 16, 4, 36, 31]                     [5926, 212, 1407]\n",
              "...                                                    ...                                   ...\n",
              "19252                                        [12, 57, 683]          [492, 335, 2354, 1487, 5445]\n",
              "385322         [855, 803, 5071, 408, 8, 140, 529, 11, 109]            [158, 855, 803, 5071, 408]\n",
              "138223   [126, 25, 6, 66, 111, 187, 2242, 548, 7, 39, 1...                      [260, 2242, 548]\n",
              "1148150  [324, 31, 8876, 77, 45, 119, 89, 8, 5, 184, 39...          [8876, 77, 45, 119, 210, 89]\n",
              "1185228  [6, 44, 24101, 7613, 80, 874, 388, 183, 8, 193...  [24101, 7613, 874, 388, 80, 96, 173]\n",
              "\n",
              "[1157452 rows x 2 columns]"
            ]
          },
          "metadata": {
            "tags": []
          },
          "execution_count": 17
        }
      ]
    },
    {
      "cell_type": "code",
      "metadata": {
        "id": "Y40ov-ULHtla"
      },
      "source": [
        "desc_length_max=75\n",
        "inputDesc_train_keras = pad_sequences(train_keras[\"item_description_t\"],\n",
        "                                                  padding='post', maxlen=desc_length_max)"
      ],
      "execution_count": null,
      "outputs": []
    },
    {
      "cell_type": "code",
      "metadata": {
        "id": "tky1YzlkB8U5"
      },
      "source": [
        "inputDesc_validation_keras = pad_sequences(validation_keras[\"item_description_t\"],\n",
        "                                                  padding='post', maxlen=desc_length_max)"
      ],
      "execution_count": null,
      "outputs": []
    },
    {
      "cell_type": "code",
      "metadata": {
        "id": "XBZIAP9n3yTU"
      },
      "source": [
        "name_length_max=10\r\n",
        "inputName_train_keras = pad_sequences(train_keras[\"name_t\"], padding='post', maxlen=name_length_max)"
      ],
      "execution_count": null,
      "outputs": []
    },
    {
      "cell_type": "code",
      "metadata": {
        "id": "1uhYXRYQCCHb"
      },
      "source": [
        "inputName_validation_keras = pad_sequences(validation_keras[\"name_t\"], padding='post', maxlen=name_length_max)"
      ],
      "execution_count": null,
      "outputs": []
    },
    {
      "cell_type": "code",
      "metadata": {
        "colab": {
          "base_uri": "https://localhost:8080/"
        },
        "id": "nFlm8Qqx-Qab",
        "outputId": "16287f04-e377-4bf2-e227-f2aada259784"
      },
      "source": [
        "y_train_keras = train_keras[\"price\"]\r\n",
        "y_train_keras"
      ],
      "execution_count": null,
      "outputs": [
        {
          "output_type": "execute_result",
          "data": {
            "text/plain": [
              "233645     105.0\n",
              "1419447     16.0\n",
              "935662      26.0\n",
              "1147679     14.0\n",
              "766955       8.0\n",
              "           ...  \n",
              "19252       18.0\n",
              "385322      54.0\n",
              "138223      23.0\n",
              "1148150     14.0\n",
              "1185228     18.0\n",
              "Name: price, Length: 1157452, dtype: float64"
            ]
          },
          "metadata": {
            "tags": []
          },
          "execution_count": 26
        }
      ]
    },
    {
      "cell_type": "code",
      "metadata": {
        "colab": {
          "base_uri": "https://localhost:8080/"
        },
        "id": "IkHBOiRXggJw",
        "outputId": "0bd8b506-f711-4904-9729-debede1b61f4"
      },
      "source": [
        "y_validation_keras = validation_keras[\"price\"]\r\n",
        "y_validation_keras"
      ],
      "execution_count": null,
      "outputs": [
        {
          "output_type": "execute_result",
          "data": {
            "text/plain": [
              "1378349     39.0\n",
              "1186437     14.0\n",
              "1356070    559.0\n",
              "981120      54.0\n",
              "1017699     25.0\n",
              "           ...  \n",
              "933953      10.0\n",
              "1246650     30.0\n",
              "1415233     10.0\n",
              "376025      28.0\n",
              "511335      19.0\n",
              "Name: price, Length: 289363, dtype: float64"
            ]
          },
          "metadata": {
            "tags": []
          },
          "execution_count": 27
        }
      ]
    },
    {
      "cell_type": "code",
      "metadata": {
        "id": "CZh4kWw73yTY"
      },
      "source": [
        "inputA_train_keras = train_keras[[\"item_condition_id\", \"category_name_l\", \"brand_name_l\", \"shipping\"]].values.astype('int32')"
      ],
      "execution_count": null,
      "outputs": []
    },
    {
      "cell_type": "code",
      "metadata": {
        "id": "-oTri-SwCHqe"
      },
      "source": [
        "inputA_validation_keras = validation_keras[[\"item_condition_id\", \"category_name_l\", \"brand_name_l\", \"shipping\"]].values.astype('int32')"
      ],
      "execution_count": null,
      "outputs": []
    },
    {
      "cell_type": "code",
      "metadata": {
        "id": "7ZmQxJaT3yTX"
      },
      "source": [
        "name_vocab_size= vocab_size\n",
        "desc_vocab_size= vocab_size\n",
        "def getModelKeras(name_length_max, desc_length_max, name_vocab_size, desc_vocab_size):\n",
        "    inputA = Input(shape=(4,))\n",
        "    #Ad = Dense(4, activation='relu')(inputA)\n",
        "    Ad = inputA\n",
        "    \n",
        "    inputName = Input(shape=(name_length_max,))\n",
        "    Ne = Embedding(input_dim=name_vocab_size, output_dim=50, input_length=name_length_max)(inputName)\n",
        "    #Ne = Embedding(\n",
        "    #    num_tokens,\n",
        "    #    embedding_dim,\n",
        "    #    embeddings_initializer=keras.initializers.Constant(embedding_matrix),\n",
        "    #    trainable=False,\n",
        "    #)(inputName)\n",
        "    Nd = Bidirectional(LSTM(12, return_sequences=True, dropout=0.2))(Ne)\n",
        "    Nd =  GlobalMaxPool1D()(Nd)\n",
        "\n",
        "    #Nd = Nf\n",
        "    \n",
        "    inputDesc = Input(shape=(desc_length_max,))\n",
        "    De = Embedding(input_dim=desc_vocab_size, output_dim=50, input_length=desc_length_max)(inputDesc)\n",
        "    #De = Embedding(\n",
        "    #    num_tokens,\n",
        "    #    embedding_dim,\n",
        "    #    embeddings_initializer=keras.initializers.Constant(embedding_matrix),\n",
        "    #    trainable=False,\n",
        "    #)(inputDesc)\n",
        "    Dd = Bidirectional(LSTM(16, return_sequences=True, dropout=0.2))(De)\n",
        "    Dd = Bidirectional(LSTM(8, return_sequences=True, dropout=0.2))(Dd)\n",
        "    \n",
        "    Dd =  GlobalMaxPool1D()(Dd)\n",
        "    #Dd = Df\n",
        "    \n",
        "    concat = Concatenate()([Ad, Nd, Dd])\n",
        "\n",
        "    x = Dropout(0.2)(concat)    \n",
        "    x = Dense(32, activation='relu')(x)\n",
        "    x = Dropout(0.2)(x)\n",
        "    x = Dense(16, activation='relu')(x)\n",
        "    \n",
        "    x = Dense(1, activation='linear')(x)\n",
        "    \n",
        "    model = Model(inputs=[inputA, inputName, inputDesc], outputs=x)\n",
        "    \n",
        "    return model\n",
        "    "
      ],
      "execution_count": null,
      "outputs": []
    },
    {
      "cell_type": "code",
      "metadata": {
        "colab": {
          "base_uri": "https://localhost:8080/"
        },
        "id": "SWfolHUC3yTX",
        "outputId": "23d9a337-f89a-4574-902c-4edd75adbde8"
      },
      "source": [
        "model_keras = getModelKeras(name_length_max, desc_length_max, name_vocab_size, desc_vocab_size)\n",
        "model_keras.summary()"
      ],
      "execution_count": null,
      "outputs": [
        {
          "output_type": "stream",
          "text": [
            "Model: \"model_1\"\n",
            "__________________________________________________________________________________________________\n",
            "Layer (type)                    Output Shape         Param #     Connected to                     \n",
            "==================================================================================================\n",
            "input_6 (InputLayer)            [(None, 75)]         0                                            \n",
            "__________________________________________________________________________________________________\n",
            "input_5 (InputLayer)            [(None, 10)]         0                                            \n",
            "__________________________________________________________________________________________________\n",
            "embedding_3 (Embedding)         (None, 75, 50)       12771550    input_6[0][0]                    \n",
            "__________________________________________________________________________________________________\n",
            "embedding_2 (Embedding)         (None, 10, 50)       12771550    input_5[0][0]                    \n",
            "__________________________________________________________________________________________________\n",
            "bidirectional_4 (Bidirectional) (None, 75, 32)       8576        embedding_3[0][0]                \n",
            "__________________________________________________________________________________________________\n",
            "bidirectional_3 (Bidirectional) (None, 10, 24)       6048        embedding_2[0][0]                \n",
            "__________________________________________________________________________________________________\n",
            "bidirectional_5 (Bidirectional) (None, 75, 16)       2624        bidirectional_4[0][0]            \n",
            "__________________________________________________________________________________________________\n",
            "input_4 (InputLayer)            [(None, 4)]          0                                            \n",
            "__________________________________________________________________________________________________\n",
            "global_max_pooling1d_2 (GlobalM (None, 24)           0           bidirectional_3[0][0]            \n",
            "__________________________________________________________________________________________________\n",
            "global_max_pooling1d_3 (GlobalM (None, 16)           0           bidirectional_5[0][0]            \n",
            "__________________________________________________________________________________________________\n",
            "concatenate_1 (Concatenate)     (None, 44)           0           input_4[0][0]                    \n",
            "                                                                 global_max_pooling1d_2[0][0]     \n",
            "                                                                 global_max_pooling1d_3[0][0]     \n",
            "__________________________________________________________________________________________________\n",
            "dropout_2 (Dropout)             (None, 44)           0           concatenate_1[0][0]              \n",
            "__________________________________________________________________________________________________\n",
            "dense_3 (Dense)                 (None, 32)           1440        dropout_2[0][0]                  \n",
            "__________________________________________________________________________________________________\n",
            "dropout_3 (Dropout)             (None, 32)           0           dense_3[0][0]                    \n",
            "__________________________________________________________________________________________________\n",
            "dense_4 (Dense)                 (None, 16)           528         dropout_3[0][0]                  \n",
            "__________________________________________________________________________________________________\n",
            "dense_5 (Dense)                 (None, 1)            17          dense_4[0][0]                    \n",
            "==================================================================================================\n",
            "Total params: 25,562,333\n",
            "Trainable params: 25,562,333\n",
            "Non-trainable params: 0\n",
            "__________________________________________________________________________________________________\n"
          ],
          "name": "stdout"
        }
      ]
    },
    {
      "cell_type": "code",
      "metadata": {
        "colab": {
          "base_uri": "https://localhost:8080/",
          "height": 1000
        },
        "id": "aNoRvN6T3yTX",
        "outputId": "01aeefcf-a127-4dfa-be59-9618cf1f9725"
      },
      "source": [
        "plot_model(model_keras)"
      ],
      "execution_count": null,
      "outputs": [
        {
          "output_type": "execute_result",
          "data": {
            "image/png": "[encoded data removed]",
            "text/plain": [
              "<IPython.core.display.Image object>"
            ]
          },
          "metadata": {
            "tags": []
          },
          "execution_count": 32
        }
      ]
    },
    {
      "cell_type": "code",
      "metadata": {
        "id": "1-rcb1aLIHPX"
      },
      "source": [
        "model_keras.compile(loss = root_mean_squared_logarithmic_error, optimizer='adam', metrics=['mse', 'mae', tf.keras.metrics.RootMeanSquaredError(), 'mean_squared_logarithmic_error', root_mean_squared_logarithmic_error])"
      ],
      "execution_count": null,
      "outputs": []
    },
    {
      "cell_type": "markdown",
      "metadata": {
        "id": "5eQBhACJOZSf"
      },
      "source": [
        "https://machinelearningmastery.com/clean-text-machine-learning-python/ ultima sezione"
      ]
    },
    {
      "cell_type": "code",
      "metadata": {
        "colab": {
          "base_uri": "https://localhost:8080/"
        },
        "id": "Y2m3WcI-JWcP",
        "outputId": "fdee7d48-0805-42fa-f79c-3e507e94674a"
      },
      "source": [
        "callback = tf.keras.callbacks.EarlyStopping(monitor='loss', patience=2)\n",
        "\n",
        "history_keras = model_keras.fit(x=[inputA_train_keras,inputName_train_keras, inputDesc_train_keras], y=y_train_keras,\n",
        "                    epochs=10,\n",
        "                    verbose=True,\n",
        "                    validation_data=([inputA_validation_keras ,inputName_validation_keras, inputDesc_validation_keras], y_validation_keras),\n",
        "                    callbacks=[callback],\n",
        "                    batch_size=512)\n",
        "# senza pulizia  loss: 0.4100  e val_root_mean_squared_logarithmic_error: 0.4543\n",
        "# con pulizia leggera (lower)  val_root_mean_squared_logarithmic_error: 0.455 e loss: 0.4\n",
        "# con pulizia val_root_mean_squared_logarithmic_error: 0.4643 e loss: 0.4269\n",
        "# con lunghezza embedding 50 e senza pulizia val_root_mean_squared_logarithmic_error: 0.4556 e loss: 0.3675 con 10 epoche "
      ],
      "execution_count": null,
      "outputs": [
        {
          "output_type": "stream",
          "text": [
            "Epoch 1/10\n",
            "2261/2261 [==============================] - 577s 252ms/step - loss: 0.8764 - mse: 2067.1655 - mae: 18.9450 - root_mean_squared_error: 44.7791 - mean_squared_logarithmic_error: 1.1077 - root_mean_squared_logarithmic_error: 0.8764 - val_loss: 0.4813 - val_mse: 1034.1759 - val_mae: 11.4847 - val_root_mean_squared_error: 32.1586 - val_mean_squared_logarithmic_error: 0.2321 - val_root_mean_squared_logarithmic_error: 0.4814\n",
            "Epoch 2/10\n",
            "2261/2261 [==============================] - 568s 251ms/step - loss: 0.4894 - mse: 1083.7728 - mae: 11.6594 - root_mean_squared_error: 32.9156 - mean_squared_logarithmic_error: 0.2400 - root_mean_squared_logarithmic_error: 0.4894 - val_loss: 0.4652 - val_mse: 909.2332 - val_mae: 10.9519 - val_root_mean_squared_error: 30.1535 - val_mean_squared_logarithmic_error: 0.2168 - val_root_mean_squared_logarithmic_error: 0.4653\n",
            "Epoch 3/10\n",
            "2261/2261 [==============================] - 567s 251ms/step - loss: 0.4518 - mse: 925.4016 - mae: 10.7706 - root_mean_squared_error: 30.4098 - mean_squared_logarithmic_error: 0.2045 - root_mean_squared_logarithmic_error: 0.4518 - val_loss: 0.4575 - val_mse: 869.8936 - val_mae: 10.7049 - val_root_mean_squared_error: 29.4940 - val_mean_squared_logarithmic_error: 0.2097 - val_root_mean_squared_logarithmic_error: 0.4576\n",
            "Epoch 4/10\n",
            "2261/2261 [==============================] - 568s 251ms/step - loss: 0.4281 - mse: 842.8743 - mae: 10.1770 - root_mean_squared_error: 29.0274 - mean_squared_logarithmic_error: 0.1836 - root_mean_squared_logarithmic_error: 0.4281 - val_loss: 0.4549 - val_mse: 855.0883 - val_mae: 10.6453 - val_root_mean_squared_error: 29.2419 - val_mean_squared_logarithmic_error: 0.2074 - val_root_mean_squared_logarithmic_error: 0.4551\n",
            "Epoch 5/10\n",
            "2261/2261 [==============================] - 567s 251ms/step - loss: 0.4112 - mse: 779.7085 - mae: 9.7155 - root_mean_squared_error: 27.9176 - mean_squared_logarithmic_error: 0.1694 - root_mean_squared_logarithmic_error: 0.4112 - val_loss: 0.4621 - val_mse: 838.4643 - val_mae: 10.6880 - val_root_mean_squared_error: 28.9562 - val_mean_squared_logarithmic_error: 0.2140 - val_root_mean_squared_logarithmic_error: 0.4623\n",
            "Epoch 6/10\n",
            "2261/2261 [==============================] - 567s 251ms/step - loss: 0.3995 - mse: 790.9907 - mae: 9.4653 - root_mean_squared_error: 28.0895 - mean_squared_logarithmic_error: 0.1599 - root_mean_squared_logarithmic_error: 0.3995 - val_loss: 0.4571 - val_mse: 799.9439 - val_mae: 10.5660 - val_root_mean_squared_error: 28.2833 - val_mean_squared_logarithmic_error: 0.2094 - val_root_mean_squared_logarithmic_error: 0.4573\n",
            "Epoch 7/10\n",
            "2261/2261 [==============================] - 569s 251ms/step - loss: 0.3894 - mse: 732.4860 - mae: 9.1535 - root_mean_squared_error: 27.0471 - mean_squared_logarithmic_error: 0.1520 - root_mean_squared_logarithmic_error: 0.3894 - val_loss: 0.4569 - val_mse: 800.8295 - val_mae: 10.6056 - val_root_mean_squared_error: 28.2989 - val_mean_squared_logarithmic_error: 0.2092 - val_root_mean_squared_logarithmic_error: 0.4570\n",
            "Epoch 8/10\n",
            "2261/2261 [==============================] - 568s 251ms/step - loss: 0.3814 - mse: 676.7848 - mae: 8.9267 - root_mean_squared_error: 26.0080 - mean_squared_logarithmic_error: 0.1458 - root_mean_squared_logarithmic_error: 0.3814 - val_loss: 0.4550 - val_mse: 792.4292 - val_mae: 10.5338 - val_root_mean_squared_error: 28.1501 - val_mean_squared_logarithmic_error: 0.2075 - val_root_mean_squared_logarithmic_error: 0.4552\n",
            "Epoch 9/10\n",
            "2261/2261 [==============================] - 568s 251ms/step - loss: 0.3733 - mse: 644.8318 - mae: 8.6987 - root_mean_squared_error: 25.3872 - mean_squared_logarithmic_error: 0.1396 - root_mean_squared_logarithmic_error: 0.3733 - val_loss: 0.4533 - val_mse: 763.5569 - val_mae: 10.4486 - val_root_mean_squared_error: 27.6325 - val_mean_squared_logarithmic_error: 0.2059 - val_root_mean_squared_logarithmic_error: 0.4534\n",
            "Epoch 10/10\n",
            "2261/2261 [==============================] - 568s 251ms/step - loss: 0.3675 - mse: 630.8036 - mae: 8.5423 - root_mean_squared_error: 25.1001 - mean_squared_logarithmic_error: 0.1353 - root_mean_squared_logarithmic_error: 0.3675 - val_loss: 0.4555 - val_mse: 784.5654 - val_mae: 10.4519 - val_root_mean_squared_error: 28.0101 - val_mean_squared_logarithmic_error: 0.2080 - val_root_mean_squared_logarithmic_error: 0.4556\n"
          ],
          "name": "stdout"
        }
      ]
    },
    {
      "cell_type": "code",
      "metadata": {
        "id": "m6ZqDQxG4de0"
      },
      "source": [
        "histDf = pd.DataFrame(history.history)\n",
        "histDf.tail()"
      ],
      "execution_count": null,
      "outputs": []
    },
    {
      "cell_type": "code",
      "metadata": {
        "id": "d8NNZQXuht7t"
      },
      "source": [
        "histDf.plot(y=[\"loss\", \"val_loss\"])"
      ],
      "execution_count": null,
      "outputs": []
    },
    {
      "cell_type": "code",
      "metadata": {
        "id": "qgCkkae3Kdmr"
      },
      "source": [
        "inputA_test_keras = test_keras[[\"item_condition_id\", \"category_name_l\", \"brand_name_l\", \"shipping\"]].values.astype('int32')\r\n",
        "inputName_test_keras = pad_sequences(test_keras[\"name_t\"], padding='post', maxlen=name_length_max)\r\n",
        "inputDesc_test_keras = pad_sequences(test_keras[\"item_description_t\"], padding='post', maxlen=desc_length_max)\r\n",
        "pred_keras = model_keras.predict([inputA_test_keras, inputName_test_keras, inputDesc_test_keras])\r\n",
        "pred_keras"
      ],
      "execution_count": null,
      "outputs": []
    },
    {
      "cell_type": "code",
      "metadata": {
        "id": "8-IkK1IkNqXD"
      },
      "source": [
        "import math\r\n",
        "\r\n",
        "def rmsle(y, y_pred):\r\n",
        "    assert len(y) == len(y_pred)\r\n",
        "    to_sum = [(math.log(y_pred[i] + 1) - math.log(y[i] + 1)) ** 2.0 for i,pred in enumerate(y_pred)]\r\n",
        "    return (sum(to_sum) * (1.0/len(y))) ** 0.5"
      ],
      "execution_count": null,
      "outputs": []
    },
    {
      "cell_type": "code",
      "metadata": {
        "id": "qeCyj4NcNtuU"
      },
      "source": [
        "validation_keras"
      ],
      "execution_count": null,
      "outputs": []
    },
    {
      "cell_type": "code",
      "metadata": {
        "id": "ODIe2aySMUZj"
      },
      "source": [
        "pred_keras=pred_keras.round()"
      ],
      "execution_count": null,
      "outputs": []
    },
    {
      "cell_type": "code",
      "metadata": {
        "id": "oLp_8poJQBmn"
      },
      "source": [
        "pred_v_keras = model.predict([inputA_validation_keras, inputName_validation_keras, inputDesc_validation_keras])\r\n",
        "pred_v_keras = pred_v_keras.round()"
      ],
      "execution_count": null,
      "outputs": []
    },
    {
      "cell_type": "code",
      "metadata": {
        "id": "5NmUm_gaRWHL"
      },
      "source": [
        "len(pred_v_keras)"
      ],
      "execution_count": null,
      "outputs": []
    },
    {
      "cell_type": "code",
      "metadata": {
        "id": "nFrRfXG-RhVr"
      },
      "source": [
        "len(y_validation_keras)"
      ],
      "execution_count": null,
      "outputs": []
    },
    {
      "cell_type": "code",
      "metadata": {
        "id": "gJPxtmcQRJlp"
      },
      "source": [
        "root_mean_squared_logarithmic_error(y_validation_keras, pred_v_keras)"
      ],
      "execution_count": null,
      "outputs": []
    },
    {
      "cell_type": "markdown",
      "metadata": {
        "id": "G91ZG_SXUU50"
      },
      "source": [
        "## Glove pretrained"
      ]
    },
    {
      "cell_type": "markdown",
      "metadata": {
        "id": "tNBwsIkTJtuu"
      },
      "source": [
        "https://nlp.stanford.edu/projects/glove/"
      ]
    },
    {
      "cell_type": "code",
      "metadata": {
        "id": "eaYOtsY36rOz"
      },
      "source": [
        "#archive_url = 'http://downloads.cs.stanford.edu/nlp/data/wordvecs/glove.6B.zip'\n",
        "#archive_url = \"https://github.com/facebookresearch/fastText/archive/v0.9.2.zip\"\n",
        "#archive_url = \"https://www.cs.uic.edu/~hxu/ele_review_qa_300d.tar.gz\"\n",
        "archive_url = 'http://downloads.cs.stanford.edu/nlp/data/wordvecs/glove.840B.300d.zip'\n",
        "archive_name = 'glove.840B.300d.zip'\n",
        "remove_archive = False\n",
        "embedding_fname = 'glove.840B.300d.txt'"
      ],
      "execution_count": null,
      "outputs": []
    },
    {
      "cell_type": "code",
      "metadata": {
        "id": "OUeT17cO-xhP"
      },
      "source": [
        "if not os.path.isfile(archive_name) and not os.path.isfile(embedding_fname):\n",
        "  ! wget {archive_url} -O {archive_name}"
      ],
      "execution_count": null,
      "outputs": []
    },
    {
      "cell_type": "code",
      "metadata": {
        "id": "m6X2PUTqGNGI"
      },
      "source": [
        "if not os.path.isfile(embedding_fname):\n",
        "  ! unzip {archive_name} {embedding_fname}\n",
        "\n",
        "# remove archive if already extracted\n",
        "if remove_archive and os.path.isfile(embedding_fname):\n",
        "  os.remove(archive_name)"
      ],
      "execution_count": null,
      "outputs": []
    },
    {
      "cell_type": "markdown",
      "metadata": {
        "id": "OTMOU0Pk8A6_"
      },
      "source": [
        "Needs a word encoding index (e.g. keras one)"
      ]
    },
    {
      "cell_type": "code",
      "metadata": {
        "colab": {
          "base_uri": "https://localhost:8080/"
        },
        "id": "gPFLTtl_C6A4",
        "outputId": "97b38f2a-b765-4617-b0c5-d228fff6f71f"
      },
      "source": [
        "word_index = tokenizer.word_index\n",
        "print(len(word_index))"
      ],
      "execution_count": null,
      "outputs": [
        {
          "output_type": "stream",
          "text": [
            "193299\n"
          ],
          "name": "stdout"
        }
      ]
    },
    {
      "cell_type": "code",
      "metadata": {
        "colab": {
          "base_uri": "https://localhost:8080/",
          "height": 53
        },
        "id": "hVnTcD3nCet7",
        "outputId": "af36cc68-9ac8-4b9b-a715-ceb4dca249ff"
      },
      "source": [
        "path_to_glove_file = os.path.join(\n",
        "    base_dir, embedding_fname\n",
        ")\n",
        "\n",
        "'''embeddings_index = {}\n",
        "with open(path_to_glove_file) as f:\n",
        "    for line in f:\n",
        "        word, coefs = line.split(maxsplit=1)\n",
        "        coefs = np.fromstring(coefs, \"f\", sep=\" \")\n",
        "        embeddings_index[word] = coefs\n",
        "\n",
        "print(\"Found %s word vectors.\" % len(embeddings_index))'''"
      ],
      "execution_count": null,
      "outputs": [
        {
          "output_type": "execute_result",
          "data": {
            "application/vnd.google.colaboratory.intrinsic+json": {
              "type": "string"
            },
            "text/plain": [
              "'embeddings_index = {}\\nwith open(path_to_glove_file) as f:\\n    for line in f:\\n        word, coefs = line.split(maxsplit=1)\\n        coefs = np.fromstring(coefs, \"f\", sep=\" \")\\n        embeddings_index[word] = coefs\\n\\nprint(\"Found %s word vectors.\" % len(embeddings_index))'"
            ]
          },
          "metadata": {
            "tags": []
          },
          "execution_count": 34
        }
      ]
    },
    {
      "cell_type": "code",
      "metadata": {
        "colab": {
          "base_uri": "https://localhost:8080/",
          "height": 36
        },
        "id": "Gg-i_nmregk7",
        "outputId": "b1259475-f398-46b7-b4d0-053ebd5be731"
      },
      "source": [
        "path_to_glove_file"
      ],
      "execution_count": null,
      "outputs": [
        {
          "output_type": "execute_result",
          "data": {
            "application/vnd.google.colaboratory.intrinsic+json": {
              "type": "string"
            },
            "text/plain": [
              "'/content/gdrive/My Drive/project-mercari-price/glove.840B.300d.txt'"
            ]
          },
          "metadata": {
            "tags": []
          },
          "execution_count": 35
        }
      ]
    },
    {
      "cell_type": "code",
      "metadata": {
        "id": "cYVbr8mGYHqd"
      },
      "source": [
        "def create_embedding_matrix(filepath, word_index, embedding_dim):\r\n",
        "    vocab_size = len(word_index) + 1  # Adding again 1 because of reserved 0 index (padding)\r\n",
        "    embedding_matrix = np.zeros((vocab_size, embedding_dim))\r\n",
        "\r\n",
        "    with open(filepath) as f:\r\n",
        "        for line in f:\r\n",
        "            word, *vector = line.split()\r\n",
        "            if word in word_index:\r\n",
        "              i = word_index[word]\r\n",
        "              try: \r\n",
        "                embedding_matrix[i] = np.array(vector, dtype=np.float32)[:embedding_dim]\r\n",
        "              except:\r\n",
        "                print(word)\r\n",
        "                print(vector)\r\n",
        "                print(\"_______________________\")\r\n",
        "\r\n",
        "    return embedding_matrix"
      ],
      "execution_count": null,
      "outputs": []
    },
    {
      "cell_type": "code",
      "metadata": {
        "id": "6HqTmXgE_P8t"
      },
      "source": [
        "def create_embedding_matrix(filepath, word_index, embedding_dim):\r\n",
        "    vocab_size = len(word_index) + 1  # Adding again 1 because of reserved 0 index (padding)\r\n",
        "    embedding_matrix = np.zeros((vocab_size, embedding_dim))\r\n",
        "\r\n",
        "    with open(filepath) as f:\r\n",
        "        for line in f:\r\n",
        "            word, *vector = line.split()\r\n",
        "            if word in word_index:\r\n",
        "              i = word_index[word]\r\n",
        "              try: \r\n",
        "                embedding_matrix[i] = np.array(vector, dtype=np.float32)[:embedding_dim]\r\n",
        "                \r\n",
        "  \r\n",
        "              except:\r\n",
        "\r\n",
        "                vector=vector[1:embedding_dim+1]\r\n",
        "                embedding_matrix[i] = np.array(vector, dtype=np.float32)\r\n",
        "\r\n",
        "\r\n",
        "    return embedding_matrix"
      ],
      "execution_count": null,
      "outputs": []
    },
    {
      "cell_type": "code",
      "metadata": {
        "id": "16SQunrgYXv2"
      },
      "source": [
        "embedding_dim = 50\r\n",
        "embedding_matrix = create_embedding_matrix(path_to_glove_file, tokenizer.word_index, embedding_dim)"
      ],
      "execution_count": null,
      "outputs": []
    },
    {
      "cell_type": "code",
      "metadata": {
        "colab": {
          "base_uri": "https://localhost:8080/"
        },
        "id": "vp2dcxR2fi_n",
        "outputId": "1657a6f9-3920-4055-d80c-e494310ee2f8"
      },
      "source": [
        "embedding_matrix[10]"
      ],
      "execution_count": null,
      "outputs": [
        {
          "output_type": "execute_result",
          "data": {
            "text/plain": [
              "array([-0.29365   , -0.049916  ,  0.096439  , -0.089388  ,  0.27109   ,\n",
              "        0.057496  , -0.50297999,  0.11331   , -0.19913   ,  1.0869    ,\n",
              "       -0.36474001,  0.18028   , -0.2439    , -0.84878999, -0.09803   ,\n",
              "        0.22358   ,  0.16649   ,  1.82630002, -0.30783999, -0.45778999,\n",
              "       -0.13423   , -0.76840001,  0.061036  ,  0.13364001, -0.07578   ,\n",
              "       -0.36814001, -0.56497997,  0.11553   ,  0.18909   ,  0.069852  ,\n",
              "        0.10334   ,  0.54857999, -0.017279  , -0.42885   ,  0.17587   ,\n",
              "       -0.48115   , -0.21931   , -0.39983001, -0.05173   , -0.46208999,\n",
              "        0.46579   ,  0.21905001, -0.14851999,  0.11248   ,  0.21266   ,\n",
              "       -0.13285001, -0.1344    ,  0.22768   ,  0.38001999, -0.31141001])"
            ]
          },
          "metadata": {
            "tags": []
          },
          "execution_count": 67
        }
      ]
    },
    {
      "cell_type": "code",
      "metadata": {
        "colab": {
          "base_uri": "https://localhost:8080/"
        },
        "id": "oZBiI8g4eiz8",
        "outputId": "24a3df16-3897-40c9-bc73-a8b696904fde"
      },
      "source": [
        "embedding_matrix[107098]"
      ],
      "execution_count": null,
      "outputs": [
        {
          "output_type": "execute_result",
          "data": {
            "text/plain": [
              "array([ 0.43746999, -0.37424001, -0.40129   , -0.078106  ,  0.12245   ,\n",
              "        0.11138   , -0.10696   ,  0.094154  , -0.23954999, -0.94240999,\n",
              "        0.87374997, -0.028519  , -0.50770998,  0.27917999, -0.25523999,\n",
              "        0.27566999,  0.062072  , -0.39478999,  0.21396001,  0.20016   ,\n",
              "       -0.18739   ,  0.18636   ,  0.31788999,  0.082694  , -0.37402999,\n",
              "       -0.13192999,  0.095738  ,  0.077858  , -0.62980002, -0.59219998,\n",
              "       -0.12152   ,  0.077675  , -0.57999003, -0.1051    , -0.37786999,\n",
              "       -0.36247   ,  0.34196001, -0.0115    ,  0.38352999,  0.1186    ,\n",
              "        0.037614  ,  0.079296  ,  0.35119   ,  0.048462  , -0.25543001,\n",
              "       -0.49008   ,  0.27880001, -0.71811998, -0.44896999,  0.19076   ])"
            ]
          },
          "metadata": {
            "tags": []
          },
          "execution_count": 74
        }
      ]
    },
    {
      "cell_type": "code",
      "metadata": {
        "id": "FqusQItvZDmS"
      },
      "source": [
        "nonzero_elements = np.count_nonzero(np.count_nonzero(embedding_matrix, axis=1))\r\n",
        "nonzero_elements / vocab_size\r\n",
        "# senza pulizia viene coperto il 28% del vocabolario\r\n",
        "# con pulizia il 26% senza emoji\r\n",
        "# con pulizia con emoji 34%\r\n",
        "# 0.3779 senza pulizia con glove più grande (glove.840B.300d)\r\n",
        "# 0.467 con pulizia con glove più grande (glove.840B.300d)"
      ],
      "execution_count": null,
      "outputs": []
    },
    {
      "cell_type": "code",
      "metadata": {
        "colab": {
          "base_uri": "https://localhost:8080/"
        },
        "id": "Vffbp5FHB-ZN",
        "outputId": "9ab6790d-9928-4ed0-8475-52230b37614b"
      },
      "source": [
        "'''#glove pretrained embedding\n",
        "num_tokens = len(word_index) + 2\n",
        "embedding_dim = 100\n",
        "hits = 0\n",
        "misses = 0\n",
        "\n",
        "# Prepare embedding matrix\n",
        "embedding_matrix = np.zeros((num_tokens, embedding_dim))\n",
        "for word, i in word_index.items():\n",
        "    embedding_vector = embeddings_index.get(word)\n",
        "    if embedding_vector is not None:\n",
        "        # Words not found in embedding index will be all-zeros.\n",
        "        # This includes the representation for \"padding\" and \"OOV\"\n",
        "        embedding_matrix[i] = embedding_vector\n",
        "        hits += 1\n",
        "    else:\n",
        "        misses += 1\n",
        "print(\"Converted %d words (%d misses)\" % (hits, misses))'''"
      ],
      "execution_count": null,
      "outputs": [
        {
          "output_type": "stream",
          "text": [
            "Converted 72078 words (183352 misses)\n"
          ],
          "name": "stdout"
        }
      ]
    },
    {
      "cell_type": "markdown",
      "metadata": {
        "id": "It4CwmHQl-zF"
      },
      "source": [
        "**IMPORTANTISSIMO: SCEGLIERE CHE LUNGHEZZA USARE PER L'ECONDING DELLE PAROLE DELLE DESCRIZIONI E DEI NOMI, CIOE' SE 8 VALORI ENTRAMBI O MANTENERE 8 E 16 VALORI**"
      ]
    },
    {
      "cell_type": "code",
      "metadata": {
        "id": "Sy937m-Yh-3T"
      },
      "source": [
        "name_vocab_size= vocab_size\r\n",
        "desc_vocab_size= vocab_size\r\n",
        "def getModelGlove(name_length_max, desc_length_max, name_vocab_size, desc_vocab_size, embedding_matrix=None):\r\n",
        "    inputA = Input(shape=(4,))\r\n",
        "    Ad = inputA\r\n",
        "    \r\n",
        "    inputName = Input(shape=(name_length_max,))\r\n",
        "    if embedding_matrix.size == 0:\r\n",
        "      Ne = Embedding(input_dim=name_vocab_size, output_dim=50, weights=[embedding_matrix], input_length=name_length_max, trainable=False)(inputName)\r\n",
        "    else: \r\n",
        "      Ne = Embedding(input_dim=name_vocab_size, output_dim=50, input_length=name_length_max)(inputName)\r\n",
        "\r\n",
        "    Nd = Bidirectional(LSTM(12, return_sequences=True, dropout=0.2))(Ne)\r\n",
        "    Nd =  GlobalMaxPool1D()(Nd)\r\n",
        "    \r\n",
        "    inputDesc = Input(shape=(desc_length_max,))\r\n",
        "    if embedding_matrix.size == 0:\r\n",
        "      De = Embedding(input_dim=desc_vocab_size, output_dim=50, weights=[embedding_matrix], input_length=desc_length_max, trainable=False)(inputDesc)\r\n",
        "    else:\r\n",
        "      De = Embedding(input_dim=desc_vocab_size, output_dim=50, input_length=desc_length_max)(inputDesc)\r\n",
        "\r\n",
        "\r\n",
        "    Dd = Bidirectional(LSTM(16, return_sequences=True, dropout=0.2))(De)\r\n",
        "    Dd = Bidirectional(LSTM(8, return_sequences=True, dropout=0.2))(Dd)\r\n",
        "    \r\n",
        "    Dd =  GlobalMaxPool1D()(Dd)\r\n",
        "    \r\n",
        "    concat = Concatenate()([Ad, Nd, Dd])\r\n",
        "\r\n",
        "    x = Dropout(0.2)(concat)    \r\n",
        "    x = Dense(32, activation='relu')(x)\r\n",
        "    x = Dropout(0.2)(x)\r\n",
        "    x = Dense(16, activation='relu')(x)\r\n",
        "    \r\n",
        "    x = Dense(1, activation='linear')(x)\r\n",
        "    \r\n",
        "    model = Model(inputs=[inputA, inputName, inputDesc], outputs=x)\r\n",
        "    \r\n",
        "    return model\r\n",
        "    "
      ],
      "execution_count": null,
      "outputs": []
    },
    {
      "cell_type": "code",
      "metadata": {
        "colab": {
          "base_uri": "https://localhost:8080/"
        },
        "id": "Eh6pXWdkhbzZ",
        "outputId": "9ee985f2-5b2e-41c2-91c8-32c8ddd453af"
      },
      "source": [
        "model_glove= getModelGlove(name_length_max, desc_length_max, name_vocab_size, desc_vocab_size, embedding_matrix)\r\n",
        "model_glove.summary()"
      ],
      "execution_count": null,
      "outputs": [
        {
          "output_type": "stream",
          "text": [
            "Model: \"model\"\n",
            "__________________________________________________________________________________________________\n",
            "Layer (type)                    Output Shape         Param #     Connected to                     \n",
            "==================================================================================================\n",
            "input_3 (InputLayer)            [(None, 75)]         0                                            \n",
            "__________________________________________________________________________________________________\n",
            "input_2 (InputLayer)            [(None, 10)]         0                                            \n",
            "__________________________________________________________________________________________________\n",
            "embedding_1 (Embedding)         (None, 75, 50)       9665000     input_3[0][0]                    \n",
            "__________________________________________________________________________________________________\n",
            "embedding (Embedding)           (None, 10, 50)       9665000     input_2[0][0]                    \n",
            "__________________________________________________________________________________________________\n",
            "bidirectional_1 (Bidirectional) (None, 75, 32)       8576        embedding_1[0][0]                \n",
            "__________________________________________________________________________________________________\n",
            "bidirectional (Bidirectional)   (None, 10, 24)       6048        embedding[0][0]                  \n",
            "__________________________________________________________________________________________________\n",
            "bidirectional_2 (Bidirectional) (None, 75, 16)       2624        bidirectional_1[0][0]            \n",
            "__________________________________________________________________________________________________\n",
            "input_1 (InputLayer)            [(None, 4)]          0                                            \n",
            "__________________________________________________________________________________________________\n",
            "global_max_pooling1d (GlobalMax (None, 24)           0           bidirectional[0][0]              \n",
            "__________________________________________________________________________________________________\n",
            "global_max_pooling1d_1 (GlobalM (None, 16)           0           bidirectional_2[0][0]            \n",
            "__________________________________________________________________________________________________\n",
            "concatenate (Concatenate)       (None, 44)           0           input_1[0][0]                    \n",
            "                                                                 global_max_pooling1d[0][0]       \n",
            "                                                                 global_max_pooling1d_1[0][0]     \n",
            "__________________________________________________________________________________________________\n",
            "dropout (Dropout)               (None, 44)           0           concatenate[0][0]                \n",
            "__________________________________________________________________________________________________\n",
            "dense (Dense)                   (None, 32)           1440        dropout[0][0]                    \n",
            "__________________________________________________________________________________________________\n",
            "dropout_1 (Dropout)             (None, 32)           0           dense[0][0]                      \n",
            "__________________________________________________________________________________________________\n",
            "dense_1 (Dense)                 (None, 16)           528         dropout_1[0][0]                  \n",
            "__________________________________________________________________________________________________\n",
            "dense_2 (Dense)                 (None, 1)            17          dense_1[0][0]                    \n",
            "==================================================================================================\n",
            "Total params: 19,349,233\n",
            "Trainable params: 19,349,233\n",
            "Non-trainable params: 0\n",
            "__________________________________________________________________________________________________\n"
          ],
          "name": "stdout"
        }
      ]
    },
    {
      "cell_type": "code",
      "metadata": {
        "colab": {
          "base_uri": "https://localhost:8080/",
          "height": 1000
        },
        "id": "fWVVDyURj6ey",
        "outputId": "8fb64804-dd09-4174-895b-16e1af27b559"
      },
      "source": [
        "plot_model(model_glove)"
      ],
      "execution_count": null,
      "outputs": [
        {
          "output_type": "execute_result",
          "data": {
            "image/png": "[encoded data removed]",
            "text/plain": [
              "<IPython.core.display.Image object>"
            ]
          },
          "metadata": {
            "tags": []
          },
          "execution_count": 42
        }
      ]
    },
    {
      "cell_type": "code",
      "metadata": {
        "id": "_LeBKCNokAoL"
      },
      "source": [
        "model_glove.compile(loss = root_mean_squared_logarithmic_error, optimizer='adam', metrics=['mse', 'mae', tf.keras.metrics.RootMeanSquaredError(), 'mean_squared_logarithmic_error', root_mean_squared_logarithmic_error])"
      ],
      "execution_count": null,
      "outputs": []
    },
    {
      "cell_type": "code",
      "metadata": {
        "colab": {
          "base_uri": "https://localhost:8080/"
        },
        "id": "QG9QznRskJP-",
        "outputId": "e89843ad-925b-4977-875a-9d2ce185d25f"
      },
      "source": [
        "callback = tf.keras.callbacks.EarlyStopping(monitor='val_loss', patience=2)\r\n",
        "\r\n",
        "history_glove = model_glove.fit(x=[inputA_train_keras,inputName_train_keras, inputDesc_train_keras], y=y_train_keras,\r\n",
        "                    epochs=10,\r\n",
        "                    verbose=True,\r\n",
        "                    validation_data=([inputA_validation_keras ,inputName_validation_keras, inputDesc_validation_keras], y_validation_keras),\r\n",
        "                    callbacks=[callback],\r\n",
        "                    batch_size=512)\r\n",
        "# glove 6M \r\n",
        "# con 10 epoche e senza pulizia: loss: 0.5564 e val_root_mean_squared_logarithmic_error: 0.5392\r\n",
        "# con 10 epoche e pulizia emoji etc: loss: 0.5553 e val_root_mean_squared_logarithmic_error: 0.5312\r\n",
        "\r\n",
        "# glove.840B.300d\r\n",
        "# con 10 epoche senza pulizia: loss: 0.3678  e val_root_mean_squared_logarithmic_error: 0.4537\r\n",
        "# con 10 epoce con pulizia: loss: 0.3817 e val_root_mean_squared_logarithmic_error 0.4604"
      ],
      "execution_count": 53,
      "outputs": [
        {
          "output_type": "stream",
          "text": [
            "Epoch 1/10\n",
            "2261/2261 [==============================] - 473s 203ms/step - loss: 0.8633 - mse: 2652.0857 - mae: 19.7727 - root_mean_squared_error: 49.9970 - mean_squared_logarithmic_error: 1.0023 - root_mean_squared_logarithmic_error: 0.8633 - val_loss: 0.4955 - val_mse: 1088.8577 - val_mae: 11.8060 - val_root_mean_squared_error: 32.9978 - val_mean_squared_logarithmic_error: 0.2461 - val_root_mean_squared_logarithmic_error: 0.4956\n",
            "Epoch 2/10\n",
            "2261/2261 [==============================] - 452s 200ms/step - loss: 0.4992 - mse: 1099.5569 - mae: 11.8937 - root_mean_squared_error: 33.1485 - mean_squared_logarithmic_error: 0.2497 - root_mean_squared_logarithmic_error: 0.4992 - val_loss: 0.4700 - val_mse: 929.4938 - val_mae: 11.1256 - val_root_mean_squared_error: 30.4876 - val_mean_squared_logarithmic_error: 0.2213 - val_root_mean_squared_logarithmic_error: 0.4701\n",
            "Epoch 3/10\n",
            "2261/2261 [==============================] - 453s 201ms/step - loss: 0.4622 - mse: 978.1232 - mae: 10.9883 - root_mean_squared_error: 31.2661 - mean_squared_logarithmic_error: 0.2140 - root_mean_squared_logarithmic_error: 0.4622 - val_loss: 0.4627 - val_mse: 895.7136 - val_mae: 10.8645 - val_root_mean_squared_error: 29.9285 - val_mean_squared_logarithmic_error: 0.2145 - val_root_mean_squared_logarithmic_error: 0.4628\n",
            "Epoch 4/10\n",
            "2261/2261 [==============================] - 466s 206ms/step - loss: 0.4395 - mse: 921.2710 - mae: 10.4756 - root_mean_squared_error: 30.3352 - mean_squared_logarithmic_error: 0.1935 - root_mean_squared_logarithmic_error: 0.4395 - val_loss: 0.4610 - val_mse: 843.0635 - val_mae: 10.7354 - val_root_mean_squared_error: 29.0356 - val_mean_squared_logarithmic_error: 0.2129 - val_root_mean_squared_logarithmic_error: 0.4611\n",
            "Epoch 5/10\n",
            "2261/2261 [==============================] - 462s 204ms/step - loss: 0.4229 - mse: 832.8676 - mae: 10.0272 - root_mean_squared_error: 28.8525 - mean_squared_logarithmic_error: 0.1792 - root_mean_squared_logarithmic_error: 0.4229 - val_loss: 0.4581 - val_mse: 830.8691 - val_mae: 10.6138 - val_root_mean_squared_error: 28.8248 - val_mean_squared_logarithmic_error: 0.2103 - val_root_mean_squared_logarithmic_error: 0.4582\n",
            "Epoch 6/10\n",
            "2261/2261 [==============================] - 457s 202ms/step - loss: 0.4105 - mse: 814.1563 - mae: 9.6799 - root_mean_squared_error: 28.5263 - mean_squared_logarithmic_error: 0.1689 - root_mean_squared_logarithmic_error: 0.4105 - val_loss: 0.4568 - val_mse: 795.5459 - val_mae: 10.6049 - val_root_mean_squared_error: 28.2054 - val_mean_squared_logarithmic_error: 0.2092 - val_root_mean_squared_logarithmic_error: 0.4569\n",
            "Epoch 7/10\n",
            "2261/2261 [==============================] - 456s 202ms/step - loss: 0.4015 - mse: 730.8763 - mae: 9.4249 - root_mean_squared_error: 27.0235 - mean_squared_logarithmic_error: 0.1615 - root_mean_squared_logarithmic_error: 0.4015 - val_loss: 0.4567 - val_mse: 803.5131 - val_mae: 10.5952 - val_root_mean_squared_error: 28.3463 - val_mean_squared_logarithmic_error: 0.2090 - val_root_mean_squared_logarithmic_error: 0.4568\n",
            "Epoch 8/10\n",
            "2261/2261 [==============================] - 453s 200ms/step - loss: 0.3932 - mse: 704.9097 - mae: 9.1665 - root_mean_squared_error: 26.5460 - mean_squared_logarithmic_error: 0.1549 - root_mean_squared_logarithmic_error: 0.3932 - val_loss: 0.4558 - val_mse: 780.0108 - val_mae: 10.5257 - val_root_mean_squared_error: 27.9287 - val_mean_squared_logarithmic_error: 0.2082 - val_root_mean_squared_logarithmic_error: 0.4559\n",
            "Epoch 9/10\n",
            "2261/2261 [==============================] - 453s 200ms/step - loss: 0.3852 - mse: 718.4264 - mae: 9.0120 - root_mean_squared_error: 26.7273 - mean_squared_logarithmic_error: 0.1487 - root_mean_squared_logarithmic_error: 0.3852 - val_loss: 0.4562 - val_mse: 781.0066 - val_mae: 10.4899 - val_root_mean_squared_error: 27.9465 - val_mean_squared_logarithmic_error: 0.2086 - val_root_mean_squared_logarithmic_error: 0.4563\n",
            "Epoch 10/10\n",
            "2261/2261 [==============================] - 451s 200ms/step - loss: 0.3802 - mse: 641.4455 - mae: 8.8133 - root_mean_squared_error: 25.3154 - mean_squared_logarithmic_error: 0.1449 - root_mean_squared_logarithmic_error: 0.3802 - val_loss: 0.4562 - val_mse: 789.6462 - val_mae: 10.4920 - val_root_mean_squared_error: 28.1006 - val_mean_squared_logarithmic_error: 0.2086 - val_root_mean_squared_logarithmic_error: 0.4563\n"
          ],
          "name": "stdout"
        }
      ]
    },
    {
      "cell_type": "markdown",
      "metadata": {
        "id": "Am9eiXhqax3l"
      },
      "source": [
        "## BoW"
      ]
    },
    {
      "cell_type": "code",
      "metadata": {
        "colab": {
          "base_uri": "https://localhost:8080/",
          "height": 278
        },
        "id": "RKpbPcZMddGB",
        "outputId": "a1e7616a-9a84-4dc0-c468-3f2d59e36467"
      },
      "source": [
        "data.head()"
      ],
      "execution_count": null,
      "outputs": [
        {
          "output_type": "execute_result",
          "data": {
            "text/html": [
              "<div>\n",
              "<style scoped>\n",
              "    .dataframe tbody tr th:only-of-type {\n",
              "        vertical-align: middle;\n",
              "    }\n",
              "\n",
              "    .dataframe tbody tr th {\n",
              "        vertical-align: top;\n",
              "    }\n",
              "\n",
              "    .dataframe thead th {\n",
              "        text-align: right;\n",
              "    }\n",
              "</style>\n",
              "<table border=\"1\" class=\"dataframe\">\n",
              "  <thead>\n",
              "    <tr style=\"text-align: right;\">\n",
              "      <th></th>\n",
              "      <th>name</th>\n",
              "      <th>item_condition_id</th>\n",
              "      <th>category_name</th>\n",
              "      <th>brand_name</th>\n",
              "      <th>price</th>\n",
              "      <th>shipping</th>\n",
              "      <th>item_description</th>\n",
              "      <th>category_name_l</th>\n",
              "      <th>brand_name_l</th>\n",
              "    </tr>\n",
              "  </thead>\n",
              "  <tbody>\n",
              "    <tr>\n",
              "      <th>0</th>\n",
              "      <td>mlb cincinnati reds t shirt size xl</td>\n",
              "      <td>3</td>\n",
              "      <td>Men/Tops/T-shirts</td>\n",
              "      <td>NA</td>\n",
              "      <td>10.0</td>\n",
              "      <td>1</td>\n",
              "      <td>no description yet</td>\n",
              "      <td>19</td>\n",
              "      <td>1</td>\n",
              "    </tr>\n",
              "    <tr>\n",
              "      <th>1</th>\n",
              "      <td>razer blackwidow chroma keyboard</td>\n",
              "      <td>3</td>\n",
              "      <td>Electronics/Computers &amp; Tablets/Components &amp; P...</td>\n",
              "      <td>Razer</td>\n",
              "      <td>52.0</td>\n",
              "      <td>0</td>\n",
              "      <td>this keyboard is in great condition and works ...</td>\n",
              "      <td>246</td>\n",
              "      <td>1073</td>\n",
              "    </tr>\n",
              "    <tr>\n",
              "      <th>2</th>\n",
              "      <td>ava-viv blouse</td>\n",
              "      <td>1</td>\n",
              "      <td>Women/Tops &amp; Blouses/Blouse</td>\n",
              "      <td>Target</td>\n",
              "      <td>10.0</td>\n",
              "      <td>1</td>\n",
              "      <td>adorable top with a hint of lace and a key hol...</td>\n",
              "      <td>10</td>\n",
              "      <td>175</td>\n",
              "    </tr>\n",
              "    <tr>\n",
              "      <th>3</th>\n",
              "      <td>leather horse statues</td>\n",
              "      <td>1</td>\n",
              "      <td>Home/Home Décor/Home Décor Accents</td>\n",
              "      <td>NA</td>\n",
              "      <td>35.0</td>\n",
              "      <td>1</td>\n",
              "      <td>new with tags. leather horses. retail for [rm]...</td>\n",
              "      <td>28</td>\n",
              "      <td>1</td>\n",
              "    </tr>\n",
              "    <tr>\n",
              "      <th>4</th>\n",
              "      <td>24k gold plated rose</td>\n",
              "      <td>1</td>\n",
              "      <td>Women/Jewelry/Necklaces</td>\n",
              "      <td>NA</td>\n",
              "      <td>44.0</td>\n",
              "      <td>0</td>\n",
              "      <td>complete with certificate of authenticity</td>\n",
              "      <td>16</td>\n",
              "      <td>1</td>\n",
              "    </tr>\n",
              "  </tbody>\n",
              "</table>\n",
              "</div>"
            ],
            "text/plain": [
              "                                  name  ...  brand_name_l\n",
              "0  mlb cincinnati reds t shirt size xl  ...             1\n",
              "1     razer blackwidow chroma keyboard  ...          1073\n",
              "2                       ava-viv blouse  ...           175\n",
              "3                leather horse statues  ...             1\n",
              "4                 24k gold plated rose  ...             1\n",
              "\n",
              "[5 rows x 9 columns]"
            ]
          },
          "metadata": {
            "tags": []
          },
          "execution_count": 13
        }
      ]
    },
    {
      "cell_type": "code",
      "metadata": {
        "id": "WMvcp3DzpFlE"
      },
      "source": [
        "train_cvec, validation_cvec = train_test_split(data, test_size=0.2, random_state=1000)"
      ],
      "execution_count": null,
      "outputs": []
    },
    {
      "cell_type": "code",
      "metadata": {
        "colab": {
          "base_uri": "https://localhost:8080/"
        },
        "id": "cc9UaX5XKaRg",
        "outputId": "4acdd705-f01d-4171-c939-f14429f3dfbc"
      },
      "source": [
        "categorical_train_cvec= train_cvec[[\"item_condition_id\",\"shipping\",\"category_name_l\",\"brand_name_l\"]]\r\n",
        "print(\"Train:\")\r\n",
        "print(categorical_train_cvec.head())\r\n",
        "print(\"\\nValidation:\")\r\n",
        "categorical_validation_cvec= validation_cvec[[\"item_condition_id\",\"shipping\",\"category_name_l\",\"brand_name_l\"]]\r\n",
        "print(categorical_validation_cvec.head())"
      ],
      "execution_count": null,
      "outputs": [
        {
          "output_type": "stream",
          "text": [
            "Train:\n",
            "         item_condition_id  shipping  category_name_l  brand_name_l\n",
            "233645                   4         1               42             8\n",
            "1419447                  1         0                6             1\n",
            "935662                   3         1               29          1137\n",
            "1147679                  2         0               77             1\n",
            "766955                   1         1                4            18\n",
            "\n",
            "Validation:\n",
            "         item_condition_id  shipping  category_name_l  brand_name_l\n",
            "1378349                  1         1                1             1\n",
            "1186437                  1         0                1             5\n",
            "1356070                  3         0              166             8\n",
            "981120                   1         0                3           118\n",
            "1017699                  1         1                6           129\n"
          ],
          "name": "stdout"
        }
      ]
    },
    {
      "cell_type": "code",
      "metadata": {
        "id": "-I1r2JgCxP1g"
      },
      "source": [
        "y_train_cvec=train_cvec[\"price\"].values\r\n",
        "y_validation_cvec=validation_cvec[\"price\"].values"
      ],
      "execution_count": null,
      "outputs": []
    },
    {
      "cell_type": "markdown",
      "metadata": {
        "id": "uuMtKfPMrZBk"
      },
      "source": [
        "### Count Vectorizer"
      ]
    },
    {
      "cell_type": "code",
      "metadata": {
        "colab": {
          "base_uri": "https://localhost:8080/",
          "height": 337
        },
        "id": "cnLBxl6b0Ruj",
        "outputId": "63297752-fada-4d6e-9468-b8cb6839b23b"
      },
      "source": [
        "vectorizer_desc = CountVectorizer()\r\n",
        "vectorizer_desc.fit(data[\"item_description\"].values)"
      ],
      "execution_count": null,
      "outputs": [
        {
          "output_type": "error",
          "ename": "KeyboardInterrupt",
          "evalue": "ignored",
          "traceback": [
            "\u001b[0;31m---------------------------------------------------------------------------\u001b[0m",
            "\u001b[0;31mKeyboardInterrupt\u001b[0m                         Traceback (most recent call last)",
            "\u001b[0;32m<ipython-input-14-47d2181867ba>\u001b[0m in \u001b[0;36m<module>\u001b[0;34m()\u001b[0m\n\u001b[1;32m      1\u001b[0m \u001b[0mvectorizer_desc\u001b[0m \u001b[0;34m=\u001b[0m \u001b[0mCountVectorizer\u001b[0m\u001b[0;34m(\u001b[0m\u001b[0;34m)\u001b[0m\u001b[0;34m\u001b[0m\u001b[0;34m\u001b[0m\u001b[0m\n\u001b[0;32m----> 2\u001b[0;31m \u001b[0mvectorizer_desc\u001b[0m\u001b[0;34m.\u001b[0m\u001b[0mfit\u001b[0m\u001b[0;34m(\u001b[0m\u001b[0mdata\u001b[0m\u001b[0;34m[\u001b[0m\u001b[0;34m\"item_description\"\u001b[0m\u001b[0;34m]\u001b[0m\u001b[0;34m.\u001b[0m\u001b[0mvalues\u001b[0m\u001b[0;34m)\u001b[0m\u001b[0;34m\u001b[0m\u001b[0;34m\u001b[0m\u001b[0m\n\u001b[0m",
            "\u001b[0;32m/usr/local/lib/python3.6/dist-packages/sklearn/feature_extraction/text.py\u001b[0m in \u001b[0;36mfit\u001b[0;34m(self, raw_documents, y)\u001b[0m\n\u001b[1;32m   1184\u001b[0m         \"\"\"\n\u001b[1;32m   1185\u001b[0m         \u001b[0mself\u001b[0m\u001b[0;34m.\u001b[0m\u001b[0m_warn_for_unused_params\u001b[0m\u001b[0;34m(\u001b[0m\u001b[0;34m)\u001b[0m\u001b[0;34m\u001b[0m\u001b[0;34m\u001b[0m\u001b[0m\n\u001b[0;32m-> 1186\u001b[0;31m         \u001b[0mself\u001b[0m\u001b[0;34m.\u001b[0m\u001b[0mfit_transform\u001b[0m\u001b[0;34m(\u001b[0m\u001b[0mraw_documents\u001b[0m\u001b[0;34m)\u001b[0m\u001b[0;34m\u001b[0m\u001b[0;34m\u001b[0m\u001b[0m\n\u001b[0m\u001b[1;32m   1187\u001b[0m         \u001b[0;32mreturn\u001b[0m \u001b[0mself\u001b[0m\u001b[0;34m\u001b[0m\u001b[0;34m\u001b[0m\u001b[0m\n\u001b[1;32m   1188\u001b[0m \u001b[0;34m\u001b[0m\u001b[0m\n",
            "\u001b[0;32m/usr/local/lib/python3.6/dist-packages/sklearn/feature_extraction/text.py\u001b[0m in \u001b[0;36mfit_transform\u001b[0;34m(self, raw_documents, y)\u001b[0m\n\u001b[1;32m   1218\u001b[0m \u001b[0;34m\u001b[0m\u001b[0m\n\u001b[1;32m   1219\u001b[0m         vocabulary, X = self._count_vocab(raw_documents,\n\u001b[0;32m-> 1220\u001b[0;31m                                           self.fixed_vocabulary_)\n\u001b[0m\u001b[1;32m   1221\u001b[0m \u001b[0;34m\u001b[0m\u001b[0m\n\u001b[1;32m   1222\u001b[0m         \u001b[0;32mif\u001b[0m \u001b[0mself\u001b[0m\u001b[0;34m.\u001b[0m\u001b[0mbinary\u001b[0m\u001b[0;34m:\u001b[0m\u001b[0;34m\u001b[0m\u001b[0;34m\u001b[0m\u001b[0m\n",
            "\u001b[0;32m/usr/local/lib/python3.6/dist-packages/sklearn/feature_extraction/text.py\u001b[0m in \u001b[0;36m_count_vocab\u001b[0;34m(self, raw_documents, fixed_vocab)\u001b[0m\n\u001b[1;32m   1132\u001b[0m                 \u001b[0;32mtry\u001b[0m\u001b[0;34m:\u001b[0m\u001b[0;34m\u001b[0m\u001b[0;34m\u001b[0m\u001b[0m\n\u001b[1;32m   1133\u001b[0m                     \u001b[0mfeature_idx\u001b[0m \u001b[0;34m=\u001b[0m \u001b[0mvocabulary\u001b[0m\u001b[0;34m[\u001b[0m\u001b[0mfeature\u001b[0m\u001b[0;34m]\u001b[0m\u001b[0;34m\u001b[0m\u001b[0;34m\u001b[0m\u001b[0m\n\u001b[0;32m-> 1134\u001b[0;31m                     \u001b[0;32mif\u001b[0m \u001b[0mfeature_idx\u001b[0m \u001b[0;32mnot\u001b[0m \u001b[0;32min\u001b[0m \u001b[0mfeature_counter\u001b[0m\u001b[0;34m:\u001b[0m\u001b[0;34m\u001b[0m\u001b[0;34m\u001b[0m\u001b[0m\n\u001b[0m\u001b[1;32m   1135\u001b[0m                         \u001b[0mfeature_counter\u001b[0m\u001b[0;34m[\u001b[0m\u001b[0mfeature_idx\u001b[0m\u001b[0;34m]\u001b[0m \u001b[0;34m=\u001b[0m \u001b[0;36m1\u001b[0m\u001b[0;34m\u001b[0m\u001b[0;34m\u001b[0m\u001b[0m\n\u001b[1;32m   1136\u001b[0m                     \u001b[0;32melse\u001b[0m\u001b[0;34m:\u001b[0m\u001b[0;34m\u001b[0m\u001b[0;34m\u001b[0m\u001b[0m\n",
            "\u001b[0;31mKeyboardInterrupt\u001b[0m: "
          ]
        }
      ]
    },
    {
      "cell_type": "code",
      "metadata": {
        "colab": {
          "base_uri": "https://localhost:8080/"
        },
        "id": "2hGHK3_f3du3",
        "outputId": "5e9a285e-b3fa-44b5-de69-b17ac692335f"
      },
      "source": [
        "len(vectorizer_desc.vocabulary_)"
      ],
      "execution_count": null,
      "outputs": [
        {
          "output_type": "execute_result",
          "data": {
            "text/plain": [
              "160142"
            ]
          },
          "metadata": {
            "tags": []
          },
          "execution_count": 19
        }
      ]
    },
    {
      "cell_type": "code",
      "metadata": {
        "id": "WvNUFh5zFz09"
      },
      "source": [
        "description_train_cvec = vectorizer_desc.transform(train_cvec[\"item_description\"].values)"
      ],
      "execution_count": null,
      "outputs": []
    },
    {
      "cell_type": "code",
      "metadata": {
        "id": "0etpa0ospxMm"
      },
      "source": [
        "description_validation_cvec = vectorizer_desc.transform(validation_cvec[\"item_description\"].values)"
      ],
      "execution_count": null,
      "outputs": []
    },
    {
      "cell_type": "code",
      "metadata": {
        "colab": {
          "base_uri": "https://localhost:8080/"
        },
        "id": "9myswCjJVeB6",
        "outputId": "70e0dde3-a19a-4021-ded0-66aef3761bc5"
      },
      "source": [
        "type(description_validation_cvec)"
      ],
      "execution_count": null,
      "outputs": [
        {
          "output_type": "execute_result",
          "data": {
            "text/plain": [
              "scipy.sparse.csr.csr_matrix"
            ]
          },
          "metadata": {
            "tags": []
          },
          "execution_count": 22
        }
      ]
    },
    {
      "cell_type": "code",
      "metadata": {
        "colab": {
          "base_uri": "https://localhost:8080/"
        },
        "id": "BRsUcwbSpTWu",
        "outputId": "e4c9b9d1-57c6-46e4-965d-bbbf8d7bd838"
      },
      "source": [
        "vectorizer_name = CountVectorizer()\r\n",
        "vectorizer_name.fit(data[\"name\"].values)"
      ],
      "execution_count": null,
      "outputs": [
        {
          "output_type": "execute_result",
          "data": {
            "text/plain": [
              "CountVectorizer(analyzer='word', binary=False, decode_error='strict',\n",
              "                dtype=<class 'numpy.int64'>, encoding='utf-8', input='content',\n",
              "                lowercase=True, max_df=1.0, max_features=None, min_df=1,\n",
              "                ngram_range=(1, 1), preprocessor=None, stop_words=None,\n",
              "                strip_accents=None, token_pattern='(?u)\\\\b\\\\w\\\\w+\\\\b',\n",
              "                tokenizer=None, vocabulary=None)"
            ]
          },
          "metadata": {
            "tags": []
          },
          "execution_count": 27
        }
      ]
    },
    {
      "cell_type": "code",
      "metadata": {
        "colab": {
          "base_uri": "https://localhost:8080/"
        },
        "id": "cx3VVZ15qI0h",
        "outputId": "18e818e4-2ffc-46ef-a4b4-8accf7bdfc98"
      },
      "source": [
        "len(vectorizer_name.vocabulary_)"
      ],
      "execution_count": null,
      "outputs": [
        {
          "output_type": "execute_result",
          "data": {
            "text/plain": [
              "104060"
            ]
          },
          "metadata": {
            "tags": []
          },
          "execution_count": 28
        }
      ]
    },
    {
      "cell_type": "code",
      "metadata": {
        "id": "nh1PddSiqSS_"
      },
      "source": [
        "name_train_cvec = vectorizer_name.transform(train_cvec[\"name\"].values)\r\n",
        "name_validation_cvec = vectorizer_name.transform(validation_cvec[\"name\"].values)"
      ],
      "execution_count": null,
      "outputs": []
    },
    {
      "cell_type": "code",
      "metadata": {
        "colab": {
          "base_uri": "https://localhost:8080/"
        },
        "id": "TK01Kzkj6244",
        "outputId": "10a5442d-37af-482c-8509-f9259f89335a"
      },
      "source": [
        "type(name_train_cvec)"
      ],
      "execution_count": null,
      "outputs": [
        {
          "output_type": "execute_result",
          "data": {
            "text/plain": [
              "scipy.sparse.csr.csr_matrix"
            ]
          },
          "metadata": {
            "tags": []
          },
          "execution_count": 57
        }
      ]
    },
    {
      "cell_type": "code",
      "metadata": {
        "id": "NzdkPXSu4VMb"
      },
      "source": [
        "def getModel_bow(categorical_train, name_train, description_train):\r\n",
        "    inputA = Input(categorical_train.shape[1])\r\n",
        "    inputName = Input(name_train.shape[1])\r\n",
        "    inputDesc = Input(description_train.shape[1])\r\n",
        "    concat = Concatenate()([inputName, inputDesc, inputA])\r\n",
        "\r\n",
        "    x = Dropout(0.1)(concat)\r\n",
        "    x = Dense(32, activation='relu')(x)\r\n",
        "    x = Dropout(0.1)(x)\r\n",
        "    x = Dense(16, activation='relu')(x)\r\n",
        "    \r\n",
        "    x = Dense(1, activation='linear')(x)\r\n",
        "    \r\n",
        "    model = Model(inputs=[inputName ,inputDesc, inputA], outputs=x)\r\n",
        "\r\n",
        "    return model"
      ],
      "execution_count": null,
      "outputs": []
    },
    {
      "cell_type": "code",
      "metadata": {
        "colab": {
          "base_uri": "https://localhost:8080/"
        },
        "id": "bd_anq_Cxg4h",
        "outputId": "2172a9f5-869f-4627-c082-12c62986f22c"
      },
      "source": [
        "model_cvec = getModel_bow(categorical_train_cvec, name_train_cvec, description_train_cvec)\r\n",
        "model_cvec.summary()"
      ],
      "execution_count": null,
      "outputs": [
        {
          "output_type": "stream",
          "text": [
            "Model: \"model\"\n",
            "__________________________________________________________________________________________________\n",
            "Layer (type)                    Output Shape         Param #     Connected to                     \n",
            "==================================================================================================\n",
            "input_2 (InputLayer)            [(None, 104060)]     0                                            \n",
            "__________________________________________________________________________________________________\n",
            "input_3 (InputLayer)            [(None, 160142)]     0                                            \n",
            "__________________________________________________________________________________________________\n",
            "input_1 (InputLayer)            [(None, 4)]          0                                            \n",
            "__________________________________________________________________________________________________\n",
            "concatenate (Concatenate)       (None, 264206)       0           input_2[0][0]                    \n",
            "                                                                 input_3[0][0]                    \n",
            "                                                                 input_1[0][0]                    \n",
            "__________________________________________________________________________________________________\n",
            "dropout (Dropout)               (None, 264206)       0           concatenate[0][0]                \n",
            "__________________________________________________________________________________________________\n",
            "dense (Dense)                   (None, 32)           8454624     dropout[0][0]                    \n",
            "__________________________________________________________________________________________________\n",
            "dropout_1 (Dropout)             (None, 32)           0           dense[0][0]                      \n",
            "__________________________________________________________________________________________________\n",
            "dense_1 (Dense)                 (None, 16)           528         dropout_1[0][0]                  \n",
            "__________________________________________________________________________________________________\n",
            "dense_2 (Dense)                 (None, 1)            17          dense_1[0][0]                    \n",
            "==================================================================================================\n",
            "Total params: 8,455,169\n",
            "Trainable params: 8,455,169\n",
            "Non-trainable params: 0\n",
            "__________________________________________________________________________________________________\n"
          ],
          "name": "stdout"
        }
      ]
    },
    {
      "cell_type": "code",
      "metadata": {
        "colab": {
          "base_uri": "https://localhost:8080/",
          "height": 661
        },
        "id": "AIsxSCOxyzLb",
        "outputId": "fb1bd6c6-f25e-4bef-c88e-08e07504f17e"
      },
      "source": [
        "plot_model(model_cvec)"
      ],
      "execution_count": null,
      "outputs": [
        {
          "output_type": "execute_result",
          "data": {
            "image/png": "[encoded data removed]",
            "text/plain": [
              "<IPython.core.display.Image object>"
            ]
          },
          "metadata": {
            "tags": []
          },
          "execution_count": 33
        }
      ]
    },
    {
      "cell_type": "code",
      "metadata": {
        "id": "93QpCY4F3hXa"
      },
      "source": [
        "model_cvec.compile(loss = root_mean_squared_logarithmic_error, optimizer='adam', metrics=['mse', 'mae', tf.keras.metrics.RootMeanSquaredError(), 'mean_squared_logarithmic_error', root_mean_squared_logarithmic_error])"
      ],
      "execution_count": null,
      "outputs": []
    },
    {
      "cell_type": "code",
      "metadata": {
        "colab": {
          "base_uri": "https://localhost:8080/",
          "height": 408
        },
        "id": "B70Cb3AW7sEw",
        "outputId": "479b2323-437b-41c1-ad8b-a15b3cf314c5"
      },
      "source": [
        "history_cvec = model_cvec.fit(x=[name_train_cvec, description_train_cvec, categorical_train_cvec.values],\r\n",
        "                    y=y_train_cvec,\r\n",
        "                    epochs=5,\r\n",
        "                    verbose=True,\r\n",
        "                    validation_data=(\r\n",
        "                        [name_validation_cvec, description_validation_cvec, categorical_validation_cvec.values]\r\n",
        "                        , y_validation_cvec),\r\n",
        "                    batch_size=512)"
      ],
      "execution_count": null,
      "outputs": [
        {
          "output_type": "stream",
          "text": [
            "Epoch 1/5\n",
            "  67/2261 [..............................] - ETA: 5:58 - loss: 1.8163 - mse: 2388.3095 - mae: 25.9222 - root_mean_squared_error: 48.7976 - mean_squared_logarithmic_error: 3.5844 - root_mean_squared_logarithmic_error: 1.8163"
          ],
          "name": "stdout"
        },
        {
          "output_type": "error",
          "ename": "KeyboardInterrupt",
          "evalue": "ignored",
          "traceback": [
            "\u001b[0;31m---------------------------------------------------------------------------\u001b[0m",
            "\u001b[0;31mKeyboardInterrupt\u001b[0m                         Traceback (most recent call last)",
            "\u001b[0;32m<ipython-input-35-6a4145efd800>\u001b[0m in \u001b[0;36m<module>\u001b[0;34m()\u001b[0m\n\u001b[1;32m      6\u001b[0m                         \u001b[0;34m[\u001b[0m\u001b[0mname_validation_cvec\u001b[0m\u001b[0;34m,\u001b[0m \u001b[0mdescription_validation_cvec\u001b[0m\u001b[0;34m,\u001b[0m \u001b[0mcategorical_validation_cvec\u001b[0m\u001b[0;34m.\u001b[0m\u001b[0mvalues\u001b[0m\u001b[0;34m]\u001b[0m\u001b[0;34m\u001b[0m\u001b[0;34m\u001b[0m\u001b[0m\n\u001b[1;32m      7\u001b[0m                         , y_validation_cvec),\n\u001b[0;32m----> 8\u001b[0;31m                     batch_size=512)\n\u001b[0m",
            "\u001b[0;32m/usr/local/lib/python3.6/dist-packages/tensorflow/python/keras/engine/training.py\u001b[0m in \u001b[0;36mfit\u001b[0;34m(self, x, y, batch_size, epochs, verbose, callbacks, validation_split, validation_data, shuffle, class_weight, sample_weight, initial_epoch, steps_per_epoch, validation_steps, validation_batch_size, validation_freq, max_queue_size, workers, use_multiprocessing)\u001b[0m\n\u001b[1;32m   1098\u001b[0m                 _r=1):\n\u001b[1;32m   1099\u001b[0m               \u001b[0mcallbacks\u001b[0m\u001b[0;34m.\u001b[0m\u001b[0mon_train_batch_begin\u001b[0m\u001b[0;34m(\u001b[0m\u001b[0mstep\u001b[0m\u001b[0;34m)\u001b[0m\u001b[0;34m\u001b[0m\u001b[0;34m\u001b[0m\u001b[0m\n\u001b[0;32m-> 1100\u001b[0;31m               \u001b[0mtmp_logs\u001b[0m \u001b[0;34m=\u001b[0m \u001b[0mself\u001b[0m\u001b[0;34m.\u001b[0m\u001b[0mtrain_function\u001b[0m\u001b[0;34m(\u001b[0m\u001b[0miterator\u001b[0m\u001b[0;34m)\u001b[0m\u001b[0;34m\u001b[0m\u001b[0;34m\u001b[0m\u001b[0m\n\u001b[0m\u001b[1;32m   1101\u001b[0m               \u001b[0;32mif\u001b[0m \u001b[0mdata_handler\u001b[0m\u001b[0;34m.\u001b[0m\u001b[0mshould_sync\u001b[0m\u001b[0;34m:\u001b[0m\u001b[0;34m\u001b[0m\u001b[0;34m\u001b[0m\u001b[0m\n\u001b[1;32m   1102\u001b[0m                 \u001b[0mcontext\u001b[0m\u001b[0;34m.\u001b[0m\u001b[0masync_wait\u001b[0m\u001b[0;34m(\u001b[0m\u001b[0;34m)\u001b[0m\u001b[0;34m\u001b[0m\u001b[0;34m\u001b[0m\u001b[0m\n",
            "\u001b[0;32m/usr/local/lib/python3.6/dist-packages/tensorflow/python/eager/def_function.py\u001b[0m in \u001b[0;36m__call__\u001b[0;34m(self, *args, **kwds)\u001b[0m\n\u001b[1;32m    826\u001b[0m     \u001b[0mtracing_count\u001b[0m \u001b[0;34m=\u001b[0m \u001b[0mself\u001b[0m\u001b[0;34m.\u001b[0m\u001b[0mexperimental_get_tracing_count\u001b[0m\u001b[0;34m(\u001b[0m\u001b[0;34m)\u001b[0m\u001b[0;34m\u001b[0m\u001b[0;34m\u001b[0m\u001b[0m\n\u001b[1;32m    827\u001b[0m     \u001b[0;32mwith\u001b[0m \u001b[0mtrace\u001b[0m\u001b[0;34m.\u001b[0m\u001b[0mTrace\u001b[0m\u001b[0;34m(\u001b[0m\u001b[0mself\u001b[0m\u001b[0;34m.\u001b[0m\u001b[0m_name\u001b[0m\u001b[0;34m)\u001b[0m \u001b[0;32mas\u001b[0m \u001b[0mtm\u001b[0m\u001b[0;34m:\u001b[0m\u001b[0;34m\u001b[0m\u001b[0;34m\u001b[0m\u001b[0m\n\u001b[0;32m--> 828\u001b[0;31m       \u001b[0mresult\u001b[0m \u001b[0;34m=\u001b[0m \u001b[0mself\u001b[0m\u001b[0;34m.\u001b[0m\u001b[0m_call\u001b[0m\u001b[0;34m(\u001b[0m\u001b[0;34m*\u001b[0m\u001b[0margs\u001b[0m\u001b[0;34m,\u001b[0m \u001b[0;34m**\u001b[0m\u001b[0mkwds\u001b[0m\u001b[0;34m)\u001b[0m\u001b[0;34m\u001b[0m\u001b[0;34m\u001b[0m\u001b[0m\n\u001b[0m\u001b[1;32m    829\u001b[0m       \u001b[0mcompiler\u001b[0m \u001b[0;34m=\u001b[0m \u001b[0;34m\"xla\"\u001b[0m \u001b[0;32mif\u001b[0m \u001b[0mself\u001b[0m\u001b[0;34m.\u001b[0m\u001b[0m_experimental_compile\u001b[0m \u001b[0;32melse\u001b[0m \u001b[0;34m\"nonXla\"\u001b[0m\u001b[0;34m\u001b[0m\u001b[0;34m\u001b[0m\u001b[0m\n\u001b[1;32m    830\u001b[0m       \u001b[0mnew_tracing_count\u001b[0m \u001b[0;34m=\u001b[0m \u001b[0mself\u001b[0m\u001b[0;34m.\u001b[0m\u001b[0mexperimental_get_tracing_count\u001b[0m\u001b[0;34m(\u001b[0m\u001b[0;34m)\u001b[0m\u001b[0;34m\u001b[0m\u001b[0;34m\u001b[0m\u001b[0m\n",
            "\u001b[0;32m/usr/local/lib/python3.6/dist-packages/tensorflow/python/eager/def_function.py\u001b[0m in \u001b[0;36m_call\u001b[0;34m(self, *args, **kwds)\u001b[0m\n\u001b[1;32m    853\u001b[0m       \u001b[0;31m# In this case we have created variables on the first call, so we run the\u001b[0m\u001b[0;34m\u001b[0m\u001b[0;34m\u001b[0m\u001b[0;34m\u001b[0m\u001b[0m\n\u001b[1;32m    854\u001b[0m       \u001b[0;31m# defunned version which is guaranteed to never create variables.\u001b[0m\u001b[0;34m\u001b[0m\u001b[0;34m\u001b[0m\u001b[0;34m\u001b[0m\u001b[0m\n\u001b[0;32m--> 855\u001b[0;31m       \u001b[0;32mreturn\u001b[0m \u001b[0mself\u001b[0m\u001b[0;34m.\u001b[0m\u001b[0m_stateless_fn\u001b[0m\u001b[0;34m(\u001b[0m\u001b[0;34m*\u001b[0m\u001b[0margs\u001b[0m\u001b[0;34m,\u001b[0m \u001b[0;34m**\u001b[0m\u001b[0mkwds\u001b[0m\u001b[0;34m)\u001b[0m  \u001b[0;31m# pylint: disable=not-callable\u001b[0m\u001b[0;34m\u001b[0m\u001b[0;34m\u001b[0m\u001b[0m\n\u001b[0m\u001b[1;32m    856\u001b[0m     \u001b[0;32melif\u001b[0m \u001b[0mself\u001b[0m\u001b[0;34m.\u001b[0m\u001b[0m_stateful_fn\u001b[0m \u001b[0;32mis\u001b[0m \u001b[0;32mnot\u001b[0m \u001b[0;32mNone\u001b[0m\u001b[0;34m:\u001b[0m\u001b[0;34m\u001b[0m\u001b[0;34m\u001b[0m\u001b[0m\n\u001b[1;32m    857\u001b[0m       \u001b[0;31m# Release the lock early so that multiple threads can perform the call\u001b[0m\u001b[0;34m\u001b[0m\u001b[0;34m\u001b[0m\u001b[0;34m\u001b[0m\u001b[0m\n",
            "\u001b[0;32m/usr/local/lib/python3.6/dist-packages/tensorflow/python/eager/function.py\u001b[0m in \u001b[0;36m__call__\u001b[0;34m(self, *args, **kwargs)\u001b[0m\n\u001b[1;32m   2941\u001b[0m        filtered_flat_args) = self._maybe_define_function(args, kwargs)\n\u001b[1;32m   2942\u001b[0m     return graph_function._call_flat(\n\u001b[0;32m-> 2943\u001b[0;31m         filtered_flat_args, captured_inputs=graph_function.captured_inputs)  # pylint: disable=protected-access\n\u001b[0m\u001b[1;32m   2944\u001b[0m \u001b[0;34m\u001b[0m\u001b[0m\n\u001b[1;32m   2945\u001b[0m   \u001b[0;34m@\u001b[0m\u001b[0mproperty\u001b[0m\u001b[0;34m\u001b[0m\u001b[0;34m\u001b[0m\u001b[0m\n",
            "\u001b[0;32m/usr/local/lib/python3.6/dist-packages/tensorflow/python/eager/function.py\u001b[0m in \u001b[0;36m_call_flat\u001b[0;34m(self, args, captured_inputs, cancellation_manager)\u001b[0m\n\u001b[1;32m   1917\u001b[0m       \u001b[0;31m# No tape is watching; skip to running the function.\u001b[0m\u001b[0;34m\u001b[0m\u001b[0;34m\u001b[0m\u001b[0;34m\u001b[0m\u001b[0m\n\u001b[1;32m   1918\u001b[0m       return self._build_call_outputs(self._inference_function.call(\n\u001b[0;32m-> 1919\u001b[0;31m           ctx, args, cancellation_manager=cancellation_manager))\n\u001b[0m\u001b[1;32m   1920\u001b[0m     forward_backward = self._select_forward_and_backward_functions(\n\u001b[1;32m   1921\u001b[0m         \u001b[0margs\u001b[0m\u001b[0;34m,\u001b[0m\u001b[0;34m\u001b[0m\u001b[0;34m\u001b[0m\u001b[0m\n",
            "\u001b[0;32m/usr/local/lib/python3.6/dist-packages/tensorflow/python/eager/function.py\u001b[0m in \u001b[0;36mcall\u001b[0;34m(self, ctx, args, cancellation_manager)\u001b[0m\n\u001b[1;32m    558\u001b[0m               \u001b[0minputs\u001b[0m\u001b[0;34m=\u001b[0m\u001b[0margs\u001b[0m\u001b[0;34m,\u001b[0m\u001b[0;34m\u001b[0m\u001b[0;34m\u001b[0m\u001b[0m\n\u001b[1;32m    559\u001b[0m               \u001b[0mattrs\u001b[0m\u001b[0;34m=\u001b[0m\u001b[0mattrs\u001b[0m\u001b[0;34m,\u001b[0m\u001b[0;34m\u001b[0m\u001b[0;34m\u001b[0m\u001b[0m\n\u001b[0;32m--> 560\u001b[0;31m               ctx=ctx)\n\u001b[0m\u001b[1;32m    561\u001b[0m         \u001b[0;32melse\u001b[0m\u001b[0;34m:\u001b[0m\u001b[0;34m\u001b[0m\u001b[0;34m\u001b[0m\u001b[0m\n\u001b[1;32m    562\u001b[0m           outputs = execute.execute_with_cancellation(\n",
            "\u001b[0;32m/usr/local/lib/python3.6/dist-packages/tensorflow/python/eager/execute.py\u001b[0m in \u001b[0;36mquick_execute\u001b[0;34m(op_name, num_outputs, inputs, attrs, ctx, name)\u001b[0m\n\u001b[1;32m     58\u001b[0m     \u001b[0mctx\u001b[0m\u001b[0;34m.\u001b[0m\u001b[0mensure_initialized\u001b[0m\u001b[0;34m(\u001b[0m\u001b[0;34m)\u001b[0m\u001b[0;34m\u001b[0m\u001b[0;34m\u001b[0m\u001b[0m\n\u001b[1;32m     59\u001b[0m     tensors = pywrap_tfe.TFE_Py_Execute(ctx._handle, device_name, op_name,\n\u001b[0;32m---> 60\u001b[0;31m                                         inputs, attrs, num_outputs)\n\u001b[0m\u001b[1;32m     61\u001b[0m   \u001b[0;32mexcept\u001b[0m \u001b[0mcore\u001b[0m\u001b[0;34m.\u001b[0m\u001b[0m_NotOkStatusException\u001b[0m \u001b[0;32mas\u001b[0m \u001b[0me\u001b[0m\u001b[0;34m:\u001b[0m\u001b[0;34m\u001b[0m\u001b[0;34m\u001b[0m\u001b[0m\n\u001b[1;32m     62\u001b[0m     \u001b[0;32mif\u001b[0m \u001b[0mname\u001b[0m \u001b[0;32mis\u001b[0m \u001b[0;32mnot\u001b[0m \u001b[0;32mNone\u001b[0m\u001b[0;34m:\u001b[0m\u001b[0;34m\u001b[0m\u001b[0;34m\u001b[0m\u001b[0m\n",
            "\u001b[0;31mKeyboardInterrupt\u001b[0m: "
          ]
        }
      ]
    },
    {
      "cell_type": "markdown",
      "metadata": {
        "id": "0uHhyAV_VXCw"
      },
      "source": [
        "BOW con pulizia:\r\n",
        "loss: 0.4549 - mse: 877.1694 - mae: 10.7754 - root_mean_squared_error: 29.6144 - mean_squared_logarithmic_error: 0.2073 - root_mean_squared_logarithmic_error: 0.4549 - val_loss: 0.4572 - val_mse: 823.4496 - val_mae: 10.7306 - val_root_mean_squared_error: 28.6958 - val_mean_squared_logarithmic_error: 0.2095 - val_root_mean_squared_logarithmic_error: 0.4573"
      ]
    },
    {
      "cell_type": "markdown",
      "metadata": {
        "id": "jbJJkuirlZz1"
      },
      "source": [
        "BOW senza pulizia words:\r\n",
        "loss: 0.4537 - mse: 892.7444 - mae: 10.7434 - root_mean_squared_error: 29.8743 - mean_squared_logarithmic_error: 0.2063 - root_mean_squared_logarithmic_error: 0.4537 - val_loss: 0.4554 - val_mse: 848.4371 - val_mae: 10.7117 - val_root_mean_squared_error: 29.1279 - val_mean_squared_logarithmic_error: 0.2079 - val_root_mean_squared_logarithmic_error: 0.4555"
      ]
    },
    {
      "cell_type": "code",
      "metadata": {
        "id": "Zf88pKGe_6FI"
      },
      "source": [
        "import matplotlib.pyplot as plt\r\n",
        "plt.style.use('ggplot')\r\n",
        "\r\n",
        "def plot_history(history):\r\n",
        "    rmsle = history.history['root_mean_squared_logarithmic_error']\r\n",
        "    val_rmsle = history.history['val_root_mean_squared_logarithmic_error']\r\n",
        "    loss = history.history['loss']\r\n",
        "    val_loss = history.history['val_loss']\r\n",
        "    x = range(1, len(rmsle) + 1)\r\n",
        "\r\n",
        "    plt.figure(figsize=(12, 5))\r\n",
        "    plt.subplot(1, 2, 1)\r\n",
        "    plt.plot(x, rmsle, 'b', label='Training rmsle')\r\n",
        "    plt.plot(x, val_rmsle, 'r', label='Validation rmsle')\r\n",
        "    plt.title('Training and validation root_mean_squared_logarithmic_error')\r\n",
        "    plt.legend()\r\n",
        "    plt.subplot(1, 2, 2)\r\n",
        "    plt.plot(x, loss, 'b', label='Training loss')\r\n",
        "    plt.plot(x, val_loss, 'r', label='Validation loss')\r\n",
        "    plt.title('Training and validation loss')\r\n",
        "    plt.legend()"
      ],
      "execution_count": null,
      "outputs": []
    },
    {
      "cell_type": "code",
      "metadata": {
        "id": "vgzFRzm-__Se"
      },
      "source": [
        "plot_history(history)"
      ],
      "execution_count": null,
      "outputs": []
    },
    {
      "cell_type": "markdown",
      "metadata": {
        "id": "1uusyBK_m75L"
      },
      "source": [
        "### TF-IDF"
      ]
    },
    {
      "cell_type": "code",
      "metadata": {
        "id": "u1DFlMbsm95Z"
      },
      "source": [
        "from sklearn.feature_extraction.text import TfidfVectorizer"
      ],
      "execution_count": null,
      "outputs": []
    },
    {
      "cell_type": "code",
      "metadata": {
        "id": "M0qBBoukwa_K"
      },
      "source": [
        "data[\"item_description\"] = data[\"item_description\"]\n",
        "data[\"name\"] = data[\"name\"]"
      ],
      "execution_count": null,
      "outputs": []
    },
    {
      "cell_type": "code",
      "metadata": {
        "colab": {
          "base_uri": "https://localhost:8080/"
        },
        "id": "CHvnuhG_nF-o",
        "outputId": "2afed2bd-9100-47a6-f5e3-f3ec8ef24fec"
      },
      "source": [
        "tfidf_vectorizer_desc = TfidfVectorizer()\r\n",
        "tfidf_vectorizer_desc.fit(data[\"item_description\"].values)"
      ],
      "execution_count": null,
      "outputs": [
        {
          "output_type": "execute_result",
          "data": {
            "text/plain": [
              "TfidfVectorizer(analyzer='word', binary=False, decode_error='strict',\n",
              "                dtype=<class 'numpy.float64'>, encoding='utf-8',\n",
              "                input='content', lowercase=True, max_df=1.0, max_features=None,\n",
              "                min_df=1, ngram_range=(1, 1), norm='l2', preprocessor=None,\n",
              "                smooth_idf=True, stop_words=None, strip_accents=None,\n",
              "                sublinear_tf=False, token_pattern='(?u)\\\\b\\\\w\\\\w+\\\\b',\n",
              "                tokenizer=None, use_idf=True, vocabulary=None)"
            ]
          },
          "metadata": {
            "tags": []
          },
          "execution_count": 20
        }
      ]
    },
    {
      "cell_type": "code",
      "metadata": {
        "colab": {
          "base_uri": "https://localhost:8080/"
        },
        "id": "YNsnLmuEnOCA",
        "outputId": "a06bcc4d-ef06-4cb0-eb0b-98930c0b4750"
      },
      "source": [
        "len(tfidf_vectorizer_desc.vocabulary_)"
      ],
      "execution_count": null,
      "outputs": [
        {
          "output_type": "execute_result",
          "data": {
            "text/plain": [
              "160142"
            ]
          },
          "metadata": {
            "tags": []
          },
          "execution_count": 21
        }
      ]
    },
    {
      "cell_type": "code",
      "metadata": {
        "id": "1FEV_JeYnOq7"
      },
      "source": [
        "tfidf_description_train = tfidf_vectorizer_desc.transform(train_cvec[\"item_description\"].values)\r\n",
        "tfidf_description_validation = tfidf_vectorizer_desc.transform(validation_cvec[\"item_description\"].values)"
      ],
      "execution_count": null,
      "outputs": []
    },
    {
      "cell_type": "code",
      "metadata": {
        "colab": {
          "base_uri": "https://localhost:8080/"
        },
        "id": "a-3628USnioQ",
        "outputId": "499ac225-1687-4a32-9074-30ad0c1b7de8"
      },
      "source": [
        "tfidf_vectorizer_name = TfidfVectorizer()\r\n",
        "tfidf_vectorizer_name.fit(data[\"name\"])"
      ],
      "execution_count": null,
      "outputs": [
        {
          "output_type": "execute_result",
          "data": {
            "text/plain": [
              "TfidfVectorizer(analyzer='word', binary=False, decode_error='strict',\n",
              "                dtype=<class 'numpy.float64'>, encoding='utf-8',\n",
              "                input='content', lowercase=True, max_df=1.0, max_features=None,\n",
              "                min_df=1, ngram_range=(1, 1), norm='l2', preprocessor=None,\n",
              "                smooth_idf=True, stop_words=None, strip_accents=None,\n",
              "                sublinear_tf=False, token_pattern='(?u)\\\\b\\\\w\\\\w+\\\\b',\n",
              "                tokenizer=None, use_idf=True, vocabulary=None)"
            ]
          },
          "metadata": {
            "tags": []
          },
          "execution_count": 23
        }
      ]
    },
    {
      "cell_type": "code",
      "metadata": {
        "colab": {
          "base_uri": "https://localhost:8080/"
        },
        "id": "G-qOh3FXnzSb",
        "outputId": "eacb572b-1f57-432f-c0a2-3a6d5457b40a"
      },
      "source": [
        "len(tfidf_vectorizer_name.vocabulary_)"
      ],
      "execution_count": null,
      "outputs": [
        {
          "output_type": "execute_result",
          "data": {
            "text/plain": [
              "104060"
            ]
          },
          "metadata": {
            "tags": []
          },
          "execution_count": 24
        }
      ]
    },
    {
      "cell_type": "code",
      "metadata": {
        "id": "yOnnouCxn_he"
      },
      "source": [
        "tfidf_name_train = tfidf_vectorizer_name.transform(train_cvec[\"name\"])\r\n",
        "tfidf_name_validation = tfidf_vectorizer_name.transform(validation_cvec[\"name\"])"
      ],
      "execution_count": null,
      "outputs": []
    },
    {
      "cell_type": "code",
      "metadata": {
        "id": "GCSrpsML5e47"
      },
      "source": [
        "def convert_sparse_matrix_to_sparse_tensor(X):\r\n",
        "    coo = X.tocoo()\r\n",
        "    indices = np.mat([coo.row, coo.col]).transpose()\r\n",
        "    return tf.SparseTensor(indices, coo.data, coo.shape)"
      ],
      "execution_count": null,
      "outputs": []
    },
    {
      "cell_type": "code",
      "metadata": {
        "colab": {
          "base_uri": "https://localhost:8080/"
        },
        "id": "zO23VoG_Umkx",
        "outputId": "557fb92f-522c-4474-a509-5ddf14575ae9"
      },
      "source": [
        "type(tfidf_name_train) "
      ],
      "execution_count": null,
      "outputs": [
        {
          "output_type": "execute_result",
          "data": {
            "text/plain": [
              "scipy.sparse.csr.csr_matrix"
            ]
          },
          "metadata": {
            "tags": []
          },
          "execution_count": 27
        }
      ]
    },
    {
      "cell_type": "code",
      "metadata": {
        "id": "kyGnExtwqcgx"
      },
      "source": [
        "#https://stackoverflow.com/questions/61961042/indices201-0-8-is-out-of-order-many-sparse-ops-require-sorted-indices-use"
      ],
      "execution_count": null,
      "outputs": []
    },
    {
      "cell_type": "code",
      "metadata": {
        "id": "FHw1A89wXWw0"
      },
      "source": [
        "import scipy\r\n",
        "new_categorical_train_cvec=scipy.sparse.csr_matrix(categorical_train_cvec.values)\r\n",
        "new_categorical_validation_cvec=scipy.sparse.csr_matrix(categorical_validation_cvec.values)"
      ],
      "execution_count": null,
      "outputs": []
    },
    {
      "cell_type": "code",
      "metadata": {
        "id": "NeLdc-Esipcg"
      },
      "source": [
        "new_tfidf_categorical_validation=tf.sparse.reorder(convert_sparse_matrix_to_sparse_tensor(new_categorical_validation_cvec))\r\n",
        "new_tfidf_categorical_train=tf.sparse.reorder(convert_sparse_matrix_to_sparse_tensor(new_categorical_train_cvec))"
      ],
      "execution_count": null,
      "outputs": []
    },
    {
      "cell_type": "code",
      "metadata": {
        "id": "gsRkzDbNhVPN"
      },
      "source": [
        "new_tfidf_name_validation=tf.sparse.reorder(convert_sparse_matrix_to_sparse_tensor(tfidf_name_validation))\r\n",
        "new_tfidf_name_train=tf.sparse.reorder(convert_sparse_matrix_to_sparse_tensor(tfidf_name_train))"
      ],
      "execution_count": null,
      "outputs": []
    },
    {
      "cell_type": "code",
      "metadata": {
        "colab": {
          "base_uri": "https://localhost:8080/"
        },
        "id": "1tXBiPsZiE19",
        "outputId": "d5444390-577f-43f1-e938-247f709d48dc"
      },
      "source": [
        "type(new_tfidf_name_validation)"
      ],
      "execution_count": null,
      "outputs": [
        {
          "output_type": "execute_result",
          "data": {
            "text/plain": [
              "tensorflow.python.framework.sparse_tensor.SparseTensor"
            ]
          },
          "metadata": {
            "tags": []
          },
          "execution_count": 31
        }
      ]
    },
    {
      "cell_type": "code",
      "metadata": {
        "colab": {
          "base_uri": "https://localhost:8080/"
        },
        "id": "C4XHrIyGiHS_",
        "outputId": "7e9a6fac-294d-4dbf-da7e-e7dec5b1350a"
      },
      "source": [
        "type(tfidf_name_validation)"
      ],
      "execution_count": null,
      "outputs": [
        {
          "output_type": "execute_result",
          "data": {
            "text/plain": [
              "scipy.sparse.csr.csr_matrix"
            ]
          },
          "metadata": {
            "tags": []
          },
          "execution_count": 32
        }
      ]
    },
    {
      "cell_type": "code",
      "metadata": {
        "id": "WqX5vyv5jMjJ"
      },
      "source": [
        "new_tfidf_description_validation=tf.sparse.reorder(convert_sparse_matrix_to_sparse_tensor(tfidf_description_validation))\r\n",
        "new_tfidf_description_train=tf.sparse.reorder(convert_sparse_matrix_to_sparse_tensor(tfidf_description_train))"
      ],
      "execution_count": null,
      "outputs": []
    },
    {
      "cell_type": "code",
      "metadata": {
        "id": "4rBPl6RDX7qM"
      },
      "source": [
        "'''new_y_train_cvec=scipy.sparse.csr_matrix(y_train_cvec)\r\n",
        "new_y_validation_cvec=scipy.sparse.csr_matrix(y_validation_cvec)'''"
      ],
      "execution_count": null,
      "outputs": []
    },
    {
      "cell_type": "code",
      "metadata": {
        "id": "OOJzQCvZi1MH"
      },
      "source": [
        "'''new_tfidf_y_validation=tf.sparse.reorder(convert_sparse_matrix_to_sparse_tensor(new_y_validation_cvec))\r\n",
        "new_tfidf_y_train=tf.sparse.reorder(convert_sparse_matrix_to_sparse_tensor(new_y_train_cvec))'''"
      ],
      "execution_count": null,
      "outputs": []
    },
    {
      "cell_type": "code",
      "metadata": {
        "id": "kBQK0C3bWkQs"
      },
      "source": [
        "'''type(tf.sparse.reorder(convert_sparse_matrix_to_sparse_tensor(new_y_train_cvec)))'''"
      ],
      "execution_count": null,
      "outputs": []
    },
    {
      "cell_type": "code",
      "metadata": {
        "id": "oKQCzVxn9GT1"
      },
      "source": [
        "def getModel_bow(name_train, description_train, categorical_train):\r\n",
        "    inputA = Input(categorical_train.shape[1])\r\n",
        "    inputName = Input(name_train.shape[1])\r\n",
        "    inputDesc = Input(description_train.shape[1])\r\n",
        "    concat = Concatenate()([inputName, inputDesc, inputA])\r\n",
        "\r\n",
        "    #x = Dropout(0.1)(concat)\r\n",
        "    x = Dense(32, activation='relu')(concat)\r\n",
        "    x = Dropout(0.1)(x)\r\n",
        "    x = Dense(16, activation='relu')(x)\r\n",
        "    x = Dropout(0.1)(x)\r\n",
        "    x = Dense(1, activation='linear')(x)\r\n",
        "    \r\n",
        "    model = Model(inputs=[inputName ,inputDesc, inputA], outputs=x)\r\n",
        "\r\n",
        "    return model"
      ],
      "execution_count": null,
      "outputs": []
    },
    {
      "cell_type": "code",
      "metadata": {
        "colab": {
          "base_uri": "https://localhost:8080/"
        },
        "id": "9XK-E2e0oKeC",
        "outputId": "eb12ec3d-4f82-4099-c262-9f7fe0f67dff"
      },
      "source": [
        "model = getModel_bow(new_tfidf_name_train, new_tfidf_description_train, categorical_validation_cvec)\r\n",
        "model.summary() "
      ],
      "execution_count": null,
      "outputs": [
        {
          "output_type": "stream",
          "text": [
            "Model: \"model_1\"\n",
            "__________________________________________________________________________________________________\n",
            "Layer (type)                    Output Shape         Param #     Connected to                     \n",
            "==================================================================================================\n",
            "input_5 (InputLayer)            [(None, 104060)]     0                                            \n",
            "__________________________________________________________________________________________________\n",
            "input_6 (InputLayer)            [(None, 160142)]     0                                            \n",
            "__________________________________________________________________________________________________\n",
            "input_4 (InputLayer)            [(None, 4)]          0                                            \n",
            "__________________________________________________________________________________________________\n",
            "concatenate_1 (Concatenate)     (None, 264206)       0           input_5[0][0]                    \n",
            "                                                                 input_6[0][0]                    \n",
            "                                                                 input_4[0][0]                    \n",
            "__________________________________________________________________________________________________\n",
            "dense_3 (Dense)                 (None, 32)           8454624     concatenate_1[0][0]              \n",
            "__________________________________________________________________________________________________\n",
            "dropout_2 (Dropout)             (None, 32)           0           dense_3[0][0]                    \n",
            "__________________________________________________________________________________________________\n",
            "dense_4 (Dense)                 (None, 16)           528         dropout_2[0][0]                  \n",
            "__________________________________________________________________________________________________\n",
            "dropout_3 (Dropout)             (None, 16)           0           dense_4[0][0]                    \n",
            "__________________________________________________________________________________________________\n",
            "dense_5 (Dense)                 (None, 1)            17          dropout_3[0][0]                  \n",
            "==================================================================================================\n",
            "Total params: 8,455,169\n",
            "Trainable params: 8,455,169\n",
            "Non-trainable params: 0\n",
            "__________________________________________________________________________________________________\n"
          ],
          "name": "stdout"
        }
      ]
    },
    {
      "cell_type": "code",
      "metadata": {
        "colab": {
          "base_uri": "https://localhost:8080/",
          "height": 661
        },
        "id": "ZqJ7pgfosi4q",
        "outputId": "b13bf39b-9e26-4220-9888-bf2ef4d33b2f"
      },
      "source": [
        "plot_model(model)"
      ],
      "execution_count": null,
      "outputs": [
        {
          "output_type": "execute_result",
          "data": {
            "image/png": "[encoded data removed]",
            "text/plain": [
              "<IPython.core.display.Image object>"
            ]
          },
          "metadata": {
            "tags": []
          },
          "execution_count": 40
        }
      ]
    },
    {
      "cell_type": "code",
      "metadata": {
        "id": "-4Fv4q35ocWN"
      },
      "source": [
        "model.compile(loss = root_mean_squared_logarithmic_error, optimizer='adam', metrics=['mse', 'mae', tf.keras.metrics.RootMeanSquaredError(), 'mean_squared_logarithmic_error', root_mean_squared_logarithmic_error])"
      ],
      "execution_count": null,
      "outputs": []
    },
    {
      "cell_type": "code",
      "metadata": {
        "colab": {
          "base_uri": "https://localhost:8080/"
        },
        "id": "a80wIgkOoelZ",
        "outputId": "6f565c9f-8c7e-4f18-a957-6ccca0392ab1"
      },
      "source": [
        "history = model.fit(x=[new_tfidf_name_train, new_tfidf_description_train, new_tfidf_categorical_train], y=y_train_cvec,\r\n",
        "                    epochs=5,\r\n",
        "                    verbose=True,\r\n",
        "                    validation_data=([new_tfidf_name_validation, new_tfidf_description_validation, new_tfidf_categorical_validation], y_validation_cvec),\r\n",
        "                    batch_size=512)\r\n",
        "# 0.4771"
      ],
      "execution_count": null,
      "outputs": [
        {
          "output_type": "stream",
          "text": [
            "Epoch 1/5\n",
            "2261/2261 [==============================] - 36s 15ms/step - loss: 0.8630 - mse: 1789.0092 - mae: 18.2588 - root_mean_squared_error: 42.1141 - mean_squared_logarithmic_error: 0.8996 - root_mean_squared_logarithmic_error: 0.8630 - val_loss: 0.5237 - val_mse: 1132.0873 - val_mae: 12.5815 - val_root_mean_squared_error: 33.6465 - val_mean_squared_logarithmic_error: 0.2747 - val_root_mean_squared_logarithmic_error: 0.5237\n",
            "Epoch 2/5\n",
            "2261/2261 [==============================] - 35s 15ms/step - loss: 0.5195 - mse: 1166.4701 - mae: 12.4070 - root_mean_squared_error: 34.1472 - mean_squared_logarithmic_error: 0.2705 - root_mean_squared_logarithmic_error: 0.5195 - val_loss: 0.4925 - val_mse: 1001.7455 - val_mae: 11.7605 - val_root_mean_squared_error: 31.6504 - val_mean_squared_logarithmic_error: 0.2430 - val_root_mean_squared_logarithmic_error: 0.4925\n",
            "Epoch 3/5\n",
            "2261/2261 [==============================] - 35s 15ms/step - loss: 0.4908 - mse: 1063.2081 - mae: 11.7221 - root_mean_squared_error: 32.6031 - mean_squared_logarithmic_error: 0.2414 - root_mean_squared_logarithmic_error: 0.4908 - val_loss: 0.4774 - val_mse: 966.7159 - val_mae: 11.3647 - val_root_mean_squared_error: 31.0921 - val_mean_squared_logarithmic_error: 0.2283 - val_root_mean_squared_logarithmic_error: 0.4775\n",
            "Epoch 4/5\n",
            "2261/2261 [==============================] - 35s 15ms/step - loss: 0.4753 - mse: 1022.6355 - mae: 11.3676 - root_mean_squared_error: 31.9677 - mean_squared_logarithmic_error: 0.2264 - root_mean_squared_logarithmic_error: 0.4753 - val_loss: 0.4751 - val_mse: 927.0920 - val_mae: 11.1997 - val_root_mean_squared_error: 30.4482 - val_mean_squared_logarithmic_error: 0.2262 - val_root_mean_squared_logarithmic_error: 0.4752\n",
            "Epoch 5/5\n",
            "2261/2261 [==============================] - 35s 15ms/step - loss: 0.4638 - mse: 931.5018 - mae: 11.0163 - root_mean_squared_error: 30.5080 - mean_squared_logarithmic_error: 0.2156 - root_mean_squared_logarithmic_error: 0.4638 - val_loss: 0.4812 - val_mse: 895.5610 - val_mae: 11.3435 - val_root_mean_squared_error: 29.9259 - val_mean_squared_logarithmic_error: 0.2320 - val_root_mean_squared_logarithmic_error: 0.4813\n"
          ],
          "name": "stdout"
        }
      ]
    },
    {
      "cell_type": "code",
      "metadata": {
        "colab": {
          "base_uri": "https://localhost:8080/"
        },
        "id": "-RBlRb_gujSz",
        "outputId": "501515fe-7e9b-4539-a961-1794ec20789e"
      },
      "source": [
        "history2 = model.fit(x=[new_tfidf_name_train, new_tfidf_description_train], y=y_train_cvec,\n",
        "                    epochs=5,\n",
        "                    verbose=True,\n",
        "                    validation_data=([new_tfidf_name_validation, new_tfidf_description_validation], y_validation_cvec),\n",
        "                    batch_size=512)"
      ],
      "execution_count": null,
      "outputs": [
        {
          "output_type": "stream",
          "text": [
            "Epoch 1/5\n",
            "2261/2261 [==============================] - 35s 15ms/step - loss: 0.3684 - mse: 655.2321 - mae: 8.7298 - root_mean_squared_error: 25.5975 - mean_squared_logarithmic_error: 0.1360 - root_mean_squared_logarithmic_error: 0.3684 - val_loss: 0.4688 - val_mse: 740.2447 - val_mae: 10.7062 - val_root_mean_squared_error: 27.2074 - val_mean_squared_logarithmic_error: 0.2202 - val_root_mean_squared_logarithmic_error: 0.4689\n",
            "Epoch 2/5\n",
            "2261/2261 [==============================] - 34s 14ms/step - loss: 0.3623 - mse: 635.2028 - mae: 8.5716 - root_mean_squared_error: 25.2032 - mean_squared_logarithmic_error: 0.1316 - root_mean_squared_logarithmic_error: 0.3623 - val_loss: 0.4699 - val_mse: 743.9951 - val_mae: 10.6838 - val_root_mean_squared_error: 27.2763 - val_mean_squared_logarithmic_error: 0.2213 - val_root_mean_squared_logarithmic_error: 0.4701\n",
            "Epoch 3/5\n",
            "2261/2261 [==============================] - 33s 14ms/step - loss: 0.3569 - mse: 618.5656 - mae: 8.4365 - root_mean_squared_error: 24.8710 - mean_squared_logarithmic_error: 0.1277 - root_mean_squared_logarithmic_error: 0.3569 - val_loss: 0.4715 - val_mse: 742.1774 - val_mae: 10.7119 - val_root_mean_squared_error: 27.2429 - val_mean_squared_logarithmic_error: 0.2228 - val_root_mean_squared_logarithmic_error: 0.4717\n",
            "Epoch 4/5\n",
            "2261/2261 [==============================] - 32s 13ms/step - loss: 0.3519 - mse: 603.0390 - mae: 8.3035 - root_mean_squared_error: 24.5569 - mean_squared_logarithmic_error: 0.1241 - root_mean_squared_logarithmic_error: 0.3519 - val_loss: 0.4719 - val_mse: 737.1746 - val_mae: 10.7258 - val_root_mean_squared_error: 27.1510 - val_mean_squared_logarithmic_error: 0.2232 - val_root_mean_squared_logarithmic_error: 0.4721\n",
            "Epoch 5/5\n",
            "2261/2261 [==============================] - 33s 14ms/step - loss: 0.3475 - mse: 587.8696 - mae: 8.1882 - root_mean_squared_error: 24.2460 - mean_squared_logarithmic_error: 0.1211 - root_mean_squared_logarithmic_error: 0.3475 - val_loss: 0.4733 - val_mse: 734.4962 - val_mae: 10.7435 - val_root_mean_squared_error: 27.1016 - val_mean_squared_logarithmic_error: 0.2244 - val_root_mean_squared_logarithmic_error: 0.4734\n"
          ],
          "name": "stdout"
        }
      ]
    },
    {
      "cell_type": "code",
      "metadata": {
        "id": "X3QDoGQvxpCl"
      },
      "source": [
        "histdf = pd.DataFrame(history2.history)"
      ],
      "execution_count": null,
      "outputs": []
    },
    {
      "cell_type": "code",
      "metadata": {
        "colab": {
          "base_uri": "https://localhost:8080/",
          "height": 282
        },
        "id": "uH8wryVvxtaA",
        "outputId": "d2b9d9b2-5cb6-4f56-de21-f0c8a0d9a12b"
      },
      "source": [
        "histdf.plot(y=[\"loss\", \"val_loss\"])"
      ],
      "execution_count": null,
      "outputs": [
        {
          "output_type": "execute_result",
          "data": {
            "text/plain": [
              "<matplotlib.axes._subplots.AxesSubplot at 0x7f5630416240>"
            ]
          },
          "metadata": {
            "tags": []
          },
          "execution_count": 81
        },
        {
          "output_type": "display_data",
          "data": {
            "image/png": "[encoded data removed]",
            "text/plain": [
              "<Figure size 432x288 with 1 Axes>"
            ]
          },
          "metadata": {
            "tags": []
          }
        }
      ]
    },
    {
      "cell_type": "markdown",
      "metadata": {
        "id": "PIrZwW2wq7r7"
      },
      "source": [
        "tf-idf gensim"
      ]
    },
    {
      "cell_type": "code",
      "metadata": {
        "id": "qPe1LMPVq9ln"
      },
      "source": [
        "import gensim\r\n",
        "from gensim.utils import simple_preprocess\r\n",
        "from gensim import corpora\r\n",
        "from gensim.models import TfidfModel"
      ],
      "execution_count": null,
      "outputs": []
    },
    {
      "cell_type": "code",
      "metadata": {
        "colab": {
          "base_uri": "https://localhost:8080/"
        },
        "id": "uA-0p3DMritP",
        "outputId": "4eda2628-5672-4319-b4e4-e8e31557d883"
      },
      "source": [
        "data[\"item_description\"]"
      ],
      "execution_count": null,
      "outputs": [
        {
          "output_type": "execute_result",
          "data": {
            "text/plain": [
              "0                                         no description yet\n",
              "1          this keyboard is in great condition and works ...\n",
              "2          adorable top with a hint of lace and a key hol...\n",
              "3          new with tags. leather horses. retail for [rm]...\n",
              "4                  complete with certificate of authenticity\n",
              "                                 ...                        \n",
              "1482530    lace, says size small but fits medium perfectl...\n",
              "1482531     little mermaid handmade dress never worn size 2t\n",
              "1482532            used once or twice, still in great shape.\n",
              "1482533    there is 2 of each one that you see! so 2 red ...\n",
              "1482534    new with tag, red with sparkle. firm price, no...\n",
              "Name: item_description, Length: 1446815, dtype: string"
            ]
          },
          "metadata": {
            "tags": []
          },
          "execution_count": 16
        }
      ]
    },
    {
      "cell_type": "code",
      "metadata": {
        "id": "2CO2a-oguycH"
      },
      "source": [
        "doc_tokenized = [simple_preprocess(doc) for doc in data[\"item_description\"].values]"
      ],
      "execution_count": null,
      "outputs": []
    },
    {
      "cell_type": "code",
      "metadata": {
        "colab": {
          "base_uri": "https://localhost:8080/"
        },
        "id": "pDjGjel3vHhk",
        "outputId": "1c2b446c-f5cb-49e1-bb55-3996f7d3b107"
      },
      "source": [
        "doc_tokenized[0]"
      ],
      "execution_count": null,
      "outputs": [
        {
          "output_type": "execute_result",
          "data": {
            "text/plain": [
              "['no', 'description', 'yet']"
            ]
          },
          "metadata": {
            "tags": []
          },
          "execution_count": 21
        }
      ]
    },
    {
      "cell_type": "code",
      "metadata": {
        "id": "x8L2nbDrvQly"
      },
      "source": [
        "dictionary = corpora.Dictionary()"
      ],
      "execution_count": null,
      "outputs": []
    },
    {
      "cell_type": "code",
      "metadata": {
        "id": "9gBzeihTvVom"
      },
      "source": [
        "BoW_corpus = [dictionary.doc2bow(doc, allow_update=True) for doc in doc_tokenized]"
      ],
      "execution_count": null,
      "outputs": []
    },
    {
      "cell_type": "code",
      "metadata": {
        "colab": {
          "base_uri": "https://localhost:8080/"
        },
        "id": "LafgQkjqv4dV",
        "outputId": "561fa6a9-2319-49f1-a9c7-a05fd8814002"
      },
      "source": [
        "# stampa le parole che compaiono in ogni descrizione con la loro frequenza di apparizione\r\n",
        "for doc in BoW_corpus[:10]:\r\n",
        "   print([[dictionary[id], freq] for id, freq in doc])"
      ],
      "execution_count": null,
      "outputs": [
        {
          "output_type": "stream",
          "text": [
            "[['description', 1], ['no', 1], ['yet', 1]]\n",
            "[['all', 1], ['and', 2], ['app', 1], ['are', 2], ['box', 1], ['came', 1], ['condition', 1], ['customizable', 1], ['great', 1], ['in', 1], ['is', 1], ['it', 1], ['keyboard', 1], ['lights', 1], ['like', 1], ['of', 2], ['on', 1], ['out', 1], ['pc', 1], ['perfectly', 1], ['ports', 1], ['razer', 1], ['synapse', 1], ['tested', 1], ['the', 4], ['this', 1], ['via', 1], ['work', 1], ['works', 1], ['your', 1]]\n",
            "[['and', 2], ['in', 2], ['is', 1], ['of', 1], ['the', 2], ['adorable', 1], ['also', 1], ['available', 1], ['back', 1], ['have', 1], ['hint', 1], ['hole', 1], ['key', 1], ['lace', 1], ['pale', 1], ['pink', 1], ['top', 1], ['white', 1], ['with', 1]]\n",
            "[['are', 1], ['of', 1], ['out', 1], ['with', 1], ['about', 1], ['any', 1], ['as', 1], ['ask', 1], ['being', 1], ['each', 1], ['foot', 1], ['for', 1], ['free', 1], ['got', 1], ['high', 1], ['horses', 1], ['just', 1], ['leather', 1], ['new', 1], ['pair', 1], ['please', 1], ['questions', 1], ['retail', 1], ['rm', 1], ['shipping', 1], ['sold', 1], ['stand', 1], ['storage', 1], ['tags', 1], ['they', 1]]\n",
            "[['of', 1], ['with', 1], ['authenticity', 1], ['certificate', 1], ['complete', 1]]\n",
            "[['and', 1], ['top', 1], ['with', 1], ['amy', 1], ['banana', 1], ['blazer', 1], ['bottoms', 2], ['byers', 1], ['cami', 1], ['candies', 1], ['loft', 1], ['matching', 1], ['republic', 1], ['skirt', 1], ['suit', 1]]\n",
            "[['condition', 1], ['besides', 1], ['but', 1], ['fit', 1], ['perfect', 1], ['shortened', 1], ['size', 1], ['slightly', 1], ['small', 1], ['straps', 1], ['that', 1], ['to', 1], ['xs', 1]]\n",
            "[['all', 1], ['and', 4], ['in', 2], ['of', 2], ['the', 2], ['for', 2], ['retail', 1], ['rm', 1], ['matching', 1], ['size', 1], ['small', 2], ['at', 1], ['boy', 1], ['bra', 1], ['can', 1], ['cheer', 1], ['get', 1], ['girls', 2], ['him', 1], ['item', 1], ['items', 1], ['less', 1], ['medium', 2], ['one', 1], ['pairs', 1], ['price', 1], ['sets', 1], ['shorts', 2], ['sophie', 1], ['spandex', 1], ['sports', 1], ['store', 2], ['take', 1], ['than', 1], ['three', 1], ['today', 1], ['total', 1], ['two', 1], ['you', 2]]\n",
            "[['size', 1], ['small', 1], ['girls', 1], ['shorts', 1], ['three', 1], ['total', 1], ['green', 1], ['plus', 1]]\n",
            "[['no', 1], ['and', 2], ['are', 1], ['in', 1], ['on', 1], ['the', 1], ['back', 1], ['they', 1], ['but', 1], ['after', 1], ['backwards', 1], ['before', 1], ['body', 1], ['chips', 1], ['circus', 1], ['clown', 1], ['clowns', 1], ['collectible', 1], ['cracks', 1], ['dirty', 1], ['doll', 1], ['feet', 1], ['few', 1], ['hand', 1], ['hands', 1], ['has', 1], ['he', 1], ['head', 1], ['his', 1], ['loss', 1], ['minor', 1], ['or', 1], ['paint', 1], ['painted', 1], ['pants', 1], ['picture', 1], ['places', 1], ['porcelain', 1], ['realized', 1], ['scary', 1], ['so', 1], ['stuffed', 1], ['tall', 1], ['them', 1], ['too', 1], ['very', 1], ['washed', 1], ['were', 2]]\n"
          ],
          "name": "stdout"
        }
      ]
    },
    {
      "cell_type": "code",
      "metadata": {
        "id": "zYA8xxQOyabr"
      },
      "source": [
        "tfidf = TfidfModel(BoW_corpus)"
      ],
      "execution_count": null,
      "outputs": []
    },
    {
      "cell_type": "code",
      "metadata": {
        "colab": {
          "base_uri": "https://localhost:8080/"
        },
        "id": "4VjEh4WP0loV",
        "outputId": "17881fec-9186-4c2c-8169-14b72e04a935"
      },
      "source": [
        "for doc in tfidf[BoW_corpus]:\r\n",
        "   print([[dictionary[id], np.around(freq)] for id, freq in doc])"
      ],
      "execution_count": null,
      "outputs": [
        {
          "output_type": "stream",
          "text": [
            "[['description', 0.64], ['no', 0.39], ['yet', 0.66]]\n",
            "[['all', 0.08], ['and', 0.07], ['app', 0.21], ['are', 0.16], ['box', 0.09], ['came', 0.19], ['condition', 0.06], ['customizable', 0.3], ['great', 0.08], ['in', 0.05], ['is', 0.06], ['it', 0.07], ['keyboard', 0.25], ['lights', 0.21], ['like', 0.09], ['of', 0.12], ['on', 0.07], ['out', 0.1], ['pc', 0.19], ['perfectly', 0.18], ['ports', 0.25], ['razer', 0.35], ['synapse', 0.44], ['tested', 0.18], ['the', 0.2], ['this', 0.08], ['via', 0.2], ['work', 0.15], ['works', 0.14], ['your', 0.1]]\n",
            "[['and', 0.12], ['in', 0.15], ['is', 0.09], ['of', 0.1], ['the', 0.17], ['adorable', 0.28], ['also', 0.2], ['available', 0.21], ['back', 0.18], ['have', 0.14], ['hint', 0.44], ['hole', 0.33], ['key', 0.32], ['lace', 0.24], ['pale', 0.37], ['pink', 0.15], ['top', 0.18], ['white', 0.17], ['with', 0.08]]\n",
            "[['are', 0.11], ['of', 0.08], ['out', 0.13], ['with', 0.07], ['about', 0.19], ['any', 0.14], ['as', 0.13], ['ask', 0.16], ['being', 0.25], ['each', 0.18], ['foot', 0.3], ['for', 0.07], ['free', 0.09], ['got', 0.22], ['high', 0.17], ['horses', 0.4], ['just', 0.14], ['leather', 0.19], ['new', 0.05], ['pair', 0.2], ['please', 0.13], ['questions', 0.17], ['retail', 0.19], ['rm', 0.11], ['shipping', 0.1], ['sold', 0.2], ['stand', 0.28], ['storage', 0.25], ['tags', 0.13], ['they', 0.15]]\n",
            "[['of', 0.15], ['with', 0.12], ['authenticity', 0.53], ['certificate', 0.7], ['complete', 0.45]]\n",
            "[['and', 0.04], ['top', 0.12], ['with', 0.05], ['amy', 0.32], ['banana', 0.23], ['blazer', 0.26], ['bottoms', 0.38], ['byers', 0.46], ['cami', 0.27], ['candies', 0.3], ['loft', 0.26], ['matching', 0.19], ['republic', 0.24], ['skirt', 0.18], ['suit', 0.21]]\n",
            "[['condition', 0.11], ['besides', 0.42], ['but', 0.15], ['fit', 0.2], ['perfect', 0.19], ['shortened', 0.61], ['size', 0.08], ['slightly', 0.32], ['small', 0.16], ['straps', 0.29], ['that', 0.18], ['to', 0.1], ['xs', 0.26]]\n",
            "[['all', 0.07], ['and', 0.13], ['in', 0.08], ['of', 0.11], ['the', 0.09], ['for', 0.09], ['retail', 0.12], ['rm', 0.07], ['matching', 0.17], ['size', 0.04], ['small', 0.16], ['at', 0.1], ['boy', 0.17], ['bra', 0.14], ['can', 0.09], ['cheer', 0.25], ['get', 0.11], ['girls', 0.29], ['him', 0.22], ['item', 0.11], ['items', 0.1], ['less', 0.17], ['medium', 0.19], ['one', 0.08], ['pairs', 0.15], ['price', 0.07], ['sets', 0.17], ['shorts', 0.26], ['sophie', 0.3], ['spandex', 0.15], ['sports', 0.17], ['store', 0.29], ['take', 0.13], ['than', 0.13], ['three', 0.15], ['today', 0.17], ['total', 0.15], ['two', 0.12], ['you', 0.14]]\n",
            "[['size', 0.12], ['small', 0.23], ['girls', 0.42], ['shorts', 0.38], ['three', 0.43], ['total', 0.43], ['green', 0.34], ['plus', 0.35]]\n",
            "[['no', 0.04], ['and', 0.05], ['are', 0.06], ['in', 0.03], ['on', 0.05], ['the', 0.04], ['back', 0.08], ['they', 0.08], ['but', 0.06], ['after', 0.11], ['backwards', 0.24], ['before', 0.09], ['body', 0.1], ['chips', 0.16], ['circus', 0.23], ['clown', 0.24], ['clowns', 0.28], ['collectible', 0.18], ['cracks', 0.15], ['dirty', 0.15], ['doll', 0.14], ['feet', 0.15], ['few', 0.09], ['hand', 0.12], ['hands', 0.15], ['has', 0.07], ['he', 0.15], ['head', 0.14], ['his', 0.16], ['loss', 0.15], ['minor', 0.12], ['or', 0.06], ['paint', 0.15], ['painted', 0.17], ['pants', 0.11], ['picture', 0.1], ['places', 0.18], ['porcelain', 0.2], ['realized', 0.18], ['scary', 0.23], ['so', 0.08], ['stuffed', 0.18], ['tall', 0.12], ['them', 0.09], ['too', 0.1], ['very', 0.07], ['washed', 0.11], ['were', 0.25]]\n"
          ],
          "name": "stdout"
        }
      ]
    },
    {
      "cell_type": "code",
      "metadata": {
        "colab": {
          "base_uri": "https://localhost:8080/"
        },
        "id": "5tFxY7se1Uyo",
        "outputId": "4791b8ec-a318-44ea-87e7-842f16602941"
      },
      "source": [
        "data[\"tfidf\"]=tfidf[BoW_corpus]"
      ],
      "execution_count": null,
      "outputs": [
        {
          "output_type": "stream",
          "text": [
            "/usr/local/lib/python3.6/dist-packages/numpy/core/_asarray.py:83: VisibleDeprecationWarning: Creating an ndarray from ragged nested sequences (which is a list-or-tuple of lists-or-tuples-or ndarrays with different lengths or shapes) is deprecated. If you meant to do this, you must specify 'dtype=object' when creating the ndarray\n",
            "  return array(a, dtype, copy=False, order=order)\n"
          ],
          "name": "stderr"
        }
      ]
    },
    {
      "cell_type": "code",
      "metadata": {
        "colab": {
          "base_uri": "https://localhost:8080/"
        },
        "id": "iCbOqhV03DIX",
        "outputId": "15f477f3-85e6-4e7f-ac1a-86f5efb7c89d"
      },
      "source": [
        "len(data.iloc[10][\"tfidf\"])"
      ],
      "execution_count": null,
      "outputs": [
        {
          "output_type": "execute_result",
          "data": {
            "text/plain": [
              "8"
            ]
          },
          "metadata": {
            "tags": []
          },
          "execution_count": 64
        }
      ]
    },
    {
      "cell_type": "code",
      "metadata": {
        "id": "iZ0CKj8s30wY"
      },
      "source": [
        "train_tfidf, validation_tfidf = train_test_split(data[[\"item_condition_id\", \"shipping\", \"category_name_l\",\t\"brand_name_l\", \"tfidf\", \"price\"]], test_size=0.2, random_state=1000)"
      ],
      "execution_count": null,
      "outputs": []
    },
    {
      "cell_type": "code",
      "metadata": {
        "id": "2aG4lyxj50R5"
      },
      "source": [
        "train_tfidf_categorical=train_tfidf[[\"item_condition_id\", \"shipping\", \"category_name_l\",\t\"brand_name_l\"]]\r\n",
        "validation_tfidf_categorical=validation_tfidf[[\"item_condition_id\", \"shipping\", \"category_name_l\",\t\"brand_name_l\"]]\r\n",
        "\r\n",
        "\r\n",
        "train_tfidf_description=train_tfidf[\"tfidf\"]\r\n",
        "validation_tfidf_description=validation_tfidf[\"tfidf\"]\r\n",
        "\r\n",
        "y_train=train_tfidf[\"price\"]\r\n",
        "y_validation=validation_tfidf[\"price\"]"
      ],
      "execution_count": null,
      "outputs": []
    },
    {
      "cell_type": "code",
      "metadata": {
        "colab": {
          "base_uri": "https://localhost:8080/",
          "height": 292
        },
        "id": "_507TTwr6rmz",
        "outputId": "6d468f15-ccc6-4cde-decd-a75b2a750cad"
      },
      "source": [
        "(validation_tfidf_description[0:10].todense)"
      ],
      "execution_count": null,
      "outputs": [
        {
          "output_type": "error",
          "ename": "AttributeError",
          "evalue": "ignored",
          "traceback": [
            "\u001b[0;31m---------------------------------------------------------------------------\u001b[0m",
            "\u001b[0;31mAttributeError\u001b[0m                            Traceback (most recent call last)",
            "\u001b[0;32m<ipython-input-80-0c2ba8f2c69c>\u001b[0m in \u001b[0;36m<module>\u001b[0;34m()\u001b[0m\n\u001b[0;32m----> 1\u001b[0;31m \u001b[0;34m(\u001b[0m\u001b[0mvalidation_tfidf_description\u001b[0m\u001b[0;34m[\u001b[0m\u001b[0;36m0\u001b[0m\u001b[0;34m:\u001b[0m\u001b[0;36m10\u001b[0m\u001b[0;34m]\u001b[0m\u001b[0;34m.\u001b[0m\u001b[0mtodense\u001b[0m\u001b[0;34m)\u001b[0m\u001b[0;34m\u001b[0m\u001b[0;34m\u001b[0m\u001b[0m\n\u001b[0m",
            "\u001b[0;32m/usr/local/lib/python3.6/dist-packages/pandas/core/generic.py\u001b[0m in \u001b[0;36m__getattr__\u001b[0;34m(self, name)\u001b[0m\n\u001b[1;32m   5139\u001b[0m             \u001b[0;32mif\u001b[0m \u001b[0mself\u001b[0m\u001b[0;34m.\u001b[0m\u001b[0m_info_axis\u001b[0m\u001b[0;34m.\u001b[0m\u001b[0m_can_hold_identifiers_and_holds_name\u001b[0m\u001b[0;34m(\u001b[0m\u001b[0mname\u001b[0m\u001b[0;34m)\u001b[0m\u001b[0;34m:\u001b[0m\u001b[0;34m\u001b[0m\u001b[0;34m\u001b[0m\u001b[0m\n\u001b[1;32m   5140\u001b[0m                 \u001b[0;32mreturn\u001b[0m \u001b[0mself\u001b[0m\u001b[0;34m[\u001b[0m\u001b[0mname\u001b[0m\u001b[0;34m]\u001b[0m\u001b[0;34m\u001b[0m\u001b[0;34m\u001b[0m\u001b[0m\n\u001b[0;32m-> 5141\u001b[0;31m             \u001b[0;32mreturn\u001b[0m \u001b[0mobject\u001b[0m\u001b[0;34m.\u001b[0m\u001b[0m__getattribute__\u001b[0m\u001b[0;34m(\u001b[0m\u001b[0mself\u001b[0m\u001b[0;34m,\u001b[0m \u001b[0mname\u001b[0m\u001b[0;34m)\u001b[0m\u001b[0;34m\u001b[0m\u001b[0;34m\u001b[0m\u001b[0m\n\u001b[0m\u001b[1;32m   5142\u001b[0m \u001b[0;34m\u001b[0m\u001b[0m\n\u001b[1;32m   5143\u001b[0m     \u001b[0;32mdef\u001b[0m \u001b[0m__setattr__\u001b[0m\u001b[0;34m(\u001b[0m\u001b[0mself\u001b[0m\u001b[0;34m,\u001b[0m \u001b[0mname\u001b[0m\u001b[0;34m:\u001b[0m \u001b[0mstr\u001b[0m\u001b[0;34m,\u001b[0m \u001b[0mvalue\u001b[0m\u001b[0;34m)\u001b[0m \u001b[0;34m->\u001b[0m \u001b[0;32mNone\u001b[0m\u001b[0;34m:\u001b[0m\u001b[0;34m\u001b[0m\u001b[0;34m\u001b[0m\u001b[0m\n",
            "\u001b[0;31mAttributeError\u001b[0m: 'Series' object has no attribute 'todense'"
          ]
        }
      ]
    },
    {
      "cell_type": "code",
      "metadata": {
        "id": "MCIuh8-24ied"
      },
      "source": [
        "def getModel_bow(categorical_train, description_train):\r\n",
        "    inputA = Input(categorical_train.shape[1])\r\n",
        "    inputDesc = Input(description_train.shape[1])\r\n",
        "    concat = Concatenate()([inputDesc, inputA])\r\n",
        "\r\n",
        "    x = Dropout(0.1)(concat)\r\n",
        "    x = Dense(32, activation='relu')(x)\r\n",
        "    x = Dropout(0.1)(x)\r\n",
        "    x = Dense(16, activation='relu')(x)\r\n",
        "    \r\n",
        "    x = Dense(1, activation='linear')(x)\r\n",
        "    \r\n",
        "    model = Model(inputs=[inputDesc, inputA], outputs=x)\r\n",
        "\r\n",
        "    return model"
      ],
      "execution_count": null,
      "outputs": []
    },
    {
      "cell_type": "code",
      "metadata": {
        "colab": {
          "base_uri": "https://localhost:8080/",
          "height": 310
        },
        "id": "xUUxfAFd4xGk",
        "outputId": "70d1c4f6-a6a0-4f37-ca97-4c22c40d98cc"
      },
      "source": [
        "model = getModel_bow(train_tfidf_categorical ,train_tfidf_description)\r\n",
        "model.summary() "
      ],
      "execution_count": null,
      "outputs": [
        {
          "output_type": "error",
          "ename": "IndexError",
          "evalue": "ignored",
          "traceback": [
            "\u001b[0;31m---------------------------------------------------------------------------\u001b[0m",
            "\u001b[0;31mIndexError\u001b[0m                                Traceback (most recent call last)",
            "\u001b[0;32m<ipython-input-68-80170f8e8fd7>\u001b[0m in \u001b[0;36m<module>\u001b[0;34m()\u001b[0m\n\u001b[0;32m----> 1\u001b[0;31m \u001b[0mmodel\u001b[0m \u001b[0;34m=\u001b[0m \u001b[0mgetModel_bow\u001b[0m\u001b[0;34m(\u001b[0m\u001b[0mtrain_tfidf_categorical\u001b[0m \u001b[0;34m,\u001b[0m\u001b[0mtrain_tfidf_description\u001b[0m\u001b[0;34m)\u001b[0m\u001b[0;34m\u001b[0m\u001b[0;34m\u001b[0m\u001b[0m\n\u001b[0m\u001b[1;32m      2\u001b[0m \u001b[0mmodel\u001b[0m\u001b[0;34m.\u001b[0m\u001b[0msummary\u001b[0m\u001b[0;34m(\u001b[0m\u001b[0;34m)\u001b[0m\u001b[0;34m\u001b[0m\u001b[0;34m\u001b[0m\u001b[0m\n",
            "\u001b[0;32m<ipython-input-67-47cdd6fd546b>\u001b[0m in \u001b[0;36mgetModel_bow\u001b[0;34m(categorical_train, description_train)\u001b[0m\n\u001b[1;32m      1\u001b[0m \u001b[0;32mdef\u001b[0m \u001b[0mgetModel_bow\u001b[0m\u001b[0;34m(\u001b[0m\u001b[0mcategorical_train\u001b[0m\u001b[0;34m,\u001b[0m \u001b[0mdescription_train\u001b[0m\u001b[0;34m)\u001b[0m\u001b[0;34m:\u001b[0m\u001b[0;34m\u001b[0m\u001b[0;34m\u001b[0m\u001b[0m\n\u001b[1;32m      2\u001b[0m     \u001b[0minputA\u001b[0m \u001b[0;34m=\u001b[0m \u001b[0mInput\u001b[0m\u001b[0;34m(\u001b[0m\u001b[0mcategorical_train\u001b[0m\u001b[0;34m.\u001b[0m\u001b[0mshape\u001b[0m\u001b[0;34m[\u001b[0m\u001b[0;36m1\u001b[0m\u001b[0;34m]\u001b[0m\u001b[0;34m)\u001b[0m\u001b[0;34m\u001b[0m\u001b[0;34m\u001b[0m\u001b[0m\n\u001b[0;32m----> 3\u001b[0;31m     \u001b[0minputDesc\u001b[0m \u001b[0;34m=\u001b[0m \u001b[0mInput\u001b[0m\u001b[0;34m(\u001b[0m\u001b[0mdescription_train\u001b[0m\u001b[0;34m.\u001b[0m\u001b[0mshape\u001b[0m\u001b[0;34m[\u001b[0m\u001b[0;36m1\u001b[0m\u001b[0;34m]\u001b[0m\u001b[0;34m)\u001b[0m\u001b[0;34m\u001b[0m\u001b[0;34m\u001b[0m\u001b[0m\n\u001b[0m\u001b[1;32m      4\u001b[0m     \u001b[0mconcat\u001b[0m \u001b[0;34m=\u001b[0m \u001b[0mConcatenate\u001b[0m\u001b[0;34m(\u001b[0m\u001b[0;34m)\u001b[0m\u001b[0;34m(\u001b[0m\u001b[0;34m[\u001b[0m\u001b[0minputDesc\u001b[0m\u001b[0;34m,\u001b[0m \u001b[0minputA\u001b[0m\u001b[0;34m]\u001b[0m\u001b[0;34m)\u001b[0m\u001b[0;34m\u001b[0m\u001b[0;34m\u001b[0m\u001b[0m\n\u001b[1;32m      5\u001b[0m \u001b[0;34m\u001b[0m\u001b[0m\n",
            "\u001b[0;31mIndexError\u001b[0m: tuple index out of range"
          ]
        }
      ]
    },
    {
      "cell_type": "code",
      "metadata": {
        "colab": {
          "base_uri": "https://localhost:8080/"
        },
        "id": "d3YG-zBS7-mp",
        "outputId": "04224104-cde9-4a34-9b58-687ac04e917e"
      },
      "source": [
        "train_tfidf_description.shape"
      ],
      "execution_count": null,
      "outputs": [
        {
          "output_type": "execute_result",
          "data": {
            "text/plain": [
              "(1157452,)"
            ]
          },
          "metadata": {
            "tags": []
          },
          "execution_count": 70
        }
      ]
    },
    {
      "cell_type": "markdown",
      "metadata": {
        "id": "WE4hyzsKBQRu"
      },
      "source": [
        "# Transformers"
      ]
    },
    {
      "cell_type": "code",
      "metadata": {
        "colab": {
          "base_uri": "https://localhost:8080/"
        },
        "id": "hLeogNaNBe6J",
        "outputId": "491c8f70-67e8-4059-842e-cfccac32f646"
      },
      "source": [
        "pret_model_trans = TFDistilBertModel.from_pretrained('distilbert-base-uncased')\r\n",
        "pret_model_trans.trainable = False\r\n",
        "\r\n",
        "tokenizer_trans = DistilBertTokenizer.from_pretrained('distilbert-base-uncased')"
      ],
      "execution_count": null,
      "outputs": [
        {
          "output_type": "stream",
          "text": [
            "Some layers from the model checkpoint at distilbert-base-uncased were not used when initializing TFDistilBertModel: ['vocab_projector', 'activation_13', 'vocab_layer_norm', 'vocab_transform']\n",
            "- This IS expected if you are initializing TFDistilBertModel from the checkpoint of a model trained on another task or with another architecture (e.g. initializing a BertForSequenceClassification model from a BertForPreTraining model).\n",
            "- This IS NOT expected if you are initializing TFDistilBertModel from the checkpoint of a model that you expect to be exactly identical (initializing a BertForSequenceClassification model from a BertForSequenceClassification model).\n",
            "All the layers of TFDistilBertModel were initialized from the model checkpoint at distilbert-base-uncased.\n",
            "If your task is similar to the task the model of the checkpoint was trained on, you can already use TFDistilBertModel for predictions without further training.\n"
          ],
          "name": "stderr"
        }
      ]
    },
    {
      "cell_type": "code",
      "metadata": {
        "id": "nxL1_PwjARWk"
      },
      "source": [
        "data = data[0:10000]"
      ],
      "execution_count": null,
      "outputs": []
    },
    {
      "cell_type": "code",
      "metadata": {
        "id": "zgUJwyC2pigv"
      },
      "source": [
        "train_trans, validation_trans = train_test_split(data, test_size=0.2, random_state=1000)"
      ],
      "execution_count": null,
      "outputs": []
    },
    {
      "cell_type": "code",
      "metadata": {
        "colab": {
          "base_uri": "https://localhost:8080/"
        },
        "id": "LMQCPY-sSjDy",
        "outputId": "1f99e723-4187-4bbc-a14a-4fda86bbe487"
      },
      "source": [
        "y_train_trans = train_trans[\"price\"]\n",
        "y_train_trans"
      ],
      "execution_count": null,
      "outputs": [
        {
          "output_type": "execute_result",
          "data": {
            "text/plain": [
              "5839     8.0\n",
              "630     30.0\n",
              "2800    16.0\n",
              "6106     5.0\n",
              "7215    13.0\n",
              "        ... \n",
              "2458    32.0\n",
              "3870     7.0\n",
              "6363     6.0\n",
              "4818    11.0\n",
              "9891    75.0\n",
              "Name: price, Length: 8000, dtype: float64"
            ]
          },
          "metadata": {
            "tags": []
          },
          "execution_count": 9
        }
      ]
    },
    {
      "cell_type": "code",
      "metadata": {
        "colab": {
          "base_uri": "https://localhost:8080/"
        },
        "id": "nmlNBK-aSn0L",
        "outputId": "bc801922-3650-4869-d309-49668d2c2fed"
      },
      "source": [
        "y_validation_trans = validation_trans[\"price\"]\n",
        "y_validation_trans"
      ],
      "execution_count": null,
      "outputs": [
        {
          "output_type": "execute_result",
          "data": {
            "text/plain": [
              "8228    20.0\n",
              "7300    19.0\n",
              "7761    34.0\n",
              "7531    48.0\n",
              "3325     7.0\n",
              "        ... \n",
              "9574    60.0\n",
              "9501    30.0\n",
              "3876    71.0\n",
              "5611    60.0\n",
              "7453    15.0\n",
              "Name: price, Length: 2000, dtype: float64"
            ]
          },
          "metadata": {
            "tags": []
          },
          "execution_count": 10
        }
      ]
    },
    {
      "cell_type": "markdown",
      "metadata": {
        "id": "gpeCVE5xBJnx"
      },
      "source": [
        "todo: use cleaned? or let bert handle everything?"
      ]
    },
    {
      "cell_type": "code",
      "metadata": {
        "id": "PZnPt2pwPhda"
      },
      "source": [
        "inputA_train_trans = train_trans[[\"item_condition_id\", \"category_name_l\", \"brand_name_l\", \"shipping\"]].values.astype('int32')"
      ],
      "execution_count": null,
      "outputs": []
    },
    {
      "cell_type": "code",
      "metadata": {
        "id": "W1vQL1C1Pchc"
      },
      "source": [
        "inputA_validation_trans = validation_trans[[\"item_condition_id\", \"category_name_l\", \"brand_name_l\", \"shipping\"]].values.astype('int32')"
      ],
      "execution_count": null,
      "outputs": []
    },
    {
      "cell_type": "code",
      "metadata": {
        "id": "bEeOZukjBF3i"
      },
      "source": [
        "inputName_train_trans = tokenizer_trans(train_trans[\"name\"].to_list(),\n",
        "                                  return_tensors=\"tf\",\n",
        "                                  padding=True)\n",
        "#inputName_trans"
      ],
      "execution_count": null,
      "outputs": []
    },
    {
      "cell_type": "code",
      "metadata": {
        "id": "TJ8sh5pUPrIC"
      },
      "source": [
        "inputName_validation_trans = tokenizer_trans(validation_trans[\"name\"].to_list(),\n",
        "                                  return_tensors=\"tf\",\n",
        "                                  padding=True)\n",
        "#inputName_trans"
      ],
      "execution_count": null,
      "outputs": []
    },
    {
      "cell_type": "code",
      "metadata": {
        "colab": {
          "base_uri": "https://localhost:8080/"
        },
        "id": "7bQnsc9-JcIq",
        "outputId": "b21c3dbb-d179-4aa4-c5b1-a07aa36ea1d4"
      },
      "source": [
        "inputName_shape_trans = (inputName_train_trans['input_ids'].shape[1],\n",
        "                         inputName_train_trans['attention_mask'].shape[1])\n",
        "\n",
        "inputName_shape_trans"
      ],
      "execution_count": null,
      "outputs": [
        {
          "output_type": "execute_result",
          "data": {
            "text/plain": [
              "(19, 19)"
            ]
          },
          "metadata": {
            "tags": []
          },
          "execution_count": 15
        }
      ]
    },
    {
      "cell_type": "code",
      "metadata": {
        "id": "dMjIqkOs2jhU"
      },
      "source": [
        "inputDesc_train_trans = tokenizer_trans(train_trans[\"item_description\"].to_list(),\n",
        "                                  return_tensors=\"tf\",\n",
        "                                  padding=True)"
      ],
      "execution_count": null,
      "outputs": []
    },
    {
      "cell_type": "code",
      "metadata": {
        "id": "ZccJ_0HUP5EX"
      },
      "source": [
        "inputDesc_validation_trans = tokenizer_trans(validation_trans[\"item_description\"].to_list(),\n",
        "                                  return_tensors=\"tf\",\n",
        "                                  padding=True)"
      ],
      "execution_count": null,
      "outputs": []
    },
    {
      "cell_type": "code",
      "metadata": {
        "colab": {
          "base_uri": "https://localhost:8080/"
        },
        "id": "LCTEIDnSJsMP",
        "outputId": "0b14c75c-f647-468d-9217-699306fb23c1"
      },
      "source": [
        "inputDesc_shape_trans = (inputDesc_train_trans['input_ids'].shape[1],\n",
        "                         inputDesc_train_trans['attention_mask'].shape[1])\n",
        "inputDesc_shape_trans"
      ],
      "execution_count": null,
      "outputs": [
        {
          "output_type": "execute_result",
          "data": {
            "text/plain": [
              "(337, 337)"
            ]
          },
          "metadata": {
            "tags": []
          },
          "execution_count": 18
        }
      ]
    },
    {
      "cell_type": "code",
      "metadata": {
        "id": "n_odyHkIAJWy"
      },
      "source": [
        "def getModel_trans():\n",
        "    inputA = Input(shape=(4,))\n",
        "    Ad = inputA    \n",
        "    \n",
        "    inputName_ids = Input(shape=(inputName_shape_trans[0],), dtype='int32')\n",
        "    inputName_mask = Input(shape=(inputName_shape_trans[1],), dtype='int32')\n",
        "\n",
        "    Np = pret_model_trans(inputName_ids, attention_mask=inputName_mask)[0]\n",
        "\n",
        "    Nd = LSTM(12,return_sequences=True)(Np)\n",
        "    Nd = Flatten()(Nd)\n",
        "\n",
        "    inputDesc_ids = Input(shape=(inputDesc_shape_trans[0],), dtype='int32')\n",
        "    inputDesc_mask = Input(shape=(inputDesc_shape_trans[1],), dtype='int32')\n",
        "\n",
        "    Dp = pret_model_trans(inputDesc_ids, attention_mask=inputDesc_mask)[0]\n",
        "\n",
        "    Dd = LSTM(16,return_sequences=True)(Dp)\n",
        "    Dd = LSTM(8,return_sequences=True)(Dd)\n",
        "    Dd = Flatten()(Dd)\n",
        "\n",
        "    concat = Concatenate()([Nd, Dd])\n",
        "\n",
        "    x = Dropout(0.1)(concat)    \n",
        "    x = Dense(32, activation='relu')(x)\n",
        "    x = Dropout(0.1)(x)\n",
        "    x = Dense(16, activation='relu')(x)\n",
        "    \n",
        "    x = Dense(1, activation='linear')(x)\n",
        "    \n",
        "    model = Model(inputs=[\n",
        "                          inputA,\n",
        "                          inputName_ids,\n",
        "                          inputName_mask,\n",
        "                          inputDesc_ids,\n",
        "                          inputDesc_mask\n",
        "                          ], outputs=x)\n",
        "    \n",
        "    return model\n",
        "    "
      ],
      "execution_count": null,
      "outputs": []
    },
    {
      "cell_type": "code",
      "metadata": {
        "colab": {
          "base_uri": "https://localhost:8080/"
        },
        "id": "ZN9opFTBHLXu",
        "outputId": "25659736-67a8-4964-f1a9-f68621577c65"
      },
      "source": [
        "model_trans = getModel_trans()"
      ],
      "execution_count": null,
      "outputs": [
        {
          "output_type": "stream",
          "text": [
            "The parameters `output_attentions`, `output_hidden_states` and `use_cache` cannot be updated when calling a model.They have to be set to True/False in the config object (i.e.: `config=XConfig.from_pretrained('name', output_attentions=True)`).\n",
            "The parameter `return_dict` cannot be set in graph mode and will always be set to `True`.\n",
            "The parameters `output_attentions`, `output_hidden_states` and `use_cache` cannot be updated when calling a model.They have to be set to True/False in the config object (i.e.: `config=XConfig.from_pretrained('name', output_attentions=True)`).\n",
            "The parameter `return_dict` cannot be set in graph mode and will always be set to `True`.\n"
          ],
          "name": "stderr"
        }
      ]
    },
    {
      "cell_type": "code",
      "metadata": {
        "colab": {
          "base_uri": "https://localhost:8080/"
        },
        "id": "IdOujyB1HcZ3",
        "outputId": "7b26c2cb-e2ef-413c-f8db-6964b353391d"
      },
      "source": [
        "model_trans.summary()"
      ],
      "execution_count": null,
      "outputs": [
        {
          "output_type": "stream",
          "text": [
            "Model: \"model_1\"\n",
            "__________________________________________________________________________________________________\n",
            "Layer (type)                    Output Shape         Param #     Connected to                     \n",
            "==================================================================================================\n",
            "input_7 (InputLayer)            [(None, 19)]         0                                            \n",
            "__________________________________________________________________________________________________\n",
            "input_8 (InputLayer)            [(None, 19)]         0                                            \n",
            "__________________________________________________________________________________________________\n",
            "input_9 (InputLayer)            [(None, 337)]        0                                            \n",
            "__________________________________________________________________________________________________\n",
            "input_10 (InputLayer)           [(None, 337)]        0                                            \n",
            "__________________________________________________________________________________________________\n",
            "tf_distil_bert_model (TFDistilB multiple             66362880    input_7[0][0]                    \n",
            "                                                                 input_8[0][0]                    \n",
            "                                                                 input_9[0][0]                    \n",
            "                                                                 input_10[0][0]                   \n",
            "__________________________________________________________________________________________________\n",
            "lstm_4 (LSTM)                   (None, 337, 16)      50240       tf_distil_bert_model[3][0]       \n",
            "__________________________________________________________________________________________________\n",
            "lstm_3 (LSTM)                   (None, 19, 12)       37488       tf_distil_bert_model[2][0]       \n",
            "__________________________________________________________________________________________________\n",
            "lstm_5 (LSTM)                   (None, 337, 8)       800         lstm_4[0][0]                     \n",
            "__________________________________________________________________________________________________\n",
            "flatten_2 (Flatten)             (None, 228)          0           lstm_3[0][0]                     \n",
            "__________________________________________________________________________________________________\n",
            "flatten_3 (Flatten)             (None, 2696)         0           lstm_5[0][0]                     \n",
            "__________________________________________________________________________________________________\n",
            "concatenate_1 (Concatenate)     (None, 2924)         0           flatten_2[0][0]                  \n",
            "                                                                 flatten_3[0][0]                  \n",
            "__________________________________________________________________________________________________\n",
            "dropout_21 (Dropout)            (None, 2924)         0           concatenate_1[0][0]              \n",
            "__________________________________________________________________________________________________\n",
            "dense_3 (Dense)                 (None, 32)           93600       dropout_21[0][0]                 \n",
            "__________________________________________________________________________________________________\n",
            "dropout_22 (Dropout)            (None, 32)           0           dense_3[0][0]                    \n",
            "__________________________________________________________________________________________________\n",
            "dense_4 (Dense)                 (None, 16)           528         dropout_22[0][0]                 \n",
            "__________________________________________________________________________________________________\n",
            "input_6 (InputLayer)            [(None, 4)]          0                                            \n",
            "__________________________________________________________________________________________________\n",
            "dense_5 (Dense)                 (None, 1)            17          dense_4[0][0]                    \n",
            "==================================================================================================\n",
            "Total params: 66,545,553\n",
            "Trainable params: 182,673\n",
            "Non-trainable params: 66,362,880\n",
            "__________________________________________________________________________________________________\n"
          ],
          "name": "stdout"
        }
      ]
    },
    {
      "cell_type": "code",
      "metadata": {
        "colab": {
          "base_uri": "https://localhost:8080/",
          "height": 906
        },
        "id": "e00K_QQ8O6Nq",
        "outputId": "6de76a5d-bb12-4176-f511-b76648972f92"
      },
      "source": [
        "plot_model(model_trans)"
      ],
      "execution_count": null,
      "outputs": [
        {
          "output_type": "execute_result",
          "data": {
            "image/png": "[encoded data removed]",
            "text/plain": [
              "<IPython.core.display.Image object>"
            ]
          },
          "metadata": {
            "tags": []
          },
          "execution_count": 30
        }
      ]
    },
    {
      "cell_type": "code",
      "metadata": {
        "id": "lyqut5HjPBR4"
      },
      "source": [
        "model_trans.compile(loss = root_mean_squared_logarithmic_error, optimizer='adam', metrics=['mse', 'mae', tf.keras.metrics.RootMeanSquaredError(), 'mean_squared_logarithmic_error', root_mean_squared_logarithmic_error])"
      ],
      "execution_count": null,
      "outputs": []
    },
    {
      "cell_type": "code",
      "metadata": {
        "colab": {
          "base_uri": "https://localhost:8080/"
        },
        "id": "FV6080wZPLlo",
        "outputId": "a972fb5b-9291-4964-f37a-3dc19aa3a365"
      },
      "source": [
        "history_trans = model_trans.fit(x=[inputA_train_trans,\n",
        "                   inputName_train_trans['input_ids'],\n",
        "                   inputName_train_trans['attention_mask'],\n",
        "                   inputDesc_train_trans['input_ids'],\n",
        "                   inputDesc_train_trans['attention_mask']\n",
        "                  ],\n",
        "                   y=y_train_trans,\n",
        "                    epochs=2,\n",
        "                    verbose=True,\n",
        "                    validation_data=([\n",
        "                                      inputA_validation_trans,\n",
        "                                      inputName_validation_trans['input_ids'],\n",
        "                                      inputName_validation_trans['attention_mask'],\n",
        "                                      inputDesc_validation_trans['input_ids'],\n",
        "                                      inputDesc_validation_trans['attention_mask'],\n",
        "                                      ], \n",
        "                                     y_validation_trans),\n",
        "                    batch_size=512)"
      ],
      "execution_count": null,
      "outputs": [
        {
          "output_type": "stream",
          "text": [
            "The parameters `output_attentions`, `output_hidden_states` and `use_cache` cannot be updated when calling a model.They have to be set to True/False in the config object (i.e.: `config=XConfig.from_pretrained('name', output_attentions=True)`).\n",
            "The parameter `return_dict` cannot be set in graph mode and will always be set to `True`.\n"
          ],
          "name": "stderr"
        },
        {
          "output_type": "stream",
          "text": [
            "Epoch 1/2\n"
          ],
          "name": "stdout"
        },
        {
          "output_type": "stream",
          "text": [
            "The parameters `output_attentions`, `output_hidden_states` and `use_cache` cannot be updated when calling a model.They have to be set to True/False in the config object (i.e.: `config=XConfig.from_pretrained('name', output_attentions=True)`).\n",
            "The parameter `return_dict` cannot be set in graph mode and will always be set to `True`.\n",
            "The parameters `output_attentions`, `output_hidden_states` and `use_cache` cannot be updated when calling a model.They have to be set to True/False in the config object (i.e.: `config=XConfig.from_pretrained('name', output_attentions=True)`).\n",
            "The parameter `return_dict` cannot be set in graph mode and will always be set to `True`.\n",
            "The parameters `output_attentions`, `output_hidden_states` and `use_cache` cannot be updated when calling a model.They have to be set to True/False in the config object (i.e.: `config=XConfig.from_pretrained('name', output_attentions=True)`).\n",
            "The parameter `return_dict` cannot be set in graph mode and will always be set to `True`.\n"
          ],
          "name": "stderr"
        },
        {
          "output_type": "stream",
          "text": [
            "\r 1/16 [>.............................] - ETA: 5:57 - loss: 3.0865 - mse: 2804.8843 - mae: 28.2025 - root_mean_squared_error: 52.9612 - mean_squared_logarithmic_error: 9.5266 - root_mean_squared_logarithmic_error: 3.0865"
          ],
          "name": "stdout"
        }
      ]
    },
    {
      "cell_type": "code",
      "metadata": {
        "id": "j6XYsUVDDtta"
      },
      "source": [
        ""
      ],
      "execution_count": null,
      "outputs": []
    }
  ]
}