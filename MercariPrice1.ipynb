{
  "nbformat": 4,
  "nbformat_minor": 0,
  "metadata": {
    "accelerator": "GPU",
    "colab": {
      "name": "MercariPrice1.ipynb",
      "provenance": [],
      "collapsed_sections": [
        "5tMt4O6n3yTD",
        "Al4hG-g33lq8",
        "uuMtKfPMrZBk"
      ],
      "toc_visible": true
    },
    "kernelspec": {
      "display_name": "Python 3",
      "language": "python",
      "name": "python3"
    },
    "language_info": {
      "codemirror_mode": {
        "name": "ipython",
        "version": 3
      },
      "file_extension": ".py",
      "mimetype": "text/x-python",
      "name": "python",
      "nbconvert_exporter": "python",
      "pygments_lexer": "ipython3",
      "version": "3.7.0"
    },
    "widgets": {
      "application/vnd.jupyter.widget-state+json": {
        "5a6a03eb84e34ba9843548feb37bb27e": {
          "model_module": "@jupyter-widgets/controls",
          "model_name": "HBoxModel",
          "state": {
            "_dom_classes": [],
            "_model_module": "@jupyter-widgets/controls",
            "_model_module_version": "1.5.0",
            "_model_name": "HBoxModel",
            "_view_count": null,
            "_view_module": "@jupyter-widgets/controls",
            "_view_module_version": "1.5.0",
            "_view_name": "HBoxView",
            "box_style": "",
            "children": [
              "IPY_MODEL_bb1401f19eb94ada881fd71fdcc03bfe",
              "IPY_MODEL_7da12cee93214b31bae7649577e0ccba"
            ],
            "layout": "IPY_MODEL_3a5a723cfa284656996abd86150f0efb"
          }
        },
        "bb1401f19eb94ada881fd71fdcc03bfe": {
          "model_module": "@jupyter-widgets/controls",
          "model_name": "FloatProgressModel",
          "state": {
            "_dom_classes": [],
            "_model_module": "@jupyter-widgets/controls",
            "_model_module_version": "1.5.0",
            "_model_name": "FloatProgressModel",
            "_view_count": null,
            "_view_module": "@jupyter-widgets/controls",
            "_view_module_version": "1.5.0",
            "_view_name": "ProgressView",
            "bar_style": "success",
            "description": "100%",
            "description_tooltip": null,
            "layout": "IPY_MODEL_fc94df446f9141ac88888c2299cbb4b1",
            "max": 1446815,
            "min": 0,
            "orientation": "horizontal",
            "style": "IPY_MODEL_e066c75dceef4e31986e1ca0cb763702",
            "value": 1446815
          }
        },
        "7da12cee93214b31bae7649577e0ccba": {
          "model_module": "@jupyter-widgets/controls",
          "model_name": "HTMLModel",
          "state": {
            "_dom_classes": [],
            "_model_module": "@jupyter-widgets/controls",
            "_model_module_version": "1.5.0",
            "_model_name": "HTMLModel",
            "_view_count": null,
            "_view_module": "@jupyter-widgets/controls",
            "_view_module_version": "1.5.0",
            "_view_name": "HTMLView",
            "description": "",
            "description_tooltip": null,
            "layout": "IPY_MODEL_71e8356fa4a34e089e0901349afc106e",
            "placeholder": "​",
            "style": "IPY_MODEL_582070ea64074a738473f5dd99926809",
            "value": " 1446815/1446815 [02:14&lt;00:00, 10765.39it/s]"
          }
        },
        "3a5a723cfa284656996abd86150f0efb": {
          "model_module": "@jupyter-widgets/base",
          "model_name": "LayoutModel",
          "state": {
            "_model_module": "@jupyter-widgets/base",
            "_model_module_version": "1.2.0",
            "_model_name": "LayoutModel",
            "_view_count": null,
            "_view_module": "@jupyter-widgets/base",
            "_view_module_version": "1.2.0",
            "_view_name": "LayoutView",
            "align_content": null,
            "align_items": null,
            "align_self": null,
            "border": null,
            "bottom": null,
            "display": null,
            "flex": null,
            "flex_flow": null,
            "grid_area": null,
            "grid_auto_columns": null,
            "grid_auto_flow": null,
            "grid_auto_rows": null,
            "grid_column": null,
            "grid_gap": null,
            "grid_row": null,
            "grid_template_areas": null,
            "grid_template_columns": null,
            "grid_template_rows": null,
            "height": null,
            "justify_content": null,
            "justify_items": null,
            "left": null,
            "margin": null,
            "max_height": null,
            "max_width": null,
            "min_height": null,
            "min_width": null,
            "object_fit": null,
            "object_position": null,
            "order": null,
            "overflow": null,
            "overflow_x": null,
            "overflow_y": null,
            "padding": null,
            "right": null,
            "top": null,
            "visibility": null,
            "width": null
          }
        },
        "fc94df446f9141ac88888c2299cbb4b1": {
          "model_module": "@jupyter-widgets/base",
          "model_name": "LayoutModel",
          "state": {
            "_model_module": "@jupyter-widgets/base",
            "_model_module_version": "1.2.0",
            "_model_name": "LayoutModel",
            "_view_count": null,
            "_view_module": "@jupyter-widgets/base",
            "_view_module_version": "1.2.0",
            "_view_name": "LayoutView",
            "align_content": null,
            "align_items": null,
            "align_self": null,
            "border": null,
            "bottom": null,
            "display": null,
            "flex": null,
            "flex_flow": null,
            "grid_area": null,
            "grid_auto_columns": null,
            "grid_auto_flow": null,
            "grid_auto_rows": null,
            "grid_column": null,
            "grid_gap": null,
            "grid_row": null,
            "grid_template_areas": null,
            "grid_template_columns": null,
            "grid_template_rows": null,
            "height": null,
            "justify_content": null,
            "justify_items": null,
            "left": null,
            "margin": null,
            "max_height": null,
            "max_width": null,
            "min_height": null,
            "min_width": null,
            "object_fit": null,
            "object_position": null,
            "order": null,
            "overflow": null,
            "overflow_x": null,
            "overflow_y": null,
            "padding": null,
            "right": null,
            "top": null,
            "visibility": null,
            "width": null
          }
        },
        "e066c75dceef4e31986e1ca0cb763702": {
          "model_module": "@jupyter-widgets/controls",
          "model_name": "ProgressStyleModel",
          "state": {
            "_model_module": "@jupyter-widgets/controls",
            "_model_module_version": "1.5.0",
            "_model_name": "ProgressStyleModel",
            "_view_count": null,
            "_view_module": "@jupyter-widgets/base",
            "_view_module_version": "1.2.0",
            "_view_name": "StyleView",
            "bar_color": null,
            "description_width": "initial"
          }
        },
        "71e8356fa4a34e089e0901349afc106e": {
          "model_module": "@jupyter-widgets/base",
          "model_name": "LayoutModel",
          "state": {
            "_model_module": "@jupyter-widgets/base",
            "_model_module_version": "1.2.0",
            "_model_name": "LayoutModel",
            "_view_count": null,
            "_view_module": "@jupyter-widgets/base",
            "_view_module_version": "1.2.0",
            "_view_name": "LayoutView",
            "align_content": null,
            "align_items": null,
            "align_self": null,
            "border": null,
            "bottom": null,
            "display": null,
            "flex": null,
            "flex_flow": null,
            "grid_area": null,
            "grid_auto_columns": null,
            "grid_auto_flow": null,
            "grid_auto_rows": null,
            "grid_column": null,
            "grid_gap": null,
            "grid_row": null,
            "grid_template_areas": null,
            "grid_template_columns": null,
            "grid_template_rows": null,
            "height": null,
            "justify_content": null,
            "justify_items": null,
            "left": null,
            "margin": null,
            "max_height": null,
            "max_width": null,
            "min_height": null,
            "min_width": null,
            "object_fit": null,
            "object_position": null,
            "order": null,
            "overflow": null,
            "overflow_x": null,
            "overflow_y": null,
            "padding": null,
            "right": null,
            "top": null,
            "visibility": null,
            "width": null
          }
        },
        "582070ea64074a738473f5dd99926809": {
          "model_module": "@jupyter-widgets/controls",
          "model_name": "DescriptionStyleModel",
          "state": {
            "_model_module": "@jupyter-widgets/controls",
            "_model_module_version": "1.5.0",
            "_model_name": "DescriptionStyleModel",
            "_view_count": null,
            "_view_module": "@jupyter-widgets/base",
            "_view_module_version": "1.2.0",
            "_view_name": "StyleView",
            "description_width": ""
          }
        },
        "991a0723bf1148c7ace27a0038f84766": {
          "model_module": "@jupyter-widgets/controls",
          "model_name": "HBoxModel",
          "state": {
            "_dom_classes": [],
            "_model_module": "@jupyter-widgets/controls",
            "_model_module_version": "1.5.0",
            "_model_name": "HBoxModel",
            "_view_count": null,
            "_view_module": "@jupyter-widgets/controls",
            "_view_module_version": "1.5.0",
            "_view_name": "HBoxView",
            "box_style": "",
            "children": [
              "IPY_MODEL_6c086c1eb1554689a08497935feb7e4a",
              "IPY_MODEL_f47d16051b274ad59a8f72eeb5720d4a"
            ],
            "layout": "IPY_MODEL_55c1186c544545ada5b09c18c1f002e3"
          }
        },
        "6c086c1eb1554689a08497935feb7e4a": {
          "model_module": "@jupyter-widgets/controls",
          "model_name": "FloatProgressModel",
          "state": {
            "_dom_classes": [],
            "_model_module": "@jupyter-widgets/controls",
            "_model_module_version": "1.5.0",
            "_model_name": "FloatProgressModel",
            "_view_count": null,
            "_view_module": "@jupyter-widgets/controls",
            "_view_module_version": "1.5.0",
            "_view_name": "ProgressView",
            "bar_style": "success",
            "description": "100%",
            "description_tooltip": null,
            "layout": "IPY_MODEL_fbcb210cc92543efae0c4d158a6a5ba6",
            "max": 1446815,
            "min": 0,
            "orientation": "horizontal",
            "style": "IPY_MODEL_cdb632ea3a5e40efbea56ce62e7fd79c",
            "value": 1446815
          }
        },
        "f47d16051b274ad59a8f72eeb5720d4a": {
          "model_module": "@jupyter-widgets/controls",
          "model_name": "HTMLModel",
          "state": {
            "_dom_classes": [],
            "_model_module": "@jupyter-widgets/controls",
            "_model_module_version": "1.5.0",
            "_model_name": "HTMLModel",
            "_view_count": null,
            "_view_module": "@jupyter-widgets/controls",
            "_view_module_version": "1.5.0",
            "_view_name": "HTMLView",
            "description": "",
            "description_tooltip": null,
            "layout": "IPY_MODEL_9615791e161c4f2091cef0c8857a6e87",
            "placeholder": "​",
            "style": "IPY_MODEL_8990858595434b0f9dfd77f991c465da",
            "value": " 1446815/1446815 [00:28&lt;00:00, 51268.59it/s]"
          }
        },
        "55c1186c544545ada5b09c18c1f002e3": {
          "model_module": "@jupyter-widgets/base",
          "model_name": "LayoutModel",
          "state": {
            "_model_module": "@jupyter-widgets/base",
            "_model_module_version": "1.2.0",
            "_model_name": "LayoutModel",
            "_view_count": null,
            "_view_module": "@jupyter-widgets/base",
            "_view_module_version": "1.2.0",
            "_view_name": "LayoutView",
            "align_content": null,
            "align_items": null,
            "align_self": null,
            "border": null,
            "bottom": null,
            "display": null,
            "flex": null,
            "flex_flow": null,
            "grid_area": null,
            "grid_auto_columns": null,
            "grid_auto_flow": null,
            "grid_auto_rows": null,
            "grid_column": null,
            "grid_gap": null,
            "grid_row": null,
            "grid_template_areas": null,
            "grid_template_columns": null,
            "grid_template_rows": null,
            "height": null,
            "justify_content": null,
            "justify_items": null,
            "left": null,
            "margin": null,
            "max_height": null,
            "max_width": null,
            "min_height": null,
            "min_width": null,
            "object_fit": null,
            "object_position": null,
            "order": null,
            "overflow": null,
            "overflow_x": null,
            "overflow_y": null,
            "padding": null,
            "right": null,
            "top": null,
            "visibility": null,
            "width": null
          }
        },
        "fbcb210cc92543efae0c4d158a6a5ba6": {
          "model_module": "@jupyter-widgets/base",
          "model_name": "LayoutModel",
          "state": {
            "_model_module": "@jupyter-widgets/base",
            "_model_module_version": "1.2.0",
            "_model_name": "LayoutModel",
            "_view_count": null,
            "_view_module": "@jupyter-widgets/base",
            "_view_module_version": "1.2.0",
            "_view_name": "LayoutView",
            "align_content": null,
            "align_items": null,
            "align_self": null,
            "border": null,
            "bottom": null,
            "display": null,
            "flex": null,
            "flex_flow": null,
            "grid_area": null,
            "grid_auto_columns": null,
            "grid_auto_flow": null,
            "grid_auto_rows": null,
            "grid_column": null,
            "grid_gap": null,
            "grid_row": null,
            "grid_template_areas": null,
            "grid_template_columns": null,
            "grid_template_rows": null,
            "height": null,
            "justify_content": null,
            "justify_items": null,
            "left": null,
            "margin": null,
            "max_height": null,
            "max_width": null,
            "min_height": null,
            "min_width": null,
            "object_fit": null,
            "object_position": null,
            "order": null,
            "overflow": null,
            "overflow_x": null,
            "overflow_y": null,
            "padding": null,
            "right": null,
            "top": null,
            "visibility": null,
            "width": null
          }
        },
        "cdb632ea3a5e40efbea56ce62e7fd79c": {
          "model_module": "@jupyter-widgets/controls",
          "model_name": "ProgressStyleModel",
          "state": {
            "_model_module": "@jupyter-widgets/controls",
            "_model_module_version": "1.5.0",
            "_model_name": "ProgressStyleModel",
            "_view_count": null,
            "_view_module": "@jupyter-widgets/base",
            "_view_module_version": "1.2.0",
            "_view_name": "StyleView",
            "bar_color": null,
            "description_width": "initial"
          }
        },
        "9615791e161c4f2091cef0c8857a6e87": {
          "model_module": "@jupyter-widgets/base",
          "model_name": "LayoutModel",
          "state": {
            "_model_module": "@jupyter-widgets/base",
            "_model_module_version": "1.2.0",
            "_model_name": "LayoutModel",
            "_view_count": null,
            "_view_module": "@jupyter-widgets/base",
            "_view_module_version": "1.2.0",
            "_view_name": "LayoutView",
            "align_content": null,
            "align_items": null,
            "align_self": null,
            "border": null,
            "bottom": null,
            "display": null,
            "flex": null,
            "flex_flow": null,
            "grid_area": null,
            "grid_auto_columns": null,
            "grid_auto_flow": null,
            "grid_auto_rows": null,
            "grid_column": null,
            "grid_gap": null,
            "grid_row": null,
            "grid_template_areas": null,
            "grid_template_columns": null,
            "grid_template_rows": null,
            "height": null,
            "justify_content": null,
            "justify_items": null,
            "left": null,
            "margin": null,
            "max_height": null,
            "max_width": null,
            "min_height": null,
            "min_width": null,
            "object_fit": null,
            "object_position": null,
            "order": null,
            "overflow": null,
            "overflow_x": null,
            "overflow_y": null,
            "padding": null,
            "right": null,
            "top": null,
            "visibility": null,
            "width": null
          }
        },
        "8990858595434b0f9dfd77f991c465da": {
          "model_module": "@jupyter-widgets/controls",
          "model_name": "DescriptionStyleModel",
          "state": {
            "_model_module": "@jupyter-widgets/controls",
            "_model_module_version": "1.5.0",
            "_model_name": "DescriptionStyleModel",
            "_view_count": null,
            "_view_module": "@jupyter-widgets/base",
            "_view_module_version": "1.2.0",
            "_view_name": "StyleView",
            "description_width": ""
          }
        },
        "4ddb31e3407c4ec9a139bcacec8ee313": {
          "model_module": "@jupyter-widgets/controls",
          "model_name": "HBoxModel",
          "state": {
            "_dom_classes": [],
            "_model_module": "@jupyter-widgets/controls",
            "_model_module_version": "1.5.0",
            "_model_name": "HBoxModel",
            "_view_count": null,
            "_view_module": "@jupyter-widgets/controls",
            "_view_module_version": "1.5.0",
            "_view_name": "HBoxView",
            "box_style": "",
            "children": [
              "IPY_MODEL_3180acb3d860473db5380b187b403013",
              "IPY_MODEL_0ff1aad73ea84e69b32cf93d58bfb29c"
            ],
            "layout": "IPY_MODEL_32cd5cd650ae42578d660806b94de1cb"
          }
        },
        "3180acb3d860473db5380b187b403013": {
          "model_module": "@jupyter-widgets/controls",
          "model_name": "FloatProgressModel",
          "state": {
            "_dom_classes": [],
            "_model_module": "@jupyter-widgets/controls",
            "_model_module_version": "1.5.0",
            "_model_name": "FloatProgressModel",
            "_view_count": null,
            "_view_module": "@jupyter-widgets/controls",
            "_view_module_version": "1.5.0",
            "_view_name": "ProgressView",
            "bar_style": "success",
            "description": "100%",
            "description_tooltip": null,
            "layout": "IPY_MODEL_23190cb5181a4b0eb6152a62d8a824e2",
            "max": 1446815,
            "min": 0,
            "orientation": "horizontal",
            "style": "IPY_MODEL_1c0ed3fec9e645d1bd0d027ae268ecdf",
            "value": 1446815
          }
        },
        "0ff1aad73ea84e69b32cf93d58bfb29c": {
          "model_module": "@jupyter-widgets/controls",
          "model_name": "HTMLModel",
          "state": {
            "_dom_classes": [],
            "_model_module": "@jupyter-widgets/controls",
            "_model_module_version": "1.5.0",
            "_model_name": "HTMLModel",
            "_view_count": null,
            "_view_module": "@jupyter-widgets/controls",
            "_view_module_version": "1.5.0",
            "_view_name": "HTMLView",
            "description": "",
            "description_tooltip": null,
            "layout": "IPY_MODEL_9991bdd2be4f482e9e23fcfc63d1228b",
            "placeholder": "​",
            "style": "IPY_MODEL_1caed3e122834addb5354aee96bb94d0",
            "value": " 1446815/1446815 [02:25&lt;00:00, 9944.82it/s]"
          }
        },
        "32cd5cd650ae42578d660806b94de1cb": {
          "model_module": "@jupyter-widgets/base",
          "model_name": "LayoutModel",
          "state": {
            "_model_module": "@jupyter-widgets/base",
            "_model_module_version": "1.2.0",
            "_model_name": "LayoutModel",
            "_view_count": null,
            "_view_module": "@jupyter-widgets/base",
            "_view_module_version": "1.2.0",
            "_view_name": "LayoutView",
            "align_content": null,
            "align_items": null,
            "align_self": null,
            "border": null,
            "bottom": null,
            "display": null,
            "flex": null,
            "flex_flow": null,
            "grid_area": null,
            "grid_auto_columns": null,
            "grid_auto_flow": null,
            "grid_auto_rows": null,
            "grid_column": null,
            "grid_gap": null,
            "grid_row": null,
            "grid_template_areas": null,
            "grid_template_columns": null,
            "grid_template_rows": null,
            "height": null,
            "justify_content": null,
            "justify_items": null,
            "left": null,
            "margin": null,
            "max_height": null,
            "max_width": null,
            "min_height": null,
            "min_width": null,
            "object_fit": null,
            "object_position": null,
            "order": null,
            "overflow": null,
            "overflow_x": null,
            "overflow_y": null,
            "padding": null,
            "right": null,
            "top": null,
            "visibility": null,
            "width": null
          }
        },
        "23190cb5181a4b0eb6152a62d8a824e2": {
          "model_module": "@jupyter-widgets/base",
          "model_name": "LayoutModel",
          "state": {
            "_model_module": "@jupyter-widgets/base",
            "_model_module_version": "1.2.0",
            "_model_name": "LayoutModel",
            "_view_count": null,
            "_view_module": "@jupyter-widgets/base",
            "_view_module_version": "1.2.0",
            "_view_name": "LayoutView",
            "align_content": null,
            "align_items": null,
            "align_self": null,
            "border": null,
            "bottom": null,
            "display": null,
            "flex": null,
            "flex_flow": null,
            "grid_area": null,
            "grid_auto_columns": null,
            "grid_auto_flow": null,
            "grid_auto_rows": null,
            "grid_column": null,
            "grid_gap": null,
            "grid_row": null,
            "grid_template_areas": null,
            "grid_template_columns": null,
            "grid_template_rows": null,
            "height": null,
            "justify_content": null,
            "justify_items": null,
            "left": null,
            "margin": null,
            "max_height": null,
            "max_width": null,
            "min_height": null,
            "min_width": null,
            "object_fit": null,
            "object_position": null,
            "order": null,
            "overflow": null,
            "overflow_x": null,
            "overflow_y": null,
            "padding": null,
            "right": null,
            "top": null,
            "visibility": null,
            "width": null
          }
        },
        "1c0ed3fec9e645d1bd0d027ae268ecdf": {
          "model_module": "@jupyter-widgets/controls",
          "model_name": "ProgressStyleModel",
          "state": {
            "_model_module": "@jupyter-widgets/controls",
            "_model_module_version": "1.5.0",
            "_model_name": "ProgressStyleModel",
            "_view_count": null,
            "_view_module": "@jupyter-widgets/base",
            "_view_module_version": "1.2.0",
            "_view_name": "StyleView",
            "bar_color": null,
            "description_width": "initial"
          }
        },
        "9991bdd2be4f482e9e23fcfc63d1228b": {
          "model_module": "@jupyter-widgets/base",
          "model_name": "LayoutModel",
          "state": {
            "_model_module": "@jupyter-widgets/base",
            "_model_module_version": "1.2.0",
            "_model_name": "LayoutModel",
            "_view_count": null,
            "_view_module": "@jupyter-widgets/base",
            "_view_module_version": "1.2.0",
            "_view_name": "LayoutView",
            "align_content": null,
            "align_items": null,
            "align_self": null,
            "border": null,
            "bottom": null,
            "display": null,
            "flex": null,
            "flex_flow": null,
            "grid_area": null,
            "grid_auto_columns": null,
            "grid_auto_flow": null,
            "grid_auto_rows": null,
            "grid_column": null,
            "grid_gap": null,
            "grid_row": null,
            "grid_template_areas": null,
            "grid_template_columns": null,
            "grid_template_rows": null,
            "height": null,
            "justify_content": null,
            "justify_items": null,
            "left": null,
            "margin": null,
            "max_height": null,
            "max_width": null,
            "min_height": null,
            "min_width": null,
            "object_fit": null,
            "object_position": null,
            "order": null,
            "overflow": null,
            "overflow_x": null,
            "overflow_y": null,
            "padding": null,
            "right": null,
            "top": null,
            "visibility": null,
            "width": null
          }
        },
        "1caed3e122834addb5354aee96bb94d0": {
          "model_module": "@jupyter-widgets/controls",
          "model_name": "DescriptionStyleModel",
          "state": {
            "_model_module": "@jupyter-widgets/controls",
            "_model_module_version": "1.5.0",
            "_model_name": "DescriptionStyleModel",
            "_view_count": null,
            "_view_module": "@jupyter-widgets/base",
            "_view_module_version": "1.2.0",
            "_view_name": "StyleView",
            "description_width": ""
          }
        },
        "75c230a4fe104bfd99e2af16c8321e0c": {
          "model_module": "@jupyter-widgets/controls",
          "model_name": "HBoxModel",
          "state": {
            "_dom_classes": [],
            "_model_module": "@jupyter-widgets/controls",
            "_model_module_version": "1.5.0",
            "_model_name": "HBoxModel",
            "_view_count": null,
            "_view_module": "@jupyter-widgets/controls",
            "_view_module_version": "1.5.0",
            "_view_name": "HBoxView",
            "box_style": "",
            "children": [
              "IPY_MODEL_0fffb6abc7154f158acd4fec5cbd3e18",
              "IPY_MODEL_ba5d4601adb14d6f89d59e6186eaa921"
            ],
            "layout": "IPY_MODEL_2f91d4aa292543bc961271a2535a4260"
          }
        },
        "0fffb6abc7154f158acd4fec5cbd3e18": {
          "model_module": "@jupyter-widgets/controls",
          "model_name": "FloatProgressModel",
          "state": {
            "_dom_classes": [],
            "_model_module": "@jupyter-widgets/controls",
            "_model_module_version": "1.5.0",
            "_model_name": "FloatProgressModel",
            "_view_count": null,
            "_view_module": "@jupyter-widgets/controls",
            "_view_module_version": "1.5.0",
            "_view_name": "ProgressView",
            "bar_style": "success",
            "description": "100%",
            "description_tooltip": null,
            "layout": "IPY_MODEL_4c73859b02a941a0acc94c04f60e1342",
            "max": 1446815,
            "min": 0,
            "orientation": "horizontal",
            "style": "IPY_MODEL_add62dec41b8487abfd7190694fd0013",
            "value": 1446815
          }
        },
        "ba5d4601adb14d6f89d59e6186eaa921": {
          "model_module": "@jupyter-widgets/controls",
          "model_name": "HTMLModel",
          "state": {
            "_dom_classes": [],
            "_model_module": "@jupyter-widgets/controls",
            "_model_module_version": "1.5.0",
            "_model_name": "HTMLModel",
            "_view_count": null,
            "_view_module": "@jupyter-widgets/controls",
            "_view_module_version": "1.5.0",
            "_view_name": "HTMLView",
            "description": "",
            "description_tooltip": null,
            "layout": "IPY_MODEL_bf319a8cf30c4c1784c1bfcecfcad729",
            "placeholder": "​",
            "style": "IPY_MODEL_d87e3dece6f64843a5b0b2c3c01ebfb8",
            "value": " 1446815/1446815 [00:10&lt;00:00, 142965.73it/s]"
          }
        },
        "2f91d4aa292543bc961271a2535a4260": {
          "model_module": "@jupyter-widgets/base",
          "model_name": "LayoutModel",
          "state": {
            "_model_module": "@jupyter-widgets/base",
            "_model_module_version": "1.2.0",
            "_model_name": "LayoutModel",
            "_view_count": null,
            "_view_module": "@jupyter-widgets/base",
            "_view_module_version": "1.2.0",
            "_view_name": "LayoutView",
            "align_content": null,
            "align_items": null,
            "align_self": null,
            "border": null,
            "bottom": null,
            "display": null,
            "flex": null,
            "flex_flow": null,
            "grid_area": null,
            "grid_auto_columns": null,
            "grid_auto_flow": null,
            "grid_auto_rows": null,
            "grid_column": null,
            "grid_gap": null,
            "grid_row": null,
            "grid_template_areas": null,
            "grid_template_columns": null,
            "grid_template_rows": null,
            "height": null,
            "justify_content": null,
            "justify_items": null,
            "left": null,
            "margin": null,
            "max_height": null,
            "max_width": null,
            "min_height": null,
            "min_width": null,
            "object_fit": null,
            "object_position": null,
            "order": null,
            "overflow": null,
            "overflow_x": null,
            "overflow_y": null,
            "padding": null,
            "right": null,
            "top": null,
            "visibility": null,
            "width": null
          }
        },
        "4c73859b02a941a0acc94c04f60e1342": {
          "model_module": "@jupyter-widgets/base",
          "model_name": "LayoutModel",
          "state": {
            "_model_module": "@jupyter-widgets/base",
            "_model_module_version": "1.2.0",
            "_model_name": "LayoutModel",
            "_view_count": null,
            "_view_module": "@jupyter-widgets/base",
            "_view_module_version": "1.2.0",
            "_view_name": "LayoutView",
            "align_content": null,
            "align_items": null,
            "align_self": null,
            "border": null,
            "bottom": null,
            "display": null,
            "flex": null,
            "flex_flow": null,
            "grid_area": null,
            "grid_auto_columns": null,
            "grid_auto_flow": null,
            "grid_auto_rows": null,
            "grid_column": null,
            "grid_gap": null,
            "grid_row": null,
            "grid_template_areas": null,
            "grid_template_columns": null,
            "grid_template_rows": null,
            "height": null,
            "justify_content": null,
            "justify_items": null,
            "left": null,
            "margin": null,
            "max_height": null,
            "max_width": null,
            "min_height": null,
            "min_width": null,
            "object_fit": null,
            "object_position": null,
            "order": null,
            "overflow": null,
            "overflow_x": null,
            "overflow_y": null,
            "padding": null,
            "right": null,
            "top": null,
            "visibility": null,
            "width": null
          }
        },
        "add62dec41b8487abfd7190694fd0013": {
          "model_module": "@jupyter-widgets/controls",
          "model_name": "ProgressStyleModel",
          "state": {
            "_model_module": "@jupyter-widgets/controls",
            "_model_module_version": "1.5.0",
            "_model_name": "ProgressStyleModel",
            "_view_count": null,
            "_view_module": "@jupyter-widgets/base",
            "_view_module_version": "1.2.0",
            "_view_name": "StyleView",
            "bar_color": null,
            "description_width": "initial"
          }
        },
        "bf319a8cf30c4c1784c1bfcecfcad729": {
          "model_module": "@jupyter-widgets/base",
          "model_name": "LayoutModel",
          "state": {
            "_model_module": "@jupyter-widgets/base",
            "_model_module_version": "1.2.0",
            "_model_name": "LayoutModel",
            "_view_count": null,
            "_view_module": "@jupyter-widgets/base",
            "_view_module_version": "1.2.0",
            "_view_name": "LayoutView",
            "align_content": null,
            "align_items": null,
            "align_self": null,
            "border": null,
            "bottom": null,
            "display": null,
            "flex": null,
            "flex_flow": null,
            "grid_area": null,
            "grid_auto_columns": null,
            "grid_auto_flow": null,
            "grid_auto_rows": null,
            "grid_column": null,
            "grid_gap": null,
            "grid_row": null,
            "grid_template_areas": null,
            "grid_template_columns": null,
            "grid_template_rows": null,
            "height": null,
            "justify_content": null,
            "justify_items": null,
            "left": null,
            "margin": null,
            "max_height": null,
            "max_width": null,
            "min_height": null,
            "min_width": null,
            "object_fit": null,
            "object_position": null,
            "order": null,
            "overflow": null,
            "overflow_x": null,
            "overflow_y": null,
            "padding": null,
            "right": null,
            "top": null,
            "visibility": null,
            "width": null
          }
        },
        "d87e3dece6f64843a5b0b2c3c01ebfb8": {
          "model_module": "@jupyter-widgets/controls",
          "model_name": "DescriptionStyleModel",
          "state": {
            "_model_module": "@jupyter-widgets/controls",
            "_model_module_version": "1.5.0",
            "_model_name": "DescriptionStyleModel",
            "_view_count": null,
            "_view_module": "@jupyter-widgets/base",
            "_view_module_version": "1.2.0",
            "_view_name": "StyleView",
            "description_width": ""
          }
        },
        "75b7d522586740448ca710437a2fd4e5": {
          "model_module": "@jupyter-widgets/controls",
          "model_name": "HBoxModel",
          "state": {
            "_dom_classes": [],
            "_model_module": "@jupyter-widgets/controls",
            "_model_module_version": "1.5.0",
            "_model_name": "HBoxModel",
            "_view_count": null,
            "_view_module": "@jupyter-widgets/controls",
            "_view_module_version": "1.5.0",
            "_view_name": "HBoxView",
            "box_style": "",
            "children": [
              "IPY_MODEL_b8790e287717492e9401e31daffe1dd8",
              "IPY_MODEL_c0ebd3469c494c99b81b333a7890e897"
            ],
            "layout": "IPY_MODEL_c09585e03122477791e33503dafb978d"
          }
        },
        "b8790e287717492e9401e31daffe1dd8": {
          "model_module": "@jupyter-widgets/controls",
          "model_name": "FloatProgressModel",
          "state": {
            "_dom_classes": [],
            "_model_module": "@jupyter-widgets/controls",
            "_model_module_version": "1.5.0",
            "_model_name": "FloatProgressModel",
            "_view_count": null,
            "_view_module": "@jupyter-widgets/controls",
            "_view_module_version": "1.5.0",
            "_view_name": "ProgressView",
            "bar_style": "success",
            "description": "100%",
            "description_tooltip": null,
            "layout": "IPY_MODEL_186d35b92bc34904b1b47ecbb3306be0",
            "max": 1446815,
            "min": 0,
            "orientation": "horizontal",
            "style": "IPY_MODEL_2d2b144d8d474ecf8f2f254797fde4c5",
            "value": 1446815
          }
        },
        "c0ebd3469c494c99b81b333a7890e897": {
          "model_module": "@jupyter-widgets/controls",
          "model_name": "HTMLModel",
          "state": {
            "_dom_classes": [],
            "_model_module": "@jupyter-widgets/controls",
            "_model_module_version": "1.5.0",
            "_model_name": "HTMLModel",
            "_view_count": null,
            "_view_module": "@jupyter-widgets/controls",
            "_view_module_version": "1.5.0",
            "_view_name": "HTMLView",
            "description": "",
            "description_tooltip": null,
            "layout": "IPY_MODEL_546b264c785046bba493d99b9290c16c",
            "placeholder": "​",
            "style": "IPY_MODEL_a0d63caa5e274976b03b833b65d7780b",
            "value": " 1446815/1446815 [00:29&lt;00:00, 48984.99it/s]"
          }
        },
        "c09585e03122477791e33503dafb978d": {
          "model_module": "@jupyter-widgets/base",
          "model_name": "LayoutModel",
          "state": {
            "_model_module": "@jupyter-widgets/base",
            "_model_module_version": "1.2.0",
            "_model_name": "LayoutModel",
            "_view_count": null,
            "_view_module": "@jupyter-widgets/base",
            "_view_module_version": "1.2.0",
            "_view_name": "LayoutView",
            "align_content": null,
            "align_items": null,
            "align_self": null,
            "border": null,
            "bottom": null,
            "display": null,
            "flex": null,
            "flex_flow": null,
            "grid_area": null,
            "grid_auto_columns": null,
            "grid_auto_flow": null,
            "grid_auto_rows": null,
            "grid_column": null,
            "grid_gap": null,
            "grid_row": null,
            "grid_template_areas": null,
            "grid_template_columns": null,
            "grid_template_rows": null,
            "height": null,
            "justify_content": null,
            "justify_items": null,
            "left": null,
            "margin": null,
            "max_height": null,
            "max_width": null,
            "min_height": null,
            "min_width": null,
            "object_fit": null,
            "object_position": null,
            "order": null,
            "overflow": null,
            "overflow_x": null,
            "overflow_y": null,
            "padding": null,
            "right": null,
            "top": null,
            "visibility": null,
            "width": null
          }
        },
        "186d35b92bc34904b1b47ecbb3306be0": {
          "model_module": "@jupyter-widgets/base",
          "model_name": "LayoutModel",
          "state": {
            "_model_module": "@jupyter-widgets/base",
            "_model_module_version": "1.2.0",
            "_model_name": "LayoutModel",
            "_view_count": null,
            "_view_module": "@jupyter-widgets/base",
            "_view_module_version": "1.2.0",
            "_view_name": "LayoutView",
            "align_content": null,
            "align_items": null,
            "align_self": null,
            "border": null,
            "bottom": null,
            "display": null,
            "flex": null,
            "flex_flow": null,
            "grid_area": null,
            "grid_auto_columns": null,
            "grid_auto_flow": null,
            "grid_auto_rows": null,
            "grid_column": null,
            "grid_gap": null,
            "grid_row": null,
            "grid_template_areas": null,
            "grid_template_columns": null,
            "grid_template_rows": null,
            "height": null,
            "justify_content": null,
            "justify_items": null,
            "left": null,
            "margin": null,
            "max_height": null,
            "max_width": null,
            "min_height": null,
            "min_width": null,
            "object_fit": null,
            "object_position": null,
            "order": null,
            "overflow": null,
            "overflow_x": null,
            "overflow_y": null,
            "padding": null,
            "right": null,
            "top": null,
            "visibility": null,
            "width": null
          }
        },
        "2d2b144d8d474ecf8f2f254797fde4c5": {
          "model_module": "@jupyter-widgets/controls",
          "model_name": "ProgressStyleModel",
          "state": {
            "_model_module": "@jupyter-widgets/controls",
            "_model_module_version": "1.5.0",
            "_model_name": "ProgressStyleModel",
            "_view_count": null,
            "_view_module": "@jupyter-widgets/base",
            "_view_module_version": "1.2.0",
            "_view_name": "StyleView",
            "bar_color": null,
            "description_width": "initial"
          }
        },
        "546b264c785046bba493d99b9290c16c": {
          "model_module": "@jupyter-widgets/base",
          "model_name": "LayoutModel",
          "state": {
            "_model_module": "@jupyter-widgets/base",
            "_model_module_version": "1.2.0",
            "_model_name": "LayoutModel",
            "_view_count": null,
            "_view_module": "@jupyter-widgets/base",
            "_view_module_version": "1.2.0",
            "_view_name": "LayoutView",
            "align_content": null,
            "align_items": null,
            "align_self": null,
            "border": null,
            "bottom": null,
            "display": null,
            "flex": null,
            "flex_flow": null,
            "grid_area": null,
            "grid_auto_columns": null,
            "grid_auto_flow": null,
            "grid_auto_rows": null,
            "grid_column": null,
            "grid_gap": null,
            "grid_row": null,
            "grid_template_areas": null,
            "grid_template_columns": null,
            "grid_template_rows": null,
            "height": null,
            "justify_content": null,
            "justify_items": null,
            "left": null,
            "margin": null,
            "max_height": null,
            "max_width": null,
            "min_height": null,
            "min_width": null,
            "object_fit": null,
            "object_position": null,
            "order": null,
            "overflow": null,
            "overflow_x": null,
            "overflow_y": null,
            "padding": null,
            "right": null,
            "top": null,
            "visibility": null,
            "width": null
          }
        },
        "a0d63caa5e274976b03b833b65d7780b": {
          "model_module": "@jupyter-widgets/controls",
          "model_name": "DescriptionStyleModel",
          "state": {
            "_model_module": "@jupyter-widgets/controls",
            "_model_module_version": "1.5.0",
            "_model_name": "DescriptionStyleModel",
            "_view_count": null,
            "_view_module": "@jupyter-widgets/base",
            "_view_module_version": "1.2.0",
            "_view_name": "StyleView",
            "description_width": ""
          }
        },
        "1cbf563dda734096b98f73726f29a2a3": {
          "model_module": "@jupyter-widgets/controls",
          "model_name": "HBoxModel",
          "state": {
            "_dom_classes": [],
            "_model_module": "@jupyter-widgets/controls",
            "_model_module_version": "1.5.0",
            "_model_name": "HBoxModel",
            "_view_count": null,
            "_view_module": "@jupyter-widgets/controls",
            "_view_module_version": "1.5.0",
            "_view_name": "HBoxView",
            "box_style": "",
            "children": [
              "IPY_MODEL_13088ea929a94e3694cb6ec413f80d05",
              "IPY_MODEL_526cec527f6b4f2783e1ef0d547bc8b0"
            ],
            "layout": "IPY_MODEL_c3887f811cad4856bd56b94e97951ce5"
          }
        },
        "13088ea929a94e3694cb6ec413f80d05": {
          "model_module": "@jupyter-widgets/controls",
          "model_name": "FloatProgressModel",
          "state": {
            "_dom_classes": [],
            "_model_module": "@jupyter-widgets/controls",
            "_model_module_version": "1.5.0",
            "_model_name": "FloatProgressModel",
            "_view_count": null,
            "_view_module": "@jupyter-widgets/controls",
            "_view_module_version": "1.5.0",
            "_view_name": "ProgressView",
            "bar_style": "success",
            "description": "100%",
            "description_tooltip": null,
            "layout": "IPY_MODEL_c8f0cdc84fc644bc968b64b2295eff95",
            "max": 1446815,
            "min": 0,
            "orientation": "horizontal",
            "style": "IPY_MODEL_5c0b1fb8018c46728aab496c09bfbd2d",
            "value": 1446815
          }
        },
        "526cec527f6b4f2783e1ef0d547bc8b0": {
          "model_module": "@jupyter-widgets/controls",
          "model_name": "HTMLModel",
          "state": {
            "_dom_classes": [],
            "_model_module": "@jupyter-widgets/controls",
            "_model_module_version": "1.5.0",
            "_model_name": "HTMLModel",
            "_view_count": null,
            "_view_module": "@jupyter-widgets/controls",
            "_view_module_version": "1.5.0",
            "_view_name": "HTMLView",
            "description": "",
            "description_tooltip": null,
            "layout": "IPY_MODEL_ec3a4f6119544d3e806c3bb4239cd8a4",
            "placeholder": "​",
            "style": "IPY_MODEL_6d23a38cacd945ac9212a9de4ca71ec6",
            "value": " 1446815/1446815 [00:24&lt;00:00, 59290.83it/s]"
          }
        },
        "c3887f811cad4856bd56b94e97951ce5": {
          "model_module": "@jupyter-widgets/base",
          "model_name": "LayoutModel",
          "state": {
            "_model_module": "@jupyter-widgets/base",
            "_model_module_version": "1.2.0",
            "_model_name": "LayoutModel",
            "_view_count": null,
            "_view_module": "@jupyter-widgets/base",
            "_view_module_version": "1.2.0",
            "_view_name": "LayoutView",
            "align_content": null,
            "align_items": null,
            "align_self": null,
            "border": null,
            "bottom": null,
            "display": null,
            "flex": null,
            "flex_flow": null,
            "grid_area": null,
            "grid_auto_columns": null,
            "grid_auto_flow": null,
            "grid_auto_rows": null,
            "grid_column": null,
            "grid_gap": null,
            "grid_row": null,
            "grid_template_areas": null,
            "grid_template_columns": null,
            "grid_template_rows": null,
            "height": null,
            "justify_content": null,
            "justify_items": null,
            "left": null,
            "margin": null,
            "max_height": null,
            "max_width": null,
            "min_height": null,
            "min_width": null,
            "object_fit": null,
            "object_position": null,
            "order": null,
            "overflow": null,
            "overflow_x": null,
            "overflow_y": null,
            "padding": null,
            "right": null,
            "top": null,
            "visibility": null,
            "width": null
          }
        },
        "c8f0cdc84fc644bc968b64b2295eff95": {
          "model_module": "@jupyter-widgets/base",
          "model_name": "LayoutModel",
          "state": {
            "_model_module": "@jupyter-widgets/base",
            "_model_module_version": "1.2.0",
            "_model_name": "LayoutModel",
            "_view_count": null,
            "_view_module": "@jupyter-widgets/base",
            "_view_module_version": "1.2.0",
            "_view_name": "LayoutView",
            "align_content": null,
            "align_items": null,
            "align_self": null,
            "border": null,
            "bottom": null,
            "display": null,
            "flex": null,
            "flex_flow": null,
            "grid_area": null,
            "grid_auto_columns": null,
            "grid_auto_flow": null,
            "grid_auto_rows": null,
            "grid_column": null,
            "grid_gap": null,
            "grid_row": null,
            "grid_template_areas": null,
            "grid_template_columns": null,
            "grid_template_rows": null,
            "height": null,
            "justify_content": null,
            "justify_items": null,
            "left": null,
            "margin": null,
            "max_height": null,
            "max_width": null,
            "min_height": null,
            "min_width": null,
            "object_fit": null,
            "object_position": null,
            "order": null,
            "overflow": null,
            "overflow_x": null,
            "overflow_y": null,
            "padding": null,
            "right": null,
            "top": null,
            "visibility": null,
            "width": null
          }
        },
        "5c0b1fb8018c46728aab496c09bfbd2d": {
          "model_module": "@jupyter-widgets/controls",
          "model_name": "ProgressStyleModel",
          "state": {
            "_model_module": "@jupyter-widgets/controls",
            "_model_module_version": "1.5.0",
            "_model_name": "ProgressStyleModel",
            "_view_count": null,
            "_view_module": "@jupyter-widgets/base",
            "_view_module_version": "1.2.0",
            "_view_name": "StyleView",
            "bar_color": null,
            "description_width": "initial"
          }
        },
        "ec3a4f6119544d3e806c3bb4239cd8a4": {
          "model_module": "@jupyter-widgets/base",
          "model_name": "LayoutModel",
          "state": {
            "_model_module": "@jupyter-widgets/base",
            "_model_module_version": "1.2.0",
            "_model_name": "LayoutModel",
            "_view_count": null,
            "_view_module": "@jupyter-widgets/base",
            "_view_module_version": "1.2.0",
            "_view_name": "LayoutView",
            "align_content": null,
            "align_items": null,
            "align_self": null,
            "border": null,
            "bottom": null,
            "display": null,
            "flex": null,
            "flex_flow": null,
            "grid_area": null,
            "grid_auto_columns": null,
            "grid_auto_flow": null,
            "grid_auto_rows": null,
            "grid_column": null,
            "grid_gap": null,
            "grid_row": null,
            "grid_template_areas": null,
            "grid_template_columns": null,
            "grid_template_rows": null,
            "height": null,
            "justify_content": null,
            "justify_items": null,
            "left": null,
            "margin": null,
            "max_height": null,
            "max_width": null,
            "min_height": null,
            "min_width": null,
            "object_fit": null,
            "object_position": null,
            "order": null,
            "overflow": null,
            "overflow_x": null,
            "overflow_y": null,
            "padding": null,
            "right": null,
            "top": null,
            "visibility": null,
            "width": null
          }
        },
        "6d23a38cacd945ac9212a9de4ca71ec6": {
          "model_module": "@jupyter-widgets/controls",
          "model_name": "DescriptionStyleModel",
          "state": {
            "_model_module": "@jupyter-widgets/controls",
            "_model_module_version": "1.5.0",
            "_model_name": "DescriptionStyleModel",
            "_view_count": null,
            "_view_module": "@jupyter-widgets/base",
            "_view_module_version": "1.2.0",
            "_view_name": "StyleView",
            "description_width": ""
          }
        },
        "eacd4a032b6e4629a7b0bc87b5181c6c": {
          "model_module": "@jupyter-widgets/controls",
          "model_name": "HBoxModel",
          "state": {
            "_dom_classes": [],
            "_model_module": "@jupyter-widgets/controls",
            "_model_module_version": "1.5.0",
            "_model_name": "HBoxModel",
            "_view_count": null,
            "_view_module": "@jupyter-widgets/controls",
            "_view_module_version": "1.5.0",
            "_view_name": "HBoxView",
            "box_style": "",
            "children": [
              "IPY_MODEL_6395bea71ee943b3a8bb518fe3abb385",
              "IPY_MODEL_cbac14ac803e439f9f8f3f2909dc7968"
            ],
            "layout": "IPY_MODEL_c490651dd7ef4686b1692d87bb1a0903"
          }
        },
        "6395bea71ee943b3a8bb518fe3abb385": {
          "model_module": "@jupyter-widgets/controls",
          "model_name": "FloatProgressModel",
          "state": {
            "_dom_classes": [],
            "_model_module": "@jupyter-widgets/controls",
            "_model_module_version": "1.5.0",
            "_model_name": "FloatProgressModel",
            "_view_count": null,
            "_view_module": "@jupyter-widgets/controls",
            "_view_module_version": "1.5.0",
            "_view_name": "ProgressView",
            "bar_style": "success",
            "description": "100%",
            "description_tooltip": null,
            "layout": "IPY_MODEL_427f7fca672b43fa8f6f32e8e94e7889",
            "max": 1446815,
            "min": 0,
            "orientation": "horizontal",
            "style": "IPY_MODEL_3da8d9d7e05f4583822669c3bb1a8ac5",
            "value": 1446815
          }
        },
        "cbac14ac803e439f9f8f3f2909dc7968": {
          "model_module": "@jupyter-widgets/controls",
          "model_name": "HTMLModel",
          "state": {
            "_dom_classes": [],
            "_model_module": "@jupyter-widgets/controls",
            "_model_module_version": "1.5.0",
            "_model_name": "HTMLModel",
            "_view_count": null,
            "_view_module": "@jupyter-widgets/controls",
            "_view_module_version": "1.5.0",
            "_view_name": "HTMLView",
            "description": "",
            "description_tooltip": null,
            "layout": "IPY_MODEL_55ee54887b1c40d9ab02bb3679eef1b9",
            "placeholder": "​",
            "style": "IPY_MODEL_0faa9a620c8344a4a9c68e598dcbddf1",
            "value": " 1446815/1446815 [00:46&lt;00:00, 31394.18it/s]"
          }
        },
        "c490651dd7ef4686b1692d87bb1a0903": {
          "model_module": "@jupyter-widgets/base",
          "model_name": "LayoutModel",
          "state": {
            "_model_module": "@jupyter-widgets/base",
            "_model_module_version": "1.2.0",
            "_model_name": "LayoutModel",
            "_view_count": null,
            "_view_module": "@jupyter-widgets/base",
            "_view_module_version": "1.2.0",
            "_view_name": "LayoutView",
            "align_content": null,
            "align_items": null,
            "align_self": null,
            "border": null,
            "bottom": null,
            "display": null,
            "flex": null,
            "flex_flow": null,
            "grid_area": null,
            "grid_auto_columns": null,
            "grid_auto_flow": null,
            "grid_auto_rows": null,
            "grid_column": null,
            "grid_gap": null,
            "grid_row": null,
            "grid_template_areas": null,
            "grid_template_columns": null,
            "grid_template_rows": null,
            "height": null,
            "justify_content": null,
            "justify_items": null,
            "left": null,
            "margin": null,
            "max_height": null,
            "max_width": null,
            "min_height": null,
            "min_width": null,
            "object_fit": null,
            "object_position": null,
            "order": null,
            "overflow": null,
            "overflow_x": null,
            "overflow_y": null,
            "padding": null,
            "right": null,
            "top": null,
            "visibility": null,
            "width": null
          }
        },
        "427f7fca672b43fa8f6f32e8e94e7889": {
          "model_module": "@jupyter-widgets/base",
          "model_name": "LayoutModel",
          "state": {
            "_model_module": "@jupyter-widgets/base",
            "_model_module_version": "1.2.0",
            "_model_name": "LayoutModel",
            "_view_count": null,
            "_view_module": "@jupyter-widgets/base",
            "_view_module_version": "1.2.0",
            "_view_name": "LayoutView",
            "align_content": null,
            "align_items": null,
            "align_self": null,
            "border": null,
            "bottom": null,
            "display": null,
            "flex": null,
            "flex_flow": null,
            "grid_area": null,
            "grid_auto_columns": null,
            "grid_auto_flow": null,
            "grid_auto_rows": null,
            "grid_column": null,
            "grid_gap": null,
            "grid_row": null,
            "grid_template_areas": null,
            "grid_template_columns": null,
            "grid_template_rows": null,
            "height": null,
            "justify_content": null,
            "justify_items": null,
            "left": null,
            "margin": null,
            "max_height": null,
            "max_width": null,
            "min_height": null,
            "min_width": null,
            "object_fit": null,
            "object_position": null,
            "order": null,
            "overflow": null,
            "overflow_x": null,
            "overflow_y": null,
            "padding": null,
            "right": null,
            "top": null,
            "visibility": null,
            "width": null
          }
        },
        "3da8d9d7e05f4583822669c3bb1a8ac5": {
          "model_module": "@jupyter-widgets/controls",
          "model_name": "ProgressStyleModel",
          "state": {
            "_model_module": "@jupyter-widgets/controls",
            "_model_module_version": "1.5.0",
            "_model_name": "ProgressStyleModel",
            "_view_count": null,
            "_view_module": "@jupyter-widgets/base",
            "_view_module_version": "1.2.0",
            "_view_name": "StyleView",
            "bar_color": null,
            "description_width": "initial"
          }
        },
        "55ee54887b1c40d9ab02bb3679eef1b9": {
          "model_module": "@jupyter-widgets/base",
          "model_name": "LayoutModel",
          "state": {
            "_model_module": "@jupyter-widgets/base",
            "_model_module_version": "1.2.0",
            "_model_name": "LayoutModel",
            "_view_count": null,
            "_view_module": "@jupyter-widgets/base",
            "_view_module_version": "1.2.0",
            "_view_name": "LayoutView",
            "align_content": null,
            "align_items": null,
            "align_self": null,
            "border": null,
            "bottom": null,
            "display": null,
            "flex": null,
            "flex_flow": null,
            "grid_area": null,
            "grid_auto_columns": null,
            "grid_auto_flow": null,
            "grid_auto_rows": null,
            "grid_column": null,
            "grid_gap": null,
            "grid_row": null,
            "grid_template_areas": null,
            "grid_template_columns": null,
            "grid_template_rows": null,
            "height": null,
            "justify_content": null,
            "justify_items": null,
            "left": null,
            "margin": null,
            "max_height": null,
            "max_width": null,
            "min_height": null,
            "min_width": null,
            "object_fit": null,
            "object_position": null,
            "order": null,
            "overflow": null,
            "overflow_x": null,
            "overflow_y": null,
            "padding": null,
            "right": null,
            "top": null,
            "visibility": null,
            "width": null
          }
        },
        "0faa9a620c8344a4a9c68e598dcbddf1": {
          "model_module": "@jupyter-widgets/controls",
          "model_name": "DescriptionStyleModel",
          "state": {
            "_model_module": "@jupyter-widgets/controls",
            "_model_module_version": "1.5.0",
            "_model_name": "DescriptionStyleModel",
            "_view_count": null,
            "_view_module": "@jupyter-widgets/base",
            "_view_module_version": "1.2.0",
            "_view_name": "StyleView",
            "description_width": ""
          }
        },
        "ec4bd47d43ea49e494f87fb87695d2d4": {
          "model_module": "@jupyter-widgets/controls",
          "model_name": "HBoxModel",
          "state": {
            "_dom_classes": [],
            "_model_module": "@jupyter-widgets/controls",
            "_model_module_version": "1.5.0",
            "_model_name": "HBoxModel",
            "_view_count": null,
            "_view_module": "@jupyter-widgets/controls",
            "_view_module_version": "1.5.0",
            "_view_name": "HBoxView",
            "box_style": "",
            "children": [
              "IPY_MODEL_e39dce51d7064a3bb0210df567446c32",
              "IPY_MODEL_b0184047637b4b29933603cc0cbcc7cc"
            ],
            "layout": "IPY_MODEL_26b97ec1f3304a608b4db6873fa1c827"
          }
        },
        "e39dce51d7064a3bb0210df567446c32": {
          "model_module": "@jupyter-widgets/controls",
          "model_name": "FloatProgressModel",
          "state": {
            "_dom_classes": [],
            "_model_module": "@jupyter-widgets/controls",
            "_model_module_version": "1.5.0",
            "_model_name": "FloatProgressModel",
            "_view_count": null,
            "_view_module": "@jupyter-widgets/controls",
            "_view_module_version": "1.5.0",
            "_view_name": "ProgressView",
            "bar_style": "success",
            "description": "100%",
            "description_tooltip": null,
            "layout": "IPY_MODEL_9d0b0da382f4431d800be5fb52cf3951",
            "max": 1446815,
            "min": 0,
            "orientation": "horizontal",
            "style": "IPY_MODEL_f039f675226742a6b73e021554c8a12d",
            "value": 1446815
          }
        },
        "b0184047637b4b29933603cc0cbcc7cc": {
          "model_module": "@jupyter-widgets/controls",
          "model_name": "HTMLModel",
          "state": {
            "_dom_classes": [],
            "_model_module": "@jupyter-widgets/controls",
            "_model_module_version": "1.5.0",
            "_model_name": "HTMLModel",
            "_view_count": null,
            "_view_module": "@jupyter-widgets/controls",
            "_view_module_version": "1.5.0",
            "_view_name": "HTMLView",
            "description": "",
            "description_tooltip": null,
            "layout": "IPY_MODEL_7fe47910608548aea6d34e85f3881b4a",
            "placeholder": "​",
            "style": "IPY_MODEL_316483153d184a4284986762ea3f2fcf",
            "value": " 1446815/1446815 [00:04&lt;00:00, 325626.80it/s]"
          }
        },
        "26b97ec1f3304a608b4db6873fa1c827": {
          "model_module": "@jupyter-widgets/base",
          "model_name": "LayoutModel",
          "state": {
            "_model_module": "@jupyter-widgets/base",
            "_model_module_version": "1.2.0",
            "_model_name": "LayoutModel",
            "_view_count": null,
            "_view_module": "@jupyter-widgets/base",
            "_view_module_version": "1.2.0",
            "_view_name": "LayoutView",
            "align_content": null,
            "align_items": null,
            "align_self": null,
            "border": null,
            "bottom": null,
            "display": null,
            "flex": null,
            "flex_flow": null,
            "grid_area": null,
            "grid_auto_columns": null,
            "grid_auto_flow": null,
            "grid_auto_rows": null,
            "grid_column": null,
            "grid_gap": null,
            "grid_row": null,
            "grid_template_areas": null,
            "grid_template_columns": null,
            "grid_template_rows": null,
            "height": null,
            "justify_content": null,
            "justify_items": null,
            "left": null,
            "margin": null,
            "max_height": null,
            "max_width": null,
            "min_height": null,
            "min_width": null,
            "object_fit": null,
            "object_position": null,
            "order": null,
            "overflow": null,
            "overflow_x": null,
            "overflow_y": null,
            "padding": null,
            "right": null,
            "top": null,
            "visibility": null,
            "width": null
          }
        },
        "9d0b0da382f4431d800be5fb52cf3951": {
          "model_module": "@jupyter-widgets/base",
          "model_name": "LayoutModel",
          "state": {
            "_model_module": "@jupyter-widgets/base",
            "_model_module_version": "1.2.0",
            "_model_name": "LayoutModel",
            "_view_count": null,
            "_view_module": "@jupyter-widgets/base",
            "_view_module_version": "1.2.0",
            "_view_name": "LayoutView",
            "align_content": null,
            "align_items": null,
            "align_self": null,
            "border": null,
            "bottom": null,
            "display": null,
            "flex": null,
            "flex_flow": null,
            "grid_area": null,
            "grid_auto_columns": null,
            "grid_auto_flow": null,
            "grid_auto_rows": null,
            "grid_column": null,
            "grid_gap": null,
            "grid_row": null,
            "grid_template_areas": null,
            "grid_template_columns": null,
            "grid_template_rows": null,
            "height": null,
            "justify_content": null,
            "justify_items": null,
            "left": null,
            "margin": null,
            "max_height": null,
            "max_width": null,
            "min_height": null,
            "min_width": null,
            "object_fit": null,
            "object_position": null,
            "order": null,
            "overflow": null,
            "overflow_x": null,
            "overflow_y": null,
            "padding": null,
            "right": null,
            "top": null,
            "visibility": null,
            "width": null
          }
        },
        "f039f675226742a6b73e021554c8a12d": {
          "model_module": "@jupyter-widgets/controls",
          "model_name": "ProgressStyleModel",
          "state": {
            "_model_module": "@jupyter-widgets/controls",
            "_model_module_version": "1.5.0",
            "_model_name": "ProgressStyleModel",
            "_view_count": null,
            "_view_module": "@jupyter-widgets/base",
            "_view_module_version": "1.2.0",
            "_view_name": "StyleView",
            "bar_color": null,
            "description_width": "initial"
          }
        },
        "7fe47910608548aea6d34e85f3881b4a": {
          "model_module": "@jupyter-widgets/base",
          "model_name": "LayoutModel",
          "state": {
            "_model_module": "@jupyter-widgets/base",
            "_model_module_version": "1.2.0",
            "_model_name": "LayoutModel",
            "_view_count": null,
            "_view_module": "@jupyter-widgets/base",
            "_view_module_version": "1.2.0",
            "_view_name": "LayoutView",
            "align_content": null,
            "align_items": null,
            "align_self": null,
            "border": null,
            "bottom": null,
            "display": null,
            "flex": null,
            "flex_flow": null,
            "grid_area": null,
            "grid_auto_columns": null,
            "grid_auto_flow": null,
            "grid_auto_rows": null,
            "grid_column": null,
            "grid_gap": null,
            "grid_row": null,
            "grid_template_areas": null,
            "grid_template_columns": null,
            "grid_template_rows": null,
            "height": null,
            "justify_content": null,
            "justify_items": null,
            "left": null,
            "margin": null,
            "max_height": null,
            "max_width": null,
            "min_height": null,
            "min_width": null,
            "object_fit": null,
            "object_position": null,
            "order": null,
            "overflow": null,
            "overflow_x": null,
            "overflow_y": null,
            "padding": null,
            "right": null,
            "top": null,
            "visibility": null,
            "width": null
          }
        },
        "316483153d184a4284986762ea3f2fcf": {
          "model_module": "@jupyter-widgets/controls",
          "model_name": "DescriptionStyleModel",
          "state": {
            "_model_module": "@jupyter-widgets/controls",
            "_model_module_version": "1.5.0",
            "_model_name": "DescriptionStyleModel",
            "_view_count": null,
            "_view_module": "@jupyter-widgets/base",
            "_view_module_version": "1.2.0",
            "_view_name": "StyleView",
            "description_width": ""
          }
        },
        "8fdae9ee26d246898ade477e8e660037": {
          "model_module": "@jupyter-widgets/controls",
          "model_name": "HBoxModel",
          "state": {
            "_dom_classes": [],
            "_model_module": "@jupyter-widgets/controls",
            "_model_module_version": "1.5.0",
            "_model_name": "HBoxModel",
            "_view_count": null,
            "_view_module": "@jupyter-widgets/controls",
            "_view_module_version": "1.5.0",
            "_view_name": "HBoxView",
            "box_style": "",
            "children": [
              "IPY_MODEL_f0c09cd996ce4bf18b3ee55ec12ca4b7",
              "IPY_MODEL_735c8dd912bf40b08e7e5a9d5bb3777a"
            ],
            "layout": "IPY_MODEL_c7cecfcdd80641919c43a3aa37b535df"
          }
        },
        "f0c09cd996ce4bf18b3ee55ec12ca4b7": {
          "model_module": "@jupyter-widgets/controls",
          "model_name": "FloatProgressModel",
          "state": {
            "_dom_classes": [],
            "_model_module": "@jupyter-widgets/controls",
            "_model_module_version": "1.5.0",
            "_model_name": "FloatProgressModel",
            "_view_count": null,
            "_view_module": "@jupyter-widgets/controls",
            "_view_module_version": "1.5.0",
            "_view_name": "ProgressView",
            "bar_style": "success",
            "description": "100%",
            "description_tooltip": null,
            "layout": "IPY_MODEL_46d18e6855224d21a554c1f9fda2e05b",
            "max": 693359,
            "min": 0,
            "orientation": "horizontal",
            "style": "IPY_MODEL_cf4d40fbe645486f97d2d930c04850db",
            "value": 693359
          }
        },
        "735c8dd912bf40b08e7e5a9d5bb3777a": {
          "model_module": "@jupyter-widgets/controls",
          "model_name": "HTMLModel",
          "state": {
            "_dom_classes": [],
            "_model_module": "@jupyter-widgets/controls",
            "_model_module_version": "1.5.0",
            "_model_name": "HTMLModel",
            "_view_count": null,
            "_view_module": "@jupyter-widgets/controls",
            "_view_module_version": "1.5.0",
            "_view_name": "HTMLView",
            "description": "",
            "description_tooltip": null,
            "layout": "IPY_MODEL_09ff7caabd6d4a44ad18101888ea56ef",
            "placeholder": "​",
            "style": "IPY_MODEL_aca8a9e138e5450d9ded4e708912b4d8",
            "value": " 693359/693359 [01:06&lt;00:00, 10476.13it/s]"
          }
        },
        "c7cecfcdd80641919c43a3aa37b535df": {
          "model_module": "@jupyter-widgets/base",
          "model_name": "LayoutModel",
          "state": {
            "_model_module": "@jupyter-widgets/base",
            "_model_module_version": "1.2.0",
            "_model_name": "LayoutModel",
            "_view_count": null,
            "_view_module": "@jupyter-widgets/base",
            "_view_module_version": "1.2.0",
            "_view_name": "LayoutView",
            "align_content": null,
            "align_items": null,
            "align_self": null,
            "border": null,
            "bottom": null,
            "display": null,
            "flex": null,
            "flex_flow": null,
            "grid_area": null,
            "grid_auto_columns": null,
            "grid_auto_flow": null,
            "grid_auto_rows": null,
            "grid_column": null,
            "grid_gap": null,
            "grid_row": null,
            "grid_template_areas": null,
            "grid_template_columns": null,
            "grid_template_rows": null,
            "height": null,
            "justify_content": null,
            "justify_items": null,
            "left": null,
            "margin": null,
            "max_height": null,
            "max_width": null,
            "min_height": null,
            "min_width": null,
            "object_fit": null,
            "object_position": null,
            "order": null,
            "overflow": null,
            "overflow_x": null,
            "overflow_y": null,
            "padding": null,
            "right": null,
            "top": null,
            "visibility": null,
            "width": null
          }
        },
        "46d18e6855224d21a554c1f9fda2e05b": {
          "model_module": "@jupyter-widgets/base",
          "model_name": "LayoutModel",
          "state": {
            "_model_module": "@jupyter-widgets/base",
            "_model_module_version": "1.2.0",
            "_model_name": "LayoutModel",
            "_view_count": null,
            "_view_module": "@jupyter-widgets/base",
            "_view_module_version": "1.2.0",
            "_view_name": "LayoutView",
            "align_content": null,
            "align_items": null,
            "align_self": null,
            "border": null,
            "bottom": null,
            "display": null,
            "flex": null,
            "flex_flow": null,
            "grid_area": null,
            "grid_auto_columns": null,
            "grid_auto_flow": null,
            "grid_auto_rows": null,
            "grid_column": null,
            "grid_gap": null,
            "grid_row": null,
            "grid_template_areas": null,
            "grid_template_columns": null,
            "grid_template_rows": null,
            "height": null,
            "justify_content": null,
            "justify_items": null,
            "left": null,
            "margin": null,
            "max_height": null,
            "max_width": null,
            "min_height": null,
            "min_width": null,
            "object_fit": null,
            "object_position": null,
            "order": null,
            "overflow": null,
            "overflow_x": null,
            "overflow_y": null,
            "padding": null,
            "right": null,
            "top": null,
            "visibility": null,
            "width": null
          }
        },
        "cf4d40fbe645486f97d2d930c04850db": {
          "model_module": "@jupyter-widgets/controls",
          "model_name": "ProgressStyleModel",
          "state": {
            "_model_module": "@jupyter-widgets/controls",
            "_model_module_version": "1.5.0",
            "_model_name": "ProgressStyleModel",
            "_view_count": null,
            "_view_module": "@jupyter-widgets/base",
            "_view_module_version": "1.2.0",
            "_view_name": "StyleView",
            "bar_color": null,
            "description_width": "initial"
          }
        },
        "09ff7caabd6d4a44ad18101888ea56ef": {
          "model_module": "@jupyter-widgets/base",
          "model_name": "LayoutModel",
          "state": {
            "_model_module": "@jupyter-widgets/base",
            "_model_module_version": "1.2.0",
            "_model_name": "LayoutModel",
            "_view_count": null,
            "_view_module": "@jupyter-widgets/base",
            "_view_module_version": "1.2.0",
            "_view_name": "LayoutView",
            "align_content": null,
            "align_items": null,
            "align_self": null,
            "border": null,
            "bottom": null,
            "display": null,
            "flex": null,
            "flex_flow": null,
            "grid_area": null,
            "grid_auto_columns": null,
            "grid_auto_flow": null,
            "grid_auto_rows": null,
            "grid_column": null,
            "grid_gap": null,
            "grid_row": null,
            "grid_template_areas": null,
            "grid_template_columns": null,
            "grid_template_rows": null,
            "height": null,
            "justify_content": null,
            "justify_items": null,
            "left": null,
            "margin": null,
            "max_height": null,
            "max_width": null,
            "min_height": null,
            "min_width": null,
            "object_fit": null,
            "object_position": null,
            "order": null,
            "overflow": null,
            "overflow_x": null,
            "overflow_y": null,
            "padding": null,
            "right": null,
            "top": null,
            "visibility": null,
            "width": null
          }
        },
        "aca8a9e138e5450d9ded4e708912b4d8": {
          "model_module": "@jupyter-widgets/controls",
          "model_name": "DescriptionStyleModel",
          "state": {
            "_model_module": "@jupyter-widgets/controls",
            "_model_module_version": "1.5.0",
            "_model_name": "DescriptionStyleModel",
            "_view_count": null,
            "_view_module": "@jupyter-widgets/base",
            "_view_module_version": "1.2.0",
            "_view_name": "StyleView",
            "description_width": ""
          }
        },
        "a9c1f211766c40b7bc45a93f46c89c41": {
          "model_module": "@jupyter-widgets/controls",
          "model_name": "HBoxModel",
          "state": {
            "_dom_classes": [],
            "_model_module": "@jupyter-widgets/controls",
            "_model_module_version": "1.5.0",
            "_model_name": "HBoxModel",
            "_view_count": null,
            "_view_module": "@jupyter-widgets/controls",
            "_view_module_version": "1.5.0",
            "_view_name": "HBoxView",
            "box_style": "",
            "children": [
              "IPY_MODEL_21e57fbf7f2c4204b2b911a40c2228f4",
              "IPY_MODEL_470f26dee442498cadc960d2dbdebf99"
            ],
            "layout": "IPY_MODEL_0cbe2445eb5a4de387196f7b826aac25"
          }
        },
        "21e57fbf7f2c4204b2b911a40c2228f4": {
          "model_module": "@jupyter-widgets/controls",
          "model_name": "FloatProgressModel",
          "state": {
            "_dom_classes": [],
            "_model_module": "@jupyter-widgets/controls",
            "_model_module_version": "1.5.0",
            "_model_name": "FloatProgressModel",
            "_view_count": null,
            "_view_module": "@jupyter-widgets/controls",
            "_view_module_version": "1.5.0",
            "_view_name": "ProgressView",
            "bar_style": "success",
            "description": "100%",
            "description_tooltip": null,
            "layout": "IPY_MODEL_fd0be04b3c8a458e8815e434eb95fcf7",
            "max": 693359,
            "min": 0,
            "orientation": "horizontal",
            "style": "IPY_MODEL_783e2ad401a04a7793d9a7f2be8c3dc6",
            "value": 693359
          }
        },
        "470f26dee442498cadc960d2dbdebf99": {
          "model_module": "@jupyter-widgets/controls",
          "model_name": "HTMLModel",
          "state": {
            "_dom_classes": [],
            "_model_module": "@jupyter-widgets/controls",
            "_model_module_version": "1.5.0",
            "_model_name": "HTMLModel",
            "_view_count": null,
            "_view_module": "@jupyter-widgets/controls",
            "_view_module_version": "1.5.0",
            "_view_name": "HTMLView",
            "description": "",
            "description_tooltip": null,
            "layout": "IPY_MODEL_e99ecdc585534161ad1806533c97b855",
            "placeholder": "​",
            "style": "IPY_MODEL_ef748f9ca02c46a7b8f247bedb6c40fa",
            "value": " 693359/693359 [00:40&lt;00:00, 16921.49it/s]"
          }
        },
        "0cbe2445eb5a4de387196f7b826aac25": {
          "model_module": "@jupyter-widgets/base",
          "model_name": "LayoutModel",
          "state": {
            "_model_module": "@jupyter-widgets/base",
            "_model_module_version": "1.2.0",
            "_model_name": "LayoutModel",
            "_view_count": null,
            "_view_module": "@jupyter-widgets/base",
            "_view_module_version": "1.2.0",
            "_view_name": "LayoutView",
            "align_content": null,
            "align_items": null,
            "align_self": null,
            "border": null,
            "bottom": null,
            "display": null,
            "flex": null,
            "flex_flow": null,
            "grid_area": null,
            "grid_auto_columns": null,
            "grid_auto_flow": null,
            "grid_auto_rows": null,
            "grid_column": null,
            "grid_gap": null,
            "grid_row": null,
            "grid_template_areas": null,
            "grid_template_columns": null,
            "grid_template_rows": null,
            "height": null,
            "justify_content": null,
            "justify_items": null,
            "left": null,
            "margin": null,
            "max_height": null,
            "max_width": null,
            "min_height": null,
            "min_width": null,
            "object_fit": null,
            "object_position": null,
            "order": null,
            "overflow": null,
            "overflow_x": null,
            "overflow_y": null,
            "padding": null,
            "right": null,
            "top": null,
            "visibility": null,
            "width": null
          }
        },
        "fd0be04b3c8a458e8815e434eb95fcf7": {
          "model_module": "@jupyter-widgets/base",
          "model_name": "LayoutModel",
          "state": {
            "_model_module": "@jupyter-widgets/base",
            "_model_module_version": "1.2.0",
            "_model_name": "LayoutModel",
            "_view_count": null,
            "_view_module": "@jupyter-widgets/base",
            "_view_module_version": "1.2.0",
            "_view_name": "LayoutView",
            "align_content": null,
            "align_items": null,
            "align_self": null,
            "border": null,
            "bottom": null,
            "display": null,
            "flex": null,
            "flex_flow": null,
            "grid_area": null,
            "grid_auto_columns": null,
            "grid_auto_flow": null,
            "grid_auto_rows": null,
            "grid_column": null,
            "grid_gap": null,
            "grid_row": null,
            "grid_template_areas": null,
            "grid_template_columns": null,
            "grid_template_rows": null,
            "height": null,
            "justify_content": null,
            "justify_items": null,
            "left": null,
            "margin": null,
            "max_height": null,
            "max_width": null,
            "min_height": null,
            "min_width": null,
            "object_fit": null,
            "object_position": null,
            "order": null,
            "overflow": null,
            "overflow_x": null,
            "overflow_y": null,
            "padding": null,
            "right": null,
            "top": null,
            "visibility": null,
            "width": null
          }
        },
        "783e2ad401a04a7793d9a7f2be8c3dc6": {
          "model_module": "@jupyter-widgets/controls",
          "model_name": "ProgressStyleModel",
          "state": {
            "_model_module": "@jupyter-widgets/controls",
            "_model_module_version": "1.5.0",
            "_model_name": "ProgressStyleModel",
            "_view_count": null,
            "_view_module": "@jupyter-widgets/base",
            "_view_module_version": "1.2.0",
            "_view_name": "StyleView",
            "bar_color": null,
            "description_width": "initial"
          }
        },
        "e99ecdc585534161ad1806533c97b855": {
          "model_module": "@jupyter-widgets/base",
          "model_name": "LayoutModel",
          "state": {
            "_model_module": "@jupyter-widgets/base",
            "_model_module_version": "1.2.0",
            "_model_name": "LayoutModel",
            "_view_count": null,
            "_view_module": "@jupyter-widgets/base",
            "_view_module_version": "1.2.0",
            "_view_name": "LayoutView",
            "align_content": null,
            "align_items": null,
            "align_self": null,
            "border": null,
            "bottom": null,
            "display": null,
            "flex": null,
            "flex_flow": null,
            "grid_area": null,
            "grid_auto_columns": null,
            "grid_auto_flow": null,
            "grid_auto_rows": null,
            "grid_column": null,
            "grid_gap": null,
            "grid_row": null,
            "grid_template_areas": null,
            "grid_template_columns": null,
            "grid_template_rows": null,
            "height": null,
            "justify_content": null,
            "justify_items": null,
            "left": null,
            "margin": null,
            "max_height": null,
            "max_width": null,
            "min_height": null,
            "min_width": null,
            "object_fit": null,
            "object_position": null,
            "order": null,
            "overflow": null,
            "overflow_x": null,
            "overflow_y": null,
            "padding": null,
            "right": null,
            "top": null,
            "visibility": null,
            "width": null
          }
        },
        "ef748f9ca02c46a7b8f247bedb6c40fa": {
          "model_module": "@jupyter-widgets/controls",
          "model_name": "DescriptionStyleModel",
          "state": {
            "_model_module": "@jupyter-widgets/controls",
            "_model_module_version": "1.5.0",
            "_model_name": "DescriptionStyleModel",
            "_view_count": null,
            "_view_module": "@jupyter-widgets/base",
            "_view_module_version": "1.2.0",
            "_view_name": "StyleView",
            "description_width": ""
          }
        },
        "d05f31a826844183825e09886c868f46": {
          "model_module": "@jupyter-widgets/controls",
          "model_name": "HBoxModel",
          "state": {
            "_dom_classes": [],
            "_model_module": "@jupyter-widgets/controls",
            "_model_module_version": "1.5.0",
            "_model_name": "HBoxModel",
            "_view_count": null,
            "_view_module": "@jupyter-widgets/controls",
            "_view_module_version": "1.5.0",
            "_view_name": "HBoxView",
            "box_style": "",
            "children": [
              "IPY_MODEL_48fcf2a228ca44adb2cb5abf0b769c64",
              "IPY_MODEL_d615bdbeeb9645be84655176defcb333"
            ],
            "layout": "IPY_MODEL_40f32d7b0950479fb31b7775d8542362"
          }
        },
        "48fcf2a228ca44adb2cb5abf0b769c64": {
          "model_module": "@jupyter-widgets/controls",
          "model_name": "FloatProgressModel",
          "state": {
            "_dom_classes": [],
            "_model_module": "@jupyter-widgets/controls",
            "_model_module_version": "1.5.0",
            "_model_name": "FloatProgressModel",
            "_view_count": null,
            "_view_module": "@jupyter-widgets/controls",
            "_view_module_version": "1.5.0",
            "_view_name": "ProgressView",
            "bar_style": "success",
            "description": "100%",
            "description_tooltip": null,
            "layout": "IPY_MODEL_90d39e9d83eb46bba1fedca5f0ea8216",
            "max": 693359,
            "min": 0,
            "orientation": "horizontal",
            "style": "IPY_MODEL_24e3a61a4a0e4679bec3f60022571cc4",
            "value": 693359
          }
        },
        "d615bdbeeb9645be84655176defcb333": {
          "model_module": "@jupyter-widgets/controls",
          "model_name": "HTMLModel",
          "state": {
            "_dom_classes": [],
            "_model_module": "@jupyter-widgets/controls",
            "_model_module_version": "1.5.0",
            "_model_name": "HTMLModel",
            "_view_count": null,
            "_view_module": "@jupyter-widgets/controls",
            "_view_module_version": "1.5.0",
            "_view_name": "HTMLView",
            "description": "",
            "description_tooltip": null,
            "layout": "IPY_MODEL_4c481b3037d34b07865cb58100d827f6",
            "placeholder": "​",
            "style": "IPY_MODEL_e4356f959d994ec896d92e70ae93d2af",
            "value": " 693359/693359 [01:03&lt;00:00, 10870.87it/s]"
          }
        },
        "40f32d7b0950479fb31b7775d8542362": {
          "model_module": "@jupyter-widgets/base",
          "model_name": "LayoutModel",
          "state": {
            "_model_module": "@jupyter-widgets/base",
            "_model_module_version": "1.2.0",
            "_model_name": "LayoutModel",
            "_view_count": null,
            "_view_module": "@jupyter-widgets/base",
            "_view_module_version": "1.2.0",
            "_view_name": "LayoutView",
            "align_content": null,
            "align_items": null,
            "align_self": null,
            "border": null,
            "bottom": null,
            "display": null,
            "flex": null,
            "flex_flow": null,
            "grid_area": null,
            "grid_auto_columns": null,
            "grid_auto_flow": null,
            "grid_auto_rows": null,
            "grid_column": null,
            "grid_gap": null,
            "grid_row": null,
            "grid_template_areas": null,
            "grid_template_columns": null,
            "grid_template_rows": null,
            "height": null,
            "justify_content": null,
            "justify_items": null,
            "left": null,
            "margin": null,
            "max_height": null,
            "max_width": null,
            "min_height": null,
            "min_width": null,
            "object_fit": null,
            "object_position": null,
            "order": null,
            "overflow": null,
            "overflow_x": null,
            "overflow_y": null,
            "padding": null,
            "right": null,
            "top": null,
            "visibility": null,
            "width": null
          }
        },
        "90d39e9d83eb46bba1fedca5f0ea8216": {
          "model_module": "@jupyter-widgets/base",
          "model_name": "LayoutModel",
          "state": {
            "_model_module": "@jupyter-widgets/base",
            "_model_module_version": "1.2.0",
            "_model_name": "LayoutModel",
            "_view_count": null,
            "_view_module": "@jupyter-widgets/base",
            "_view_module_version": "1.2.0",
            "_view_name": "LayoutView",
            "align_content": null,
            "align_items": null,
            "align_self": null,
            "border": null,
            "bottom": null,
            "display": null,
            "flex": null,
            "flex_flow": null,
            "grid_area": null,
            "grid_auto_columns": null,
            "grid_auto_flow": null,
            "grid_auto_rows": null,
            "grid_column": null,
            "grid_gap": null,
            "grid_row": null,
            "grid_template_areas": null,
            "grid_template_columns": null,
            "grid_template_rows": null,
            "height": null,
            "justify_content": null,
            "justify_items": null,
            "left": null,
            "margin": null,
            "max_height": null,
            "max_width": null,
            "min_height": null,
            "min_width": null,
            "object_fit": null,
            "object_position": null,
            "order": null,
            "overflow": null,
            "overflow_x": null,
            "overflow_y": null,
            "padding": null,
            "right": null,
            "top": null,
            "visibility": null,
            "width": null
          }
        },
        "24e3a61a4a0e4679bec3f60022571cc4": {
          "model_module": "@jupyter-widgets/controls",
          "model_name": "ProgressStyleModel",
          "state": {
            "_model_module": "@jupyter-widgets/controls",
            "_model_module_version": "1.5.0",
            "_model_name": "ProgressStyleModel",
            "_view_count": null,
            "_view_module": "@jupyter-widgets/base",
            "_view_module_version": "1.2.0",
            "_view_name": "StyleView",
            "bar_color": null,
            "description_width": "initial"
          }
        },
        "4c481b3037d34b07865cb58100d827f6": {
          "model_module": "@jupyter-widgets/base",
          "model_name": "LayoutModel",
          "state": {
            "_model_module": "@jupyter-widgets/base",
            "_model_module_version": "1.2.0",
            "_model_name": "LayoutModel",
            "_view_count": null,
            "_view_module": "@jupyter-widgets/base",
            "_view_module_version": "1.2.0",
            "_view_name": "LayoutView",
            "align_content": null,
            "align_items": null,
            "align_self": null,
            "border": null,
            "bottom": null,
            "display": null,
            "flex": null,
            "flex_flow": null,
            "grid_area": null,
            "grid_auto_columns": null,
            "grid_auto_flow": null,
            "grid_auto_rows": null,
            "grid_column": null,
            "grid_gap": null,
            "grid_row": null,
            "grid_template_areas": null,
            "grid_template_columns": null,
            "grid_template_rows": null,
            "height": null,
            "justify_content": null,
            "justify_items": null,
            "left": null,
            "margin": null,
            "max_height": null,
            "max_width": null,
            "min_height": null,
            "min_width": null,
            "object_fit": null,
            "object_position": null,
            "order": null,
            "overflow": null,
            "overflow_x": null,
            "overflow_y": null,
            "padding": null,
            "right": null,
            "top": null,
            "visibility": null,
            "width": null
          }
        },
        "e4356f959d994ec896d92e70ae93d2af": {
          "model_module": "@jupyter-widgets/controls",
          "model_name": "DescriptionStyleModel",
          "state": {
            "_model_module": "@jupyter-widgets/controls",
            "_model_module_version": "1.5.0",
            "_model_name": "DescriptionStyleModel",
            "_view_count": null,
            "_view_module": "@jupyter-widgets/base",
            "_view_module_version": "1.2.0",
            "_view_name": "StyleView",
            "description_width": ""
          }
        },
        "0b9ca59739584075b3c9a0de28fc18e8": {
          "model_module": "@jupyter-widgets/controls",
          "model_name": "HBoxModel",
          "state": {
            "_dom_classes": [],
            "_model_module": "@jupyter-widgets/controls",
            "_model_module_version": "1.5.0",
            "_model_name": "HBoxModel",
            "_view_count": null,
            "_view_module": "@jupyter-widgets/controls",
            "_view_module_version": "1.5.0",
            "_view_name": "HBoxView",
            "box_style": "",
            "children": [
              "IPY_MODEL_15aa1e72c01446028119423c85493171",
              "IPY_MODEL_5205f5d84666478385bb0ebb507d2bc9"
            ],
            "layout": "IPY_MODEL_6c54f977546743bc9524b71bf8e91f90"
          }
        },
        "15aa1e72c01446028119423c85493171": {
          "model_module": "@jupyter-widgets/controls",
          "model_name": "FloatProgressModel",
          "state": {
            "_dom_classes": [],
            "_model_module": "@jupyter-widgets/controls",
            "_model_module_version": "1.5.0",
            "_model_name": "FloatProgressModel",
            "_view_count": null,
            "_view_module": "@jupyter-widgets/controls",
            "_view_module_version": "1.5.0",
            "_view_name": "ProgressView",
            "bar_style": "success",
            "description": "100%",
            "description_tooltip": null,
            "layout": "IPY_MODEL_f735fd6a767f44b28118ff2509044f9d",
            "max": 693359,
            "min": 0,
            "orientation": "horizontal",
            "style": "IPY_MODEL_92af1fad6e91493a9ca99b359e809a46",
            "value": 693359
          }
        },
        "5205f5d84666478385bb0ebb507d2bc9": {
          "model_module": "@jupyter-widgets/controls",
          "model_name": "HTMLModel",
          "state": {
            "_dom_classes": [],
            "_model_module": "@jupyter-widgets/controls",
            "_model_module_version": "1.5.0",
            "_model_name": "HTMLModel",
            "_view_count": null,
            "_view_module": "@jupyter-widgets/controls",
            "_view_module_version": "1.5.0",
            "_view_name": "HTMLView",
            "description": "",
            "description_tooltip": null,
            "layout": "IPY_MODEL_8307fa94da8d4f4281c9be737c0b4b87",
            "placeholder": "​",
            "style": "IPY_MODEL_93b4ad0cc73f4033aab800933f80f5a4",
            "value": " 693359/693359 [00:04&lt;00:00, 152135.45it/s]"
          }
        },
        "6c54f977546743bc9524b71bf8e91f90": {
          "model_module": "@jupyter-widgets/base",
          "model_name": "LayoutModel",
          "state": {
            "_model_module": "@jupyter-widgets/base",
            "_model_module_version": "1.2.0",
            "_model_name": "LayoutModel",
            "_view_count": null,
            "_view_module": "@jupyter-widgets/base",
            "_view_module_version": "1.2.0",
            "_view_name": "LayoutView",
            "align_content": null,
            "align_items": null,
            "align_self": null,
            "border": null,
            "bottom": null,
            "display": null,
            "flex": null,
            "flex_flow": null,
            "grid_area": null,
            "grid_auto_columns": null,
            "grid_auto_flow": null,
            "grid_auto_rows": null,
            "grid_column": null,
            "grid_gap": null,
            "grid_row": null,
            "grid_template_areas": null,
            "grid_template_columns": null,
            "grid_template_rows": null,
            "height": null,
            "justify_content": null,
            "justify_items": null,
            "left": null,
            "margin": null,
            "max_height": null,
            "max_width": null,
            "min_height": null,
            "min_width": null,
            "object_fit": null,
            "object_position": null,
            "order": null,
            "overflow": null,
            "overflow_x": null,
            "overflow_y": null,
            "padding": null,
            "right": null,
            "top": null,
            "visibility": null,
            "width": null
          }
        },
        "f735fd6a767f44b28118ff2509044f9d": {
          "model_module": "@jupyter-widgets/base",
          "model_name": "LayoutModel",
          "state": {
            "_model_module": "@jupyter-widgets/base",
            "_model_module_version": "1.2.0",
            "_model_name": "LayoutModel",
            "_view_count": null,
            "_view_module": "@jupyter-widgets/base",
            "_view_module_version": "1.2.0",
            "_view_name": "LayoutView",
            "align_content": null,
            "align_items": null,
            "align_self": null,
            "border": null,
            "bottom": null,
            "display": null,
            "flex": null,
            "flex_flow": null,
            "grid_area": null,
            "grid_auto_columns": null,
            "grid_auto_flow": null,
            "grid_auto_rows": null,
            "grid_column": null,
            "grid_gap": null,
            "grid_row": null,
            "grid_template_areas": null,
            "grid_template_columns": null,
            "grid_template_rows": null,
            "height": null,
            "justify_content": null,
            "justify_items": null,
            "left": null,
            "margin": null,
            "max_height": null,
            "max_width": null,
            "min_height": null,
            "min_width": null,
            "object_fit": null,
            "object_position": null,
            "order": null,
            "overflow": null,
            "overflow_x": null,
            "overflow_y": null,
            "padding": null,
            "right": null,
            "top": null,
            "visibility": null,
            "width": null
          }
        },
        "92af1fad6e91493a9ca99b359e809a46": {
          "model_module": "@jupyter-widgets/controls",
          "model_name": "ProgressStyleModel",
          "state": {
            "_model_module": "@jupyter-widgets/controls",
            "_model_module_version": "1.5.0",
            "_model_name": "ProgressStyleModel",
            "_view_count": null,
            "_view_module": "@jupyter-widgets/base",
            "_view_module_version": "1.2.0",
            "_view_name": "StyleView",
            "bar_color": null,
            "description_width": "initial"
          }
        },
        "8307fa94da8d4f4281c9be737c0b4b87": {
          "model_module": "@jupyter-widgets/base",
          "model_name": "LayoutModel",
          "state": {
            "_model_module": "@jupyter-widgets/base",
            "_model_module_version": "1.2.0",
            "_model_name": "LayoutModel",
            "_view_count": null,
            "_view_module": "@jupyter-widgets/base",
            "_view_module_version": "1.2.0",
            "_view_name": "LayoutView",
            "align_content": null,
            "align_items": null,
            "align_self": null,
            "border": null,
            "bottom": null,
            "display": null,
            "flex": null,
            "flex_flow": null,
            "grid_area": null,
            "grid_auto_columns": null,
            "grid_auto_flow": null,
            "grid_auto_rows": null,
            "grid_column": null,
            "grid_gap": null,
            "grid_row": null,
            "grid_template_areas": null,
            "grid_template_columns": null,
            "grid_template_rows": null,
            "height": null,
            "justify_content": null,
            "justify_items": null,
            "left": null,
            "margin": null,
            "max_height": null,
            "max_width": null,
            "min_height": null,
            "min_width": null,
            "object_fit": null,
            "object_position": null,
            "order": null,
            "overflow": null,
            "overflow_x": null,
            "overflow_y": null,
            "padding": null,
            "right": null,
            "top": null,
            "visibility": null,
            "width": null
          }
        },
        "93b4ad0cc73f4033aab800933f80f5a4": {
          "model_module": "@jupyter-widgets/controls",
          "model_name": "DescriptionStyleModel",
          "state": {
            "_model_module": "@jupyter-widgets/controls",
            "_model_module_version": "1.5.0",
            "_model_name": "DescriptionStyleModel",
            "_view_count": null,
            "_view_module": "@jupyter-widgets/base",
            "_view_module_version": "1.2.0",
            "_view_name": "StyleView",
            "description_width": ""
          }
        },
        "3131947045ec4a759c71e695054a4538": {
          "model_module": "@jupyter-widgets/controls",
          "model_name": "HBoxModel",
          "state": {
            "_dom_classes": [],
            "_model_module": "@jupyter-widgets/controls",
            "_model_module_version": "1.5.0",
            "_model_name": "HBoxModel",
            "_view_count": null,
            "_view_module": "@jupyter-widgets/controls",
            "_view_module_version": "1.5.0",
            "_view_name": "HBoxView",
            "box_style": "",
            "children": [
              "IPY_MODEL_94ce8cf56b5c4cbeb1297e79f760f6f9",
              "IPY_MODEL_1b134088deea43d895347db839a0ad4a"
            ],
            "layout": "IPY_MODEL_5c366503eeb64111806678e995885d95"
          }
        },
        "94ce8cf56b5c4cbeb1297e79f760f6f9": {
          "model_module": "@jupyter-widgets/controls",
          "model_name": "FloatProgressModel",
          "state": {
            "_dom_classes": [],
            "_model_module": "@jupyter-widgets/controls",
            "_model_module_version": "1.5.0",
            "_model_name": "FloatProgressModel",
            "_view_count": null,
            "_view_module": "@jupyter-widgets/controls",
            "_view_module_version": "1.5.0",
            "_view_name": "ProgressView",
            "bar_style": "success",
            "description": "100%",
            "description_tooltip": null,
            "layout": "IPY_MODEL_63638edaaf8249dc939a7b4b9b2ebb9d",
            "max": 693359,
            "min": 0,
            "orientation": "horizontal",
            "style": "IPY_MODEL_4bd43dfaf1ca421097f62987d838fb50",
            "value": 693359
          }
        },
        "1b134088deea43d895347db839a0ad4a": {
          "model_module": "@jupyter-widgets/controls",
          "model_name": "HTMLModel",
          "state": {
            "_dom_classes": [],
            "_model_module": "@jupyter-widgets/controls",
            "_model_module_version": "1.5.0",
            "_model_name": "HTMLModel",
            "_view_count": null,
            "_view_module": "@jupyter-widgets/controls",
            "_view_module_version": "1.5.0",
            "_view_name": "HTMLView",
            "description": "",
            "description_tooltip": null,
            "layout": "IPY_MODEL_1475722a30534f8c898be6a45b861e60",
            "placeholder": "​",
            "style": "IPY_MODEL_ba272bba8f874ecaba6b574e2794001f",
            "value": " 693359/693359 [00:15&lt;00:00, 45729.35it/s]"
          }
        },
        "5c366503eeb64111806678e995885d95": {
          "model_module": "@jupyter-widgets/base",
          "model_name": "LayoutModel",
          "state": {
            "_model_module": "@jupyter-widgets/base",
            "_model_module_version": "1.2.0",
            "_model_name": "LayoutModel",
            "_view_count": null,
            "_view_module": "@jupyter-widgets/base",
            "_view_module_version": "1.2.0",
            "_view_name": "LayoutView",
            "align_content": null,
            "align_items": null,
            "align_self": null,
            "border": null,
            "bottom": null,
            "display": null,
            "flex": null,
            "flex_flow": null,
            "grid_area": null,
            "grid_auto_columns": null,
            "grid_auto_flow": null,
            "grid_auto_rows": null,
            "grid_column": null,
            "grid_gap": null,
            "grid_row": null,
            "grid_template_areas": null,
            "grid_template_columns": null,
            "grid_template_rows": null,
            "height": null,
            "justify_content": null,
            "justify_items": null,
            "left": null,
            "margin": null,
            "max_height": null,
            "max_width": null,
            "min_height": null,
            "min_width": null,
            "object_fit": null,
            "object_position": null,
            "order": null,
            "overflow": null,
            "overflow_x": null,
            "overflow_y": null,
            "padding": null,
            "right": null,
            "top": null,
            "visibility": null,
            "width": null
          }
        },
        "63638edaaf8249dc939a7b4b9b2ebb9d": {
          "model_module": "@jupyter-widgets/base",
          "model_name": "LayoutModel",
          "state": {
            "_model_module": "@jupyter-widgets/base",
            "_model_module_version": "1.2.0",
            "_model_name": "LayoutModel",
            "_view_count": null,
            "_view_module": "@jupyter-widgets/base",
            "_view_module_version": "1.2.0",
            "_view_name": "LayoutView",
            "align_content": null,
            "align_items": null,
            "align_self": null,
            "border": null,
            "bottom": null,
            "display": null,
            "flex": null,
            "flex_flow": null,
            "grid_area": null,
            "grid_auto_columns": null,
            "grid_auto_flow": null,
            "grid_auto_rows": null,
            "grid_column": null,
            "grid_gap": null,
            "grid_row": null,
            "grid_template_areas": null,
            "grid_template_columns": null,
            "grid_template_rows": null,
            "height": null,
            "justify_content": null,
            "justify_items": null,
            "left": null,
            "margin": null,
            "max_height": null,
            "max_width": null,
            "min_height": null,
            "min_width": null,
            "object_fit": null,
            "object_position": null,
            "order": null,
            "overflow": null,
            "overflow_x": null,
            "overflow_y": null,
            "padding": null,
            "right": null,
            "top": null,
            "visibility": null,
            "width": null
          }
        },
        "4bd43dfaf1ca421097f62987d838fb50": {
          "model_module": "@jupyter-widgets/controls",
          "model_name": "ProgressStyleModel",
          "state": {
            "_model_module": "@jupyter-widgets/controls",
            "_model_module_version": "1.5.0",
            "_model_name": "ProgressStyleModel",
            "_view_count": null,
            "_view_module": "@jupyter-widgets/base",
            "_view_module_version": "1.2.0",
            "_view_name": "StyleView",
            "bar_color": null,
            "description_width": "initial"
          }
        },
        "1475722a30534f8c898be6a45b861e60": {
          "model_module": "@jupyter-widgets/base",
          "model_name": "LayoutModel",
          "state": {
            "_model_module": "@jupyter-widgets/base",
            "_model_module_version": "1.2.0",
            "_model_name": "LayoutModel",
            "_view_count": null,
            "_view_module": "@jupyter-widgets/base",
            "_view_module_version": "1.2.0",
            "_view_name": "LayoutView",
            "align_content": null,
            "align_items": null,
            "align_self": null,
            "border": null,
            "bottom": null,
            "display": null,
            "flex": null,
            "flex_flow": null,
            "grid_area": null,
            "grid_auto_columns": null,
            "grid_auto_flow": null,
            "grid_auto_rows": null,
            "grid_column": null,
            "grid_gap": null,
            "grid_row": null,
            "grid_template_areas": null,
            "grid_template_columns": null,
            "grid_template_rows": null,
            "height": null,
            "justify_content": null,
            "justify_items": null,
            "left": null,
            "margin": null,
            "max_height": null,
            "max_width": null,
            "min_height": null,
            "min_width": null,
            "object_fit": null,
            "object_position": null,
            "order": null,
            "overflow": null,
            "overflow_x": null,
            "overflow_y": null,
            "padding": null,
            "right": null,
            "top": null,
            "visibility": null,
            "width": null
          }
        },
        "ba272bba8f874ecaba6b574e2794001f": {
          "model_module": "@jupyter-widgets/controls",
          "model_name": "DescriptionStyleModel",
          "state": {
            "_model_module": "@jupyter-widgets/controls",
            "_model_module_version": "1.5.0",
            "_model_name": "DescriptionStyleModel",
            "_view_count": null,
            "_view_module": "@jupyter-widgets/base",
            "_view_module_version": "1.2.0",
            "_view_name": "StyleView",
            "description_width": ""
          }
        },
        "65a3b0af33814313a0a55ce48719d149": {
          "model_module": "@jupyter-widgets/controls",
          "model_name": "HBoxModel",
          "state": {
            "_dom_classes": [],
            "_model_module": "@jupyter-widgets/controls",
            "_model_module_version": "1.5.0",
            "_model_name": "HBoxModel",
            "_view_count": null,
            "_view_module": "@jupyter-widgets/controls",
            "_view_module_version": "1.5.0",
            "_view_name": "HBoxView",
            "box_style": "",
            "children": [
              "IPY_MODEL_b6731bf7d646425c80317c72483443b8",
              "IPY_MODEL_617ca8ec486f4096bd2267ca39159a28"
            ],
            "layout": "IPY_MODEL_cbc6071684b14b728f8ee3a30d6cdabd"
          }
        },
        "b6731bf7d646425c80317c72483443b8": {
          "model_module": "@jupyter-widgets/controls",
          "model_name": "FloatProgressModel",
          "state": {
            "_dom_classes": [],
            "_model_module": "@jupyter-widgets/controls",
            "_model_module_version": "1.5.0",
            "_model_name": "FloatProgressModel",
            "_view_count": null,
            "_view_module": "@jupyter-widgets/controls",
            "_view_module_version": "1.5.0",
            "_view_name": "ProgressView",
            "bar_style": "success",
            "description": "100%",
            "description_tooltip": null,
            "layout": "IPY_MODEL_436b830e85d54905aa1f46903becf70c",
            "max": 693359,
            "min": 0,
            "orientation": "horizontal",
            "style": "IPY_MODEL_511c7512cf6e432196202af529202e5f",
            "value": 693359
          }
        },
        "617ca8ec486f4096bd2267ca39159a28": {
          "model_module": "@jupyter-widgets/controls",
          "model_name": "HTMLModel",
          "state": {
            "_dom_classes": [],
            "_model_module": "@jupyter-widgets/controls",
            "_model_module_version": "1.5.0",
            "_model_name": "HTMLModel",
            "_view_count": null,
            "_view_module": "@jupyter-widgets/controls",
            "_view_module_version": "1.5.0",
            "_view_name": "HTMLView",
            "description": "",
            "description_tooltip": null,
            "layout": "IPY_MODEL_d9e6386e164a4145b5318474ca32be23",
            "placeholder": "​",
            "style": "IPY_MODEL_2cb01788c01e4c2d9a8af85657f5d622",
            "value": " 693359/693359 [00:12&lt;00:00, 55429.32it/s]"
          }
        },
        "cbc6071684b14b728f8ee3a30d6cdabd": {
          "model_module": "@jupyter-widgets/base",
          "model_name": "LayoutModel",
          "state": {
            "_model_module": "@jupyter-widgets/base",
            "_model_module_version": "1.2.0",
            "_model_name": "LayoutModel",
            "_view_count": null,
            "_view_module": "@jupyter-widgets/base",
            "_view_module_version": "1.2.0",
            "_view_name": "LayoutView",
            "align_content": null,
            "align_items": null,
            "align_self": null,
            "border": null,
            "bottom": null,
            "display": null,
            "flex": null,
            "flex_flow": null,
            "grid_area": null,
            "grid_auto_columns": null,
            "grid_auto_flow": null,
            "grid_auto_rows": null,
            "grid_column": null,
            "grid_gap": null,
            "grid_row": null,
            "grid_template_areas": null,
            "grid_template_columns": null,
            "grid_template_rows": null,
            "height": null,
            "justify_content": null,
            "justify_items": null,
            "left": null,
            "margin": null,
            "max_height": null,
            "max_width": null,
            "min_height": null,
            "min_width": null,
            "object_fit": null,
            "object_position": null,
            "order": null,
            "overflow": null,
            "overflow_x": null,
            "overflow_y": null,
            "padding": null,
            "right": null,
            "top": null,
            "visibility": null,
            "width": null
          }
        },
        "436b830e85d54905aa1f46903becf70c": {
          "model_module": "@jupyter-widgets/base",
          "model_name": "LayoutModel",
          "state": {
            "_model_module": "@jupyter-widgets/base",
            "_model_module_version": "1.2.0",
            "_model_name": "LayoutModel",
            "_view_count": null,
            "_view_module": "@jupyter-widgets/base",
            "_view_module_version": "1.2.0",
            "_view_name": "LayoutView",
            "align_content": null,
            "align_items": null,
            "align_self": null,
            "border": null,
            "bottom": null,
            "display": null,
            "flex": null,
            "flex_flow": null,
            "grid_area": null,
            "grid_auto_columns": null,
            "grid_auto_flow": null,
            "grid_auto_rows": null,
            "grid_column": null,
            "grid_gap": null,
            "grid_row": null,
            "grid_template_areas": null,
            "grid_template_columns": null,
            "grid_template_rows": null,
            "height": null,
            "justify_content": null,
            "justify_items": null,
            "left": null,
            "margin": null,
            "max_height": null,
            "max_width": null,
            "min_height": null,
            "min_width": null,
            "object_fit": null,
            "object_position": null,
            "order": null,
            "overflow": null,
            "overflow_x": null,
            "overflow_y": null,
            "padding": null,
            "right": null,
            "top": null,
            "visibility": null,
            "width": null
          }
        },
        "511c7512cf6e432196202af529202e5f": {
          "model_module": "@jupyter-widgets/controls",
          "model_name": "ProgressStyleModel",
          "state": {
            "_model_module": "@jupyter-widgets/controls",
            "_model_module_version": "1.5.0",
            "_model_name": "ProgressStyleModel",
            "_view_count": null,
            "_view_module": "@jupyter-widgets/base",
            "_view_module_version": "1.2.0",
            "_view_name": "StyleView",
            "bar_color": null,
            "description_width": "initial"
          }
        },
        "d9e6386e164a4145b5318474ca32be23": {
          "model_module": "@jupyter-widgets/base",
          "model_name": "LayoutModel",
          "state": {
            "_model_module": "@jupyter-widgets/base",
            "_model_module_version": "1.2.0",
            "_model_name": "LayoutModel",
            "_view_count": null,
            "_view_module": "@jupyter-widgets/base",
            "_view_module_version": "1.2.0",
            "_view_name": "LayoutView",
            "align_content": null,
            "align_items": null,
            "align_self": null,
            "border": null,
            "bottom": null,
            "display": null,
            "flex": null,
            "flex_flow": null,
            "grid_area": null,
            "grid_auto_columns": null,
            "grid_auto_flow": null,
            "grid_auto_rows": null,
            "grid_column": null,
            "grid_gap": null,
            "grid_row": null,
            "grid_template_areas": null,
            "grid_template_columns": null,
            "grid_template_rows": null,
            "height": null,
            "justify_content": null,
            "justify_items": null,
            "left": null,
            "margin": null,
            "max_height": null,
            "max_width": null,
            "min_height": null,
            "min_width": null,
            "object_fit": null,
            "object_position": null,
            "order": null,
            "overflow": null,
            "overflow_x": null,
            "overflow_y": null,
            "padding": null,
            "right": null,
            "top": null,
            "visibility": null,
            "width": null
          }
        },
        "2cb01788c01e4c2d9a8af85657f5d622": {
          "model_module": "@jupyter-widgets/controls",
          "model_name": "DescriptionStyleModel",
          "state": {
            "_model_module": "@jupyter-widgets/controls",
            "_model_module_version": "1.5.0",
            "_model_name": "DescriptionStyleModel",
            "_view_count": null,
            "_view_module": "@jupyter-widgets/base",
            "_view_module_version": "1.2.0",
            "_view_name": "StyleView",
            "description_width": ""
          }
        },
        "e71ba0b99df847e7b6b140eb5818896b": {
          "model_module": "@jupyter-widgets/controls",
          "model_name": "HBoxModel",
          "state": {
            "_dom_classes": [],
            "_model_module": "@jupyter-widgets/controls",
            "_model_module_version": "1.5.0",
            "_model_name": "HBoxModel",
            "_view_count": null,
            "_view_module": "@jupyter-widgets/controls",
            "_view_module_version": "1.5.0",
            "_view_name": "HBoxView",
            "box_style": "",
            "children": [
              "IPY_MODEL_8e17f76ac6f44368b69603b3308ff4a4",
              "IPY_MODEL_6fbbbc4b94524eed8c190e77473b35b3"
            ],
            "layout": "IPY_MODEL_d6c8407236924c728148f4f50a583d33"
          }
        },
        "8e17f76ac6f44368b69603b3308ff4a4": {
          "model_module": "@jupyter-widgets/controls",
          "model_name": "FloatProgressModel",
          "state": {
            "_dom_classes": [],
            "_model_module": "@jupyter-widgets/controls",
            "_model_module_version": "1.5.0",
            "_model_name": "FloatProgressModel",
            "_view_count": null,
            "_view_module": "@jupyter-widgets/controls",
            "_view_module_version": "1.5.0",
            "_view_name": "ProgressView",
            "bar_style": "success",
            "description": "100%",
            "description_tooltip": null,
            "layout": "IPY_MODEL_f48e78949c6d40969f2747a9f536ba9e",
            "max": 693359,
            "min": 0,
            "orientation": "horizontal",
            "style": "IPY_MODEL_7759c80efdf34e1482bbdfb7de4e61e7",
            "value": 693359
          }
        },
        "6fbbbc4b94524eed8c190e77473b35b3": {
          "model_module": "@jupyter-widgets/controls",
          "model_name": "HTMLModel",
          "state": {
            "_dom_classes": [],
            "_model_module": "@jupyter-widgets/controls",
            "_model_module_version": "1.5.0",
            "_model_name": "HTMLModel",
            "_view_count": null,
            "_view_module": "@jupyter-widgets/controls",
            "_view_module_version": "1.5.0",
            "_view_name": "HTMLView",
            "description": "",
            "description_tooltip": null,
            "layout": "IPY_MODEL_7dc1c73e489546bf8983c8d6a1510517",
            "placeholder": "​",
            "style": "IPY_MODEL_e93e9aa84f734b0e84ce28306e590cf7",
            "value": " 693359/693359 [00:14&lt;00:00, 46737.46it/s]"
          }
        },
        "d6c8407236924c728148f4f50a583d33": {
          "model_module": "@jupyter-widgets/base",
          "model_name": "LayoutModel",
          "state": {
            "_model_module": "@jupyter-widgets/base",
            "_model_module_version": "1.2.0",
            "_model_name": "LayoutModel",
            "_view_count": null,
            "_view_module": "@jupyter-widgets/base",
            "_view_module_version": "1.2.0",
            "_view_name": "LayoutView",
            "align_content": null,
            "align_items": null,
            "align_self": null,
            "border": null,
            "bottom": null,
            "display": null,
            "flex": null,
            "flex_flow": null,
            "grid_area": null,
            "grid_auto_columns": null,
            "grid_auto_flow": null,
            "grid_auto_rows": null,
            "grid_column": null,
            "grid_gap": null,
            "grid_row": null,
            "grid_template_areas": null,
            "grid_template_columns": null,
            "grid_template_rows": null,
            "height": null,
            "justify_content": null,
            "justify_items": null,
            "left": null,
            "margin": null,
            "max_height": null,
            "max_width": null,
            "min_height": null,
            "min_width": null,
            "object_fit": null,
            "object_position": null,
            "order": null,
            "overflow": null,
            "overflow_x": null,
            "overflow_y": null,
            "padding": null,
            "right": null,
            "top": null,
            "visibility": null,
            "width": null
          }
        },
        "f48e78949c6d40969f2747a9f536ba9e": {
          "model_module": "@jupyter-widgets/base",
          "model_name": "LayoutModel",
          "state": {
            "_model_module": "@jupyter-widgets/base",
            "_model_module_version": "1.2.0",
            "_model_name": "LayoutModel",
            "_view_count": null,
            "_view_module": "@jupyter-widgets/base",
            "_view_module_version": "1.2.0",
            "_view_name": "LayoutView",
            "align_content": null,
            "align_items": null,
            "align_self": null,
            "border": null,
            "bottom": null,
            "display": null,
            "flex": null,
            "flex_flow": null,
            "grid_area": null,
            "grid_auto_columns": null,
            "grid_auto_flow": null,
            "grid_auto_rows": null,
            "grid_column": null,
            "grid_gap": null,
            "grid_row": null,
            "grid_template_areas": null,
            "grid_template_columns": null,
            "grid_template_rows": null,
            "height": null,
            "justify_content": null,
            "justify_items": null,
            "left": null,
            "margin": null,
            "max_height": null,
            "max_width": null,
            "min_height": null,
            "min_width": null,
            "object_fit": null,
            "object_position": null,
            "order": null,
            "overflow": null,
            "overflow_x": null,
            "overflow_y": null,
            "padding": null,
            "right": null,
            "top": null,
            "visibility": null,
            "width": null
          }
        },
        "7759c80efdf34e1482bbdfb7de4e61e7": {
          "model_module": "@jupyter-widgets/controls",
          "model_name": "ProgressStyleModel",
          "state": {
            "_model_module": "@jupyter-widgets/controls",
            "_model_module_version": "1.5.0",
            "_model_name": "ProgressStyleModel",
            "_view_count": null,
            "_view_module": "@jupyter-widgets/base",
            "_view_module_version": "1.2.0",
            "_view_name": "StyleView",
            "bar_color": null,
            "description_width": "initial"
          }
        },
        "7dc1c73e489546bf8983c8d6a1510517": {
          "model_module": "@jupyter-widgets/base",
          "model_name": "LayoutModel",
          "state": {
            "_model_module": "@jupyter-widgets/base",
            "_model_module_version": "1.2.0",
            "_model_name": "LayoutModel",
            "_view_count": null,
            "_view_module": "@jupyter-widgets/base",
            "_view_module_version": "1.2.0",
            "_view_name": "LayoutView",
            "align_content": null,
            "align_items": null,
            "align_self": null,
            "border": null,
            "bottom": null,
            "display": null,
            "flex": null,
            "flex_flow": null,
            "grid_area": null,
            "grid_auto_columns": null,
            "grid_auto_flow": null,
            "grid_auto_rows": null,
            "grid_column": null,
            "grid_gap": null,
            "grid_row": null,
            "grid_template_areas": null,
            "grid_template_columns": null,
            "grid_template_rows": null,
            "height": null,
            "justify_content": null,
            "justify_items": null,
            "left": null,
            "margin": null,
            "max_height": null,
            "max_width": null,
            "min_height": null,
            "min_width": null,
            "object_fit": null,
            "object_position": null,
            "order": null,
            "overflow": null,
            "overflow_x": null,
            "overflow_y": null,
            "padding": null,
            "right": null,
            "top": null,
            "visibility": null,
            "width": null
          }
        },
        "e93e9aa84f734b0e84ce28306e590cf7": {
          "model_module": "@jupyter-widgets/controls",
          "model_name": "DescriptionStyleModel",
          "state": {
            "_model_module": "@jupyter-widgets/controls",
            "_model_module_version": "1.5.0",
            "_model_name": "DescriptionStyleModel",
            "_view_count": null,
            "_view_module": "@jupyter-widgets/base",
            "_view_module_version": "1.2.0",
            "_view_name": "StyleView",
            "description_width": ""
          }
        },
        "655867d1c1164da99a0766627e20fb08": {
          "model_module": "@jupyter-widgets/controls",
          "model_name": "HBoxModel",
          "state": {
            "_dom_classes": [],
            "_model_module": "@jupyter-widgets/controls",
            "_model_module_version": "1.5.0",
            "_model_name": "HBoxModel",
            "_view_count": null,
            "_view_module": "@jupyter-widgets/controls",
            "_view_module_version": "1.5.0",
            "_view_name": "HBoxView",
            "box_style": "",
            "children": [
              "IPY_MODEL_0a6989e03e9b49c9bf6d4f282cf98b08",
              "IPY_MODEL_cb21ec0204344de09db9403e6ea6e90b"
            ],
            "layout": "IPY_MODEL_f780392922574af3ac9067ce8913e749"
          }
        },
        "0a6989e03e9b49c9bf6d4f282cf98b08": {
          "model_module": "@jupyter-widgets/controls",
          "model_name": "FloatProgressModel",
          "state": {
            "_dom_classes": [],
            "_model_module": "@jupyter-widgets/controls",
            "_model_module_version": "1.5.0",
            "_model_name": "FloatProgressModel",
            "_view_count": null,
            "_view_module": "@jupyter-widgets/controls",
            "_view_module_version": "1.5.0",
            "_view_name": "ProgressView",
            "bar_style": "success",
            "description": "100%",
            "description_tooltip": null,
            "layout": "IPY_MODEL_fc41d569d2c9457784801a3d1846a1f9",
            "max": 693359,
            "min": 0,
            "orientation": "horizontal",
            "style": "IPY_MODEL_38eacb68c5bc4fce8ecbf69ed13dad96",
            "value": 693359
          }
        },
        "cb21ec0204344de09db9403e6ea6e90b": {
          "model_module": "@jupyter-widgets/controls",
          "model_name": "HTMLModel",
          "state": {
            "_dom_classes": [],
            "_model_module": "@jupyter-widgets/controls",
            "_model_module_version": "1.5.0",
            "_model_name": "HTMLModel",
            "_view_count": null,
            "_view_module": "@jupyter-widgets/controls",
            "_view_module_version": "1.5.0",
            "_view_name": "HTMLView",
            "description": "",
            "description_tooltip": null,
            "layout": "IPY_MODEL_67ed1da114a048d7ac365846e06c6ea7",
            "placeholder": "​",
            "style": "IPY_MODEL_965a8fb3568b48c486728484012c1a69",
            "value": " 693359/693359 [07:10&lt;00:00, 1608.90it/s]"
          }
        },
        "f780392922574af3ac9067ce8913e749": {
          "model_module": "@jupyter-widgets/base",
          "model_name": "LayoutModel",
          "state": {
            "_model_module": "@jupyter-widgets/base",
            "_model_module_version": "1.2.0",
            "_model_name": "LayoutModel",
            "_view_count": null,
            "_view_module": "@jupyter-widgets/base",
            "_view_module_version": "1.2.0",
            "_view_name": "LayoutView",
            "align_content": null,
            "align_items": null,
            "align_self": null,
            "border": null,
            "bottom": null,
            "display": null,
            "flex": null,
            "flex_flow": null,
            "grid_area": null,
            "grid_auto_columns": null,
            "grid_auto_flow": null,
            "grid_auto_rows": null,
            "grid_column": null,
            "grid_gap": null,
            "grid_row": null,
            "grid_template_areas": null,
            "grid_template_columns": null,
            "grid_template_rows": null,
            "height": null,
            "justify_content": null,
            "justify_items": null,
            "left": null,
            "margin": null,
            "max_height": null,
            "max_width": null,
            "min_height": null,
            "min_width": null,
            "object_fit": null,
            "object_position": null,
            "order": null,
            "overflow": null,
            "overflow_x": null,
            "overflow_y": null,
            "padding": null,
            "right": null,
            "top": null,
            "visibility": null,
            "width": null
          }
        },
        "fc41d569d2c9457784801a3d1846a1f9": {
          "model_module": "@jupyter-widgets/base",
          "model_name": "LayoutModel",
          "state": {
            "_model_module": "@jupyter-widgets/base",
            "_model_module_version": "1.2.0",
            "_model_name": "LayoutModel",
            "_view_count": null,
            "_view_module": "@jupyter-widgets/base",
            "_view_module_version": "1.2.0",
            "_view_name": "LayoutView",
            "align_content": null,
            "align_items": null,
            "align_self": null,
            "border": null,
            "bottom": null,
            "display": null,
            "flex": null,
            "flex_flow": null,
            "grid_area": null,
            "grid_auto_columns": null,
            "grid_auto_flow": null,
            "grid_auto_rows": null,
            "grid_column": null,
            "grid_gap": null,
            "grid_row": null,
            "grid_template_areas": null,
            "grid_template_columns": null,
            "grid_template_rows": null,
            "height": null,
            "justify_content": null,
            "justify_items": null,
            "left": null,
            "margin": null,
            "max_height": null,
            "max_width": null,
            "min_height": null,
            "min_width": null,
            "object_fit": null,
            "object_position": null,
            "order": null,
            "overflow": null,
            "overflow_x": null,
            "overflow_y": null,
            "padding": null,
            "right": null,
            "top": null,
            "visibility": null,
            "width": null
          }
        },
        "38eacb68c5bc4fce8ecbf69ed13dad96": {
          "model_module": "@jupyter-widgets/controls",
          "model_name": "ProgressStyleModel",
          "state": {
            "_model_module": "@jupyter-widgets/controls",
            "_model_module_version": "1.5.0",
            "_model_name": "ProgressStyleModel",
            "_view_count": null,
            "_view_module": "@jupyter-widgets/base",
            "_view_module_version": "1.2.0",
            "_view_name": "StyleView",
            "bar_color": null,
            "description_width": "initial"
          }
        },
        "67ed1da114a048d7ac365846e06c6ea7": {
          "model_module": "@jupyter-widgets/base",
          "model_name": "LayoutModel",
          "state": {
            "_model_module": "@jupyter-widgets/base",
            "_model_module_version": "1.2.0",
            "_model_name": "LayoutModel",
            "_view_count": null,
            "_view_module": "@jupyter-widgets/base",
            "_view_module_version": "1.2.0",
            "_view_name": "LayoutView",
            "align_content": null,
            "align_items": null,
            "align_self": null,
            "border": null,
            "bottom": null,
            "display": null,
            "flex": null,
            "flex_flow": null,
            "grid_area": null,
            "grid_auto_columns": null,
            "grid_auto_flow": null,
            "grid_auto_rows": null,
            "grid_column": null,
            "grid_gap": null,
            "grid_row": null,
            "grid_template_areas": null,
            "grid_template_columns": null,
            "grid_template_rows": null,
            "height": null,
            "justify_content": null,
            "justify_items": null,
            "left": null,
            "margin": null,
            "max_height": null,
            "max_width": null,
            "min_height": null,
            "min_width": null,
            "object_fit": null,
            "object_position": null,
            "order": null,
            "overflow": null,
            "overflow_x": null,
            "overflow_y": null,
            "padding": null,
            "right": null,
            "top": null,
            "visibility": null,
            "width": null
          }
        },
        "965a8fb3568b48c486728484012c1a69": {
          "model_module": "@jupyter-widgets/controls",
          "model_name": "DescriptionStyleModel",
          "state": {
            "_model_module": "@jupyter-widgets/controls",
            "_model_module_version": "1.5.0",
            "_model_name": "DescriptionStyleModel",
            "_view_count": null,
            "_view_module": "@jupyter-widgets/base",
            "_view_module_version": "1.2.0",
            "_view_name": "StyleView",
            "description_width": ""
          }
        }
      }
    }
  },
  "cells": [
    {
      "cell_type": "markdown",
      "metadata": {
        "id": "M_oO4ZyYU00Y"
      },
      "source": [
        "### Mercari Price \n",
        "The files consist of a list of product listings. These files are tab-delimited.\n",
        "\n",
        "Fields:\n",
        "- train_id or test_id - the id of the listing\n",
        "\n",
        "- name - the title of the listing. Note that we have cleaned the data to remove text that look like prices (e.g. $20) to avoid  leakage. These removed prices are represented as [rm]\n",
        "\n",
        "- item_condition_id - the condition of the items provided by the seller\n",
        "\n",
        "- category_name - category of the listing\n",
        "\n",
        "- brand_name\n",
        "\n",
        "- price - the price that the item was sold for. This is the target variable that you will predict. The unit is USD. This column doesn't exist in test.tsv since that is what you will predict.\n",
        "\n",
        "- shipping - 1 if shipping fee is paid by seller and 0 by buyer\n",
        "\n",
        "- item_description - the full description of the item. Note that we have cleaned the data to remove text that look like prices (e.g. $20) to avoid leakage. These removed prices are represented as [rm]"
      ]
    },
    {
      "cell_type": "markdown",
      "metadata": {
        "id": "PTBm7hc-CoRA"
      },
      "source": [
        "## Setup"
      ]
    },
    {
      "cell_type": "code",
      "metadata": {
        "colab": {
          "base_uri": "https://localhost:8080/"
        },
        "id": "XZWiRNuUU00w",
        "outputId": "f9a7a86d-a9bc-4462-968e-6432f5b9afc3"
      },
      "source": [
        "! pip install pydot graphviz emoji transformers\n",
        "\n",
        "import pandas as pd\n",
        "import numpy as np\n",
        "\n",
        "from nltk.tokenize import word_tokenize\n",
        "import nltk\n",
        "import tensorflow as tf\n",
        "from tensorflow import keras\n",
        "from tensorflow.keras.preprocessing.text import Tokenizer\n",
        "from tensorflow.keras.preprocessing.sequence import pad_sequences\n",
        "\n",
        "import tensorflow.keras.backend as K\n",
        "\n",
        "\n",
        "from tqdm._tqdm_notebook import tqdm_notebook\n",
        "\n",
        "import os\n",
        "import itertools\n",
        "\n",
        "import matplotlib.pyplot as plt\n",
        "import itertools\n",
        "from collections import Counter\n",
        "import seaborn as sns\n",
        "\n",
        "from sklearn.model_selection import train_test_split\n",
        "from sklearn import preprocessing\n",
        "from sklearn.preprocessing import StandardScaler\n",
        "\n",
        "from tensorflow.keras.layers import Dense, Input, Embedding, Concatenate, Flatten, Dropout, LSTM, GlobalMaxPool1D\n",
        "from tensorflow.keras.models import Model\n",
        "from tensorflow.keras.utils import plot_model\n",
        "\n",
        "from nltk.corpus import stopwords\n",
        "import string\n",
        "\n",
        "import pickle\n",
        "\n",
        "from tensorflow.keras.preprocessing.text import text_to_word_sequence \n",
        "from nltk.stem import WordNetLemmatizer\n",
        "\n",
        "from nltk.tokenize import TweetTokenizer\n",
        "\n",
        "import emoji\n",
        "import os\n",
        "\n",
        "from sklearn.feature_extraction.text import CountVectorizer\n",
        "\n",
        "import transformers\n",
        "from transformers import DistilBertTokenizer, TFDistilBertModel, pipeline\n",
        "\n",
        "nltk.download('wordnet')\n",
        "nltk.download('stopwords')\n",
        "nltk.download('punkt')\n",
        "\n",
        "\n",
        "stop_words = set(stopwords.words('english'))\n",
        "stop_words.remove(\"no\")\n",
        "\n",
        "tqdm_notebook.pandas()"
      ],
      "execution_count": 1,
      "outputs": [
        {
          "output_type": "stream",
          "text": [
            "Requirement already satisfied: pydot in /usr/local/lib/python3.6/dist-packages (1.3.0)\n",
            "Requirement already satisfied: graphviz in /usr/local/lib/python3.6/dist-packages (0.10.1)\n",
            "Requirement already satisfied: emoji in /usr/local/lib/python3.6/dist-packages (0.6.0)\n",
            "Requirement already satisfied: transformers in /usr/local/lib/python3.6/dist-packages (4.1.1)\n",
            "Requirement already satisfied: pyparsing>=2.1.4 in /usr/local/lib/python3.6/dist-packages (from pydot) (2.4.7)\n",
            "Requirement already satisfied: regex!=2019.12.17 in /usr/local/lib/python3.6/dist-packages (from transformers) (2019.12.20)\n",
            "Requirement already satisfied: sacremoses in /usr/local/lib/python3.6/dist-packages (from transformers) (0.0.43)\n",
            "Requirement already satisfied: tqdm>=4.27 in /usr/local/lib/python3.6/dist-packages (from transformers) (4.41.1)\n",
            "Requirement already satisfied: packaging in /usr/local/lib/python3.6/dist-packages (from transformers) (20.8)\n",
            "Requirement already satisfied: requests in /usr/local/lib/python3.6/dist-packages (from transformers) (2.23.0)\n",
            "Requirement already satisfied: tokenizers==0.9.4 in /usr/local/lib/python3.6/dist-packages (from transformers) (0.9.4)\n",
            "Requirement already satisfied: filelock in /usr/local/lib/python3.6/dist-packages (from transformers) (3.0.12)\n",
            "Requirement already satisfied: numpy in /usr/local/lib/python3.6/dist-packages (from transformers) (1.19.4)\n",
            "Requirement already satisfied: dataclasses; python_version < \"3.7\" in /usr/local/lib/python3.6/dist-packages (from transformers) (0.8)\n",
            "Requirement already satisfied: click in /usr/local/lib/python3.6/dist-packages (from sacremoses->transformers) (7.1.2)\n",
            "Requirement already satisfied: six in /usr/local/lib/python3.6/dist-packages (from sacremoses->transformers) (1.15.0)\n",
            "Requirement already satisfied: joblib in /usr/local/lib/python3.6/dist-packages (from sacremoses->transformers) (1.0.0)\n",
            "Requirement already satisfied: chardet<4,>=3.0.2 in /usr/local/lib/python3.6/dist-packages (from requests->transformers) (3.0.4)\n",
            "Requirement already satisfied: idna<3,>=2.5 in /usr/local/lib/python3.6/dist-packages (from requests->transformers) (2.10)\n",
            "Requirement already satisfied: urllib3!=1.25.0,!=1.25.1,<1.26,>=1.21.1 in /usr/local/lib/python3.6/dist-packages (from requests->transformers) (1.24.3)\n",
            "Requirement already satisfied: certifi>=2017.4.17 in /usr/local/lib/python3.6/dist-packages (from requests->transformers) (2020.12.5)\n"
          ],
          "name": "stdout"
        },
        {
          "output_type": "stream",
          "text": [
            "/usr/local/lib/python3.6/dist-packages/ipykernel_launcher.py:16: TqdmDeprecationWarning: This function will be removed in tqdm==5.0.0\n",
            "Please use `tqdm.notebook.*` instead of `tqdm._tqdm_notebook.*`\n",
            "  app.launch_new_instance()\n"
          ],
          "name": "stderr"
        },
        {
          "output_type": "stream",
          "text": [
            "[nltk_data] Downloading package wordnet to /root/nltk_data...\n",
            "[nltk_data]   Package wordnet is already up-to-date!\n",
            "[nltk_data] Downloading package stopwords to /root/nltk_data...\n",
            "[nltk_data]   Package stopwords is already up-to-date!\n",
            "[nltk_data] Downloading package punkt to /root/nltk_data...\n",
            "[nltk_data]   Package punkt is already up-to-date!\n"
          ],
          "name": "stdout"
        }
      ]
    },
    {
      "cell_type": "code",
      "metadata": {
        "id": "K0ETrpfjg_ha"
      },
      "source": [
        "msle = tf.keras.losses.MeanSquaredLogarithmicError()\r\n",
        "\r\n",
        "def root_mean_squared_logarithmic_error(y_true, y_pred):\r\n",
        "    return K.sqrt(msle(y_true, y_pred))"
      ],
      "execution_count": 2,
      "outputs": []
    },
    {
      "cell_type": "markdown",
      "metadata": {
        "id": "PRXV0oKS-Yn3"
      },
      "source": [
        "## Colab"
      ]
    },
    {
      "cell_type": "code",
      "metadata": {
        "colab": {
          "base_uri": "https://localhost:8080/",
          "height": 35
        },
        "id": "ckhXGgT8-XzG",
        "outputId": "f79f1877-8e1a-4fc6-eb59-a21ef165539a"
      },
      "source": [
        "RunningInCOLAB = 'google.colab' in str(get_ipython())\n",
        "\n",
        "# check if in colab\n",
        "if RunningInCOLAB and not os.path.isdir('/content/gdrive'):\n",
        "    print(\"Running in colab\")\n",
        "    from google.colab import drive\n",
        "    drive.mount('/content/gdrive', force_remount=True)\n",
        "    colab_root = '/content/drive'\n",
        "      \n",
        "if RunningInCOLAB:\n",
        "    root_dir = \"/content/gdrive/My Drive/\"\n",
        "    base_dir = root_dir + 'project-mercari-price/'\n",
        "    if not os.path.isdir(base_dir):\n",
        "        os.mkdir(base_dir)\n",
        "else:\n",
        "    root_dir= os.getcwd()\n",
        "    base_dir = root_dir\n",
        "\n",
        "os.chdir(base_dir)\n",
        "\n",
        "os.getcwd()"
      ],
      "execution_count": 3,
      "outputs": [
        {
          "output_type": "execute_result",
          "data": {
            "application/vnd.google.colaboratory.intrinsic+json": {
              "type": "string"
            },
            "text/plain": [
              "'/content/gdrive/My Drive/project-mercari-price'"
            ]
          },
          "metadata": {
            "tags": []
          },
          "execution_count": 3
        }
      ]
    },
    {
      "cell_type": "markdown",
      "metadata": {
        "id": "5tMt4O6n3yTD"
      },
      "source": [
        "## Dataset download"
      ]
    },
    {
      "cell_type": "code",
      "metadata": {
        "colab": {
          "base_uri": "https://localhost:8080/"
        },
        "id": "oXCUW4PtU00k",
        "outputId": "acb6123f-ad19-4540-c73b-e78caaef7820"
      },
      "source": [
        "dataset_downloaded_path = os.path.join(base_dir, \"dataset_downloaded.ignore\")\n",
        "dataset_downloaded = os.path.isfile(dataset_downloaded_path)\n",
        "dataset_downloaded\n",
        "\n",
        "if not dataset_downloaded:\n",
        "  # install kaggle to download dataset\n",
        "  ! pip install kaggle python-dotenv\n",
        "\n",
        "# set to True if you want to save kaggle credentials into a .env file\n",
        "persist_credentials = False\n",
        "\n",
        "if not dataset_downloaded:\n",
        "  # create .env file containing KAGGLE_USER and KAGGLE_KEY\n",
        "    kaggle_env = os.path.join(base_dir, '.env')\n",
        "    if not os.path.isfile(kaggle_env):\n",
        "        with open(kaggle_env, 'w') as envfile:\n",
        "            kaggle_user = input(\"Insert kaggle username\")\n",
        "            kaggle_key = input(\"Insert kaggle key; generate one from kaggle account\")\n",
        "        if persist_credentials:\n",
        "            envfile.write(f\"\"\"\n",
        "            KAGGLE_USERNAME={kaggle_user}\n",
        "            KAGGLE_KEY={kaggle_key}\n",
        "            \"\"\")\n",
        "\n",
        "        # set env vars\n",
        "        os.environ[\"KAGGLE_USERNAME\"] = kaggle_user\n",
        "        os.environ[\"KAGGLE_KEY\"] = kaggle_key\n",
        "\n",
        "        del kaggle_user\n",
        "        del kaggle_key\n",
        "\n",
        "if not dataset_downloaded:\n",
        "  # loading env vars if .env file exists\n",
        "    if os.path.isfile(kaggle_env):\n",
        "        from dotenv import load_dotenv\n",
        "        load_dotenv(dotenv_path=kaggle_env)\n",
        "    print(os.environ.get(\"KAGGLE_USERNAME\"))\n",
        "\n",
        "if not dataset_downloaded:\n",
        "    # download and extract dataset\n",
        "    ! kaggle competitions download -c mercari-price-suggestion-challenge\n",
        "\n",
        "    # create file so that we know we already downloaded\n",
        "    with open(dataset_downloaded_path, 'w') as dd_file:\n",
        "        dataset_downloaded = True\n",
        "        dd_file.write(\"\")\n",
        "\n",
        "    print('cwd: ', os.getcwd())\n",
        "    \n",
        "    os.listdir()\n",
        "\n",
        "if not dataset_downloaded:\n",
        "    ! 7z x train.tsv.7z\n",
        "    ! 7z x test.tsv.7z\n",
        "\n",
        "os.listdir()"
      ],
      "execution_count": null,
      "outputs": [
        {
          "output_type": "execute_result",
          "data": {
            "text/plain": [
              "['train.tsv',\n",
              " 'test.tsv',\n",
              " '.env',\n",
              " 'dataset_downloaded.ignore',\n",
              " 'Untitled0.ipynb',\n",
              " 'MercariPrice_old.ipynb',\n",
              " 'train_preprocess.npy',\n",
              " 'test_preprocess.npy',\n",
              " 'MercariPrice1_old.ipynb',\n",
              " 'model.png',\n",
              " 'MercariPrice1.ipynb']"
            ]
          },
          "metadata": {
            "tags": []
          },
          "execution_count": 4
        }
      ]
    },
    {
      "cell_type": "markdown",
      "metadata": {
        "id": "8pyEueRK3yTL"
      },
      "source": [
        "## Load dataset"
      ]
    },
    {
      "cell_type": "code",
      "metadata": {
        "colab": {
          "base_uri": "https://localhost:8080/",
          "height": 985
        },
        "id": "j5Vg17INU00x",
        "outputId": "55313580-9a5c-4c2e-8d1d-fc7de9050c4e"
      },
      "source": [
        "dtypes={\n",
        "    'name': 'string',\n",
        "    'item_condition_id': 'int32',\n",
        "    'category_name': 'string',\n",
        "    'brand_name': 'string',\n",
        "    'price': 'float',\n",
        "    'shipping': 'int32',\n",
        "    'item_description': 'string'\n",
        "}\n",
        "data = pd.read_csv(\"train.tsv\", sep='\\t', dtype=dtypes)\n",
        "data = data.drop(columns=[\"train_id\"])\n",
        "print(data.dtypes)\n",
        "print(data.shape)\n",
        "data"
      ],
      "execution_count": 4,
      "outputs": [
        {
          "output_type": "stream",
          "text": [
            "name                  string\n",
            "item_condition_id      int32\n",
            "category_name         string\n",
            "brand_name            string\n",
            "price                float64\n",
            "shipping               int32\n",
            "item_description      string\n",
            "dtype: object\n",
            "(1482535, 7)\n"
          ],
          "name": "stdout"
        },
        {
          "output_type": "execute_result",
          "data": {
            "text/html": [
              "<div>\n",
              "<style scoped>\n",
              "    .dataframe tbody tr th:only-of-type {\n",
              "        vertical-align: middle;\n",
              "    }\n",
              "\n",
              "    .dataframe tbody tr th {\n",
              "        vertical-align: top;\n",
              "    }\n",
              "\n",
              "    .dataframe thead th {\n",
              "        text-align: right;\n",
              "    }\n",
              "</style>\n",
              "<table border=\"1\" class=\"dataframe\">\n",
              "  <thead>\n",
              "    <tr style=\"text-align: right;\">\n",
              "      <th></th>\n",
              "      <th>name</th>\n",
              "      <th>item_condition_id</th>\n",
              "      <th>category_name</th>\n",
              "      <th>brand_name</th>\n",
              "      <th>price</th>\n",
              "      <th>shipping</th>\n",
              "      <th>item_description</th>\n",
              "    </tr>\n",
              "  </thead>\n",
              "  <tbody>\n",
              "    <tr>\n",
              "      <th>0</th>\n",
              "      <td>MLB Cincinnati Reds T Shirt Size XL</td>\n",
              "      <td>3</td>\n",
              "      <td>Men/Tops/T-shirts</td>\n",
              "      <td>&lt;NA&gt;</td>\n",
              "      <td>10.0</td>\n",
              "      <td>1</td>\n",
              "      <td>No description yet</td>\n",
              "    </tr>\n",
              "    <tr>\n",
              "      <th>1</th>\n",
              "      <td>Razer BlackWidow Chroma Keyboard</td>\n",
              "      <td>3</td>\n",
              "      <td>Electronics/Computers &amp; Tablets/Components &amp; P...</td>\n",
              "      <td>Razer</td>\n",
              "      <td>52.0</td>\n",
              "      <td>0</td>\n",
              "      <td>This keyboard is in great condition and works ...</td>\n",
              "    </tr>\n",
              "    <tr>\n",
              "      <th>2</th>\n",
              "      <td>AVA-VIV Blouse</td>\n",
              "      <td>1</td>\n",
              "      <td>Women/Tops &amp; Blouses/Blouse</td>\n",
              "      <td>Target</td>\n",
              "      <td>10.0</td>\n",
              "      <td>1</td>\n",
              "      <td>Adorable top with a hint of lace and a key hol...</td>\n",
              "    </tr>\n",
              "    <tr>\n",
              "      <th>3</th>\n",
              "      <td>Leather Horse Statues</td>\n",
              "      <td>1</td>\n",
              "      <td>Home/Home Décor/Home Décor Accents</td>\n",
              "      <td>&lt;NA&gt;</td>\n",
              "      <td>35.0</td>\n",
              "      <td>1</td>\n",
              "      <td>New with tags. Leather horses. Retail for [rm]...</td>\n",
              "    </tr>\n",
              "    <tr>\n",
              "      <th>4</th>\n",
              "      <td>24K GOLD plated rose</td>\n",
              "      <td>1</td>\n",
              "      <td>Women/Jewelry/Necklaces</td>\n",
              "      <td>&lt;NA&gt;</td>\n",
              "      <td>44.0</td>\n",
              "      <td>0</td>\n",
              "      <td>Complete with certificate of authenticity</td>\n",
              "    </tr>\n",
              "    <tr>\n",
              "      <th>...</th>\n",
              "      <td>...</td>\n",
              "      <td>...</td>\n",
              "      <td>...</td>\n",
              "      <td>...</td>\n",
              "      <td>...</td>\n",
              "      <td>...</td>\n",
              "      <td>...</td>\n",
              "    </tr>\n",
              "    <tr>\n",
              "      <th>1482530</th>\n",
              "      <td>Free People Inspired Dress</td>\n",
              "      <td>2</td>\n",
              "      <td>Women/Dresses/Mid-Calf</td>\n",
              "      <td>Free People</td>\n",
              "      <td>20.0</td>\n",
              "      <td>1</td>\n",
              "      <td>Lace, says size small but fits medium perfectl...</td>\n",
              "    </tr>\n",
              "    <tr>\n",
              "      <th>1482531</th>\n",
              "      <td>Little mermaid handmade dress</td>\n",
              "      <td>2</td>\n",
              "      <td>Kids/Girls 2T-5T/Dresses</td>\n",
              "      <td>Disney</td>\n",
              "      <td>14.0</td>\n",
              "      <td>0</td>\n",
              "      <td>Little mermaid handmade dress never worn size 2t</td>\n",
              "    </tr>\n",
              "    <tr>\n",
              "      <th>1482532</th>\n",
              "      <td>21 day fix containers and eating plan</td>\n",
              "      <td>2</td>\n",
              "      <td>Sports &amp; Outdoors/Exercise/Fitness accessories</td>\n",
              "      <td>&lt;NA&gt;</td>\n",
              "      <td>12.0</td>\n",
              "      <td>0</td>\n",
              "      <td>Used once or twice, still in great shape.</td>\n",
              "    </tr>\n",
              "    <tr>\n",
              "      <th>1482533</th>\n",
              "      <td>World markets lanterns</td>\n",
              "      <td>3</td>\n",
              "      <td>Home/Home Décor/Home Décor Accents</td>\n",
              "      <td>&lt;NA&gt;</td>\n",
              "      <td>45.0</td>\n",
              "      <td>1</td>\n",
              "      <td>There is 2 of each one that you see! So 2 red ...</td>\n",
              "    </tr>\n",
              "    <tr>\n",
              "      <th>1482534</th>\n",
              "      <td>Brand new lux de ville wallet</td>\n",
              "      <td>1</td>\n",
              "      <td>Women/Women's Accessories/Wallets</td>\n",
              "      <td>&lt;NA&gt;</td>\n",
              "      <td>22.0</td>\n",
              "      <td>0</td>\n",
              "      <td>New with tag, red with sparkle. Firm price, no...</td>\n",
              "    </tr>\n",
              "  </tbody>\n",
              "</table>\n",
              "<p>1482535 rows × 7 columns</p>\n",
              "</div>"
            ],
            "text/plain": [
              "                                          name  ...                                   item_description\n",
              "0          MLB Cincinnati Reds T Shirt Size XL  ...                                 No description yet\n",
              "1             Razer BlackWidow Chroma Keyboard  ...  This keyboard is in great condition and works ...\n",
              "2                               AVA-VIV Blouse  ...  Adorable top with a hint of lace and a key hol...\n",
              "3                        Leather Horse Statues  ...  New with tags. Leather horses. Retail for [rm]...\n",
              "4                         24K GOLD plated rose  ...          Complete with certificate of authenticity\n",
              "...                                        ...  ...                                                ...\n",
              "1482530             Free People Inspired Dress  ...  Lace, says size small but fits medium perfectl...\n",
              "1482531          Little mermaid handmade dress  ...   Little mermaid handmade dress never worn size 2t\n",
              "1482532  21 day fix containers and eating plan  ...          Used once or twice, still in great shape.\n",
              "1482533                 World markets lanterns  ...  There is 2 of each one that you see! So 2 red ...\n",
              "1482534          Brand new lux de ville wallet  ...  New with tag, red with sparkle. Firm price, no...\n",
              "\n",
              "[1482535 rows x 7 columns]"
            ]
          },
          "metadata": {
            "tags": []
          },
          "execution_count": 4
        }
      ]
    },
    {
      "cell_type": "code",
      "metadata": {
        "colab": {
          "base_uri": "https://localhost:8080/",
          "height": 865
        },
        "id": "vWgi5SxW9SsE",
        "outputId": "cf1e5b42-829f-485a-a0bc-746400777087"
      },
      "source": [
        "dtypes={\r\n",
        "    'name': 'string',\r\n",
        "    'item_condition_id': 'int32',\r\n",
        "    'category_name': 'string',\r\n",
        "    'brand_name': 'string',\r\n",
        "    'price': 'float',\r\n",
        "    'shipping': 'int32',\r\n",
        "    'item_description': 'string'\r\n",
        "}\r\n",
        "test = pd.read_csv(\"test.tsv\", sep='\\t', dtype=dtypes)\r\n",
        "test = test.drop(columns=[\"test_id\"])\r\n",
        "print(test.dtypes)\r\n",
        "print(test.shape)\r\n",
        "test"
      ],
      "execution_count": 5,
      "outputs": [
        {
          "output_type": "stream",
          "text": [
            "name                 string\n",
            "item_condition_id     int32\n",
            "category_name        string\n",
            "brand_name           string\n",
            "shipping              int32\n",
            "item_description     string\n",
            "dtype: object\n",
            "(693359, 6)\n"
          ],
          "name": "stdout"
        },
        {
          "output_type": "execute_result",
          "data": {
            "text/html": [
              "<div>\n",
              "<style scoped>\n",
              "    .dataframe tbody tr th:only-of-type {\n",
              "        vertical-align: middle;\n",
              "    }\n",
              "\n",
              "    .dataframe tbody tr th {\n",
              "        vertical-align: top;\n",
              "    }\n",
              "\n",
              "    .dataframe thead th {\n",
              "        text-align: right;\n",
              "    }\n",
              "</style>\n",
              "<table border=\"1\" class=\"dataframe\">\n",
              "  <thead>\n",
              "    <tr style=\"text-align: right;\">\n",
              "      <th></th>\n",
              "      <th>name</th>\n",
              "      <th>item_condition_id</th>\n",
              "      <th>category_name</th>\n",
              "      <th>brand_name</th>\n",
              "      <th>shipping</th>\n",
              "      <th>item_description</th>\n",
              "    </tr>\n",
              "  </thead>\n",
              "  <tbody>\n",
              "    <tr>\n",
              "      <th>0</th>\n",
              "      <td>Breast cancer \"I fight like a girl\" ring</td>\n",
              "      <td>1</td>\n",
              "      <td>Women/Jewelry/Rings</td>\n",
              "      <td>&lt;NA&gt;</td>\n",
              "      <td>1</td>\n",
              "      <td>Size 7</td>\n",
              "    </tr>\n",
              "    <tr>\n",
              "      <th>1</th>\n",
              "      <td>25 pcs NEW 7.5\"x12\" Kraft Bubble Mailers</td>\n",
              "      <td>1</td>\n",
              "      <td>Other/Office supplies/Shipping Supplies</td>\n",
              "      <td>&lt;NA&gt;</td>\n",
              "      <td>1</td>\n",
              "      <td>25 pcs NEW 7.5\"x12\" Kraft Bubble Mailers Lined...</td>\n",
              "    </tr>\n",
              "    <tr>\n",
              "      <th>2</th>\n",
              "      <td>Coach bag</td>\n",
              "      <td>1</td>\n",
              "      <td>Vintage &amp; Collectibles/Bags and Purses/Handbag</td>\n",
              "      <td>Coach</td>\n",
              "      <td>1</td>\n",
              "      <td>Brand new coach bag. Bought for [rm] at a Coac...</td>\n",
              "    </tr>\n",
              "    <tr>\n",
              "      <th>3</th>\n",
              "      <td>Floral Kimono</td>\n",
              "      <td>2</td>\n",
              "      <td>Women/Sweaters/Cardigan</td>\n",
              "      <td>&lt;NA&gt;</td>\n",
              "      <td>0</td>\n",
              "      <td>-floral kimono -never worn -lightweight and pe...</td>\n",
              "    </tr>\n",
              "    <tr>\n",
              "      <th>4</th>\n",
              "      <td>Life after Death</td>\n",
              "      <td>3</td>\n",
              "      <td>Other/Books/Religion &amp; Spirituality</td>\n",
              "      <td>&lt;NA&gt;</td>\n",
              "      <td>1</td>\n",
              "      <td>Rediscovering life after the loss of a loved o...</td>\n",
              "    </tr>\n",
              "    <tr>\n",
              "      <th>...</th>\n",
              "      <td>...</td>\n",
              "      <td>...</td>\n",
              "      <td>...</td>\n",
              "      <td>...</td>\n",
              "      <td>...</td>\n",
              "      <td>...</td>\n",
              "    </tr>\n",
              "    <tr>\n",
              "      <th>693354</th>\n",
              "      <td>Quartz crystal on Flint stone</td>\n",
              "      <td>1</td>\n",
              "      <td>Home/Home Décor/Home Décor Accents</td>\n",
              "      <td>&lt;NA&gt;</td>\n",
              "      <td>0</td>\n",
              "      <td>Flint/Quartz cluster. Self mined ✨measures 3x2...</td>\n",
              "    </tr>\n",
              "    <tr>\n",
              "      <th>693355</th>\n",
              "      <td>It Cosmetics - Travel Bundle</td>\n",
              "      <td>1</td>\n",
              "      <td>Beauty/Makeup/Makeup Sets</td>\n",
              "      <td>IT Cosmetics</td>\n",
              "      <td>1</td>\n",
              "      <td>It Cosmetics travel bundle. Includes: Brow pow...</td>\n",
              "    </tr>\n",
              "    <tr>\n",
              "      <th>693356</th>\n",
              "      <td>Galaxy S8 hard shell case</td>\n",
              "      <td>1</td>\n",
              "      <td>Electronics/Cell Phones &amp; Accessories/Cases, C...</td>\n",
              "      <td>&lt;NA&gt;</td>\n",
              "      <td>1</td>\n",
              "      <td>New. Free shipping Basstop case</td>\n",
              "    </tr>\n",
              "    <tr>\n",
              "      <th>693357</th>\n",
              "      <td>Hi low floral kimono</td>\n",
              "      <td>2</td>\n",
              "      <td>Women/Swimwear/Cover-Ups</td>\n",
              "      <td>&lt;NA&gt;</td>\n",
              "      <td>0</td>\n",
              "      <td>Floral kimono. Tropical print. Open front. Hi ...</td>\n",
              "    </tr>\n",
              "    <tr>\n",
              "      <th>693358</th>\n",
              "      <td>FREESHIP 2 Floral Scrub Tops, medium.</td>\n",
              "      <td>2</td>\n",
              "      <td>Women/Tops &amp; Blouses/T-Shirts</td>\n",
              "      <td>&lt;NA&gt;</td>\n",
              "      <td>1</td>\n",
              "      <td>2 Floral scrub tops. Worn less than 5 times ea...</td>\n",
              "    </tr>\n",
              "  </tbody>\n",
              "</table>\n",
              "<p>693359 rows × 6 columns</p>\n",
              "</div>"
            ],
            "text/plain": [
              "                                            name  ...                                   item_description\n",
              "0       Breast cancer \"I fight like a girl\" ring  ...                                             Size 7\n",
              "1       25 pcs NEW 7.5\"x12\" Kraft Bubble Mailers  ...  25 pcs NEW 7.5\"x12\" Kraft Bubble Mailers Lined...\n",
              "2                                      Coach bag  ...  Brand new coach bag. Bought for [rm] at a Coac...\n",
              "3                                  Floral Kimono  ...  -floral kimono -never worn -lightweight and pe...\n",
              "4                               Life after Death  ...  Rediscovering life after the loss of a loved o...\n",
              "...                                          ...  ...                                                ...\n",
              "693354             Quartz crystal on Flint stone  ...  Flint/Quartz cluster. Self mined ✨measures 3x2...\n",
              "693355              It Cosmetics - Travel Bundle  ...  It Cosmetics travel bundle. Includes: Brow pow...\n",
              "693356                 Galaxy S8 hard shell case  ...                    New. Free shipping Basstop case\n",
              "693357                      Hi low floral kimono  ...  Floral kimono. Tropical print. Open front. Hi ...\n",
              "693358     FREESHIP 2 Floral Scrub Tops, medium.  ...  2 Floral scrub tops. Worn less than 5 times ea...\n",
              "\n",
              "[693359 rows x 6 columns]"
            ]
          },
          "metadata": {
            "tags": []
          },
          "execution_count": 5
        }
      ]
    },
    {
      "cell_type": "code",
      "metadata": {
        "id": "rvujMFFXCxL8",
        "colab": {
          "base_uri": "https://localhost:8080/"
        },
        "outputId": "bab063f0-9f66-4b55-f091-686d0503edbf"
      },
      "source": [
        "for column in data.columns:\n",
        "    print(\"number of null value in {} : {}\".format(column,data[column].isnull().sum()))"
      ],
      "execution_count": 6,
      "outputs": [
        {
          "output_type": "stream",
          "text": [
            "number of null value in name : 0\n",
            "number of null value in item_condition_id : 0\n",
            "number of null value in category_name : 6327\n",
            "number of null value in brand_name : 632682\n",
            "number of null value in price : 0\n",
            "number of null value in shipping : 0\n",
            "number of null value in item_description : 4\n"
          ],
          "name": "stdout"
        }
      ]
    },
    {
      "cell_type": "code",
      "metadata": {
        "colab": {
          "base_uri": "https://localhost:8080/"
        },
        "id": "6NltZr2wAdYc",
        "outputId": "219ec151-b302-4762-863c-36d083d522dd"
      },
      "source": [
        "for column in test.columns:\r\n",
        "    print(\"number of null value in {} : {}\".format(column,test[column].isnull().sum()))"
      ],
      "execution_count": 7,
      "outputs": [
        {
          "output_type": "stream",
          "text": [
            "number of null value in name : 0\n",
            "number of null value in item_condition_id : 0\n",
            "number of null value in category_name : 3058\n",
            "number of null value in brand_name : 295525\n",
            "number of null value in shipping : 0\n",
            "number of null value in item_description : 0\n"
          ],
          "name": "stdout"
        }
      ]
    },
    {
      "cell_type": "code",
      "metadata": {
        "colab": {
          "base_uri": "https://localhost:8080/"
        },
        "id": "XtxgmC-LHnmN",
        "outputId": "747e8ff5-045a-4911-f247-2903f5dfd618"
      },
      "source": [
        "data[\"category_name\"].value_counts()"
      ],
      "execution_count": 8,
      "outputs": [
        {
          "output_type": "execute_result",
          "data": {
            "text/plain": [
              "Women/Athletic Apparel/Pants, Tights, Leggings    60177\n",
              "Women/Tops & Blouses/T-Shirts                     46380\n",
              "Beauty/Makeup/Face                                34335\n",
              "Beauty/Makeup/Lips                                29910\n",
              "Electronics/Video Games & Consoles/Games          26557\n",
              "                                                  ...  \n",
              "Vintage & Collectibles/Supplies/Ephemera              1\n",
              "Handmade/Dolls and Miniatures/Child Friendly          1\n",
              "Vintage & Collectibles/Furniture/Shelf                1\n",
              "Handmade/Woodworking/Sports                           1\n",
              "Handmade/Knitting/Women                               1\n",
              "Name: category_name, Length: 1287, dtype: Int64"
            ]
          },
          "metadata": {
            "tags": []
          },
          "execution_count": 8
        }
      ]
    },
    {
      "cell_type": "code",
      "metadata": {
        "colab": {
          "base_uri": "https://localhost:8080/"
        },
        "id": "JOYErCoVHnmO",
        "outputId": "97b66c7f-1b39-4818-f5d1-c8ea97b33931"
      },
      "source": [
        "data[\"price\"].describe()"
      ],
      "execution_count": 9,
      "outputs": [
        {
          "output_type": "execute_result",
          "data": {
            "text/plain": [
              "count    1.482535e+06\n",
              "mean     2.673752e+01\n",
              "std      3.858607e+01\n",
              "min      0.000000e+00\n",
              "25%      1.000000e+01\n",
              "50%      1.700000e+01\n",
              "75%      2.900000e+01\n",
              "max      2.009000e+03\n",
              "Name: price, dtype: float64"
            ]
          },
          "metadata": {
            "tags": []
          },
          "execution_count": 9
        }
      ]
    },
    {
      "cell_type": "markdown",
      "metadata": {
        "id": "cw5N2UjxiPcW"
      },
      "source": [
        "# Data cleansing\n",
        "\n",
        "Handle missing values and wrong prices"
      ]
    },
    {
      "cell_type": "markdown",
      "metadata": {
        "id": "UnzdF-qLrlGI"
      },
      "source": [
        "https://www.mercari.com/us/help_center/article/69"
      ]
    },
    {
      "cell_type": "code",
      "metadata": {
        "colab": {
          "base_uri": "https://localhost:8080/"
        },
        "id": "yyUE4a4Jp4E9",
        "outputId": "1a3990be-c1b9-4ed3-ad66-ad9b5bb8bf23"
      },
      "source": [
        "len(data[data[\"price\"]<5])"
      ],
      "execution_count": 10,
      "outputs": [
        {
          "output_type": "execute_result",
          "data": {
            "text/plain": [
              "35716"
            ]
          },
          "metadata": {
            "tags": []
          },
          "execution_count": 10
        }
      ]
    },
    {
      "cell_type": "code",
      "metadata": {
        "id": "jCbqNKgKp7f2"
      },
      "source": [
        "data=data[data[\"price\"]>=5]"
      ],
      "execution_count": 11,
      "outputs": []
    },
    {
      "cell_type": "code",
      "metadata": {
        "colab": {
          "base_uri": "https://localhost:8080/"
        },
        "id": "kxBs1Xr4AlsD",
        "outputId": "3222e137-483a-44a1-aad0-19a272bcbb1b"
      },
      "source": [
        "data = data[data[\"item_description\"].notna()]\r\n",
        "data[\"brand_name\"] = data[\"brand_name\"].fillna(value=\"NA\")\r\n",
        "data[\"category_name\"] = data[\"category_name\"].fillna(value=\"NA\")\r\n",
        "# see warnings -> inplace?\r\n",
        "data.shape"
      ],
      "execution_count": 12,
      "outputs": [
        {
          "output_type": "execute_result",
          "data": {
            "text/plain": [
              "(1446815, 7)"
            ]
          },
          "metadata": {
            "tags": []
          },
          "execution_count": 12
        }
      ]
    },
    {
      "cell_type": "code",
      "metadata": {
        "colab": {
          "base_uri": "https://localhost:8080/"
        },
        "id": "jUBsIEJqC0cg",
        "outputId": "1bad5ec1-756c-4f00-9665-0130fa6ef3f7"
      },
      "source": [
        "test[\"brand_name\"] = test[\"brand_name\"].fillna(value=\"NA\")\n",
        "test[\"category_name\"] = test[\"category_name\"].fillna(value=\"NA\")\n",
        "# see warnings -> inplace?\n",
        "test.shape"
      ],
      "execution_count": 13,
      "outputs": [
        {
          "output_type": "execute_result",
          "data": {
            "text/plain": [
              "(693359, 6)"
            ]
          },
          "metadata": {
            "tags": []
          },
          "execution_count": 13
        }
      ]
    },
    {
      "cell_type": "code",
      "metadata": {
        "colab": {
          "base_uri": "https://localhost:8080/",
          "height": 834
        },
        "id": "FNY29qP2HnmS",
        "outputId": "735e6e74-2601-4e07-c081-6a521d2d0130"
      },
      "source": [
        "data"
      ],
      "execution_count": 14,
      "outputs": [
        {
          "output_type": "execute_result",
          "data": {
            "text/html": [
              "<div>\n",
              "<style scoped>\n",
              "    .dataframe tbody tr th:only-of-type {\n",
              "        vertical-align: middle;\n",
              "    }\n",
              "\n",
              "    .dataframe tbody tr th {\n",
              "        vertical-align: top;\n",
              "    }\n",
              "\n",
              "    .dataframe thead th {\n",
              "        text-align: right;\n",
              "    }\n",
              "</style>\n",
              "<table border=\"1\" class=\"dataframe\">\n",
              "  <thead>\n",
              "    <tr style=\"text-align: right;\">\n",
              "      <th></th>\n",
              "      <th>name</th>\n",
              "      <th>item_condition_id</th>\n",
              "      <th>category_name</th>\n",
              "      <th>brand_name</th>\n",
              "      <th>price</th>\n",
              "      <th>shipping</th>\n",
              "      <th>item_description</th>\n",
              "    </tr>\n",
              "  </thead>\n",
              "  <tbody>\n",
              "    <tr>\n",
              "      <th>0</th>\n",
              "      <td>MLB Cincinnati Reds T Shirt Size XL</td>\n",
              "      <td>3</td>\n",
              "      <td>Men/Tops/T-shirts</td>\n",
              "      <td>NA</td>\n",
              "      <td>10.0</td>\n",
              "      <td>1</td>\n",
              "      <td>No description yet</td>\n",
              "    </tr>\n",
              "    <tr>\n",
              "      <th>1</th>\n",
              "      <td>Razer BlackWidow Chroma Keyboard</td>\n",
              "      <td>3</td>\n",
              "      <td>Electronics/Computers &amp; Tablets/Components &amp; P...</td>\n",
              "      <td>Razer</td>\n",
              "      <td>52.0</td>\n",
              "      <td>0</td>\n",
              "      <td>This keyboard is in great condition and works ...</td>\n",
              "    </tr>\n",
              "    <tr>\n",
              "      <th>2</th>\n",
              "      <td>AVA-VIV Blouse</td>\n",
              "      <td>1</td>\n",
              "      <td>Women/Tops &amp; Blouses/Blouse</td>\n",
              "      <td>Target</td>\n",
              "      <td>10.0</td>\n",
              "      <td>1</td>\n",
              "      <td>Adorable top with a hint of lace and a key hol...</td>\n",
              "    </tr>\n",
              "    <tr>\n",
              "      <th>3</th>\n",
              "      <td>Leather Horse Statues</td>\n",
              "      <td>1</td>\n",
              "      <td>Home/Home Décor/Home Décor Accents</td>\n",
              "      <td>NA</td>\n",
              "      <td>35.0</td>\n",
              "      <td>1</td>\n",
              "      <td>New with tags. Leather horses. Retail for [rm]...</td>\n",
              "    </tr>\n",
              "    <tr>\n",
              "      <th>4</th>\n",
              "      <td>24K GOLD plated rose</td>\n",
              "      <td>1</td>\n",
              "      <td>Women/Jewelry/Necklaces</td>\n",
              "      <td>NA</td>\n",
              "      <td>44.0</td>\n",
              "      <td>0</td>\n",
              "      <td>Complete with certificate of authenticity</td>\n",
              "    </tr>\n",
              "    <tr>\n",
              "      <th>...</th>\n",
              "      <td>...</td>\n",
              "      <td>...</td>\n",
              "      <td>...</td>\n",
              "      <td>...</td>\n",
              "      <td>...</td>\n",
              "      <td>...</td>\n",
              "      <td>...</td>\n",
              "    </tr>\n",
              "    <tr>\n",
              "      <th>1482530</th>\n",
              "      <td>Free People Inspired Dress</td>\n",
              "      <td>2</td>\n",
              "      <td>Women/Dresses/Mid-Calf</td>\n",
              "      <td>Free People</td>\n",
              "      <td>20.0</td>\n",
              "      <td>1</td>\n",
              "      <td>Lace, says size small but fits medium perfectl...</td>\n",
              "    </tr>\n",
              "    <tr>\n",
              "      <th>1482531</th>\n",
              "      <td>Little mermaid handmade dress</td>\n",
              "      <td>2</td>\n",
              "      <td>Kids/Girls 2T-5T/Dresses</td>\n",
              "      <td>Disney</td>\n",
              "      <td>14.0</td>\n",
              "      <td>0</td>\n",
              "      <td>Little mermaid handmade dress never worn size 2t</td>\n",
              "    </tr>\n",
              "    <tr>\n",
              "      <th>1482532</th>\n",
              "      <td>21 day fix containers and eating plan</td>\n",
              "      <td>2</td>\n",
              "      <td>Sports &amp; Outdoors/Exercise/Fitness accessories</td>\n",
              "      <td>NA</td>\n",
              "      <td>12.0</td>\n",
              "      <td>0</td>\n",
              "      <td>Used once or twice, still in great shape.</td>\n",
              "    </tr>\n",
              "    <tr>\n",
              "      <th>1482533</th>\n",
              "      <td>World markets lanterns</td>\n",
              "      <td>3</td>\n",
              "      <td>Home/Home Décor/Home Décor Accents</td>\n",
              "      <td>NA</td>\n",
              "      <td>45.0</td>\n",
              "      <td>1</td>\n",
              "      <td>There is 2 of each one that you see! So 2 red ...</td>\n",
              "    </tr>\n",
              "    <tr>\n",
              "      <th>1482534</th>\n",
              "      <td>Brand new lux de ville wallet</td>\n",
              "      <td>1</td>\n",
              "      <td>Women/Women's Accessories/Wallets</td>\n",
              "      <td>NA</td>\n",
              "      <td>22.0</td>\n",
              "      <td>0</td>\n",
              "      <td>New with tag, red with sparkle. Firm price, no...</td>\n",
              "    </tr>\n",
              "  </tbody>\n",
              "</table>\n",
              "<p>1446815 rows × 7 columns</p>\n",
              "</div>"
            ],
            "text/plain": [
              "                                          name  ...                                   item_description\n",
              "0          MLB Cincinnati Reds T Shirt Size XL  ...                                 No description yet\n",
              "1             Razer BlackWidow Chroma Keyboard  ...  This keyboard is in great condition and works ...\n",
              "2                               AVA-VIV Blouse  ...  Adorable top with a hint of lace and a key hol...\n",
              "3                        Leather Horse Statues  ...  New with tags. Leather horses. Retail for [rm]...\n",
              "4                         24K GOLD plated rose  ...          Complete with certificate of authenticity\n",
              "...                                        ...  ...                                                ...\n",
              "1482530             Free People Inspired Dress  ...  Lace, says size small but fits medium perfectl...\n",
              "1482531          Little mermaid handmade dress  ...   Little mermaid handmade dress never worn size 2t\n",
              "1482532  21 day fix containers and eating plan  ...          Used once or twice, still in great shape.\n",
              "1482533                 World markets lanterns  ...  There is 2 of each one that you see! So 2 red ...\n",
              "1482534          Brand new lux de ville wallet  ...  New with tag, red with sparkle. Firm price, no...\n",
              "\n",
              "[1446815 rows x 7 columns]"
            ]
          },
          "metadata": {
            "tags": []
          },
          "execution_count": 14
        }
      ]
    },
    {
      "cell_type": "markdown",
      "metadata": {
        "id": "4m7ykQvijKp8"
      },
      "source": [
        "# Preprocessing"
      ]
    },
    {
      "cell_type": "code",
      "metadata": {
        "colab": {
          "base_uri": "https://localhost:8080/",
          "height": 195
        },
        "id": "lkGhq22YJJGf",
        "outputId": "1d021109-a225-4e16-e6dc-1f554c1b3f81"
      },
      "source": [
        "data[\"item_description\"]=data[\"item_description\"].str.lower()\r\n",
        "data[\"name\"]=data[\"name\"].str.lower()\r\n",
        "data.head()"
      ],
      "execution_count": 4,
      "outputs": [
        {
          "output_type": "error",
          "ename": "NameError",
          "evalue": "ignored",
          "traceback": [
            "\u001b[0;31m---------------------------------------------------------------------------\u001b[0m",
            "\u001b[0;31mNameError\u001b[0m                                 Traceback (most recent call last)",
            "\u001b[0;32m<ipython-input-4-9f70dce358a8>\u001b[0m in \u001b[0;36m<module>\u001b[0;34m()\u001b[0m\n\u001b[0;32m----> 1\u001b[0;31m \u001b[0mdata\u001b[0m\u001b[0;34m[\u001b[0m\u001b[0;34m\"item_description\"\u001b[0m\u001b[0;34m]\u001b[0m\u001b[0;34m=\u001b[0m\u001b[0mdata\u001b[0m\u001b[0;34m[\u001b[0m\u001b[0;34m\"item_description\"\u001b[0m\u001b[0;34m]\u001b[0m\u001b[0;34m.\u001b[0m\u001b[0mstr\u001b[0m\u001b[0;34m.\u001b[0m\u001b[0mlower\u001b[0m\u001b[0;34m(\u001b[0m\u001b[0;34m)\u001b[0m\u001b[0;34m\u001b[0m\u001b[0;34m\u001b[0m\u001b[0m\n\u001b[0m\u001b[1;32m      2\u001b[0m \u001b[0mdata\u001b[0m\u001b[0;34m[\u001b[0m\u001b[0;34m\"name\"\u001b[0m\u001b[0;34m]\u001b[0m\u001b[0;34m=\u001b[0m\u001b[0mdata\u001b[0m\u001b[0;34m[\u001b[0m\u001b[0;34m\"name\"\u001b[0m\u001b[0;34m]\u001b[0m\u001b[0;34m.\u001b[0m\u001b[0mstr\u001b[0m\u001b[0;34m.\u001b[0m\u001b[0mlower\u001b[0m\u001b[0;34m(\u001b[0m\u001b[0;34m)\u001b[0m\u001b[0;34m\u001b[0m\u001b[0;34m\u001b[0m\u001b[0m\n\u001b[1;32m      3\u001b[0m \u001b[0mdata\u001b[0m\u001b[0;34m.\u001b[0m\u001b[0mhead\u001b[0m\u001b[0;34m(\u001b[0m\u001b[0;34m)\u001b[0m\u001b[0;34m\u001b[0m\u001b[0;34m\u001b[0m\u001b[0m\n",
            "\u001b[0;31mNameError\u001b[0m: name 'data' is not defined"
          ]
        }
      ]
    },
    {
      "cell_type": "code",
      "metadata": {
        "colab": {
          "base_uri": "https://localhost:8080/",
          "height": 351
        },
        "id": "uqevrhyRC7yy",
        "outputId": "0af1ee9a-918d-4c71-e63b-fda326dcd15f"
      },
      "source": [
        "test[\"item_description\"]=test[\"item_description\"].str.lower()\r\n",
        "test[\"name\"]=test[\"name\"].str.lower()\r\n",
        "test.head()"
      ],
      "execution_count": 16,
      "outputs": [
        {
          "output_type": "execute_result",
          "data": {
            "text/html": [
              "<div>\n",
              "<style scoped>\n",
              "    .dataframe tbody tr th:only-of-type {\n",
              "        vertical-align: middle;\n",
              "    }\n",
              "\n",
              "    .dataframe tbody tr th {\n",
              "        vertical-align: top;\n",
              "    }\n",
              "\n",
              "    .dataframe thead th {\n",
              "        text-align: right;\n",
              "    }\n",
              "</style>\n",
              "<table border=\"1\" class=\"dataframe\">\n",
              "  <thead>\n",
              "    <tr style=\"text-align: right;\">\n",
              "      <th></th>\n",
              "      <th>name</th>\n",
              "      <th>item_condition_id</th>\n",
              "      <th>category_name</th>\n",
              "      <th>brand_name</th>\n",
              "      <th>shipping</th>\n",
              "      <th>item_description</th>\n",
              "    </tr>\n",
              "  </thead>\n",
              "  <tbody>\n",
              "    <tr>\n",
              "      <th>0</th>\n",
              "      <td>breast cancer \"i fight like a girl\" ring</td>\n",
              "      <td>1</td>\n",
              "      <td>Women/Jewelry/Rings</td>\n",
              "      <td>NA</td>\n",
              "      <td>1</td>\n",
              "      <td>size 7</td>\n",
              "    </tr>\n",
              "    <tr>\n",
              "      <th>1</th>\n",
              "      <td>25 pcs new 7.5\"x12\" kraft bubble mailers</td>\n",
              "      <td>1</td>\n",
              "      <td>Other/Office supplies/Shipping Supplies</td>\n",
              "      <td>NA</td>\n",
              "      <td>1</td>\n",
              "      <td>25 pcs new 7.5\"x12\" kraft bubble mailers lined...</td>\n",
              "    </tr>\n",
              "    <tr>\n",
              "      <th>2</th>\n",
              "      <td>coach bag</td>\n",
              "      <td>1</td>\n",
              "      <td>Vintage &amp; Collectibles/Bags and Purses/Handbag</td>\n",
              "      <td>Coach</td>\n",
              "      <td>1</td>\n",
              "      <td>brand new coach bag. bought for [rm] at a coac...</td>\n",
              "    </tr>\n",
              "    <tr>\n",
              "      <th>3</th>\n",
              "      <td>floral kimono</td>\n",
              "      <td>2</td>\n",
              "      <td>Women/Sweaters/Cardigan</td>\n",
              "      <td>NA</td>\n",
              "      <td>0</td>\n",
              "      <td>-floral kimono -never worn -lightweight and pe...</td>\n",
              "    </tr>\n",
              "    <tr>\n",
              "      <th>4</th>\n",
              "      <td>life after death</td>\n",
              "      <td>3</td>\n",
              "      <td>Other/Books/Religion &amp; Spirituality</td>\n",
              "      <td>NA</td>\n",
              "      <td>1</td>\n",
              "      <td>rediscovering life after the loss of a loved o...</td>\n",
              "    </tr>\n",
              "  </tbody>\n",
              "</table>\n",
              "</div>"
            ],
            "text/plain": [
              "                                       name  ...                                   item_description\n",
              "0  breast cancer \"i fight like a girl\" ring  ...                                             size 7\n",
              "1  25 pcs new 7.5\"x12\" kraft bubble mailers  ...  25 pcs new 7.5\"x12\" kraft bubble mailers lined...\n",
              "2                                 coach bag  ...  brand new coach bag. bought for [rm] at a coac...\n",
              "3                             floral kimono  ...  -floral kimono -never worn -lightweight and pe...\n",
              "4                          life after death  ...  rediscovering life after the loss of a loved o...\n",
              "\n",
              "[5 rows x 6 columns]"
            ]
          },
          "metadata": {
            "tags": []
          },
          "execution_count": 16
        }
      ]
    },
    {
      "cell_type": "code",
      "metadata": {
        "id": "6WynSk_Mdj44"
      },
      "source": [
        "tweetTokenizer = TweetTokenizer()\n",
        "\n",
        "def list_to_str(l):\n",
        "   return ' '.join([str(elem) for elem in l])\n",
        "   \n",
        "def textCleanup(df, flag=True):\n",
        "  df=df.to_frame(name=\"str\")\n",
        "  #df[\"clean\"] = df[\"str\"].progress_apply(text_to_word_sequence)   # 20 secondi\n",
        "  global tweetTokenizer\n",
        "  df[\"clean\"] = df[\"str\"].progress_apply(tweetTokenizer.tokenize) # 2 minutes but correctly handles emojis\n",
        "\n",
        "  # punct and stop words\n",
        "  df[\"clean\"] = df[\"clean\"].progress_apply(lambda sentence:\n",
        "                                           [w for w in sentence if w\n",
        "                                              not in string.punctuation\n",
        "                                              and w not in stop_words]) # 18 s\n",
        "\n",
        "  lemmatizer = WordNetLemmatizer() \n",
        "  \n",
        "  df[\"clean\"] = df[\"clean\"].progress_apply(lambda sentence : [lemmatizer.lemmatize(word) for word in sentence if word not in stop_words]) # 10 secondi\n",
        "  if flag:\n",
        "    df[\"clean\"] = df[\"clean\"].progress_apply(list_to_str) # 6 secondi\n",
        "  return df[\"clean\"]"
      ],
      "execution_count": null,
      "outputs": []
    },
    {
      "cell_type": "code",
      "metadata": {
        "id": "JwTCeUoL6Rq7"
      },
      "source": [
        "def preprocessData(data):\n",
        "  print('description clean up')\n",
        "  data[\"item_description_clean\"] = textCleanup(data[\"item_description\"]) \n",
        "\n",
        "  print('name clean up')\n",
        "  data[\"name_clean\"] = textCleanup(data[\"name\"])\n",
        "  \n",
        "  return data"
      ],
      "execution_count": null,
      "outputs": []
    },
    {
      "cell_type": "code",
      "metadata": {
        "colab": {
          "base_uri": "https://localhost:8080/",
          "height": 712,
          "referenced_widgets": [
            "5a6a03eb84e34ba9843548feb37bb27e",
            "bb1401f19eb94ada881fd71fdcc03bfe",
            "7da12cee93214b31bae7649577e0ccba",
            "3a5a723cfa284656996abd86150f0efb",
            "fc94df446f9141ac88888c2299cbb4b1",
            "e066c75dceef4e31986e1ca0cb763702",
            "71e8356fa4a34e089e0901349afc106e",
            "582070ea64074a738473f5dd99926809",
            "991a0723bf1148c7ace27a0038f84766",
            "6c086c1eb1554689a08497935feb7e4a",
            "f47d16051b274ad59a8f72eeb5720d4a",
            "55c1186c544545ada5b09c18c1f002e3",
            "fbcb210cc92543efae0c4d158a6a5ba6",
            "cdb632ea3a5e40efbea56ce62e7fd79c",
            "9615791e161c4f2091cef0c8857a6e87",
            "8990858595434b0f9dfd77f991c465da",
            "4ddb31e3407c4ec9a139bcacec8ee313",
            "3180acb3d860473db5380b187b403013",
            "0ff1aad73ea84e69b32cf93d58bfb29c",
            "32cd5cd650ae42578d660806b94de1cb",
            "23190cb5181a4b0eb6152a62d8a824e2",
            "1c0ed3fec9e645d1bd0d027ae268ecdf",
            "9991bdd2be4f482e9e23fcfc63d1228b",
            "1caed3e122834addb5354aee96bb94d0",
            "75c230a4fe104bfd99e2af16c8321e0c",
            "0fffb6abc7154f158acd4fec5cbd3e18",
            "ba5d4601adb14d6f89d59e6186eaa921",
            "2f91d4aa292543bc961271a2535a4260",
            "4c73859b02a941a0acc94c04f60e1342",
            "add62dec41b8487abfd7190694fd0013",
            "bf319a8cf30c4c1784c1bfcecfcad729",
            "d87e3dece6f64843a5b0b2c3c01ebfb8",
            "75b7d522586740448ca710437a2fd4e5",
            "b8790e287717492e9401e31daffe1dd8",
            "c0ebd3469c494c99b81b333a7890e897",
            "c09585e03122477791e33503dafb978d",
            "186d35b92bc34904b1b47ecbb3306be0",
            "2d2b144d8d474ecf8f2f254797fde4c5",
            "546b264c785046bba493d99b9290c16c",
            "a0d63caa5e274976b03b833b65d7780b",
            "1cbf563dda734096b98f73726f29a2a3",
            "13088ea929a94e3694cb6ec413f80d05",
            "526cec527f6b4f2783e1ef0d547bc8b0",
            "c3887f811cad4856bd56b94e97951ce5",
            "c8f0cdc84fc644bc968b64b2295eff95",
            "5c0b1fb8018c46728aab496c09bfbd2d",
            "ec3a4f6119544d3e806c3bb4239cd8a4",
            "6d23a38cacd945ac9212a9de4ca71ec6",
            "eacd4a032b6e4629a7b0bc87b5181c6c",
            "6395bea71ee943b3a8bb518fe3abb385",
            "cbac14ac803e439f9f8f3f2909dc7968",
            "c490651dd7ef4686b1692d87bb1a0903",
            "427f7fca672b43fa8f6f32e8e94e7889",
            "3da8d9d7e05f4583822669c3bb1a8ac5",
            "55ee54887b1c40d9ab02bb3679eef1b9",
            "0faa9a620c8344a4a9c68e598dcbddf1",
            "ec4bd47d43ea49e494f87fb87695d2d4",
            "e39dce51d7064a3bb0210df567446c32",
            "b0184047637b4b29933603cc0cbcc7cc",
            "26b97ec1f3304a608b4db6873fa1c827",
            "9d0b0da382f4431d800be5fb52cf3951",
            "f039f675226742a6b73e021554c8a12d",
            "7fe47910608548aea6d34e85f3881b4a",
            "316483153d184a4284986762ea3f2fcf"
          ]
        },
        "id": "TZbvig1qHceY",
        "outputId": "1ff36165-aea6-452d-ff1a-4818ad62055a"
      },
      "source": [
        "data = preprocessData(data)\r\n",
        "data.head()"
      ],
      "execution_count": null,
      "outputs": [
        {
          "output_type": "stream",
          "text": [
            "description clean up\n"
          ],
          "name": "stdout"
        },
        {
          "output_type": "display_data",
          "data": {
            "application/vnd.jupyter.widget-view+json": {
              "model_id": "5a6a03eb84e34ba9843548feb37bb27e",
              "version_major": 2,
              "version_minor": 0
            },
            "text/plain": [
              "HBox(children=(FloatProgress(value=0.0, max=1446815.0), HTML(value='')))"
            ]
          },
          "metadata": {
            "tags": []
          }
        },
        {
          "output_type": "stream",
          "text": [
            "\n"
          ],
          "name": "stdout"
        },
        {
          "output_type": "display_data",
          "data": {
            "application/vnd.jupyter.widget-view+json": {
              "model_id": "991a0723bf1148c7ace27a0038f84766",
              "version_major": 2,
              "version_minor": 0
            },
            "text/plain": [
              "HBox(children=(FloatProgress(value=0.0, max=1446815.0), HTML(value='')))"
            ]
          },
          "metadata": {
            "tags": []
          }
        },
        {
          "output_type": "stream",
          "text": [
            "\n"
          ],
          "name": "stdout"
        },
        {
          "output_type": "display_data",
          "data": {
            "application/vnd.jupyter.widget-view+json": {
              "model_id": "4ddb31e3407c4ec9a139bcacec8ee313",
              "version_major": 2,
              "version_minor": 0
            },
            "text/plain": [
              "HBox(children=(FloatProgress(value=0.0, max=1446815.0), HTML(value='')))"
            ]
          },
          "metadata": {
            "tags": []
          }
        },
        {
          "output_type": "stream",
          "text": [
            "\n"
          ],
          "name": "stdout"
        },
        {
          "output_type": "display_data",
          "data": {
            "application/vnd.jupyter.widget-view+json": {
              "model_id": "75c230a4fe104bfd99e2af16c8321e0c",
              "version_major": 2,
              "version_minor": 0
            },
            "text/plain": [
              "HBox(children=(FloatProgress(value=0.0, max=1446815.0), HTML(value='')))"
            ]
          },
          "metadata": {
            "tags": []
          }
        },
        {
          "output_type": "stream",
          "text": [
            "\n",
            "name clean up\n"
          ],
          "name": "stdout"
        },
        {
          "output_type": "display_data",
          "data": {
            "application/vnd.jupyter.widget-view+json": {
              "model_id": "75b7d522586740448ca710437a2fd4e5",
              "version_major": 2,
              "version_minor": 0
            },
            "text/plain": [
              "HBox(children=(FloatProgress(value=0.0, max=1446815.0), HTML(value='')))"
            ]
          },
          "metadata": {
            "tags": []
          }
        },
        {
          "output_type": "stream",
          "text": [
            "\n"
          ],
          "name": "stdout"
        },
        {
          "output_type": "display_data",
          "data": {
            "application/vnd.jupyter.widget-view+json": {
              "model_id": "1cbf563dda734096b98f73726f29a2a3",
              "version_major": 2,
              "version_minor": 0
            },
            "text/plain": [
              "HBox(children=(FloatProgress(value=0.0, max=1446815.0), HTML(value='')))"
            ]
          },
          "metadata": {
            "tags": []
          }
        },
        {
          "output_type": "stream",
          "text": [
            "\n"
          ],
          "name": "stdout"
        },
        {
          "output_type": "display_data",
          "data": {
            "application/vnd.jupyter.widget-view+json": {
              "model_id": "eacd4a032b6e4629a7b0bc87b5181c6c",
              "version_major": 2,
              "version_minor": 0
            },
            "text/plain": [
              "HBox(children=(FloatProgress(value=0.0, max=1446815.0), HTML(value='')))"
            ]
          },
          "metadata": {
            "tags": []
          }
        },
        {
          "output_type": "stream",
          "text": [
            "\n"
          ],
          "name": "stdout"
        },
        {
          "output_type": "display_data",
          "data": {
            "application/vnd.jupyter.widget-view+json": {
              "model_id": "ec4bd47d43ea49e494f87fb87695d2d4",
              "version_major": 2,
              "version_minor": 0
            },
            "text/plain": [
              "HBox(children=(FloatProgress(value=0.0, max=1446815.0), HTML(value='')))"
            ]
          },
          "metadata": {
            "tags": []
          }
        },
        {
          "output_type": "stream",
          "text": [
            "\n"
          ],
          "name": "stdout"
        },
        {
          "output_type": "execute_result",
          "data": {
            "text/html": [
              "<div>\n",
              "<style scoped>\n",
              "    .dataframe tbody tr th:only-of-type {\n",
              "        vertical-align: middle;\n",
              "    }\n",
              "\n",
              "    .dataframe tbody tr th {\n",
              "        vertical-align: top;\n",
              "    }\n",
              "\n",
              "    .dataframe thead th {\n",
              "        text-align: right;\n",
              "    }\n",
              "</style>\n",
              "<table border=\"1\" class=\"dataframe\">\n",
              "  <thead>\n",
              "    <tr style=\"text-align: right;\">\n",
              "      <th></th>\n",
              "      <th>name</th>\n",
              "      <th>item_condition_id</th>\n",
              "      <th>category_name</th>\n",
              "      <th>brand_name</th>\n",
              "      <th>price</th>\n",
              "      <th>shipping</th>\n",
              "      <th>item_description</th>\n",
              "      <th>item_description_clean</th>\n",
              "      <th>name_clean</th>\n",
              "    </tr>\n",
              "  </thead>\n",
              "  <tbody>\n",
              "    <tr>\n",
              "      <th>0</th>\n",
              "      <td>mlb cincinnati reds t shirt size xl</td>\n",
              "      <td>3</td>\n",
              "      <td>Men/Tops/T-shirts</td>\n",
              "      <td>NA</td>\n",
              "      <td>10.0</td>\n",
              "      <td>1</td>\n",
              "      <td>no description yet</td>\n",
              "      <td>no description yet</td>\n",
              "      <td>mlb cincinnati red shirt size xl</td>\n",
              "    </tr>\n",
              "    <tr>\n",
              "      <th>1</th>\n",
              "      <td>razer blackwidow chroma keyboard</td>\n",
              "      <td>3</td>\n",
              "      <td>Electronics/Computers &amp; Tablets/Components &amp; P...</td>\n",
              "      <td>Razer</td>\n",
              "      <td>52.0</td>\n",
              "      <td>0</td>\n",
              "      <td>this keyboard is in great condition and works ...</td>\n",
              "      <td>keyboard great condition work like came box po...</td>\n",
              "      <td>razer blackwidow chroma keyboard</td>\n",
              "    </tr>\n",
              "    <tr>\n",
              "      <th>2</th>\n",
              "      <td>ava-viv blouse</td>\n",
              "      <td>1</td>\n",
              "      <td>Women/Tops &amp; Blouses/Blouse</td>\n",
              "      <td>Target</td>\n",
              "      <td>10.0</td>\n",
              "      <td>1</td>\n",
              "      <td>adorable top with a hint of lace and a key hol...</td>\n",
              "      <td>adorable top hint lace key hole back pale pink...</td>\n",
              "      <td>ava-viv blouse</td>\n",
              "    </tr>\n",
              "    <tr>\n",
              "      <th>3</th>\n",
              "      <td>leather horse statues</td>\n",
              "      <td>1</td>\n",
              "      <td>Home/Home Décor/Home Décor Accents</td>\n",
              "      <td>NA</td>\n",
              "      <td>35.0</td>\n",
              "      <td>1</td>\n",
              "      <td>new with tags. leather horses. retail for [rm]...</td>\n",
              "      <td>new tag leather horse retail rm stand foot hig...</td>\n",
              "      <td>leather horse statue</td>\n",
              "    </tr>\n",
              "    <tr>\n",
              "      <th>4</th>\n",
              "      <td>24k gold plated rose</td>\n",
              "      <td>1</td>\n",
              "      <td>Women/Jewelry/Necklaces</td>\n",
              "      <td>NA</td>\n",
              "      <td>44.0</td>\n",
              "      <td>0</td>\n",
              "      <td>complete with certificate of authenticity</td>\n",
              "      <td>complete certificate authenticity</td>\n",
              "      <td>24k gold plated rose</td>\n",
              "    </tr>\n",
              "  </tbody>\n",
              "</table>\n",
              "</div>"
            ],
            "text/plain": [
              "                                  name  ...                        name_clean\n",
              "0  mlb cincinnati reds t shirt size xl  ...  mlb cincinnati red shirt size xl\n",
              "1     razer blackwidow chroma keyboard  ...  razer blackwidow chroma keyboard\n",
              "2                       ava-viv blouse  ...                    ava-viv blouse\n",
              "3                leather horse statues  ...              leather horse statue\n",
              "4                 24k gold plated rose  ...              24k gold plated rose\n",
              "\n",
              "[5 rows x 9 columns]"
            ]
          },
          "metadata": {
            "tags": []
          },
          "execution_count": 19
        }
      ]
    },
    {
      "cell_type": "code",
      "metadata": {
        "colab": {
          "base_uri": "https://localhost:8080/",
          "height": 695,
          "referenced_widgets": [
            "8fdae9ee26d246898ade477e8e660037",
            "f0c09cd996ce4bf18b3ee55ec12ca4b7",
            "735c8dd912bf40b08e7e5a9d5bb3777a",
            "c7cecfcdd80641919c43a3aa37b535df",
            "46d18e6855224d21a554c1f9fda2e05b",
            "cf4d40fbe645486f97d2d930c04850db",
            "09ff7caabd6d4a44ad18101888ea56ef",
            "aca8a9e138e5450d9ded4e708912b4d8",
            "a9c1f211766c40b7bc45a93f46c89c41",
            "21e57fbf7f2c4204b2b911a40c2228f4",
            "470f26dee442498cadc960d2dbdebf99",
            "0cbe2445eb5a4de387196f7b826aac25",
            "fd0be04b3c8a458e8815e434eb95fcf7",
            "783e2ad401a04a7793d9a7f2be8c3dc6",
            "e99ecdc585534161ad1806533c97b855",
            "ef748f9ca02c46a7b8f247bedb6c40fa",
            "d05f31a826844183825e09886c868f46",
            "48fcf2a228ca44adb2cb5abf0b769c64",
            "d615bdbeeb9645be84655176defcb333",
            "40f32d7b0950479fb31b7775d8542362",
            "90d39e9d83eb46bba1fedca5f0ea8216",
            "24e3a61a4a0e4679bec3f60022571cc4",
            "4c481b3037d34b07865cb58100d827f6",
            "e4356f959d994ec896d92e70ae93d2af",
            "0b9ca59739584075b3c9a0de28fc18e8",
            "15aa1e72c01446028119423c85493171",
            "5205f5d84666478385bb0ebb507d2bc9",
            "6c54f977546743bc9524b71bf8e91f90",
            "f735fd6a767f44b28118ff2509044f9d",
            "92af1fad6e91493a9ca99b359e809a46",
            "8307fa94da8d4f4281c9be737c0b4b87",
            "93b4ad0cc73f4033aab800933f80f5a4",
            "3131947045ec4a759c71e695054a4538",
            "94ce8cf56b5c4cbeb1297e79f760f6f9",
            "1b134088deea43d895347db839a0ad4a",
            "5c366503eeb64111806678e995885d95",
            "63638edaaf8249dc939a7b4b9b2ebb9d",
            "4bd43dfaf1ca421097f62987d838fb50",
            "1475722a30534f8c898be6a45b861e60",
            "ba272bba8f874ecaba6b574e2794001f",
            "65a3b0af33814313a0a55ce48719d149",
            "b6731bf7d646425c80317c72483443b8",
            "617ca8ec486f4096bd2267ca39159a28",
            "cbc6071684b14b728f8ee3a30d6cdabd",
            "436b830e85d54905aa1f46903becf70c",
            "511c7512cf6e432196202af529202e5f",
            "d9e6386e164a4145b5318474ca32be23",
            "2cb01788c01e4c2d9a8af85657f5d622",
            "e71ba0b99df847e7b6b140eb5818896b",
            "8e17f76ac6f44368b69603b3308ff4a4",
            "6fbbbc4b94524eed8c190e77473b35b3",
            "d6c8407236924c728148f4f50a583d33",
            "f48e78949c6d40969f2747a9f536ba9e",
            "7759c80efdf34e1482bbdfb7de4e61e7",
            "7dc1c73e489546bf8983c8d6a1510517",
            "e93e9aa84f734b0e84ce28306e590cf7",
            "655867d1c1164da99a0766627e20fb08",
            "0a6989e03e9b49c9bf6d4f282cf98b08",
            "cb21ec0204344de09db9403e6ea6e90b",
            "f780392922574af3ac9067ce8913e749",
            "fc41d569d2c9457784801a3d1846a1f9",
            "38eacb68c5bc4fce8ecbf69ed13dad96",
            "67ed1da114a048d7ac365846e06c6ea7",
            "965a8fb3568b48c486728484012c1a69"
          ]
        },
        "id": "zE3PL_bmDNjK",
        "outputId": "f4d938c0-7a0c-4d47-b35f-a9bdd88a909e"
      },
      "source": [
        "test = preprocessData(test)\r\n",
        "test.head()"
      ],
      "execution_count": null,
      "outputs": [
        {
          "output_type": "stream",
          "text": [
            "description clean up\n"
          ],
          "name": "stdout"
        },
        {
          "output_type": "display_data",
          "data": {
            "application/vnd.jupyter.widget-view+json": {
              "model_id": "8fdae9ee26d246898ade477e8e660037",
              "version_major": 2,
              "version_minor": 0
            },
            "text/plain": [
              "HBox(children=(FloatProgress(value=0.0, max=693359.0), HTML(value='')))"
            ]
          },
          "metadata": {
            "tags": []
          }
        },
        {
          "output_type": "stream",
          "text": [
            "\n"
          ],
          "name": "stdout"
        },
        {
          "output_type": "display_data",
          "data": {
            "application/vnd.jupyter.widget-view+json": {
              "model_id": "a9c1f211766c40b7bc45a93f46c89c41",
              "version_major": 2,
              "version_minor": 0
            },
            "text/plain": [
              "HBox(children=(FloatProgress(value=0.0, max=693359.0), HTML(value='')))"
            ]
          },
          "metadata": {
            "tags": []
          }
        },
        {
          "output_type": "stream",
          "text": [
            "\n"
          ],
          "name": "stdout"
        },
        {
          "output_type": "display_data",
          "data": {
            "application/vnd.jupyter.widget-view+json": {
              "model_id": "d05f31a826844183825e09886c868f46",
              "version_major": 2,
              "version_minor": 0
            },
            "text/plain": [
              "HBox(children=(FloatProgress(value=0.0, max=693359.0), HTML(value='')))"
            ]
          },
          "metadata": {
            "tags": []
          }
        },
        {
          "output_type": "stream",
          "text": [
            "\n"
          ],
          "name": "stdout"
        },
        {
          "output_type": "display_data",
          "data": {
            "application/vnd.jupyter.widget-view+json": {
              "model_id": "0b9ca59739584075b3c9a0de28fc18e8",
              "version_major": 2,
              "version_minor": 0
            },
            "text/plain": [
              "HBox(children=(FloatProgress(value=0.0, max=693359.0), HTML(value='')))"
            ]
          },
          "metadata": {
            "tags": []
          }
        },
        {
          "output_type": "stream",
          "text": [
            "\n",
            "name clean up\n"
          ],
          "name": "stdout"
        },
        {
          "output_type": "display_data",
          "data": {
            "application/vnd.jupyter.widget-view+json": {
              "model_id": "3131947045ec4a759c71e695054a4538",
              "version_major": 2,
              "version_minor": 0
            },
            "text/plain": [
              "HBox(children=(FloatProgress(value=0.0, max=693359.0), HTML(value='')))"
            ]
          },
          "metadata": {
            "tags": []
          }
        },
        {
          "output_type": "stream",
          "text": [
            "\n"
          ],
          "name": "stdout"
        },
        {
          "output_type": "display_data",
          "data": {
            "application/vnd.jupyter.widget-view+json": {
              "model_id": "65a3b0af33814313a0a55ce48719d149",
              "version_major": 2,
              "version_minor": 0
            },
            "text/plain": [
              "HBox(children=(FloatProgress(value=0.0, max=693359.0), HTML(value='')))"
            ]
          },
          "metadata": {
            "tags": []
          }
        },
        {
          "output_type": "stream",
          "text": [
            "\n"
          ],
          "name": "stdout"
        },
        {
          "output_type": "display_data",
          "data": {
            "application/vnd.jupyter.widget-view+json": {
              "model_id": "e71ba0b99df847e7b6b140eb5818896b",
              "version_major": 2,
              "version_minor": 0
            },
            "text/plain": [
              "HBox(children=(FloatProgress(value=0.0, max=693359.0), HTML(value='')))"
            ]
          },
          "metadata": {
            "tags": []
          }
        },
        {
          "output_type": "stream",
          "text": [
            "\n"
          ],
          "name": "stdout"
        },
        {
          "output_type": "display_data",
          "data": {
            "application/vnd.jupyter.widget-view+json": {
              "model_id": "655867d1c1164da99a0766627e20fb08",
              "version_major": 2,
              "version_minor": 0
            },
            "text/plain": [
              "HBox(children=(FloatProgress(value=0.0, max=693359.0), HTML(value='')))"
            ]
          },
          "metadata": {
            "tags": []
          }
        },
        {
          "output_type": "stream",
          "text": [
            "\n"
          ],
          "name": "stdout"
        },
        {
          "output_type": "execute_result",
          "data": {
            "text/html": [
              "<div>\n",
              "<style scoped>\n",
              "    .dataframe tbody tr th:only-of-type {\n",
              "        vertical-align: middle;\n",
              "    }\n",
              "\n",
              "    .dataframe tbody tr th {\n",
              "        vertical-align: top;\n",
              "    }\n",
              "\n",
              "    .dataframe thead th {\n",
              "        text-align: right;\n",
              "    }\n",
              "</style>\n",
              "<table border=\"1\" class=\"dataframe\">\n",
              "  <thead>\n",
              "    <tr style=\"text-align: right;\">\n",
              "      <th></th>\n",
              "      <th>name</th>\n",
              "      <th>item_condition_id</th>\n",
              "      <th>category_name</th>\n",
              "      <th>brand_name</th>\n",
              "      <th>shipping</th>\n",
              "      <th>item_description</th>\n",
              "      <th>item_description_clean</th>\n",
              "      <th>name_clean</th>\n",
              "    </tr>\n",
              "  </thead>\n",
              "  <tbody>\n",
              "    <tr>\n",
              "      <th>0</th>\n",
              "      <td>breast cancer \"i fight like a girl\" ring</td>\n",
              "      <td>1</td>\n",
              "      <td>Women/Jewelry/Rings</td>\n",
              "      <td>NA</td>\n",
              "      <td>1</td>\n",
              "      <td>size 7</td>\n",
              "      <td>size 7</td>\n",
              "      <td>breast cancer fight like girl ring</td>\n",
              "    </tr>\n",
              "    <tr>\n",
              "      <th>1</th>\n",
              "      <td>25 pcs new 7.5\"x12\" kraft bubble mailers</td>\n",
              "      <td>1</td>\n",
              "      <td>Other/Office supplies/Shipping Supplies</td>\n",
              "      <td>NA</td>\n",
              "      <td>1</td>\n",
              "      <td>25 pcs new 7.5\"x12\" kraft bubble mailers lined...</td>\n",
              "      <td>25 pc new 7.5 x12 kraft bubble mailer lined bu...</td>\n",
              "      <td>25 pc new 7.5 x12 kraft bubble mailer</td>\n",
              "    </tr>\n",
              "    <tr>\n",
              "      <th>2</th>\n",
              "      <td>coach bag</td>\n",
              "      <td>1</td>\n",
              "      <td>Vintage &amp; Collectibles/Bags and Purses/Handbag</td>\n",
              "      <td>Coach</td>\n",
              "      <td>1</td>\n",
              "      <td>brand new coach bag. bought for [rm] at a coac...</td>\n",
              "      <td>brand new coach bag bought rm coach outlet</td>\n",
              "      <td>coach bag</td>\n",
              "    </tr>\n",
              "    <tr>\n",
              "      <th>3</th>\n",
              "      <td>floral kimono</td>\n",
              "      <td>2</td>\n",
              "      <td>Women/Sweaters/Cardigan</td>\n",
              "      <td>NA</td>\n",
              "      <td>0</td>\n",
              "      <td>-floral kimono -never worn -lightweight and pe...</td>\n",
              "      <td>floral kimono never worn lightweight perfect h...</td>\n",
              "      <td>floral kimono</td>\n",
              "    </tr>\n",
              "    <tr>\n",
              "      <th>4</th>\n",
              "      <td>life after death</td>\n",
              "      <td>3</td>\n",
              "      <td>Other/Books/Religion &amp; Spirituality</td>\n",
              "      <td>NA</td>\n",
              "      <td>1</td>\n",
              "      <td>rediscovering life after the loss of a loved o...</td>\n",
              "      <td>rediscovering life loss loved one tony cooke p...</td>\n",
              "      <td>life death</td>\n",
              "    </tr>\n",
              "  </tbody>\n",
              "</table>\n",
              "</div>"
            ],
            "text/plain": [
              "                                       name  ...                             name_clean\n",
              "0  breast cancer \"i fight like a girl\" ring  ...     breast cancer fight like girl ring\n",
              "1  25 pcs new 7.5\"x12\" kraft bubble mailers  ...  25 pc new 7.5 x12 kraft bubble mailer\n",
              "2                                 coach bag  ...                              coach bag\n",
              "3                             floral kimono  ...                          floral kimono\n",
              "4                          life after death  ...                             life death\n",
              "\n",
              "[5 rows x 8 columns]"
            ]
          },
          "metadata": {
            "tags": []
          },
          "execution_count": 20
        }
      ]
    },
    {
      "cell_type": "markdown",
      "metadata": {
        "id": "sC4xOHj_0zow"
      },
      "source": [
        "# Load preprocessed"
      ]
    },
    {
      "cell_type": "code",
      "metadata": {
        "colab": {
          "base_uri": "https://localhost:8080/"
        },
        "id": "b38isOpV0ejM",
        "outputId": "5a587152-471f-42de-a314-dc49643609fd"
      },
      "source": [
        "# save preprocessed data train\n",
        "force_overwrite = False\n",
        "fname = 'train_preprocess.npy'\n",
        "\n",
        "if force_overwrite or not os.path.isfile(fname):\n",
        "  print(\"saving preprocess train data\")\n",
        "  data.to_pickle(fname)\n",
        "else:\n",
        "  print(\"loading existing preprocess train data\")\n",
        "  data = pd.read_pickle(fname)"
      ],
      "execution_count": 5,
      "outputs": [
        {
          "output_type": "stream",
          "text": [
            "loading existing preprocess train data\n"
          ],
          "name": "stdout"
        }
      ]
    },
    {
      "cell_type": "code",
      "metadata": {
        "colab": {
          "base_uri": "https://localhost:8080/"
        },
        "id": "_LJ_alCc1znc",
        "outputId": "ae3fe830-90bd-4387-9882-cfd78595fea1"
      },
      "source": [
        "force_overwrite = False\n",
        "fname = 'test_preprocess.npy'\n",
        "\n",
        "if force_overwrite or not os.path.isfile(fname):\n",
        "  print(\"saving preprocess test data\")\n",
        "  test.to_pickle(fname)\n",
        "else:\n",
        "  print(\"loading existing preprocess test data\")\n",
        "  test = pd.read_pickle(fname)"
      ],
      "execution_count": null,
      "outputs": [
        {
          "output_type": "stream",
          "text": [
            "saving preprocess test data\n"
          ],
          "name": "stdout"
        }
      ]
    },
    {
      "cell_type": "markdown",
      "metadata": {
        "id": "iYZRBnbN0sv-"
      },
      "source": [
        "# Encoding"
      ]
    },
    {
      "cell_type": "code",
      "metadata": {
        "id": "trBPru1qEK5b"
      },
      "source": [
        "# TODO ensure it is correct or use a well tested alternative like sklearn (found problems with dimensions)\n",
        "class LabelEncoder:\n",
        "  def __init__(self, unknown = 0, invUnknown = 'unknown'):\n",
        "    self.leDict = {}\n",
        "    self.invDict = {}\n",
        "    self.unknown = unknown\n",
        "    self.invUnknown = invUnknown\n",
        "\n",
        "  def fit(self, data):\n",
        "    vci = pd.value_counts(data).index\n",
        "    self.leDict = dict(zip(vci, range(1, len(vci)+1)))\n",
        "    self.invDict = dict(zip(range(1, len(vci)+1), vci))\n",
        "\n",
        "  def transform1(self, item):\n",
        "    return self.leDict.get(item, self.unknown)\n",
        "\n",
        "  def transform(self, data):\n",
        "    return data.apply(lambda item: self.transform1(item))\n",
        "\n",
        "  def inverse_transform1(self, item):\n",
        "    return self.invDict.get(item, self.invUnknown)\n",
        "\n",
        "  def inverse_transform(self, data):\n",
        "    return data.apply(lambda item: self.inverse_transform1(item))"
      ],
      "execution_count": 84,
      "outputs": []
    },
    {
      "cell_type": "code",
      "metadata": {
        "id": "XO4EL__E3yTS"
      },
      "source": [
        "cat_le = LabelEncoder()\n",
        "cat_le.fit(np.hstack([data[\"category_name\"], test[\"category_name\"]]))\n",
        "\n",
        "data[\"category_name_l\"] = cat_le.transform(data[\"category_name\"])\n",
        "test[\"category_name_l\"] = cat_le.transform(test[\"category_name\"])"
      ],
      "execution_count": 85,
      "outputs": []
    },
    {
      "cell_type": "code",
      "metadata": {
        "id": "gfiZte2s3yTS"
      },
      "source": [
        "brand_le = LabelEncoder()\n",
        "brand_le.fit(np.hstack([data[\"brand_name\"], test[\"category_name\"]]))\n",
        "\n",
        "data[\"brand_name_l\"] = brand_le.transform(data[\"brand_name\"])\n",
        "test[\"brand_name_l\"] = brand_le.transform(test[\"brand_name\"])"
      ],
      "execution_count": 86,
      "outputs": []
    },
    {
      "cell_type": "markdown",
      "metadata": {
        "id": "Al4hG-g33lq8"
      },
      "source": [
        "## Keras Embedding"
      ]
    },
    {
      "cell_type": "code",
      "metadata": {
        "id": "L3fBpRMpHJoh"
      },
      "source": [
        "# tokenize with keras; it also does some encoding\r\n",
        "def tokenizeData(df, description, name, tokenizer= None, texts= None):\r\n",
        "  if tokenizer == None:\r\n",
        "    tokenizer = Tokenizer()\r\n",
        "\r\n",
        "    print(\"fit tokenizer\")\r\n",
        "    tokenizer.fit_on_texts(texts)\r\n",
        "  \r\n",
        "  print('tokenize description')\r\n",
        "  df[\"item_description_t\"]=tokenizer.texts_to_sequences(df[description])\r\n",
        "\r\n",
        "  print('tokenize name')\r\n",
        "  df[\"name_t\"]=tokenizer.texts_to_sequences(df[name])\r\n",
        "  return df, tokenizer"
      ],
      "execution_count": 20,
      "outputs": []
    },
    {
      "cell_type": "code",
      "metadata": {
        "id": "1hzwtYpKHon7",
        "colab": {
          "base_uri": "https://localhost:8080/",
          "height": 387
        },
        "outputId": "3058646b-1972-47e9-db9d-4021184b7409"
      },
      "source": [
        "texts = np.hstack([data[\"item_description\"], data[\"name\"]])\r\n",
        "\r\n",
        "data_keras, tokenizer = tokenizeData(data ,\"item_description\" ,\"name\", None, texts)"
      ],
      "execution_count": 21,
      "outputs": [
        {
          "output_type": "stream",
          "text": [
            "fit tokenizer\n",
            "tokenize description\n"
          ],
          "name": "stdout"
        },
        {
          "output_type": "error",
          "ename": "KeyboardInterrupt",
          "evalue": "ignored",
          "traceback": [
            "\u001b[0;31m---------------------------------------------------------------------------\u001b[0m",
            "\u001b[0;31mKeyboardInterrupt\u001b[0m                         Traceback (most recent call last)",
            "\u001b[0;32m<ipython-input-21-9753c9f4cfe1>\u001b[0m in \u001b[0;36m<module>\u001b[0;34m()\u001b[0m\n\u001b[1;32m      1\u001b[0m \u001b[0mtexts\u001b[0m \u001b[0;34m=\u001b[0m \u001b[0mnp\u001b[0m\u001b[0;34m.\u001b[0m\u001b[0mhstack\u001b[0m\u001b[0;34m(\u001b[0m\u001b[0;34m[\u001b[0m\u001b[0mdata\u001b[0m\u001b[0;34m[\u001b[0m\u001b[0;34m\"item_description\"\u001b[0m\u001b[0;34m]\u001b[0m\u001b[0;34m,\u001b[0m \u001b[0mdata\u001b[0m\u001b[0;34m[\u001b[0m\u001b[0;34m\"name\"\u001b[0m\u001b[0;34m]\u001b[0m\u001b[0;34m]\u001b[0m\u001b[0;34m)\u001b[0m\u001b[0;34m\u001b[0m\u001b[0;34m\u001b[0m\u001b[0m\n\u001b[1;32m      2\u001b[0m \u001b[0;34m\u001b[0m\u001b[0m\n\u001b[0;32m----> 3\u001b[0;31m \u001b[0mdata_keras\u001b[0m\u001b[0;34m,\u001b[0m \u001b[0mtokenizer\u001b[0m \u001b[0;34m=\u001b[0m \u001b[0mtokenizeData\u001b[0m\u001b[0;34m(\u001b[0m\u001b[0mdata\u001b[0m \u001b[0;34m,\u001b[0m\u001b[0;34m\"item_description\"\u001b[0m \u001b[0;34m,\u001b[0m\u001b[0;34m\"name\"\u001b[0m\u001b[0;34m,\u001b[0m \u001b[0;32mNone\u001b[0m\u001b[0;34m,\u001b[0m \u001b[0mtexts\u001b[0m\u001b[0;34m)\u001b[0m\u001b[0;34m\u001b[0m\u001b[0;34m\u001b[0m\u001b[0m\n\u001b[0m",
            "\u001b[0;32m<ipython-input-20-ee2c5565151a>\u001b[0m in \u001b[0;36mtokenizeData\u001b[0;34m(df, description, name, tokenizer, texts)\u001b[0m\n\u001b[1;32m      8\u001b[0m \u001b[0;34m\u001b[0m\u001b[0m\n\u001b[1;32m      9\u001b[0m   \u001b[0mprint\u001b[0m\u001b[0;34m(\u001b[0m\u001b[0;34m'tokenize description'\u001b[0m\u001b[0;34m)\u001b[0m\u001b[0;34m\u001b[0m\u001b[0;34m\u001b[0m\u001b[0m\n\u001b[0;32m---> 10\u001b[0;31m   \u001b[0mdf\u001b[0m\u001b[0;34m[\u001b[0m\u001b[0;34m\"item_description_t\"\u001b[0m\u001b[0;34m]\u001b[0m\u001b[0;34m=\u001b[0m\u001b[0mtokenizer\u001b[0m\u001b[0;34m.\u001b[0m\u001b[0mtexts_to_sequences\u001b[0m\u001b[0;34m(\u001b[0m\u001b[0mdf\u001b[0m\u001b[0;34m[\u001b[0m\u001b[0mdescription\u001b[0m\u001b[0;34m]\u001b[0m\u001b[0;34m)\u001b[0m\u001b[0;34m\u001b[0m\u001b[0;34m\u001b[0m\u001b[0m\n\u001b[0m\u001b[1;32m     11\u001b[0m \u001b[0;34m\u001b[0m\u001b[0m\n\u001b[1;32m     12\u001b[0m   \u001b[0mprint\u001b[0m\u001b[0;34m(\u001b[0m\u001b[0;34m'tokenize name'\u001b[0m\u001b[0;34m)\u001b[0m\u001b[0;34m\u001b[0m\u001b[0;34m\u001b[0m\u001b[0m\n",
            "\u001b[0;32m/usr/local/lib/python3.6/dist-packages/keras_preprocessing/text.py\u001b[0m in \u001b[0;36mtexts_to_sequences\u001b[0;34m(self, texts)\u001b[0m\n\u001b[1;32m    279\u001b[0m             \u001b[0mA\u001b[0m \u001b[0mlist\u001b[0m \u001b[0mof\u001b[0m \u001b[0msequences\u001b[0m\u001b[0;34m.\u001b[0m\u001b[0;34m\u001b[0m\u001b[0;34m\u001b[0m\u001b[0m\n\u001b[1;32m    280\u001b[0m         \"\"\"\n\u001b[0;32m--> 281\u001b[0;31m         \u001b[0;32mreturn\u001b[0m \u001b[0mlist\u001b[0m\u001b[0;34m(\u001b[0m\u001b[0mself\u001b[0m\u001b[0;34m.\u001b[0m\u001b[0mtexts_to_sequences_generator\u001b[0m\u001b[0;34m(\u001b[0m\u001b[0mtexts\u001b[0m\u001b[0;34m)\u001b[0m\u001b[0;34m)\u001b[0m\u001b[0;34m\u001b[0m\u001b[0;34m\u001b[0m\u001b[0m\n\u001b[0m\u001b[1;32m    282\u001b[0m \u001b[0;34m\u001b[0m\u001b[0m\n\u001b[1;32m    283\u001b[0m     \u001b[0;32mdef\u001b[0m \u001b[0mtexts_to_sequences_generator\u001b[0m\u001b[0;34m(\u001b[0m\u001b[0mself\u001b[0m\u001b[0;34m,\u001b[0m \u001b[0mtexts\u001b[0m\u001b[0;34m)\u001b[0m\u001b[0;34m:\u001b[0m\u001b[0;34m\u001b[0m\u001b[0;34m\u001b[0m\u001b[0m\n",
            "\u001b[0;32m/usr/local/lib/python3.6/dist-packages/keras_preprocessing/text.py\u001b[0m in \u001b[0;36mtexts_to_sequences_generator\u001b[0;34m(self, texts)\u001b[0m\n\u001b[1;32m    313\u001b[0m             \u001b[0mvect\u001b[0m \u001b[0;34m=\u001b[0m \u001b[0;34m[\u001b[0m\u001b[0;34m]\u001b[0m\u001b[0;34m\u001b[0m\u001b[0;34m\u001b[0m\u001b[0m\n\u001b[1;32m    314\u001b[0m             \u001b[0;32mfor\u001b[0m \u001b[0mw\u001b[0m \u001b[0;32min\u001b[0m \u001b[0mseq\u001b[0m\u001b[0;34m:\u001b[0m\u001b[0;34m\u001b[0m\u001b[0;34m\u001b[0m\u001b[0m\n\u001b[0;32m--> 315\u001b[0;31m                 \u001b[0mi\u001b[0m \u001b[0;34m=\u001b[0m \u001b[0mself\u001b[0m\u001b[0;34m.\u001b[0m\u001b[0mword_index\u001b[0m\u001b[0;34m.\u001b[0m\u001b[0mget\u001b[0m\u001b[0;34m(\u001b[0m\u001b[0mw\u001b[0m\u001b[0;34m)\u001b[0m\u001b[0;34m\u001b[0m\u001b[0;34m\u001b[0m\u001b[0m\n\u001b[0m\u001b[1;32m    316\u001b[0m                 \u001b[0;32mif\u001b[0m \u001b[0mi\u001b[0m \u001b[0;32mis\u001b[0m \u001b[0;32mnot\u001b[0m \u001b[0;32mNone\u001b[0m\u001b[0;34m:\u001b[0m\u001b[0;34m\u001b[0m\u001b[0;34m\u001b[0m\u001b[0m\n\u001b[1;32m    317\u001b[0m                     \u001b[0;32mif\u001b[0m \u001b[0mnum_words\u001b[0m \u001b[0;32mand\u001b[0m \u001b[0mi\u001b[0m \u001b[0;34m>=\u001b[0m \u001b[0mnum_words\u001b[0m\u001b[0;34m:\u001b[0m\u001b[0;34m\u001b[0m\u001b[0;34m\u001b[0m\u001b[0m\n",
            "\u001b[0;31mKeyboardInterrupt\u001b[0m: "
          ]
        }
      ]
    },
    {
      "cell_type": "code",
      "metadata": {
        "id": "JClIo-Qt4eS-",
        "colab": {
          "base_uri": "https://localhost:8080/",
          "height": 186
        },
        "outputId": "6da08367-58a1-4752-b571-30e294227921"
      },
      "source": [
        "#data_keras_bk = data_keras\n",
        "test_keras_bk = test_keras"
      ],
      "execution_count": null,
      "outputs": [
        {
          "output_type": "error",
          "ename": "NameError",
          "evalue": "ignored",
          "traceback": [
            "\u001b[0;31m---------------------------------------------------------------------------\u001b[0m",
            "\u001b[0;31mNameError\u001b[0m                                 Traceback (most recent call last)",
            "\u001b[0;32m<ipython-input-22-658a8a86710f>\u001b[0m in \u001b[0;36m<module>\u001b[0;34m()\u001b[0m\n\u001b[1;32m      1\u001b[0m \u001b[0;31m#data_keras_bk = data_keras\u001b[0m\u001b[0;34m\u001b[0m\u001b[0;34m\u001b[0m\u001b[0;34m\u001b[0m\u001b[0m\n\u001b[0;32m----> 2\u001b[0;31m \u001b[0mtest_keras_bk\u001b[0m \u001b[0;34m=\u001b[0m \u001b[0mtest_keras\u001b[0m\u001b[0;34m\u001b[0m\u001b[0;34m\u001b[0m\u001b[0m\n\u001b[0m",
            "\u001b[0;31mNameError\u001b[0m: name 'test_keras' is not defined"
          ]
        }
      ]
    },
    {
      "cell_type": "code",
      "metadata": {
        "id": "Uc1xhJ9nHnAL",
        "colab": {
          "base_uri": "https://localhost:8080/",
          "height": 399
        },
        "outputId": "8f099d03-27ea-4300-ddec-4226472b3842"
      },
      "source": [
        "data_keras=data_keras[[\"item_condition_id\",\"shipping\",\"category_name_l\",\"brand_name_l\", \"item_description_t\", \"name_t\", \"price\"]]\r\n",
        "data_keras"
      ],
      "execution_count": null,
      "outputs": [
        {
          "output_type": "execute_result",
          "data": {
            "text/html": [
              "<div>\n",
              "<style scoped>\n",
              "    .dataframe tbody tr th:only-of-type {\n",
              "        vertical-align: middle;\n",
              "    }\n",
              "\n",
              "    .dataframe tbody tr th {\n",
              "        vertical-align: top;\n",
              "    }\n",
              "\n",
              "    .dataframe thead th {\n",
              "        text-align: right;\n",
              "    }\n",
              "</style>\n",
              "<table border=\"1\" class=\"dataframe\">\n",
              "  <thead>\n",
              "    <tr style=\"text-align: right;\">\n",
              "      <th></th>\n",
              "      <th>item_condition_id</th>\n",
              "      <th>shipping</th>\n",
              "      <th>category_name_l</th>\n",
              "      <th>brand_name_l</th>\n",
              "      <th>item_description_t</th>\n",
              "      <th>name_t</th>\n",
              "      <th>price</th>\n",
              "    </tr>\n",
              "  </thead>\n",
              "  <tbody>\n",
              "    <tr>\n",
              "      <th>0</th>\n",
              "      <td>3</td>\n",
              "      <td>1</td>\n",
              "      <td>19</td>\n",
              "      <td>1</td>\n",
              "      <td>[12, 71, 82]</td>\n",
              "      <td>[3843, 8901, 6978, 206, 83, 6, 154]</td>\n",
              "      <td>10.0</td>\n",
              "    </tr>\n",
              "    <tr>\n",
              "      <th>1</th>\n",
              "      <td>3</td>\n",
              "      <td>0</td>\n",
              "      <td>246</td>\n",
              "      <td>1074</td>\n",
              "      <td>[29, 2593, 10, 7, 39, 17, 1, 205, 51, 19, 1115...</td>\n",
              "      <td>[10632, 25242, 16151, 2593]</td>\n",
              "      <td>52.0</td>\n",
              "    </tr>\n",
              "    <tr>\n",
              "      <th>2</th>\n",
              "      <td>1</td>\n",
              "      <td>1</td>\n",
              "      <td>10</td>\n",
              "      <td>175</td>\n",
              "      <td>[597, 60, 8, 5, 5346, 11, 193, 1, 5, 893, 1304...</td>\n",
              "      <td>[7528, 10421, 663]</td>\n",
              "      <td>10.0</td>\n",
              "    </tr>\n",
              "    <tr>\n",
              "      <th>3</th>\n",
              "      <td>1</td>\n",
              "      <td>1</td>\n",
              "      <td>28</td>\n",
              "      <td>1</td>\n",
              "      <td>[4, 8, 61, 176, 6471, 227, 3, 22, 171, 1064, 2...</td>\n",
              "      <td>[176, 2603, 14060]</td>\n",
              "      <td>35.0</td>\n",
              "    </tr>\n",
              "    <tr>\n",
              "      <th>4</th>\n",
              "      <td>1</td>\n",
              "      <td>0</td>\n",
              "      <td>16</td>\n",
              "      <td>1</td>\n",
              "      <td>[809, 8, 6804, 11, 1953]</td>\n",
              "      <td>[4845, 106, 1083, 284]</td>\n",
              "      <td>44.0</td>\n",
              "    </tr>\n",
              "    <tr>\n",
              "      <th>...</th>\n",
              "      <td>...</td>\n",
              "      <td>...</td>\n",
              "      <td>...</td>\n",
              "      <td>...</td>\n",
              "      <td>...</td>\n",
              "      <td>...</td>\n",
              "      <td>...</td>\n",
              "    </tr>\n",
              "    <tr>\n",
              "      <th>1482530</th>\n",
              "      <td>2</td>\n",
              "      <td>1</td>\n",
              "      <td>245</td>\n",
              "      <td>96</td>\n",
              "      <td>[193, 684, 6, 44, 38, 160, 66, 703, 164, 36, 3...</td>\n",
              "      <td>[13, 570, 1683, 80]</td>\n",
              "      <td>20.0</td>\n",
              "    </tr>\n",
              "    <tr>\n",
              "      <th>1482531</th>\n",
              "      <td>2</td>\n",
              "      <td>0</td>\n",
              "      <td>124</td>\n",
              "      <td>23</td>\n",
              "      <td>[156, 1327, 754, 80, 36, 30, 6, 990]</td>\n",
              "      <td>[156, 1327, 754, 80]</td>\n",
              "      <td>14.0</td>\n",
              "    </tr>\n",
              "    <tr>\n",
              "      <th>1482532</th>\n",
              "      <td>2</td>\n",
              "      <td>0</td>\n",
              "      <td>86</td>\n",
              "      <td>1</td>\n",
              "      <td>[31, 97, 23, 350, 122, 7, 39, 382]</td>\n",
              "      <td>[291, 117, 1517, 2498, 1, 6727, 3665]</td>\n",
              "      <td>12.0</td>\n",
              "    </tr>\n",
              "    <tr>\n",
              "      <th>1482533</th>\n",
              "      <td>3</td>\n",
              "      <td>1</td>\n",
              "      <td>28</td>\n",
              "      <td>1</td>\n",
              "      <td>[239, 10, 21, 11, 171, 46, 76, 18, 137, 78, 21...</td>\n",
              "      <td>[1354, 21055, 11102]</td>\n",
              "      <td>45.0</td>\n",
              "    </tr>\n",
              "    <tr>\n",
              "      <th>1482534</th>\n",
              "      <td>1</td>\n",
              "      <td>0</td>\n",
              "      <td>26</td>\n",
              "      <td>1</td>\n",
              "      <td>[4, 8, 186, 118, 8, 1627, 74, 40, 12, 13, 20]</td>\n",
              "      <td>[16, 4, 8386, 1176, 30628, 293]</td>\n",
              "      <td>22.0</td>\n",
              "    </tr>\n",
              "  </tbody>\n",
              "</table>\n",
              "<p>1446815 rows × 7 columns</p>\n",
              "</div>"
            ],
            "text/plain": [
              "         item_condition_id  ...  price\n",
              "0                        3  ...   10.0\n",
              "1                        3  ...   52.0\n",
              "2                        1  ...   10.0\n",
              "3                        1  ...   35.0\n",
              "4                        1  ...   44.0\n",
              "...                    ...  ...    ...\n",
              "1482530                  2  ...   20.0\n",
              "1482531                  2  ...   14.0\n",
              "1482532                  2  ...   12.0\n",
              "1482533                  3  ...   45.0\n",
              "1482534                  1  ...   22.0\n",
              "\n",
              "[1446815 rows x 7 columns]"
            ]
          },
          "metadata": {
            "tags": []
          },
          "execution_count": 23
        }
      ]
    },
    {
      "cell_type": "code",
      "metadata": {
        "id": "ClNGIbYoE416"
      },
      "source": [
        "test_keras, _ = tokenizeData(test ,\"item_description\", \"name\", tokenizer)"
      ],
      "execution_count": null,
      "outputs": []
    },
    {
      "cell_type": "code",
      "metadata": {
        "id": "srQCadR3Jvfu"
      },
      "source": [
        "test_keras=test[[\"item_condition_id\",\"shipping\",\"category_name_l\",\"brand_name_l\", \"item_description_t\", \"name_t\"]]\r\n",
        "test_keras"
      ],
      "execution_count": null,
      "outputs": []
    },
    {
      "cell_type": "code",
      "metadata": {
        "id": "siBwn0ntHnmY"
      },
      "source": [
        "train_keras, validation_keras = train_test_split(data_keras, test_size=0.2, random_state=1000)"
      ],
      "execution_count": null,
      "outputs": []
    },
    {
      "cell_type": "code",
      "metadata": {
        "id": "5W0A95PQEDb_",
        "colab": {
          "base_uri": "https://localhost:8080/"
        },
        "outputId": "fd5ba524-f710-4b2c-fb1d-aeb19d792cec"
      },
      "source": [
        "vocab_size= len(tokenizer.word_index)+1\n",
        "print(vocab_size)"
      ],
      "execution_count": null,
      "outputs": [
        {
          "output_type": "stream",
          "text": [
            "255431\n"
          ],
          "name": "stdout"
        }
      ]
    },
    {
      "cell_type": "code",
      "metadata": {
        "id": "cVKaHBR0QPgs",
        "colab": {
          "base_uri": "https://localhost:8080/",
          "height": 399
        },
        "outputId": "5b23953e-4adc-4c66-f394-5abbee6d85c6"
      },
      "source": [
        "train_keras[[\"item_description_t\",\"name_t\"]]"
      ],
      "execution_count": null,
      "outputs": [
        {
          "output_type": "execute_result",
          "data": {
            "text/html": [
              "<div>\n",
              "<style scoped>\n",
              "    .dataframe tbody tr th:only-of-type {\n",
              "        vertical-align: middle;\n",
              "    }\n",
              "\n",
              "    .dataframe tbody tr th {\n",
              "        vertical-align: top;\n",
              "    }\n",
              "\n",
              "    .dataframe thead th {\n",
              "        text-align: right;\n",
              "    }\n",
              "</style>\n",
              "<table border=\"1\" class=\"dataframe\">\n",
              "  <thead>\n",
              "    <tr style=\"text-align: right;\">\n",
              "      <th></th>\n",
              "      <th>item_description_t</th>\n",
              "      <th>name_t</th>\n",
              "    </tr>\n",
              "  </thead>\n",
              "  <tbody>\n",
              "    <tr>\n",
              "      <th>233645</th>\n",
              "      <td>[31, 77, 617, 400, 10, 2522, 784, 5, 400, 1839...</td>\n",
              "      <td>[77, 617]</td>\n",
              "    </tr>\n",
              "    <tr>\n",
              "      <th>1419447</th>\n",
              "      <td>[16, 4, 100, 48, 134, 207]</td>\n",
              "      <td>[230, 1968, 3491, 2821, 100]</td>\n",
              "    </tr>\n",
              "    <tr>\n",
              "      <th>935662</th>\n",
              "      <td>[138, 31, 17, 1387, 7943, 462, 60, 6, 66, 841,...</td>\n",
              "      <td>[7943, 462, 60, 66]</td>\n",
              "    </tr>\n",
              "    <tr>\n",
              "      <th>1147679</th>\n",
              "      <td>[36, 31]</td>\n",
              "      <td>[9700]</td>\n",
              "    </tr>\n",
              "    <tr>\n",
              "      <th>766955</th>\n",
              "      <td>[415, 2, 71, 14, 2, 216, 16, 4, 36, 31]</td>\n",
              "      <td>[5926, 212, 1407]</td>\n",
              "    </tr>\n",
              "    <tr>\n",
              "      <th>...</th>\n",
              "      <td>...</td>\n",
              "      <td>...</td>\n",
              "    </tr>\n",
              "    <tr>\n",
              "      <th>19252</th>\n",
              "      <td>[12, 57, 683]</td>\n",
              "      <td>[492, 335, 2354, 1487, 5445]</td>\n",
              "    </tr>\n",
              "    <tr>\n",
              "      <th>385322</th>\n",
              "      <td>[855, 803, 5071, 408, 8, 140, 529, 11, 109]</td>\n",
              "      <td>[158, 855, 803, 5071, 408]</td>\n",
              "    </tr>\n",
              "    <tr>\n",
              "      <th>138223</th>\n",
              "      <td>[126, 25, 6, 66, 111, 187, 2242, 548, 7, 39, 1...</td>\n",
              "      <td>[260, 2242, 548]</td>\n",
              "    </tr>\n",
              "    <tr>\n",
              "      <th>1148150</th>\n",
              "      <td>[324, 31, 8876, 77, 45, 119, 89, 8, 5, 184, 39...</td>\n",
              "      <td>[8876, 77, 45, 119, 210, 89]</td>\n",
              "    </tr>\n",
              "    <tr>\n",
              "      <th>1185228</th>\n",
              "      <td>[6, 44, 24101, 7613, 80, 874, 388, 183, 8, 193...</td>\n",
              "      <td>[24101, 7613, 874, 388, 80, 96, 173]</td>\n",
              "    </tr>\n",
              "  </tbody>\n",
              "</table>\n",
              "<p>1157452 rows × 2 columns</p>\n",
              "</div>"
            ],
            "text/plain": [
              "                                        item_description_t                                name_t\n",
              "233645   [31, 77, 617, 400, 10, 2522, 784, 5, 400, 1839...                             [77, 617]\n",
              "1419447                         [16, 4, 100, 48, 134, 207]          [230, 1968, 3491, 2821, 100]\n",
              "935662   [138, 31, 17, 1387, 7943, 462, 60, 6, 66, 841,...                   [7943, 462, 60, 66]\n",
              "1147679                                           [36, 31]                                [9700]\n",
              "766955             [415, 2, 71, 14, 2, 216, 16, 4, 36, 31]                     [5926, 212, 1407]\n",
              "...                                                    ...                                   ...\n",
              "19252                                        [12, 57, 683]          [492, 335, 2354, 1487, 5445]\n",
              "385322         [855, 803, 5071, 408, 8, 140, 529, 11, 109]            [158, 855, 803, 5071, 408]\n",
              "138223   [126, 25, 6, 66, 111, 187, 2242, 548, 7, 39, 1...                      [260, 2242, 548]\n",
              "1148150  [324, 31, 8876, 77, 45, 119, 89, 8, 5, 184, 39...          [8876, 77, 45, 119, 210, 89]\n",
              "1185228  [6, 44, 24101, 7613, 80, 874, 388, 183, 8, 193...  [24101, 7613, 874, 388, 80, 96, 173]\n",
              "\n",
              "[1157452 rows x 2 columns]"
            ]
          },
          "metadata": {
            "tags": []
          },
          "execution_count": 26
        }
      ]
    },
    {
      "cell_type": "code",
      "metadata": {
        "id": "Y40ov-ULHtla"
      },
      "source": [
        "desc_length_max=75\n",
        "inputDesc_train_keras = pad_sequences(train_keras[\"item_description_t\"],\n",
        "                                                  padding='post', maxlen=desc_length_max)"
      ],
      "execution_count": null,
      "outputs": []
    },
    {
      "cell_type": "code",
      "metadata": {
        "id": "tky1YzlkB8U5"
      },
      "source": [
        "inputDesc_validation_keras = pad_sequences(validation_keras[\"item_description_t\"],\n",
        "                                                  padding='post', maxlen=desc_length_max)"
      ],
      "execution_count": null,
      "outputs": []
    },
    {
      "cell_type": "code",
      "metadata": {
        "id": "XBZIAP9n3yTU"
      },
      "source": [
        "name_length_max=10\r\n",
        "inputName_train_keras = pad_sequences(train_keras[\"name_t\"], padding='post', maxlen=name_length_max)"
      ],
      "execution_count": null,
      "outputs": []
    },
    {
      "cell_type": "code",
      "metadata": {
        "id": "1uhYXRYQCCHb"
      },
      "source": [
        "inputName_validation_keras = pad_sequences(validation_keras[\"name_t\"], padding='post', maxlen=name_length_max)"
      ],
      "execution_count": null,
      "outputs": []
    },
    {
      "cell_type": "code",
      "metadata": {
        "id": "nFlm8Qqx-Qab",
        "colab": {
          "base_uri": "https://localhost:8080/"
        },
        "outputId": "d2b7307b-fb2d-4329-eb27-fd177601f66e"
      },
      "source": [
        "y_train_keras = train_keras[\"price\"]\r\n",
        "y_train_keras"
      ],
      "execution_count": null,
      "outputs": [
        {
          "output_type": "execute_result",
          "data": {
            "text/plain": [
              "233645     105.0\n",
              "1419447     16.0\n",
              "935662      26.0\n",
              "1147679     14.0\n",
              "766955       8.0\n",
              "           ...  \n",
              "19252       18.0\n",
              "385322      54.0\n",
              "138223      23.0\n",
              "1148150     14.0\n",
              "1185228     18.0\n",
              "Name: price, Length: 1157452, dtype: float64"
            ]
          },
          "metadata": {
            "tags": []
          },
          "execution_count": 31
        }
      ]
    },
    {
      "cell_type": "code",
      "metadata": {
        "id": "IkHBOiRXggJw",
        "colab": {
          "base_uri": "https://localhost:8080/"
        },
        "outputId": "c3fb1899-0114-4822-dcdd-caa8fb61b20c"
      },
      "source": [
        "y_validation_keras = validation_keras[\"price\"]\r\n",
        "y_validation_keras"
      ],
      "execution_count": null,
      "outputs": [
        {
          "output_type": "execute_result",
          "data": {
            "text/plain": [
              "1378349     39.0\n",
              "1186437     14.0\n",
              "1356070    559.0\n",
              "981120      54.0\n",
              "1017699     25.0\n",
              "           ...  \n",
              "933953      10.0\n",
              "1246650     30.0\n",
              "1415233     10.0\n",
              "376025      28.0\n",
              "511335      19.0\n",
              "Name: price, Length: 289363, dtype: float64"
            ]
          },
          "metadata": {
            "tags": []
          },
          "execution_count": 32
        }
      ]
    },
    {
      "cell_type": "code",
      "metadata": {
        "id": "CZh4kWw73yTY"
      },
      "source": [
        "inputA_train_keras = train_keras[[\"item_condition_id\", \"category_name_l\", \"brand_name_l\", \"shipping\"]].values.astype('int32')"
      ],
      "execution_count": null,
      "outputs": []
    },
    {
      "cell_type": "code",
      "metadata": {
        "id": "-oTri-SwCHqe"
      },
      "source": [
        "inputA_validation_keras = validation_keras[[\"item_condition_id\", \"category_name_l\", \"brand_name_l\", \"shipping\"]].values.astype('int32')"
      ],
      "execution_count": null,
      "outputs": []
    },
    {
      "cell_type": "code",
      "metadata": {
        "id": "7ZmQxJaT3yTX"
      },
      "source": [
        "name_vocab_size= vocab_size\n",
        "desc_vocab_size= vocab_size\n",
        "def getModelKeras(name_length_max, desc_length_max, name_vocab_size, desc_vocab_size):\n",
        "    inputA = Input(shape=(4,))\n",
        "    #Ad = Dense(4, activation='relu')(inputA)\n",
        "    Ad = inputA\n",
        "    \n",
        "    inputName = Input(shape=(name_length_max,))\n",
        "    Ne = Embedding(input_dim=name_vocab_size, output_dim=8, input_length=name_length_max)(inputName)\n",
        "    #Ne = Embedding(\n",
        "    #    num_tokens,\n",
        "    #    embedding_dim,\n",
        "    #    embeddings_initializer=keras.initializers.Constant(embedding_matrix),\n",
        "    #    trainable=False,\n",
        "    #)(inputName)\n",
        "    Nd = LSTM(12,return_sequences=True)(Ne)\n",
        "    Nd = Flatten()(Nd)\n",
        "\n",
        "    #Nd = Nf\n",
        "    \n",
        "    inputDesc = Input(shape=(desc_length_max,))\n",
        "    De = Embedding(input_dim=desc_vocab_size, output_dim=16, input_length=desc_length_max)(inputDesc)\n",
        "    #De = Embedding(\n",
        "    #    num_tokens,\n",
        "    #    embedding_dim,\n",
        "    #    embeddings_initializer=keras.initializers.Constant(embedding_matrix),\n",
        "    #    trainable=False,\n",
        "    #)(inputDesc)\n",
        "    Dd = LSTM(16,return_sequences=True)(De)\n",
        "    Dd = LSTM(8,return_sequences=True)(Dd)\n",
        "    Dd = Flatten()(Dd)\n",
        "    #Dd = Df\n",
        "    \n",
        "    concat = Concatenate()([Ad, Nd, Dd])\n",
        "\n",
        "    x = Dropout(0.1)(concat)    \n",
        "    x = Dense(32, activation='relu')(x)\n",
        "    x = Dropout(0.1)(x)\n",
        "    x = Dense(16, activation='relu')(x)\n",
        "    \n",
        "    x = Dense(1, activation='linear')(x)\n",
        "    \n",
        "    model = Model(inputs=[inputA, inputName, inputDesc], outputs=x)\n",
        "    \n",
        "    return model\n",
        "    "
      ],
      "execution_count": null,
      "outputs": []
    },
    {
      "cell_type": "code",
      "metadata": {
        "id": "SWfolHUC3yTX",
        "colab": {
          "base_uri": "https://localhost:8080/"
        },
        "outputId": "49ea89a2-b01f-4640-849a-456975c18a08"
      },
      "source": [
        "model_keras = getModelKeras(name_length_max, desc_length_max, name_vocab_size, desc_vocab_size)\n",
        "model_keras.summary()"
      ],
      "execution_count": null,
      "outputs": [
        {
          "output_type": "stream",
          "text": [
            "Model: \"model_2\"\n",
            "__________________________________________________________________________________________________\n",
            "Layer (type)                    Output Shape         Param #     Connected to                     \n",
            "==================================================================================================\n",
            "input_9 (InputLayer)            [(None, 75)]         0                                            \n",
            "__________________________________________________________________________________________________\n",
            "input_8 (InputLayer)            [(None, 10)]         0                                            \n",
            "__________________________________________________________________________________________________\n",
            "embedding_5 (Embedding)         (None, 75, 16)       4086896     input_9[0][0]                    \n",
            "__________________________________________________________________________________________________\n",
            "embedding_4 (Embedding)         (None, 10, 8)        2043448     input_8[0][0]                    \n",
            "__________________________________________________________________________________________________\n",
            "lstm_7 (LSTM)                   (None, 75, 16)       2112        embedding_5[0][0]                \n",
            "__________________________________________________________________________________________________\n",
            "lstm_6 (LSTM)                   (None, 10, 12)       1008        embedding_4[0][0]                \n",
            "__________________________________________________________________________________________________\n",
            "lstm_8 (LSTM)                   (None, 75, 8)        800         lstm_7[0][0]                     \n",
            "__________________________________________________________________________________________________\n",
            "input_7 (InputLayer)            [(None, 4)]          0                                            \n",
            "__________________________________________________________________________________________________\n",
            "flatten_4 (Flatten)             (None, 120)          0           lstm_6[0][0]                     \n",
            "__________________________________________________________________________________________________\n",
            "flatten_5 (Flatten)             (None, 600)          0           lstm_8[0][0]                     \n",
            "__________________________________________________________________________________________________\n",
            "concatenate_2 (Concatenate)     (None, 724)          0           input_7[0][0]                    \n",
            "                                                                 flatten_4[0][0]                  \n",
            "                                                                 flatten_5[0][0]                  \n",
            "__________________________________________________________________________________________________\n",
            "dropout_4 (Dropout)             (None, 724)          0           concatenate_2[0][0]              \n",
            "__________________________________________________________________________________________________\n",
            "dense_6 (Dense)                 (None, 32)           23200       dropout_4[0][0]                  \n",
            "__________________________________________________________________________________________________\n",
            "dropout_5 (Dropout)             (None, 32)           0           dense_6[0][0]                    \n",
            "__________________________________________________________________________________________________\n",
            "dense_7 (Dense)                 (None, 16)           528         dropout_5[0][0]                  \n",
            "__________________________________________________________________________________________________\n",
            "dense_8 (Dense)                 (None, 1)            17          dense_7[0][0]                    \n",
            "==================================================================================================\n",
            "Total params: 6,158,009\n",
            "Trainable params: 6,158,009\n",
            "Non-trainable params: 0\n",
            "__________________________________________________________________________________________________\n"
          ],
          "name": "stdout"
        }
      ]
    },
    {
      "cell_type": "code",
      "metadata": {
        "id": "aNoRvN6T3yTX",
        "colab": {
          "base_uri": "https://localhost:8080/",
          "height": 1000
        },
        "outputId": "6fcfbb02-cb7d-4a86-a03e-621f233b16db"
      },
      "source": [
        "plot_model(model_keras)"
      ],
      "execution_count": null,
      "outputs": [
        {
          "output_type": "execute_result",
          "data": {
            "image/png": "[encoded data removed]",
            "text/plain": [
              "<IPython.core.display.Image object>"
            ]
          },
          "metadata": {
            "tags": []
          },
          "execution_count": 58
        }
      ]
    },
    {
      "cell_type": "code",
      "metadata": {
        "id": "1-rcb1aLIHPX"
      },
      "source": [
        "model_keras.compile(loss = root_mean_squared_logarithmic_error, optimizer='adam', metrics=['mse', 'mae', tf.keras.metrics.RootMeanSquaredError(), 'mean_squared_logarithmic_error', root_mean_squared_logarithmic_error])"
      ],
      "execution_count": null,
      "outputs": []
    },
    {
      "cell_type": "code",
      "metadata": {
        "id": "Y2m3WcI-JWcP",
        "colab": {
          "base_uri": "https://localhost:8080/"
        },
        "outputId": "f8fed7ba-e4b4-4946-8944-6de841c9a8f7"
      },
      "source": [
        "callback = tf.keras.callbacks.EarlyStopping(monitor='loss', patience=2)\n",
        "\n",
        "history_keras = model_keras.fit(x=[inputA_train_keras,inputName_train_keras, inputDesc_train_keras], y=y_train_keras,\n",
        "                    epochs=5,\n",
        "                    verbose=True,\n",
        "                    validation_data=([inputA_validation_keras ,inputName_validation_keras, inputDesc_validation_keras], y_validation_keras),\n",
        "                    callbacks=[callback],\n",
        "                    batch_size=512)\n",
        "# senza pulizia  val_root_mean_squared_logarithmic_error: 0.4701 e loss: 0.3637\n",
        "# con pulizia val_root_mean_squared_logarithmic_error: 0.4670 e loss: 0.3699"
      ],
      "execution_count": null,
      "outputs": [
        {
          "output_type": "stream",
          "text": [
            "Epoch 1/5\n",
            "2261/2261 [==============================] - 151s 65ms/step - loss: 0.6654 - mse: 1381.2532 - mae: 14.6717 - root_mean_squared_error: 36.9932 - mean_squared_logarithmic_error: 0.5572 - root_mean_squared_logarithmic_error: 0.6654 - val_loss: 0.4880 - val_mse: 989.1526 - val_mae: 11.4743 - val_root_mean_squared_error: 31.4508 - val_mean_squared_logarithmic_error: 0.2387 - val_root_mean_squared_logarithmic_error: 0.4882\n",
            "Epoch 2/5\n",
            "2261/2261 [==============================] - 149s 66ms/step - loss: 0.4685 - mse: 984.1704 - mae: 11.1565 - root_mean_squared_error: 31.3682 - mean_squared_logarithmic_error: 0.2199 - root_mean_squared_logarithmic_error: 0.4685 - val_loss: 0.4755 - val_mse: 872.3668 - val_mae: 11.0421 - val_root_mean_squared_error: 29.5359 - val_mean_squared_logarithmic_error: 0.2265 - val_root_mean_squared_logarithmic_error: 0.4756\n",
            "Epoch 3/5\n",
            "2261/2261 [==============================] - 150s 66ms/step - loss: 0.4414 - mse: 837.6986 - mae: 10.3945 - root_mean_squared_error: 28.9376 - mean_squared_logarithmic_error: 0.1952 - root_mean_squared_logarithmic_error: 0.4414 - val_loss: 0.4618 - val_mse: 808.0444 - val_mae: 10.7289 - val_root_mean_squared_error: 28.4261 - val_mean_squared_logarithmic_error: 0.2137 - val_root_mean_squared_logarithmic_error: 0.4619\n",
            "Epoch 4/5\n",
            "2261/2261 [==============================] - 149s 66ms/step - loss: 0.4228 - mse: 777.9821 - mae: 9.9073 - root_mean_squared_error: 27.8899 - mean_squared_logarithmic_error: 0.1791 - root_mean_squared_logarithmic_error: 0.4228 - val_loss: 0.4670 - val_mse: 767.9100 - val_mae: 10.7390 - val_root_mean_squared_error: 27.7112 - val_mean_squared_logarithmic_error: 0.2185 - val_root_mean_squared_logarithmic_error: 0.4671\n",
            "Epoch 5/5\n",
            "2261/2261 [==============================] - 151s 67ms/step - loss: 0.4083 - mse: 696.4809 - mae: 9.4708 - root_mean_squared_error: 26.3823 - mean_squared_logarithmic_error: 0.1671 - root_mean_squared_logarithmic_error: 0.4083 - val_loss: 0.4592 - val_mse: 749.1246 - val_mae: 10.6343 - val_root_mean_squared_error: 27.3701 - val_mean_squared_logarithmic_error: 0.2113 - val_root_mean_squared_logarithmic_error: 0.4593\n"
          ],
          "name": "stdout"
        }
      ]
    },
    {
      "cell_type": "code",
      "metadata": {
        "id": "m6ZqDQxG4de0"
      },
      "source": [
        "histDf = pd.DataFrame(history.history)\n",
        "histDf.tail()"
      ],
      "execution_count": null,
      "outputs": []
    },
    {
      "cell_type": "code",
      "metadata": {
        "id": "d8NNZQXuht7t"
      },
      "source": [
        "histDf.plot(y=[\"loss\", \"val_loss\"])"
      ],
      "execution_count": null,
      "outputs": []
    },
    {
      "cell_type": "code",
      "metadata": {
        "id": "qgCkkae3Kdmr"
      },
      "source": [
        "inputA_test_keras = test_keras[[\"item_condition_id\", \"category_name_l\", \"brand_name_l\", \"shipping\"]].values.astype('int32')\r\n",
        "inputName_test_keras = pad_sequences(test_keras[\"name_t\"], padding='post', maxlen=name_length_max)\r\n",
        "inputDesc_test_keras = pad_sequences(test_keras[\"item_description_t\"], padding='post', maxlen=desc_length_max)\r\n",
        "pred_keras = model_keras.predict([inputA_test_keras, inputName_test_keras, inputDesc_test_keras])\r\n",
        "pred_keras"
      ],
      "execution_count": null,
      "outputs": []
    },
    {
      "cell_type": "code",
      "metadata": {
        "id": "8-IkK1IkNqXD"
      },
      "source": [
        "import math\r\n",
        "\r\n",
        "def rmsle(y, y_pred):\r\n",
        "    assert len(y) == len(y_pred)\r\n",
        "    to_sum = [(math.log(y_pred[i] + 1) - math.log(y[i] + 1)) ** 2.0 for i,pred in enumerate(y_pred)]\r\n",
        "    return (sum(to_sum) * (1.0/len(y))) ** 0.5"
      ],
      "execution_count": null,
      "outputs": []
    },
    {
      "cell_type": "code",
      "metadata": {
        "id": "qeCyj4NcNtuU"
      },
      "source": [
        "validation_keras"
      ],
      "execution_count": null,
      "outputs": []
    },
    {
      "cell_type": "code",
      "metadata": {
        "id": "ODIe2aySMUZj"
      },
      "source": [
        "pred_keras=pred_keras.round()"
      ],
      "execution_count": null,
      "outputs": []
    },
    {
      "cell_type": "code",
      "metadata": {
        "id": "oLp_8poJQBmn"
      },
      "source": [
        "pred_v_keras = model.predict([inputA_validation_keras, inputName_validation_keras, inputDesc_validation_keras])\r\n",
        "pred_v_keras = pred_v_keras.round()"
      ],
      "execution_count": null,
      "outputs": []
    },
    {
      "cell_type": "code",
      "metadata": {
        "id": "5NmUm_gaRWHL"
      },
      "source": [
        "len(pred_v_keras)"
      ],
      "execution_count": null,
      "outputs": []
    },
    {
      "cell_type": "code",
      "metadata": {
        "id": "nFrRfXG-RhVr"
      },
      "source": [
        "len(y_validation_keras)"
      ],
      "execution_count": null,
      "outputs": []
    },
    {
      "cell_type": "code",
      "metadata": {
        "id": "gJPxtmcQRJlp"
      },
      "source": [
        "root_mean_squared_logarithmic_error(y_validation_keras, pred_v_keras)"
      ],
      "execution_count": null,
      "outputs": []
    },
    {
      "cell_type": "markdown",
      "metadata": {
        "id": "G91ZG_SXUU50"
      },
      "source": [
        "## Glove pretrained"
      ]
    },
    {
      "cell_type": "code",
      "metadata": {
        "id": "eaYOtsY36rOz"
      },
      "source": [
        "archive_url = 'http://downloads.cs.stanford.edu/nlp/data/wordvecs/glove.6B.zip'\n",
        "archive_name = 'glove.6B.zip'\n",
        "remove_archive = False\n",
        "embedding_fname = 'glove.6B.100d.txt'"
      ],
      "execution_count": null,
      "outputs": []
    },
    {
      "cell_type": "code",
      "metadata": {
        "id": "OUeT17cO-xhP"
      },
      "source": [
        "if not os.path.isfile(archive_name) and not os.path.isfile(embedding_fname):\n",
        "  ! wget {archive_url} -O {archive_name}"
      ],
      "execution_count": null,
      "outputs": []
    },
    {
      "cell_type": "code",
      "metadata": {
        "id": "m6X2PUTqGNGI"
      },
      "source": [
        "if not os.path.isfile(embedding_fname):\n",
        "  ! unzip {archive_name} {embedding_fname}\n",
        "\n",
        "# remove archive if already extracted\n",
        "if remove_archive and os.path.isfile(embedding_fname):\n",
        "  os.remove(archive_name)"
      ],
      "execution_count": null,
      "outputs": []
    },
    {
      "cell_type": "markdown",
      "metadata": {
        "id": "OTMOU0Pk8A6_"
      },
      "source": [
        "Needs a word encoding index (e.g. keras one)"
      ]
    },
    {
      "cell_type": "code",
      "metadata": {
        "id": "gPFLTtl_C6A4"
      },
      "source": [
        "word_index = tokenizer.word_index\n",
        "print(len(word_index))"
      ],
      "execution_count": null,
      "outputs": []
    },
    {
      "cell_type": "code",
      "metadata": {
        "id": "hVnTcD3nCet7"
      },
      "source": [
        "path_to_glove_file = os.path.join(\n",
        "    base_dir, \"glove.6B.100d.txt\"\n",
        ")\n",
        "\n",
        "embeddings_index = {}\n",
        "with open(path_to_glove_file) as f:\n",
        "    for line in f:\n",
        "        word, coefs = line.split(maxsplit=1)\n",
        "        coefs = np.fromstring(coefs, \"f\", sep=\" \")\n",
        "        embeddings_index[word] = coefs\n",
        "\n",
        "print(\"Found %s word vectors.\" % len(embeddings_index))"
      ],
      "execution_count": null,
      "outputs": []
    },
    {
      "cell_type": "code",
      "metadata": {
        "id": "Vffbp5FHB-ZN"
      },
      "source": [
        "#glove pretrained embedding\n",
        "num_tokens = len(word_index) + 2\n",
        "embedding_dim = 100\n",
        "hits = 0\n",
        "misses = 0\n",
        "\n",
        "# Prepare embedding matrix\n",
        "embedding_matrix = np.zeros((num_tokens, embedding_dim))\n",
        "for word, i in word_index.items():\n",
        "    embedding_vector = embeddings_index.get(word)\n",
        "    if embedding_vector is not None:\n",
        "        # Words not found in embedding index will be all-zeros.\n",
        "        # This includes the representation for \"padding\" and \"OOV\"\n",
        "        embedding_matrix[i] = embedding_vector\n",
        "        hits += 1\n",
        "    else:\n",
        "        misses += 1\n",
        "print(\"Converted %d words (%d misses)\" % (hits, misses))"
      ],
      "execution_count": null,
      "outputs": []
    },
    {
      "cell_type": "markdown",
      "metadata": {
        "id": "Am9eiXhqax3l"
      },
      "source": [
        "## BoW"
      ]
    },
    {
      "cell_type": "code",
      "metadata": {
        "colab": {
          "base_uri": "https://localhost:8080/",
          "height": 421
        },
        "id": "RKpbPcZMddGB",
        "outputId": "d1e18176-7785-4777-dc9e-5fce28f26452"
      },
      "source": [
        "data.head()"
      ],
      "execution_count": 15,
      "outputs": [
        {
          "output_type": "execute_result",
          "data": {
            "text/html": [
              "<div>\n",
              "<style scoped>\n",
              "    .dataframe tbody tr th:only-of-type {\n",
              "        vertical-align: middle;\n",
              "    }\n",
              "\n",
              "    .dataframe tbody tr th {\n",
              "        vertical-align: top;\n",
              "    }\n",
              "\n",
              "    .dataframe thead th {\n",
              "        text-align: right;\n",
              "    }\n",
              "</style>\n",
              "<table border=\"1\" class=\"dataframe\">\n",
              "  <thead>\n",
              "    <tr style=\"text-align: right;\">\n",
              "      <th></th>\n",
              "      <th>name</th>\n",
              "      <th>item_condition_id</th>\n",
              "      <th>category_name</th>\n",
              "      <th>brand_name</th>\n",
              "      <th>price</th>\n",
              "      <th>shipping</th>\n",
              "      <th>item_description</th>\n",
              "      <th>category_name_l</th>\n",
              "      <th>brand_name_l</th>\n",
              "      <th>item_description_clean</th>\n",
              "      <th>name_clean</th>\n",
              "    </tr>\n",
              "  </thead>\n",
              "  <tbody>\n",
              "    <tr>\n",
              "      <th>0</th>\n",
              "      <td>mlb cincinnati reds t shirt size xl</td>\n",
              "      <td>3</td>\n",
              "      <td>Men/Tops/T-shirts</td>\n",
              "      <td>NA</td>\n",
              "      <td>10.0</td>\n",
              "      <td>1</td>\n",
              "      <td>no description yet</td>\n",
              "      <td>19</td>\n",
              "      <td>1</td>\n",
              "      <td>no description yet</td>\n",
              "      <td>mlb cincinnati red shirt size xl</td>\n",
              "    </tr>\n",
              "    <tr>\n",
              "      <th>1</th>\n",
              "      <td>razer blackwidow chroma keyboard</td>\n",
              "      <td>3</td>\n",
              "      <td>Electronics/Computers &amp; Tablets/Components &amp; P...</td>\n",
              "      <td>Razer</td>\n",
              "      <td>52.0</td>\n",
              "      <td>0</td>\n",
              "      <td>this keyboard is in great condition and works ...</td>\n",
              "      <td>246</td>\n",
              "      <td>1073</td>\n",
              "      <td>keyboard great condition work like came box po...</td>\n",
              "      <td>razer blackwidow chroma keyboard</td>\n",
              "    </tr>\n",
              "    <tr>\n",
              "      <th>2</th>\n",
              "      <td>ava-viv blouse</td>\n",
              "      <td>1</td>\n",
              "      <td>Women/Tops &amp; Blouses/Blouse</td>\n",
              "      <td>Target</td>\n",
              "      <td>10.0</td>\n",
              "      <td>1</td>\n",
              "      <td>adorable top with a hint of lace and a key hol...</td>\n",
              "      <td>10</td>\n",
              "      <td>175</td>\n",
              "      <td>adorable top hint lace key hole back pale pink...</td>\n",
              "      <td>ava-viv blouse</td>\n",
              "    </tr>\n",
              "    <tr>\n",
              "      <th>3</th>\n",
              "      <td>leather horse statues</td>\n",
              "      <td>1</td>\n",
              "      <td>Home/Home Décor/Home Décor Accents</td>\n",
              "      <td>NA</td>\n",
              "      <td>35.0</td>\n",
              "      <td>1</td>\n",
              "      <td>new with tags. leather horses. retail for [rm]...</td>\n",
              "      <td>28</td>\n",
              "      <td>1</td>\n",
              "      <td>new tag leather horse retail rm stand foot hig...</td>\n",
              "      <td>leather horse statue</td>\n",
              "    </tr>\n",
              "    <tr>\n",
              "      <th>4</th>\n",
              "      <td>24k gold plated rose</td>\n",
              "      <td>1</td>\n",
              "      <td>Women/Jewelry/Necklaces</td>\n",
              "      <td>NA</td>\n",
              "      <td>44.0</td>\n",
              "      <td>0</td>\n",
              "      <td>complete with certificate of authenticity</td>\n",
              "      <td>16</td>\n",
              "      <td>1</td>\n",
              "      <td>complete certificate authenticity</td>\n",
              "      <td>24k gold plated rose</td>\n",
              "    </tr>\n",
              "  </tbody>\n",
              "</table>\n",
              "</div>"
            ],
            "text/plain": [
              "                                  name  ...                        name_clean\n",
              "0  mlb cincinnati reds t shirt size xl  ...  mlb cincinnati red shirt size xl\n",
              "1     razer blackwidow chroma keyboard  ...  razer blackwidow chroma keyboard\n",
              "2                       ava-viv blouse  ...                    ava-viv blouse\n",
              "3                leather horse statues  ...              leather horse statue\n",
              "4                 24k gold plated rose  ...              24k gold plated rose\n",
              "\n",
              "[5 rows x 11 columns]"
            ]
          },
          "metadata": {
            "tags": []
          },
          "execution_count": 15
        }
      ]
    },
    {
      "cell_type": "code",
      "metadata": {
        "id": "WMvcp3DzpFlE"
      },
      "source": [
        "train_cvec, validation_cvec = train_test_split(data, test_size=0.2, random_state=1000)"
      ],
      "execution_count": 16,
      "outputs": []
    },
    {
      "cell_type": "code",
      "metadata": {
        "colab": {
          "base_uri": "https://localhost:8080/"
        },
        "id": "cc9UaX5XKaRg",
        "outputId": "1e8ed0db-1cd0-4a59-99bd-0f228dad1e7d"
      },
      "source": [
        "categorical_train_cvec= train_cvec[[\"item_condition_id\",\"shipping\",\"category_name_l\",\"brand_name_l\"]]\r\n",
        "print(\"Train:\")\r\n",
        "print(categorical_train_cvec.head())\r\n",
        "print(\"\\nValidation:\")\r\n",
        "categorical_validation_cvec= validation_cvec[[\"item_condition_id\",\"shipping\",\"category_name_l\",\"brand_name_l\"]]\r\n",
        "print(categorical_validation_cvec.head())"
      ],
      "execution_count": 17,
      "outputs": [
        {
          "output_type": "stream",
          "text": [
            "Train:\n",
            "         item_condition_id  shipping  category_name_l  brand_name_l\n",
            "233645                   4         1               42             8\n",
            "1419447                  1         0                6             1\n",
            "935662                   3         1               29          1138\n",
            "1147679                  2         0               77             1\n",
            "766955                   1         1                4            18\n",
            "\n",
            "Validation:\n",
            "         item_condition_id  shipping  category_name_l  brand_name_l\n",
            "1378349                  1         1                1             1\n",
            "1186437                  1         0                1             5\n",
            "1356070                  3         0              166             8\n",
            "981120                   1         0                3           118\n",
            "1017699                  1         1                6           129\n"
          ],
          "name": "stdout"
        }
      ]
    },
    {
      "cell_type": "code",
      "metadata": {
        "id": "-I1r2JgCxP1g"
      },
      "source": [
        "y_train_cvec=train_cvec[\"price\"].values\r\n",
        "y_validation_cvec=validation_cvec[\"price\"].values"
      ],
      "execution_count": 18,
      "outputs": []
    },
    {
      "cell_type": "markdown",
      "metadata": {
        "id": "uuMtKfPMrZBk"
      },
      "source": [
        "### Count Vectorizer"
      ]
    },
    {
      "cell_type": "code",
      "metadata": {
        "colab": {
          "base_uri": "https://localhost:8080/",
          "height": 337
        },
        "id": "cnLBxl6b0Ruj",
        "outputId": "63297752-fada-4d6e-9468-b8cb6839b23b"
      },
      "source": [
        "vectorizer_desc = CountVectorizer()\r\n",
        "vectorizer_desc.fit(data[\"item_description\"].values)"
      ],
      "execution_count": 14,
      "outputs": [
        {
          "output_type": "error",
          "ename": "KeyboardInterrupt",
          "evalue": "ignored",
          "traceback": [
            "\u001b[0;31m---------------------------------------------------------------------------\u001b[0m",
            "\u001b[0;31mKeyboardInterrupt\u001b[0m                         Traceback (most recent call last)",
            "\u001b[0;32m<ipython-input-14-47d2181867ba>\u001b[0m in \u001b[0;36m<module>\u001b[0;34m()\u001b[0m\n\u001b[1;32m      1\u001b[0m \u001b[0mvectorizer_desc\u001b[0m \u001b[0;34m=\u001b[0m \u001b[0mCountVectorizer\u001b[0m\u001b[0;34m(\u001b[0m\u001b[0;34m)\u001b[0m\u001b[0;34m\u001b[0m\u001b[0;34m\u001b[0m\u001b[0m\n\u001b[0;32m----> 2\u001b[0;31m \u001b[0mvectorizer_desc\u001b[0m\u001b[0;34m.\u001b[0m\u001b[0mfit\u001b[0m\u001b[0;34m(\u001b[0m\u001b[0mdata\u001b[0m\u001b[0;34m[\u001b[0m\u001b[0;34m\"item_description\"\u001b[0m\u001b[0;34m]\u001b[0m\u001b[0;34m.\u001b[0m\u001b[0mvalues\u001b[0m\u001b[0;34m)\u001b[0m\u001b[0;34m\u001b[0m\u001b[0;34m\u001b[0m\u001b[0m\n\u001b[0m",
            "\u001b[0;32m/usr/local/lib/python3.6/dist-packages/sklearn/feature_extraction/text.py\u001b[0m in \u001b[0;36mfit\u001b[0;34m(self, raw_documents, y)\u001b[0m\n\u001b[1;32m   1184\u001b[0m         \"\"\"\n\u001b[1;32m   1185\u001b[0m         \u001b[0mself\u001b[0m\u001b[0;34m.\u001b[0m\u001b[0m_warn_for_unused_params\u001b[0m\u001b[0;34m(\u001b[0m\u001b[0;34m)\u001b[0m\u001b[0;34m\u001b[0m\u001b[0;34m\u001b[0m\u001b[0m\n\u001b[0;32m-> 1186\u001b[0;31m         \u001b[0mself\u001b[0m\u001b[0;34m.\u001b[0m\u001b[0mfit_transform\u001b[0m\u001b[0;34m(\u001b[0m\u001b[0mraw_documents\u001b[0m\u001b[0;34m)\u001b[0m\u001b[0;34m\u001b[0m\u001b[0;34m\u001b[0m\u001b[0m\n\u001b[0m\u001b[1;32m   1187\u001b[0m         \u001b[0;32mreturn\u001b[0m \u001b[0mself\u001b[0m\u001b[0;34m\u001b[0m\u001b[0;34m\u001b[0m\u001b[0m\n\u001b[1;32m   1188\u001b[0m \u001b[0;34m\u001b[0m\u001b[0m\n",
            "\u001b[0;32m/usr/local/lib/python3.6/dist-packages/sklearn/feature_extraction/text.py\u001b[0m in \u001b[0;36mfit_transform\u001b[0;34m(self, raw_documents, y)\u001b[0m\n\u001b[1;32m   1218\u001b[0m \u001b[0;34m\u001b[0m\u001b[0m\n\u001b[1;32m   1219\u001b[0m         vocabulary, X = self._count_vocab(raw_documents,\n\u001b[0;32m-> 1220\u001b[0;31m                                           self.fixed_vocabulary_)\n\u001b[0m\u001b[1;32m   1221\u001b[0m \u001b[0;34m\u001b[0m\u001b[0m\n\u001b[1;32m   1222\u001b[0m         \u001b[0;32mif\u001b[0m \u001b[0mself\u001b[0m\u001b[0;34m.\u001b[0m\u001b[0mbinary\u001b[0m\u001b[0;34m:\u001b[0m\u001b[0;34m\u001b[0m\u001b[0;34m\u001b[0m\u001b[0m\n",
            "\u001b[0;32m/usr/local/lib/python3.6/dist-packages/sklearn/feature_extraction/text.py\u001b[0m in \u001b[0;36m_count_vocab\u001b[0;34m(self, raw_documents, fixed_vocab)\u001b[0m\n\u001b[1;32m   1132\u001b[0m                 \u001b[0;32mtry\u001b[0m\u001b[0;34m:\u001b[0m\u001b[0;34m\u001b[0m\u001b[0;34m\u001b[0m\u001b[0m\n\u001b[1;32m   1133\u001b[0m                     \u001b[0mfeature_idx\u001b[0m \u001b[0;34m=\u001b[0m \u001b[0mvocabulary\u001b[0m\u001b[0;34m[\u001b[0m\u001b[0mfeature\u001b[0m\u001b[0;34m]\u001b[0m\u001b[0;34m\u001b[0m\u001b[0;34m\u001b[0m\u001b[0m\n\u001b[0;32m-> 1134\u001b[0;31m                     \u001b[0;32mif\u001b[0m \u001b[0mfeature_idx\u001b[0m \u001b[0;32mnot\u001b[0m \u001b[0;32min\u001b[0m \u001b[0mfeature_counter\u001b[0m\u001b[0;34m:\u001b[0m\u001b[0;34m\u001b[0m\u001b[0;34m\u001b[0m\u001b[0m\n\u001b[0m\u001b[1;32m   1135\u001b[0m                         \u001b[0mfeature_counter\u001b[0m\u001b[0;34m[\u001b[0m\u001b[0mfeature_idx\u001b[0m\u001b[0;34m]\u001b[0m \u001b[0;34m=\u001b[0m \u001b[0;36m1\u001b[0m\u001b[0;34m\u001b[0m\u001b[0;34m\u001b[0m\u001b[0m\n\u001b[1;32m   1136\u001b[0m                     \u001b[0;32melse\u001b[0m\u001b[0;34m:\u001b[0m\u001b[0;34m\u001b[0m\u001b[0;34m\u001b[0m\u001b[0m\n",
            "\u001b[0;31mKeyboardInterrupt\u001b[0m: "
          ]
        }
      ]
    },
    {
      "cell_type": "code",
      "metadata": {
        "colab": {
          "base_uri": "https://localhost:8080/"
        },
        "id": "2hGHK3_f3du3",
        "outputId": "5e9a285e-b3fa-44b5-de69-b17ac692335f"
      },
      "source": [
        "len(vectorizer_desc.vocabulary_)"
      ],
      "execution_count": null,
      "outputs": [
        {
          "output_type": "execute_result",
          "data": {
            "text/plain": [
              "160142"
            ]
          },
          "metadata": {
            "tags": []
          },
          "execution_count": 19
        }
      ]
    },
    {
      "cell_type": "code",
      "metadata": {
        "id": "WvNUFh5zFz09"
      },
      "source": [
        "description_train_cvec = vectorizer_desc.transform(train_cvec[\"item_description\"].values)"
      ],
      "execution_count": null,
      "outputs": []
    },
    {
      "cell_type": "code",
      "metadata": {
        "id": "0etpa0ospxMm"
      },
      "source": [
        "description_validation_cvec = vectorizer_desc.transform(validation_cvec[\"item_description\"].values)"
      ],
      "execution_count": null,
      "outputs": []
    },
    {
      "cell_type": "code",
      "metadata": {
        "colab": {
          "base_uri": "https://localhost:8080/"
        },
        "id": "9myswCjJVeB6",
        "outputId": "70e0dde3-a19a-4021-ded0-66aef3761bc5"
      },
      "source": [
        "type(description_validation_cvec)"
      ],
      "execution_count": null,
      "outputs": [
        {
          "output_type": "execute_result",
          "data": {
            "text/plain": [
              "scipy.sparse.csr.csr_matrix"
            ]
          },
          "metadata": {
            "tags": []
          },
          "execution_count": 22
        }
      ]
    },
    {
      "cell_type": "code",
      "metadata": {
        "colab": {
          "base_uri": "https://localhost:8080/"
        },
        "id": "BRsUcwbSpTWu",
        "outputId": "e4c9b9d1-57c6-46e4-965d-bbbf8d7bd838"
      },
      "source": [
        "vectorizer_name = CountVectorizer()\r\n",
        "vectorizer_name.fit(data[\"name\"].values)"
      ],
      "execution_count": null,
      "outputs": [
        {
          "output_type": "execute_result",
          "data": {
            "text/plain": [
              "CountVectorizer(analyzer='word', binary=False, decode_error='strict',\n",
              "                dtype=<class 'numpy.int64'>, encoding='utf-8', input='content',\n",
              "                lowercase=True, max_df=1.0, max_features=None, min_df=1,\n",
              "                ngram_range=(1, 1), preprocessor=None, stop_words=None,\n",
              "                strip_accents=None, token_pattern='(?u)\\\\b\\\\w\\\\w+\\\\b',\n",
              "                tokenizer=None, vocabulary=None)"
            ]
          },
          "metadata": {
            "tags": []
          },
          "execution_count": 27
        }
      ]
    },
    {
      "cell_type": "code",
      "metadata": {
        "colab": {
          "base_uri": "https://localhost:8080/"
        },
        "id": "cx3VVZ15qI0h",
        "outputId": "18e818e4-2ffc-46ef-a4b4-8accf7bdfc98"
      },
      "source": [
        "len(vectorizer_name.vocabulary_)"
      ],
      "execution_count": null,
      "outputs": [
        {
          "output_type": "execute_result",
          "data": {
            "text/plain": [
              "104060"
            ]
          },
          "metadata": {
            "tags": []
          },
          "execution_count": 28
        }
      ]
    },
    {
      "cell_type": "code",
      "metadata": {
        "id": "nh1PddSiqSS_"
      },
      "source": [
        "name_train_cvec = vectorizer_name.transform(train_cvec[\"name\"].values)\r\n",
        "name_validation_cvec = vectorizer_name.transform(validation_cvec[\"name\"].values)"
      ],
      "execution_count": null,
      "outputs": []
    },
    {
      "cell_type": "code",
      "metadata": {
        "colab": {
          "base_uri": "https://localhost:8080/"
        },
        "id": "TK01Kzkj6244",
        "outputId": "10a5442d-37af-482c-8509-f9259f89335a"
      },
      "source": [
        "type(name_train_cvec)"
      ],
      "execution_count": null,
      "outputs": [
        {
          "output_type": "execute_result",
          "data": {
            "text/plain": [
              "scipy.sparse.csr.csr_matrix"
            ]
          },
          "metadata": {
            "tags": []
          },
          "execution_count": 57
        }
      ]
    },
    {
      "cell_type": "code",
      "metadata": {
        "id": "NzdkPXSu4VMb"
      },
      "source": [
        "def getModel_bow(categorical_train, name_train, description_train):\r\n",
        "    inputA = Input(categorical_train.shape[1])\r\n",
        "    inputName = Input(name_train.shape[1])\r\n",
        "    inputDesc = Input(description_train.shape[1])\r\n",
        "    concat = Concatenate()([inputName, inputDesc, inputA])\r\n",
        "\r\n",
        "    x = Dropout(0.1)(concat)\r\n",
        "    x = Dense(32, activation='relu')(x)\r\n",
        "    x = Dropout(0.1)(x)\r\n",
        "    x = Dense(16, activation='relu')(x)\r\n",
        "    \r\n",
        "    x = Dense(1, activation='linear')(x)\r\n",
        "    \r\n",
        "    model = Model(inputs=[inputName ,inputDesc, inputA], outputs=x)\r\n",
        "\r\n",
        "    return model"
      ],
      "execution_count": null,
      "outputs": []
    },
    {
      "cell_type": "code",
      "metadata": {
        "colab": {
          "base_uri": "https://localhost:8080/"
        },
        "id": "bd_anq_Cxg4h",
        "outputId": "2172a9f5-869f-4627-c082-12c62986f22c"
      },
      "source": [
        "model_cvec = getModel_bow(categorical_train_cvec, name_train_cvec, description_train_cvec)\r\n",
        "model_cvec.summary()"
      ],
      "execution_count": null,
      "outputs": [
        {
          "output_type": "stream",
          "text": [
            "Model: \"model\"\n",
            "__________________________________________________________________________________________________\n",
            "Layer (type)                    Output Shape         Param #     Connected to                     \n",
            "==================================================================================================\n",
            "input_2 (InputLayer)            [(None, 104060)]     0                                            \n",
            "__________________________________________________________________________________________________\n",
            "input_3 (InputLayer)            [(None, 160142)]     0                                            \n",
            "__________________________________________________________________________________________________\n",
            "input_1 (InputLayer)            [(None, 4)]          0                                            \n",
            "__________________________________________________________________________________________________\n",
            "concatenate (Concatenate)       (None, 264206)       0           input_2[0][0]                    \n",
            "                                                                 input_3[0][0]                    \n",
            "                                                                 input_1[0][0]                    \n",
            "__________________________________________________________________________________________________\n",
            "dropout (Dropout)               (None, 264206)       0           concatenate[0][0]                \n",
            "__________________________________________________________________________________________________\n",
            "dense (Dense)                   (None, 32)           8454624     dropout[0][0]                    \n",
            "__________________________________________________________________________________________________\n",
            "dropout_1 (Dropout)             (None, 32)           0           dense[0][0]                      \n",
            "__________________________________________________________________________________________________\n",
            "dense_1 (Dense)                 (None, 16)           528         dropout_1[0][0]                  \n",
            "__________________________________________________________________________________________________\n",
            "dense_2 (Dense)                 (None, 1)            17          dense_1[0][0]                    \n",
            "==================================================================================================\n",
            "Total params: 8,455,169\n",
            "Trainable params: 8,455,169\n",
            "Non-trainable params: 0\n",
            "__________________________________________________________________________________________________\n"
          ],
          "name": "stdout"
        }
      ]
    },
    {
      "cell_type": "code",
      "metadata": {
        "colab": {
          "base_uri": "https://localhost:8080/",
          "height": 661
        },
        "id": "AIsxSCOxyzLb",
        "outputId": "fb1bd6c6-f25e-4bef-c88e-08e07504f17e"
      },
      "source": [
        "plot_model(model_cvec)"
      ],
      "execution_count": null,
      "outputs": [
        {
          "output_type": "execute_result",
          "data": {
            "image/png": "[encoded data removed]",
            "text/plain": [
              "<IPython.core.display.Image object>"
            ]
          },
          "metadata": {
            "tags": []
          },
          "execution_count": 33
        }
      ]
    },
    {
      "cell_type": "code",
      "metadata": {
        "id": "93QpCY4F3hXa"
      },
      "source": [
        "model_cvec.compile(loss = root_mean_squared_logarithmic_error, optimizer='adam', metrics=['mse', 'mae', tf.keras.metrics.RootMeanSquaredError(), 'mean_squared_logarithmic_error', root_mean_squared_logarithmic_error])"
      ],
      "execution_count": null,
      "outputs": []
    },
    {
      "cell_type": "code",
      "metadata": {
        "colab": {
          "base_uri": "https://localhost:8080/",
          "height": 408
        },
        "id": "B70Cb3AW7sEw",
        "outputId": "479b2323-437b-41c1-ad8b-a15b3cf314c5"
      },
      "source": [
        "history_cvec = model_cvec.fit(x=[name_train_cvec, description_train_cvec, categorical_train_cvec.values],\r\n",
        "                    y=y_train_cvec,\r\n",
        "                    epochs=5,\r\n",
        "                    verbose=True,\r\n",
        "                    validation_data=(\r\n",
        "                        [name_validation_cvec, description_validation_cvec, categorical_validation_cvec.values]\r\n",
        "                        , y_validation_cvec),\r\n",
        "                    batch_size=512)"
      ],
      "execution_count": null,
      "outputs": [
        {
          "output_type": "stream",
          "text": [
            "Epoch 1/5\n",
            "  67/2261 [..............................] - ETA: 5:58 - loss: 1.8163 - mse: 2388.3095 - mae: 25.9222 - root_mean_squared_error: 48.7976 - mean_squared_logarithmic_error: 3.5844 - root_mean_squared_logarithmic_error: 1.8163"
          ],
          "name": "stdout"
        },
        {
          "output_type": "error",
          "ename": "KeyboardInterrupt",
          "evalue": "ignored",
          "traceback": [
            "\u001b[0;31m---------------------------------------------------------------------------\u001b[0m",
            "\u001b[0;31mKeyboardInterrupt\u001b[0m                         Traceback (most recent call last)",
            "\u001b[0;32m<ipython-input-35-6a4145efd800>\u001b[0m in \u001b[0;36m<module>\u001b[0;34m()\u001b[0m\n\u001b[1;32m      6\u001b[0m                         \u001b[0;34m[\u001b[0m\u001b[0mname_validation_cvec\u001b[0m\u001b[0;34m,\u001b[0m \u001b[0mdescription_validation_cvec\u001b[0m\u001b[0;34m,\u001b[0m \u001b[0mcategorical_validation_cvec\u001b[0m\u001b[0;34m.\u001b[0m\u001b[0mvalues\u001b[0m\u001b[0;34m]\u001b[0m\u001b[0;34m\u001b[0m\u001b[0;34m\u001b[0m\u001b[0m\n\u001b[1;32m      7\u001b[0m                         , y_validation_cvec),\n\u001b[0;32m----> 8\u001b[0;31m                     batch_size=512)\n\u001b[0m",
            "\u001b[0;32m/usr/local/lib/python3.6/dist-packages/tensorflow/python/keras/engine/training.py\u001b[0m in \u001b[0;36mfit\u001b[0;34m(self, x, y, batch_size, epochs, verbose, callbacks, validation_split, validation_data, shuffle, class_weight, sample_weight, initial_epoch, steps_per_epoch, validation_steps, validation_batch_size, validation_freq, max_queue_size, workers, use_multiprocessing)\u001b[0m\n\u001b[1;32m   1098\u001b[0m                 _r=1):\n\u001b[1;32m   1099\u001b[0m               \u001b[0mcallbacks\u001b[0m\u001b[0;34m.\u001b[0m\u001b[0mon_train_batch_begin\u001b[0m\u001b[0;34m(\u001b[0m\u001b[0mstep\u001b[0m\u001b[0;34m)\u001b[0m\u001b[0;34m\u001b[0m\u001b[0;34m\u001b[0m\u001b[0m\n\u001b[0;32m-> 1100\u001b[0;31m               \u001b[0mtmp_logs\u001b[0m \u001b[0;34m=\u001b[0m \u001b[0mself\u001b[0m\u001b[0;34m.\u001b[0m\u001b[0mtrain_function\u001b[0m\u001b[0;34m(\u001b[0m\u001b[0miterator\u001b[0m\u001b[0;34m)\u001b[0m\u001b[0;34m\u001b[0m\u001b[0;34m\u001b[0m\u001b[0m\n\u001b[0m\u001b[1;32m   1101\u001b[0m               \u001b[0;32mif\u001b[0m \u001b[0mdata_handler\u001b[0m\u001b[0;34m.\u001b[0m\u001b[0mshould_sync\u001b[0m\u001b[0;34m:\u001b[0m\u001b[0;34m\u001b[0m\u001b[0;34m\u001b[0m\u001b[0m\n\u001b[1;32m   1102\u001b[0m                 \u001b[0mcontext\u001b[0m\u001b[0;34m.\u001b[0m\u001b[0masync_wait\u001b[0m\u001b[0;34m(\u001b[0m\u001b[0;34m)\u001b[0m\u001b[0;34m\u001b[0m\u001b[0;34m\u001b[0m\u001b[0m\n",
            "\u001b[0;32m/usr/local/lib/python3.6/dist-packages/tensorflow/python/eager/def_function.py\u001b[0m in \u001b[0;36m__call__\u001b[0;34m(self, *args, **kwds)\u001b[0m\n\u001b[1;32m    826\u001b[0m     \u001b[0mtracing_count\u001b[0m \u001b[0;34m=\u001b[0m \u001b[0mself\u001b[0m\u001b[0;34m.\u001b[0m\u001b[0mexperimental_get_tracing_count\u001b[0m\u001b[0;34m(\u001b[0m\u001b[0;34m)\u001b[0m\u001b[0;34m\u001b[0m\u001b[0;34m\u001b[0m\u001b[0m\n\u001b[1;32m    827\u001b[0m     \u001b[0;32mwith\u001b[0m \u001b[0mtrace\u001b[0m\u001b[0;34m.\u001b[0m\u001b[0mTrace\u001b[0m\u001b[0;34m(\u001b[0m\u001b[0mself\u001b[0m\u001b[0;34m.\u001b[0m\u001b[0m_name\u001b[0m\u001b[0;34m)\u001b[0m \u001b[0;32mas\u001b[0m \u001b[0mtm\u001b[0m\u001b[0;34m:\u001b[0m\u001b[0;34m\u001b[0m\u001b[0;34m\u001b[0m\u001b[0m\n\u001b[0;32m--> 828\u001b[0;31m       \u001b[0mresult\u001b[0m \u001b[0;34m=\u001b[0m \u001b[0mself\u001b[0m\u001b[0;34m.\u001b[0m\u001b[0m_call\u001b[0m\u001b[0;34m(\u001b[0m\u001b[0;34m*\u001b[0m\u001b[0margs\u001b[0m\u001b[0;34m,\u001b[0m \u001b[0;34m**\u001b[0m\u001b[0mkwds\u001b[0m\u001b[0;34m)\u001b[0m\u001b[0;34m\u001b[0m\u001b[0;34m\u001b[0m\u001b[0m\n\u001b[0m\u001b[1;32m    829\u001b[0m       \u001b[0mcompiler\u001b[0m \u001b[0;34m=\u001b[0m \u001b[0;34m\"xla\"\u001b[0m \u001b[0;32mif\u001b[0m \u001b[0mself\u001b[0m\u001b[0;34m.\u001b[0m\u001b[0m_experimental_compile\u001b[0m \u001b[0;32melse\u001b[0m \u001b[0;34m\"nonXla\"\u001b[0m\u001b[0;34m\u001b[0m\u001b[0;34m\u001b[0m\u001b[0m\n\u001b[1;32m    830\u001b[0m       \u001b[0mnew_tracing_count\u001b[0m \u001b[0;34m=\u001b[0m \u001b[0mself\u001b[0m\u001b[0;34m.\u001b[0m\u001b[0mexperimental_get_tracing_count\u001b[0m\u001b[0;34m(\u001b[0m\u001b[0;34m)\u001b[0m\u001b[0;34m\u001b[0m\u001b[0;34m\u001b[0m\u001b[0m\n",
            "\u001b[0;32m/usr/local/lib/python3.6/dist-packages/tensorflow/python/eager/def_function.py\u001b[0m in \u001b[0;36m_call\u001b[0;34m(self, *args, **kwds)\u001b[0m\n\u001b[1;32m    853\u001b[0m       \u001b[0;31m# In this case we have created variables on the first call, so we run the\u001b[0m\u001b[0;34m\u001b[0m\u001b[0;34m\u001b[0m\u001b[0;34m\u001b[0m\u001b[0m\n\u001b[1;32m    854\u001b[0m       \u001b[0;31m# defunned version which is guaranteed to never create variables.\u001b[0m\u001b[0;34m\u001b[0m\u001b[0;34m\u001b[0m\u001b[0;34m\u001b[0m\u001b[0m\n\u001b[0;32m--> 855\u001b[0;31m       \u001b[0;32mreturn\u001b[0m \u001b[0mself\u001b[0m\u001b[0;34m.\u001b[0m\u001b[0m_stateless_fn\u001b[0m\u001b[0;34m(\u001b[0m\u001b[0;34m*\u001b[0m\u001b[0margs\u001b[0m\u001b[0;34m,\u001b[0m \u001b[0;34m**\u001b[0m\u001b[0mkwds\u001b[0m\u001b[0;34m)\u001b[0m  \u001b[0;31m# pylint: disable=not-callable\u001b[0m\u001b[0;34m\u001b[0m\u001b[0;34m\u001b[0m\u001b[0m\n\u001b[0m\u001b[1;32m    856\u001b[0m     \u001b[0;32melif\u001b[0m \u001b[0mself\u001b[0m\u001b[0;34m.\u001b[0m\u001b[0m_stateful_fn\u001b[0m \u001b[0;32mis\u001b[0m \u001b[0;32mnot\u001b[0m \u001b[0;32mNone\u001b[0m\u001b[0;34m:\u001b[0m\u001b[0;34m\u001b[0m\u001b[0;34m\u001b[0m\u001b[0m\n\u001b[1;32m    857\u001b[0m       \u001b[0;31m# Release the lock early so that multiple threads can perform the call\u001b[0m\u001b[0;34m\u001b[0m\u001b[0;34m\u001b[0m\u001b[0;34m\u001b[0m\u001b[0m\n",
            "\u001b[0;32m/usr/local/lib/python3.6/dist-packages/tensorflow/python/eager/function.py\u001b[0m in \u001b[0;36m__call__\u001b[0;34m(self, *args, **kwargs)\u001b[0m\n\u001b[1;32m   2941\u001b[0m        filtered_flat_args) = self._maybe_define_function(args, kwargs)\n\u001b[1;32m   2942\u001b[0m     return graph_function._call_flat(\n\u001b[0;32m-> 2943\u001b[0;31m         filtered_flat_args, captured_inputs=graph_function.captured_inputs)  # pylint: disable=protected-access\n\u001b[0m\u001b[1;32m   2944\u001b[0m \u001b[0;34m\u001b[0m\u001b[0m\n\u001b[1;32m   2945\u001b[0m   \u001b[0;34m@\u001b[0m\u001b[0mproperty\u001b[0m\u001b[0;34m\u001b[0m\u001b[0;34m\u001b[0m\u001b[0m\n",
            "\u001b[0;32m/usr/local/lib/python3.6/dist-packages/tensorflow/python/eager/function.py\u001b[0m in \u001b[0;36m_call_flat\u001b[0;34m(self, args, captured_inputs, cancellation_manager)\u001b[0m\n\u001b[1;32m   1917\u001b[0m       \u001b[0;31m# No tape is watching; skip to running the function.\u001b[0m\u001b[0;34m\u001b[0m\u001b[0;34m\u001b[0m\u001b[0;34m\u001b[0m\u001b[0m\n\u001b[1;32m   1918\u001b[0m       return self._build_call_outputs(self._inference_function.call(\n\u001b[0;32m-> 1919\u001b[0;31m           ctx, args, cancellation_manager=cancellation_manager))\n\u001b[0m\u001b[1;32m   1920\u001b[0m     forward_backward = self._select_forward_and_backward_functions(\n\u001b[1;32m   1921\u001b[0m         \u001b[0margs\u001b[0m\u001b[0;34m,\u001b[0m\u001b[0;34m\u001b[0m\u001b[0;34m\u001b[0m\u001b[0m\n",
            "\u001b[0;32m/usr/local/lib/python3.6/dist-packages/tensorflow/python/eager/function.py\u001b[0m in \u001b[0;36mcall\u001b[0;34m(self, ctx, args, cancellation_manager)\u001b[0m\n\u001b[1;32m    558\u001b[0m               \u001b[0minputs\u001b[0m\u001b[0;34m=\u001b[0m\u001b[0margs\u001b[0m\u001b[0;34m,\u001b[0m\u001b[0;34m\u001b[0m\u001b[0;34m\u001b[0m\u001b[0m\n\u001b[1;32m    559\u001b[0m               \u001b[0mattrs\u001b[0m\u001b[0;34m=\u001b[0m\u001b[0mattrs\u001b[0m\u001b[0;34m,\u001b[0m\u001b[0;34m\u001b[0m\u001b[0;34m\u001b[0m\u001b[0m\n\u001b[0;32m--> 560\u001b[0;31m               ctx=ctx)\n\u001b[0m\u001b[1;32m    561\u001b[0m         \u001b[0;32melse\u001b[0m\u001b[0;34m:\u001b[0m\u001b[0;34m\u001b[0m\u001b[0;34m\u001b[0m\u001b[0m\n\u001b[1;32m    562\u001b[0m           outputs = execute.execute_with_cancellation(\n",
            "\u001b[0;32m/usr/local/lib/python3.6/dist-packages/tensorflow/python/eager/execute.py\u001b[0m in \u001b[0;36mquick_execute\u001b[0;34m(op_name, num_outputs, inputs, attrs, ctx, name)\u001b[0m\n\u001b[1;32m     58\u001b[0m     \u001b[0mctx\u001b[0m\u001b[0;34m.\u001b[0m\u001b[0mensure_initialized\u001b[0m\u001b[0;34m(\u001b[0m\u001b[0;34m)\u001b[0m\u001b[0;34m\u001b[0m\u001b[0;34m\u001b[0m\u001b[0m\n\u001b[1;32m     59\u001b[0m     tensors = pywrap_tfe.TFE_Py_Execute(ctx._handle, device_name, op_name,\n\u001b[0;32m---> 60\u001b[0;31m                                         inputs, attrs, num_outputs)\n\u001b[0m\u001b[1;32m     61\u001b[0m   \u001b[0;32mexcept\u001b[0m \u001b[0mcore\u001b[0m\u001b[0;34m.\u001b[0m\u001b[0m_NotOkStatusException\u001b[0m \u001b[0;32mas\u001b[0m \u001b[0me\u001b[0m\u001b[0;34m:\u001b[0m\u001b[0;34m\u001b[0m\u001b[0;34m\u001b[0m\u001b[0m\n\u001b[1;32m     62\u001b[0m     \u001b[0;32mif\u001b[0m \u001b[0mname\u001b[0m \u001b[0;32mis\u001b[0m \u001b[0;32mnot\u001b[0m \u001b[0;32mNone\u001b[0m\u001b[0;34m:\u001b[0m\u001b[0;34m\u001b[0m\u001b[0;34m\u001b[0m\u001b[0m\n",
            "\u001b[0;31mKeyboardInterrupt\u001b[0m: "
          ]
        }
      ]
    },
    {
      "cell_type": "markdown",
      "metadata": {
        "id": "0uHhyAV_VXCw"
      },
      "source": [
        "BOW con pulizia:\r\n",
        "loss: 0.4549 - mse: 877.1694 - mae: 10.7754 - root_mean_squared_error: 29.6144 - mean_squared_logarithmic_error: 0.2073 - root_mean_squared_logarithmic_error: 0.4549 - val_loss: 0.4572 - val_mse: 823.4496 - val_mae: 10.7306 - val_root_mean_squared_error: 28.6958 - val_mean_squared_logarithmic_error: 0.2095 - val_root_mean_squared_logarithmic_error: 0.4573"
      ]
    },
    {
      "cell_type": "markdown",
      "metadata": {
        "id": "jbJJkuirlZz1"
      },
      "source": [
        "BOW senza pulizia words:\r\n",
        "loss: 0.4537 - mse: 892.7444 - mae: 10.7434 - root_mean_squared_error: 29.8743 - mean_squared_logarithmic_error: 0.2063 - root_mean_squared_logarithmic_error: 0.4537 - val_loss: 0.4554 - val_mse: 848.4371 - val_mae: 10.7117 - val_root_mean_squared_error: 29.1279 - val_mean_squared_logarithmic_error: 0.2079 - val_root_mean_squared_logarithmic_error: 0.4555"
      ]
    },
    {
      "cell_type": "code",
      "metadata": {
        "id": "Zf88pKGe_6FI"
      },
      "source": [
        "import matplotlib.pyplot as plt\r\n",
        "plt.style.use('ggplot')\r\n",
        "\r\n",
        "def plot_history(history):\r\n",
        "    rmsle = history.history['root_mean_squared_logarithmic_error']\r\n",
        "    val_rmsle = history.history['val_root_mean_squared_logarithmic_error']\r\n",
        "    loss = history.history['loss']\r\n",
        "    val_loss = history.history['val_loss']\r\n",
        "    x = range(1, len(rmsle) + 1)\r\n",
        "\r\n",
        "    plt.figure(figsize=(12, 5))\r\n",
        "    plt.subplot(1, 2, 1)\r\n",
        "    plt.plot(x, rmsle, 'b', label='Training rmsle')\r\n",
        "    plt.plot(x, val_rmsle, 'r', label='Validation rmsle')\r\n",
        "    plt.title('Training and validation root_mean_squared_logarithmic_error')\r\n",
        "    plt.legend()\r\n",
        "    plt.subplot(1, 2, 2)\r\n",
        "    plt.plot(x, loss, 'b', label='Training loss')\r\n",
        "    plt.plot(x, val_loss, 'r', label='Validation loss')\r\n",
        "    plt.title('Training and validation loss')\r\n",
        "    plt.legend()"
      ],
      "execution_count": null,
      "outputs": []
    },
    {
      "cell_type": "code",
      "metadata": {
        "id": "vgzFRzm-__Se"
      },
      "source": [
        "plot_history(history)"
      ],
      "execution_count": null,
      "outputs": []
    },
    {
      "cell_type": "markdown",
      "metadata": {
        "id": "1uusyBK_m75L"
      },
      "source": [
        "### TF-IDF"
      ]
    },
    {
      "cell_type": "code",
      "metadata": {
        "id": "u1DFlMbsm95Z"
      },
      "source": [
        "from sklearn.feature_extraction.text import TfidfVectorizer"
      ],
      "execution_count": 19,
      "outputs": []
    },
    {
      "cell_type": "code",
      "metadata": {
        "id": "M0qBBoukwa_K"
      },
      "source": [
        "data[\"item_description\"] = data[\"item_description_clean\"]\n",
        "data[\"name\"] = data[\"name_clean\"]"
      ],
      "execution_count": 46,
      "outputs": []
    },
    {
      "cell_type": "code",
      "metadata": {
        "colab": {
          "base_uri": "https://localhost:8080/"
        },
        "id": "CHvnuhG_nF-o",
        "outputId": "6806f630-ada3-4800-aa07-0d475a72c1ee"
      },
      "source": [
        "tfidf_vectorizer_desc = TfidfVectorizer()\r\n",
        "tfidf_vectorizer_desc.fit(data[\"item_description\"].values)"
      ],
      "execution_count": 47,
      "outputs": [
        {
          "output_type": "execute_result",
          "data": {
            "text/plain": [
              "TfidfVectorizer(analyzer='word', binary=False, decode_error='strict',\n",
              "                dtype=<class 'numpy.float64'>, encoding='utf-8',\n",
              "                input='content', lowercase=True, max_df=1.0, max_features=None,\n",
              "                min_df=1, ngram_range=(1, 1), norm='l2', preprocessor=None,\n",
              "                smooth_idf=True, stop_words=None, strip_accents=None,\n",
              "                sublinear_tf=False, token_pattern='(?u)\\\\b\\\\w\\\\w+\\\\b',\n",
              "                tokenizer=None, use_idf=True, vocabulary=None)"
            ]
          },
          "metadata": {
            "tags": []
          },
          "execution_count": 47
        }
      ]
    },
    {
      "cell_type": "code",
      "metadata": {
        "colab": {
          "base_uri": "https://localhost:8080/"
        },
        "id": "YNsnLmuEnOCA",
        "outputId": "128219ac-332f-459e-8ea6-c63446900ac2"
      },
      "source": [
        "len(tfidf_vectorizer_desc.vocabulary_)"
      ],
      "execution_count": 48,
      "outputs": [
        {
          "output_type": "execute_result",
          "data": {
            "text/plain": [
              "150074"
            ]
          },
          "metadata": {
            "tags": []
          },
          "execution_count": 48
        }
      ]
    },
    {
      "cell_type": "code",
      "metadata": {
        "id": "1FEV_JeYnOq7"
      },
      "source": [
        "tfidf_description_train = tfidf_vectorizer_desc.transform(train_cvec[\"item_description\"].values)\r\n",
        "tfidf_description_validation = tfidf_vectorizer_desc.transform(validation_cvec[\"item_description\"].values)"
      ],
      "execution_count": 49,
      "outputs": []
    },
    {
      "cell_type": "code",
      "metadata": {
        "colab": {
          "base_uri": "https://localhost:8080/"
        },
        "id": "a-3628USnioQ",
        "outputId": "65012cd0-10c5-4b03-f66d-62382af47027"
      },
      "source": [
        "tfidf_vectorizer_name = TfidfVectorizer()\r\n",
        "tfidf_vectorizer_name.fit(data[\"name\"])"
      ],
      "execution_count": 50,
      "outputs": [
        {
          "output_type": "execute_result",
          "data": {
            "text/plain": [
              "TfidfVectorizer(analyzer='word', binary=False, decode_error='strict',\n",
              "                dtype=<class 'numpy.float64'>, encoding='utf-8',\n",
              "                input='content', lowercase=True, max_df=1.0, max_features=None,\n",
              "                min_df=1, ngram_range=(1, 1), norm='l2', preprocessor=None,\n",
              "                smooth_idf=True, stop_words=None, strip_accents=None,\n",
              "                sublinear_tf=False, token_pattern='(?u)\\\\b\\\\w\\\\w+\\\\b',\n",
              "                tokenizer=None, use_idf=True, vocabulary=None)"
            ]
          },
          "metadata": {
            "tags": []
          },
          "execution_count": 50
        }
      ]
    },
    {
      "cell_type": "code",
      "metadata": {
        "colab": {
          "base_uri": "https://localhost:8080/"
        },
        "id": "G-qOh3FXnzSb",
        "outputId": "643ee07b-2a19-48cf-c4c7-c84e353505e1"
      },
      "source": [
        "len(tfidf_vectorizer_name.vocabulary_)"
      ],
      "execution_count": 51,
      "outputs": [
        {
          "output_type": "execute_result",
          "data": {
            "text/plain": [
              "96904"
            ]
          },
          "metadata": {
            "tags": []
          },
          "execution_count": 51
        }
      ]
    },
    {
      "cell_type": "code",
      "metadata": {
        "id": "yOnnouCxn_he"
      },
      "source": [
        "tfidf_name_train = tfidf_vectorizer_name.transform(train_cvec[\"name\"])\r\n",
        "tfidf_name_validation = tfidf_vectorizer_name.transform(validation_cvec[\"name\"])"
      ],
      "execution_count": 52,
      "outputs": []
    },
    {
      "cell_type": "code",
      "metadata": {
        "colab": {
          "base_uri": "https://localhost:8080/"
        },
        "id": "gjT2x0RXuvnS",
        "outputId": "3403be23-c04d-4593-a08d-f784d5d35822"
      },
      "source": [
        "tfidf_name_train"
      ],
      "execution_count": 53,
      "outputs": [
        {
          "output_type": "execute_result",
          "data": {
            "text/plain": [
              "<1157452x96904 sparse matrix of type '<class 'numpy.float64'>'\n",
              "\twith 4777783 stored elements in Compressed Sparse Row format>"
            ]
          },
          "metadata": {
            "tags": []
          },
          "execution_count": 53
        }
      ]
    },
    {
      "cell_type": "code",
      "metadata": {
        "id": "A4JQ0LXDqZSK"
      },
      "source": [
        "import sys\n",
        "import numpy\n",
        "numpy.set_printoptions(threshold=sys.maxsize)"
      ],
      "execution_count": 54,
      "outputs": []
    },
    {
      "cell_type": "code",
      "metadata": {
        "id": "GCSrpsML5e47"
      },
      "source": [
        "def convert_sparse_matrix_to_sparse_tensor(X):\r\n",
        "    coo = X.tocoo()\r\n",
        "    indices = np.mat([coo.row, coo.col]).transpose()\r\n",
        "    return tf.SparseTensor(indices, coo.data, coo.shape)"
      ],
      "execution_count": 55,
      "outputs": []
    },
    {
      "cell_type": "code",
      "metadata": {
        "colab": {
          "base_uri": "https://localhost:8080/"
        },
        "id": "zO23VoG_Umkx",
        "outputId": "96751934-12c8-46ee-fd07-940afd875277"
      },
      "source": [
        "type(tfidf_name_train) "
      ],
      "execution_count": 56,
      "outputs": [
        {
          "output_type": "execute_result",
          "data": {
            "text/plain": [
              "scipy.sparse.csr.csr_matrix"
            ]
          },
          "metadata": {
            "tags": []
          },
          "execution_count": 56
        }
      ]
    },
    {
      "cell_type": "code",
      "metadata": {
        "id": "kyGnExtwqcgx"
      },
      "source": [
        "#https://stackoverflow.com/questions/61961042/indices201-0-8-is-out-of-order-many-sparse-ops-require-sorted-indices-use"
      ],
      "execution_count": 57,
      "outputs": []
    },
    {
      "cell_type": "code",
      "metadata": {
        "id": "FHw1A89wXWw0"
      },
      "source": [
        "import scipy\r\n",
        "new_categorical_train_cvec=scipy.sparse.csr_matrix(categorical_train_cvec.values)\r\n",
        "new_categorical_validation_cvec=scipy.sparse.csr_matrix(categorical_validation_cvec.values)"
      ],
      "execution_count": 58,
      "outputs": []
    },
    {
      "cell_type": "code",
      "metadata": {
        "id": "NeLdc-Esipcg"
      },
      "source": [
        "new_tfidf_categorical_validation=tf.sparse.reorder(convert_sparse_matrix_to_sparse_tensor(new_categorical_validation_cvec))\r\n",
        "new_tfidf_categorical_train=tf.sparse.reorder(convert_sparse_matrix_to_sparse_tensor(new_categorical_train_cvec))"
      ],
      "execution_count": 59,
      "outputs": []
    },
    {
      "cell_type": "code",
      "metadata": {
        "id": "gsRkzDbNhVPN"
      },
      "source": [
        "new_tfidf_name_validation=tf.sparse.reorder(convert_sparse_matrix_to_sparse_tensor(tfidf_name_validation))\r\n",
        "new_tfidf_name_train=tf.sparse.reorder(convert_sparse_matrix_to_sparse_tensor(tfidf_name_train))"
      ],
      "execution_count": 60,
      "outputs": []
    },
    {
      "cell_type": "code",
      "metadata": {
        "colab": {
          "base_uri": "https://localhost:8080/"
        },
        "id": "1tXBiPsZiE19",
        "outputId": "9b474473-4d21-412b-cb4e-8e12d3590e7c"
      },
      "source": [
        "type(new_tfidf_name_validation)"
      ],
      "execution_count": 61,
      "outputs": [
        {
          "output_type": "execute_result",
          "data": {
            "text/plain": [
              "tensorflow.python.framework.sparse_tensor.SparseTensor"
            ]
          },
          "metadata": {
            "tags": []
          },
          "execution_count": 61
        }
      ]
    },
    {
      "cell_type": "code",
      "metadata": {
        "colab": {
          "base_uri": "https://localhost:8080/"
        },
        "id": "C4XHrIyGiHS_",
        "outputId": "d2c01292-0ab3-4195-c168-7c553fccf980"
      },
      "source": [
        "type(tfidf_name_validation)"
      ],
      "execution_count": 62,
      "outputs": [
        {
          "output_type": "execute_result",
          "data": {
            "text/plain": [
              "scipy.sparse.csr.csr_matrix"
            ]
          },
          "metadata": {
            "tags": []
          },
          "execution_count": 62
        }
      ]
    },
    {
      "cell_type": "code",
      "metadata": {
        "id": "WqX5vyv5jMjJ"
      },
      "source": [
        "new_tfidf_description_validation=tf.sparse.reorder(convert_sparse_matrix_to_sparse_tensor(tfidf_description_validation))\r\n",
        "new_tfidf_description_train=tf.sparse.reorder(convert_sparse_matrix_to_sparse_tensor(tfidf_description_train))"
      ],
      "execution_count": 63,
      "outputs": []
    },
    {
      "cell_type": "code",
      "metadata": {
        "id": "4rBPl6RDX7qM"
      },
      "source": [
        "new_y_train_cvec=scipy.sparse.csr_matrix(y_train_cvec)\r\n",
        "new_y_validation_cvec=scipy.sparse.csr_matrix(y_validation_cvec)"
      ],
      "execution_count": 64,
      "outputs": []
    },
    {
      "cell_type": "code",
      "metadata": {
        "id": "OOJzQCvZi1MH"
      },
      "source": [
        "new_tfidf_y_validation=tf.sparse.reorder(convert_sparse_matrix_to_sparse_tensor(new_y_validation_cvec))\r\n",
        "new_tfidf_y_train=tf.sparse.reorder(convert_sparse_matrix_to_sparse_tensor(new_y_train_cvec))"
      ],
      "execution_count": 65,
      "outputs": []
    },
    {
      "cell_type": "code",
      "metadata": {
        "colab": {
          "base_uri": "https://localhost:8080/"
        },
        "id": "kBQK0C3bWkQs",
        "outputId": "531abbb5-c6b3-4726-b4bc-11dba4c6bd22"
      },
      "source": [
        "type(tf.sparse.reorder(convert_sparse_matrix_to_sparse_tensor(new_y_train_cvec)))"
      ],
      "execution_count": 66,
      "outputs": [
        {
          "output_type": "execute_result",
          "data": {
            "text/plain": [
              "tensorflow.python.framework.sparse_tensor.SparseTensor"
            ]
          },
          "metadata": {
            "tags": []
          },
          "execution_count": 66
        }
      ]
    },
    {
      "cell_type": "code",
      "metadata": {
        "id": "oKQCzVxn9GT1"
      },
      "source": [
        "def getModel_bow(name_train, description_train, categorical_train):\r\n",
        "    inputA = Input(categorical_train.shape[1])\r\n",
        "    inputName = Input(name_train.shape[1])\r\n",
        "    inputDesc = Input(description_train.shape[1])\r\n",
        "    concat = Concatenate()([inputName, inputDesc])#, inputA])\r\n",
        "\r\n",
        "    #x = Dropout(0.1)(concat)\r\n",
        "    x = Dense(32, activation='relu')(concat)\r\n",
        "    x = Dropout(0.1)(x)\r\n",
        "    x = Dense(16, activation='relu')(x)\r\n",
        "    x = Dropout(0.1)(x)\r\n",
        "    x = Dense(1, activation='linear')(x)\r\n",
        "    \r\n",
        "    model = Model(inputs=[inputName ,inputDesc], outputs=x)\r\n",
        "\r\n",
        "    return model"
      ],
      "execution_count": 67,
      "outputs": []
    },
    {
      "cell_type": "code",
      "metadata": {
        "colab": {
          "base_uri": "https://localhost:8080/"
        },
        "id": "9XK-E2e0oKeC",
        "outputId": "4b8c4b4e-9a2b-42f3-879b-574050d3a0b5"
      },
      "source": [
        "model = getModel_bow(new_tfidf_name_train, new_tfidf_description_train, new_tfidf_categorical_train)\r\n",
        "model.summary() "
      ],
      "execution_count": 68,
      "outputs": [
        {
          "output_type": "stream",
          "text": [
            "Model: \"model_1\"\n",
            "__________________________________________________________________________________________________\n",
            "Layer (type)                    Output Shape         Param #     Connected to                     \n",
            "==================================================================================================\n",
            "input_5 (InputLayer)            [(None, 96904)]      0                                            \n",
            "__________________________________________________________________________________________________\n",
            "input_6 (InputLayer)            [(None, 150074)]     0                                            \n",
            "__________________________________________________________________________________________________\n",
            "concatenate_1 (Concatenate)     (None, 246978)       0           input_5[0][0]                    \n",
            "                                                                 input_6[0][0]                    \n",
            "__________________________________________________________________________________________________\n",
            "dense_3 (Dense)                 (None, 32)           7903328     concatenate_1[0][0]              \n",
            "__________________________________________________________________________________________________\n",
            "dropout_2 (Dropout)             (None, 32)           0           dense_3[0][0]                    \n",
            "__________________________________________________________________________________________________\n",
            "dense_4 (Dense)                 (None, 16)           528         dropout_2[0][0]                  \n",
            "__________________________________________________________________________________________________\n",
            "dropout_3 (Dropout)             (None, 16)           0           dense_4[0][0]                    \n",
            "__________________________________________________________________________________________________\n",
            "dense_5 (Dense)                 (None, 1)            17          dropout_3[0][0]                  \n",
            "==================================================================================================\n",
            "Total params: 7,903,873\n",
            "Trainable params: 7,903,873\n",
            "Non-trainable params: 0\n",
            "__________________________________________________________________________________________________\n"
          ],
          "name": "stdout"
        }
      ]
    },
    {
      "cell_type": "code",
      "metadata": {
        "colab": {
          "base_uri": "https://localhost:8080/",
          "height": 661
        },
        "id": "ZqJ7pgfosi4q",
        "outputId": "258b4e01-390b-4cac-a3c7-074e4fd1fceb"
      },
      "source": [
        "plot_model(model)"
      ],
      "execution_count": 69,
      "outputs": [
        {
          "output_type": "execute_result",
          "data": {
            "image/png": "[encoded data removed]",
            "text/plain": [
              "<IPython.core.display.Image object>"
            ]
          },
          "metadata": {
            "tags": []
          },
          "execution_count": 69
        }
      ]
    },
    {
      "cell_type": "code",
      "metadata": {
        "id": "-4Fv4q35ocWN"
      },
      "source": [
        "model.compile(loss = root_mean_squared_logarithmic_error, optimizer='adam', metrics=['mse', 'mae', tf.keras.metrics.RootMeanSquaredError(), 'mean_squared_logarithmic_error', root_mean_squared_logarithmic_error])"
      ],
      "execution_count": 70,
      "outputs": []
    },
    {
      "cell_type": "code",
      "metadata": {
        "colab": {
          "base_uri": "https://localhost:8080/",
          "height": 801
        },
        "id": "5SjA3LNnwPNi",
        "outputId": "f4da23e8-d479-447b-995d-a5377c9871ac"
      },
      "source": [
        "data"
      ],
      "execution_count": 71,
      "outputs": [
        {
          "output_type": "execute_result",
          "data": {
            "text/html": [
              "<div>\n",
              "<style scoped>\n",
              "    .dataframe tbody tr th:only-of-type {\n",
              "        vertical-align: middle;\n",
              "    }\n",
              "\n",
              "    .dataframe tbody tr th {\n",
              "        vertical-align: top;\n",
              "    }\n",
              "\n",
              "    .dataframe thead th {\n",
              "        text-align: right;\n",
              "    }\n",
              "</style>\n",
              "<table border=\"1\" class=\"dataframe\">\n",
              "  <thead>\n",
              "    <tr style=\"text-align: right;\">\n",
              "      <th></th>\n",
              "      <th>name</th>\n",
              "      <th>item_condition_id</th>\n",
              "      <th>category_name</th>\n",
              "      <th>brand_name</th>\n",
              "      <th>price</th>\n",
              "      <th>shipping</th>\n",
              "      <th>item_description</th>\n",
              "      <th>category_name_l</th>\n",
              "      <th>brand_name_l</th>\n",
              "      <th>item_description_clean</th>\n",
              "      <th>name_clean</th>\n",
              "    </tr>\n",
              "  </thead>\n",
              "  <tbody>\n",
              "    <tr>\n",
              "      <th>0</th>\n",
              "      <td>mlb cincinnati red shirt size xl</td>\n",
              "      <td>3</td>\n",
              "      <td>Men/Tops/T-shirts</td>\n",
              "      <td>NA</td>\n",
              "      <td>10.0</td>\n",
              "      <td>1</td>\n",
              "      <td>no description yet</td>\n",
              "      <td>19</td>\n",
              "      <td>1</td>\n",
              "      <td>no description yet</td>\n",
              "      <td>mlb cincinnati red shirt size xl</td>\n",
              "    </tr>\n",
              "    <tr>\n",
              "      <th>1</th>\n",
              "      <td>razer blackwidow chroma keyboard</td>\n",
              "      <td>3</td>\n",
              "      <td>Electronics/Computers &amp; Tablets/Components &amp; P...</td>\n",
              "      <td>Razer</td>\n",
              "      <td>52.0</td>\n",
              "      <td>0</td>\n",
              "      <td>keyboard great condition work like came box po...</td>\n",
              "      <td>246</td>\n",
              "      <td>1073</td>\n",
              "      <td>keyboard great condition work like came box po...</td>\n",
              "      <td>razer blackwidow chroma keyboard</td>\n",
              "    </tr>\n",
              "    <tr>\n",
              "      <th>2</th>\n",
              "      <td>ava-viv blouse</td>\n",
              "      <td>1</td>\n",
              "      <td>Women/Tops &amp; Blouses/Blouse</td>\n",
              "      <td>Target</td>\n",
              "      <td>10.0</td>\n",
              "      <td>1</td>\n",
              "      <td>adorable top hint lace key hole back pale pink...</td>\n",
              "      <td>10</td>\n",
              "      <td>175</td>\n",
              "      <td>adorable top hint lace key hole back pale pink...</td>\n",
              "      <td>ava-viv blouse</td>\n",
              "    </tr>\n",
              "    <tr>\n",
              "      <th>3</th>\n",
              "      <td>leather horse statue</td>\n",
              "      <td>1</td>\n",
              "      <td>Home/Home Décor/Home Décor Accents</td>\n",
              "      <td>NA</td>\n",
              "      <td>35.0</td>\n",
              "      <td>1</td>\n",
              "      <td>new tag leather horse retail rm stand foot hig...</td>\n",
              "      <td>28</td>\n",
              "      <td>1</td>\n",
              "      <td>new tag leather horse retail rm stand foot hig...</td>\n",
              "      <td>leather horse statue</td>\n",
              "    </tr>\n",
              "    <tr>\n",
              "      <th>4</th>\n",
              "      <td>24k gold plated rose</td>\n",
              "      <td>1</td>\n",
              "      <td>Women/Jewelry/Necklaces</td>\n",
              "      <td>NA</td>\n",
              "      <td>44.0</td>\n",
              "      <td>0</td>\n",
              "      <td>complete certificate authenticity</td>\n",
              "      <td>16</td>\n",
              "      <td>1</td>\n",
              "      <td>complete certificate authenticity</td>\n",
              "      <td>24k gold plated rose</td>\n",
              "    </tr>\n",
              "    <tr>\n",
              "      <th>...</th>\n",
              "      <td>...</td>\n",
              "      <td>...</td>\n",
              "      <td>...</td>\n",
              "      <td>...</td>\n",
              "      <td>...</td>\n",
              "      <td>...</td>\n",
              "      <td>...</td>\n",
              "      <td>...</td>\n",
              "      <td>...</td>\n",
              "      <td>...</td>\n",
              "      <td>...</td>\n",
              "    </tr>\n",
              "    <tr>\n",
              "      <th>1482530</th>\n",
              "      <td>free people inspired dress</td>\n",
              "      <td>2</td>\n",
              "      <td>Women/Dresses/Mid-Calf</td>\n",
              "      <td>Free People</td>\n",
              "      <td>20.0</td>\n",
              "      <td>1</td>\n",
              "      <td>lace say size small fit medium perfectly never...</td>\n",
              "      <td>245</td>\n",
              "      <td>96</td>\n",
              "      <td>lace say size small fit medium perfectly never...</td>\n",
              "      <td>free people inspired dress</td>\n",
              "    </tr>\n",
              "    <tr>\n",
              "      <th>1482531</th>\n",
              "      <td>little mermaid handmade dress</td>\n",
              "      <td>2</td>\n",
              "      <td>Kids/Girls 2T-5T/Dresses</td>\n",
              "      <td>Disney</td>\n",
              "      <td>14.0</td>\n",
              "      <td>0</td>\n",
              "      <td>little mermaid handmade dress never worn size 2t</td>\n",
              "      <td>124</td>\n",
              "      <td>23</td>\n",
              "      <td>little mermaid handmade dress never worn size 2t</td>\n",
              "      <td>little mermaid handmade dress</td>\n",
              "    </tr>\n",
              "    <tr>\n",
              "      <th>1482532</th>\n",
              "      <td>21 day fix container eating plan</td>\n",
              "      <td>2</td>\n",
              "      <td>Sports &amp; Outdoors/Exercise/Fitness accessories</td>\n",
              "      <td>NA</td>\n",
              "      <td>12.0</td>\n",
              "      <td>0</td>\n",
              "      <td>used twice still great shape</td>\n",
              "      <td>85</td>\n",
              "      <td>1</td>\n",
              "      <td>used twice still great shape</td>\n",
              "      <td>21 day fix container eating plan</td>\n",
              "    </tr>\n",
              "    <tr>\n",
              "      <th>1482533</th>\n",
              "      <td>world market lantern</td>\n",
              "      <td>3</td>\n",
              "      <td>Home/Home Décor/Home Décor Accents</td>\n",
              "      <td>NA</td>\n",
              "      <td>45.0</td>\n",
              "      <td>1</td>\n",
              "      <td>2 one see 2 red 2 orange 2 big red orange one ...</td>\n",
              "      <td>28</td>\n",
              "      <td>1</td>\n",
              "      <td>2 one see 2 red 2 orange 2 big red orange one ...</td>\n",
              "      <td>world market lantern</td>\n",
              "    </tr>\n",
              "    <tr>\n",
              "      <th>1482534</th>\n",
              "      <td>brand new lux de ville wallet</td>\n",
              "      <td>1</td>\n",
              "      <td>Women/Women's Accessories/Wallets</td>\n",
              "      <td>NA</td>\n",
              "      <td>22.0</td>\n",
              "      <td>0</td>\n",
              "      <td>new tag red sparkle firm price no free shipping</td>\n",
              "      <td>26</td>\n",
              "      <td>1</td>\n",
              "      <td>new tag red sparkle firm price no free shipping</td>\n",
              "      <td>brand new lux de ville wallet</td>\n",
              "    </tr>\n",
              "  </tbody>\n",
              "</table>\n",
              "<p>1446815 rows × 11 columns</p>\n",
              "</div>"
            ],
            "text/plain": [
              "                                     name  ...                        name_clean\n",
              "0        mlb cincinnati red shirt size xl  ...  mlb cincinnati red shirt size xl\n",
              "1        razer blackwidow chroma keyboard  ...  razer blackwidow chroma keyboard\n",
              "2                          ava-viv blouse  ...                    ava-viv blouse\n",
              "3                    leather horse statue  ...              leather horse statue\n",
              "4                    24k gold plated rose  ...              24k gold plated rose\n",
              "...                                   ...  ...                               ...\n",
              "1482530        free people inspired dress  ...        free people inspired dress\n",
              "1482531     little mermaid handmade dress  ...     little mermaid handmade dress\n",
              "1482532  21 day fix container eating plan  ...  21 day fix container eating plan\n",
              "1482533              world market lantern  ...              world market lantern\n",
              "1482534     brand new lux de ville wallet  ...     brand new lux de ville wallet\n",
              "\n",
              "[1446815 rows x 11 columns]"
            ]
          },
          "metadata": {
            "tags": []
          },
          "execution_count": 71
        }
      ]
    },
    {
      "cell_type": "code",
      "metadata": {
        "id": "a80wIgkOoelZ",
        "colab": {
          "base_uri": "https://localhost:8080/"
        },
        "outputId": "ae6f47ed-066c-4de0-cd19-b8d688a85e92"
      },
      "source": [
        "history = model.fit(x=[new_tfidf_name_train, new_tfidf_description_train], y=y_train_cvec,\r\n",
        "                    epochs=5,\r\n",
        "                    verbose=True,\r\n",
        "                    validation_data=([new_tfidf_name_validation, new_tfidf_description_validation], y_validation_cvec),\r\n",
        "                    batch_size=512)"
      ],
      "execution_count": 72,
      "outputs": [
        {
          "output_type": "stream",
          "text": [
            "Epoch 1/5\n",
            "2261/2261 [==============================] - 33s 14ms/step - loss: 0.8997 - mse: 1581.8329 - mae: 16.4082 - root_mean_squared_error: 39.6708 - mean_squared_logarithmic_error: 1.1829 - root_mean_squared_logarithmic_error: 0.8997 - val_loss: 0.5067 - val_mse: 1097.8687 - val_mae: 12.1188 - val_root_mean_squared_error: 33.1341 - val_mean_squared_logarithmic_error: 0.2572 - val_root_mean_squared_logarithmic_error: 0.5068\n",
            "Epoch 2/5\n",
            "2261/2261 [==============================] - 33s 14ms/step - loss: 0.5017 - mse: 1173.8495 - mae: 11.9998 - root_mean_squared_error: 34.2467 - mean_squared_logarithmic_error: 0.2522 - root_mean_squared_logarithmic_error: 0.5017 - val_loss: 0.4794 - val_mse: 963.8772 - val_mae: 11.3596 - val_root_mean_squared_error: 31.0464 - val_mean_squared_logarithmic_error: 0.2303 - val_root_mean_squared_logarithmic_error: 0.4795\n",
            "Epoch 3/5\n",
            "2261/2261 [==============================] - 33s 14ms/step - loss: 0.4654 - mse: 987.2503 - mae: 11.0919 - root_mean_squared_error: 31.4135 - mean_squared_logarithmic_error: 0.2170 - root_mean_squared_logarithmic_error: 0.4654 - val_loss: 0.4705 - val_mse: 884.4868 - val_mae: 11.0478 - val_root_mean_squared_error: 29.7403 - val_mean_squared_logarithmic_error: 0.2218 - val_root_mean_squared_logarithmic_error: 0.4706\n",
            "Epoch 4/5\n",
            "2261/2261 [==============================] - 32s 14ms/step - loss: 0.4418 - mse: 878.3337 - mae: 10.5095 - root_mean_squared_error: 29.6218 - mean_squared_logarithmic_error: 0.1956 - root_mean_squared_logarithmic_error: 0.4418 - val_loss: 0.4663 - val_mse: 845.9825 - val_mae: 10.8710 - val_root_mean_squared_error: 29.0858 - val_mean_squared_logarithmic_error: 0.2179 - val_root_mean_squared_logarithmic_error: 0.4664\n",
            "Epoch 5/5\n",
            "2261/2261 [==============================] - 32s 13ms/step - loss: 0.4253 - mse: 847.8185 - mae: 10.1252 - root_mean_squared_error: 29.1131 - mean_squared_logarithmic_error: 0.1813 - root_mean_squared_logarithmic_error: 0.4253 - val_loss: 0.4644 - val_mse: 811.4833 - val_mae: 10.7743 - val_root_mean_squared_error: 28.4865 - val_mean_squared_logarithmic_error: 0.2161 - val_root_mean_squared_logarithmic_error: 0.4645\n"
          ],
          "name": "stdout"
        }
      ]
    },
    {
      "cell_type": "code",
      "metadata": {
        "colab": {
          "base_uri": "https://localhost:8080/"
        },
        "id": "-RBlRb_gujSz",
        "outputId": "501515fe-7e9b-4539-a961-1794ec20789e"
      },
      "source": [
        "history2 = model.fit(x=[new_tfidf_name_train, new_tfidf_description_train], y=y_train_cvec,\n",
        "                    epochs=5,\n",
        "                    verbose=True,\n",
        "                    validation_data=([new_tfidf_name_validation, new_tfidf_description_validation], y_validation_cvec),\n",
        "                    batch_size=512)"
      ],
      "execution_count": 82,
      "outputs": [
        {
          "output_type": "stream",
          "text": [
            "Epoch 1/5\n",
            "2261/2261 [==============================] - 35s 15ms/step - loss: 0.3684 - mse: 655.2321 - mae: 8.7298 - root_mean_squared_error: 25.5975 - mean_squared_logarithmic_error: 0.1360 - root_mean_squared_logarithmic_error: 0.3684 - val_loss: 0.4688 - val_mse: 740.2447 - val_mae: 10.7062 - val_root_mean_squared_error: 27.2074 - val_mean_squared_logarithmic_error: 0.2202 - val_root_mean_squared_logarithmic_error: 0.4689\n",
            "Epoch 2/5\n",
            "2261/2261 [==============================] - 34s 14ms/step - loss: 0.3623 - mse: 635.2028 - mae: 8.5716 - root_mean_squared_error: 25.2032 - mean_squared_logarithmic_error: 0.1316 - root_mean_squared_logarithmic_error: 0.3623 - val_loss: 0.4699 - val_mse: 743.9951 - val_mae: 10.6838 - val_root_mean_squared_error: 27.2763 - val_mean_squared_logarithmic_error: 0.2213 - val_root_mean_squared_logarithmic_error: 0.4701\n",
            "Epoch 3/5\n",
            "2261/2261 [==============================] - 33s 14ms/step - loss: 0.3569 - mse: 618.5656 - mae: 8.4365 - root_mean_squared_error: 24.8710 - mean_squared_logarithmic_error: 0.1277 - root_mean_squared_logarithmic_error: 0.3569 - val_loss: 0.4715 - val_mse: 742.1774 - val_mae: 10.7119 - val_root_mean_squared_error: 27.2429 - val_mean_squared_logarithmic_error: 0.2228 - val_root_mean_squared_logarithmic_error: 0.4717\n",
            "Epoch 4/5\n",
            "2261/2261 [==============================] - 32s 13ms/step - loss: 0.3519 - mse: 603.0390 - mae: 8.3035 - root_mean_squared_error: 24.5569 - mean_squared_logarithmic_error: 0.1241 - root_mean_squared_logarithmic_error: 0.3519 - val_loss: 0.4719 - val_mse: 737.1746 - val_mae: 10.7258 - val_root_mean_squared_error: 27.1510 - val_mean_squared_logarithmic_error: 0.2232 - val_root_mean_squared_logarithmic_error: 0.4721\n",
            "Epoch 5/5\n",
            "2261/2261 [==============================] - 33s 14ms/step - loss: 0.3475 - mse: 587.8696 - mae: 8.1882 - root_mean_squared_error: 24.2460 - mean_squared_logarithmic_error: 0.1211 - root_mean_squared_logarithmic_error: 0.3475 - val_loss: 0.4733 - val_mse: 734.4962 - val_mae: 10.7435 - val_root_mean_squared_error: 27.1016 - val_mean_squared_logarithmic_error: 0.2244 - val_root_mean_squared_logarithmic_error: 0.4734\n"
          ],
          "name": "stdout"
        }
      ]
    },
    {
      "cell_type": "code",
      "metadata": {
        "id": "X3QDoGQvxpCl"
      },
      "source": [
        "histdf = pd.DataFrame(history2.history)"
      ],
      "execution_count": 80,
      "outputs": []
    },
    {
      "cell_type": "code",
      "metadata": {
        "colab": {
          "base_uri": "https://localhost:8080/",
          "height": 282
        },
        "id": "uH8wryVvxtaA",
        "outputId": "d2b9d9b2-5cb6-4f56-de21-f0c8a0d9a12b"
      },
      "source": [
        "histdf.plot(y=[\"loss\", \"val_loss\"])"
      ],
      "execution_count": 81,
      "outputs": [
        {
          "output_type": "execute_result",
          "data": {
            "text/plain": [
              "<matplotlib.axes._subplots.AxesSubplot at 0x7f5630416240>"
            ]
          },
          "metadata": {
            "tags": []
          },
          "execution_count": 81
        },
        {
          "output_type": "display_data",
          "data": {
            "image/png": "[encoded data removed]",
            "text/plain": [
              "<Figure size 432x288 with 1 Axes>"
            ]
          },
          "metadata": {
            "tags": [],
            "needs_background": "light"
          }
        }
      ]
    },
    {
      "cell_type": "markdown",
      "metadata": {
        "id": "PIrZwW2wq7r7"
      },
      "source": [
        "tf-idf gensim"
      ]
    },
    {
      "cell_type": "code",
      "metadata": {
        "id": "qPe1LMPVq9ln"
      },
      "source": [
        "import gensim\r\n",
        "from gensim.utils import simple_preprocess\r\n",
        "from gensim import corpora\r\n",
        "from gensim.models import TfidfModel"
      ],
      "execution_count": null,
      "outputs": []
    },
    {
      "cell_type": "code",
      "metadata": {
        "colab": {
          "base_uri": "https://localhost:8080/"
        },
        "id": "uA-0p3DMritP",
        "outputId": "4eda2628-5672-4319-b4e4-e8e31557d883"
      },
      "source": [
        "data[\"item_description\"]"
      ],
      "execution_count": null,
      "outputs": [
        {
          "output_type": "execute_result",
          "data": {
            "text/plain": [
              "0                                         no description yet\n",
              "1          this keyboard is in great condition and works ...\n",
              "2          adorable top with a hint of lace and a key hol...\n",
              "3          new with tags. leather horses. retail for [rm]...\n",
              "4                  complete with certificate of authenticity\n",
              "                                 ...                        \n",
              "1482530    lace, says size small but fits medium perfectl...\n",
              "1482531     little mermaid handmade dress never worn size 2t\n",
              "1482532            used once or twice, still in great shape.\n",
              "1482533    there is 2 of each one that you see! so 2 red ...\n",
              "1482534    new with tag, red with sparkle. firm price, no...\n",
              "Name: item_description, Length: 1446815, dtype: string"
            ]
          },
          "metadata": {
            "tags": []
          },
          "execution_count": 16
        }
      ]
    },
    {
      "cell_type": "code",
      "metadata": {
        "id": "2CO2a-oguycH"
      },
      "source": [
        "doc_tokenized = [simple_preprocess(doc) for doc in data[\"item_description\"].values]"
      ],
      "execution_count": null,
      "outputs": []
    },
    {
      "cell_type": "code",
      "metadata": {
        "colab": {
          "base_uri": "https://localhost:8080/"
        },
        "id": "pDjGjel3vHhk",
        "outputId": "1c2b446c-f5cb-49e1-bb55-3996f7d3b107"
      },
      "source": [
        "doc_tokenized[0]"
      ],
      "execution_count": null,
      "outputs": [
        {
          "output_type": "execute_result",
          "data": {
            "text/plain": [
              "['no', 'description', 'yet']"
            ]
          },
          "metadata": {
            "tags": []
          },
          "execution_count": 21
        }
      ]
    },
    {
      "cell_type": "code",
      "metadata": {
        "id": "x8L2nbDrvQly"
      },
      "source": [
        "dictionary = corpora.Dictionary()"
      ],
      "execution_count": null,
      "outputs": []
    },
    {
      "cell_type": "code",
      "metadata": {
        "id": "9gBzeihTvVom"
      },
      "source": [
        "BoW_corpus = [dictionary.doc2bow(doc, allow_update=True) for doc in doc_tokenized]"
      ],
      "execution_count": null,
      "outputs": []
    },
    {
      "cell_type": "code",
      "metadata": {
        "colab": {
          "base_uri": "https://localhost:8080/"
        },
        "id": "LafgQkjqv4dV",
        "outputId": "561fa6a9-2319-49f1-a9c7-a05fd8814002"
      },
      "source": [
        "# stampa le parole che compaiono in ogni descrizione con la loro frequenza di apparizione\r\n",
        "for doc in BoW_corpus[:10]:\r\n",
        "   print([[dictionary[id], freq] for id, freq in doc])"
      ],
      "execution_count": null,
      "outputs": [
        {
          "output_type": "stream",
          "text": [
            "[['description', 1], ['no', 1], ['yet', 1]]\n",
            "[['all', 1], ['and', 2], ['app', 1], ['are', 2], ['box', 1], ['came', 1], ['condition', 1], ['customizable', 1], ['great', 1], ['in', 1], ['is', 1], ['it', 1], ['keyboard', 1], ['lights', 1], ['like', 1], ['of', 2], ['on', 1], ['out', 1], ['pc', 1], ['perfectly', 1], ['ports', 1], ['razer', 1], ['synapse', 1], ['tested', 1], ['the', 4], ['this', 1], ['via', 1], ['work', 1], ['works', 1], ['your', 1]]\n",
            "[['and', 2], ['in', 2], ['is', 1], ['of', 1], ['the', 2], ['adorable', 1], ['also', 1], ['available', 1], ['back', 1], ['have', 1], ['hint', 1], ['hole', 1], ['key', 1], ['lace', 1], ['pale', 1], ['pink', 1], ['top', 1], ['white', 1], ['with', 1]]\n",
            "[['are', 1], ['of', 1], ['out', 1], ['with', 1], ['about', 1], ['any', 1], ['as', 1], ['ask', 1], ['being', 1], ['each', 1], ['foot', 1], ['for', 1], ['free', 1], ['got', 1], ['high', 1], ['horses', 1], ['just', 1], ['leather', 1], ['new', 1], ['pair', 1], ['please', 1], ['questions', 1], ['retail', 1], ['rm', 1], ['shipping', 1], ['sold', 1], ['stand', 1], ['storage', 1], ['tags', 1], ['they', 1]]\n",
            "[['of', 1], ['with', 1], ['authenticity', 1], ['certificate', 1], ['complete', 1]]\n",
            "[['and', 1], ['top', 1], ['with', 1], ['amy', 1], ['banana', 1], ['blazer', 1], ['bottoms', 2], ['byers', 1], ['cami', 1], ['candies', 1], ['loft', 1], ['matching', 1], ['republic', 1], ['skirt', 1], ['suit', 1]]\n",
            "[['condition', 1], ['besides', 1], ['but', 1], ['fit', 1], ['perfect', 1], ['shortened', 1], ['size', 1], ['slightly', 1], ['small', 1], ['straps', 1], ['that', 1], ['to', 1], ['xs', 1]]\n",
            "[['all', 1], ['and', 4], ['in', 2], ['of', 2], ['the', 2], ['for', 2], ['retail', 1], ['rm', 1], ['matching', 1], ['size', 1], ['small', 2], ['at', 1], ['boy', 1], ['bra', 1], ['can', 1], ['cheer', 1], ['get', 1], ['girls', 2], ['him', 1], ['item', 1], ['items', 1], ['less', 1], ['medium', 2], ['one', 1], ['pairs', 1], ['price', 1], ['sets', 1], ['shorts', 2], ['sophie', 1], ['spandex', 1], ['sports', 1], ['store', 2], ['take', 1], ['than', 1], ['three', 1], ['today', 1], ['total', 1], ['two', 1], ['you', 2]]\n",
            "[['size', 1], ['small', 1], ['girls', 1], ['shorts', 1], ['three', 1], ['total', 1], ['green', 1], ['plus', 1]]\n",
            "[['no', 1], ['and', 2], ['are', 1], ['in', 1], ['on', 1], ['the', 1], ['back', 1], ['they', 1], ['but', 1], ['after', 1], ['backwards', 1], ['before', 1], ['body', 1], ['chips', 1], ['circus', 1], ['clown', 1], ['clowns', 1], ['collectible', 1], ['cracks', 1], ['dirty', 1], ['doll', 1], ['feet', 1], ['few', 1], ['hand', 1], ['hands', 1], ['has', 1], ['he', 1], ['head', 1], ['his', 1], ['loss', 1], ['minor', 1], ['or', 1], ['paint', 1], ['painted', 1], ['pants', 1], ['picture', 1], ['places', 1], ['porcelain', 1], ['realized', 1], ['scary', 1], ['so', 1], ['stuffed', 1], ['tall', 1], ['them', 1], ['too', 1], ['very', 1], ['washed', 1], ['were', 2]]\n"
          ],
          "name": "stdout"
        }
      ]
    },
    {
      "cell_type": "code",
      "metadata": {
        "id": "zYA8xxQOyabr"
      },
      "source": [
        "tfidf = TfidfModel(BoW_corpus)"
      ],
      "execution_count": null,
      "outputs": []
    },
    {
      "cell_type": "code",
      "metadata": {
        "colab": {
          "base_uri": "https://localhost:8080/"
        },
        "id": "4VjEh4WP0loV",
        "outputId": "17881fec-9186-4c2c-8169-14b72e04a935"
      },
      "source": [
        "for doc in tfidf[BoW_corpus]:\r\n",
        "   print([[dictionary[id], np.around(freq)] for id, freq in doc])"
      ],
      "execution_count": null,
      "outputs": [
        {
          "output_type": "stream",
          "text": [
            "[['description', 0.64], ['no', 0.39], ['yet', 0.66]]\n",
            "[['all', 0.08], ['and', 0.07], ['app', 0.21], ['are', 0.16], ['box', 0.09], ['came', 0.19], ['condition', 0.06], ['customizable', 0.3], ['great', 0.08], ['in', 0.05], ['is', 0.06], ['it', 0.07], ['keyboard', 0.25], ['lights', 0.21], ['like', 0.09], ['of', 0.12], ['on', 0.07], ['out', 0.1], ['pc', 0.19], ['perfectly', 0.18], ['ports', 0.25], ['razer', 0.35], ['synapse', 0.44], ['tested', 0.18], ['the', 0.2], ['this', 0.08], ['via', 0.2], ['work', 0.15], ['works', 0.14], ['your', 0.1]]\n",
            "[['and', 0.12], ['in', 0.15], ['is', 0.09], ['of', 0.1], ['the', 0.17], ['adorable', 0.28], ['also', 0.2], ['available', 0.21], ['back', 0.18], ['have', 0.14], ['hint', 0.44], ['hole', 0.33], ['key', 0.32], ['lace', 0.24], ['pale', 0.37], ['pink', 0.15], ['top', 0.18], ['white', 0.17], ['with', 0.08]]\n",
            "[['are', 0.11], ['of', 0.08], ['out', 0.13], ['with', 0.07], ['about', 0.19], ['any', 0.14], ['as', 0.13], ['ask', 0.16], ['being', 0.25], ['each', 0.18], ['foot', 0.3], ['for', 0.07], ['free', 0.09], ['got', 0.22], ['high', 0.17], ['horses', 0.4], ['just', 0.14], ['leather', 0.19], ['new', 0.05], ['pair', 0.2], ['please', 0.13], ['questions', 0.17], ['retail', 0.19], ['rm', 0.11], ['shipping', 0.1], ['sold', 0.2], ['stand', 0.28], ['storage', 0.25], ['tags', 0.13], ['they', 0.15]]\n",
            "[['of', 0.15], ['with', 0.12], ['authenticity', 0.53], ['certificate', 0.7], ['complete', 0.45]]\n",
            "[['and', 0.04], ['top', 0.12], ['with', 0.05], ['amy', 0.32], ['banana', 0.23], ['blazer', 0.26], ['bottoms', 0.38], ['byers', 0.46], ['cami', 0.27], ['candies', 0.3], ['loft', 0.26], ['matching', 0.19], ['republic', 0.24], ['skirt', 0.18], ['suit', 0.21]]\n",
            "[['condition', 0.11], ['besides', 0.42], ['but', 0.15], ['fit', 0.2], ['perfect', 0.19], ['shortened', 0.61], ['size', 0.08], ['slightly', 0.32], ['small', 0.16], ['straps', 0.29], ['that', 0.18], ['to', 0.1], ['xs', 0.26]]\n",
            "[['all', 0.07], ['and', 0.13], ['in', 0.08], ['of', 0.11], ['the', 0.09], ['for', 0.09], ['retail', 0.12], ['rm', 0.07], ['matching', 0.17], ['size', 0.04], ['small', 0.16], ['at', 0.1], ['boy', 0.17], ['bra', 0.14], ['can', 0.09], ['cheer', 0.25], ['get', 0.11], ['girls', 0.29], ['him', 0.22], ['item', 0.11], ['items', 0.1], ['less', 0.17], ['medium', 0.19], ['one', 0.08], ['pairs', 0.15], ['price', 0.07], ['sets', 0.17], ['shorts', 0.26], ['sophie', 0.3], ['spandex', 0.15], ['sports', 0.17], ['store', 0.29], ['take', 0.13], ['than', 0.13], ['three', 0.15], ['today', 0.17], ['total', 0.15], ['two', 0.12], ['you', 0.14]]\n",
            "[['size', 0.12], ['small', 0.23], ['girls', 0.42], ['shorts', 0.38], ['three', 0.43], ['total', 0.43], ['green', 0.34], ['plus', 0.35]]\n",
            "[['no', 0.04], ['and', 0.05], ['are', 0.06], ['in', 0.03], ['on', 0.05], ['the', 0.04], ['back', 0.08], ['they', 0.08], ['but', 0.06], ['after', 0.11], ['backwards', 0.24], ['before', 0.09], ['body', 0.1], ['chips', 0.16], ['circus', 0.23], ['clown', 0.24], ['clowns', 0.28], ['collectible', 0.18], ['cracks', 0.15], ['dirty', 0.15], ['doll', 0.14], ['feet', 0.15], ['few', 0.09], ['hand', 0.12], ['hands', 0.15], ['has', 0.07], ['he', 0.15], ['head', 0.14], ['his', 0.16], ['loss', 0.15], ['minor', 0.12], ['or', 0.06], ['paint', 0.15], ['painted', 0.17], ['pants', 0.11], ['picture', 0.1], ['places', 0.18], ['porcelain', 0.2], ['realized', 0.18], ['scary', 0.23], ['so', 0.08], ['stuffed', 0.18], ['tall', 0.12], ['them', 0.09], ['too', 0.1], ['very', 0.07], ['washed', 0.11], ['were', 0.25]]\n"
          ],
          "name": "stdout"
        }
      ]
    },
    {
      "cell_type": "code",
      "metadata": {
        "colab": {
          "base_uri": "https://localhost:8080/"
        },
        "id": "5tFxY7se1Uyo",
        "outputId": "4791b8ec-a318-44ea-87e7-842f16602941"
      },
      "source": [
        "data[\"tfidf\"]=tfidf[BoW_corpus]"
      ],
      "execution_count": null,
      "outputs": [
        {
          "output_type": "stream",
          "text": [
            "/usr/local/lib/python3.6/dist-packages/numpy/core/_asarray.py:83: VisibleDeprecationWarning: Creating an ndarray from ragged nested sequences (which is a list-or-tuple of lists-or-tuples-or ndarrays with different lengths or shapes) is deprecated. If you meant to do this, you must specify 'dtype=object' when creating the ndarray\n",
            "  return array(a, dtype, copy=False, order=order)\n"
          ],
          "name": "stderr"
        }
      ]
    },
    {
      "cell_type": "code",
      "metadata": {
        "colab": {
          "base_uri": "https://localhost:8080/"
        },
        "id": "iCbOqhV03DIX",
        "outputId": "15f477f3-85e6-4e7f-ac1a-86f5efb7c89d"
      },
      "source": [
        "len(data.iloc[10][\"tfidf\"])"
      ],
      "execution_count": null,
      "outputs": [
        {
          "output_type": "execute_result",
          "data": {
            "text/plain": [
              "8"
            ]
          },
          "metadata": {
            "tags": []
          },
          "execution_count": 64
        }
      ]
    },
    {
      "cell_type": "code",
      "metadata": {
        "id": "iZ0CKj8s30wY"
      },
      "source": [
        "train_tfidf, validation_tfidf = train_test_split(data[[\"item_condition_id\", \"shipping\", \"category_name_l\",\t\"brand_name_l\", \"tfidf\", \"price\"]], test_size=0.2, random_state=1000)"
      ],
      "execution_count": null,
      "outputs": []
    },
    {
      "cell_type": "code",
      "metadata": {
        "id": "2aG4lyxj50R5"
      },
      "source": [
        "train_tfidf_categorical=train_tfidf[[\"item_condition_id\", \"shipping\", \"category_name_l\",\t\"brand_name_l\"]]\r\n",
        "validation_tfidf_categorical=validation_tfidf[[\"item_condition_id\", \"shipping\", \"category_name_l\",\t\"brand_name_l\"]]\r\n",
        "\r\n",
        "\r\n",
        "train_tfidf_description=train_tfidf[\"tfidf\"]\r\n",
        "validation_tfidf_description=validation_tfidf[\"tfidf\"]\r\n",
        "\r\n",
        "y_train=train_tfidf[\"price\"]\r\n",
        "y_validation=validation_tfidf[\"price\"]"
      ],
      "execution_count": null,
      "outputs": []
    },
    {
      "cell_type": "code",
      "metadata": {
        "colab": {
          "base_uri": "https://localhost:8080/",
          "height": 292
        },
        "id": "_507TTwr6rmz",
        "outputId": "6d468f15-ccc6-4cde-decd-a75b2a750cad"
      },
      "source": [
        "(validation_tfidf_description[0:10].todense)"
      ],
      "execution_count": null,
      "outputs": [
        {
          "output_type": "error",
          "ename": "AttributeError",
          "evalue": "ignored",
          "traceback": [
            "\u001b[0;31m---------------------------------------------------------------------------\u001b[0m",
            "\u001b[0;31mAttributeError\u001b[0m                            Traceback (most recent call last)",
            "\u001b[0;32m<ipython-input-80-0c2ba8f2c69c>\u001b[0m in \u001b[0;36m<module>\u001b[0;34m()\u001b[0m\n\u001b[0;32m----> 1\u001b[0;31m \u001b[0;34m(\u001b[0m\u001b[0mvalidation_tfidf_description\u001b[0m\u001b[0;34m[\u001b[0m\u001b[0;36m0\u001b[0m\u001b[0;34m:\u001b[0m\u001b[0;36m10\u001b[0m\u001b[0;34m]\u001b[0m\u001b[0;34m.\u001b[0m\u001b[0mtodense\u001b[0m\u001b[0;34m)\u001b[0m\u001b[0;34m\u001b[0m\u001b[0;34m\u001b[0m\u001b[0m\n\u001b[0m",
            "\u001b[0;32m/usr/local/lib/python3.6/dist-packages/pandas/core/generic.py\u001b[0m in \u001b[0;36m__getattr__\u001b[0;34m(self, name)\u001b[0m\n\u001b[1;32m   5139\u001b[0m             \u001b[0;32mif\u001b[0m \u001b[0mself\u001b[0m\u001b[0;34m.\u001b[0m\u001b[0m_info_axis\u001b[0m\u001b[0;34m.\u001b[0m\u001b[0m_can_hold_identifiers_and_holds_name\u001b[0m\u001b[0;34m(\u001b[0m\u001b[0mname\u001b[0m\u001b[0;34m)\u001b[0m\u001b[0;34m:\u001b[0m\u001b[0;34m\u001b[0m\u001b[0;34m\u001b[0m\u001b[0m\n\u001b[1;32m   5140\u001b[0m                 \u001b[0;32mreturn\u001b[0m \u001b[0mself\u001b[0m\u001b[0;34m[\u001b[0m\u001b[0mname\u001b[0m\u001b[0;34m]\u001b[0m\u001b[0;34m\u001b[0m\u001b[0;34m\u001b[0m\u001b[0m\n\u001b[0;32m-> 5141\u001b[0;31m             \u001b[0;32mreturn\u001b[0m \u001b[0mobject\u001b[0m\u001b[0;34m.\u001b[0m\u001b[0m__getattribute__\u001b[0m\u001b[0;34m(\u001b[0m\u001b[0mself\u001b[0m\u001b[0;34m,\u001b[0m \u001b[0mname\u001b[0m\u001b[0;34m)\u001b[0m\u001b[0;34m\u001b[0m\u001b[0;34m\u001b[0m\u001b[0m\n\u001b[0m\u001b[1;32m   5142\u001b[0m \u001b[0;34m\u001b[0m\u001b[0m\n\u001b[1;32m   5143\u001b[0m     \u001b[0;32mdef\u001b[0m \u001b[0m__setattr__\u001b[0m\u001b[0;34m(\u001b[0m\u001b[0mself\u001b[0m\u001b[0;34m,\u001b[0m \u001b[0mname\u001b[0m\u001b[0;34m:\u001b[0m \u001b[0mstr\u001b[0m\u001b[0;34m,\u001b[0m \u001b[0mvalue\u001b[0m\u001b[0;34m)\u001b[0m \u001b[0;34m->\u001b[0m \u001b[0;32mNone\u001b[0m\u001b[0;34m:\u001b[0m\u001b[0;34m\u001b[0m\u001b[0;34m\u001b[0m\u001b[0m\n",
            "\u001b[0;31mAttributeError\u001b[0m: 'Series' object has no attribute 'todense'"
          ]
        }
      ]
    },
    {
      "cell_type": "code",
      "metadata": {
        "id": "MCIuh8-24ied"
      },
      "source": [
        "def getModel_bow(categorical_train, description_train):\r\n",
        "    inputA = Input(categorical_train.shape[1])\r\n",
        "    inputDesc = Input(description_train.shape[1])\r\n",
        "    concat = Concatenate()([inputDesc, inputA])\r\n",
        "\r\n",
        "    x = Dropout(0.1)(concat)\r\n",
        "    x = Dense(32, activation='relu')(x)\r\n",
        "    x = Dropout(0.1)(x)\r\n",
        "    x = Dense(16, activation='relu')(x)\r\n",
        "    \r\n",
        "    x = Dense(1, activation='linear')(x)\r\n",
        "    \r\n",
        "    model = Model(inputs=[inputDesc, inputA], outputs=x)\r\n",
        "\r\n",
        "    return model"
      ],
      "execution_count": null,
      "outputs": []
    },
    {
      "cell_type": "code",
      "metadata": {
        "colab": {
          "base_uri": "https://localhost:8080/",
          "height": 310
        },
        "id": "xUUxfAFd4xGk",
        "outputId": "70d1c4f6-a6a0-4f37-ca97-4c22c40d98cc"
      },
      "source": [
        "model = getModel_bow(train_tfidf_categorical ,train_tfidf_description)\r\n",
        "model.summary() "
      ],
      "execution_count": null,
      "outputs": [
        {
          "output_type": "error",
          "ename": "IndexError",
          "evalue": "ignored",
          "traceback": [
            "\u001b[0;31m---------------------------------------------------------------------------\u001b[0m",
            "\u001b[0;31mIndexError\u001b[0m                                Traceback (most recent call last)",
            "\u001b[0;32m<ipython-input-68-80170f8e8fd7>\u001b[0m in \u001b[0;36m<module>\u001b[0;34m()\u001b[0m\n\u001b[0;32m----> 1\u001b[0;31m \u001b[0mmodel\u001b[0m \u001b[0;34m=\u001b[0m \u001b[0mgetModel_bow\u001b[0m\u001b[0;34m(\u001b[0m\u001b[0mtrain_tfidf_categorical\u001b[0m \u001b[0;34m,\u001b[0m\u001b[0mtrain_tfidf_description\u001b[0m\u001b[0;34m)\u001b[0m\u001b[0;34m\u001b[0m\u001b[0;34m\u001b[0m\u001b[0m\n\u001b[0m\u001b[1;32m      2\u001b[0m \u001b[0mmodel\u001b[0m\u001b[0;34m.\u001b[0m\u001b[0msummary\u001b[0m\u001b[0;34m(\u001b[0m\u001b[0;34m)\u001b[0m\u001b[0;34m\u001b[0m\u001b[0;34m\u001b[0m\u001b[0m\n",
            "\u001b[0;32m<ipython-input-67-47cdd6fd546b>\u001b[0m in \u001b[0;36mgetModel_bow\u001b[0;34m(categorical_train, description_train)\u001b[0m\n\u001b[1;32m      1\u001b[0m \u001b[0;32mdef\u001b[0m \u001b[0mgetModel_bow\u001b[0m\u001b[0;34m(\u001b[0m\u001b[0mcategorical_train\u001b[0m\u001b[0;34m,\u001b[0m \u001b[0mdescription_train\u001b[0m\u001b[0;34m)\u001b[0m\u001b[0;34m:\u001b[0m\u001b[0;34m\u001b[0m\u001b[0;34m\u001b[0m\u001b[0m\n\u001b[1;32m      2\u001b[0m     \u001b[0minputA\u001b[0m \u001b[0;34m=\u001b[0m \u001b[0mInput\u001b[0m\u001b[0;34m(\u001b[0m\u001b[0mcategorical_train\u001b[0m\u001b[0;34m.\u001b[0m\u001b[0mshape\u001b[0m\u001b[0;34m[\u001b[0m\u001b[0;36m1\u001b[0m\u001b[0;34m]\u001b[0m\u001b[0;34m)\u001b[0m\u001b[0;34m\u001b[0m\u001b[0;34m\u001b[0m\u001b[0m\n\u001b[0;32m----> 3\u001b[0;31m     \u001b[0minputDesc\u001b[0m \u001b[0;34m=\u001b[0m \u001b[0mInput\u001b[0m\u001b[0;34m(\u001b[0m\u001b[0mdescription_train\u001b[0m\u001b[0;34m.\u001b[0m\u001b[0mshape\u001b[0m\u001b[0;34m[\u001b[0m\u001b[0;36m1\u001b[0m\u001b[0;34m]\u001b[0m\u001b[0;34m)\u001b[0m\u001b[0;34m\u001b[0m\u001b[0;34m\u001b[0m\u001b[0m\n\u001b[0m\u001b[1;32m      4\u001b[0m     \u001b[0mconcat\u001b[0m \u001b[0;34m=\u001b[0m \u001b[0mConcatenate\u001b[0m\u001b[0;34m(\u001b[0m\u001b[0;34m)\u001b[0m\u001b[0;34m(\u001b[0m\u001b[0;34m[\u001b[0m\u001b[0minputDesc\u001b[0m\u001b[0;34m,\u001b[0m \u001b[0minputA\u001b[0m\u001b[0;34m]\u001b[0m\u001b[0;34m)\u001b[0m\u001b[0;34m\u001b[0m\u001b[0;34m\u001b[0m\u001b[0m\n\u001b[1;32m      5\u001b[0m \u001b[0;34m\u001b[0m\u001b[0m\n",
            "\u001b[0;31mIndexError\u001b[0m: tuple index out of range"
          ]
        }
      ]
    },
    {
      "cell_type": "code",
      "metadata": {
        "colab": {
          "base_uri": "https://localhost:8080/"
        },
        "id": "d3YG-zBS7-mp",
        "outputId": "04224104-cde9-4a34-9b58-687ac04e917e"
      },
      "source": [
        "train_tfidf_description.shape"
      ],
      "execution_count": null,
      "outputs": [
        {
          "output_type": "execute_result",
          "data": {
            "text/plain": [
              "(1157452,)"
            ]
          },
          "metadata": {
            "tags": []
          },
          "execution_count": 70
        }
      ]
    },
    {
      "cell_type": "markdown",
      "metadata": {
        "id": "WE4hyzsKBQRu"
      },
      "source": [
        "# Transformers"
      ]
    },
    {
      "cell_type": "code",
      "metadata": {
        "id": "hLeogNaNBe6J",
        "colab": {
          "base_uri": "https://localhost:8080/"
        },
        "outputId": "491c8f70-67e8-4059-842e-cfccac32f646"
      },
      "source": [
        "pret_model_trans = TFDistilBertModel.from_pretrained('distilbert-base-uncased')\r\n",
        "pret_model_trans.trainable = False\r\n",
        "\r\n",
        "tokenizer_trans = DistilBertTokenizer.from_pretrained('distilbert-base-uncased')"
      ],
      "execution_count": 6,
      "outputs": [
        {
          "output_type": "stream",
          "text": [
            "Some layers from the model checkpoint at distilbert-base-uncased were not used when initializing TFDistilBertModel: ['vocab_projector', 'activation_13', 'vocab_layer_norm', 'vocab_transform']\n",
            "- This IS expected if you are initializing TFDistilBertModel from the checkpoint of a model trained on another task or with another architecture (e.g. initializing a BertForSequenceClassification model from a BertForPreTraining model).\n",
            "- This IS NOT expected if you are initializing TFDistilBertModel from the checkpoint of a model that you expect to be exactly identical (initializing a BertForSequenceClassification model from a BertForSequenceClassification model).\n",
            "All the layers of TFDistilBertModel were initialized from the model checkpoint at distilbert-base-uncased.\n",
            "If your task is similar to the task the model of the checkpoint was trained on, you can already use TFDistilBertModel for predictions without further training.\n"
          ],
          "name": "stderr"
        }
      ]
    },
    {
      "cell_type": "code",
      "metadata": {
        "id": "nxL1_PwjARWk"
      },
      "source": [
        "data = data[0:10000]"
      ],
      "execution_count": 7,
      "outputs": []
    },
    {
      "cell_type": "code",
      "metadata": {
        "id": "zgUJwyC2pigv"
      },
      "source": [
        "train_trans, validation_trans = train_test_split(data, test_size=0.2, random_state=1000)"
      ],
      "execution_count": 8,
      "outputs": []
    },
    {
      "cell_type": "code",
      "metadata": {
        "id": "LMQCPY-sSjDy",
        "colab": {
          "base_uri": "https://localhost:8080/"
        },
        "outputId": "1f99e723-4187-4bbc-a14a-4fda86bbe487"
      },
      "source": [
        "y_train_trans = train_trans[\"price\"]\n",
        "y_train_trans"
      ],
      "execution_count": 9,
      "outputs": [
        {
          "output_type": "execute_result",
          "data": {
            "text/plain": [
              "5839     8.0\n",
              "630     30.0\n",
              "2800    16.0\n",
              "6106     5.0\n",
              "7215    13.0\n",
              "        ... \n",
              "2458    32.0\n",
              "3870     7.0\n",
              "6363     6.0\n",
              "4818    11.0\n",
              "9891    75.0\n",
              "Name: price, Length: 8000, dtype: float64"
            ]
          },
          "metadata": {
            "tags": []
          },
          "execution_count": 9
        }
      ]
    },
    {
      "cell_type": "code",
      "metadata": {
        "id": "nmlNBK-aSn0L",
        "colab": {
          "base_uri": "https://localhost:8080/"
        },
        "outputId": "bc801922-3650-4869-d309-49668d2c2fed"
      },
      "source": [
        "y_validation_trans = validation_trans[\"price\"]\n",
        "y_validation_trans"
      ],
      "execution_count": 10,
      "outputs": [
        {
          "output_type": "execute_result",
          "data": {
            "text/plain": [
              "8228    20.0\n",
              "7300    19.0\n",
              "7761    34.0\n",
              "7531    48.0\n",
              "3325     7.0\n",
              "        ... \n",
              "9574    60.0\n",
              "9501    30.0\n",
              "3876    71.0\n",
              "5611    60.0\n",
              "7453    15.0\n",
              "Name: price, Length: 2000, dtype: float64"
            ]
          },
          "metadata": {
            "tags": []
          },
          "execution_count": 10
        }
      ]
    },
    {
      "cell_type": "markdown",
      "metadata": {
        "id": "gpeCVE5xBJnx"
      },
      "source": [
        "todo: use cleaned? or let bert handle everything?"
      ]
    },
    {
      "cell_type": "code",
      "metadata": {
        "id": "PZnPt2pwPhda"
      },
      "source": [
        "inputA_train_trans = train_trans[[\"item_condition_id\", \"category_name_l\", \"brand_name_l\", \"shipping\"]].values.astype('int32')"
      ],
      "execution_count": 11,
      "outputs": []
    },
    {
      "cell_type": "code",
      "metadata": {
        "id": "W1vQL1C1Pchc"
      },
      "source": [
        "inputA_validation_trans = validation_trans[[\"item_condition_id\", \"category_name_l\", \"brand_name_l\", \"shipping\"]].values.astype('int32')"
      ],
      "execution_count": 12,
      "outputs": []
    },
    {
      "cell_type": "code",
      "metadata": {
        "id": "bEeOZukjBF3i"
      },
      "source": [
        "inputName_train_trans = tokenizer_trans(train_trans[\"name\"].to_list(),\n",
        "                                  return_tensors=\"tf\",\n",
        "                                  padding=True)\n",
        "#inputName_trans"
      ],
      "execution_count": 13,
      "outputs": []
    },
    {
      "cell_type": "code",
      "metadata": {
        "id": "TJ8sh5pUPrIC"
      },
      "source": [
        "inputName_validation_trans = tokenizer_trans(validation_trans[\"name\"].to_list(),\n",
        "                                  return_tensors=\"tf\",\n",
        "                                  padding=True)\n",
        "#inputName_trans"
      ],
      "execution_count": 14,
      "outputs": []
    },
    {
      "cell_type": "code",
      "metadata": {
        "id": "7bQnsc9-JcIq",
        "colab": {
          "base_uri": "https://localhost:8080/"
        },
        "outputId": "b21c3dbb-d179-4aa4-c5b1-a07aa36ea1d4"
      },
      "source": [
        "inputName_shape_trans = (inputName_train_trans['input_ids'].shape[1],\n",
        "                         inputName_train_trans['attention_mask'].shape[1])\n",
        "\n",
        "inputName_shape_trans"
      ],
      "execution_count": 15,
      "outputs": [
        {
          "output_type": "execute_result",
          "data": {
            "text/plain": [
              "(19, 19)"
            ]
          },
          "metadata": {
            "tags": []
          },
          "execution_count": 15
        }
      ]
    },
    {
      "cell_type": "code",
      "metadata": {
        "id": "dMjIqkOs2jhU"
      },
      "source": [
        "inputDesc_train_trans = tokenizer_trans(train_trans[\"item_description\"].to_list(),\n",
        "                                  return_tensors=\"tf\",\n",
        "                                  padding=True)"
      ],
      "execution_count": 16,
      "outputs": []
    },
    {
      "cell_type": "code",
      "metadata": {
        "id": "ZccJ_0HUP5EX"
      },
      "source": [
        "inputDesc_validation_trans = tokenizer_trans(validation_trans[\"item_description\"].to_list(),\n",
        "                                  return_tensors=\"tf\",\n",
        "                                  padding=True)"
      ],
      "execution_count": 17,
      "outputs": []
    },
    {
      "cell_type": "code",
      "metadata": {
        "id": "LCTEIDnSJsMP",
        "colab": {
          "base_uri": "https://localhost:8080/"
        },
        "outputId": "0b14c75c-f647-468d-9217-699306fb23c1"
      },
      "source": [
        "inputDesc_shape_trans = (inputDesc_train_trans['input_ids'].shape[1],\n",
        "                         inputDesc_train_trans['attention_mask'].shape[1])\n",
        "inputDesc_shape_trans"
      ],
      "execution_count": 18,
      "outputs": [
        {
          "output_type": "execute_result",
          "data": {
            "text/plain": [
              "(337, 337)"
            ]
          },
          "metadata": {
            "tags": []
          },
          "execution_count": 18
        }
      ]
    },
    {
      "cell_type": "code",
      "metadata": {
        "id": "n_odyHkIAJWy"
      },
      "source": [
        "def getModel_trans():\n",
        "    inputA = Input(shape=(4,))\n",
        "    Ad = inputA    \n",
        "    \n",
        "    inputName_ids = Input(shape=(inputName_shape_trans[0],), dtype='int32')\n",
        "    inputName_mask = Input(shape=(inputName_shape_trans[1],), dtype='int32')\n",
        "\n",
        "    Np = pret_model_trans(inputName_ids, attention_mask=inputName_mask)[0]\n",
        "\n",
        "    Nd = LSTM(12,return_sequences=True)(Np)\n",
        "    Nd = Flatten()(Nd)\n",
        "\n",
        "    inputDesc_ids = Input(shape=(inputDesc_shape_trans[0],), dtype='int32')\n",
        "    inputDesc_mask = Input(shape=(inputDesc_shape_trans[1],), dtype='int32')\n",
        "\n",
        "    Dp = pret_model_trans(inputDesc_ids, attention_mask=inputDesc_mask)[0]\n",
        "\n",
        "    Dd = LSTM(16,return_sequences=True)(Dp)\n",
        "    Dd = LSTM(8,return_sequences=True)(Dd)\n",
        "    Dd = Flatten()(Dd)\n",
        "\n",
        "    concat = Concatenate()([Nd, Dd])\n",
        "\n",
        "    x = Dropout(0.1)(concat)    \n",
        "    x = Dense(32, activation='relu')(x)\n",
        "    x = Dropout(0.1)(x)\n",
        "    x = Dense(16, activation='relu')(x)\n",
        "    \n",
        "    x = Dense(1, activation='linear')(x)\n",
        "    \n",
        "    model = Model(inputs=[\n",
        "                          inputA,\n",
        "                          inputName_ids,\n",
        "                          inputName_mask,\n",
        "                          inputDesc_ids,\n",
        "                          inputDesc_mask\n",
        "                          ], outputs=x)\n",
        "    \n",
        "    return model\n",
        "    "
      ],
      "execution_count": 27,
      "outputs": []
    },
    {
      "cell_type": "code",
      "metadata": {
        "id": "ZN9opFTBHLXu",
        "colab": {
          "base_uri": "https://localhost:8080/"
        },
        "outputId": "25659736-67a8-4964-f1a9-f68621577c65"
      },
      "source": [
        "model_trans = getModel_trans()"
      ],
      "execution_count": 28,
      "outputs": [
        {
          "output_type": "stream",
          "text": [
            "The parameters `output_attentions`, `output_hidden_states` and `use_cache` cannot be updated when calling a model.They have to be set to True/False in the config object (i.e.: `config=XConfig.from_pretrained('name', output_attentions=True)`).\n",
            "The parameter `return_dict` cannot be set in graph mode and will always be set to `True`.\n",
            "The parameters `output_attentions`, `output_hidden_states` and `use_cache` cannot be updated when calling a model.They have to be set to True/False in the config object (i.e.: `config=XConfig.from_pretrained('name', output_attentions=True)`).\n",
            "The parameter `return_dict` cannot be set in graph mode and will always be set to `True`.\n"
          ],
          "name": "stderr"
        }
      ]
    },
    {
      "cell_type": "code",
      "metadata": {
        "id": "IdOujyB1HcZ3",
        "colab": {
          "base_uri": "https://localhost:8080/"
        },
        "outputId": "7b26c2cb-e2ef-413c-f8db-6964b353391d"
      },
      "source": [
        "model_trans.summary()"
      ],
      "execution_count": 29,
      "outputs": [
        {
          "output_type": "stream",
          "text": [
            "Model: \"model_1\"\n",
            "__________________________________________________________________________________________________\n",
            "Layer (type)                    Output Shape         Param #     Connected to                     \n",
            "==================================================================================================\n",
            "input_7 (InputLayer)            [(None, 19)]         0                                            \n",
            "__________________________________________________________________________________________________\n",
            "input_8 (InputLayer)            [(None, 19)]         0                                            \n",
            "__________________________________________________________________________________________________\n",
            "input_9 (InputLayer)            [(None, 337)]        0                                            \n",
            "__________________________________________________________________________________________________\n",
            "input_10 (InputLayer)           [(None, 337)]        0                                            \n",
            "__________________________________________________________________________________________________\n",
            "tf_distil_bert_model (TFDistilB multiple             66362880    input_7[0][0]                    \n",
            "                                                                 input_8[0][0]                    \n",
            "                                                                 input_9[0][0]                    \n",
            "                                                                 input_10[0][0]                   \n",
            "__________________________________________________________________________________________________\n",
            "lstm_4 (LSTM)                   (None, 337, 16)      50240       tf_distil_bert_model[3][0]       \n",
            "__________________________________________________________________________________________________\n",
            "lstm_3 (LSTM)                   (None, 19, 12)       37488       tf_distil_bert_model[2][0]       \n",
            "__________________________________________________________________________________________________\n",
            "lstm_5 (LSTM)                   (None, 337, 8)       800         lstm_4[0][0]                     \n",
            "__________________________________________________________________________________________________\n",
            "flatten_2 (Flatten)             (None, 228)          0           lstm_3[0][0]                     \n",
            "__________________________________________________________________________________________________\n",
            "flatten_3 (Flatten)             (None, 2696)         0           lstm_5[0][0]                     \n",
            "__________________________________________________________________________________________________\n",
            "concatenate_1 (Concatenate)     (None, 2924)         0           flatten_2[0][0]                  \n",
            "                                                                 flatten_3[0][0]                  \n",
            "__________________________________________________________________________________________________\n",
            "dropout_21 (Dropout)            (None, 2924)         0           concatenate_1[0][0]              \n",
            "__________________________________________________________________________________________________\n",
            "dense_3 (Dense)                 (None, 32)           93600       dropout_21[0][0]                 \n",
            "__________________________________________________________________________________________________\n",
            "dropout_22 (Dropout)            (None, 32)           0           dense_3[0][0]                    \n",
            "__________________________________________________________________________________________________\n",
            "dense_4 (Dense)                 (None, 16)           528         dropout_22[0][0]                 \n",
            "__________________________________________________________________________________________________\n",
            "input_6 (InputLayer)            [(None, 4)]          0                                            \n",
            "__________________________________________________________________________________________________\n",
            "dense_5 (Dense)                 (None, 1)            17          dense_4[0][0]                    \n",
            "==================================================================================================\n",
            "Total params: 66,545,553\n",
            "Trainable params: 182,673\n",
            "Non-trainable params: 66,362,880\n",
            "__________________________________________________________________________________________________\n"
          ],
          "name": "stdout"
        }
      ]
    },
    {
      "cell_type": "code",
      "metadata": {
        "id": "e00K_QQ8O6Nq",
        "colab": {
          "base_uri": "https://localhost:8080/",
          "height": 906
        },
        "outputId": "6de76a5d-bb12-4176-f511-b76648972f92"
      },
      "source": [
        "plot_model(model_trans)"
      ],
      "execution_count": 30,
      "outputs": [
        {
          "output_type": "execute_result",
          "data": {
            "image/png": "[encoded data removed]",
            "text/plain": [
              "<IPython.core.display.Image object>"
            ]
          },
          "metadata": {
            "tags": []
          },
          "execution_count": 30
        }
      ]
    },
    {
      "cell_type": "code",
      "metadata": {
        "id": "lyqut5HjPBR4"
      },
      "source": [
        "model_trans.compile(loss = root_mean_squared_logarithmic_error, optimizer='adam', metrics=['mse', 'mae', tf.keras.metrics.RootMeanSquaredError(), 'mean_squared_logarithmic_error', root_mean_squared_logarithmic_error])"
      ],
      "execution_count": 31,
      "outputs": []
    },
    {
      "cell_type": "code",
      "metadata": {
        "id": "FV6080wZPLlo",
        "colab": {
          "base_uri": "https://localhost:8080/"
        },
        "outputId": "a972fb5b-9291-4964-f37a-3dc19aa3a365"
      },
      "source": [
        "history_trans = model_trans.fit(x=[inputA_train_trans,\n",
        "                   inputName_train_trans['input_ids'],\n",
        "                   inputName_train_trans['attention_mask'],\n",
        "                   inputDesc_train_trans['input_ids'],\n",
        "                   inputDesc_train_trans['attention_mask']\n",
        "                  ],\n",
        "                   y=y_train_trans,\n",
        "                    epochs=2,\n",
        "                    verbose=True,\n",
        "                    validation_data=([\n",
        "                                      inputA_validation_trans,\n",
        "                                      inputName_validation_trans['input_ids'],\n",
        "                                      inputName_validation_trans['attention_mask'],\n",
        "                                      inputDesc_validation_trans['input_ids'],\n",
        "                                      inputDesc_validation_trans['attention_mask'],\n",
        "                                      ], \n",
        "                                     y_validation_trans),\n",
        "                    batch_size=512)"
      ],
      "execution_count": null,
      "outputs": [
        {
          "output_type": "stream",
          "text": [
            "The parameters `output_attentions`, `output_hidden_states` and `use_cache` cannot be updated when calling a model.They have to be set to True/False in the config object (i.e.: `config=XConfig.from_pretrained('name', output_attentions=True)`).\n",
            "The parameter `return_dict` cannot be set in graph mode and will always be set to `True`.\n"
          ],
          "name": "stderr"
        },
        {
          "output_type": "stream",
          "text": [
            "Epoch 1/2\n"
          ],
          "name": "stdout"
        },
        {
          "output_type": "stream",
          "text": [
            "The parameters `output_attentions`, `output_hidden_states` and `use_cache` cannot be updated when calling a model.They have to be set to True/False in the config object (i.e.: `config=XConfig.from_pretrained('name', output_attentions=True)`).\n",
            "The parameter `return_dict` cannot be set in graph mode and will always be set to `True`.\n",
            "The parameters `output_attentions`, `output_hidden_states` and `use_cache` cannot be updated when calling a model.They have to be set to True/False in the config object (i.e.: `config=XConfig.from_pretrained('name', output_attentions=True)`).\n",
            "The parameter `return_dict` cannot be set in graph mode and will always be set to `True`.\n",
            "The parameters `output_attentions`, `output_hidden_states` and `use_cache` cannot be updated when calling a model.They have to be set to True/False in the config object (i.e.: `config=XConfig.from_pretrained('name', output_attentions=True)`).\n",
            "The parameter `return_dict` cannot be set in graph mode and will always be set to `True`.\n"
          ],
          "name": "stderr"
        },
        {
          "output_type": "stream",
          "text": [
            "\r 1/16 [>.............................] - ETA: 5:57 - loss: 3.0865 - mse: 2804.8843 - mae: 28.2025 - root_mean_squared_error: 52.9612 - mean_squared_logarithmic_error: 9.5266 - root_mean_squared_logarithmic_error: 3.0865"
          ],
          "name": "stdout"
        }
      ]
    },
    {
      "cell_type": "code",
      "metadata": {
        "id": "j6XYsUVDDtta"
      },
      "source": [
        ""
      ],
      "execution_count": null,
      "outputs": []
    }
  ]
}