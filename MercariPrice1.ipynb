{
  "nbformat": 4,
  "nbformat_minor": 0,
  "metadata": {
    "accelerator": "GPU",
    "colab": {
      "name": "MercariPrice1.ipynb",
      "provenance": [],
      "collapsed_sections": []
    },
    "kernelspec": {
      "display_name": "Python 3",
      "language": "python",
      "name": "python3"
    },
    "language_info": {
      "codemirror_mode": {
        "name": "ipython",
        "version": 3
      },
      "file_extension": ".py",
      "mimetype": "text/x-python",
      "name": "python",
      "nbconvert_exporter": "python",
      "pygments_lexer": "ipython3",
      "version": "3.7.0"
    }
  },
  "cells": [
    {
      "cell_type": "markdown",
      "metadata": {
        "id": "M_oO4ZyYU00Y"
      },
      "source": [
        "### Mercari Price \n",
        "The files consist of a list of product listings. These files are tab-delimited.\n",
        "\n",
        "Fields:\n",
        "- train_id or test_id - the id of the listing\n",
        "\n",
        "- name - the title of the listing. Note that we have cleaned the data to remove text that look like prices (e.g. $20) to avoid  leakage. These removed prices are represented as [rm]\n",
        "\n",
        "- item_condition_id - the condition of the items provided by the seller\n",
        "\n",
        "- category_name - category of the listing\n",
        "\n",
        "- brand_name\n",
        "\n",
        "- price - the price that the item was sold for. This is the target variable that you will predict. The unit is USD. This column doesn't exist in test.tsv since that is what you will predict.\n",
        "\n",
        "- shipping - 1 if shipping fee is paid by seller and 0 by buyer\n",
        "\n",
        "- item_description - the full description of the item. Note that we have cleaned the data to remove text that look like prices (e.g. $20) to avoid leakage. These removed prices are represented as [rm]"
      ]
    },
    {
      "cell_type": "code",
      "metadata": {
        "id": "XZWiRNuUU00w"
      },
      "source": [
        "import pandas as pd\n",
        "import numpy as np\n",
        "\n",
        "from nltk.tokenize import word_tokenize\n",
        "import nltk\n",
        "import tensorflow as tf\n",
        "from tensorflow import keras\n",
        "from tensorflow.keras.preprocessing.text import Tokenizer\n",
        "from tensorflow.keras.preprocessing.sequence import pad_sequences\n",
        "\n",
        "import tensorflow.keras.backend as K\n",
        "\n",
        "\n",
        "from tqdm._tqdm_notebook import tqdm_notebook\n",
        "\n",
        "import os\n",
        "import itertools\n",
        "\n",
        "import matplotlib.pyplot as plt\n",
        "import itertools\n",
        "from collections import Counter\n",
        "import seaborn as sns\n",
        "\n",
        "from sklearn.model_selection import train_test_split\n",
        "from sklearn import preprocessing\n",
        "from sklearn.preprocessing import StandardScaler\n",
        "\n",
        "from tensorflow.keras.layers import Dense, Input, Embedding, Concatenate, Flatten, Dropout, LSTM\n",
        "from tensorflow.keras.models import Model\n",
        "from tensorflow.keras.utils import plot_model\n",
        "\n",
        "from nltk.corpus import stopwords\n",
        "import string"
      ],
      "execution_count": 183,
      "outputs": []
    },
    {
      "cell_type": "code",
      "metadata": {
        "colab": {
          "base_uri": "https://localhost:8080/"
        },
        "id": "--bkTALlC02b",
        "outputId": "009085fc-23e0-467f-e01d-e1554cdec6f8"
      },
      "source": [
        "nltk.download('stopwords')\n",
        "nltk.download('punkt')\n",
        "\n",
        "\n",
        "stop_words = set(stopwords.words('english'))"
      ],
      "execution_count": null,
      "outputs": [
        {
          "output_type": "stream",
          "text": [
            "[nltk_data] Downloading package stopwords to /root/nltk_data...\n",
            "[nltk_data]   Package stopwords is already up-to-date!\n",
            "[nltk_data] Downloading package punkt to /root/nltk_data...\n",
            "[nltk_data]   Package punkt is already up-to-date!\n"
          ],
          "name": "stdout"
        }
      ]
    },
    {
      "cell_type": "code",
      "metadata": {
        "id": "s4RfjlP1VCjh"
      },
      "source": [
        "tqdm_notebook.pandas()"
      ],
      "execution_count": 2,
      "outputs": []
    },
    {
      "cell_type": "code",
      "metadata": {
        "id": "sI0KxMNH4A5s"
      },
      "source": [
        "#! pip install pydot graphviz"
      ],
      "execution_count": 3,
      "outputs": []
    },
    {
      "cell_type": "markdown",
      "metadata": {
        "id": "5tMt4O6n3yTD"
      },
      "source": [
        "### Dataset download"
      ]
    },
    {
      "cell_type": "code",
      "metadata": {
        "colab": {
          "base_uri": "https://localhost:8080/"
        },
        "id": "oXCUW4PtU00k",
        "outputId": "c73ce087-1ade-4bdf-d93f-5985967d6aa2"
      },
      "source": [
        "# check if in colab\n",
        "RunningInCOLAB = 'google.colab' in str(get_ipython())\n",
        "if RunningInCOLAB:\n",
        "    print(\"Running in colab\")\n",
        "    from google.colab import drive\n",
        "    drive.mount('/content/gdrive', force_remount=True)\n",
        "    colab_root = '/content/drive'\n",
        "    root_dir = \"/content/gdrive/My Drive/\"\n",
        "    base_dir = root_dir + 'project-mercari-price/'\n",
        "    if not os.path.isdir(base_dir):\n",
        "        os.mkdir(base_dir)\n",
        "else:\n",
        "    root_dir= os.getcwd()\n",
        "    base_dir = root_dir\n",
        "    \n",
        "os.chdir(base_dir)"
      ],
      "execution_count": 4,
      "outputs": [
        {
          "output_type": "stream",
          "text": [
            "Running in colab\n",
            "Mounted at /content/gdrive\n"
          ],
          "name": "stdout"
        }
      ]
    },
    {
      "cell_type": "code",
      "metadata": {
        "colab": {
          "base_uri": "https://localhost:8080/"
        },
        "id": "1JFkFCLXU00m",
        "outputId": "530bb607-5f0c-4d72-9218-cc000f51e391"
      },
      "source": [
        "dataset_downloaded_path = os.path.join(base_dir, \"dataset_downloaded.ignore\")\n",
        "dataset_downloaded = os.path.isfile(dataset_downloaded_path)\n",
        "dataset_downloaded"
      ],
      "execution_count": 5,
      "outputs": [
        {
          "output_type": "execute_result",
          "data": {
            "text/plain": [
              "True"
            ]
          },
          "metadata": {
            "tags": []
          },
          "execution_count": 5
        }
      ]
    },
    {
      "cell_type": "code",
      "metadata": {
        "id": "24RhWXO6U00p"
      },
      "source": [
        "if not dataset_downloaded:\n",
        "  # install kaggle to download dataset\n",
        "  ! pip install kaggle python-dotenv"
      ],
      "execution_count": 6,
      "outputs": []
    },
    {
      "cell_type": "code",
      "metadata": {
        "id": "Xw0Fy7K5U00r"
      },
      "source": [
        "# set to True if you want to save kaggle credentials into a .env file\n",
        "persist_credentials = False\n",
        "\n",
        "if not dataset_downloaded:\n",
        "  # create .env file containing KAGGLE_USER and KAGGLE_KEY\n",
        "    kaggle_env = os.path.join(base_dir, '.env')\n",
        "    if not os.path.isfile(kaggle_env):\n",
        "        with open(kaggle_env, 'w') as envfile:\n",
        "            kaggle_user = input(\"Insert kaggle username\")\n",
        "            kaggle_key = input(\"Insert kaggle key; generate one from kaggle account\")\n",
        "        if persist_credentials:\n",
        "            envfile.write(f\"\"\"\n",
        "            KAGGLE_USERNAME={kaggle_user}\n",
        "            KAGGLE_KEY={kaggle_key}\n",
        "            \"\"\")\n",
        "\n",
        "        # set env vars\n",
        "        os.environ[\"KAGGLE_USERNAME\"] = kaggle_user\n",
        "        os.environ[\"KAGGLE_KEY\"] = kaggle_key\n",
        "\n",
        "        del kaggle_user\n",
        "        del kaggle_key"
      ],
      "execution_count": 7,
      "outputs": []
    },
    {
      "cell_type": "code",
      "metadata": {
        "id": "7zJ0iRN9U00u"
      },
      "source": [
        "if not dataset_downloaded:\n",
        "  # loading env vars if .env file exists\n",
        "    if os.path.isfile(kaggle_env):\n",
        "        from dotenv import load_dotenv\n",
        "        load_dotenv(dotenv_path=kaggle_env)\n",
        "    print(os.environ.get(\"KAGGLE_USERNAME\"))"
      ],
      "execution_count": 8,
      "outputs": []
    },
    {
      "cell_type": "code",
      "metadata": {
        "id": "SP-mPFo-U00v"
      },
      "source": [
        "if not dataset_downloaded:\n",
        "    # download and extract dataset\n",
        "    ! kaggle competitions download -c mercari-price-suggestion-challenge\n",
        "\n",
        "    # create file so that we know we already downloaded\n",
        "    with open(dataset_downloaded_path, 'w') as dd_file:\n",
        "        dataset_downloaded = True\n",
        "        dd_file.write(\"\")\n",
        "\n",
        "    print('cwd: ', os.getcwd())\n",
        "    \n",
        "    os.listdir()"
      ],
      "execution_count": 9,
      "outputs": []
    },
    {
      "cell_type": "code",
      "metadata": {
        "id": "cpAT2yysVsRm"
      },
      "source": [
        "if not dataset_downloaded:\n",
        "    ! 7z x train.tsv.7z\n",
        "    ! 7z x test.tsv.7z"
      ],
      "execution_count": 10,
      "outputs": []
    },
    {
      "cell_type": "code",
      "metadata": {
        "colab": {
          "base_uri": "https://localhost:8080/"
        },
        "id": "rbwBGoI1VplX",
        "outputId": "73488f10-cc6f-4038-eeaa-25084207439d"
      },
      "source": [
        "os.listdir()"
      ],
      "execution_count": 11,
      "outputs": [
        {
          "output_type": "execute_result",
          "data": {
            "text/plain": [
              "['train.tsv',\n",
              " 'test.tsv',\n",
              " '.env',\n",
              " 'sample_submission.csv.7z',\n",
              " 'test_stg2.tsv.zip',\n",
              " 'train.tsv.7z',\n",
              " 'test.tsv.7z',\n",
              " 'sample_submission_stg2.csv.zip',\n",
              " 'dataset_downloaded',\n",
              " '.git',\n",
              " '.gitignore',\n",
              " 'Notebook.Rmd',\n",
              " 'Readme.md',\n",
              " 'requirements.txt',\n",
              " 'Untitled.ipynb',\n",
              " 'git',\n",
              " 'dataset_downloaded.ignore',\n",
              " 'model.png']"
            ]
          },
          "metadata": {
            "tags": []
          },
          "execution_count": 11
        }
      ]
    },
    {
      "cell_type": "markdown",
      "metadata": {
        "id": "8pyEueRK3yTL"
      },
      "source": [
        "## Load dataset"
      ]
    },
    {
      "cell_type": "code",
      "metadata": {
        "colab": {
          "base_uri": "https://localhost:8080/",
          "height": 581
        },
        "id": "j5Vg17INU00x",
        "outputId": "68bea25d-fcc0-4c0a-af6c-2910cdaa651c"
      },
      "source": [
        "dtypes={\n",
        "    'name': 'string',\n",
        "    'item_condition_id': 'int32',\n",
        "    'category_name': 'string',\n",
        "    'brand_name': 'string',\n",
        "    'price': 'float',\n",
        "    'shipping': 'int32',\n",
        "    'item_description': 'string'\n",
        "}\n",
        "data = pd.read_csv(\"train.tsv\", sep='\\t', dtype=dtypes)\n",
        "data = data.drop(columns=[\"train_id\"])\n",
        "data"
      ],
      "execution_count": 12,
      "outputs": [
        {
          "output_type": "execute_result",
          "data": {
            "text/html": [
              "<div>\n",
              "<style scoped>\n",
              "    .dataframe tbody tr th:only-of-type {\n",
              "        vertical-align: middle;\n",
              "    }\n",
              "\n",
              "    .dataframe tbody tr th {\n",
              "        vertical-align: top;\n",
              "    }\n",
              "\n",
              "    .dataframe thead th {\n",
              "        text-align: right;\n",
              "    }\n",
              "</style>\n",
              "<table border=\"1\" class=\"dataframe\">\n",
              "  <thead>\n",
              "    <tr style=\"text-align: right;\">\n",
              "      <th></th>\n",
              "      <th>name</th>\n",
              "      <th>item_condition_id</th>\n",
              "      <th>category_name</th>\n",
              "      <th>brand_name</th>\n",
              "      <th>price</th>\n",
              "      <th>shipping</th>\n",
              "      <th>item_description</th>\n",
              "    </tr>\n",
              "  </thead>\n",
              "  <tbody>\n",
              "    <tr>\n",
              "      <th>0</th>\n",
              "      <td>MLB Cincinnati Reds T Shirt Size XL</td>\n",
              "      <td>3</td>\n",
              "      <td>Men/Tops/T-shirts</td>\n",
              "      <td>&lt;NA&gt;</td>\n",
              "      <td>10.0</td>\n",
              "      <td>1</td>\n",
              "      <td>No description yet</td>\n",
              "    </tr>\n",
              "    <tr>\n",
              "      <th>1</th>\n",
              "      <td>Razer BlackWidow Chroma Keyboard</td>\n",
              "      <td>3</td>\n",
              "      <td>Electronics/Computers &amp; Tablets/Components &amp; P...</td>\n",
              "      <td>Razer</td>\n",
              "      <td>52.0</td>\n",
              "      <td>0</td>\n",
              "      <td>This keyboard is in great condition and works ...</td>\n",
              "    </tr>\n",
              "    <tr>\n",
              "      <th>2</th>\n",
              "      <td>AVA-VIV Blouse</td>\n",
              "      <td>1</td>\n",
              "      <td>Women/Tops &amp; Blouses/Blouse</td>\n",
              "      <td>Target</td>\n",
              "      <td>10.0</td>\n",
              "      <td>1</td>\n",
              "      <td>Adorable top with a hint of lace and a key hol...</td>\n",
              "    </tr>\n",
              "    <tr>\n",
              "      <th>3</th>\n",
              "      <td>Leather Horse Statues</td>\n",
              "      <td>1</td>\n",
              "      <td>Home/Home Décor/Home Décor Accents</td>\n",
              "      <td>&lt;NA&gt;</td>\n",
              "      <td>35.0</td>\n",
              "      <td>1</td>\n",
              "      <td>New with tags. Leather horses. Retail for [rm]...</td>\n",
              "    </tr>\n",
              "    <tr>\n",
              "      <th>4</th>\n",
              "      <td>24K GOLD plated rose</td>\n",
              "      <td>1</td>\n",
              "      <td>Women/Jewelry/Necklaces</td>\n",
              "      <td>&lt;NA&gt;</td>\n",
              "      <td>44.0</td>\n",
              "      <td>0</td>\n",
              "      <td>Complete with certificate of authenticity</td>\n",
              "    </tr>\n",
              "    <tr>\n",
              "      <th>...</th>\n",
              "      <td>...</td>\n",
              "      <td>...</td>\n",
              "      <td>...</td>\n",
              "      <td>...</td>\n",
              "      <td>...</td>\n",
              "      <td>...</td>\n",
              "      <td>...</td>\n",
              "    </tr>\n",
              "    <tr>\n",
              "      <th>1482530</th>\n",
              "      <td>Free People Inspired Dress</td>\n",
              "      <td>2</td>\n",
              "      <td>Women/Dresses/Mid-Calf</td>\n",
              "      <td>Free People</td>\n",
              "      <td>20.0</td>\n",
              "      <td>1</td>\n",
              "      <td>Lace, says size small but fits medium perfectl...</td>\n",
              "    </tr>\n",
              "    <tr>\n",
              "      <th>1482531</th>\n",
              "      <td>Little mermaid handmade dress</td>\n",
              "      <td>2</td>\n",
              "      <td>Kids/Girls 2T-5T/Dresses</td>\n",
              "      <td>Disney</td>\n",
              "      <td>14.0</td>\n",
              "      <td>0</td>\n",
              "      <td>Little mermaid handmade dress never worn size 2t</td>\n",
              "    </tr>\n",
              "    <tr>\n",
              "      <th>1482532</th>\n",
              "      <td>21 day fix containers and eating plan</td>\n",
              "      <td>2</td>\n",
              "      <td>Sports &amp; Outdoors/Exercise/Fitness accessories</td>\n",
              "      <td>&lt;NA&gt;</td>\n",
              "      <td>12.0</td>\n",
              "      <td>0</td>\n",
              "      <td>Used once or twice, still in great shape.</td>\n",
              "    </tr>\n",
              "    <tr>\n",
              "      <th>1482533</th>\n",
              "      <td>World markets lanterns</td>\n",
              "      <td>3</td>\n",
              "      <td>Home/Home Décor/Home Décor Accents</td>\n",
              "      <td>&lt;NA&gt;</td>\n",
              "      <td>45.0</td>\n",
              "      <td>1</td>\n",
              "      <td>There is 2 of each one that you see! So 2 red ...</td>\n",
              "    </tr>\n",
              "    <tr>\n",
              "      <th>1482534</th>\n",
              "      <td>Brand new lux de ville wallet</td>\n",
              "      <td>1</td>\n",
              "      <td>Women/Women's Accessories/Wallets</td>\n",
              "      <td>&lt;NA&gt;</td>\n",
              "      <td>22.0</td>\n",
              "      <td>0</td>\n",
              "      <td>New with tag, red with sparkle. Firm price, no...</td>\n",
              "    </tr>\n",
              "  </tbody>\n",
              "</table>\n",
              "<p>1482535 rows × 7 columns</p>\n",
              "</div>"
            ],
            "text/plain": [
              "                                          name  ...                                   item_description\n",
              "0          MLB Cincinnati Reds T Shirt Size XL  ...                                 No description yet\n",
              "1             Razer BlackWidow Chroma Keyboard  ...  This keyboard is in great condition and works ...\n",
              "2                               AVA-VIV Blouse  ...  Adorable top with a hint of lace and a key hol...\n",
              "3                        Leather Horse Statues  ...  New with tags. Leather horses. Retail for [rm]...\n",
              "4                         24K GOLD plated rose  ...          Complete with certificate of authenticity\n",
              "...                                        ...  ...                                                ...\n",
              "1482530             Free People Inspired Dress  ...  Lace, says size small but fits medium perfectl...\n",
              "1482531          Little mermaid handmade dress  ...   Little mermaid handmade dress never worn size 2t\n",
              "1482532  21 day fix containers and eating plan  ...          Used once or twice, still in great shape.\n",
              "1482533                 World markets lanterns  ...  There is 2 of each one that you see! So 2 red ...\n",
              "1482534          Brand new lux de ville wallet  ...  New with tag, red with sparkle. Firm price, no...\n",
              "\n",
              "[1482535 rows x 7 columns]"
            ]
          },
          "metadata": {
            "tags": []
          },
          "execution_count": 12
        }
      ]
    },
    {
      "cell_type": "code",
      "metadata": {
        "colab": {
          "base_uri": "https://localhost:8080/"
        },
        "id": "DmtH5d_GU00z",
        "outputId": "8d21fc04-531a-44a4-8ffb-b8fa4d5c4cec"
      },
      "source": [
        "data.dtypes"
      ],
      "execution_count": 13,
      "outputs": [
        {
          "output_type": "execute_result",
          "data": {
            "text/plain": [
              "name                  string\n",
              "item_condition_id      int32\n",
              "category_name         string\n",
              "brand_name            string\n",
              "price                float64\n",
              "shipping               int32\n",
              "item_description      string\n",
              "dtype: object"
            ]
          },
          "metadata": {
            "tags": []
          },
          "execution_count": 13
        }
      ]
    },
    {
      "cell_type": "code",
      "metadata": {
        "colab": {
          "base_uri": "https://localhost:8080/"
        },
        "id": "9TY3K5euCtuA",
        "outputId": "e69dfb68-7004-4c6b-b351-6594e9beacb6"
      },
      "source": [
        "data.shape"
      ],
      "execution_count": 14,
      "outputs": [
        {
          "output_type": "execute_result",
          "data": {
            "text/plain": [
              "(1482535, 7)"
            ]
          },
          "metadata": {
            "tags": []
          },
          "execution_count": 14
        }
      ]
    },
    {
      "cell_type": "code",
      "metadata": {
        "colab": {
          "base_uri": "https://localhost:8080/"
        },
        "id": "rvujMFFXCxL8",
        "outputId": "42c7cbe5-a14f-4b0c-d07e-9ae9764edc6b"
      },
      "source": [
        "for column in data.columns:\n",
        "    print(\"number of null value in {} : {}\".format(column,data[column].isnull().sum()))"
      ],
      "execution_count": 15,
      "outputs": [
        {
          "output_type": "stream",
          "text": [
            "number of null value in name : 0\n",
            "number of null value in item_condition_id : 0\n",
            "number of null value in category_name : 6327\n",
            "number of null value in brand_name : 632682\n",
            "number of null value in price : 0\n",
            "number of null value in shipping : 0\n",
            "number of null value in item_description : 4\n"
          ],
          "name": "stdout"
        }
      ]
    },
    {
      "cell_type": "code",
      "metadata": {
        "colab": {
          "base_uri": "https://localhost:8080/"
        },
        "id": "XtxgmC-LHnmN",
        "outputId": "556be5d5-7cb1-48a3-e84d-8f3cdc92a656"
      },
      "source": [
        "data[\"category_name\"].value_counts()"
      ],
      "execution_count": 16,
      "outputs": [
        {
          "output_type": "execute_result",
          "data": {
            "text/plain": [
              "Women/Athletic Apparel/Pants, Tights, Leggings    60177\n",
              "Women/Tops & Blouses/T-Shirts                     46380\n",
              "Beauty/Makeup/Face                                34335\n",
              "Beauty/Makeup/Lips                                29910\n",
              "Electronics/Video Games & Consoles/Games          26557\n",
              "                                                  ...  \n",
              "Vintage & Collectibles/Book/Decorating                1\n",
              "Handmade/Paper Goods/Pad                              1\n",
              "Handmade/Art/Aceo                                     1\n",
              "Handmade/Accessories/Cozy                             1\n",
              "Handmade/Holidays/New Years                           1\n",
              "Name: category_name, Length: 1287, dtype: Int64"
            ]
          },
          "metadata": {
            "tags": []
          },
          "execution_count": 16
        }
      ]
    },
    {
      "cell_type": "code",
      "metadata": {
        "colab": {
          "base_uri": "https://localhost:8080/"
        },
        "id": "JOYErCoVHnmO",
        "outputId": "2f737661-6dde-43cb-9065-c6e5e67a96bb"
      },
      "source": [
        "data[\"price\"].describe()"
      ],
      "execution_count": 17,
      "outputs": [
        {
          "output_type": "execute_result",
          "data": {
            "text/plain": [
              "count    1.482535e+06\n",
              "mean     2.673752e+01\n",
              "std      3.858607e+01\n",
              "min      0.000000e+00\n",
              "25%      1.000000e+01\n",
              "50%      1.700000e+01\n",
              "75%      2.900000e+01\n",
              "max      2.009000e+03\n",
              "Name: price, dtype: float64"
            ]
          },
          "metadata": {
            "tags": []
          },
          "execution_count": 17
        }
      ]
    },
    {
      "cell_type": "code",
      "metadata": {
        "colab": {
          "base_uri": "https://localhost:8080/"
        },
        "id": "yyUE4a4Jp4E9",
        "outputId": "4daf003c-46e9-4df3-a731-56dafc8f41b6"
      },
      "source": [
        "len(data[data[\"price\"]<5])"
      ],
      "execution_count": 18,
      "outputs": [
        {
          "output_type": "execute_result",
          "data": {
            "text/plain": [
              "35716"
            ]
          },
          "metadata": {
            "tags": []
          },
          "execution_count": 18
        }
      ]
    },
    {
      "cell_type": "code",
      "metadata": {
        "id": "jCbqNKgKp7f2"
      },
      "source": [
        "data=data[data[\"price\"]>=5]"
      ],
      "execution_count": 19,
      "outputs": []
    },
    {
      "cell_type": "code",
      "metadata": {
        "colab": {
          "base_uri": "https://localhost:8080/"
        },
        "id": "jUBsIEJqC0cg",
        "outputId": "d5491923-75f5-499f-d8c9-47939dc73875"
      },
      "source": [
        "data = data[data[\"item_description\"].notna()]\n",
        "data[\"brand_name\"] = data[\"brand_name\"].fillna(value=\"NA\")\n",
        "data[\"category_name\"] = data[\"category_name\"].fillna(value=\"NA\")\n",
        "# see warnings -> inplace?\n",
        "data.shape"
      ],
      "execution_count": 20,
      "outputs": [
        {
          "output_type": "execute_result",
          "data": {
            "text/plain": [
              "(1446815, 7)"
            ]
          },
          "metadata": {
            "tags": []
          },
          "execution_count": 20
        }
      ]
    },
    {
      "cell_type": "code",
      "metadata": {
        "id": "vD-R4RTy3yTO"
      },
      "source": [
        "def flat_list(l):\n",
        "    return  [item for sublist in l for item in sublist]\n",
        "\n",
        "\n",
        "def plot_common_tokens(tokens, title, n=20):\n",
        "    sentences = (list(itertools.chain(tokens)))\n",
        "    flat_sentences = flat_list(sentences)\n",
        "    counts = Counter(flat_sentences)\n",
        "    #print(counts.most_common(30))\n",
        "    common_words = [word[0] for word in counts.most_common(n)]\n",
        "    common_counts = [word[1] for word in counts.most_common(n)]\n",
        "    fig = plt.figure(figsize=(18,6))\n",
        "    sns.barplot(x=common_words, y=common_counts)\n",
        "    plt.title(title)\n",
        "    plt.show()\n"
      ],
      "execution_count": 21,
      "outputs": []
    },
    {
      "cell_type": "code",
      "metadata": {
        "id": "qkd6dXhF3yTO"
      },
      "source": [
        "#plot_common_tokens(data[\"item_description_tokens\"], \"Most Common Tokens from Descriptions\")"
      ],
      "execution_count": 22,
      "outputs": []
    },
    {
      "cell_type": "code",
      "metadata": {
        "colab": {
          "base_uri": "https://localhost:8080/",
          "height": 581
        },
        "id": "FNY29qP2HnmS",
        "outputId": "a009c0f3-0cf6-4b19-818f-729cb3ba961d"
      },
      "source": [
        "data"
      ],
      "execution_count": 23,
      "outputs": [
        {
          "output_type": "execute_result",
          "data": {
            "text/html": [
              "<div>\n",
              "<style scoped>\n",
              "    .dataframe tbody tr th:only-of-type {\n",
              "        vertical-align: middle;\n",
              "    }\n",
              "\n",
              "    .dataframe tbody tr th {\n",
              "        vertical-align: top;\n",
              "    }\n",
              "\n",
              "    .dataframe thead th {\n",
              "        text-align: right;\n",
              "    }\n",
              "</style>\n",
              "<table border=\"1\" class=\"dataframe\">\n",
              "  <thead>\n",
              "    <tr style=\"text-align: right;\">\n",
              "      <th></th>\n",
              "      <th>name</th>\n",
              "      <th>item_condition_id</th>\n",
              "      <th>category_name</th>\n",
              "      <th>brand_name</th>\n",
              "      <th>price</th>\n",
              "      <th>shipping</th>\n",
              "      <th>item_description</th>\n",
              "    </tr>\n",
              "  </thead>\n",
              "  <tbody>\n",
              "    <tr>\n",
              "      <th>0</th>\n",
              "      <td>MLB Cincinnati Reds T Shirt Size XL</td>\n",
              "      <td>3</td>\n",
              "      <td>Men/Tops/T-shirts</td>\n",
              "      <td>NA</td>\n",
              "      <td>10.0</td>\n",
              "      <td>1</td>\n",
              "      <td>No description yet</td>\n",
              "    </tr>\n",
              "    <tr>\n",
              "      <th>1</th>\n",
              "      <td>Razer BlackWidow Chroma Keyboard</td>\n",
              "      <td>3</td>\n",
              "      <td>Electronics/Computers &amp; Tablets/Components &amp; P...</td>\n",
              "      <td>Razer</td>\n",
              "      <td>52.0</td>\n",
              "      <td>0</td>\n",
              "      <td>This keyboard is in great condition and works ...</td>\n",
              "    </tr>\n",
              "    <tr>\n",
              "      <th>2</th>\n",
              "      <td>AVA-VIV Blouse</td>\n",
              "      <td>1</td>\n",
              "      <td>Women/Tops &amp; Blouses/Blouse</td>\n",
              "      <td>Target</td>\n",
              "      <td>10.0</td>\n",
              "      <td>1</td>\n",
              "      <td>Adorable top with a hint of lace and a key hol...</td>\n",
              "    </tr>\n",
              "    <tr>\n",
              "      <th>3</th>\n",
              "      <td>Leather Horse Statues</td>\n",
              "      <td>1</td>\n",
              "      <td>Home/Home Décor/Home Décor Accents</td>\n",
              "      <td>NA</td>\n",
              "      <td>35.0</td>\n",
              "      <td>1</td>\n",
              "      <td>New with tags. Leather horses. Retail for [rm]...</td>\n",
              "    </tr>\n",
              "    <tr>\n",
              "      <th>4</th>\n",
              "      <td>24K GOLD plated rose</td>\n",
              "      <td>1</td>\n",
              "      <td>Women/Jewelry/Necklaces</td>\n",
              "      <td>NA</td>\n",
              "      <td>44.0</td>\n",
              "      <td>0</td>\n",
              "      <td>Complete with certificate of authenticity</td>\n",
              "    </tr>\n",
              "    <tr>\n",
              "      <th>...</th>\n",
              "      <td>...</td>\n",
              "      <td>...</td>\n",
              "      <td>...</td>\n",
              "      <td>...</td>\n",
              "      <td>...</td>\n",
              "      <td>...</td>\n",
              "      <td>...</td>\n",
              "    </tr>\n",
              "    <tr>\n",
              "      <th>1482530</th>\n",
              "      <td>Free People Inspired Dress</td>\n",
              "      <td>2</td>\n",
              "      <td>Women/Dresses/Mid-Calf</td>\n",
              "      <td>Free People</td>\n",
              "      <td>20.0</td>\n",
              "      <td>1</td>\n",
              "      <td>Lace, says size small but fits medium perfectl...</td>\n",
              "    </tr>\n",
              "    <tr>\n",
              "      <th>1482531</th>\n",
              "      <td>Little mermaid handmade dress</td>\n",
              "      <td>2</td>\n",
              "      <td>Kids/Girls 2T-5T/Dresses</td>\n",
              "      <td>Disney</td>\n",
              "      <td>14.0</td>\n",
              "      <td>0</td>\n",
              "      <td>Little mermaid handmade dress never worn size 2t</td>\n",
              "    </tr>\n",
              "    <tr>\n",
              "      <th>1482532</th>\n",
              "      <td>21 day fix containers and eating plan</td>\n",
              "      <td>2</td>\n",
              "      <td>Sports &amp; Outdoors/Exercise/Fitness accessories</td>\n",
              "      <td>NA</td>\n",
              "      <td>12.0</td>\n",
              "      <td>0</td>\n",
              "      <td>Used once or twice, still in great shape.</td>\n",
              "    </tr>\n",
              "    <tr>\n",
              "      <th>1482533</th>\n",
              "      <td>World markets lanterns</td>\n",
              "      <td>3</td>\n",
              "      <td>Home/Home Décor/Home Décor Accents</td>\n",
              "      <td>NA</td>\n",
              "      <td>45.0</td>\n",
              "      <td>1</td>\n",
              "      <td>There is 2 of each one that you see! So 2 red ...</td>\n",
              "    </tr>\n",
              "    <tr>\n",
              "      <th>1482534</th>\n",
              "      <td>Brand new lux de ville wallet</td>\n",
              "      <td>1</td>\n",
              "      <td>Women/Women's Accessories/Wallets</td>\n",
              "      <td>NA</td>\n",
              "      <td>22.0</td>\n",
              "      <td>0</td>\n",
              "      <td>New with tag, red with sparkle. Firm price, no...</td>\n",
              "    </tr>\n",
              "  </tbody>\n",
              "</table>\n",
              "<p>1446815 rows × 7 columns</p>\n",
              "</div>"
            ],
            "text/plain": [
              "                                          name  ...                                   item_description\n",
              "0          MLB Cincinnati Reds T Shirt Size XL  ...                                 No description yet\n",
              "1             Razer BlackWidow Chroma Keyboard  ...  This keyboard is in great condition and works ...\n",
              "2                               AVA-VIV Blouse  ...  Adorable top with a hint of lace and a key hol...\n",
              "3                        Leather Horse Statues  ...  New with tags. Leather horses. Retail for [rm]...\n",
              "4                         24K GOLD plated rose  ...          Complete with certificate of authenticity\n",
              "...                                        ...  ...                                                ...\n",
              "1482530             Free People Inspired Dress  ...  Lace, says size small but fits medium perfectl...\n",
              "1482531          Little mermaid handmade dress  ...   Little mermaid handmade dress never worn size 2t\n",
              "1482532  21 day fix containers and eating plan  ...          Used once or twice, still in great shape.\n",
              "1482533                 World markets lanterns  ...  There is 2 of each one that you see! So 2 red ...\n",
              "1482534          Brand new lux de ville wallet  ...  New with tag, red with sparkle. Firm price, no...\n",
              "\n",
              "[1446815 rows x 7 columns]"
            ]
          },
          "metadata": {
            "tags": []
          },
          "execution_count": 23
        }
      ]
    },
    {
      "cell_type": "code",
      "metadata": {
        "id": "trBPru1qEK5b"
      },
      "source": [
        "class LabelEncoder:\n",
        "  def __init__(self, unknown = 0, invUnknown = 'unknown'):\n",
        "    self.leDict = {}\n",
        "    self.invDict = {}\n",
        "    self.unknown = unknown\n",
        "    self.invUnknown = invUnknown\n",
        "\n",
        "  def fit(self, data):\n",
        "    vci = pd.value_counts(data).index\n",
        "    self.leDict = dict(zip(vci, range(1, len(vci)+1)))\n",
        "    self.invDict = dict(zip(range(1, len(vci)+1), vci))\n",
        "\n",
        "  def transform1(self, item):\n",
        "    return self.leDict.get(item, self.unknown)\n",
        "\n",
        "  def transform(self, data):\n",
        "    return data.apply(lambda item: self.transform1(item))\n",
        "\n",
        "  def inverse_transform1(self, item):\n",
        "    return self.invDict.get(item, self.invUnknown)\n",
        "\n",
        "  def inverse_transform(self, data):\n",
        "    return data.apply(lambda item: self.inverse_transform1(item))"
      ],
      "execution_count": 182,
      "outputs": []
    },
    {
      "cell_type": "code",
      "metadata": {
        "colab": {
          "base_uri": "https://localhost:8080/"
        },
        "id": "GVJqkpWsaUT6",
        "outputId": "0b997573-c927-44ed-d169-80c5f3a6df5b"
      },
      "source": [
        "list(range(0,6))"
      ],
      "execution_count": 168,
      "outputs": [
        {
          "output_type": "execute_result",
          "data": {
            "text/plain": [
              "[0, 1, 2, 3, 4, 5]"
            ]
          },
          "metadata": {
            "tags": []
          },
          "execution_count": 168
        }
      ]
    },
    {
      "cell_type": "code",
      "metadata": {
        "id": "XO4EL__E3yTS"
      },
      "source": [
        "cat_le = LabelEncoder()\n",
        "cat_le.fit(data[\"category_name\"])\n",
        "\n",
        "data[\"category_name_l\"] = cat_le.transform(data[\"category_name\"])"
      ],
      "execution_count": 25,
      "outputs": []
    },
    {
      "cell_type": "code",
      "metadata": {
        "id": "gfiZte2s3yTS"
      },
      "source": [
        "brand_le = LabelEncoder()\n",
        "brand_le.fit(data[\"brand_name\"])\n",
        "\n",
        "data[\"brand_name_l\"] = brand_le.transform(data[\"brand_name\"])"
      ],
      "execution_count": 26,
      "outputs": []
    },
    {
      "cell_type": "code",
      "metadata": {
        "colab": {
          "base_uri": "https://localhost:8080/",
          "height": 351
        },
        "id": "lkGhq22YJJGf",
        "outputId": "6ec11394-762c-4398-cb4f-2682b1f9ae5c"
      },
      "source": [
        "data[\"item_description\"]=data[\"item_description\"].str.lower()\r\n",
        "data[\"name\"]=data[\"name\"].str.lower()\r\n",
        "data.head()"
      ],
      "execution_count": 28,
      "outputs": [
        {
          "output_type": "execute_result",
          "data": {
            "text/html": [
              "<div>\n",
              "<style scoped>\n",
              "    .dataframe tbody tr th:only-of-type {\n",
              "        vertical-align: middle;\n",
              "    }\n",
              "\n",
              "    .dataframe tbody tr th {\n",
              "        vertical-align: top;\n",
              "    }\n",
              "\n",
              "    .dataframe thead th {\n",
              "        text-align: right;\n",
              "    }\n",
              "</style>\n",
              "<table border=\"1\" class=\"dataframe\">\n",
              "  <thead>\n",
              "    <tr style=\"text-align: right;\">\n",
              "      <th></th>\n",
              "      <th>name</th>\n",
              "      <th>item_condition_id</th>\n",
              "      <th>category_name</th>\n",
              "      <th>brand_name</th>\n",
              "      <th>price</th>\n",
              "      <th>shipping</th>\n",
              "      <th>item_description</th>\n",
              "      <th>category_name_l</th>\n",
              "      <th>brand_name_l</th>\n",
              "    </tr>\n",
              "  </thead>\n",
              "  <tbody>\n",
              "    <tr>\n",
              "      <th>0</th>\n",
              "      <td>mlb cincinnati reds t shirt size xl</td>\n",
              "      <td>3</td>\n",
              "      <td>Men/Tops/T-shirts</td>\n",
              "      <td>NA</td>\n",
              "      <td>10.0</td>\n",
              "      <td>1</td>\n",
              "      <td>no description yet</td>\n",
              "      <td>19</td>\n",
              "      <td>1</td>\n",
              "    </tr>\n",
              "    <tr>\n",
              "      <th>1</th>\n",
              "      <td>razer blackwidow chroma keyboard</td>\n",
              "      <td>3</td>\n",
              "      <td>Electronics/Computers &amp; Tablets/Components &amp; P...</td>\n",
              "      <td>Razer</td>\n",
              "      <td>52.0</td>\n",
              "      <td>0</td>\n",
              "      <td>this keyboard is in great condition and works ...</td>\n",
              "      <td>242</td>\n",
              "      <td>581</td>\n",
              "    </tr>\n",
              "    <tr>\n",
              "      <th>2</th>\n",
              "      <td>ava-viv blouse</td>\n",
              "      <td>1</td>\n",
              "      <td>Women/Tops &amp; Blouses/Blouse</td>\n",
              "      <td>Target</td>\n",
              "      <td>10.0</td>\n",
              "      <td>1</td>\n",
              "      <td>adorable top with a hint of lace and a key hol...</td>\n",
              "      <td>10</td>\n",
              "      <td>85</td>\n",
              "    </tr>\n",
              "    <tr>\n",
              "      <th>3</th>\n",
              "      <td>leather horse statues</td>\n",
              "      <td>1</td>\n",
              "      <td>Home/Home Décor/Home Décor Accents</td>\n",
              "      <td>NA</td>\n",
              "      <td>35.0</td>\n",
              "      <td>1</td>\n",
              "      <td>new with tags. leather horses. retail for [rm]...</td>\n",
              "      <td>28</td>\n",
              "      <td>1</td>\n",
              "    </tr>\n",
              "    <tr>\n",
              "      <th>4</th>\n",
              "      <td>24k gold plated rose</td>\n",
              "      <td>1</td>\n",
              "      <td>Women/Jewelry/Necklaces</td>\n",
              "      <td>NA</td>\n",
              "      <td>44.0</td>\n",
              "      <td>0</td>\n",
              "      <td>complete with certificate of authenticity</td>\n",
              "      <td>16</td>\n",
              "      <td>1</td>\n",
              "    </tr>\n",
              "  </tbody>\n",
              "</table>\n",
              "</div>"
            ],
            "text/plain": [
              "                                  name  ...  brand_name_l\n",
              "0  mlb cincinnati reds t shirt size xl  ...             1\n",
              "1     razer blackwidow chroma keyboard  ...           581\n",
              "2                       ava-viv blouse  ...            85\n",
              "3                leather horse statues  ...             1\n",
              "4                 24k gold plated rose  ...             1\n",
              "\n",
              "[5 rows x 9 columns]"
            ]
          },
          "metadata": {
            "tags": []
          },
          "execution_count": 28
        }
      ]
    },
    {
      "cell_type": "code",
      "metadata": {
        "id": "6WynSk_Mdj44"
      },
      "source": [
        "def textCleanup(text):\n",
        "  return ' '.join([word for word in word_tokenize(text) if word not in string.punctuation and word not in stop_words])"
      ],
      "execution_count": 184,
      "outputs": []
    },
    {
      "cell_type": "code",
      "metadata": {
        "colab": {
          "base_uri": "https://localhost:8080/"
        },
        "id": "mStjXXyMC2nS",
        "outputId": "d3503737-1d6d-4755-9eda-fdf64c307a71"
      },
      "source": [
        "data[\"item_description\"] = data[\"item_description\"].apply(textCleanup)\n",
        "data[\"item_description\"].head()"
      ],
      "execution_count": 185,
      "outputs": [
        {
          "output_type": "execute_result",
          "data": {
            "text/plain": [
              "0                                      description yet\n",
              "1    keyboard great condition works like came box p...\n",
              "2    adorable top hint lace key hole back pale pink...\n",
              "3    new tags leather horses retail rm stand foot h...\n",
              "4                    complete certificate authenticity\n",
              "Name: item_description, dtype: object"
            ]
          },
          "metadata": {
            "tags": []
          },
          "execution_count": 185
        }
      ]
    },
    {
      "cell_type": "code",
      "metadata": {
        "colab": {
          "base_uri": "https://localhost:8080/"
        },
        "id": "mj4aYaeGQ78J",
        "outputId": "5d333c92-1972-4310-e167-e6562f85e91d"
      },
      "source": [
        "data[\"name\"] = data[\"name\"].apply(textCleanup)\n",
        "data[\"name\"].head()"
      ],
      "execution_count": 186,
      "outputs": [
        {
          "output_type": "execute_result",
          "data": {
            "text/plain": [
              "0    mlb cincinnati reds shirt size xl\n",
              "1     razer blackwidow chroma keyboard\n",
              "2                       ava-viv blouse\n",
              "3                leather horse statues\n",
              "4                 24k gold plated rose\n",
              "Name: name, dtype: object"
            ]
          },
          "metadata": {
            "tags": []
          },
          "execution_count": 186
        }
      ]
    },
    {
      "cell_type": "code",
      "metadata": {
        "id": "GkS1a6HSHnmV"
      },
      "source": [
        "tokenizer = Tokenizer(num_words=5000)\n",
        "\n",
        "texts = np.hstack([data[\"item_description\"], data[\"name\"]])\n",
        "tokenizer.fit_on_texts(texts)\n",
        "\n",
        "data[\"item_description_t\"]=tokenizer.texts_to_sequences(data[\"item_description\"])\n",
        "data[\"name_t\"]=tokenizer.texts_to_sequences(data[\"name\"])"
      ],
      "execution_count": 29,
      "outputs": []
    },
    {
      "cell_type": "code",
      "metadata": {
        "colab": {
          "base_uri": "https://localhost:8080/",
          "height": 818
        },
        "id": "yoWprujJHnmW",
        "outputId": "f3741fcd-7ee0-4a01-89fd-6641d814a2f0"
      },
      "source": [
        "data"
      ],
      "execution_count": 187,
      "outputs": [
        {
          "output_type": "execute_result",
          "data": {
            "text/html": [
              "<div>\n",
              "<style scoped>\n",
              "    .dataframe tbody tr th:only-of-type {\n",
              "        vertical-align: middle;\n",
              "    }\n",
              "\n",
              "    .dataframe tbody tr th {\n",
              "        vertical-align: top;\n",
              "    }\n",
              "\n",
              "    .dataframe thead th {\n",
              "        text-align: right;\n",
              "    }\n",
              "</style>\n",
              "<table border=\"1\" class=\"dataframe\">\n",
              "  <thead>\n",
              "    <tr style=\"text-align: right;\">\n",
              "      <th></th>\n",
              "      <th>name</th>\n",
              "      <th>item_condition_id</th>\n",
              "      <th>category_name</th>\n",
              "      <th>brand_name</th>\n",
              "      <th>price</th>\n",
              "      <th>shipping</th>\n",
              "      <th>item_description</th>\n",
              "      <th>category_name_l</th>\n",
              "      <th>brand_name_l</th>\n",
              "      <th>item_description_t</th>\n",
              "      <th>name_t</th>\n",
              "    </tr>\n",
              "  </thead>\n",
              "  <tbody>\n",
              "    <tr>\n",
              "      <th>0</th>\n",
              "      <td>mlb cincinnati reds shirt size xl</td>\n",
              "      <td>3</td>\n",
              "      <td>Men/Tops/T-shirts</td>\n",
              "      <td>NA</td>\n",
              "      <td>10.0</td>\n",
              "      <td>1</td>\n",
              "      <td>description yet</td>\n",
              "      <td>19</td>\n",
              "      <td>1</td>\n",
              "      <td>[]</td>\n",
              "      <td>[mlb, cincinnati, reds, shirt, size, xl]</td>\n",
              "    </tr>\n",
              "    <tr>\n",
              "      <th>1</th>\n",
              "      <td>razer blackwidow chroma keyboard</td>\n",
              "      <td>3</td>\n",
              "      <td>Electronics/Computers &amp; Tablets/Components &amp; P...</td>\n",
              "      <td>Razer</td>\n",
              "      <td>52.0</td>\n",
              "      <td>0</td>\n",
              "      <td>keyboard great condition works like came box p...</td>\n",
              "      <td>242</td>\n",
              "      <td>581</td>\n",
              "      <td>[]</td>\n",
              "      <td>[razer, blackwidow, chroma, keyboard]</td>\n",
              "    </tr>\n",
              "    <tr>\n",
              "      <th>2</th>\n",
              "      <td>ava-viv blouse</td>\n",
              "      <td>1</td>\n",
              "      <td>Women/Tops &amp; Blouses/Blouse</td>\n",
              "      <td>Target</td>\n",
              "      <td>10.0</td>\n",
              "      <td>1</td>\n",
              "      <td>adorable top hint lace key hole back pale pink...</td>\n",
              "      <td>10</td>\n",
              "      <td>85</td>\n",
              "      <td>[]</td>\n",
              "      <td>[ava-viv, blouse]</td>\n",
              "    </tr>\n",
              "    <tr>\n",
              "      <th>3</th>\n",
              "      <td>leather horse statues</td>\n",
              "      <td>1</td>\n",
              "      <td>Home/Home Décor/Home Décor Accents</td>\n",
              "      <td>NA</td>\n",
              "      <td>35.0</td>\n",
              "      <td>1</td>\n",
              "      <td>new tags leather horses retail rm stand foot h...</td>\n",
              "      <td>28</td>\n",
              "      <td>1</td>\n",
              "      <td>[]</td>\n",
              "      <td>[leather, horse, statues]</td>\n",
              "    </tr>\n",
              "    <tr>\n",
              "      <th>4</th>\n",
              "      <td>24k gold plated rose</td>\n",
              "      <td>1</td>\n",
              "      <td>Women/Jewelry/Necklaces</td>\n",
              "      <td>NA</td>\n",
              "      <td>44.0</td>\n",
              "      <td>0</td>\n",
              "      <td>complete certificate authenticity</td>\n",
              "      <td>16</td>\n",
              "      <td>1</td>\n",
              "      <td>[]</td>\n",
              "      <td>[24k, gold, plated, rose]</td>\n",
              "    </tr>\n",
              "    <tr>\n",
              "      <th>...</th>\n",
              "      <td>...</td>\n",
              "      <td>...</td>\n",
              "      <td>...</td>\n",
              "      <td>...</td>\n",
              "      <td>...</td>\n",
              "      <td>...</td>\n",
              "      <td>...</td>\n",
              "      <td>...</td>\n",
              "      <td>...</td>\n",
              "      <td>...</td>\n",
              "      <td>...</td>\n",
              "    </tr>\n",
              "    <tr>\n",
              "      <th>1482530</th>\n",
              "      <td>free people inspired dress</td>\n",
              "      <td>2</td>\n",
              "      <td>Women/Dresses/Mid-Calf</td>\n",
              "      <td>Free People</td>\n",
              "      <td>20.0</td>\n",
              "      <td>1</td>\n",
              "      <td>lace says size small fits medium perfectly nev...</td>\n",
              "      <td>243</td>\n",
              "      <td>46</td>\n",
              "      <td>[]</td>\n",
              "      <td>NaN</td>\n",
              "    </tr>\n",
              "    <tr>\n",
              "      <th>1482531</th>\n",
              "      <td>little mermaid handmade dress</td>\n",
              "      <td>2</td>\n",
              "      <td>Kids/Girls 2T-5T/Dresses</td>\n",
              "      <td>Disney</td>\n",
              "      <td>14.0</td>\n",
              "      <td>0</td>\n",
              "      <td>little mermaid handmade dress never worn size 2t</td>\n",
              "      <td>122</td>\n",
              "      <td>16</td>\n",
              "      <td>[]</td>\n",
              "      <td>NaN</td>\n",
              "    </tr>\n",
              "    <tr>\n",
              "      <th>1482532</th>\n",
              "      <td>21 day fix containers eating plan</td>\n",
              "      <td>2</td>\n",
              "      <td>Sports &amp; Outdoors/Exercise/Fitness accessories</td>\n",
              "      <td>NA</td>\n",
              "      <td>12.0</td>\n",
              "      <td>0</td>\n",
              "      <td>used twice still great shape</td>\n",
              "      <td>86</td>\n",
              "      <td>1</td>\n",
              "      <td>[]</td>\n",
              "      <td>NaN</td>\n",
              "    </tr>\n",
              "    <tr>\n",
              "      <th>1482533</th>\n",
              "      <td>world markets lanterns</td>\n",
              "      <td>3</td>\n",
              "      <td>Home/Home Décor/Home Décor Accents</td>\n",
              "      <td>NA</td>\n",
              "      <td>45.0</td>\n",
              "      <td>1</td>\n",
              "      <td>2 one see 2 red 2 orange 2 big red orange ones...</td>\n",
              "      <td>28</td>\n",
              "      <td>1</td>\n",
              "      <td>[]</td>\n",
              "      <td>NaN</td>\n",
              "    </tr>\n",
              "    <tr>\n",
              "      <th>1482534</th>\n",
              "      <td>brand new lux de ville wallet</td>\n",
              "      <td>1</td>\n",
              "      <td>Women/Women's Accessories/Wallets</td>\n",
              "      <td>NA</td>\n",
              "      <td>22.0</td>\n",
              "      <td>0</td>\n",
              "      <td>new tag red sparkle firm price free shipping</td>\n",
              "      <td>26</td>\n",
              "      <td>1</td>\n",
              "      <td>[]</td>\n",
              "      <td>NaN</td>\n",
              "    </tr>\n",
              "  </tbody>\n",
              "</table>\n",
              "<p>1446815 rows × 11 columns</p>\n",
              "</div>"
            ],
            "text/plain": [
              "                                      name  ...                                    name_t\n",
              "0        mlb cincinnati reds shirt size xl  ...  [mlb, cincinnati, reds, shirt, size, xl]\n",
              "1         razer blackwidow chroma keyboard  ...     [razer, blackwidow, chroma, keyboard]\n",
              "2                           ava-viv blouse  ...                         [ava-viv, blouse]\n",
              "3                    leather horse statues  ...                 [leather, horse, statues]\n",
              "4                     24k gold plated rose  ...                 [24k, gold, plated, rose]\n",
              "...                                    ...  ...                                       ...\n",
              "1482530         free people inspired dress  ...                                       NaN\n",
              "1482531      little mermaid handmade dress  ...                                       NaN\n",
              "1482532  21 day fix containers eating plan  ...                                       NaN\n",
              "1482533             world markets lanterns  ...                                       NaN\n",
              "1482534      brand new lux de ville wallet  ...                                       NaN\n",
              "\n",
              "[1446815 rows x 11 columns]"
            ]
          },
          "metadata": {
            "tags": []
          },
          "execution_count": 187
        }
      ]
    },
    {
      "cell_type": "code",
      "metadata": {
        "colab": {
          "base_uri": "https://localhost:8080/",
          "height": 414
        },
        "id": "UPSDnO6uHnmX",
        "outputId": "dd20ffa4-686b-4f99-c61d-67181d040e65"
      },
      "source": [
        "final_data=data[[\"item_condition_id\",\"shipping\",\"category_name_l\",\"brand_name_l\", \"item_description_t\", \"name_t\", \"price\"]]\n",
        "final_data"
      ],
      "execution_count": 30,
      "outputs": [
        {
          "output_type": "execute_result",
          "data": {
            "text/html": [
              "<div>\n",
              "<style scoped>\n",
              "    .dataframe tbody tr th:only-of-type {\n",
              "        vertical-align: middle;\n",
              "    }\n",
              "\n",
              "    .dataframe tbody tr th {\n",
              "        vertical-align: top;\n",
              "    }\n",
              "\n",
              "    .dataframe thead th {\n",
              "        text-align: right;\n",
              "    }\n",
              "</style>\n",
              "<table border=\"1\" class=\"dataframe\">\n",
              "  <thead>\n",
              "    <tr style=\"text-align: right;\">\n",
              "      <th></th>\n",
              "      <th>item_condition_id</th>\n",
              "      <th>shipping</th>\n",
              "      <th>category_name_l</th>\n",
              "      <th>brand_name_l</th>\n",
              "      <th>item_description_t</th>\n",
              "      <th>name_t</th>\n",
              "      <th>price</th>\n",
              "    </tr>\n",
              "  </thead>\n",
              "  <tbody>\n",
              "    <tr>\n",
              "      <th>0</th>\n",
              "      <td>3</td>\n",
              "      <td>1</td>\n",
              "      <td>19</td>\n",
              "      <td>1</td>\n",
              "      <td>[12, 71, 82]</td>\n",
              "      <td>[3843, 206, 83, 6, 154]</td>\n",
              "      <td>10.0</td>\n",
              "    </tr>\n",
              "    <tr>\n",
              "      <th>1</th>\n",
              "      <td>3</td>\n",
              "      <td>0</td>\n",
              "      <td>242</td>\n",
              "      <td>581</td>\n",
              "      <td>[29, 2593, 10, 7, 39, 17, 1, 205, 51, 19, 1115...</td>\n",
              "      <td>[2593]</td>\n",
              "      <td>52.0</td>\n",
              "    </tr>\n",
              "    <tr>\n",
              "      <th>2</th>\n",
              "      <td>1</td>\n",
              "      <td>1</td>\n",
              "      <td>10</td>\n",
              "      <td>85</td>\n",
              "      <td>[597, 60, 8, 5, 11, 193, 1, 5, 893, 1304, 7, 2...</td>\n",
              "      <td>[663]</td>\n",
              "      <td>10.0</td>\n",
              "    </tr>\n",
              "    <tr>\n",
              "      <th>3</th>\n",
              "      <td>1</td>\n",
              "      <td>1</td>\n",
              "      <td>28</td>\n",
              "      <td>1</td>\n",
              "      <td>[4, 8, 61, 176, 227, 3, 22, 171, 1064, 226, 5,...</td>\n",
              "      <td>[176, 2603]</td>\n",
              "      <td>35.0</td>\n",
              "    </tr>\n",
              "    <tr>\n",
              "      <th>4</th>\n",
              "      <td>1</td>\n",
              "      <td>0</td>\n",
              "      <td>16</td>\n",
              "      <td>1</td>\n",
              "      <td>[809, 8, 11, 1953]</td>\n",
              "      <td>[4845, 106, 1083, 284]</td>\n",
              "      <td>44.0</td>\n",
              "    </tr>\n",
              "    <tr>\n",
              "      <th>...</th>\n",
              "      <td>...</td>\n",
              "      <td>...</td>\n",
              "      <td>...</td>\n",
              "      <td>...</td>\n",
              "      <td>...</td>\n",
              "      <td>...</td>\n",
              "      <td>...</td>\n",
              "    </tr>\n",
              "    <tr>\n",
              "      <th>1482530</th>\n",
              "      <td>2</td>\n",
              "      <td>1</td>\n",
              "      <td>243</td>\n",
              "      <td>46</td>\n",
              "      <td>[193, 684, 6, 44, 38, 160, 66, 703, 164, 36, 3...</td>\n",
              "      <td>[13, 570, 1683, 80]</td>\n",
              "      <td>20.0</td>\n",
              "    </tr>\n",
              "    <tr>\n",
              "      <th>1482531</th>\n",
              "      <td>2</td>\n",
              "      <td>0</td>\n",
              "      <td>122</td>\n",
              "      <td>16</td>\n",
              "      <td>[156, 1327, 754, 80, 36, 30, 6, 990]</td>\n",
              "      <td>[156, 1327, 754, 80]</td>\n",
              "      <td>14.0</td>\n",
              "    </tr>\n",
              "    <tr>\n",
              "      <th>1482532</th>\n",
              "      <td>2</td>\n",
              "      <td>0</td>\n",
              "      <td>86</td>\n",
              "      <td>1</td>\n",
              "      <td>[31, 97, 23, 350, 122, 7, 39, 382]</td>\n",
              "      <td>[291, 117, 1517, 2498, 1, 3665]</td>\n",
              "      <td>12.0</td>\n",
              "    </tr>\n",
              "    <tr>\n",
              "      <th>1482533</th>\n",
              "      <td>3</td>\n",
              "      <td>1</td>\n",
              "      <td>28</td>\n",
              "      <td>1</td>\n",
              "      <td>[239, 10, 21, 11, 171, 46, 76, 18, 137, 78, 21...</td>\n",
              "      <td>[1354]</td>\n",
              "      <td>45.0</td>\n",
              "    </tr>\n",
              "    <tr>\n",
              "      <th>1482534</th>\n",
              "      <td>1</td>\n",
              "      <td>0</td>\n",
              "      <td>26</td>\n",
              "      <td>1</td>\n",
              "      <td>[4, 8, 186, 118, 8, 1627, 74, 40, 12, 13, 20]</td>\n",
              "      <td>[16, 4, 1176, 293]</td>\n",
              "      <td>22.0</td>\n",
              "    </tr>\n",
              "  </tbody>\n",
              "</table>\n",
              "<p>1446815 rows × 7 columns</p>\n",
              "</div>"
            ],
            "text/plain": [
              "         item_condition_id  shipping  ...                           name_t  price\n",
              "0                        3         1  ...          [3843, 206, 83, 6, 154]   10.0\n",
              "1                        3         0  ...                           [2593]   52.0\n",
              "2                        1         1  ...                            [663]   10.0\n",
              "3                        1         1  ...                      [176, 2603]   35.0\n",
              "4                        1         0  ...           [4845, 106, 1083, 284]   44.0\n",
              "...                    ...       ...  ...                              ...    ...\n",
              "1482530                  2         1  ...              [13, 570, 1683, 80]   20.0\n",
              "1482531                  2         0  ...             [156, 1327, 754, 80]   14.0\n",
              "1482532                  2         0  ...  [291, 117, 1517, 2498, 1, 3665]   12.0\n",
              "1482533                  3         1  ...                           [1354]   45.0\n",
              "1482534                  1         0  ...               [16, 4, 1176, 293]   22.0\n",
              "\n",
              "[1446815 rows x 7 columns]"
            ]
          },
          "metadata": {
            "tags": []
          },
          "execution_count": 30
        }
      ]
    },
    {
      "cell_type": "code",
      "metadata": {
        "id": "siBwn0ntHnmY"
      },
      "source": [
        "train, validation = train_test_split(final_data, test_size=0.2, random_state=1000)"
      ],
      "execution_count": 31,
      "outputs": []
    },
    {
      "cell_type": "code",
      "metadata": {
        "id": "BZkjRq5d3yTP",
        "colab": {
          "base_uri": "https://localhost:8080/",
          "height": 35
        },
        "outputId": "aa8bb508-c160-4388-d57d-7dd0f2ae563c"
      },
      "source": [
        "'''X = data[['name', 'item_condition_id', 'category_name', 'brand_name',\n",
        "       'shipping','item_description']]\n",
        "y = data['price']'''"
      ],
      "execution_count": 32,
      "outputs": [
        {
          "output_type": "execute_result",
          "data": {
            "application/vnd.google.colaboratory.intrinsic+json": {
              "type": "string"
            },
            "text/plain": [
              "\"X = data[['name', 'item_condition_id', 'category_name', 'brand_name',\\n       'shipping','item_description']]\\ny = data['price']\""
            ]
          },
          "metadata": {
            "tags": []
          },
          "execution_count": 32
        }
      ]
    },
    {
      "cell_type": "code",
      "metadata": {
        "id": "_CJ0g0Ou3yTP",
        "colab": {
          "base_uri": "https://localhost:8080/",
          "height": 52
        },
        "outputId": "f646580e-d947-4c77-8c39-59a8e5f5275a"
      },
      "source": [
        "'''X_train, X_test, y_train, y_test = train_test_split(X, y, test_size=0.25, random_state=1000)\n",
        "X_train, X_validation, y_train, y_validation = train_test_split(X_train, y_train, test_size=0.2, random_state=1000)'''"
      ],
      "execution_count": 33,
      "outputs": [
        {
          "output_type": "execute_result",
          "data": {
            "application/vnd.google.colaboratory.intrinsic+json": {
              "type": "string"
            },
            "text/plain": [
              "'X_train, X_test, y_train, y_test = train_test_split(X, y, test_size=0.25, random_state=1000)\\nX_train, X_validation, y_train, y_validation = train_test_split(X_train, y_train, test_size=0.2, random_state=1000)'"
            ]
          },
          "metadata": {
            "tags": []
          },
          "execution_count": 33
        }
      ]
    },
    {
      "cell_type": "code",
      "metadata": {
        "id": "GBwuL7ah3yTQ"
      },
      "source": [
        "#tokenizers = {}"
      ],
      "execution_count": 34,
      "outputs": []
    },
    {
      "cell_type": "code",
      "metadata": {
        "id": "lg4CyT1Z3yTQ"
      },
      "source": [
        "#X_train[\"item_description_t\"], tokenizers[\"item_description\"] = getTokens(X_train[\"item_description\"])\n",
        "#X_train[\"name_t\"], tokenizers[\"name\"] = getTokens(X_train[\"name\"])"
      ],
      "execution_count": 35,
      "outputs": []
    },
    {
      "cell_type": "code",
      "metadata": {
        "id": "gHbIyMAi8_Wl"
      },
      "source": [
        "#X_validation[\"item_description_t\"], _ = getTokens(X_validation[\"item_description\"], tokenizer=tokenizers[\"item_description\"])\n",
        "#X_validation[\"name_t\"], _ = getTokens(X_validation[\"name\"], tokenizer=tokenizers[\"name\"])"
      ],
      "execution_count": 36,
      "outputs": []
    },
    {
      "cell_type": "code",
      "metadata": {
        "id": "0Lc7bahI3yTQ"
      },
      "source": [
        "#tokenizers"
      ],
      "execution_count": 37,
      "outputs": []
    },
    {
      "cell_type": "code",
      "metadata": {
        "id": "-4IHUS1O3yTR"
      },
      "source": [
        "#X_train[\"item_description_t\"]"
      ],
      "execution_count": 38,
      "outputs": []
    },
    {
      "cell_type": "code",
      "metadata": {
        "id": "b81R6-EsKsmF"
      },
      "source": [
        "#X_validation[\"category_name_l\"] = cat_le.transform(X_validation[\"category_name\"])"
      ],
      "execution_count": 39,
      "outputs": []
    },
    {
      "cell_type": "code",
      "metadata": {
        "id": "H-zi4cpSK1kA"
      },
      "source": [
        "#X_validation[\"brand_name_l\"] = brand_le.transform(X_validation[\"brand_name\"])"
      ],
      "execution_count": 40,
      "outputs": []
    },
    {
      "cell_type": "code",
      "metadata": {
        "id": "I8J8tdJ33yTS"
      },
      "source": [
        "#len(tokenizers[\"item_description\"].word_index)"
      ],
      "execution_count": 41,
      "outputs": []
    },
    {
      "cell_type": "code",
      "metadata": {
        "id": "AUGQ6wIZ3yTS"
      },
      "source": [
        "# unknown values !!! now -> crash"
      ],
      "execution_count": 42,
      "outputs": []
    },
    {
      "cell_type": "code",
      "metadata": {
        "id": "WdMZOVTh3yTT"
      },
      "source": [
        "#X_train.loc[995196, [\"name\", \"name_t\"]]"
      ],
      "execution_count": 43,
      "outputs": []
    },
    {
      "cell_type": "code",
      "metadata": {
        "id": "SG-oJkvN3yTU"
      },
      "source": [
        "#X_train.head()"
      ],
      "execution_count": 44,
      "outputs": []
    },
    {
      "cell_type": "code",
      "metadata": {
        "colab": {
          "base_uri": "https://localhost:8080/"
        },
        "id": "5W0A95PQEDb_",
        "outputId": "1db341c3-d83c-49a0-c4eb-b867c3a9b25a"
      },
      "source": [
        "'''desc_vocab_size = len(t['item_description'].word_index) + 1\n",
        "print(desc_vocab_size)\n",
        "\n",
        "name_vocab_size = len(t['name'].word_index) + 1\n",
        "print(name_vocab_size)'''\n",
        "vocab_size= len(tokenizer.word_index)+1\n",
        "print(vocab_size)"
      ],
      "execution_count": 45,
      "outputs": [
        {
          "output_type": "stream",
          "text": [
            "255431\n"
          ],
          "name": "stdout"
        }
      ]
    },
    {
      "cell_type": "code",
      "metadata": {
        "id": "fTMf850Y3yTU"
      },
      "source": [
        "#X_train[\"item_description_t\"]"
      ],
      "execution_count": 46,
      "outputs": []
    },
    {
      "cell_type": "code",
      "metadata": {
        "id": "wGmnn5zJq3uK"
      },
      "source": [
        "def lengthCumDistribution(data, threshold=0.8):\n",
        "  lengths = data.apply(lambda x: len(x))\n",
        "  lengthsHist = lengths.hist\n",
        "  lengthsFreq = lengths.value_counts().sort_index()\n",
        "  lengthsFreqNormalized = lengthsFreq / sum(lengthsFreq)\n",
        "  lengthsCumFreq = lengthsFreqNormalized.cumsum()\n",
        "\n",
        "  index = lengthsCumFreq.where(lengthsCumFreq >= threshold).first_valid_index()\n",
        "\n",
        "  cumPlot = lengthsCumFreq.plot\n",
        "\n",
        "  return index, lengthsCumFreq, cumPlot, lengthsHist"
      ],
      "execution_count": 47,
      "outputs": []
    },
    {
      "cell_type": "code",
      "metadata": {
        "id": "ffJDQoivrt4s"
      },
      "source": [
        "#name_length_max, name_length_distr, name_length_dplot, name_length_hist = lengthCumDistribution(X_train[\"name_t\"])\n",
        "#print('name length max', name_length_max)\n",
        "#name_length_dplot()"
      ],
      "execution_count": 52,
      "outputs": []
    },
    {
      "cell_type": "code",
      "metadata": {
        "id": "BRSiAJ7uuP58"
      },
      "source": [
        "#name_length_hist()"
      ],
      "execution_count": 53,
      "outputs": []
    },
    {
      "cell_type": "code",
      "metadata": {
        "id": "l_mrckzhuEBK"
      },
      "source": [
        "#desc_length_max, desc_length_distr, desc_length_dplot, desc_length_hist = lengthCumDistribution(X_train[\"item_description_t\"])\n",
        "#print('name length max', desc_length_max)\n",
        "#desc_length_dplot()"
      ],
      "execution_count": 54,
      "outputs": []
    },
    {
      "cell_type": "code",
      "metadata": {
        "id": "V7hbua5bsM9C"
      },
      "source": [
        "#desc_length_hist()"
      ],
      "execution_count": 55,
      "outputs": []
    },
    {
      "cell_type": "code",
      "metadata": {
        "colab": {
          "base_uri": "https://localhost:8080/",
          "height": 414
        },
        "id": "cVKaHBR0QPgs",
        "outputId": "6c7ed2cb-8f54-44bb-ae18-df89c1052467"
      },
      "source": [
        "train[[\"item_description_t\",\"name_t\"]]"
      ],
      "execution_count": 56,
      "outputs": [
        {
          "output_type": "execute_result",
          "data": {
            "text/html": [
              "<div>\n",
              "<style scoped>\n",
              "    .dataframe tbody tr th:only-of-type {\n",
              "        vertical-align: middle;\n",
              "    }\n",
              "\n",
              "    .dataframe tbody tr th {\n",
              "        vertical-align: top;\n",
              "    }\n",
              "\n",
              "    .dataframe thead th {\n",
              "        text-align: right;\n",
              "    }\n",
              "</style>\n",
              "<table border=\"1\" class=\"dataframe\">\n",
              "  <thead>\n",
              "    <tr style=\"text-align: right;\">\n",
              "      <th></th>\n",
              "      <th>item_description_t</th>\n",
              "      <th>name_t</th>\n",
              "    </tr>\n",
              "  </thead>\n",
              "  <tbody>\n",
              "    <tr>\n",
              "      <th>233645</th>\n",
              "      <td>[31, 77, 617, 400, 10, 2522, 784, 5, 400, 1839...</td>\n",
              "      <td>[77, 617]</td>\n",
              "    </tr>\n",
              "    <tr>\n",
              "      <th>1419447</th>\n",
              "      <td>[16, 4, 100, 48, 134, 207]</td>\n",
              "      <td>[230, 1968, 3491, 2821, 100]</td>\n",
              "    </tr>\n",
              "    <tr>\n",
              "      <th>935662</th>\n",
              "      <td>[138, 31, 17, 1387, 462, 60, 6, 66, 841, 44, 4...</td>\n",
              "      <td>[462, 60, 66]</td>\n",
              "    </tr>\n",
              "    <tr>\n",
              "      <th>1147679</th>\n",
              "      <td>[36, 31]</td>\n",
              "      <td>[]</td>\n",
              "    </tr>\n",
              "    <tr>\n",
              "      <th>766955</th>\n",
              "      <td>[415, 2, 71, 14, 2, 216, 16, 4, 36, 31]</td>\n",
              "      <td>[212, 1407]</td>\n",
              "    </tr>\n",
              "    <tr>\n",
              "      <th>...</th>\n",
              "      <td>...</td>\n",
              "      <td>...</td>\n",
              "    </tr>\n",
              "    <tr>\n",
              "      <th>19252</th>\n",
              "      <td>[12, 57, 683]</td>\n",
              "      <td>[492, 335, 2354, 1487]</td>\n",
              "    </tr>\n",
              "    <tr>\n",
              "      <th>385322</th>\n",
              "      <td>[855, 803, 408, 8, 140, 529, 11, 109]</td>\n",
              "      <td>[158, 855, 803, 408]</td>\n",
              "    </tr>\n",
              "    <tr>\n",
              "      <th>138223</th>\n",
              "      <td>[126, 25, 6, 66, 111, 187, 2242, 548, 7, 39, 1...</td>\n",
              "      <td>[260, 2242, 548]</td>\n",
              "    </tr>\n",
              "    <tr>\n",
              "      <th>1148150</th>\n",
              "      <td>[324, 31, 77, 45, 119, 89, 8, 5, 184, 390, 19,...</td>\n",
              "      <td>[77, 45, 119, 210, 89]</td>\n",
              "    </tr>\n",
              "    <tr>\n",
              "      <th>1185228</th>\n",
              "      <td>[6, 44, 80, 874, 388, 183, 8, 193, 514, 99, 99...</td>\n",
              "      <td>[874, 388, 80, 96, 173]</td>\n",
              "    </tr>\n",
              "  </tbody>\n",
              "</table>\n",
              "<p>1157452 rows × 2 columns</p>\n",
              "</div>"
            ],
            "text/plain": [
              "                                        item_description_t                        name_t\n",
              "233645   [31, 77, 617, 400, 10, 2522, 784, 5, 400, 1839...                     [77, 617]\n",
              "1419447                         [16, 4, 100, 48, 134, 207]  [230, 1968, 3491, 2821, 100]\n",
              "935662   [138, 31, 17, 1387, 462, 60, 6, 66, 841, 44, 4...                 [462, 60, 66]\n",
              "1147679                                           [36, 31]                            []\n",
              "766955             [415, 2, 71, 14, 2, 216, 16, 4, 36, 31]                   [212, 1407]\n",
              "...                                                    ...                           ...\n",
              "19252                                        [12, 57, 683]        [492, 335, 2354, 1487]\n",
              "385322               [855, 803, 408, 8, 140, 529, 11, 109]          [158, 855, 803, 408]\n",
              "138223   [126, 25, 6, 66, 111, 187, 2242, 548, 7, 39, 1...              [260, 2242, 548]\n",
              "1148150  [324, 31, 77, 45, 119, 89, 8, 5, 184, 390, 19,...        [77, 45, 119, 210, 89]\n",
              "1185228  [6, 44, 80, 874, 388, 183, 8, 193, 514, 99, 99...       [874, 388, 80, 96, 173]\n",
              "\n",
              "[1157452 rows x 2 columns]"
            ]
          },
          "metadata": {
            "tags": []
          },
          "execution_count": 56
        }
      ]
    },
    {
      "cell_type": "code",
      "metadata": {
        "id": "Y40ov-ULHtla"
      },
      "source": [
        "desc_length_max=75\n",
        "inputDesc_train = pad_sequences(train[\"item_description_t\"],\n",
        "                                                  padding='post', maxlen=desc_length_max)"
      ],
      "execution_count": 57,
      "outputs": []
    },
    {
      "cell_type": "code",
      "metadata": {
        "id": "tky1YzlkB8U5"
      },
      "source": [
        "inputDesc_validation = pad_sequences(validation[\"item_description_t\"],\n",
        "                                                  padding='post', maxlen=desc_length_max)"
      ],
      "execution_count": 58,
      "outputs": []
    },
    {
      "cell_type": "code",
      "metadata": {
        "id": "XBZIAP9n3yTU"
      },
      "source": [
        "name_length_max=10\r\n",
        "inputName_train = pad_sequences(train[\"name_t\"], padding='post', maxlen=name_length_max)"
      ],
      "execution_count": 59,
      "outputs": []
    },
    {
      "cell_type": "code",
      "metadata": {
        "id": "1uhYXRYQCCHb"
      },
      "source": [
        "inputName_validation = pad_sequences(validation[\"name_t\"], padding='post', maxlen=name_length_max)"
      ],
      "execution_count": 60,
      "outputs": []
    },
    {
      "cell_type": "code",
      "metadata": {
        "colab": {
          "base_uri": "https://localhost:8080/"
        },
        "id": "nFlm8Qqx-Qab",
        "outputId": "4d57798c-8d93-4d19-d335-c8e0f7f51fee"
      },
      "source": [
        "y_train = train[\"price\"]\r\n",
        "y_train"
      ],
      "execution_count": 61,
      "outputs": [
        {
          "output_type": "execute_result",
          "data": {
            "text/plain": [
              "233645     105.0\n",
              "1419447     16.0\n",
              "935662      26.0\n",
              "1147679     14.0\n",
              "766955       8.0\n",
              "           ...  \n",
              "19252       18.0\n",
              "385322      54.0\n",
              "138223      23.0\n",
              "1148150     14.0\n",
              "1185228     18.0\n",
              "Name: price, Length: 1157452, dtype: float64"
            ]
          },
          "metadata": {
            "tags": []
          },
          "execution_count": 61
        }
      ]
    },
    {
      "cell_type": "code",
      "metadata": {
        "colab": {
          "base_uri": "https://localhost:8080/"
        },
        "id": "IkHBOiRXggJw",
        "outputId": "bfc324d3-f747-4208-8b9e-e602c0757b92"
      },
      "source": [
        "y_validation = validation[\"price\"]\r\n",
        "y_validation"
      ],
      "execution_count": 62,
      "outputs": [
        {
          "output_type": "execute_result",
          "data": {
            "text/plain": [
              "1378349     39.0\n",
              "1186437     14.0\n",
              "1356070    559.0\n",
              "981120      54.0\n",
              "1017699     25.0\n",
              "           ...  \n",
              "933953      10.0\n",
              "1246650     30.0\n",
              "1415233     10.0\n",
              "376025      28.0\n",
              "511335      19.0\n",
              "Name: price, Length: 289363, dtype: float64"
            ]
          },
          "metadata": {
            "tags": []
          },
          "execution_count": 62
        }
      ]
    },
    {
      "cell_type": "code",
      "metadata": {
        "id": "Y9tcLzah_V6w"
      },
      "source": [
        "class MeanStdScaler:\n",
        "  def __init__(self):\n",
        "    self.mean = 0\n",
        "    self.std = 1\n",
        "\n",
        "  def fit(self, data):\n",
        "    self.mean = np.mean(data)\n",
        "    self.std = np.std(data)\n",
        "\n",
        "  def transform(self, data):\n",
        "    return (data - self.mean) / self.std\n",
        "\n",
        "  def inverse_transform(self, data):\n",
        "    return (data * self.std) + self.mean"
      ],
      "execution_count": 63,
      "outputs": []
    },
    {
      "cell_type": "code",
      "metadata": {
        "id": "BeZ-eTtF_qbU",
        "colab": {
          "base_uri": "https://localhost:8080/",
          "height": 35
        },
        "outputId": "89946ee4-cb66-4c5c-9f87-6d0cf3a712bc"
      },
      "source": [
        "'''y_scaler = MeanStdScaler()\n",
        "y_scaler.fit(y_train)'''"
      ],
      "execution_count": 64,
      "outputs": [
        {
          "output_type": "execute_result",
          "data": {
            "application/vnd.google.colaboratory.intrinsic+json": {
              "type": "string"
            },
            "text/plain": [
              "'y_scaler = MeanStdScaler()\\ny_scaler.fit(y_train)'"
            ]
          },
          "metadata": {
            "tags": []
          },
          "execution_count": 64
        }
      ]
    },
    {
      "cell_type": "code",
      "metadata": {
        "id": "U_lQI71yAXd0",
        "colab": {
          "base_uri": "https://localhost:8080/",
          "height": 35
        },
        "outputId": "7a04eaec-04e2-4b96-8fbb-00303d195386"
      },
      "source": [
        "'''y_train = y_scaler.transform(y_train)\n",
        "y_validation = y_scaler.transform(y_validation)'''"
      ],
      "execution_count": 65,
      "outputs": [
        {
          "output_type": "execute_result",
          "data": {
            "application/vnd.google.colaboratory.intrinsic+json": {
              "type": "string"
            },
            "text/plain": [
              "'y_train = y_scaler.transform(y_train)\\ny_validation = y_scaler.transform(y_validation)'"
            ]
          },
          "metadata": {
            "tags": []
          },
          "execution_count": 65
        }
      ]
    },
    {
      "cell_type": "code",
      "metadata": {
        "id": "fIGydn223yTW"
      },
      "source": [
        "#X_train[[\"item_condition_id\", \"category_name_l\", \"brand_name_l\", \"shipping\"]]"
      ],
      "execution_count": 66,
      "outputs": []
    },
    {
      "cell_type": "code",
      "metadata": {
        "colab": {
          "base_uri": "https://localhost:8080/",
          "height": 201
        },
        "id": "HR5og0VNTg-Y",
        "outputId": "6b290227-6874-4634-fe77-92118ec0c8ae"
      },
      "source": [
        "train.head()"
      ],
      "execution_count": 67,
      "outputs": [
        {
          "output_type": "execute_result",
          "data": {
            "text/html": [
              "<div>\n",
              "<style scoped>\n",
              "    .dataframe tbody tr th:only-of-type {\n",
              "        vertical-align: middle;\n",
              "    }\n",
              "\n",
              "    .dataframe tbody tr th {\n",
              "        vertical-align: top;\n",
              "    }\n",
              "\n",
              "    .dataframe thead th {\n",
              "        text-align: right;\n",
              "    }\n",
              "</style>\n",
              "<table border=\"1\" class=\"dataframe\">\n",
              "  <thead>\n",
              "    <tr style=\"text-align: right;\">\n",
              "      <th></th>\n",
              "      <th>item_condition_id</th>\n",
              "      <th>shipping</th>\n",
              "      <th>category_name_l</th>\n",
              "      <th>brand_name_l</th>\n",
              "      <th>item_description_t</th>\n",
              "      <th>name_t</th>\n",
              "      <th>price</th>\n",
              "    </tr>\n",
              "  </thead>\n",
              "  <tbody>\n",
              "    <tr>\n",
              "      <th>233645</th>\n",
              "      <td>4</td>\n",
              "      <td>1</td>\n",
              "      <td>42</td>\n",
              "      <td>6</td>\n",
              "      <td>[31, 77, 617, 400, 10, 2522, 784, 5, 400, 1839...</td>\n",
              "      <td>[77, 617]</td>\n",
              "      <td>105.0</td>\n",
              "    </tr>\n",
              "    <tr>\n",
              "      <th>1419447</th>\n",
              "      <td>1</td>\n",
              "      <td>0</td>\n",
              "      <td>6</td>\n",
              "      <td>1</td>\n",
              "      <td>[16, 4, 100, 48, 134, 207]</td>\n",
              "      <td>[230, 1968, 3491, 2821, 100]</td>\n",
              "      <td>16.0</td>\n",
              "    </tr>\n",
              "    <tr>\n",
              "      <th>935662</th>\n",
              "      <td>3</td>\n",
              "      <td>1</td>\n",
              "      <td>29</td>\n",
              "      <td>623</td>\n",
              "      <td>[138, 31, 17, 1387, 462, 60, 6, 66, 841, 44, 4...</td>\n",
              "      <td>[462, 60, 66]</td>\n",
              "      <td>26.0</td>\n",
              "    </tr>\n",
              "    <tr>\n",
              "      <th>1147679</th>\n",
              "      <td>2</td>\n",
              "      <td>0</td>\n",
              "      <td>78</td>\n",
              "      <td>1</td>\n",
              "      <td>[36, 31]</td>\n",
              "      <td>[]</td>\n",
              "      <td>14.0</td>\n",
              "    </tr>\n",
              "    <tr>\n",
              "      <th>766955</th>\n",
              "      <td>1</td>\n",
              "      <td>1</td>\n",
              "      <td>4</td>\n",
              "      <td>13</td>\n",
              "      <td>[415, 2, 71, 14, 2, 216, 16, 4, 36, 31]</td>\n",
              "      <td>[212, 1407]</td>\n",
              "      <td>8.0</td>\n",
              "    </tr>\n",
              "  </tbody>\n",
              "</table>\n",
              "</div>"
            ],
            "text/plain": [
              "         item_condition_id  shipping  ...                        name_t  price\n",
              "233645                   4         1  ...                     [77, 617]  105.0\n",
              "1419447                  1         0  ...  [230, 1968, 3491, 2821, 100]   16.0\n",
              "935662                   3         1  ...                 [462, 60, 66]   26.0\n",
              "1147679                  2         0  ...                            []   14.0\n",
              "766955                   1         1  ...                   [212, 1407]    8.0\n",
              "\n",
              "[5 rows x 7 columns]"
            ]
          },
          "metadata": {
            "tags": []
          },
          "execution_count": 67
        }
      ]
    },
    {
      "cell_type": "code",
      "metadata": {
        "id": "CZh4kWw73yTY"
      },
      "source": [
        "inputA_train = train[[\"item_condition_id\", \"category_name_l\", \"brand_name_l\", \"shipping\"]].values.astype('int32')"
      ],
      "execution_count": 70,
      "outputs": []
    },
    {
      "cell_type": "code",
      "metadata": {
        "id": "-oTri-SwCHqe"
      },
      "source": [
        "inputA_validation = validation[[\"item_condition_id\", \"category_name_l\", \"brand_name_l\", \"shipping\"]].values.astype('int32')"
      ],
      "execution_count": 71,
      "outputs": []
    },
    {
      "cell_type": "code",
      "metadata": {
        "id": "SLcxUX3ESGDo"
      },
      "source": [
        "msle = tf.keras.losses.MeanSquaredLogarithmicError()\n",
        "mae = tf.keras.losses.MeanAbsoluteError()\n",
        "\n",
        "# sclb stands for scaled back\n",
        "\n",
        "def root_mean_squared_logarithmic_error_sclb(y_true, y_pred):\n",
        "  y_true = y_scaler.inverse_transform(y_true)\n",
        "  y_pred = y_scaler.inverse_transform(y_pred)\n",
        "  return K.sqrt(msle(y_true, y_pred))\n",
        "\n",
        "def mae_sclb(y_true, y_pred):\n",
        "  y_true = y_scaler.inverse_transform(y_true)\n",
        "  y_pred = y_scaler.inverse_transform(y_pred)\n",
        "\n",
        "  return mae(y_true, y_pred)\n"
      ],
      "execution_count": 72,
      "outputs": []
    },
    {
      "cell_type": "code",
      "metadata": {
        "id": "7ZmQxJaT3yTX"
      },
      "source": [
        "name_vocab_size=vocab_size\n",
        "desc_vocab_size=vocab_size\n",
        "def getModel():\n",
        "    inputA = Input(shape=(4,))\n",
        "    #Ad = Dense(4, activation='relu')(inputA)\n",
        "    Ad = inputA\n",
        "    \n",
        "    inputName = Input(shape=(name_length_max,))\n",
        "    Ne = Embedding(input_dim=name_vocab_size, output_dim=8, input_length=name_length_max)(inputName)\n",
        "    Nd = LSTM(8,return_sequences=True)(Ne)\n",
        "    Nd = Flatten()(Nd)\n",
        "\n",
        "    #Nd = Nf\n",
        "    \n",
        "    inputDesc = Input(shape=(desc_length_max,))\n",
        "    De = Embedding(input_dim=desc_vocab_size, output_dim=16, input_length=desc_length_max)(inputDesc)\n",
        "    Dd = LSTM(16,return_sequences=True)(De)\n",
        "    Dd = LSTM(8,return_sequences=True)(Dd)\n",
        "    Dd = Flatten()(Dd)\n",
        "    #Dd = Df\n",
        "    \n",
        "    concat = Concatenate()([Ad, Nd, Dd])\n",
        "\n",
        "    x = Dropout(0.1)(concat)    \n",
        "    x = Dense(32, activation='relu')(x)\n",
        "    x = Dropout(0.1)(x)\n",
        "    x = Dense(16, activation='relu')(x)\n",
        "    \n",
        "    x = Dense(1, activation='linear')(x)\n",
        "    \n",
        "    model = Model(inputs=[inputA, inputName, inputDesc], outputs=x)\n",
        "    \n",
        "    return model\n",
        "    "
      ],
      "execution_count": 73,
      "outputs": []
    },
    {
      "cell_type": "code",
      "metadata": {
        "colab": {
          "base_uri": "https://localhost:8080/"
        },
        "id": "SWfolHUC3yTX",
        "outputId": "f5dd5f52-1799-4b83-b863-75bfb503df87"
      },
      "source": [
        "model = getModel()\n",
        "model.summary()"
      ],
      "execution_count": 74,
      "outputs": [
        {
          "output_type": "stream",
          "text": [
            "Model: \"model\"\n",
            "__________________________________________________________________________________________________\n",
            "Layer (type)                    Output Shape         Param #     Connected to                     \n",
            "==================================================================================================\n",
            "input_3 (InputLayer)            [(None, 75)]         0                                            \n",
            "__________________________________________________________________________________________________\n",
            "input_2 (InputLayer)            [(None, 10)]         0                                            \n",
            "__________________________________________________________________________________________________\n",
            "embedding_1 (Embedding)         (None, 75, 16)       4086896     input_3[0][0]                    \n",
            "__________________________________________________________________________________________________\n",
            "embedding (Embedding)           (None, 10, 8)        2043448     input_2[0][0]                    \n",
            "__________________________________________________________________________________________________\n",
            "lstm_1 (LSTM)                   (None, 75, 16)       2112        embedding_1[0][0]                \n",
            "__________________________________________________________________________________________________\n",
            "lstm (LSTM)                     (None, 10, 8)        544         embedding[0][0]                  \n",
            "__________________________________________________________________________________________________\n",
            "lstm_2 (LSTM)                   (None, 75, 8)        800         lstm_1[0][0]                     \n",
            "__________________________________________________________________________________________________\n",
            "input_1 (InputLayer)            [(None, 4)]          0                                            \n",
            "__________________________________________________________________________________________________\n",
            "flatten (Flatten)               (None, 80)           0           lstm[0][0]                       \n",
            "__________________________________________________________________________________________________\n",
            "flatten_1 (Flatten)             (None, 600)          0           lstm_2[0][0]                     \n",
            "__________________________________________________________________________________________________\n",
            "concatenate (Concatenate)       (None, 684)          0           input_1[0][0]                    \n",
            "                                                                 flatten[0][0]                    \n",
            "                                                                 flatten_1[0][0]                  \n",
            "__________________________________________________________________________________________________\n",
            "dropout (Dropout)               (None, 684)          0           concatenate[0][0]                \n",
            "__________________________________________________________________________________________________\n",
            "dense (Dense)                   (None, 32)           21920       dropout[0][0]                    \n",
            "__________________________________________________________________________________________________\n",
            "dropout_1 (Dropout)             (None, 32)           0           dense[0][0]                      \n",
            "__________________________________________________________________________________________________\n",
            "dense_1 (Dense)                 (None, 16)           528         dropout_1[0][0]                  \n",
            "__________________________________________________________________________________________________\n",
            "dense_2 (Dense)                 (None, 1)            17          dense_1[0][0]                    \n",
            "==================================================================================================\n",
            "Total params: 6,156,265\n",
            "Trainable params: 6,156,265\n",
            "Non-trainable params: 0\n",
            "__________________________________________________________________________________________________\n"
          ],
          "name": "stdout"
        }
      ]
    },
    {
      "cell_type": "code",
      "metadata": {
        "colab": {
          "base_uri": "https://localhost:8080/",
          "height": 1000
        },
        "id": "aNoRvN6T3yTX",
        "outputId": "125db653-910a-4cbd-f15e-eb3a2415345c"
      },
      "source": [
        "plot_model(model)"
      ],
      "execution_count": 75,
      "outputs": [
        {
          "output_type": "execute_result",
          "data": {
            "image/png": "[encoded data removed]",
            "text/plain": [
              "<IPython.core.display.Image object>"
            ]
          },
          "metadata": {
            "tags": []
          },
          "execution_count": 75
        }
      ]
    },
    {
      "cell_type": "code",
      "metadata": {
        "id": "K0ETrpfjg_ha"
      },
      "source": [
        "import keras.backend as K\r\n",
        "msle = tf.keras.losses.MeanSquaredLogarithmicError()\r\n",
        "\r\n",
        "def root_mean_squared_logarithmic_error(y_true, y_pred):\r\n",
        "    return K.sqrt(msle(y_true, y_pred))"
      ],
      "execution_count": 76,
      "outputs": []
    },
    {
      "cell_type": "code",
      "metadata": {
        "id": "1-rcb1aLIHPX"
      },
      "source": [
        "model.compile(loss = root_mean_squared_logarithmic_error, optimizer='adam', metrics=['mse', 'mae', tf.keras.metrics.RootMeanSquaredError(), 'mean_squared_logarithmic_error', root_mean_squared_logarithmic_error])"
      ],
      "execution_count": 77,
      "outputs": []
    },
    {
      "cell_type": "code",
      "metadata": {
        "colab": {
          "base_uri": "https://localhost:8080/",
          "height": 524
        },
        "id": "Y2m3WcI-JWcP",
        "outputId": "368029be-d370-4fe4-e681-b49d2e602adb"
      },
      "source": [
        "history = model.fit(x=[inputA_train, inputName_train, inputDesc_train], y=y_train,\n",
        "                    epochs=10,\n",
        "                    verbose=True,\n",
        "                    validation_data=([inputA_validation, inputName_validation, inputDesc_validation], y_validation),\n",
        "                    batch_size=512)"
      ],
      "execution_count": 78,
      "outputs": [
        {
          "output_type": "stream",
          "text": [
            "Epoch 1/10\n",
            "2261/2261 [==============================] - 166s 69ms/step - loss: 0.7253 - mse: 1386.7082 - mae: 15.0159 - root_mean_squared_error: 37.1452 - mean_squared_logarithmic_error: 0.7793 - root_mean_squared_logarithmic_error: 0.7253 - val_loss: 0.5145 - val_mse: 1050.6984 - val_mae: 12.0343 - val_root_mean_squared_error: 32.4145 - val_mean_squared_logarithmic_error: 0.2653 - val_root_mean_squared_logarithmic_error: 0.5146\n",
            "Epoch 2/10\n",
            "2261/2261 [==============================] - 152s 67ms/step - loss: 0.5132 - mse: 1105.5429 - mae: 12.1520 - root_mean_squared_error: 33.2431 - mean_squared_logarithmic_error: 0.2638 - root_mean_squared_logarithmic_error: 0.5132 - val_loss: 0.5076 - val_mse: 1003.3617 - val_mae: 11.8150 - val_root_mean_squared_error: 31.6759 - val_mean_squared_logarithmic_error: 0.2582 - val_root_mean_squared_logarithmic_error: 0.5077\n",
            "Epoch 3/10\n",
            "2261/2261 [==============================] - 156s 69ms/step - loss: 0.5002 - mse: 1034.4348 - mae: 11.7898 - root_mean_squared_error: 32.1573 - mean_squared_logarithmic_error: 0.2506 - root_mean_squared_logarithmic_error: 0.5002 - val_loss: 0.4970 - val_mse: 953.0252 - val_mae: 11.5500 - val_root_mean_squared_error: 30.8711 - val_mean_squared_logarithmic_error: 0.2476 - val_root_mean_squared_logarithmic_error: 0.4971\n",
            "Epoch 4/10\n",
            "2261/2261 [==============================] - 155s 68ms/step - loss: 0.4898 - mse: 962.5742 - mae: 11.4861 - root_mean_squared_error: 31.0074 - mean_squared_logarithmic_error: 0.2403 - root_mean_squared_logarithmic_error: 0.4898 - val_loss: 0.4935 - val_mse: 914.4266 - val_mae: 11.4177 - val_root_mean_squared_error: 30.2395 - val_mean_squared_logarithmic_error: 0.2441 - val_root_mean_squared_logarithmic_error: 0.4935\n",
            "Epoch 5/10\n",
            "2261/2261 [==============================] - ETA: 0s - loss: 0.4819 - mse: 920.1124 - mae: 11.2878 - root_mean_squared_error: 30.3304 - mean_squared_logarithmic_error: 0.2327 - root_mean_squared_logarithmic_error: 0.4819"
          ],
          "name": "stdout"
        },
        {
          "output_type": "error",
          "ename": "KeyboardInterrupt",
          "evalue": "ignored",
          "traceback": [
            "\u001b[0;31m---------------------------------------------------------------------------\u001b[0m",
            "\u001b[0;31mKeyboardInterrupt\u001b[0m                         Traceback (most recent call last)",
            "\u001b[0;32m<ipython-input-78-edba92c1c33f>\u001b[0m in \u001b[0;36m<module>\u001b[0;34m()\u001b[0m\n\u001b[1;32m      3\u001b[0m                     \u001b[0mverbose\u001b[0m\u001b[0;34m=\u001b[0m\u001b[0;32mTrue\u001b[0m\u001b[0;34m,\u001b[0m\u001b[0;34m\u001b[0m\u001b[0;34m\u001b[0m\u001b[0m\n\u001b[1;32m      4\u001b[0m                     \u001b[0mvalidation_data\u001b[0m\u001b[0;34m=\u001b[0m\u001b[0;34m(\u001b[0m\u001b[0;34m[\u001b[0m\u001b[0minputA_validation\u001b[0m\u001b[0;34m,\u001b[0m \u001b[0minputName_validation\u001b[0m\u001b[0;34m,\u001b[0m \u001b[0minputDesc_validation\u001b[0m\u001b[0;34m]\u001b[0m\u001b[0;34m,\u001b[0m \u001b[0my_validation\u001b[0m\u001b[0;34m)\u001b[0m\u001b[0;34m,\u001b[0m\u001b[0;34m\u001b[0m\u001b[0;34m\u001b[0m\u001b[0m\n\u001b[0;32m----> 5\u001b[0;31m                     batch_size=512)\n\u001b[0m",
            "\u001b[0;32m/usr/local/lib/python3.6/dist-packages/tensorflow/python/keras/engine/training.py\u001b[0m in \u001b[0;36mfit\u001b[0;34m(self, x, y, batch_size, epochs, verbose, callbacks, validation_split, validation_data, shuffle, class_weight, sample_weight, initial_epoch, steps_per_epoch, validation_steps, validation_batch_size, validation_freq, max_queue_size, workers, use_multiprocessing)\u001b[0m\n\u001b[1;32m   1139\u001b[0m               \u001b[0mworkers\u001b[0m\u001b[0;34m=\u001b[0m\u001b[0mworkers\u001b[0m\u001b[0;34m,\u001b[0m\u001b[0;34m\u001b[0m\u001b[0;34m\u001b[0m\u001b[0m\n\u001b[1;32m   1140\u001b[0m               \u001b[0muse_multiprocessing\u001b[0m\u001b[0;34m=\u001b[0m\u001b[0muse_multiprocessing\u001b[0m\u001b[0;34m,\u001b[0m\u001b[0;34m\u001b[0m\u001b[0;34m\u001b[0m\u001b[0m\n\u001b[0;32m-> 1141\u001b[0;31m               return_dict=True)\n\u001b[0m\u001b[1;32m   1142\u001b[0m           \u001b[0mval_logs\u001b[0m \u001b[0;34m=\u001b[0m \u001b[0;34m{\u001b[0m\u001b[0;34m'val_'\u001b[0m \u001b[0;34m+\u001b[0m \u001b[0mname\u001b[0m\u001b[0;34m:\u001b[0m \u001b[0mval\u001b[0m \u001b[0;32mfor\u001b[0m \u001b[0mname\u001b[0m\u001b[0;34m,\u001b[0m \u001b[0mval\u001b[0m \u001b[0;32min\u001b[0m \u001b[0mval_logs\u001b[0m\u001b[0;34m.\u001b[0m\u001b[0mitems\u001b[0m\u001b[0;34m(\u001b[0m\u001b[0;34m)\u001b[0m\u001b[0;34m}\u001b[0m\u001b[0;34m\u001b[0m\u001b[0;34m\u001b[0m\u001b[0m\n\u001b[1;32m   1143\u001b[0m           \u001b[0mepoch_logs\u001b[0m\u001b[0;34m.\u001b[0m\u001b[0mupdate\u001b[0m\u001b[0;34m(\u001b[0m\u001b[0mval_logs\u001b[0m\u001b[0;34m)\u001b[0m\u001b[0;34m\u001b[0m\u001b[0;34m\u001b[0m\u001b[0m\n",
            "\u001b[0;32m/usr/local/lib/python3.6/dist-packages/tensorflow/python/keras/engine/training.py\u001b[0m in \u001b[0;36mevaluate\u001b[0;34m(self, x, y, batch_size, verbose, sample_weight, steps, callbacks, max_queue_size, workers, use_multiprocessing, return_dict)\u001b[0m\n\u001b[1;32m   1387\u001b[0m             \u001b[0;32mwith\u001b[0m \u001b[0mtrace\u001b[0m\u001b[0;34m.\u001b[0m\u001b[0mTrace\u001b[0m\u001b[0;34m(\u001b[0m\u001b[0;34m'test'\u001b[0m\u001b[0;34m,\u001b[0m \u001b[0mstep_num\u001b[0m\u001b[0;34m=\u001b[0m\u001b[0mstep\u001b[0m\u001b[0;34m,\u001b[0m \u001b[0m_r\u001b[0m\u001b[0;34m=\u001b[0m\u001b[0;36m1\u001b[0m\u001b[0;34m)\u001b[0m\u001b[0;34m:\u001b[0m\u001b[0;34m\u001b[0m\u001b[0;34m\u001b[0m\u001b[0m\n\u001b[1;32m   1388\u001b[0m               \u001b[0mcallbacks\u001b[0m\u001b[0;34m.\u001b[0m\u001b[0mon_test_batch_begin\u001b[0m\u001b[0;34m(\u001b[0m\u001b[0mstep\u001b[0m\u001b[0;34m)\u001b[0m\u001b[0;34m\u001b[0m\u001b[0;34m\u001b[0m\u001b[0m\n\u001b[0;32m-> 1389\u001b[0;31m               \u001b[0mtmp_logs\u001b[0m \u001b[0;34m=\u001b[0m \u001b[0mself\u001b[0m\u001b[0;34m.\u001b[0m\u001b[0mtest_function\u001b[0m\u001b[0;34m(\u001b[0m\u001b[0miterator\u001b[0m\u001b[0;34m)\u001b[0m\u001b[0;34m\u001b[0m\u001b[0;34m\u001b[0m\u001b[0m\n\u001b[0m\u001b[1;32m   1390\u001b[0m               \u001b[0;32mif\u001b[0m \u001b[0mdata_handler\u001b[0m\u001b[0;34m.\u001b[0m\u001b[0mshould_sync\u001b[0m\u001b[0;34m:\u001b[0m\u001b[0;34m\u001b[0m\u001b[0;34m\u001b[0m\u001b[0m\n\u001b[1;32m   1391\u001b[0m                 \u001b[0mcontext\u001b[0m\u001b[0;34m.\u001b[0m\u001b[0masync_wait\u001b[0m\u001b[0;34m(\u001b[0m\u001b[0;34m)\u001b[0m\u001b[0;34m\u001b[0m\u001b[0;34m\u001b[0m\u001b[0m\n",
            "\u001b[0;32m/usr/local/lib/python3.6/dist-packages/tensorflow/python/eager/def_function.py\u001b[0m in \u001b[0;36m__call__\u001b[0;34m(self, *args, **kwds)\u001b[0m\n\u001b[1;32m    826\u001b[0m     \u001b[0mtracing_count\u001b[0m \u001b[0;34m=\u001b[0m \u001b[0mself\u001b[0m\u001b[0;34m.\u001b[0m\u001b[0mexperimental_get_tracing_count\u001b[0m\u001b[0;34m(\u001b[0m\u001b[0;34m)\u001b[0m\u001b[0;34m\u001b[0m\u001b[0;34m\u001b[0m\u001b[0m\n\u001b[1;32m    827\u001b[0m     \u001b[0;32mwith\u001b[0m \u001b[0mtrace\u001b[0m\u001b[0;34m.\u001b[0m\u001b[0mTrace\u001b[0m\u001b[0;34m(\u001b[0m\u001b[0mself\u001b[0m\u001b[0;34m.\u001b[0m\u001b[0m_name\u001b[0m\u001b[0;34m)\u001b[0m \u001b[0;32mas\u001b[0m \u001b[0mtm\u001b[0m\u001b[0;34m:\u001b[0m\u001b[0;34m\u001b[0m\u001b[0;34m\u001b[0m\u001b[0m\n\u001b[0;32m--> 828\u001b[0;31m       \u001b[0mresult\u001b[0m \u001b[0;34m=\u001b[0m \u001b[0mself\u001b[0m\u001b[0;34m.\u001b[0m\u001b[0m_call\u001b[0m\u001b[0;34m(\u001b[0m\u001b[0;34m*\u001b[0m\u001b[0margs\u001b[0m\u001b[0;34m,\u001b[0m \u001b[0;34m**\u001b[0m\u001b[0mkwds\u001b[0m\u001b[0;34m)\u001b[0m\u001b[0;34m\u001b[0m\u001b[0;34m\u001b[0m\u001b[0m\n\u001b[0m\u001b[1;32m    829\u001b[0m       \u001b[0mcompiler\u001b[0m \u001b[0;34m=\u001b[0m \u001b[0;34m\"xla\"\u001b[0m \u001b[0;32mif\u001b[0m \u001b[0mself\u001b[0m\u001b[0;34m.\u001b[0m\u001b[0m_experimental_compile\u001b[0m \u001b[0;32melse\u001b[0m \u001b[0;34m\"nonXla\"\u001b[0m\u001b[0;34m\u001b[0m\u001b[0;34m\u001b[0m\u001b[0m\n\u001b[1;32m    830\u001b[0m       \u001b[0mnew_tracing_count\u001b[0m \u001b[0;34m=\u001b[0m \u001b[0mself\u001b[0m\u001b[0;34m.\u001b[0m\u001b[0mexperimental_get_tracing_count\u001b[0m\u001b[0;34m(\u001b[0m\u001b[0;34m)\u001b[0m\u001b[0;34m\u001b[0m\u001b[0;34m\u001b[0m\u001b[0m\n",
            "\u001b[0;32m/usr/local/lib/python3.6/dist-packages/tensorflow/python/eager/def_function.py\u001b[0m in \u001b[0;36m_call\u001b[0;34m(self, *args, **kwds)\u001b[0m\n\u001b[1;32m    860\u001b[0m       \u001b[0;31m# In this case we have not created variables on the first call. So we can\u001b[0m\u001b[0;34m\u001b[0m\u001b[0;34m\u001b[0m\u001b[0;34m\u001b[0m\u001b[0m\n\u001b[1;32m    861\u001b[0m       \u001b[0;31m# run the first trace but we should fail if variables are created.\u001b[0m\u001b[0;34m\u001b[0m\u001b[0;34m\u001b[0m\u001b[0;34m\u001b[0m\u001b[0m\n\u001b[0;32m--> 862\u001b[0;31m       \u001b[0mresults\u001b[0m \u001b[0;34m=\u001b[0m \u001b[0mself\u001b[0m\u001b[0;34m.\u001b[0m\u001b[0m_stateful_fn\u001b[0m\u001b[0;34m(\u001b[0m\u001b[0;34m*\u001b[0m\u001b[0margs\u001b[0m\u001b[0;34m,\u001b[0m \u001b[0;34m**\u001b[0m\u001b[0mkwds\u001b[0m\u001b[0;34m)\u001b[0m\u001b[0;34m\u001b[0m\u001b[0;34m\u001b[0m\u001b[0m\n\u001b[0m\u001b[1;32m    863\u001b[0m       \u001b[0;32mif\u001b[0m \u001b[0mself\u001b[0m\u001b[0;34m.\u001b[0m\u001b[0m_created_variables\u001b[0m\u001b[0;34m:\u001b[0m\u001b[0;34m\u001b[0m\u001b[0;34m\u001b[0m\u001b[0m\n\u001b[1;32m    864\u001b[0m         raise ValueError(\"Creating variables on a non-first call to a function\"\n",
            "\u001b[0;32m/usr/local/lib/python3.6/dist-packages/tensorflow/python/eager/function.py\u001b[0m in \u001b[0;36m__call__\u001b[0;34m(self, *args, **kwargs)\u001b[0m\n\u001b[1;32m   2941\u001b[0m        filtered_flat_args) = self._maybe_define_function(args, kwargs)\n\u001b[1;32m   2942\u001b[0m     return graph_function._call_flat(\n\u001b[0;32m-> 2943\u001b[0;31m         filtered_flat_args, captured_inputs=graph_function.captured_inputs)  # pylint: disable=protected-access\n\u001b[0m\u001b[1;32m   2944\u001b[0m \u001b[0;34m\u001b[0m\u001b[0m\n\u001b[1;32m   2945\u001b[0m   \u001b[0;34m@\u001b[0m\u001b[0mproperty\u001b[0m\u001b[0;34m\u001b[0m\u001b[0;34m\u001b[0m\u001b[0m\n",
            "\u001b[0;32m/usr/local/lib/python3.6/dist-packages/tensorflow/python/eager/function.py\u001b[0m in \u001b[0;36m_call_flat\u001b[0;34m(self, args, captured_inputs, cancellation_manager)\u001b[0m\n\u001b[1;32m   1917\u001b[0m       \u001b[0;31m# No tape is watching; skip to running the function.\u001b[0m\u001b[0;34m\u001b[0m\u001b[0;34m\u001b[0m\u001b[0;34m\u001b[0m\u001b[0m\n\u001b[1;32m   1918\u001b[0m       return self._build_call_outputs(self._inference_function.call(\n\u001b[0;32m-> 1919\u001b[0;31m           ctx, args, cancellation_manager=cancellation_manager))\n\u001b[0m\u001b[1;32m   1920\u001b[0m     forward_backward = self._select_forward_and_backward_functions(\n\u001b[1;32m   1921\u001b[0m         \u001b[0margs\u001b[0m\u001b[0;34m,\u001b[0m\u001b[0;34m\u001b[0m\u001b[0;34m\u001b[0m\u001b[0m\n",
            "\u001b[0;32m/usr/local/lib/python3.6/dist-packages/tensorflow/python/eager/function.py\u001b[0m in \u001b[0;36mcall\u001b[0;34m(self, ctx, args, cancellation_manager)\u001b[0m\n\u001b[1;32m    558\u001b[0m               \u001b[0minputs\u001b[0m\u001b[0;34m=\u001b[0m\u001b[0margs\u001b[0m\u001b[0;34m,\u001b[0m\u001b[0;34m\u001b[0m\u001b[0;34m\u001b[0m\u001b[0m\n\u001b[1;32m    559\u001b[0m               \u001b[0mattrs\u001b[0m\u001b[0;34m=\u001b[0m\u001b[0mattrs\u001b[0m\u001b[0;34m,\u001b[0m\u001b[0;34m\u001b[0m\u001b[0;34m\u001b[0m\u001b[0m\n\u001b[0;32m--> 560\u001b[0;31m               ctx=ctx)\n\u001b[0m\u001b[1;32m    561\u001b[0m         \u001b[0;32melse\u001b[0m\u001b[0;34m:\u001b[0m\u001b[0;34m\u001b[0m\u001b[0;34m\u001b[0m\u001b[0m\n\u001b[1;32m    562\u001b[0m           outputs = execute.execute_with_cancellation(\n",
            "\u001b[0;32m/usr/local/lib/python3.6/dist-packages/tensorflow/python/eager/execute.py\u001b[0m in \u001b[0;36mquick_execute\u001b[0;34m(op_name, num_outputs, inputs, attrs, ctx, name)\u001b[0m\n\u001b[1;32m     58\u001b[0m     \u001b[0mctx\u001b[0m\u001b[0;34m.\u001b[0m\u001b[0mensure_initialized\u001b[0m\u001b[0;34m(\u001b[0m\u001b[0;34m)\u001b[0m\u001b[0;34m\u001b[0m\u001b[0;34m\u001b[0m\u001b[0m\n\u001b[1;32m     59\u001b[0m     tensors = pywrap_tfe.TFE_Py_Execute(ctx._handle, device_name, op_name,\n\u001b[0;32m---> 60\u001b[0;31m                                         inputs, attrs, num_outputs)\n\u001b[0m\u001b[1;32m     61\u001b[0m   \u001b[0;32mexcept\u001b[0m \u001b[0mcore\u001b[0m\u001b[0;34m.\u001b[0m\u001b[0m_NotOkStatusException\u001b[0m \u001b[0;32mas\u001b[0m \u001b[0me\u001b[0m\u001b[0;34m:\u001b[0m\u001b[0;34m\u001b[0m\u001b[0;34m\u001b[0m\u001b[0m\n\u001b[1;32m     62\u001b[0m     \u001b[0;32mif\u001b[0m \u001b[0mname\u001b[0m \u001b[0;32mis\u001b[0m \u001b[0;32mnot\u001b[0m \u001b[0;32mNone\u001b[0m\u001b[0;34m:\u001b[0m\u001b[0;34m\u001b[0m\u001b[0;34m\u001b[0m\u001b[0m\n",
            "\u001b[0;31mKeyboardInterrupt\u001b[0m: "
          ]
        }
      ]
    },
    {
      "cell_type": "code",
      "metadata": {
        "colab": {
          "base_uri": "https://localhost:8080/",
          "height": 204
        },
        "id": "m6ZqDQxG4de0",
        "outputId": "063d7dc9-521a-448f-8322-014438d358af"
      },
      "source": [
        "histDf = pd.DataFrame(history.history)\n",
        "histDf.tail()"
      ],
      "execution_count": null,
      "outputs": [
        {
          "output_type": "execute_result",
          "data": {
            "text/html": [
              "<div>\n",
              "<style scoped>\n",
              "    .dataframe tbody tr th:only-of-type {\n",
              "        vertical-align: middle;\n",
              "    }\n",
              "\n",
              "    .dataframe tbody tr th {\n",
              "        vertical-align: top;\n",
              "    }\n",
              "\n",
              "    .dataframe thead th {\n",
              "        text-align: right;\n",
              "    }\n",
              "</style>\n",
              "<table border=\"1\" class=\"dataframe\">\n",
              "  <thead>\n",
              "    <tr style=\"text-align: right;\">\n",
              "      <th></th>\n",
              "      <th>loss</th>\n",
              "      <th>mae_sclb</th>\n",
              "      <th>root_mean_squared_logarithmic_error_sclb</th>\n",
              "      <th>val_loss</th>\n",
              "      <th>val_mae_sclb</th>\n",
              "      <th>val_root_mean_squared_logarithmic_error_sclb</th>\n",
              "    </tr>\n",
              "  </thead>\n",
              "  <tbody>\n",
              "    <tr>\n",
              "      <th>5</th>\n",
              "      <td>0.476606</td>\n",
              "      <td>12.462254</td>\n",
              "      <td>0.596104</td>\n",
              "      <td>0.556343</td>\n",
              "      <td>12.550454</td>\n",
              "      <td>0.577678</td>\n",
              "    </tr>\n",
              "    <tr>\n",
              "      <th>6</th>\n",
              "      <td>0.447031</td>\n",
              "      <td>12.279383</td>\n",
              "      <td>0.585221</td>\n",
              "      <td>0.552715</td>\n",
              "      <td>12.372323</td>\n",
              "      <td>0.570468</td>\n",
              "    </tr>\n",
              "    <tr>\n",
              "      <th>7</th>\n",
              "      <td>0.422235</td>\n",
              "      <td>12.137775</td>\n",
              "      <td>0.582416</td>\n",
              "      <td>0.568879</td>\n",
              "      <td>12.483811</td>\n",
              "      <td>0.570694</td>\n",
              "    </tr>\n",
              "    <tr>\n",
              "      <th>8</th>\n",
              "      <td>0.407632</td>\n",
              "      <td>12.037266</td>\n",
              "      <td>0.578049</td>\n",
              "      <td>0.557858</td>\n",
              "      <td>12.484520</td>\n",
              "      <td>0.571568</td>\n",
              "    </tr>\n",
              "    <tr>\n",
              "      <th>9</th>\n",
              "      <td>0.397469</td>\n",
              "      <td>11.964991</td>\n",
              "      <td>0.577472</td>\n",
              "      <td>0.578131</td>\n",
              "      <td>13.115880</td>\n",
              "      <td>0.612132</td>\n",
              "    </tr>\n",
              "  </tbody>\n",
              "</table>\n",
              "</div>"
            ],
            "text/plain": [
              "       loss  ...  val_root_mean_squared_logarithmic_error_sclb\n",
              "5  0.476606  ...                                      0.577678\n",
              "6  0.447031  ...                                      0.570468\n",
              "7  0.422235  ...                                      0.570694\n",
              "8  0.407632  ...                                      0.571568\n",
              "9  0.397469  ...                                      0.612132\n",
              "\n",
              "[5 rows x 6 columns]"
            ]
          },
          "metadata": {
            "tags": []
          },
          "execution_count": 147
        }
      ]
    },
    {
      "cell_type": "code",
      "metadata": {
        "colab": {
          "base_uri": "https://localhost:8080/",
          "height": 282
        },
        "id": "d8NNZQXuht7t",
        "outputId": "4d3932e4-a4c2-4a06-ff5a-c2b2513db405"
      },
      "source": [
        "histDf.plot(y=[\"loss\", \"val_loss\"])"
      ],
      "execution_count": null,
      "outputs": [
        {
          "output_type": "execute_result",
          "data": {
            "text/plain": [
              "<matplotlib.axes._subplots.AxesSubplot at 0x7f26b17aad68>"
            ]
          },
          "metadata": {
            "tags": []
          },
          "execution_count": 148
        },
        {
          "output_type": "display_data",
          "data": {
            "image/png": "[encoded data removed]",
            "text/plain": [
              "<Figure size 432x288 with 1 Axes>"
            ]
          },
          "metadata": {
            "tags": []
          }
        }
      ]
    },
    {
      "cell_type": "code",
      "metadata": {
        "colab": {
          "base_uri": "https://localhost:8080/",
          "height": 285
        },
        "id": "PUhr3WR3wpgt",
        "outputId": "2cc8e291-df84-4cd1-a008-21fd386b0d79"
      },
      "source": [
        "histDf.plot(y=[\"mae_sclb\", \"val_mae_sclb\"])"
      ],
      "execution_count": null,
      "outputs": [
        {
          "output_type": "execute_result",
          "data": {
            "text/plain": [
              "<matplotlib.axes._subplots.AxesSubplot at 0x7f26b2d2c780>"
            ]
          },
          "metadata": {
            "tags": []
          },
          "execution_count": 149
        },
        {
          "output_type": "display_data",
          "data": {
            "image/png": "[encoded data removed]",
            "text/plain": [
              "<Figure size 432x288 with 1 Axes>"
            ]
          },
          "metadata": {
            "tags": []
          }
        }
      ]
    },
    {
      "cell_type": "code",
      "metadata": {
        "colab": {
          "base_uri": "https://localhost:8080/",
          "height": 282
        },
        "id": "B4R67iRKhvwW",
        "outputId": "0ccbf327-9882-46dc-d490-c7aa017b4a29"
      },
      "source": [
        "histDf.plot(y=[\"root_mean_squared_logarithmic_error_sclb\", \"val_root_mean_squared_logarithmic_error_sclb\"])"
      ],
      "execution_count": null,
      "outputs": [
        {
          "output_type": "execute_result",
          "data": {
            "text/plain": [
              "<matplotlib.axes._subplots.AxesSubplot at 0x7f26b06a3cf8>"
            ]
          },
          "metadata": {
            "tags": []
          },
          "execution_count": 150
        },
        {
          "output_type": "display_data",
          "data": {
            "image/png": "[encoded data removed]",
            "text/plain": [
              "<Figure size 432x288 with 1 Axes>"
            ]
          },
          "metadata": {
            "tags": []
          }
        }
      ]
    }
  ]
}