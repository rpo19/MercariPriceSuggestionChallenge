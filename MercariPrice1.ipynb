{
 "cells": [
  {
   "cell_type": "markdown",
   "metadata": {
    "id": "M_oO4ZyYU00Y"
   },
   "source": [
    "### Mercari Price \n",
    "The files consist of a list of product listings. These files are tab-delimited.\n",
    "\n",
    "Fields:\n",
    "- train_id or test_id - the id of the listing\n",
    "\n",
    "- name - the title of the listing. Note that we have cleaned the data to remove text that look like prices (e.g. $20) to avoid  leakage. These removed prices are represented as [rm]\n",
    "\n",
    "- item_condition_id - the condition of the items provided by the seller\n",
    "\n",
    "- category_name - category of the listing\n",
    "\n",
    "- brand_name\n",
    "\n",
    "- price - the price that the item was sold for. This is the target variable that you will predict. The unit is USD. This column doesn't exist in test.tsv since that is what you will predict.\n",
    "\n",
    "- shipping - 1 if shipping fee is paid by seller and 0 by buyer\n",
    "\n",
    "- item_description - the full description of the item. Note that we have cleaned the data to remove text that look like prices (e.g. $20) to avoid leakage. These removed prices are represented as [rm]"
   ]
  },
  {
   "cell_type": "markdown",
   "metadata": {
    "id": "PTBm7hc-CoRA"
   },
   "source": [
    "## Setup"
   ]
  },
  {
   "cell_type": "code",
   "execution_count": null,
   "metadata": {
    "colab": {
     "base_uri": "https://localhost:8080/"
    },
    "id": "XZWiRNuUU00w",
    "outputId": "9bd40dd5-ca08-4b05-9890-e1f0473ef139"
   },
   "outputs": [],
   "source": [
    "! pip install pydot graphviz emoji transformers\n",
    "\n",
    "import pandas as pd\n",
    "import numpy as np\n",
    "\n",
    "from nltk.tokenize import word_tokenize\n",
    "import nltk\n",
    "import tensorflow as tf\n",
    "from tensorflow import keras\n",
    "from tensorflow.keras.preprocessing.text import Tokenizer\n",
    "from tensorflow.keras.preprocessing.sequence import pad_sequences\n",
    "\n",
    "import tensorflow.keras.backend as K\n",
    "\n",
    "\n",
    "from tqdm._tqdm_notebook import tqdm_notebook\n",
    "\n",
    "import os\n",
    "import itertools\n",
    "\n",
    "import matplotlib.pyplot as plt\n",
    "import itertools\n",
    "from collections import Counter\n",
    "import seaborn as sns\n",
    "\n",
    "from sklearn.model_selection import train_test_split\n",
    "from sklearn import preprocessing\n",
    "from sklearn.preprocessing import StandardScaler\n",
    "\n",
    "from tensorflow.keras.layers import Dense, Input, Embedding, Concatenate, Flatten, Dropout, LSTM, GlobalMaxPool1D, GRU, Bidirectional, GlobalAveragePooling1D\n",
    "from tensorflow.keras.models import Model\n",
    "from tensorflow.keras.utils import plot_model\n",
    "\n",
    "from nltk.corpus import stopwords\n",
    "import string\n",
    "\n",
    "import pickle\n",
    "\n",
    "from tensorflow.keras.preprocessing.text import text_to_word_sequence \n",
    "from nltk.stem import WordNetLemmatizer\n",
    "\n",
    "from nltk.tokenize import TweetTokenizer\n",
    "\n",
    "import emoji\n",
    "import os\n",
    "\n",
    "from sklearn.feature_extraction.text import CountVectorizer\n",
    "\n",
    "import transformers\n",
    "from transformers import DistilBertTokenizer, TFDistilBertModel, pipeline\n",
    "\n",
    "nltk.download('wordnet')\n",
    "nltk.download('stopwords')\n",
    "nltk.download('punkt')\n",
    "\n",
    "\n",
    "stop_words = set(stopwords.words('english'))\n",
    "stop_words.remove(\"no\")\n",
    "\n",
    "tqdm_notebook.pandas()"
   ]
  },
  {
   "cell_type": "code",
   "execution_count": null,
   "metadata": {
    "id": "K0ETrpfjg_ha"
   },
   "outputs": [],
   "source": [
    "msle = tf.keras.losses.MeanSquaredLogarithmicError()\n",
    "\n",
    "def root_mean_squared_logarithmic_error(y_true, y_pred):\n",
    "    return K.sqrt(msle(y_true, y_pred))"
   ]
  },
  {
   "cell_type": "markdown",
   "metadata": {
    "id": "PRXV0oKS-Yn3"
   },
   "source": [
    "## Colab"
   ]
  },
  {
   "cell_type": "code",
   "execution_count": null,
   "metadata": {
    "colab": {
     "base_uri": "https://localhost:8080/",
     "height": 36
    },
    "id": "ckhXGgT8-XzG",
    "outputId": "534a89c8-87eb-4553-f364-d850caf084c0"
   },
   "outputs": [],
   "source": [
    "RunningInCOLAB = 'google.colab' in str(get_ipython())\n",
    "\n",
    "# check if in colab\n",
    "if RunningInCOLAB and not os.path.isdir('/content/gdrive'):\n",
    "    print(\"Running in colab\")\n",
    "    from google.colab import drive\n",
    "    drive.mount('/content/gdrive', force_remount=True)\n",
    "    colab_root = '/content/drive'\n",
    "      \n",
    "if RunningInCOLAB:\n",
    "    root_dir = \"/content/gdrive/My Drive/\"\n",
    "    base_dir = root_dir + 'project-mercari-price/'\n",
    "    if not os.path.isdir(base_dir):\n",
    "        os.mkdir(base_dir)\n",
    "else:\n",
    "    root_dir= os.getcwd()\n",
    "    base_dir = root_dir\n",
    "\n",
    "os.chdir(base_dir)\n",
    "\n",
    "os.getcwd()"
   ]
  },
  {
   "cell_type": "markdown",
   "metadata": {
    "id": "5tMt4O6n3yTD"
   },
   "source": [
    "## Dataset download"
   ]
  },
  {
   "cell_type": "code",
   "execution_count": null,
   "metadata": {
    "colab": {
     "base_uri": "https://localhost:8080/"
    },
    "id": "oXCUW4PtU00k",
    "outputId": "5d82f82c-46e0-4623-a17c-034443f9b486"
   },
   "outputs": [],
   "source": [
    "dataset_downloaded_path = os.path.join(base_dir, \"dataset_downloaded.ignore\")\n",
    "dataset_downloaded = os.path.isfile(dataset_downloaded_path)\n",
    "dataset_downloaded\n",
    "\n",
    "if not dataset_downloaded:\n",
    "  # install kaggle to download dataset\n",
    "  ! pip install kaggle python-dotenv\n",
    "\n",
    "# set to True if you want to save kaggle credentials into a .env file\n",
    "persist_credentials = False\n",
    "\n",
    "if not dataset_downloaded:\n",
    "  # create .env file containing KAGGLE_USER and KAGGLE_KEY\n",
    "    kaggle_env = os.path.join(base_dir, '.env')\n",
    "    if not os.path.isfile(kaggle_env):\n",
    "        with open(kaggle_env, 'w') as envfile:\n",
    "            kaggle_user = input(\"Insert kaggle username\")\n",
    "            kaggle_key = input(\"Insert kaggle key; generate one from kaggle account\")\n",
    "        if persist_credentials:\n",
    "            envfile.write(f\"\"\"\n",
    "            KAGGLE_USERNAME={kaggle_user}\n",
    "            KAGGLE_KEY={kaggle_key}\n",
    "            \"\"\")\n",
    "\n",
    "        # set env vars\n",
    "        os.environ[\"KAGGLE_USERNAME\"] = kaggle_user\n",
    "        os.environ[\"KAGGLE_KEY\"] = kaggle_key\n",
    "\n",
    "        del kaggle_user\n",
    "        del kaggle_key\n",
    "\n",
    "if not dataset_downloaded:\n",
    "  # loading env vars if .env file exists\n",
    "    if os.path.isfile(kaggle_env):\n",
    "        from dotenv import load_dotenv\n",
    "        load_dotenv(dotenv_path=kaggle_env)\n",
    "    print(os.environ.get(\"KAGGLE_USERNAME\"))\n",
    "\n",
    "if not dataset_downloaded:\n",
    "    # download and extract dataset\n",
    "    ! kaggle competitions download -c mercari-price-suggestion-challenge\n",
    "\n",
    "    # create file so that we know we already downloaded\n",
    "    with open(dataset_downloaded_path, 'w') as dd_file:\n",
    "        dataset_downloaded = True\n",
    "        dd_file.write(\"\")\n",
    "\n",
    "    print('cwd: ', os.getcwd())\n",
    "    \n",
    "    os.listdir()\n",
    "\n",
    "if not dataset_downloaded:\n",
    "    ! 7z x train.tsv.7z\n",
    "    ! 7z x test.tsv.7z\n",
    "\n",
    "os.listdir()"
   ]
  },
  {
   "cell_type": "markdown",
   "metadata": {
    "id": "8pyEueRK3yTL"
   },
   "source": [
    "## Load dataset"
   ]
  },
  {
   "cell_type": "code",
   "execution_count": null,
   "metadata": {
    "colab": {
     "base_uri": "https://localhost:8080/",
     "height": 559
    },
    "id": "j5Vg17INU00x",
    "outputId": "dced5197-ac1f-47e8-d5ac-e7b0148a2658"
   },
   "outputs": [],
   "source": [
    "dtypes={\n",
    "    'name': 'string',\n",
    "    'item_condition_id': 'int32',\n",
    "    'category_name': 'string',\n",
    "    'brand_name': 'string',\n",
    "    'price': 'float',\n",
    "    'shipping': 'int32',\n",
    "    'item_description': 'string'\n",
    "}\n",
    "data = pd.read_csv(\"train.tsv\", sep='\\t', dtype=dtypes)\n",
    "data = data.drop(columns=[\"train_id\"])\n",
    "print(data.dtypes)\n",
    "print(data.shape)\n",
    "data"
   ]
  },
  {
   "cell_type": "code",
   "execution_count": null,
   "metadata": {
    "colab": {
     "base_uri": "https://localhost:8080/",
     "height": 541
    },
    "id": "vWgi5SxW9SsE",
    "outputId": "f829ce94-4ad3-4fb1-a5ec-f22bb6f883e2"
   },
   "outputs": [],
   "source": [
    "dtypes={\n",
    "    'name': 'string',\n",
    "    'item_condition_id': 'int32',\n",
    "    'category_name': 'string',\n",
    "    'brand_name': 'string',\n",
    "    'price': 'float',\n",
    "    'shipping': 'int32',\n",
    "    'item_description': 'string'\n",
    "}\n",
    "test = pd.read_csv(\"test.tsv\", sep='\\t', dtype=dtypes)\n",
    "test = test.drop(columns=[\"test_id\"])\n",
    "print(test.dtypes)\n",
    "print(test.shape)\n",
    "test"
   ]
  },
  {
   "cell_type": "code",
   "execution_count": null,
   "metadata": {
    "colab": {
     "base_uri": "https://localhost:8080/"
    },
    "id": "rvujMFFXCxL8",
    "outputId": "089b583b-b368-45e3-9dad-1b3025018f0c"
   },
   "outputs": [],
   "source": [
    "for column in data.columns:\n",
    "    print(\"number of null value in {} : {}\".format(column,data[column].isnull().sum()))"
   ]
  },
  {
   "cell_type": "code",
   "execution_count": null,
   "metadata": {
    "colab": {
     "base_uri": "https://localhost:8080/"
    },
    "id": "6NltZr2wAdYc",
    "outputId": "90fbe092-ea5b-4c87-9785-282eb6b0217f"
   },
   "outputs": [],
   "source": [
    "for column in test.columns:\n",
    "    print(\"number of null value in {} : {}\".format(column,test[column].isnull().sum()))"
   ]
  },
  {
   "cell_type": "code",
   "execution_count": null,
   "metadata": {
    "colab": {
     "base_uri": "https://localhost:8080/"
    },
    "id": "XtxgmC-LHnmN",
    "outputId": "0e618cb6-1888-4f6f-ebd3-f9c01cc1fea0"
   },
   "outputs": [],
   "source": [
    "data[\"category_name\"].value_counts()"
   ]
  },
  {
   "cell_type": "code",
   "execution_count": null,
   "metadata": {
    "colab": {
     "base_uri": "https://localhost:8080/"
    },
    "id": "JOYErCoVHnmO",
    "outputId": "c2e4a22a-516b-4319-f663-7dbccde1a83b"
   },
   "outputs": [],
   "source": [
    "data[\"price\"].describe()"
   ]
  },
  {
   "cell_type": "markdown",
   "metadata": {
    "id": "cw5N2UjxiPcW"
   },
   "source": [
    "# Data cleaning\n",
    "\n",
    "Handle missing values and wrong prices"
   ]
  },
  {
   "cell_type": "markdown",
   "metadata": {
    "id": "UnzdF-qLrlGI"
   },
   "source": [
    "https://www.mercari.com/us/help_center/article/69"
   ]
  },
  {
   "cell_type": "code",
   "execution_count": null,
   "metadata": {
    "colab": {
     "base_uri": "https://localhost:8080/"
    },
    "id": "yyUE4a4Jp4E9",
    "outputId": "a4f5df20-62bb-4eca-955e-3f4d6df2dc29"
   },
   "outputs": [],
   "source": [
    "len(data[data[\"price\"]<5])"
   ]
  },
  {
   "cell_type": "code",
   "execution_count": null,
   "metadata": {
    "id": "jCbqNKgKp7f2"
   },
   "outputs": [],
   "source": [
    "data=data[data[\"price\"]>=5]"
   ]
  },
  {
   "cell_type": "code",
   "execution_count": null,
   "metadata": {
    "colab": {
     "base_uri": "https://localhost:8080/"
    },
    "id": "kxBs1Xr4AlsD",
    "outputId": "81d51c3c-2644-41d0-b49c-7adf46c636ec"
   },
   "outputs": [],
   "source": [
    "data = data[data[\"item_description\"].notna()]\n",
    "data[\"brand_name\"] = data[\"brand_name\"].fillna(value=\"NA\")\n",
    "data[\"category_name\"] = data[\"category_name\"].fillna(value=\"NA\")\n",
    "# see warnings -> inplace?\n",
    "data.shape"
   ]
  },
  {
   "cell_type": "code",
   "execution_count": null,
   "metadata": {
    "colab": {
     "base_uri": "https://localhost:8080/"
    },
    "id": "jUBsIEJqC0cg",
    "outputId": "036f7e65-f599-49fb-9acb-3defaacc4b03"
   },
   "outputs": [],
   "source": [
    "test[\"brand_name\"] = test[\"brand_name\"].fillna(value=\"NA\")\n",
    "test[\"category_name\"] = test[\"category_name\"].fillna(value=\"NA\")\n",
    "# see warnings -> inplace?\n",
    "test.shape"
   ]
  },
  {
   "cell_type": "code",
   "execution_count": null,
   "metadata": {
    "colab": {
     "base_uri": "https://localhost:8080/",
     "height": 399
    },
    "id": "FNY29qP2HnmS",
    "outputId": "3895ac38-57e0-44b8-9bec-3c685baa001d"
   },
   "outputs": [],
   "source": [
    "data"
   ]
  },
  {
   "cell_type": "markdown",
   "metadata": {
    "id": "4m7ykQvijKp8"
   },
   "source": [
    "# Preprocessing"
   ]
  },
  {
   "cell_type": "code",
   "execution_count": null,
   "metadata": {
    "colab": {
     "base_uri": "https://localhost:8080/",
     "height": 194
    },
    "id": "lkGhq22YJJGf",
    "outputId": "1ff10b17-afcb-4a78-9ec8-508038b9735e"
   },
   "outputs": [],
   "source": [
    "data[\"item_description\"]=data[\"item_description\"].str.lower()\n",
    "data[\"name\"]=data[\"name\"].str.lower()\n",
    "data.head()"
   ]
  },
  {
   "cell_type": "code",
   "execution_count": null,
   "metadata": {
    "colab": {
     "base_uri": "https://localhost:8080/",
     "height": 194
    },
    "id": "uqevrhyRC7yy",
    "outputId": "079527d9-6eb2-42f9-cc63-c79de4b1c891"
   },
   "outputs": [],
   "source": [
    "test[\"item_description\"]=test[\"item_description\"].str.lower()\n",
    "test[\"name\"]=test[\"name\"].str.lower()\n",
    "test.head()"
   ]
  },
  {
   "cell_type": "code",
   "execution_count": null,
   "metadata": {
    "id": "6WynSk_Mdj44"
   },
   "outputs": [],
   "source": [
    "tweetTokenizer = TweetTokenizer()\n",
    "\n",
    "def list_to_str(l):\n",
    "   return ' '.join([str(elem) for elem in l])\n",
    "   \n",
    "def textCleanup(df, flag=True):\n",
    "  df=df.to_frame(name=\"str\")\n",
    "  #df[\"clean\"] = df[\"str\"].progress_apply(text_to_word_sequence)   # 20 secondi\n",
    "  global tweetTokenizer\n",
    "  df[\"clean\"] = df[\"str\"].progress_apply(tweetTokenizer.tokenize) # 2 minutes but correctly handles emojis\n",
    "\n",
    "  # punct and stop words\n",
    "  \n",
    "\n",
    "  lemmatizer = WordNetLemmatizer() \n",
    "  \n",
    "  df[\"clean\"] = df[\"clean\"].progress_apply(lambda sentence : [lemmatizer.lemmatize(word) for word in sentence if word not in stop_words]) # 10 secondi\n",
    "  df[\"clean\"] = df[\"clean\"].progress_apply(lambda sentence:\n",
    "                                           [w for w in sentence if w\n",
    "                                              not in string.punctuation\n",
    "                                              and w not in stop_words and (len(w)>1 or w.isdigit()) and w not in emoji.UNICODE_EMOJI]) # 18 s\n",
    "  plot_common_tokens(df[\"clean\"], \"Most Common Tokens without StopWords\", n=20)\n",
    "  if flag:\n",
    "    df[\"clean\"] = df[\"clean\"].progress_apply(list_to_str) # 6 secondi\n",
    "  return df[\"clean\"]"
   ]
  },
  {
   "cell_type": "code",
   "execution_count": null,
   "metadata": {
    "id": "JwTCeUoL6Rq7"
   },
   "outputs": [],
   "source": [
    "def preprocessData(data):\n",
    "  print('description clean up')\n",
    "  data[\"item_description_clean\"] = textCleanup(data[\"item_description\"]) \n",
    "\n",
    "  print('name clean up')\n",
    "  data[\"name_clean\"] = textCleanup(data[\"name\"])\n",
    "  \n",
    "  return data"
   ]
  },
  {
   "cell_type": "code",
   "execution_count": null,
   "metadata": {
    "id": "_JELRL6ipo0D"
   },
   "outputs": [],
   "source": [
    "def flat_list(l):\n",
    "    return  [item for sublist in l for item in sublist]"
   ]
  },
  {
   "cell_type": "code",
   "execution_count": null,
   "metadata": {
    "id": "gMSrHLKdpWQL"
   },
   "outputs": [],
   "source": [
    "def plot_common_tokens(tokens, title, n=20):\n",
    "    sentences = (list(itertools.chain(tokens)))\n",
    "    flat_sentences = flat_list(sentences)\n",
    "    counts = Counter(flat_sentences)\n",
    "    #print(counts.most_common(30))\n",
    "    common_words = [word[0] for word in counts.most_common(n)]\n",
    "    common_counts = [word[1] for word in counts.most_common(n)]\n",
    "    fig = plt.figure(figsize=(18,6))\n",
    "    sns.barplot(x=common_words, y=common_counts)\n",
    "    plt.title(title)\n",
    "    plt.show()"
   ]
  },
  {
   "cell_type": "code",
   "execution_count": null,
   "metadata": {
    "colab": {
     "background_save": true,
     "base_uri": "https://localhost:8080/",
     "height": 116,
     "referenced_widgets": [
      "fd983a4f8df448bbaa93c1776859c589",
      "ab34dc388d5141bbbfa0ef09bd932d81",
      "209016ffac0d44778d229acf1d6f9507",
      "ad934468f2d44369b64e1cd65c8ddd08",
      "29a47bbd066745adb14edcf0f6ecfbbc",
      "2df9a41a15c24ea3b4f246ddc0402908",
      "eb20c9cacb234b239865ac72653db773",
      "3214fc75baaa4bec9c8921bbb5a31e90",
      "777803237cef4c87aa8699fb1d60d037",
      "b8a6521cc1aa477bb0a083566e62f449",
      "198b983aebb3494b92d995093f358bad",
      "f2f89028a8f6471cb70846b14503003d",
      "1c7ceb84daa640c9b4c16fb4f5c63d50",
      "eb44019d8f70478da1db79707f42382c",
      "7d23dae863d94dc99f2aba51de2b4b73",
      "b2eacd4bbd01433eac95d0d8d1fe2a1f",
      "1ec3e063f3364940a72629a262493626",
      "f4a282d0fa294d44a8fbbaffaa026643",
      "b7ea8b9b5f2f450e9aaf1c7aba7bcbdb",
      "cc6a228e6ca244f1b8c9c159a34d2999",
      "3b7affd53ad347e3a6061b29de2ce142",
      "db3336fed7994c3da3469043249e072f"
     ]
    },
    "id": "TZbvig1qHceY",
    "outputId": "81ef0eac-245a-4f69-d72e-7949bfdc8abd"
   },
   "outputs": [],
   "source": [
    "data = preprocessData(data)\n",
    "data.head()"
   ]
  },
  {
   "cell_type": "code",
   "execution_count": null,
   "metadata": {
    "colab": {
     "base_uri": "https://localhost:8080/",
     "height": 420,
     "referenced_widgets": [
      "7bc6fa8f28c745b3ad5f14bd08222927",
      "fb8d3545398b40e1bbfc1fb91cc71be9",
      "0bb211a31f2343f7b381b73a0f19f5c2",
      "c0330aac1e1e496a98047e21a0e1116e",
      "808849eb09754be0b9bb0e05fce6afac",
      "dc5b83d73dfd4a62b55f3c73b8cd1132",
      "4a088fc005d0495085cbed5bf8392587",
      "0555490beff54c77a1d4a3b25576cc0d"
     ]
    },
    "id": "zE3PL_bmDNjK",
    "outputId": "b81d4825-7c9b-4622-a184-4fa9cb045644"
   },
   "outputs": [],
   "source": [
    "test = preprocessData(test)\n",
    "test.head()"
   ]
  },
  {
   "cell_type": "markdown",
   "metadata": {
    "id": "sC4xOHj_0zow"
   },
   "source": [
    "# Load preprocessed"
   ]
  },
  {
   "cell_type": "code",
   "execution_count": null,
   "metadata": {
    "colab": {
     "base_uri": "https://localhost:8080/",
     "height": 370
    },
    "id": "b38isOpV0ejM",
    "outputId": "0ca8c5c6-fe51-4239-8d20-56b93ead97e7"
   },
   "outputs": [],
   "source": [
    "# save preprocessed data train\n",
    "force_overwrite = False\n",
    "fname = 'train_preprocess.npy'\n",
    "\n",
    "if force_overwrite or not os.path.isfile(fname):\n",
    "  print(\"saving preprocess train data\")\n",
    "  data.to_pickle(fname)\n",
    "else:\n",
    "  print(\"loading existing preprocess train data\")\n",
    "  data = pd.read_pickle(fname)"
   ]
  },
  {
   "cell_type": "code",
   "execution_count": null,
   "metadata": {
    "colab": {
     "base_uri": "https://localhost:8080/"
    },
    "id": "_LJ_alCc1znc",
    "outputId": "ae3fe830-90bd-4387-9882-cfd78595fea1"
   },
   "outputs": [],
   "source": [
    "force_overwrite = False\n",
    "fname = 'test_preprocess.npy'\n",
    "\n",
    "if force_overwrite or not os.path.isfile(fname):\n",
    "  print(\"saving preprocess test data\")\n",
    "  test.to_pickle(fname)\n",
    "else:\n",
    "  print(\"loading existing preprocess test data\")\n",
    "  test = pd.read_pickle(fname)"
   ]
  },
  {
   "cell_type": "markdown",
   "metadata": {
    "id": "iYZRBnbN0sv-"
   },
   "source": [
    "# Encoding"
   ]
  },
  {
   "cell_type": "code",
   "execution_count": null,
   "metadata": {
    "id": "trBPru1qEK5b"
   },
   "outputs": [],
   "source": [
    "# TODO ensure it is correct or use a well tested alternative like sklearn (found problems with dimensions)\n",
    "class LabelEncoder:\n",
    "  def __init__(self, unknown = 0, invUnknown = 'unknown'):\n",
    "    self.leDict = {}\n",
    "    self.invDict = {}\n",
    "    self.unknown = unknown\n",
    "    self.invUnknown = invUnknown\n",
    "\n",
    "  def fit(self, data):\n",
    "    vci = pd.value_counts(data).index\n",
    "    self.leDict = dict(zip(vci, range(1, len(vci)+1)))\n",
    "    self.invDict = dict(zip(range(1, len(vci)+1), vci))\n",
    "\n",
    "  def transform1(self, item):\n",
    "    return self.leDict.get(item, self.unknown)\n",
    "\n",
    "  def transform(self, data):\n",
    "    return data.apply(lambda item: self.transform1(item))\n",
    "\n",
    "  def inverse_transform1(self, item):\n",
    "    return self.invDict.get(item, self.invUnknown)\n",
    "\n",
    "  def inverse_transform(self, data):\n",
    "    return data.apply(lambda item: self.inverse_transform1(item))"
   ]
  },
  {
   "cell_type": "code",
   "execution_count": null,
   "metadata": {
    "id": "XO4EL__E3yTS"
   },
   "outputs": [],
   "source": [
    "cat_le = LabelEncoder()\n",
    "cat_le.fit(np.hstack([data[\"category_name\"], test[\"category_name\"]]))\n",
    "\n",
    "data[\"category_name_l\"] = cat_le.transform(data[\"category_name\"])\n",
    "test[\"category_name_l\"] = cat_le.transform(test[\"category_name\"])"
   ]
  },
  {
   "cell_type": "code",
   "execution_count": null,
   "metadata": {
    "id": "gfiZte2s3yTS"
   },
   "outputs": [],
   "source": [
    "brand_le = LabelEncoder()\n",
    "brand_le.fit(np.hstack([data[\"brand_name\"], test[\"category_name\"]]))\n",
    "\n",
    "data[\"brand_name_l\"] = brand_le.transform(data[\"brand_name\"])\n",
    "test[\"brand_name_l\"] = brand_le.transform(test[\"brand_name\"])"
   ]
  },
  {
   "cell_type": "markdown",
   "metadata": {
    "id": "Al4hG-g33lq8"
   },
   "source": [
    "## Keras Embedding"
   ]
  },
  {
   "cell_type": "code",
   "execution_count": null,
   "metadata": {
    "id": "L3fBpRMpHJoh"
   },
   "outputs": [],
   "source": [
    "# tokenize with keras; it also does some encoding\n",
    "def tokenizeData(df, description, name, tokenizer= None, texts= None):\n",
    "  if tokenizer == None:\n",
    "    tokenizer = Tokenizer()\n",
    "\n",
    "    print(\"fit tokenizer\")\n",
    "    tokenizer.fit_on_texts(texts)\n",
    "  \n",
    "  print('tokenize description')\n",
    "  df[\"item_description_t\"]=tokenizer.texts_to_sequences(df[description])\n",
    "\n",
    "  print('tokenize name')\n",
    "  df[\"name_t\"]=tokenizer.texts_to_sequences(df[name])\n",
    "  return df, tokenizer"
   ]
  },
  {
   "cell_type": "code",
   "execution_count": null,
   "metadata": {
    "colab": {
     "base_uri": "https://localhost:8080/"
    },
    "id": "1hzwtYpKHon7",
    "outputId": "e749c74e-83dd-424d-c2fd-00c62d834b17"
   },
   "outputs": [],
   "source": [
    "texts = np.hstack([data[\"item_description_clean\"], data[\"name_clean\"]])\n",
    "\n",
    "data_keras, tokenizer = tokenizeData(data ,\"item_description_clean\" ,\"name_clean\", None, texts)"
   ]
  },
  {
   "cell_type": "code",
   "execution_count": null,
   "metadata": {
    "id": "JClIo-Qt4eS-"
   },
   "outputs": [],
   "source": [
    "#data_keras_bk = data_keras\n",
    "test_keras_bk = test_keras"
   ]
  },
  {
   "cell_type": "code",
   "execution_count": null,
   "metadata": {
    "colab": {
     "base_uri": "https://localhost:8080/",
     "height": 399
    },
    "id": "Uc1xhJ9nHnAL",
    "outputId": "666f1ce5-e1b1-4913-a3eb-7227253e7bf5"
   },
   "outputs": [],
   "source": [
    "data_keras=data_keras[[\"item_condition_id\",\"shipping\",\"category_name_l\",\"brand_name_l\", \"item_description_t\", \"name_t\", \"price\"]]\n",
    "data_keras"
   ]
  },
  {
   "cell_type": "code",
   "execution_count": null,
   "metadata": {
    "colab": {
     "base_uri": "https://localhost:8080/"
    },
    "id": "ClNGIbYoE416",
    "outputId": "cea80472-2347-4b8b-e821-27ada539794f"
   },
   "outputs": [],
   "source": [
    "test_keras, _ = tokenizeData(test ,\"item_description\", \"name\", tokenizer)"
   ]
  },
  {
   "cell_type": "code",
   "execution_count": null,
   "metadata": {
    "colab": {
     "base_uri": "https://localhost:8080/",
     "height": 399
    },
    "id": "srQCadR3Jvfu",
    "outputId": "13cf648f-eb45-4aae-e826-6ff3944ed76a"
   },
   "outputs": [],
   "source": [
    "test_keras=test[[\"item_condition_id\",\"shipping\",\"category_name_l\",\"brand_name_l\", \"item_description_t\", \"name_t\"]]\n",
    "test_keras"
   ]
  },
  {
   "cell_type": "code",
   "execution_count": null,
   "metadata": {
    "id": "siBwn0ntHnmY"
   },
   "outputs": [],
   "source": [
    "train_keras, validation_keras = train_test_split(data_keras, test_size=0.2, random_state=1000)"
   ]
  },
  {
   "cell_type": "code",
   "execution_count": null,
   "metadata": {
    "colab": {
     "base_uri": "https://localhost:8080/"
    },
    "id": "5W0A95PQEDb_",
    "outputId": "36eda7ad-49b5-4436-8e61-90db1f7b8c7e"
   },
   "outputs": [],
   "source": [
    "vocab_size= len(tokenizer.word_index)+1\n",
    "print(vocab_size)\n",
    "# clean con trattamento emoji 193300\n",
    "# clean 246054\n",
    "# no clean 255431 (considerando tutto anche punteggiatura)"
   ]
  },
  {
   "cell_type": "code",
   "execution_count": null,
   "metadata": {
    "colab": {
     "base_uri": "https://localhost:8080/",
     "height": 399
    },
    "id": "cVKaHBR0QPgs",
    "outputId": "79b675e0-d71f-45f2-babb-346bc2e599fc"
   },
   "outputs": [],
   "source": [
    "train_keras[[\"item_description_t\",\"name_t\"]]"
   ]
  },
  {
   "cell_type": "code",
   "execution_count": null,
   "metadata": {
    "id": "Y40ov-ULHtla"
   },
   "outputs": [],
   "source": [
    "desc_length_max=75\n",
    "inputDesc_train_keras = pad_sequences(train_keras[\"item_description_t\"],\n",
    "                                                  padding='post', maxlen=desc_length_max)"
   ]
  },
  {
   "cell_type": "code",
   "execution_count": null,
   "metadata": {
    "id": "tky1YzlkB8U5"
   },
   "outputs": [],
   "source": [
    "inputDesc_validation_keras = pad_sequences(validation_keras[\"item_description_t\"],\n",
    "                                                  padding='post', maxlen=desc_length_max)"
   ]
  },
  {
   "cell_type": "code",
   "execution_count": null,
   "metadata": {
    "id": "XBZIAP9n3yTU"
   },
   "outputs": [],
   "source": [
    "name_length_max=10\n",
    "inputName_train_keras = pad_sequences(train_keras[\"name_t\"], padding='post', maxlen=name_length_max)"
   ]
  },
  {
   "cell_type": "code",
   "execution_count": null,
   "metadata": {
    "id": "1uhYXRYQCCHb"
   },
   "outputs": [],
   "source": [
    "inputName_validation_keras = pad_sequences(validation_keras[\"name_t\"], padding='post', maxlen=name_length_max)"
   ]
  },
  {
   "cell_type": "code",
   "execution_count": null,
   "metadata": {
    "colab": {
     "base_uri": "https://localhost:8080/"
    },
    "id": "nFlm8Qqx-Qab",
    "outputId": "16287f04-e377-4bf2-e227-f2aada259784"
   },
   "outputs": [],
   "source": [
    "y_train_keras = train_keras[\"price\"]\n",
    "y_train_keras"
   ]
  },
  {
   "cell_type": "code",
   "execution_count": null,
   "metadata": {
    "colab": {
     "base_uri": "https://localhost:8080/"
    },
    "id": "IkHBOiRXggJw",
    "outputId": "0bd8b506-f711-4904-9729-debede1b61f4"
   },
   "outputs": [],
   "source": [
    "y_validation_keras = validation_keras[\"price\"]\n",
    "y_validation_keras"
   ]
  },
  {
   "cell_type": "code",
   "execution_count": null,
   "metadata": {
    "id": "CZh4kWw73yTY"
   },
   "outputs": [],
   "source": [
    "inputA_train_keras = train_keras[[\"item_condition_id\", \"category_name_l\", \"brand_name_l\", \"shipping\"]].values.astype('int32')"
   ]
  },
  {
   "cell_type": "code",
   "execution_count": null,
   "metadata": {
    "id": "-oTri-SwCHqe"
   },
   "outputs": [],
   "source": [
    "inputA_validation_keras = validation_keras[[\"item_condition_id\", \"category_name_l\", \"brand_name_l\", \"shipping\"]].values.astype('int32')"
   ]
  },
  {
   "cell_type": "code",
   "execution_count": null,
   "metadata": {
    "id": "7ZmQxJaT3yTX"
   },
   "outputs": [],
   "source": [
    "name_vocab_size= vocab_size\n",
    "desc_vocab_size= vocab_size\n",
    "def getModelKeras(name_length_max, desc_length_max, name_vocab_size, desc_vocab_size):\n",
    "    inputA = Input(shape=(4,))\n",
    "    #Ad = Dense(4, activation='relu')(inputA)\n",
    "    Ad = inputA\n",
    "    \n",
    "    inputName = Input(shape=(name_length_max,))\n",
    "    Ne = Embedding(input_dim=name_vocab_size, output_dim=50, input_length=name_length_max)(inputName)\n",
    "    #Ne = Embedding(\n",
    "    #    num_tokens,\n",
    "    #    embedding_dim,\n",
    "    #    embeddings_initializer=keras.initializers.Constant(embedding_matrix),\n",
    "    #    trainable=False,\n",
    "    #)(inputName)\n",
    "    Nd = Bidirectional(LSTM(12, return_sequences=True, dropout=0.2))(Ne)\n",
    "    Nd =  GlobalMaxPool1D()(Nd)\n",
    "\n",
    "    #Nd = Nf\n",
    "    \n",
    "    inputDesc = Input(shape=(desc_length_max,))\n",
    "    De = Embedding(input_dim=desc_vocab_size, output_dim=50, input_length=desc_length_max)(inputDesc)\n",
    "    #De = Embedding(\n",
    "    #    num_tokens,\n",
    "    #    embedding_dim,\n",
    "    #    embeddings_initializer=keras.initializers.Constant(embedding_matrix),\n",
    "    #    trainable=False,\n",
    "    #)(inputDesc)\n",
    "    Dd = Bidirectional(LSTM(16, return_sequences=True, dropout=0.2))(De)\n",
    "    Dd = Bidirectional(LSTM(8, return_sequences=True, dropout=0.2))(Dd)\n",
    "    \n",
    "    Dd =  GlobalMaxPool1D()(Dd)\n",
    "    #Dd = Df\n",
    "    \n",
    "    concat = Concatenate()([Ad, Nd, Dd])\n",
    "\n",
    "    x = Dropout(0.2)(concat)    \n",
    "    x = Dense(32, activation='relu')(x)\n",
    "    x = Dropout(0.2)(x)\n",
    "    x = Dense(16, activation='relu')(x)\n",
    "    \n",
    "    x = Dense(1, activation='linear')(x)\n",
    "    \n",
    "    model = Model(inputs=[inputA, inputName, inputDesc], outputs=x)\n",
    "    \n",
    "    return model\n",
    "    "
   ]
  },
  {
   "cell_type": "code",
   "execution_count": null,
   "metadata": {
    "colab": {
     "base_uri": "https://localhost:8080/"
    },
    "id": "SWfolHUC3yTX",
    "outputId": "23d9a337-f89a-4574-902c-4edd75adbde8"
   },
   "outputs": [],
   "source": [
    "model_keras = getModelKeras(name_length_max, desc_length_max, name_vocab_size, desc_vocab_size)\n",
    "model_keras.summary()"
   ]
  },
  {
   "cell_type": "code",
   "execution_count": null,
   "metadata": {
    "colab": {
     "base_uri": "https://localhost:8080/",
     "height": 1000
    },
    "id": "aNoRvN6T3yTX",
    "outputId": "01aeefcf-a127-4dfa-be59-9618cf1f9725"
   },
   "outputs": [],
   "source": [
    "plot_model(model_keras)"
   ]
  },
  {
   "cell_type": "code",
   "execution_count": null,
   "metadata": {
    "id": "1-rcb1aLIHPX"
   },
   "outputs": [],
   "source": [
    "model_keras.compile(loss = root_mean_squared_logarithmic_error, optimizer='adam', metrics=['mse', 'mae', tf.keras.metrics.RootMeanSquaredError(), 'mean_squared_logarithmic_error', root_mean_squared_logarithmic_error])"
   ]
  },
  {
   "cell_type": "markdown",
   "metadata": {
    "id": "5eQBhACJOZSf"
   },
   "source": [
    "https://machinelearningmastery.com/clean-text-machine-learning-python/ ultima sezione"
   ]
  },
  {
   "cell_type": "code",
   "execution_count": null,
   "metadata": {
    "colab": {
     "base_uri": "https://localhost:8080/"
    },
    "id": "Y2m3WcI-JWcP",
    "outputId": "fdee7d48-0805-42fa-f79c-3e507e94674a"
   },
   "outputs": [],
   "source": [
    "callback = tf.keras.callbacks.EarlyStopping(monitor='loss', patience=2)\n",
    "\n",
    "history_keras = model_keras.fit(x=[inputA_train_keras,inputName_train_keras, inputDesc_train_keras], y=y_train_keras,\n",
    "                    epochs=10,\n",
    "                    verbose=True,\n",
    "                    validation_data=([inputA_validation_keras ,inputName_validation_keras, inputDesc_validation_keras], y_validation_keras),\n",
    "                    callbacks=[callback],\n",
    "                    batch_size=512)\n",
    "# senza pulizia  loss: 0.4100  e val_root_mean_squared_logarithmic_error: 0.4543\n",
    "# con pulizia leggera (lower)  val_root_mean_squared_logarithmic_error: 0.455 e loss: 0.4\n",
    "# con pulizia val_root_mean_squared_logarithmic_error: 0.4643 e loss: 0.4269\n",
    "# con lunghezza embedding 50 e senza pulizia val_root_mean_squared_logarithmic_error: 0.4556 e loss: 0.3675 con 10 epoche "
   ]
  },
  {
   "cell_type": "code",
   "execution_count": null,
   "metadata": {
    "id": "m6ZqDQxG4de0"
   },
   "outputs": [],
   "source": [
    "histDf = pd.DataFrame(history.history)\n",
    "histDf.tail()"
   ]
  },
  {
   "cell_type": "code",
   "execution_count": null,
   "metadata": {
    "id": "d8NNZQXuht7t"
   },
   "outputs": [],
   "source": [
    "histDf.plot(y=[\"loss\", \"val_loss\"])"
   ]
  },
  {
   "cell_type": "code",
   "execution_count": null,
   "metadata": {
    "id": "qgCkkae3Kdmr"
   },
   "outputs": [],
   "source": [
    "inputA_test_keras = test_keras[[\"item_condition_id\", \"category_name_l\", \"brand_name_l\", \"shipping\"]].values.astype('int32')\n",
    "inputName_test_keras = pad_sequences(test_keras[\"name_t\"], padding='post', maxlen=name_length_max)\n",
    "inputDesc_test_keras = pad_sequences(test_keras[\"item_description_t\"], padding='post', maxlen=desc_length_max)\n",
    "pred_keras = model_keras.predict([inputA_test_keras, inputName_test_keras, inputDesc_test_keras])\n",
    "pred_keras"
   ]
  },
  {
   "cell_type": "code",
   "execution_count": null,
   "metadata": {
    "id": "8-IkK1IkNqXD"
   },
   "outputs": [],
   "source": [
    "import math\n",
    "\n",
    "def rmsle(y, y_pred):\n",
    "    assert len(y) == len(y_pred)\n",
    "    to_sum = [(math.log(y_pred[i] + 1) - math.log(y[i] + 1)) ** 2.0 for i,pred in enumerate(y_pred)]\n",
    "    return (sum(to_sum) * (1.0/len(y))) ** 0.5"
   ]
  },
  {
   "cell_type": "code",
   "execution_count": null,
   "metadata": {
    "id": "qeCyj4NcNtuU"
   },
   "outputs": [],
   "source": [
    "validation_keras"
   ]
  },
  {
   "cell_type": "code",
   "execution_count": null,
   "metadata": {
    "id": "ODIe2aySMUZj"
   },
   "outputs": [],
   "source": [
    "pred_keras=pred_keras.round()"
   ]
  },
  {
   "cell_type": "code",
   "execution_count": null,
   "metadata": {
    "id": "oLp_8poJQBmn"
   },
   "outputs": [],
   "source": [
    "pred_v_keras = model.predict([inputA_validation_keras, inputName_validation_keras, inputDesc_validation_keras])\n",
    "pred_v_keras = pred_v_keras.round()"
   ]
  },
  {
   "cell_type": "code",
   "execution_count": null,
   "metadata": {
    "id": "5NmUm_gaRWHL"
   },
   "outputs": [],
   "source": [
    "len(pred_v_keras)"
   ]
  },
  {
   "cell_type": "code",
   "execution_count": null,
   "metadata": {
    "id": "nFrRfXG-RhVr"
   },
   "outputs": [],
   "source": [
    "len(y_validation_keras)"
   ]
  },
  {
   "cell_type": "code",
   "execution_count": null,
   "metadata": {
    "id": "gJPxtmcQRJlp"
   },
   "outputs": [],
   "source": [
    "root_mean_squared_logarithmic_error(y_validation_keras, pred_v_keras)"
   ]
  },
  {
   "cell_type": "markdown",
   "metadata": {
    "id": "G91ZG_SXUU50"
   },
   "source": [
    "## Glove pretrained"
   ]
  },
  {
   "cell_type": "markdown",
   "metadata": {
    "id": "tNBwsIkTJtuu"
   },
   "source": [
    "https://nlp.stanford.edu/projects/glove/"
   ]
  },
  {
   "cell_type": "code",
   "execution_count": null,
   "metadata": {
    "id": "eaYOtsY36rOz"
   },
   "outputs": [],
   "source": [
    "#archive_url = 'http://downloads.cs.stanford.edu/nlp/data/wordvecs/glove.6B.zip'\n",
    "#archive_url = \"https://github.com/facebookresearch/fastText/archive/v0.9.2.zip\"\n",
    "#archive_url = \"https://www.cs.uic.edu/~hxu/ele_review_qa_300d.tar.gz\"\n",
    "archive_url = 'http://downloads.cs.stanford.edu/nlp/data/wordvecs/glove.840B.300d.zip'\n",
    "archive_name = 'glove.840B.300d.zip'\n",
    "remove_archive = False\n",
    "embedding_fname = 'glove.840B.300d.txt'"
   ]
  },
  {
   "cell_type": "code",
   "execution_count": null,
   "metadata": {
    "id": "OUeT17cO-xhP"
   },
   "outputs": [],
   "source": [
    "if not os.path.isfile(archive_name) and not os.path.isfile(embedding_fname):\n",
    "  ! wget {archive_url} -O {archive_name}"
   ]
  },
  {
   "cell_type": "code",
   "execution_count": null,
   "metadata": {
    "id": "m6X2PUTqGNGI"
   },
   "outputs": [],
   "source": [
    "if not os.path.isfile(embedding_fname):\n",
    "  ! unzip {archive_name} {embedding_fname}\n",
    "\n",
    "# remove archive if already extracted\n",
    "if remove_archive and os.path.isfile(embedding_fname):\n",
    "  os.remove(archive_name)"
   ]
  },
  {
   "cell_type": "markdown",
   "metadata": {
    "id": "OTMOU0Pk8A6_"
   },
   "source": [
    "Needs a word encoding index (e.g. keras one)"
   ]
  },
  {
   "cell_type": "code",
   "execution_count": null,
   "metadata": {
    "colab": {
     "base_uri": "https://localhost:8080/"
    },
    "id": "gPFLTtl_C6A4",
    "outputId": "97b38f2a-b765-4617-b0c5-d228fff6f71f"
   },
   "outputs": [],
   "source": [
    "word_index = tokenizer.word_index\n",
    "print(len(word_index))"
   ]
  },
  {
   "cell_type": "code",
   "execution_count": null,
   "metadata": {
    "colab": {
     "base_uri": "https://localhost:8080/",
     "height": 53
    },
    "id": "hVnTcD3nCet7",
    "outputId": "af36cc68-9ac8-4b9b-a715-ceb4dca249ff"
   },
   "outputs": [],
   "source": [
    "path_to_glove_file = os.path.join(\n",
    "    base_dir, embedding_fname\n",
    ")\n",
    "\n",
    "'''embeddings_index = {}\n",
    "with open(path_to_glove_file) as f:\n",
    "    for line in f:\n",
    "        word, coefs = line.split(maxsplit=1)\n",
    "        coefs = np.fromstring(coefs, \"f\", sep=\" \")\n",
    "        embeddings_index[word] = coefs\n",
    "\n",
    "print(\"Found %s word vectors.\" % len(embeddings_index))'''"
   ]
  },
  {
   "cell_type": "code",
   "execution_count": null,
   "metadata": {
    "colab": {
     "base_uri": "https://localhost:8080/",
     "height": 36
    },
    "id": "Gg-i_nmregk7",
    "outputId": "b1259475-f398-46b7-b4d0-053ebd5be731"
   },
   "outputs": [],
   "source": [
    "path_to_glove_file"
   ]
  },
  {
   "cell_type": "code",
   "execution_count": null,
   "metadata": {
    "id": "cYVbr8mGYHqd"
   },
   "outputs": [],
   "source": [
    "def create_embedding_matrix(filepath, word_index, embedding_dim):\n",
    "    vocab_size = len(word_index) + 1  # Adding again 1 because of reserved 0 index (padding)\n",
    "    embedding_matrix = np.zeros((vocab_size, embedding_dim))\n",
    "\n",
    "    with open(filepath) as f:\n",
    "        for line in f:\n",
    "            word, *vector = line.split()\n",
    "            if word in word_index:\n",
    "              i = word_index[word]\n",
    "              try: \n",
    "                embedding_matrix[i] = np.array(vector, dtype=np.float32)[:embedding_dim]\n",
    "              except:\n",
    "                print(word)\n",
    "                print(vector)\n",
    "                print(\"_______________________\")\n",
    "\n",
    "    return embedding_matrix"
   ]
  },
  {
   "cell_type": "code",
   "execution_count": null,
   "metadata": {
    "id": "6HqTmXgE_P8t"
   },
   "outputs": [],
   "source": [
    "def create_embedding_matrix(filepath, word_index, embedding_dim):\n",
    "    vocab_size = len(word_index) + 1  # Adding again 1 because of reserved 0 index (padding)\n",
    "    embedding_matrix = np.zeros((vocab_size, embedding_dim))\n",
    "\n",
    "    with open(filepath) as f:\n",
    "        for line in f:\n",
    "            word, *vector = line.split()\n",
    "            if word in word_index:\n",
    "              i = word_index[word]\n",
    "              try: \n",
    "                embedding_matrix[i] = np.array(vector, dtype=np.float32)[:embedding_dim]\n",
    "                \n",
    "  \n",
    "              except:\n",
    "\n",
    "                vector=vector[1:embedding_dim+1]\n",
    "                embedding_matrix[i] = np.array(vector, dtype=np.float32)\n",
    "\n",
    "\n",
    "    return embedding_matrix"
   ]
  },
  {
   "cell_type": "code",
   "execution_count": null,
   "metadata": {
    "id": "16SQunrgYXv2"
   },
   "outputs": [],
   "source": [
    "embedding_dim = 50\n",
    "embedding_matrix = create_embedding_matrix(path_to_glove_file, tokenizer.word_index, embedding_dim)"
   ]
  },
  {
   "cell_type": "code",
   "execution_count": null,
   "metadata": {
    "colab": {
     "base_uri": "https://localhost:8080/"
    },
    "id": "vp2dcxR2fi_n",
    "outputId": "1657a6f9-3920-4055-d80c-e494310ee2f8"
   },
   "outputs": [],
   "source": [
    "embedding_matrix[10]"
   ]
  },
  {
   "cell_type": "code",
   "execution_count": null,
   "metadata": {
    "colab": {
     "base_uri": "https://localhost:8080/"
    },
    "id": "oZBiI8g4eiz8",
    "outputId": "24a3df16-3897-40c9-bc73-a8b696904fde"
   },
   "outputs": [],
   "source": [
    "embedding_matrix[107098]"
   ]
  },
  {
   "cell_type": "code",
   "execution_count": null,
   "metadata": {
    "id": "FqusQItvZDmS"
   },
   "outputs": [],
   "source": [
    "nonzero_elements = np.count_nonzero(np.count_nonzero(embedding_matrix, axis=1))\n",
    "nonzero_elements / vocab_size\n",
    "# senza pulizia viene coperto il 28% del vocabolario\n",
    "# con pulizia il 26% senza emoji\n",
    "# con pulizia con emoji 34%\n",
    "# 0.3779 senza pulizia con glove più grande (glove.840B.300d)\n",
    "# 0.467 con pulizia con glove più grande (glove.840B.300d)"
   ]
  },
  {
   "cell_type": "code",
   "execution_count": null,
   "metadata": {
    "colab": {
     "base_uri": "https://localhost:8080/"
    },
    "id": "Vffbp5FHB-ZN",
    "outputId": "9ab6790d-9928-4ed0-8475-52230b37614b"
   },
   "outputs": [],
   "source": [
    "'''#glove pretrained embedding\n",
    "num_tokens = len(word_index) + 2\n",
    "embedding_dim = 100\n",
    "hits = 0\n",
    "misses = 0\n",
    "\n",
    "# Prepare embedding matrix\n",
    "embedding_matrix = np.zeros((num_tokens, embedding_dim))\n",
    "for word, i in word_index.items():\n",
    "    embedding_vector = embeddings_index.get(word)\n",
    "    if embedding_vector is not None:\n",
    "        # Words not found in embedding index will be all-zeros.\n",
    "        # This includes the representation for \"padding\" and \"OOV\"\n",
    "        embedding_matrix[i] = embedding_vector\n",
    "        hits += 1\n",
    "    else:\n",
    "        misses += 1\n",
    "print(\"Converted %d words (%d misses)\" % (hits, misses))'''"
   ]
  },
  {
   "cell_type": "markdown",
   "metadata": {
    "id": "It4CwmHQl-zF"
   },
   "source": [
    "**IMPORTANTISSIMO: SCEGLIERE CHE LUNGHEZZA USARE PER L'ECONDING DELLE PAROLE DELLE DESCRIZIONI E DEI NOMI, CIOE' SE 8 VALORI ENTRAMBI O MANTENERE 8 E 16 VALORI**"
   ]
  },
  {
   "cell_type": "code",
   "execution_count": null,
   "metadata": {
    "id": "Sy937m-Yh-3T"
   },
   "outputs": [],
   "source": [
    "name_vocab_size= vocab_size\n",
    "desc_vocab_size= vocab_size\n",
    "def getModelGlove(name_length_max, desc_length_max, name_vocab_size, desc_vocab_size, embedding_matrix=None):\n",
    "    inputA = Input(shape=(4,))\n",
    "    Ad = inputA\n",
    "    \n",
    "    inputName = Input(shape=(name_length_max,))\n",
    "    if embedding_matrix.size == 0:\n",
    "      Ne = Embedding(input_dim=name_vocab_size, output_dim=50, weights=[embedding_matrix], input_length=name_length_max, trainable=False)(inputName)\n",
    "    else: \n",
    "      Ne = Embedding(input_dim=name_vocab_size, output_dim=50, input_length=name_length_max)(inputName)\n",
    "\n",
    "    Nd = Bidirectional(LSTM(12, return_sequences=True, dropout=0.2))(Ne)\n",
    "    Nd =  GlobalMaxPool1D()(Nd)\n",
    "    \n",
    "    inputDesc = Input(shape=(desc_length_max,))\n",
    "    if embedding_matrix.size == 0:\n",
    "      De = Embedding(input_dim=desc_vocab_size, output_dim=50, weights=[embedding_matrix], input_length=desc_length_max, trainable=False)(inputDesc)\n",
    "    else:\n",
    "      De = Embedding(input_dim=desc_vocab_size, output_dim=50, input_length=desc_length_max)(inputDesc)\n",
    "\n",
    "\n",
    "    Dd = Bidirectional(LSTM(16, return_sequences=True, dropout=0.2))(De)\n",
    "    Dd = Bidirectional(LSTM(8, return_sequences=True, dropout=0.2))(Dd)\n",
    "    \n",
    "    Dd =  GlobalMaxPool1D()(Dd)\n",
    "    \n",
    "    concat = Concatenate()([Ad, Nd, Dd])\n",
    "\n",
    "    x = Dropout(0.2)(concat)    \n",
    "    x = Dense(32, activation='relu')(x)\n",
    "    x = Dropout(0.2)(x)\n",
    "    x = Dense(16, activation='relu')(x)\n",
    "    \n",
    "    x = Dense(1, activation='linear')(x)\n",
    "    \n",
    "    model = Model(inputs=[inputA, inputName, inputDesc], outputs=x)\n",
    "    \n",
    "    return model\n",
    "    "
   ]
  },
  {
   "cell_type": "code",
   "execution_count": null,
   "metadata": {
    "colab": {
     "base_uri": "https://localhost:8080/"
    },
    "id": "Eh6pXWdkhbzZ",
    "outputId": "9ee985f2-5b2e-41c2-91c8-32c8ddd453af"
   },
   "outputs": [],
   "source": [
    "model_glove= getModelGlove(name_length_max, desc_length_max, name_vocab_size, desc_vocab_size, embedding_matrix)\n",
    "model_glove.summary()"
   ]
  },
  {
   "cell_type": "code",
   "execution_count": null,
   "metadata": {
    "colab": {
     "base_uri": "https://localhost:8080/",
     "height": 1000
    },
    "id": "fWVVDyURj6ey",
    "outputId": "8fb64804-dd09-4174-895b-16e1af27b559"
   },
   "outputs": [],
   "source": [
    "plot_model(model_glove)"
   ]
  },
  {
   "cell_type": "code",
   "execution_count": null,
   "metadata": {
    "id": "_LeBKCNokAoL"
   },
   "outputs": [],
   "source": [
    "model_glove.compile(loss = root_mean_squared_logarithmic_error, optimizer='adam', metrics=['mse', 'mae', tf.keras.metrics.RootMeanSquaredError(), 'mean_squared_logarithmic_error', root_mean_squared_logarithmic_error])"
   ]
  },
  {
   "cell_type": "code",
   "execution_count": null,
   "metadata": {
    "colab": {
     "base_uri": "https://localhost:8080/"
    },
    "id": "QG9QznRskJP-",
    "outputId": "e89843ad-925b-4977-875a-9d2ce185d25f"
   },
   "outputs": [],
   "source": [
    "callback = tf.keras.callbacks.EarlyStopping(monitor='val_loss', patience=2)\n",
    "\n",
    "history_glove = model_glove.fit(x=[inputA_train_keras,inputName_train_keras, inputDesc_train_keras], y=y_train_keras,\n",
    "                    epochs=10,\n",
    "                    verbose=True,\n",
    "                    validation_data=([inputA_validation_keras ,inputName_validation_keras, inputDesc_validation_keras], y_validation_keras),\n",
    "                    callbacks=[callback],\n",
    "                    batch_size=512)\n",
    "# glove 6M \n",
    "# con 10 epoche e senza pulizia: loss: 0.5564 e val_root_mean_squared_logarithmic_error: 0.5392\n",
    "# con 10 epoche e pulizia emoji etc: loss: 0.5553 e val_root_mean_squared_logarithmic_error: 0.5312\n",
    "\n",
    "# glove.840B.300d\n",
    "# con 10 epoche senza pulizia: loss: 0.3678  e val_root_mean_squared_logarithmic_error: 0.4537\n",
    "# con 10 epoce con pulizia: loss: 0.3817 e val_root_mean_squared_logarithmic_error 0.4604"
   ]
  },
  {
   "cell_type": "markdown",
   "metadata": {
    "id": "Am9eiXhqax3l"
   },
   "source": [
    "## BoW"
   ]
  },
  {
   "cell_type": "code",
   "execution_count": null,
   "metadata": {
    "colab": {
     "base_uri": "https://localhost:8080/",
     "height": 278
    },
    "id": "RKpbPcZMddGB",
    "outputId": "a1e7616a-9a84-4dc0-c468-3f2d59e36467"
   },
   "outputs": [],
   "source": [
    "data.head()"
   ]
  },
  {
   "cell_type": "code",
   "execution_count": null,
   "metadata": {
    "id": "WMvcp3DzpFlE"
   },
   "outputs": [],
   "source": [
    "train_cvec, validation_cvec = train_test_split(data, test_size=0.2, random_state=1000)"
   ]
  },
  {
   "cell_type": "code",
   "execution_count": null,
   "metadata": {
    "colab": {
     "base_uri": "https://localhost:8080/"
    },
    "id": "cc9UaX5XKaRg",
    "outputId": "4acdd705-f01d-4171-c939-f14429f3dfbc"
   },
   "outputs": [],
   "source": [
    "categorical_train_cvec= train_cvec[[\"item_condition_id\",\"shipping\",\"category_name_l\",\"brand_name_l\"]]\n",
    "print(\"Train:\")\n",
    "print(categorical_train_cvec.head())\n",
    "print(\"\\nValidation:\")\n",
    "categorical_validation_cvec= validation_cvec[[\"item_condition_id\",\"shipping\",\"category_name_l\",\"brand_name_l\"]]\n",
    "print(categorical_validation_cvec.head())"
   ]
  },
  {
   "cell_type": "code",
   "execution_count": null,
   "metadata": {
    "id": "-I1r2JgCxP1g"
   },
   "outputs": [],
   "source": [
    "y_train_cvec=train_cvec[\"price\"].values\n",
    "y_validation_cvec=validation_cvec[\"price\"].values"
   ]
  },
  {
   "cell_type": "markdown",
   "metadata": {
    "id": "uuMtKfPMrZBk"
   },
   "source": [
    "### Count Vectorizer"
   ]
  },
  {
   "cell_type": "code",
   "execution_count": null,
   "metadata": {
    "colab": {
     "base_uri": "https://localhost:8080/",
     "height": 337
    },
    "id": "cnLBxl6b0Ruj",
    "outputId": "63297752-fada-4d6e-9468-b8cb6839b23b"
   },
   "outputs": [],
   "source": [
    "vectorizer_desc = CountVectorizer()\n",
    "vectorizer_desc.fit(data[\"item_description\"].values)"
   ]
  },
  {
   "cell_type": "code",
   "execution_count": null,
   "metadata": {
    "colab": {
     "base_uri": "https://localhost:8080/"
    },
    "id": "2hGHK3_f3du3",
    "outputId": "5e9a285e-b3fa-44b5-de69-b17ac692335f"
   },
   "outputs": [],
   "source": [
    "len(vectorizer_desc.vocabulary_)"
   ]
  },
  {
   "cell_type": "code",
   "execution_count": null,
   "metadata": {
    "id": "WvNUFh5zFz09"
   },
   "outputs": [],
   "source": [
    "description_train_cvec = vectorizer_desc.transform(train_cvec[\"item_description\"].values)"
   ]
  },
  {
   "cell_type": "code",
   "execution_count": null,
   "metadata": {
    "id": "0etpa0ospxMm"
   },
   "outputs": [],
   "source": [
    "description_validation_cvec = vectorizer_desc.transform(validation_cvec[\"item_description\"].values)"
   ]
  },
  {
   "cell_type": "code",
   "execution_count": null,
   "metadata": {
    "colab": {
     "base_uri": "https://localhost:8080/"
    },
    "id": "9myswCjJVeB6",
    "outputId": "70e0dde3-a19a-4021-ded0-66aef3761bc5"
   },
   "outputs": [],
   "source": [
    "type(description_validation_cvec)"
   ]
  },
  {
   "cell_type": "code",
   "execution_count": null,
   "metadata": {
    "colab": {
     "base_uri": "https://localhost:8080/"
    },
    "id": "BRsUcwbSpTWu",
    "outputId": "e4c9b9d1-57c6-46e4-965d-bbbf8d7bd838"
   },
   "outputs": [],
   "source": [
    "vectorizer_name = CountVectorizer()\n",
    "vectorizer_name.fit(data[\"name\"].values)"
   ]
  },
  {
   "cell_type": "code",
   "execution_count": null,
   "metadata": {
    "colab": {
     "base_uri": "https://localhost:8080/"
    },
    "id": "cx3VVZ15qI0h",
    "outputId": "18e818e4-2ffc-46ef-a4b4-8accf7bdfc98"
   },
   "outputs": [],
   "source": [
    "len(vectorizer_name.vocabulary_)"
   ]
  },
  {
   "cell_type": "code",
   "execution_count": null,
   "metadata": {
    "id": "nh1PddSiqSS_"
   },
   "outputs": [],
   "source": [
    "name_train_cvec = vectorizer_name.transform(train_cvec[\"name\"].values)\n",
    "name_validation_cvec = vectorizer_name.transform(validation_cvec[\"name\"].values)"
   ]
  },
  {
   "cell_type": "code",
   "execution_count": null,
   "metadata": {
    "colab": {
     "base_uri": "https://localhost:8080/"
    },
    "id": "TK01Kzkj6244",
    "outputId": "10a5442d-37af-482c-8509-f9259f89335a"
   },
   "outputs": [],
   "source": [
    "type(name_train_cvec)"
   ]
  },
  {
   "cell_type": "code",
   "execution_count": null,
   "metadata": {
    "id": "NzdkPXSu4VMb"
   },
   "outputs": [],
   "source": [
    "def getModel_bow(categorical_train, name_train, description_train):\n",
    "    inputA = Input(categorical_train.shape[1])\n",
    "    inputName = Input(name_train.shape[1])\n",
    "    inputDesc = Input(description_train.shape[1])\n",
    "    concat = Concatenate()([inputName, inputDesc, inputA])\n",
    "\n",
    "    x = Dropout(0.1)(concat)\n",
    "    x = Dense(32, activation='relu')(x)\n",
    "    x = Dropout(0.1)(x)\n",
    "    x = Dense(16, activation='relu')(x)\n",
    "    \n",
    "    x = Dense(1, activation='linear')(x)\n",
    "    \n",
    "    model = Model(inputs=[inputName ,inputDesc, inputA], outputs=x)\n",
    "\n",
    "    return model"
   ]
  },
  {
   "cell_type": "code",
   "execution_count": null,
   "metadata": {
    "colab": {
     "base_uri": "https://localhost:8080/"
    },
    "id": "bd_anq_Cxg4h",
    "outputId": "2172a9f5-869f-4627-c082-12c62986f22c"
   },
   "outputs": [],
   "source": [
    "model_cvec = getModel_bow(categorical_train_cvec, name_train_cvec, description_train_cvec)\n",
    "model_cvec.summary()"
   ]
  },
  {
   "cell_type": "code",
   "execution_count": null,
   "metadata": {
    "colab": {
     "base_uri": "https://localhost:8080/",
     "height": 661
    },
    "id": "AIsxSCOxyzLb",
    "outputId": "fb1bd6c6-f25e-4bef-c88e-08e07504f17e"
   },
   "outputs": [],
   "source": [
    "plot_model(model_cvec)"
   ]
  },
  {
   "cell_type": "code",
   "execution_count": null,
   "metadata": {
    "id": "93QpCY4F3hXa"
   },
   "outputs": [],
   "source": [
    "model_cvec.compile(loss = root_mean_squared_logarithmic_error, optimizer='adam', metrics=['mse', 'mae', tf.keras.metrics.RootMeanSquaredError(), 'mean_squared_logarithmic_error', root_mean_squared_logarithmic_error])"
   ]
  },
  {
   "cell_type": "code",
   "execution_count": null,
   "metadata": {
    "colab": {
     "base_uri": "https://localhost:8080/",
     "height": 408
    },
    "id": "B70Cb3AW7sEw",
    "outputId": "479b2323-437b-41c1-ad8b-a15b3cf314c5"
   },
   "outputs": [],
   "source": [
    "history_cvec = model_cvec.fit(x=[name_train_cvec, description_train_cvec, categorical_train_cvec.values],\n",
    "                    y=y_train_cvec,\n",
    "                    epochs=5,\n",
    "                    verbose=True,\n",
    "                    validation_data=(\n",
    "                        [name_validation_cvec, description_validation_cvec, categorical_validation_cvec.values]\n",
    "                        , y_validation_cvec),\n",
    "                    batch_size=512)"
   ]
  },
  {
   "cell_type": "markdown",
   "metadata": {
    "id": "0uHhyAV_VXCw"
   },
   "source": [
    "BOW con pulizia:\n",
    "loss: 0.4549 - mse: 877.1694 - mae: 10.7754 - root_mean_squared_error: 29.6144 - mean_squared_logarithmic_error: 0.2073 - root_mean_squared_logarithmic_error: 0.4549 - val_loss: 0.4572 - val_mse: 823.4496 - val_mae: 10.7306 - val_root_mean_squared_error: 28.6958 - val_mean_squared_logarithmic_error: 0.2095 - val_root_mean_squared_logarithmic_error: 0.4573"
   ]
  },
  {
   "cell_type": "markdown",
   "metadata": {
    "id": "jbJJkuirlZz1"
   },
   "source": [
    "BOW senza pulizia words:\n",
    "loss: 0.4537 - mse: 892.7444 - mae: 10.7434 - root_mean_squared_error: 29.8743 - mean_squared_logarithmic_error: 0.2063 - root_mean_squared_logarithmic_error: 0.4537 - val_loss: 0.4554 - val_mse: 848.4371 - val_mae: 10.7117 - val_root_mean_squared_error: 29.1279 - val_mean_squared_logarithmic_error: 0.2079 - val_root_mean_squared_logarithmic_error: 0.4555"
   ]
  },
  {
   "cell_type": "code",
   "execution_count": null,
   "metadata": {
    "id": "Zf88pKGe_6FI"
   },
   "outputs": [],
   "source": [
    "import matplotlib.pyplot as plt\n",
    "plt.style.use('ggplot')\n",
    "\n",
    "def plot_history(history):\n",
    "    rmsle = history.history['root_mean_squared_logarithmic_error']\n",
    "    val_rmsle = history.history['val_root_mean_squared_logarithmic_error']\n",
    "    loss = history.history['loss']\n",
    "    val_loss = history.history['val_loss']\n",
    "    x = range(1, len(rmsle) + 1)\n",
    "\n",
    "    plt.figure(figsize=(12, 5))\n",
    "    plt.subplot(1, 2, 1)\n",
    "    plt.plot(x, rmsle, 'b', label='Training rmsle')\n",
    "    plt.plot(x, val_rmsle, 'r', label='Validation rmsle')\n",
    "    plt.title('Training and validation root_mean_squared_logarithmic_error')\n",
    "    plt.legend()\n",
    "    plt.subplot(1, 2, 2)\n",
    "    plt.plot(x, loss, 'b', label='Training loss')\n",
    "    plt.plot(x, val_loss, 'r', label='Validation loss')\n",
    "    plt.title('Training and validation loss')\n",
    "    plt.legend()"
   ]
  },
  {
   "cell_type": "code",
   "execution_count": null,
   "metadata": {
    "id": "vgzFRzm-__Se"
   },
   "outputs": [],
   "source": [
    "plot_history(history)"
   ]
  },
  {
   "cell_type": "markdown",
   "metadata": {
    "id": "1uusyBK_m75L"
   },
   "source": [
    "### TF-IDF"
   ]
  },
  {
   "cell_type": "code",
   "execution_count": null,
   "metadata": {
    "id": "u1DFlMbsm95Z"
   },
   "outputs": [],
   "source": [
    "from sklearn.feature_extraction.text import TfidfVectorizer"
   ]
  },
  {
   "cell_type": "code",
   "execution_count": null,
   "metadata": {
    "id": "M0qBBoukwa_K"
   },
   "outputs": [],
   "source": [
    "data[\"item_description\"] = data[\"item_description\"]\n",
    "data[\"name\"] = data[\"name\"]"
   ]
  },
  {
   "cell_type": "code",
   "execution_count": null,
   "metadata": {
    "colab": {
     "base_uri": "https://localhost:8080/"
    },
    "id": "CHvnuhG_nF-o",
    "outputId": "2afed2bd-9100-47a6-f5e3-f3ec8ef24fec"
   },
   "outputs": [],
   "source": [
    "tfidf_vectorizer_desc = TfidfVectorizer()\n",
    "tfidf_vectorizer_desc.fit(data[\"item_description\"].values)"
   ]
  },
  {
   "cell_type": "code",
   "execution_count": null,
   "metadata": {
    "colab": {
     "base_uri": "https://localhost:8080/"
    },
    "id": "YNsnLmuEnOCA",
    "outputId": "a06bcc4d-ef06-4cb0-eb0b-98930c0b4750"
   },
   "outputs": [],
   "source": [
    "len(tfidf_vectorizer_desc.vocabulary_)"
   ]
  },
  {
   "cell_type": "code",
   "execution_count": null,
   "metadata": {
    "id": "1FEV_JeYnOq7"
   },
   "outputs": [],
   "source": [
    "tfidf_description_train = tfidf_vectorizer_desc.transform(train_cvec[\"item_description\"].values)\n",
    "tfidf_description_validation = tfidf_vectorizer_desc.transform(validation_cvec[\"item_description\"].values)"
   ]
  },
  {
   "cell_type": "code",
   "execution_count": null,
   "metadata": {
    "colab": {
     "base_uri": "https://localhost:8080/"
    },
    "id": "a-3628USnioQ",
    "outputId": "499ac225-1687-4a32-9074-30ad0c1b7de8"
   },
   "outputs": [],
   "source": [
    "tfidf_vectorizer_name = TfidfVectorizer()\n",
    "tfidf_vectorizer_name.fit(data[\"name\"])"
   ]
  },
  {
   "cell_type": "code",
   "execution_count": null,
   "metadata": {
    "colab": {
     "base_uri": "https://localhost:8080/"
    },
    "id": "G-qOh3FXnzSb",
    "outputId": "eacb572b-1f57-432f-c0a2-3a6d5457b40a"
   },
   "outputs": [],
   "source": [
    "len(tfidf_vectorizer_name.vocabulary_)"
   ]
  },
  {
   "cell_type": "code",
   "execution_count": null,
   "metadata": {
    "id": "yOnnouCxn_he"
   },
   "outputs": [],
   "source": [
    "tfidf_name_train = tfidf_vectorizer_name.transform(train_cvec[\"name\"])\n",
    "tfidf_name_validation = tfidf_vectorizer_name.transform(validation_cvec[\"name\"])"
   ]
  },
  {
   "cell_type": "code",
   "execution_count": null,
   "metadata": {
    "id": "GCSrpsML5e47"
   },
   "outputs": [],
   "source": [
    "def convert_sparse_matrix_to_sparse_tensor(X):\n",
    "    coo = X.tocoo()\n",
    "    indices = np.mat([coo.row, coo.col]).transpose()\n",
    "    return tf.SparseTensor(indices, coo.data, coo.shape)"
   ]
  },
  {
   "cell_type": "code",
   "execution_count": null,
   "metadata": {
    "colab": {
     "base_uri": "https://localhost:8080/"
    },
    "id": "zO23VoG_Umkx",
    "outputId": "557fb92f-522c-4474-a509-5ddf14575ae9"
   },
   "outputs": [],
   "source": [
    "type(tfidf_name_train) "
   ]
  },
  {
   "cell_type": "code",
   "execution_count": null,
   "metadata": {
    "id": "kyGnExtwqcgx"
   },
   "outputs": [],
   "source": [
    "#https://stackoverflow.com/questions/61961042/indices201-0-8-is-out-of-order-many-sparse-ops-require-sorted-indices-use"
   ]
  },
  {
   "cell_type": "code",
   "execution_count": null,
   "metadata": {
    "id": "FHw1A89wXWw0"
   },
   "outputs": [],
   "source": [
    "import scipy\n",
    "new_categorical_train_cvec=scipy.sparse.csr_matrix(categorical_train_cvec.values)\n",
    "new_categorical_validation_cvec=scipy.sparse.csr_matrix(categorical_validation_cvec.values)"
   ]
  },
  {
   "cell_type": "code",
   "execution_count": null,
   "metadata": {
    "id": "NeLdc-Esipcg"
   },
   "outputs": [],
   "source": [
    "new_tfidf_categorical_validation=tf.sparse.reorder(convert_sparse_matrix_to_sparse_tensor(new_categorical_validation_cvec))\n",
    "new_tfidf_categorical_train=tf.sparse.reorder(convert_sparse_matrix_to_sparse_tensor(new_categorical_train_cvec))"
   ]
  },
  {
   "cell_type": "code",
   "execution_count": null,
   "metadata": {
    "id": "gsRkzDbNhVPN"
   },
   "outputs": [],
   "source": [
    "new_tfidf_name_validation=tf.sparse.reorder(convert_sparse_matrix_to_sparse_tensor(tfidf_name_validation))\n",
    "new_tfidf_name_train=tf.sparse.reorder(convert_sparse_matrix_to_sparse_tensor(tfidf_name_train))"
   ]
  },
  {
   "cell_type": "code",
   "execution_count": null,
   "metadata": {
    "colab": {
     "base_uri": "https://localhost:8080/"
    },
    "id": "1tXBiPsZiE19",
    "outputId": "d5444390-577f-43f1-e938-247f709d48dc"
   },
   "outputs": [],
   "source": [
    "type(new_tfidf_name_validation)"
   ]
  },
  {
   "cell_type": "code",
   "execution_count": null,
   "metadata": {
    "colab": {
     "base_uri": "https://localhost:8080/"
    },
    "id": "C4XHrIyGiHS_",
    "outputId": "7e9a6fac-294d-4dbf-da7e-e7dec5b1350a"
   },
   "outputs": [],
   "source": [
    "type(tfidf_name_validation)"
   ]
  },
  {
   "cell_type": "code",
   "execution_count": null,
   "metadata": {
    "id": "WqX5vyv5jMjJ"
   },
   "outputs": [],
   "source": [
    "new_tfidf_description_validation=tf.sparse.reorder(convert_sparse_matrix_to_sparse_tensor(tfidf_description_validation))\n",
    "new_tfidf_description_train=tf.sparse.reorder(convert_sparse_matrix_to_sparse_tensor(tfidf_description_train))"
   ]
  },
  {
   "cell_type": "code",
   "execution_count": null,
   "metadata": {
    "id": "4rBPl6RDX7qM"
   },
   "outputs": [],
   "source": [
    "'''new_y_train_cvec=scipy.sparse.csr_matrix(y_train_cvec)\n",
    "new_y_validation_cvec=scipy.sparse.csr_matrix(y_validation_cvec)'''"
   ]
  },
  {
   "cell_type": "code",
   "execution_count": null,
   "metadata": {
    "id": "OOJzQCvZi1MH"
   },
   "outputs": [],
   "source": [
    "'''new_tfidf_y_validation=tf.sparse.reorder(convert_sparse_matrix_to_sparse_tensor(new_y_validation_cvec))\n",
    "new_tfidf_y_train=tf.sparse.reorder(convert_sparse_matrix_to_sparse_tensor(new_y_train_cvec))'''"
   ]
  },
  {
   "cell_type": "code",
   "execution_count": null,
   "metadata": {
    "id": "kBQK0C3bWkQs"
   },
   "outputs": [],
   "source": [
    "'''type(tf.sparse.reorder(convert_sparse_matrix_to_sparse_tensor(new_y_train_cvec)))'''"
   ]
  },
  {
   "cell_type": "code",
   "execution_count": null,
   "metadata": {
    "id": "oKQCzVxn9GT1"
   },
   "outputs": [],
   "source": [
    "def getModel_bow(name_train, description_train, categorical_train):\n",
    "    inputA = Input(categorical_train.shape[1])\n",
    "    inputName = Input(name_train.shape[1])\n",
    "    inputDesc = Input(description_train.shape[1])\n",
    "    concat = Concatenate()([inputName, inputDesc, inputA])\n",
    "\n",
    "    #x = Dropout(0.1)(concat)\n",
    "    x = Dense(32, activation='relu')(concat)\n",
    "    x = Dropout(0.1)(x)\n",
    "    x = Dense(16, activation='relu')(x)\n",
    "    x = Dropout(0.1)(x)\n",
    "    x = Dense(1, activation='linear')(x)\n",
    "    \n",
    "    model = Model(inputs=[inputName ,inputDesc, inputA], outputs=x)\n",
    "\n",
    "    return model"
   ]
  },
  {
   "cell_type": "code",
   "execution_count": null,
   "metadata": {
    "colab": {
     "base_uri": "https://localhost:8080/"
    },
    "id": "9XK-E2e0oKeC",
    "outputId": "eb12ec3d-4f82-4099-c262-9f7fe0f67dff"
   },
   "outputs": [],
   "source": [
    "model = getModel_bow(new_tfidf_name_train, new_tfidf_description_train, categorical_validation_cvec)\n",
    "model.summary() "
   ]
  },
  {
   "cell_type": "code",
   "execution_count": null,
   "metadata": {
    "colab": {
     "base_uri": "https://localhost:8080/",
     "height": 661
    },
    "id": "ZqJ7pgfosi4q",
    "outputId": "b13bf39b-9e26-4220-9888-bf2ef4d33b2f"
   },
   "outputs": [],
   "source": [
    "plot_model(model)"
   ]
  },
  {
   "cell_type": "code",
   "execution_count": null,
   "metadata": {
    "id": "-4Fv4q35ocWN"
   },
   "outputs": [],
   "source": [
    "model.compile(loss = root_mean_squared_logarithmic_error, optimizer='adam', metrics=['mse', 'mae', tf.keras.metrics.RootMeanSquaredError(), 'mean_squared_logarithmic_error', root_mean_squared_logarithmic_error])"
   ]
  },
  {
   "cell_type": "code",
   "execution_count": null,
   "metadata": {
    "colab": {
     "base_uri": "https://localhost:8080/"
    },
    "id": "a80wIgkOoelZ",
    "outputId": "6f565c9f-8c7e-4f18-a957-6ccca0392ab1"
   },
   "outputs": [],
   "source": [
    "history = model.fit(x=[new_tfidf_name_train, new_tfidf_description_train, new_tfidf_categorical_train], y=y_train_cvec,\n",
    "                    epochs=5,\n",
    "                    verbose=True,\n",
    "                    validation_data=([new_tfidf_name_validation, new_tfidf_description_validation, new_tfidf_categorical_validation], y_validation_cvec),\n",
    "                    batch_size=512)\n",
    "# 0.4771"
   ]
  },
  {
   "cell_type": "code",
   "execution_count": null,
   "metadata": {
    "colab": {
     "base_uri": "https://localhost:8080/"
    },
    "id": "-RBlRb_gujSz",
    "outputId": "501515fe-7e9b-4539-a961-1794ec20789e"
   },
   "outputs": [],
   "source": [
    "history2 = model.fit(x=[new_tfidf_name_train, new_tfidf_description_train], y=y_train_cvec,\n",
    "                    epochs=5,\n",
    "                    verbose=True,\n",
    "                    validation_data=([new_tfidf_name_validation, new_tfidf_description_validation], y_validation_cvec),\n",
    "                    batch_size=512)"
   ]
  },
  {
   "cell_type": "code",
   "execution_count": null,
   "metadata": {
    "id": "X3QDoGQvxpCl"
   },
   "outputs": [],
   "source": [
    "histdf = pd.DataFrame(history2.history)"
   ]
  },
  {
   "cell_type": "code",
   "execution_count": null,
   "metadata": {
    "colab": {
     "base_uri": "https://localhost:8080/",
     "height": 282
    },
    "id": "uH8wryVvxtaA",
    "outputId": "d2b9d9b2-5cb6-4f56-de21-f0c8a0d9a12b"
   },
   "outputs": [],
   "source": [
    "histdf.plot(y=[\"loss\", \"val_loss\"])"
   ]
  },
  {
   "cell_type": "markdown",
   "metadata": {
    "id": "PIrZwW2wq7r7"
   },
   "source": [
    "tf-idf gensim"
   ]
  },
  {
   "cell_type": "code",
   "execution_count": null,
   "metadata": {
    "id": "qPe1LMPVq9ln"
   },
   "outputs": [],
   "source": [
    "import gensim\n",
    "from gensim.utils import simple_preprocess\n",
    "from gensim import corpora\n",
    "from gensim.models import TfidfModel"
   ]
  },
  {
   "cell_type": "code",
   "execution_count": null,
   "metadata": {
    "colab": {
     "base_uri": "https://localhost:8080/"
    },
    "id": "uA-0p3DMritP",
    "outputId": "4eda2628-5672-4319-b4e4-e8e31557d883"
   },
   "outputs": [],
   "source": [
    "data[\"item_description\"]"
   ]
  },
  {
   "cell_type": "code",
   "execution_count": null,
   "metadata": {
    "id": "2CO2a-oguycH"
   },
   "outputs": [],
   "source": [
    "doc_tokenized = [simple_preprocess(doc) for doc in data[\"item_description\"].values]"
   ]
  },
  {
   "cell_type": "code",
   "execution_count": null,
   "metadata": {
    "colab": {
     "base_uri": "https://localhost:8080/"
    },
    "id": "pDjGjel3vHhk",
    "outputId": "1c2b446c-f5cb-49e1-bb55-3996f7d3b107"
   },
   "outputs": [],
   "source": [
    "doc_tokenized[0]"
   ]
  },
  {
   "cell_type": "code",
   "execution_count": null,
   "metadata": {
    "id": "x8L2nbDrvQly"
   },
   "outputs": [],
   "source": [
    "dictionary = corpora.Dictionary()"
   ]
  },
  {
   "cell_type": "code",
   "execution_count": null,
   "metadata": {
    "id": "9gBzeihTvVom"
   },
   "outputs": [],
   "source": [
    "BoW_corpus = [dictionary.doc2bow(doc, allow_update=True) for doc in doc_tokenized]"
   ]
  },
  {
   "cell_type": "code",
   "execution_count": null,
   "metadata": {
    "colab": {
     "base_uri": "https://localhost:8080/"
    },
    "id": "LafgQkjqv4dV",
    "outputId": "561fa6a9-2319-49f1-a9c7-a05fd8814002"
   },
   "outputs": [],
   "source": [
    "# stampa le parole che compaiono in ogni descrizione con la loro frequenza di apparizione\n",
    "for doc in BoW_corpus[:10]:\n",
    "   print([[dictionary[id], freq] for id, freq in doc])"
   ]
  },
  {
   "cell_type": "code",
   "execution_count": null,
   "metadata": {
    "id": "zYA8xxQOyabr"
   },
   "outputs": [],
   "source": [
    "tfidf = TfidfModel(BoW_corpus)"
   ]
  },
  {
   "cell_type": "code",
   "execution_count": null,
   "metadata": {
    "colab": {
     "base_uri": "https://localhost:8080/"
    },
    "id": "4VjEh4WP0loV",
    "outputId": "17881fec-9186-4c2c-8169-14b72e04a935"
   },
   "outputs": [],
   "source": [
    "for doc in tfidf[BoW_corpus]:\n",
    "   print([[dictionary[id], np.around(freq)] for id, freq in doc])"
   ]
  },
  {
   "cell_type": "code",
   "execution_count": null,
   "metadata": {
    "colab": {
     "base_uri": "https://localhost:8080/"
    },
    "id": "5tFxY7se1Uyo",
    "outputId": "4791b8ec-a318-44ea-87e7-842f16602941"
   },
   "outputs": [],
   "source": [
    "data[\"tfidf\"]=tfidf[BoW_corpus]"
   ]
  },
  {
   "cell_type": "code",
   "execution_count": null,
   "metadata": {
    "colab": {
     "base_uri": "https://localhost:8080/"
    },
    "id": "iCbOqhV03DIX",
    "outputId": "15f477f3-85e6-4e7f-ac1a-86f5efb7c89d"
   },
   "outputs": [],
   "source": [
    "len(data.iloc[10][\"tfidf\"])"
   ]
  },
  {
   "cell_type": "code",
   "execution_count": null,
   "metadata": {
    "id": "iZ0CKj8s30wY"
   },
   "outputs": [],
   "source": [
    "train_tfidf, validation_tfidf = train_test_split(data[[\"item_condition_id\", \"shipping\", \"category_name_l\",\t\"brand_name_l\", \"tfidf\", \"price\"]], test_size=0.2, random_state=1000)"
   ]
  },
  {
   "cell_type": "code",
   "execution_count": null,
   "metadata": {
    "id": "2aG4lyxj50R5"
   },
   "outputs": [],
   "source": [
    "train_tfidf_categorical=train_tfidf[[\"item_condition_id\", \"shipping\", \"category_name_l\",\t\"brand_name_l\"]]\n",
    "validation_tfidf_categorical=validation_tfidf[[\"item_condition_id\", \"shipping\", \"category_name_l\",\t\"brand_name_l\"]]\n",
    "\n",
    "\n",
    "train_tfidf_description=train_tfidf[\"tfidf\"]\n",
    "validation_tfidf_description=validation_tfidf[\"tfidf\"]\n",
    "\n",
    "y_train=train_tfidf[\"price\"]\n",
    "y_validation=validation_tfidf[\"price\"]"
   ]
  },
  {
   "cell_type": "code",
   "execution_count": null,
   "metadata": {
    "colab": {
     "base_uri": "https://localhost:8080/",
     "height": 292
    },
    "id": "_507TTwr6rmz",
    "outputId": "6d468f15-ccc6-4cde-decd-a75b2a750cad"
   },
   "outputs": [],
   "source": [
    "(validation_tfidf_description[0:10].todense)"
   ]
  },
  {
   "cell_type": "code",
   "execution_count": null,
   "metadata": {
    "id": "MCIuh8-24ied"
   },
   "outputs": [],
   "source": [
    "def getModel_bow(categorical_train, description_train):\n",
    "    inputA = Input(categorical_train.shape[1])\n",
    "    inputDesc = Input(description_train.shape[1])\n",
    "    concat = Concatenate()([inputDesc, inputA])\n",
    "\n",
    "    x = Dropout(0.1)(concat)\n",
    "    x = Dense(32, activation='relu')(x)\n",
    "    x = Dropout(0.1)(x)\n",
    "    x = Dense(16, activation='relu')(x)\n",
    "    \n",
    "    x = Dense(1, activation='linear')(x)\n",
    "    \n",
    "    model = Model(inputs=[inputDesc, inputA], outputs=x)\n",
    "\n",
    "    return model"
   ]
  },
  {
   "cell_type": "code",
   "execution_count": null,
   "metadata": {
    "colab": {
     "base_uri": "https://localhost:8080/",
     "height": 310
    },
    "id": "xUUxfAFd4xGk",
    "outputId": "70d1c4f6-a6a0-4f37-ca97-4c22c40d98cc"
   },
   "outputs": [],
   "source": [
    "model = getModel_bow(train_tfidf_categorical ,train_tfidf_description)\n",
    "model.summary() "
   ]
  },
  {
   "cell_type": "code",
   "execution_count": null,
   "metadata": {
    "colab": {
     "base_uri": "https://localhost:8080/"
    },
    "id": "d3YG-zBS7-mp",
    "outputId": "04224104-cde9-4a34-9b58-687ac04e917e"
   },
   "outputs": [],
   "source": [
    "train_tfidf_description.shape"
   ]
  },
  {
   "cell_type": "markdown",
   "metadata": {
    "id": "WE4hyzsKBQRu"
   },
   "source": [
    "# Transformers"
   ]
  },
  {
   "cell_type": "code",
   "execution_count": null,
   "metadata": {
    "colab": {
     "base_uri": "https://localhost:8080/",
     "height": 315,
     "referenced_widgets": [
      "258644f7c7594e62bf692e057963c52d",
      "ca6bc5eab09846d4b0b03f73057e7641",
      "2ce32697bc5a4738a1ec896697a84319",
      "df783294ec2c4525881ffc5dd970fd9d",
      "f430d7d4198a4ad391ca0d59c883bfae",
      "b1e214e7b8e14ae385c37084b6dea674",
      "62aed36ae8c64e0eb4fa725e5c696e5b",
      "2fcc97df9db6441bba989b428fd0085a",
      "dc310db1a9c148eb9ef2fdba98ee9938",
      "d1c51a30ddf54b3e9ce548407e42e9a6",
      "d58182b364b7462b9dfd2d6dee85863b",
      "75cc3cf7f0244b148e3f590b7b6e5033",
      "fe06c3b04fb44225bf809dfd22ee4dda",
      "581c7fc9741745ea8e4ac7e3d5ed1f48",
      "3fc37cf499944d4eb991c92c16d293e5",
      "9e58b465c5a74ec39528d641cf5e03bc",
      "958ad8f8fecc444baf416d11a7af8965",
      "2c17fbcf5e5741da991af1b3ff898a58",
      "3df810ca2d3a4df5815f6d24caba8610",
      "bb13c853d23445558b483aa33262a2c6",
      "28cb2cc46931471ea5f2349db7e859a2",
      "9429f86956ce440e97a5ebd0211b2565",
      "54f8af03ca974a238aa95f799d929bfb",
      "48213d826bda4e5a9f782366430aecc7",
      "e3323e2ce87b46fba99391ea40c4a127",
      "028ac50fbf374f6592a5666bbb2b4cd3",
      "27c2eb6f1c6f4cef9d9a4639bb4c6fbf",
      "3912ea11517d4ecab7498117856a9cdc",
      "6ff67eb7e66949139f288e394bfe2a6c",
      "3a403e4530884adfb627a5f47fa1ecb6",
      "a29aa28661c848f38ba7ec6287637027",
      "281bd46db6c94cc48aecc86a729b3d9b"
     ]
    },
    "id": "hLeogNaNBe6J",
    "outputId": "687ca67e-3dcd-4c62-af78-35237bf070ae"
   },
   "outputs": [],
   "source": [
    "pret_model_trans = TFDistilBertModel.from_pretrained('distilbert-base-uncased')\n",
    "pret_model_trans.trainable = False\n",
    "\n",
    "tokenizer_trans = DistilBertTokenizerFast.from_pretrained('distilbert-base-uncased', use_fast=True)"
   ]
  },
  {
   "cell_type": "code",
   "execution_count": null,
   "metadata": {
    "id": "wX_KoNI_1k4G"
   },
   "outputs": [],
   "source": [
    "num_batches = 100\n",
    "\n",
    "trans_batch_starti = list(range(0, data.shape[0], int(data.shape[0] / num_batches)))[0:num_batches]\n",
    "trans_batch_starti.append(data.shape[0])"
   ]
  },
  {
   "cell_type": "code",
   "execution_count": null,
   "metadata": {
    "colab": {
     "base_uri": "https://localhost:8080/"
    },
    "id": "r-9cTcBV19U0",
    "outputId": "bc42dbaf-5218-45aa-a86a-115fc00327b7"
   },
   "outputs": [],
   "source": [
    "trans_batches = [(trans_batch_starti[i], trans_batch_starti[i+1]) for i in range(0,len(trans_batch_starti)-1)]\n",
    "[(i,b) for i,b in enumerate(trans_batches)]"
   ]
  },
  {
   "cell_type": "code",
   "execution_count": null,
   "metadata": {
    "colab": {
     "base_uri": "https://localhost:8080/"
    },
    "id": "HmjfqcS310JG",
    "outputId": "1ec46508-3731-4186-e3c6-7e649a5c7b2c"
   },
   "outputs": [],
   "source": [
    "# divide in batch as we don't have enough memory to handle all at once\n",
    "# 0 to 9\n",
    "trans_batch_number = 0\n",
    "\n",
    "trans_batch = trans_batches[trans_batch_number]\n",
    "trans_batch"
   ]
  },
  {
   "cell_type": "code",
   "execution_count": null,
   "metadata": {
    "colab": {
     "base_uri": "https://localhost:8080/"
    },
    "id": "zgUJwyC2pigv",
    "outputId": "02e30ce9-587e-4c1e-cc36-2daee001f4d7"
   },
   "outputs": [],
   "source": [
    "print(\"Total shape\", data.shape)\n",
    "data_batch = data[trans_batch[0]:trans_batch[1]]\n",
    "print(\"Batch shape\", data_batch.shape)\n",
    "\n",
    "train_trans, validation_trans = train_test_split(data_batch, test_size=0.2, random_state=1000)"
   ]
  },
  {
   "cell_type": "code",
   "execution_count": null,
   "metadata": {
    "colab": {
     "base_uri": "https://localhost:8080/"
    },
    "id": "LMQCPY-sSjDy",
    "outputId": "911dd659-032a-4c1b-f42d-738343782a14"
   },
   "outputs": [],
   "source": [
    "y_train_trans = train_trans[\"price\"]\n",
    "y_train_trans"
   ]
  },
  {
   "cell_type": "code",
   "execution_count": null,
   "metadata": {
    "colab": {
     "base_uri": "https://localhost:8080/"
    },
    "id": "nmlNBK-aSn0L",
    "outputId": "293db943-ff41-4554-e924-c60c06d6ee84"
   },
   "outputs": [],
   "source": [
    "y_validation_trans = validation_trans[\"price\"]\n",
    "y_validation_trans"
   ]
  },
  {
   "cell_type": "markdown",
   "metadata": {
    "id": "gpeCVE5xBJnx"
   },
   "source": [
    "todo: use cleaned? or let bert handle everything?"
   ]
  },
  {
   "cell_type": "code",
   "execution_count": null,
   "metadata": {
    "id": "PZnPt2pwPhda"
   },
   "outputs": [],
   "source": [
    "inputA_train_trans = train_trans[[\"item_condition_id\", \"category_name_l\", \"brand_name_l\", \"shipping\"]].values.astype('int32')"
   ]
  },
  {
   "cell_type": "code",
   "execution_count": null,
   "metadata": {
    "id": "W1vQL1C1Pchc"
   },
   "outputs": [],
   "source": [
    "inputA_validation_trans = validation_trans[[\"item_condition_id\", \"category_name_l\", \"brand_name_l\", \"shipping\"]].values.astype('int32')"
   ]
  },
  {
   "cell_type": "code",
   "execution_count": null,
   "metadata": {
    "id": "tEQjK8h4l0mg"
   },
   "outputs": [],
   "source": [
    "trans_name_tokenizer_maxlength = 20\n",
    "trans_desc_tokenizer_maxlength = 350"
   ]
  },
  {
   "cell_type": "code",
   "execution_count": null,
   "metadata": {
    "colab": {
     "base_uri": "https://localhost:8080/"
    },
    "id": "bEeOZukjBF3i",
    "outputId": "4b7f2af1-5498-4997-8f70-efcd2fb6aa82"
   },
   "outputs": [],
   "source": [
    "inputName_train_trans = tokenizer_trans(train_trans[\"name\"].to_list(),\n",
    "                                  return_tensors=\"tf\",\n",
    "                                  padding='max_length',\n",
    "                                  truncation=True,\n",
    "                                  max_length = trans_name_tokenizer_maxlength)\n",
    "inputName_train_trans['input_ids'].shape"
   ]
  },
  {
   "cell_type": "code",
   "execution_count": null,
   "metadata": {
    "colab": {
     "base_uri": "https://localhost:8080/"
    },
    "id": "TJ8sh5pUPrIC",
    "outputId": "248353ee-96e3-4740-ba81-38ad1f8c07fd"
   },
   "outputs": [],
   "source": [
    "inputName_validation_trans = tokenizer_trans(validation_trans[\"name\"].to_list(),\n",
    "                                  return_tensors=\"tf\",\n",
    "                                  padding='max_length',\n",
    "                                  truncation=True,\n",
    "                                  max_length = trans_name_tokenizer_maxlength)\n",
    "inputName_validation_trans['input_ids'].shape"
   ]
  },
  {
   "cell_type": "code",
   "execution_count": null,
   "metadata": {
    "colab": {
     "base_uri": "https://localhost:8080/"
    },
    "id": "7bQnsc9-JcIq",
    "outputId": "d9512a25-5774-423e-8133-e980570b93a7"
   },
   "outputs": [],
   "source": [
    "inputName_shape_trans = (inputName_train_trans['input_ids'].shape[1],\n",
    "                         inputName_train_trans['attention_mask'].shape[1])\n",
    "\n",
    "inputName_shape_trans"
   ]
  },
  {
   "cell_type": "code",
   "execution_count": null,
   "metadata": {
    "colab": {
     "base_uri": "https://localhost:8080/"
    },
    "id": "dMjIqkOs2jhU",
    "outputId": "d8bc9d6a-4de6-4d35-9e3f-c8a66803b806"
   },
   "outputs": [],
   "source": [
    "inputDesc_train_trans = tokenizer_trans(train_trans[\"item_description_clean\"].to_list(),\n",
    "                                  return_tensors=\"tf\",\n",
    "                                  padding='max_length',\n",
    "                                  truncation=True,\n",
    "                                  max_length=trans_desc_tokenizer_maxlength)\n",
    "inputDesc_train_trans['input_ids'].shape"
   ]
  },
  {
   "cell_type": "code",
   "execution_count": null,
   "metadata": {
    "colab": {
     "base_uri": "https://localhost:8080/"
    },
    "id": "ZccJ_0HUP5EX",
    "outputId": "e87c654c-160e-45bd-e101-ea286885bdd8"
   },
   "outputs": [],
   "source": [
    "inputDesc_validation_trans = tokenizer_trans(validation_trans[\"item_description_clean\"].to_list(),\n",
    "                                  return_tensors=\"tf\",\n",
    "                                  padding='max_length',\n",
    "                                  truncation=True,\n",
    "                                  max_length=trans_desc_tokenizer_maxlength)\n",
    "inputDesc_validation_trans['input_ids'].shape"
   ]
  },
  {
   "cell_type": "code",
   "execution_count": null,
   "metadata": {
    "colab": {
     "base_uri": "https://localhost:8080/"
    },
    "id": "LCTEIDnSJsMP",
    "outputId": "fbf52039-104d-4ffb-b81e-01c7b8819bb3"
   },
   "outputs": [],
   "source": [
    "inputDesc_shape_trans = (inputDesc_train_trans['input_ids'].shape[1],\n",
    "                         inputDesc_train_trans['attention_mask'].shape[1])\n",
    "inputDesc_shape_trans"
   ]
  },
  {
   "cell_type": "code",
   "execution_count": null,
   "metadata": {
    "id": "n_odyHkIAJWy"
   },
   "outputs": [],
   "source": [
    "def getModel_trans():\n",
    "    inputA = Input(shape=(4,))\n",
    "    Ad = inputA    \n",
    "    \n",
    "    inputName_ids = Input(shape=(inputName_shape_trans[0],), dtype='int32')\n",
    "    inputName_mask = Input(shape=(inputName_shape_trans[1],), dtype='int32')\n",
    "\n",
    "    Np = pret_model_trans(inputName_ids, attention_mask=inputName_mask)[0]\n",
    "\n",
    "    Nd = GlobalMaxPool1D()(Np)\n",
    "\n",
    "    inputDesc_ids = Input(shape=(inputDesc_shape_trans[0],), dtype='int32')\n",
    "    inputDesc_mask = Input(shape=(inputDesc_shape_trans[1],), dtype='int32')\n",
    "\n",
    "    Dp = pret_model_trans(inputDesc_ids, attention_mask=inputDesc_mask)[0]\n",
    "\n",
    "    Dd = GlobalMaxPool1D()(Dp)\n",
    "\n",
    "    concat = Concatenate()([Ad, Nd, Dd])\n",
    "\n",
    "    x = Dropout(0.1)(concat)    \n",
    "    x = Dense(16, activation='relu')(x)\n",
    "    x = Dropout(0.1)(x)\n",
    "    x = Dense(16, activation='relu')(x)\n",
    "    \n",
    "    x = Dense(1, activation='linear')(x)\n",
    "    \n",
    "    model = Model(inputs=[\n",
    "                          inputA,\n",
    "                          inputName_ids,\n",
    "                          inputName_mask,\n",
    "                          inputDesc_ids,\n",
    "                          inputDesc_mask\n",
    "                          ], outputs=x)\n",
    "    \n",
    "    return model\n",
    "    "
   ]
  },
  {
   "cell_type": "code",
   "execution_count": null,
   "metadata": {
    "colab": {
     "base_uri": "https://localhost:8080/"
    },
    "id": "ZN9opFTBHLXu",
    "outputId": "366d9f47-d882-4e85-8423-c53529e13a8e"
   },
   "outputs": [],
   "source": [
    "model_trans = getModel_trans()"
   ]
  },
  {
   "cell_type": "code",
   "execution_count": null,
   "metadata": {
    "colab": {
     "base_uri": "https://localhost:8080/"
    },
    "id": "IdOujyB1HcZ3",
    "outputId": "2dd7e434-b530-4f04-e2f9-dc98d620c80e"
   },
   "outputs": [],
   "source": [
    "model_trans.summary()"
   ]
  },
  {
   "cell_type": "code",
   "execution_count": null,
   "metadata": {
    "colab": {
     "base_uri": "https://localhost:8080/",
     "height": 703
    },
    "id": "e00K_QQ8O6Nq",
    "outputId": "a27748a3-f3d4-44d8-ce68-7f85c7c03358"
   },
   "outputs": [],
   "source": [
    "plot_model(model_trans)"
   ]
  },
  {
   "cell_type": "code",
   "execution_count": null,
   "metadata": {
    "id": "lyqut5HjPBR4"
   },
   "outputs": [],
   "source": [
    "model_trans.compile(loss = root_mean_squared_logarithmic_error, optimizer='adam', metrics=['mse', 'mae', tf.keras.metrics.RootMeanSquaredError(), 'mean_squared_logarithmic_error', root_mean_squared_logarithmic_error])"
   ]
  },
  {
   "cell_type": "code",
   "execution_count": null,
   "metadata": {
    "colab": {
     "base_uri": "https://localhost:8080/"
    },
    "id": "FV6080wZPLlo",
    "outputId": "60917e24-90b7-483d-bc55-e15795dc700d"
   },
   "outputs": [],
   "source": [
    "history_trans = model_trans.fit(x=[inputA_train_trans,\n",
    "                   inputName_train_trans['input_ids'],\n",
    "                   inputName_train_trans['attention_mask'],\n",
    "                   inputDesc_train_trans['input_ids'],\n",
    "                   inputDesc_train_trans['attention_mask']\n",
    "                  ],\n",
    "                   y=y_train_trans,\n",
    "                    epochs=5,\n",
    "                    verbose=True,\n",
    "                    validation_data=([\n",
    "                                      inputA_validation_trans,\n",
    "                                      inputName_validation_trans['input_ids'],\n",
    "                                      inputName_validation_trans['attention_mask'],\n",
    "                                      inputDesc_validation_trans['input_ids'],\n",
    "                                      inputDesc_validation_trans['attention_mask'],\n",
    "                                      ], \n",
    "                                     y_validation_trans),\n",
    "                    batch_size=512)"
   ]
  },
  {
   "cell_type": "code",
   "execution_count": null,
   "metadata": {
    "id": "j6XYsUVDDtta"
   },
   "outputs": [],
   "source": []
  }
 ],
 "metadata": {
  "kernelspec": {
   "display_name": "Python 3",
   "language": "python",
   "name": "python3"
  },
  "language_info": {
   "codemirror_mode": {
    "name": "ipython",
    "version": 3
   },
   "file_extension": ".py",
   "mimetype": "text/x-python",
   "name": "python",
   "nbconvert_exporter": "python",
   "pygments_lexer": "ipython3",
   "version": "3.8.5"
  }
 },
 "nbformat": 4,
 "nbformat_minor": 4
}
