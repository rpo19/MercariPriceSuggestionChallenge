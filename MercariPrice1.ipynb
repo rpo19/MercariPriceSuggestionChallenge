{
  "nbformat": 4,
  "nbformat_minor": 0,
  "metadata": {
    "accelerator": "GPU",
    "colab": {
      "name": "MercariPrice1.ipynb",
      "provenance": [],
      "collapsed_sections": []
    },
    "kernelspec": {
      "display_name": "Python 3",
      "language": "python",
      "name": "python3"
    },
    "language_info": {
      "codemirror_mode": {
        "name": "ipython",
        "version": 3
      },
      "file_extension": ".py",
      "mimetype": "text/x-python",
      "name": "python",
      "nbconvert_exporter": "python",
      "pygments_lexer": "ipython3",
      "version": "3.7.0"
    }
  },
  "cells": [
    {
      "cell_type": "markdown",
      "metadata": {
        "id": "M_oO4ZyYU00Y"
      },
      "source": [
        "### Mercari Price \n",
        "The files consist of a list of product listings. These files are tab-delimited.\n",
        "\n",
        "Fields:\n",
        "- train_id or test_id - the id of the listing\n",
        "\n",
        "- name - the title of the listing. Note that we have cleaned the data to remove text that look like prices (e.g. $20) to avoid  leakage. These removed prices are represented as [rm]\n",
        "\n",
        "- item_condition_id - the condition of the items provided by the seller\n",
        "\n",
        "- category_name - category of the listing\n",
        "\n",
        "- brand_name\n",
        "\n",
        "- price - the price that the item was sold for. This is the target variable that you will predict. The unit is USD. This column doesn't exist in test.tsv since that is what you will predict.\n",
        "\n",
        "- shipping - 1 if shipping fee is paid by seller and 0 by buyer\n",
        "\n",
        "- item_description - the full description of the item. Note that we have cleaned the data to remove text that look like prices (e.g. $20) to avoid leakage. These removed prices are represented as [rm]"
      ]
    },
    {
      "cell_type": "code",
      "metadata": {
        "id": "XZWiRNuUU00w",
        "colab": {
          "base_uri": "https://localhost:8080/"
        },
        "outputId": "a1e22e69-e944-4be1-b131-7350a70c2dd7"
      },
      "source": [
        "import pandas as pd\n",
        "import numpy as np\n",
        "\n",
        "from nltk.tokenize import word_tokenize\n",
        "import nltk\n",
        "import tensorflow as tf\n",
        "from tensorflow import keras\n",
        "from tensorflow.keras.preprocessing.text import Tokenizer\n",
        "from tensorflow.keras.preprocessing.sequence import pad_sequences\n",
        "\n",
        "import tensorflow.keras.backend as K\n",
        "\n",
        "\n",
        "from tqdm._tqdm_notebook import tqdm_notebook\n",
        "\n",
        "import os\n",
        "import itertools\n",
        "\n",
        "import matplotlib.pyplot as plt\n",
        "import itertools\n",
        "from collections import Counter\n",
        "import seaborn as sns\n",
        "\n",
        "from sklearn.model_selection import train_test_split\n",
        "from sklearn import preprocessing\n",
        "from sklearn.preprocessing import StandardScaler\n",
        "\n",
        "from tensorflow.keras.layers import Dense, Input, Embedding, Concatenate, Flatten, Dropout, LSTM\n",
        "from tensorflow.keras.models import Model\n",
        "from tensorflow.keras.utils import plot_model\n",
        "\n",
        "from nltk.corpus import stopwords\n",
        "import string\n",
        "\n",
        "import pickle"
      ],
      "execution_count": 1,
      "outputs": [
        {
          "output_type": "stream",
          "text": [
            "/usr/local/lib/python3.6/dist-packages/ipykernel_launcher.py:14: TqdmDeprecationWarning: This function will be removed in tqdm==5.0.0\n",
            "Please use `tqdm.notebook.*` instead of `tqdm._tqdm_notebook.*`\n",
            "  \n"
          ],
          "name": "stderr"
        }
      ]
    },
    {
      "cell_type": "code",
      "metadata": {
        "colab": {
          "base_uri": "https://localhost:8080/"
        },
        "id": "--bkTALlC02b",
        "outputId": "43b65202-d7b5-4a33-b83a-9966ab86983d"
      },
      "source": [
        "nltk.download('stopwords')\n",
        "nltk.download('punkt')\n",
        "\n",
        "\n",
        "stop_words = set(stopwords.words('english'))"
      ],
      "execution_count": 2,
      "outputs": [
        {
          "output_type": "stream",
          "text": [
            "[nltk_data] Downloading package stopwords to /root/nltk_data...\n",
            "[nltk_data]   Unzipping corpora/stopwords.zip.\n",
            "[nltk_data] Downloading package punkt to /root/nltk_data...\n",
            "[nltk_data]   Unzipping tokenizers/punkt.zip.\n"
          ],
          "name": "stdout"
        }
      ]
    },
    {
      "cell_type": "code",
      "metadata": {
        "id": "s4RfjlP1VCjh"
      },
      "source": [
        "tqdm_notebook.pandas()"
      ],
      "execution_count": 3,
      "outputs": []
    },
    {
      "cell_type": "code",
      "metadata": {
        "id": "sI0KxMNH4A5s"
      },
      "source": [
        "#! pip install pydot graphviz"
      ],
      "execution_count": 4,
      "outputs": []
    },
    {
      "cell_type": "markdown",
      "metadata": {
        "id": "5tMt4O6n3yTD"
      },
      "source": [
        "### Dataset download"
      ]
    },
    {
      "cell_type": "code",
      "metadata": {
        "colab": {
          "base_uri": "https://localhost:8080/"
        },
        "id": "oXCUW4PtU00k",
        "outputId": "c4309512-35e9-49db-c6d9-cb8afb3522fc"
      },
      "source": [
        "# check if in colab\n",
        "RunningInCOLAB = 'google.colab' in str(get_ipython())\n",
        "if RunningInCOLAB:\n",
        "    print(\"Running in colab\")\n",
        "    from google.colab import drive\n",
        "    drive.mount('/content/gdrive', force_remount=True)\n",
        "    colab_root = '/content/drive'\n",
        "    root_dir = \"/content/gdrive/My Drive/\"\n",
        "    base_dir = root_dir + 'project-mercari-price/'\n",
        "    if not os.path.isdir(base_dir):\n",
        "        os.mkdir(base_dir)\n",
        "else:\n",
        "    root_dir= os.getcwd()\n",
        "    base_dir = root_dir\n",
        "    \n",
        "os.chdir(base_dir)"
      ],
      "execution_count": 17,
      "outputs": [
        {
          "output_type": "stream",
          "text": [
            "Running in colab\n",
            "Mounted at /content/gdrive\n"
          ],
          "name": "stdout"
        }
      ]
    },
    {
      "cell_type": "code",
      "metadata": {
        "colab": {
          "base_uri": "https://localhost:8080/"
        },
        "id": "1JFkFCLXU00m",
        "outputId": "d4b437ee-fde9-4c5e-fbee-694df193c109"
      },
      "source": [
        "dataset_downloaded_path = os.path.join(base_dir, \"dataset_downloaded.ignore\")\n",
        "dataset_downloaded = os.path.isfile(dataset_downloaded_path)\n",
        "dataset_downloaded"
      ],
      "execution_count": 18,
      "outputs": [
        {
          "output_type": "execute_result",
          "data": {
            "text/plain": [
              "True"
            ]
          },
          "metadata": {
            "tags": []
          },
          "execution_count": 18
        }
      ]
    },
    {
      "cell_type": "code",
      "metadata": {
        "id": "24RhWXO6U00p"
      },
      "source": [
        "if not dataset_downloaded:\n",
        "  # install kaggle to download dataset\n",
        "  ! pip install kaggle python-dotenv"
      ],
      "execution_count": 19,
      "outputs": []
    },
    {
      "cell_type": "code",
      "metadata": {
        "id": "Xw0Fy7K5U00r"
      },
      "source": [
        "# set to True if you want to save kaggle credentials into a .env file\n",
        "persist_credentials = False\n",
        "\n",
        "if not dataset_downloaded:\n",
        "  # create .env file containing KAGGLE_USER and KAGGLE_KEY\n",
        "    kaggle_env = os.path.join(base_dir, '.env')\n",
        "    if not os.path.isfile(kaggle_env):\n",
        "        with open(kaggle_env, 'w') as envfile:\n",
        "            kaggle_user = input(\"Insert kaggle username\")\n",
        "            kaggle_key = input(\"Insert kaggle key; generate one from kaggle account\")\n",
        "        if persist_credentials:\n",
        "            envfile.write(f\"\"\"\n",
        "            KAGGLE_USERNAME={kaggle_user}\n",
        "            KAGGLE_KEY={kaggle_key}\n",
        "            \"\"\")\n",
        "\n",
        "        # set env vars\n",
        "        os.environ[\"KAGGLE_USERNAME\"] = kaggle_user\n",
        "        os.environ[\"KAGGLE_KEY\"] = kaggle_key\n",
        "\n",
        "        del kaggle_user\n",
        "        del kaggle_key"
      ],
      "execution_count": 20,
      "outputs": []
    },
    {
      "cell_type": "code",
      "metadata": {
        "id": "7zJ0iRN9U00u"
      },
      "source": [
        "if not dataset_downloaded:\n",
        "  # loading env vars if .env file exists\n",
        "    if os.path.isfile(kaggle_env):\n",
        "        from dotenv import load_dotenv\n",
        "        load_dotenv(dotenv_path=kaggle_env)\n",
        "    print(os.environ.get(\"KAGGLE_USERNAME\"))"
      ],
      "execution_count": 21,
      "outputs": []
    },
    {
      "cell_type": "code",
      "metadata": {
        "id": "SP-mPFo-U00v"
      },
      "source": [
        "if not dataset_downloaded:\n",
        "    # download and extract dataset\n",
        "    ! kaggle competitions download -c mercari-price-suggestion-challenge\n",
        "\n",
        "    # create file so that we know we already downloaded\n",
        "    with open(dataset_downloaded_path, 'w') as dd_file:\n",
        "        dataset_downloaded = True\n",
        "        dd_file.write(\"\")\n",
        "\n",
        "    print('cwd: ', os.getcwd())\n",
        "    \n",
        "    os.listdir()"
      ],
      "execution_count": 22,
      "outputs": []
    },
    {
      "cell_type": "code",
      "metadata": {
        "id": "cpAT2yysVsRm"
      },
      "source": [
        "if not dataset_downloaded:\n",
        "    ! 7z x train.tsv.7z\n",
        "    ! 7z x test.tsv.7z"
      ],
      "execution_count": 23,
      "outputs": []
    },
    {
      "cell_type": "code",
      "metadata": {
        "colab": {
          "base_uri": "https://localhost:8080/"
        },
        "id": "rbwBGoI1VplX",
        "outputId": "a658ba47-983f-495a-c2f3-d4947c03506a"
      },
      "source": [
        "os.listdir()"
      ],
      "execution_count": 24,
      "outputs": [
        {
          "output_type": "execute_result",
          "data": {
            "text/plain": [
              "['train.tsv',\n",
              " 'test.tsv',\n",
              " '.env',\n",
              " 'sample_submission.csv.7z',\n",
              " 'test_stg2.tsv.zip',\n",
              " 'train.tsv.7z',\n",
              " 'test.tsv.7z',\n",
              " 'sample_submission_stg2.csv.zip',\n",
              " 'dataset_downloaded',\n",
              " '.git',\n",
              " '.gitignore',\n",
              " 'Notebook.Rmd',\n",
              " 'Readme.md',\n",
              " 'requirements.txt',\n",
              " 'Untitled.ipynb',\n",
              " 'git',\n",
              " 'dataset_downloaded.ignore',\n",
              " 'model.png']"
            ]
          },
          "metadata": {
            "tags": []
          },
          "execution_count": 24
        }
      ]
    },
    {
      "cell_type": "markdown",
      "metadata": {
        "id": "8pyEueRK3yTL"
      },
      "source": [
        "## Load dataset"
      ]
    },
    {
      "cell_type": "code",
      "metadata": {
        "colab": {
          "base_uri": "https://localhost:8080/",
          "height": 581
        },
        "id": "j5Vg17INU00x",
        "outputId": "be1d6460-a51d-4693-ba6f-1bba98ed373a"
      },
      "source": [
        "dtypes={\n",
        "    'name': 'string',\n",
        "    'item_condition_id': 'int32',\n",
        "    'category_name': 'string',\n",
        "    'brand_name': 'string',\n",
        "    'price': 'float',\n",
        "    'shipping': 'int32',\n",
        "    'item_description': 'string'\n",
        "}\n",
        "data = pd.read_csv(\"train.tsv\", sep='\\t', dtype=dtypes)\n",
        "data = data.drop(columns=[\"train_id\"])\n",
        "data"
      ],
      "execution_count": 25,
      "outputs": [
        {
          "output_type": "execute_result",
          "data": {
            "text/html": [
              "<div>\n",
              "<style scoped>\n",
              "    .dataframe tbody tr th:only-of-type {\n",
              "        vertical-align: middle;\n",
              "    }\n",
              "\n",
              "    .dataframe tbody tr th {\n",
              "        vertical-align: top;\n",
              "    }\n",
              "\n",
              "    .dataframe thead th {\n",
              "        text-align: right;\n",
              "    }\n",
              "</style>\n",
              "<table border=\"1\" class=\"dataframe\">\n",
              "  <thead>\n",
              "    <tr style=\"text-align: right;\">\n",
              "      <th></th>\n",
              "      <th>name</th>\n",
              "      <th>item_condition_id</th>\n",
              "      <th>category_name</th>\n",
              "      <th>brand_name</th>\n",
              "      <th>price</th>\n",
              "      <th>shipping</th>\n",
              "      <th>item_description</th>\n",
              "    </tr>\n",
              "  </thead>\n",
              "  <tbody>\n",
              "    <tr>\n",
              "      <th>0</th>\n",
              "      <td>MLB Cincinnati Reds T Shirt Size XL</td>\n",
              "      <td>3</td>\n",
              "      <td>Men/Tops/T-shirts</td>\n",
              "      <td>&lt;NA&gt;</td>\n",
              "      <td>10.0</td>\n",
              "      <td>1</td>\n",
              "      <td>No description yet</td>\n",
              "    </tr>\n",
              "    <tr>\n",
              "      <th>1</th>\n",
              "      <td>Razer BlackWidow Chroma Keyboard</td>\n",
              "      <td>3</td>\n",
              "      <td>Electronics/Computers &amp; Tablets/Components &amp; P...</td>\n",
              "      <td>Razer</td>\n",
              "      <td>52.0</td>\n",
              "      <td>0</td>\n",
              "      <td>This keyboard is in great condition and works ...</td>\n",
              "    </tr>\n",
              "    <tr>\n",
              "      <th>2</th>\n",
              "      <td>AVA-VIV Blouse</td>\n",
              "      <td>1</td>\n",
              "      <td>Women/Tops &amp; Blouses/Blouse</td>\n",
              "      <td>Target</td>\n",
              "      <td>10.0</td>\n",
              "      <td>1</td>\n",
              "      <td>Adorable top with a hint of lace and a key hol...</td>\n",
              "    </tr>\n",
              "    <tr>\n",
              "      <th>3</th>\n",
              "      <td>Leather Horse Statues</td>\n",
              "      <td>1</td>\n",
              "      <td>Home/Home Décor/Home Décor Accents</td>\n",
              "      <td>&lt;NA&gt;</td>\n",
              "      <td>35.0</td>\n",
              "      <td>1</td>\n",
              "      <td>New with tags. Leather horses. Retail for [rm]...</td>\n",
              "    </tr>\n",
              "    <tr>\n",
              "      <th>4</th>\n",
              "      <td>24K GOLD plated rose</td>\n",
              "      <td>1</td>\n",
              "      <td>Women/Jewelry/Necklaces</td>\n",
              "      <td>&lt;NA&gt;</td>\n",
              "      <td>44.0</td>\n",
              "      <td>0</td>\n",
              "      <td>Complete with certificate of authenticity</td>\n",
              "    </tr>\n",
              "    <tr>\n",
              "      <th>...</th>\n",
              "      <td>...</td>\n",
              "      <td>...</td>\n",
              "      <td>...</td>\n",
              "      <td>...</td>\n",
              "      <td>...</td>\n",
              "      <td>...</td>\n",
              "      <td>...</td>\n",
              "    </tr>\n",
              "    <tr>\n",
              "      <th>1482530</th>\n",
              "      <td>Free People Inspired Dress</td>\n",
              "      <td>2</td>\n",
              "      <td>Women/Dresses/Mid-Calf</td>\n",
              "      <td>Free People</td>\n",
              "      <td>20.0</td>\n",
              "      <td>1</td>\n",
              "      <td>Lace, says size small but fits medium perfectl...</td>\n",
              "    </tr>\n",
              "    <tr>\n",
              "      <th>1482531</th>\n",
              "      <td>Little mermaid handmade dress</td>\n",
              "      <td>2</td>\n",
              "      <td>Kids/Girls 2T-5T/Dresses</td>\n",
              "      <td>Disney</td>\n",
              "      <td>14.0</td>\n",
              "      <td>0</td>\n",
              "      <td>Little mermaid handmade dress never worn size 2t</td>\n",
              "    </tr>\n",
              "    <tr>\n",
              "      <th>1482532</th>\n",
              "      <td>21 day fix containers and eating plan</td>\n",
              "      <td>2</td>\n",
              "      <td>Sports &amp; Outdoors/Exercise/Fitness accessories</td>\n",
              "      <td>&lt;NA&gt;</td>\n",
              "      <td>12.0</td>\n",
              "      <td>0</td>\n",
              "      <td>Used once or twice, still in great shape.</td>\n",
              "    </tr>\n",
              "    <tr>\n",
              "      <th>1482533</th>\n",
              "      <td>World markets lanterns</td>\n",
              "      <td>3</td>\n",
              "      <td>Home/Home Décor/Home Décor Accents</td>\n",
              "      <td>&lt;NA&gt;</td>\n",
              "      <td>45.0</td>\n",
              "      <td>1</td>\n",
              "      <td>There is 2 of each one that you see! So 2 red ...</td>\n",
              "    </tr>\n",
              "    <tr>\n",
              "      <th>1482534</th>\n",
              "      <td>Brand new lux de ville wallet</td>\n",
              "      <td>1</td>\n",
              "      <td>Women/Women's Accessories/Wallets</td>\n",
              "      <td>&lt;NA&gt;</td>\n",
              "      <td>22.0</td>\n",
              "      <td>0</td>\n",
              "      <td>New with tag, red with sparkle. Firm price, no...</td>\n",
              "    </tr>\n",
              "  </tbody>\n",
              "</table>\n",
              "<p>1482535 rows × 7 columns</p>\n",
              "</div>"
            ],
            "text/plain": [
              "                                          name  ...                                   item_description\n",
              "0          MLB Cincinnati Reds T Shirt Size XL  ...                                 No description yet\n",
              "1             Razer BlackWidow Chroma Keyboard  ...  This keyboard is in great condition and works ...\n",
              "2                               AVA-VIV Blouse  ...  Adorable top with a hint of lace and a key hol...\n",
              "3                        Leather Horse Statues  ...  New with tags. Leather horses. Retail for [rm]...\n",
              "4                         24K GOLD plated rose  ...          Complete with certificate of authenticity\n",
              "...                                        ...  ...                                                ...\n",
              "1482530             Free People Inspired Dress  ...  Lace, says size small but fits medium perfectl...\n",
              "1482531          Little mermaid handmade dress  ...   Little mermaid handmade dress never worn size 2t\n",
              "1482532  21 day fix containers and eating plan  ...          Used once or twice, still in great shape.\n",
              "1482533                 World markets lanterns  ...  There is 2 of each one that you see! So 2 red ...\n",
              "1482534          Brand new lux de ville wallet  ...  New with tag, red with sparkle. Firm price, no...\n",
              "\n",
              "[1482535 rows x 7 columns]"
            ]
          },
          "metadata": {
            "tags": []
          },
          "execution_count": 25
        }
      ]
    },
    {
      "cell_type": "code",
      "metadata": {
        "colab": {
          "base_uri": "https://localhost:8080/"
        },
        "id": "DmtH5d_GU00z",
        "outputId": "18df7dc2-d748-4b0a-d1d3-ec5170bbfefb"
      },
      "source": [
        "data.dtypes"
      ],
      "execution_count": 26,
      "outputs": [
        {
          "output_type": "execute_result",
          "data": {
            "text/plain": [
              "name                  string\n",
              "item_condition_id      int32\n",
              "category_name         string\n",
              "brand_name            string\n",
              "price                float64\n",
              "shipping               int32\n",
              "item_description      string\n",
              "dtype: object"
            ]
          },
          "metadata": {
            "tags": []
          },
          "execution_count": 26
        }
      ]
    },
    {
      "cell_type": "code",
      "metadata": {
        "colab": {
          "base_uri": "https://localhost:8080/"
        },
        "id": "9TY3K5euCtuA",
        "outputId": "28c99a07-4978-4197-e474-b70116c51660"
      },
      "source": [
        "data.shape"
      ],
      "execution_count": 27,
      "outputs": [
        {
          "output_type": "execute_result",
          "data": {
            "text/plain": [
              "(1482535, 7)"
            ]
          },
          "metadata": {
            "tags": []
          },
          "execution_count": 27
        }
      ]
    },
    {
      "cell_type": "code",
      "metadata": {
        "colab": {
          "base_uri": "https://localhost:8080/"
        },
        "id": "rvujMFFXCxL8",
        "outputId": "0933a09b-fded-4266-baa8-3a3e24caef27"
      },
      "source": [
        "for column in data.columns:\n",
        "    print(\"number of null value in {} : {}\".format(column,data[column].isnull().sum()))"
      ],
      "execution_count": 28,
      "outputs": [
        {
          "output_type": "stream",
          "text": [
            "number of null value in name : 0\n",
            "number of null value in item_condition_id : 0\n",
            "number of null value in category_name : 6327\n",
            "number of null value in brand_name : 632682\n",
            "number of null value in price : 0\n",
            "number of null value in shipping : 0\n",
            "number of null value in item_description : 4\n"
          ],
          "name": "stdout"
        }
      ]
    },
    {
      "cell_type": "code",
      "metadata": {
        "colab": {
          "base_uri": "https://localhost:8080/"
        },
        "id": "XtxgmC-LHnmN",
        "outputId": "df774773-6844-49db-d136-90d2c9ae1fe5"
      },
      "source": [
        "data[\"category_name\"].value_counts()"
      ],
      "execution_count": 29,
      "outputs": [
        {
          "output_type": "execute_result",
          "data": {
            "text/plain": [
              "Women/Athletic Apparel/Pants, Tights, Leggings    60177\n",
              "Women/Tops & Blouses/T-Shirts                     46380\n",
              "Beauty/Makeup/Face                                34335\n",
              "Beauty/Makeup/Lips                                29910\n",
              "Electronics/Video Games & Consoles/Games          26557\n",
              "                                                  ...  \n",
              "Handmade/Toys/Doll Clothes                            1\n",
              "Handmade/Pets/Tag                                     1\n",
              "Handmade/Holidays/Patriotic                           1\n",
              "Handmade/Housewares/Cleaning                          1\n",
              "Vintage & Collectibles/Supplies/Ephemera              1\n",
              "Name: category_name, Length: 1287, dtype: Int64"
            ]
          },
          "metadata": {
            "tags": []
          },
          "execution_count": 29
        }
      ]
    },
    {
      "cell_type": "code",
      "metadata": {
        "colab": {
          "base_uri": "https://localhost:8080/"
        },
        "id": "JOYErCoVHnmO",
        "outputId": "6514ad23-dd61-4436-a97f-0e75899fb173"
      },
      "source": [
        "data[\"price\"].describe()"
      ],
      "execution_count": 30,
      "outputs": [
        {
          "output_type": "execute_result",
          "data": {
            "text/plain": [
              "count    1.482535e+06\n",
              "mean     2.673752e+01\n",
              "std      3.858607e+01\n",
              "min      0.000000e+00\n",
              "25%      1.000000e+01\n",
              "50%      1.700000e+01\n",
              "75%      2.900000e+01\n",
              "max      2.009000e+03\n",
              "Name: price, dtype: float64"
            ]
          },
          "metadata": {
            "tags": []
          },
          "execution_count": 30
        }
      ]
    },
    {
      "cell_type": "code",
      "metadata": {
        "colab": {
          "base_uri": "https://localhost:8080/"
        },
        "id": "yyUE4a4Jp4E9",
        "outputId": "ea332a7d-3a63-46b8-ab96-836205644b93"
      },
      "source": [
        "len(data[data[\"price\"]<5])"
      ],
      "execution_count": 31,
      "outputs": [
        {
          "output_type": "execute_result",
          "data": {
            "text/plain": [
              "35716"
            ]
          },
          "metadata": {
            "tags": []
          },
          "execution_count": 31
        }
      ]
    },
    {
      "cell_type": "code",
      "metadata": {
        "id": "jCbqNKgKp7f2"
      },
      "source": [
        "data=data[data[\"price\"]>=5]"
      ],
      "execution_count": 32,
      "outputs": []
    },
    {
      "cell_type": "code",
      "metadata": {
        "colab": {
          "base_uri": "https://localhost:8080/"
        },
        "id": "jUBsIEJqC0cg",
        "outputId": "dfd8f972-92f2-40a9-85de-04f57b92c0e8"
      },
      "source": [
        "data = data[data[\"item_description\"].notna()]\n",
        "data[\"brand_name\"] = data[\"brand_name\"].fillna(value=\"NA\")\n",
        "data[\"category_name\"] = data[\"category_name\"].fillna(value=\"NA\")\n",
        "# see warnings -> inplace?\n",
        "data.shape"
      ],
      "execution_count": 33,
      "outputs": [
        {
          "output_type": "execute_result",
          "data": {
            "text/plain": [
              "(1446815, 7)"
            ]
          },
          "metadata": {
            "tags": []
          },
          "execution_count": 33
        }
      ]
    },
    {
      "cell_type": "code",
      "metadata": {
        "id": "vD-R4RTy3yTO"
      },
      "source": [
        "def flat_list(l):\n",
        "    return  [item for sublist in l for item in sublist]\n",
        "\n",
        "\n",
        "def plot_common_tokens(tokens, title, n=20):\n",
        "    sentences = (list(itertools.chain(tokens)))\n",
        "    flat_sentences = flat_list(sentences)\n",
        "    counts = Counter(flat_sentences)\n",
        "    #print(counts.most_common(30))\n",
        "    common_words = [word[0] for word in counts.most_common(n)]\n",
        "    common_counts = [word[1] for word in counts.most_common(n)]\n",
        "    fig = plt.figure(figsize=(18,6))\n",
        "    sns.barplot(x=common_words, y=common_counts)\n",
        "    plt.title(title)\n",
        "    plt.show()\n"
      ],
      "execution_count": 34,
      "outputs": []
    },
    {
      "cell_type": "code",
      "metadata": {
        "id": "qkd6dXhF3yTO"
      },
      "source": [
        "#plot_common_tokens(data[\"item_description_tokens\"], \"Most Common Tokens from Descriptions\")"
      ],
      "execution_count": 35,
      "outputs": []
    },
    {
      "cell_type": "code",
      "metadata": {
        "colab": {
          "base_uri": "https://localhost:8080/",
          "height": 581
        },
        "id": "FNY29qP2HnmS",
        "outputId": "a87f68f5-09e5-4ea2-bf46-8683d7e218c8"
      },
      "source": [
        "data"
      ],
      "execution_count": 36,
      "outputs": [
        {
          "output_type": "execute_result",
          "data": {
            "text/html": [
              "<div>\n",
              "<style scoped>\n",
              "    .dataframe tbody tr th:only-of-type {\n",
              "        vertical-align: middle;\n",
              "    }\n",
              "\n",
              "    .dataframe tbody tr th {\n",
              "        vertical-align: top;\n",
              "    }\n",
              "\n",
              "    .dataframe thead th {\n",
              "        text-align: right;\n",
              "    }\n",
              "</style>\n",
              "<table border=\"1\" class=\"dataframe\">\n",
              "  <thead>\n",
              "    <tr style=\"text-align: right;\">\n",
              "      <th></th>\n",
              "      <th>name</th>\n",
              "      <th>item_condition_id</th>\n",
              "      <th>category_name</th>\n",
              "      <th>brand_name</th>\n",
              "      <th>price</th>\n",
              "      <th>shipping</th>\n",
              "      <th>item_description</th>\n",
              "    </tr>\n",
              "  </thead>\n",
              "  <tbody>\n",
              "    <tr>\n",
              "      <th>0</th>\n",
              "      <td>MLB Cincinnati Reds T Shirt Size XL</td>\n",
              "      <td>3</td>\n",
              "      <td>Men/Tops/T-shirts</td>\n",
              "      <td>NA</td>\n",
              "      <td>10.0</td>\n",
              "      <td>1</td>\n",
              "      <td>No description yet</td>\n",
              "    </tr>\n",
              "    <tr>\n",
              "      <th>1</th>\n",
              "      <td>Razer BlackWidow Chroma Keyboard</td>\n",
              "      <td>3</td>\n",
              "      <td>Electronics/Computers &amp; Tablets/Components &amp; P...</td>\n",
              "      <td>Razer</td>\n",
              "      <td>52.0</td>\n",
              "      <td>0</td>\n",
              "      <td>This keyboard is in great condition and works ...</td>\n",
              "    </tr>\n",
              "    <tr>\n",
              "      <th>2</th>\n",
              "      <td>AVA-VIV Blouse</td>\n",
              "      <td>1</td>\n",
              "      <td>Women/Tops &amp; Blouses/Blouse</td>\n",
              "      <td>Target</td>\n",
              "      <td>10.0</td>\n",
              "      <td>1</td>\n",
              "      <td>Adorable top with a hint of lace and a key hol...</td>\n",
              "    </tr>\n",
              "    <tr>\n",
              "      <th>3</th>\n",
              "      <td>Leather Horse Statues</td>\n",
              "      <td>1</td>\n",
              "      <td>Home/Home Décor/Home Décor Accents</td>\n",
              "      <td>NA</td>\n",
              "      <td>35.0</td>\n",
              "      <td>1</td>\n",
              "      <td>New with tags. Leather horses. Retail for [rm]...</td>\n",
              "    </tr>\n",
              "    <tr>\n",
              "      <th>4</th>\n",
              "      <td>24K GOLD plated rose</td>\n",
              "      <td>1</td>\n",
              "      <td>Women/Jewelry/Necklaces</td>\n",
              "      <td>NA</td>\n",
              "      <td>44.0</td>\n",
              "      <td>0</td>\n",
              "      <td>Complete with certificate of authenticity</td>\n",
              "    </tr>\n",
              "    <tr>\n",
              "      <th>...</th>\n",
              "      <td>...</td>\n",
              "      <td>...</td>\n",
              "      <td>...</td>\n",
              "      <td>...</td>\n",
              "      <td>...</td>\n",
              "      <td>...</td>\n",
              "      <td>...</td>\n",
              "    </tr>\n",
              "    <tr>\n",
              "      <th>1482530</th>\n",
              "      <td>Free People Inspired Dress</td>\n",
              "      <td>2</td>\n",
              "      <td>Women/Dresses/Mid-Calf</td>\n",
              "      <td>Free People</td>\n",
              "      <td>20.0</td>\n",
              "      <td>1</td>\n",
              "      <td>Lace, says size small but fits medium perfectl...</td>\n",
              "    </tr>\n",
              "    <tr>\n",
              "      <th>1482531</th>\n",
              "      <td>Little mermaid handmade dress</td>\n",
              "      <td>2</td>\n",
              "      <td>Kids/Girls 2T-5T/Dresses</td>\n",
              "      <td>Disney</td>\n",
              "      <td>14.0</td>\n",
              "      <td>0</td>\n",
              "      <td>Little mermaid handmade dress never worn size 2t</td>\n",
              "    </tr>\n",
              "    <tr>\n",
              "      <th>1482532</th>\n",
              "      <td>21 day fix containers and eating plan</td>\n",
              "      <td>2</td>\n",
              "      <td>Sports &amp; Outdoors/Exercise/Fitness accessories</td>\n",
              "      <td>NA</td>\n",
              "      <td>12.0</td>\n",
              "      <td>0</td>\n",
              "      <td>Used once or twice, still in great shape.</td>\n",
              "    </tr>\n",
              "    <tr>\n",
              "      <th>1482533</th>\n",
              "      <td>World markets lanterns</td>\n",
              "      <td>3</td>\n",
              "      <td>Home/Home Décor/Home Décor Accents</td>\n",
              "      <td>NA</td>\n",
              "      <td>45.0</td>\n",
              "      <td>1</td>\n",
              "      <td>There is 2 of each one that you see! So 2 red ...</td>\n",
              "    </tr>\n",
              "    <tr>\n",
              "      <th>1482534</th>\n",
              "      <td>Brand new lux de ville wallet</td>\n",
              "      <td>1</td>\n",
              "      <td>Women/Women's Accessories/Wallets</td>\n",
              "      <td>NA</td>\n",
              "      <td>22.0</td>\n",
              "      <td>0</td>\n",
              "      <td>New with tag, red with sparkle. Firm price, no...</td>\n",
              "    </tr>\n",
              "  </tbody>\n",
              "</table>\n",
              "<p>1446815 rows × 7 columns</p>\n",
              "</div>"
            ],
            "text/plain": [
              "                                          name  ...                                   item_description\n",
              "0          MLB Cincinnati Reds T Shirt Size XL  ...                                 No description yet\n",
              "1             Razer BlackWidow Chroma Keyboard  ...  This keyboard is in great condition and works ...\n",
              "2                               AVA-VIV Blouse  ...  Adorable top with a hint of lace and a key hol...\n",
              "3                        Leather Horse Statues  ...  New with tags. Leather horses. Retail for [rm]...\n",
              "4                         24K GOLD plated rose  ...          Complete with certificate of authenticity\n",
              "...                                        ...  ...                                                ...\n",
              "1482530             Free People Inspired Dress  ...  Lace, says size small but fits medium perfectl...\n",
              "1482531          Little mermaid handmade dress  ...   Little mermaid handmade dress never worn size 2t\n",
              "1482532  21 day fix containers and eating plan  ...          Used once or twice, still in great shape.\n",
              "1482533                 World markets lanterns  ...  There is 2 of each one that you see! So 2 red ...\n",
              "1482534          Brand new lux de ville wallet  ...  New with tag, red with sparkle. Firm price, no...\n",
              "\n",
              "[1446815 rows x 7 columns]"
            ]
          },
          "metadata": {
            "tags": []
          },
          "execution_count": 36
        }
      ]
    },
    {
      "cell_type": "code",
      "metadata": {
        "id": "trBPru1qEK5b"
      },
      "source": [
        "class LabelEncoder:\n",
        "  def __init__(self, unknown = 0, invUnknown = 'unknown'):\n",
        "    self.leDict = {}\n",
        "    self.invDict = {}\n",
        "    self.unknown = unknown\n",
        "    self.invUnknown = invUnknown\n",
        "\n",
        "  def fit(self, data):\n",
        "    vci = pd.value_counts(data).index\n",
        "    self.leDict = dict(zip(vci, range(1, len(vci)+1)))\n",
        "    self.invDict = dict(zip(range(1, len(vci)+1), vci))\n",
        "\n",
        "  def transform1(self, item):\n",
        "    return self.leDict.get(item, self.unknown)\n",
        "\n",
        "  def transform(self, data):\n",
        "    return data.apply(lambda item: self.transform1(item))\n",
        "\n",
        "  def inverse_transform1(self, item):\n",
        "    return self.invDict.get(item, self.invUnknown)\n",
        "\n",
        "  def inverse_transform(self, data):\n",
        "    return data.apply(lambda item: self.inverse_transform1(item))"
      ],
      "execution_count": 37,
      "outputs": []
    },
    {
      "cell_type": "code",
      "metadata": {
        "colab": {
          "base_uri": "https://localhost:8080/"
        },
        "id": "GVJqkpWsaUT6",
        "outputId": "d6fc4e22-5e4c-4694-c7d3-da9a189a78b5"
      },
      "source": [
        "list(range(0,6))"
      ],
      "execution_count": 38,
      "outputs": [
        {
          "output_type": "execute_result",
          "data": {
            "text/plain": [
              "[0, 1, 2, 3, 4, 5]"
            ]
          },
          "metadata": {
            "tags": []
          },
          "execution_count": 38
        }
      ]
    },
    {
      "cell_type": "code",
      "metadata": {
        "id": "XO4EL__E3yTS"
      },
      "source": [
        "cat_le = LabelEncoder()\n",
        "cat_le.fit(data[\"category_name\"])\n",
        "\n",
        "data[\"category_name_l\"] = cat_le.transform(data[\"category_name\"])"
      ],
      "execution_count": 39,
      "outputs": []
    },
    {
      "cell_type": "code",
      "metadata": {
        "id": "gfiZte2s3yTS"
      },
      "source": [
        "brand_le = LabelEncoder()\n",
        "brand_le.fit(data[\"brand_name\"])\n",
        "\n",
        "data[\"brand_name_l\"] = brand_le.transform(data[\"brand_name\"])"
      ],
      "execution_count": 51,
      "outputs": []
    },
    {
      "cell_type": "code",
      "metadata": {
        "colab": {
          "base_uri": "https://localhost:8080/",
          "height": 351
        },
        "id": "lkGhq22YJJGf",
        "outputId": "bb9f143e-7394-4a6a-d772-f80b2a358863"
      },
      "source": [
        "data[\"item_description\"]=data[\"item_description\"].str.lower()\r\n",
        "data[\"name\"]=data[\"name\"].str.lower()\r\n",
        "data.head()"
      ],
      "execution_count": 52,
      "outputs": [
        {
          "output_type": "execute_result",
          "data": {
            "text/html": [
              "<div>\n",
              "<style scoped>\n",
              "    .dataframe tbody tr th:only-of-type {\n",
              "        vertical-align: middle;\n",
              "    }\n",
              "\n",
              "    .dataframe tbody tr th {\n",
              "        vertical-align: top;\n",
              "    }\n",
              "\n",
              "    .dataframe thead th {\n",
              "        text-align: right;\n",
              "    }\n",
              "</style>\n",
              "<table border=\"1\" class=\"dataframe\">\n",
              "  <thead>\n",
              "    <tr style=\"text-align: right;\">\n",
              "      <th></th>\n",
              "      <th>name</th>\n",
              "      <th>item_condition_id</th>\n",
              "      <th>category_name</th>\n",
              "      <th>brand_name</th>\n",
              "      <th>price</th>\n",
              "      <th>shipping</th>\n",
              "      <th>item_description</th>\n",
              "      <th>category_name_l</th>\n",
              "      <th>brand_name_l</th>\n",
              "    </tr>\n",
              "  </thead>\n",
              "  <tbody>\n",
              "    <tr>\n",
              "      <th>0</th>\n",
              "      <td>mlb cincinnati reds t shirt size xl</td>\n",
              "      <td>3</td>\n",
              "      <td>Men/Tops/T-shirts</td>\n",
              "      <td>NA</td>\n",
              "      <td>10.0</td>\n",
              "      <td>1</td>\n",
              "      <td>no description yet</td>\n",
              "      <td>19</td>\n",
              "      <td>1</td>\n",
              "    </tr>\n",
              "    <tr>\n",
              "      <th>1</th>\n",
              "      <td>razer blackwidow chroma keyboard</td>\n",
              "      <td>3</td>\n",
              "      <td>Electronics/Computers &amp; Tablets/Components &amp; P...</td>\n",
              "      <td>Razer</td>\n",
              "      <td>52.0</td>\n",
              "      <td>0</td>\n",
              "      <td>this keyboard is in great condition and works ...</td>\n",
              "      <td>242</td>\n",
              "      <td>583</td>\n",
              "    </tr>\n",
              "    <tr>\n",
              "      <th>2</th>\n",
              "      <td>ava-viv blouse</td>\n",
              "      <td>1</td>\n",
              "      <td>Women/Tops &amp; Blouses/Blouse</td>\n",
              "      <td>Target</td>\n",
              "      <td>10.0</td>\n",
              "      <td>1</td>\n",
              "      <td>adorable top with a hint of lace and a key hol...</td>\n",
              "      <td>10</td>\n",
              "      <td>85</td>\n",
              "    </tr>\n",
              "    <tr>\n",
              "      <th>3</th>\n",
              "      <td>leather horse statues</td>\n",
              "      <td>1</td>\n",
              "      <td>Home/Home Décor/Home Décor Accents</td>\n",
              "      <td>NA</td>\n",
              "      <td>35.0</td>\n",
              "      <td>1</td>\n",
              "      <td>new with tags. leather horses. retail for [rm]...</td>\n",
              "      <td>28</td>\n",
              "      <td>1</td>\n",
              "    </tr>\n",
              "    <tr>\n",
              "      <th>4</th>\n",
              "      <td>24k gold plated rose</td>\n",
              "      <td>1</td>\n",
              "      <td>Women/Jewelry/Necklaces</td>\n",
              "      <td>NA</td>\n",
              "      <td>44.0</td>\n",
              "      <td>0</td>\n",
              "      <td>complete with certificate of authenticity</td>\n",
              "      <td>16</td>\n",
              "      <td>1</td>\n",
              "    </tr>\n",
              "  </tbody>\n",
              "</table>\n",
              "</div>"
            ],
            "text/plain": [
              "                                  name  ...  brand_name_l\n",
              "0  mlb cincinnati reds t shirt size xl  ...             1\n",
              "1     razer blackwidow chroma keyboard  ...           583\n",
              "2                       ava-viv blouse  ...            85\n",
              "3                leather horse statues  ...             1\n",
              "4                 24k gold plated rose  ...             1\n",
              "\n",
              "[5 rows x 9 columns]"
            ]
          },
          "metadata": {
            "tags": []
          },
          "execution_count": 52
        }
      ]
    },
    {
      "cell_type": "code",
      "metadata": {
        "id": "6WynSk_Mdj44"
      },
      "source": [
        "def textCleanup(text):\n",
        "  return ' '.join([word for word in word_tokenize(text) if word not in string.punctuation and word not in stop_words])"
      ],
      "execution_count": 53,
      "outputs": []
    },
    {
      "cell_type": "code",
      "metadata": {
        "id": "JwTCeUoL6Rq7"
      },
      "source": [
        "def preprocessData(data):\n",
        "  print('description clean up')\n",
        "  data[\"item_description\"] = data[\"item_description\"].apply(textCleanup)\n",
        "\n",
        "  print('name clean up')\n",
        "  data[\"name\"] = data[\"name\"].apply(textCleanup)\n",
        "\n",
        "  tokenizer = Tokenizer(num_words=5000)\n",
        "\n",
        "  texts = np.hstack([data[\"item_description\"], data[\"name\"]])\n",
        "\n",
        "  print(\"fit tokenizer\")\n",
        "  tokenizer.fit_on_texts(texts)\n",
        "\n",
        "  print('tokenize description')\n",
        "  data[\"item_description_t\"]=tokenizer.texts_to_sequences(data[\"item_description\"])\n",
        "\n",
        "  print('tokenize name')\n",
        "  data[\"name_t\"]=tokenizer.texts_to_sequences(data[\"name\"])\n",
        "\n",
        "  return data, tokenizer"
      ],
      "execution_count": null,
      "outputs": []
    },
    {
      "cell_type": "code",
      "metadata": {
        "colab": {
          "base_uri": "https://localhost:8080/",
          "height": 430
        },
        "id": "UPSDnO6uHnmX",
        "outputId": "7a2cc063-ed23-4a89-c770-d298403ba22f"
      },
      "source": [
        "final_data_overwrite = False\n",
        "if os.path.isfile('final_data.npy') and not final_data_overwrite:\n",
        "  print(\"Loading saved final data\")\n",
        "  final_data = pd.read_pickle('final_data.npy')\n",
        "  with open('tokenizer.pickle', 'rb') as handler:\n",
        "    tokenizer = pickle.load(handler)\n",
        "else:\n",
        "  data, tokenizer = preprocessData(data)\n",
        "  final_data=data[[\"item_condition_id\",\"shipping\",\"category_name_l\",\"brand_name_l\", \"item_description_t\", \"name_t\", \"price\"]]\n",
        "  final_data.to_pickle('final_data.npy')\n",
        "  with open('tokenizer.pickle', 'wb') as handler:\n",
        "    pickle.save(tokenizer, handler, protocol=pickle.HIGHEST_PROTOCOL)\n",
        "final_data"
      ],
      "execution_count": 79,
      "outputs": [
        {
          "output_type": "stream",
          "text": [
            "Loading saved final data\n"
          ],
          "name": "stdout"
        },
        {
          "output_type": "execute_result",
          "data": {
            "text/html": [
              "<div>\n",
              "<style scoped>\n",
              "    .dataframe tbody tr th:only-of-type {\n",
              "        vertical-align: middle;\n",
              "    }\n",
              "\n",
              "    .dataframe tbody tr th {\n",
              "        vertical-align: top;\n",
              "    }\n",
              "\n",
              "    .dataframe thead th {\n",
              "        text-align: right;\n",
              "    }\n",
              "</style>\n",
              "<table border=\"1\" class=\"dataframe\">\n",
              "  <thead>\n",
              "    <tr style=\"text-align: right;\">\n",
              "      <th></th>\n",
              "      <th>item_condition_id</th>\n",
              "      <th>shipping</th>\n",
              "      <th>category_name_l</th>\n",
              "      <th>brand_name_l</th>\n",
              "      <th>item_description_t</th>\n",
              "      <th>name_t</th>\n",
              "      <th>price</th>\n",
              "    </tr>\n",
              "  </thead>\n",
              "  <tbody>\n",
              "    <tr>\n",
              "      <th>0</th>\n",
              "      <td>3</td>\n",
              "      <td>1</td>\n",
              "      <td>19</td>\n",
              "      <td>1</td>\n",
              "      <td>[39, 48]</td>\n",
              "      <td>[3733, 50, 2, 103]</td>\n",
              "      <td>10.0</td>\n",
              "    </tr>\n",
              "    <tr>\n",
              "      <th>1</th>\n",
              "      <td>3</td>\n",
              "      <td>0</td>\n",
              "      <td>242</td>\n",
              "      <td>583</td>\n",
              "      <td>[2489, 20, 6, 147, 27, 1026, 29, 3065, 663, 30...</td>\n",
              "      <td>[2489]</td>\n",
              "      <td>52.0</td>\n",
              "    </tr>\n",
              "    <tr>\n",
              "      <th>2</th>\n",
              "      <td>1</td>\n",
              "      <td>1</td>\n",
              "      <td>10</td>\n",
              "      <td>85</td>\n",
              "      <td>[515, 32, 135, 809, 1215, 68, 1835, 11, 614, 1...</td>\n",
              "      <td>[576]</td>\n",
              "      <td>10.0</td>\n",
              "    </tr>\n",
              "    <tr>\n",
              "      <th>3</th>\n",
              "      <td>1</td>\n",
              "      <td>1</td>\n",
              "      <td>28</td>\n",
              "      <td>1</td>\n",
              "      <td>[1, 33, 120, 165, 9, 969, 1475, 82, 250, 164, ...</td>\n",
              "      <td>[120, 2503]</td>\n",
              "      <td>35.0</td>\n",
              "    </tr>\n",
              "    <tr>\n",
              "      <th>4</th>\n",
              "      <td>1</td>\n",
              "      <td>0</td>\n",
              "      <td>16</td>\n",
              "      <td>1</td>\n",
              "      <td>[727, 1849]</td>\n",
              "      <td>[4737, 67, 992, 215]</td>\n",
              "      <td>44.0</td>\n",
              "    </tr>\n",
              "    <tr>\n",
              "      <th>...</th>\n",
              "      <td>...</td>\n",
              "      <td>...</td>\n",
              "      <td>...</td>\n",
              "      <td>...</td>\n",
              "      <td>...</td>\n",
              "      <td>...</td>\n",
              "      <td>...</td>\n",
              "    </tr>\n",
              "    <tr>\n",
              "      <th>1482530</th>\n",
              "      <td>2</td>\n",
              "      <td>1</td>\n",
              "      <td>243</td>\n",
              "      <td>46</td>\n",
              "      <td>[135, 599, 2, 22, 110, 36, 618, 18, 15, 60, 55...</td>\n",
              "      <td>[3, 489, 1580, 46]</td>\n",
              "      <td>20.0</td>\n",
              "    </tr>\n",
              "    <tr>\n",
              "      <th>1482531</th>\n",
              "      <td>2</td>\n",
              "      <td>0</td>\n",
              "      <td>122</td>\n",
              "      <td>16</td>\n",
              "      <td>[105, 1232, 668, 46, 18, 14, 2, 901]</td>\n",
              "      <td>[105, 1232, 668, 46]</td>\n",
              "      <td>14.0</td>\n",
              "    </tr>\n",
              "    <tr>\n",
              "      <th>1482532</th>\n",
              "      <td>2</td>\n",
              "      <td>0</td>\n",
              "      <td>86</td>\n",
              "      <td>1</td>\n",
              "      <td>[15, 278, 78, 20, 307]</td>\n",
              "      <td>[222, 75, 1419, 2398, 3550]</td>\n",
              "      <td>12.0</td>\n",
              "    </tr>\n",
              "    <tr>\n",
              "      <th>1482533</th>\n",
              "      <td>3</td>\n",
              "      <td>1</td>\n",
              "      <td>28</td>\n",
              "      <td>1</td>\n",
              "      <td>[8, 24, 90, 8, 76, 8, 320, 8, 243, 76, 320, 91...</td>\n",
              "      <td>[1184]</td>\n",
              "      <td>45.0</td>\n",
              "    </tr>\n",
              "    <tr>\n",
              "      <th>1482534</th>\n",
              "      <td>1</td>\n",
              "      <td>0</td>\n",
              "      <td>26</td>\n",
              "      <td>1</td>\n",
              "      <td>[1, 128, 76, 1529, 42, 21, 3, 7]</td>\n",
              "      <td>[4, 1, 1087, 225]</td>\n",
              "      <td>22.0</td>\n",
              "    </tr>\n",
              "  </tbody>\n",
              "</table>\n",
              "<p>1446815 rows × 7 columns</p>\n",
              "</div>"
            ],
            "text/plain": [
              "         item_condition_id  shipping  ...                       name_t  price\n",
              "0                        3         1  ...           [3733, 50, 2, 103]   10.0\n",
              "1                        3         0  ...                       [2489]   52.0\n",
              "2                        1         1  ...                        [576]   10.0\n",
              "3                        1         1  ...                  [120, 2503]   35.0\n",
              "4                        1         0  ...         [4737, 67, 992, 215]   44.0\n",
              "...                    ...       ...  ...                          ...    ...\n",
              "1482530                  2         1  ...           [3, 489, 1580, 46]   20.0\n",
              "1482531                  2         0  ...         [105, 1232, 668, 46]   14.0\n",
              "1482532                  2         0  ...  [222, 75, 1419, 2398, 3550]   12.0\n",
              "1482533                  3         1  ...                       [1184]   45.0\n",
              "1482534                  1         0  ...            [4, 1, 1087, 225]   22.0\n",
              "\n",
              "[1446815 rows x 7 columns]"
            ]
          },
          "metadata": {
            "tags": []
          },
          "execution_count": 79
        }
      ]
    },
    {
      "cell_type": "code",
      "metadata": {
        "id": "siBwn0ntHnmY"
      },
      "source": [
        "train, validation = train_test_split(final_data, test_size=0.2, random_state=1000)"
      ],
      "execution_count": 80,
      "outputs": []
    },
    {
      "cell_type": "code",
      "metadata": {
        "colab": {
          "base_uri": "https://localhost:8080/"
        },
        "id": "5W0A95PQEDb_",
        "outputId": "f40b5c2a-f6fe-473d-8fb7-33cf807313cf"
      },
      "source": [
        "'''desc_vocab_size = len(t['item_description'].word_index) + 1\n",
        "print(desc_vocab_size)\n",
        "\n",
        "name_vocab_size = len(t['name'].word_index) + 1\n",
        "print(name_vocab_size)'''\n",
        "vocab_size= len(tokenizer.word_index)+1\n",
        "print(vocab_size)"
      ],
      "execution_count": 87,
      "outputs": [
        {
          "output_type": "stream",
          "text": [
            "240580\n"
          ],
          "name": "stdout"
        }
      ]
    },
    {
      "cell_type": "code",
      "metadata": {
        "id": "wGmnn5zJq3uK"
      },
      "source": [
        "def lengthCumDistribution(data, threshold=0.8):\n",
        "  lengths = data.apply(lambda x: len(x))\n",
        "  lengthsHist = lengths.hist\n",
        "  lengthsFreq = lengths.value_counts().sort_index()\n",
        "  lengthsFreqNormalized = lengthsFreq / sum(lengthsFreq)\n",
        "  lengthsCumFreq = lengthsFreqNormalized.cumsum()\n",
        "\n",
        "  index = lengthsCumFreq.where(lengthsCumFreq >= threshold).first_valid_index()\n",
        "\n",
        "  cumPlot = lengthsCumFreq.plot\n",
        "\n",
        "  return index, lengthsCumFreq, cumPlot, lengthsHist"
      ],
      "execution_count": 88,
      "outputs": []
    },
    {
      "cell_type": "code",
      "metadata": {
        "colab": {
          "base_uri": "https://localhost:8080/",
          "height": 414
        },
        "id": "cVKaHBR0QPgs",
        "outputId": "ec3076a6-02f0-43bb-8150-43d16e935980"
      },
      "source": [
        "train[[\"item_description_t\",\"name_t\"]]"
      ],
      "execution_count": 89,
      "outputs": [
        {
          "output_type": "execute_result",
          "data": {
            "text/html": [
              "<div>\n",
              "<style scoped>\n",
              "    .dataframe tbody tr th:only-of-type {\n",
              "        vertical-align: middle;\n",
              "    }\n",
              "\n",
              "    .dataframe tbody tr th {\n",
              "        vertical-align: top;\n",
              "    }\n",
              "\n",
              "    .dataframe thead th {\n",
              "        text-align: right;\n",
              "    }\n",
              "</style>\n",
              "<table border=\"1\" class=\"dataframe\">\n",
              "  <thead>\n",
              "    <tr style=\"text-align: right;\">\n",
              "      <th></th>\n",
              "      <th>item_description_t</th>\n",
              "      <th>name_t</th>\n",
              "    </tr>\n",
              "  </thead>\n",
              "  <tbody>\n",
              "    <tr>\n",
              "      <th>233645</th>\n",
              "      <td>[15, 44, 532, 321, 2421, 698, 321, 1732, 4, 1,...</td>\n",
              "      <td>[44, 532]</td>\n",
              "    </tr>\n",
              "    <tr>\n",
              "      <th>1419447</th>\n",
              "      <td>[4, 1, 61, 26, 89, 148]</td>\n",
              "      <td>[167, 1863, 3374, 2711, 61]</td>\n",
              "    </tr>\n",
              "    <tr>\n",
              "      <th>935662</th>\n",
              "      <td>[91, 15, 6, 1294, 384, 32, 2, 36, 757, 22, 21,...</td>\n",
              "      <td>[384, 32, 36]</td>\n",
              "    </tr>\n",
              "    <tr>\n",
              "      <th>1147679</th>\n",
              "      <td>[18, 15]</td>\n",
              "      <td>[]</td>\n",
              "    </tr>\n",
              "    <tr>\n",
              "      <th>766955</th>\n",
              "      <td>[338, 39, 156, 4, 1, 18, 15]</td>\n",
              "      <td>[153, 1314]</td>\n",
              "    </tr>\n",
              "    <tr>\n",
              "      <th>...</th>\n",
              "      <td>...</td>\n",
              "      <td>...</td>\n",
              "    </tr>\n",
              "    <tr>\n",
              "      <th>19252</th>\n",
              "      <td>[29, 595]</td>\n",
              "      <td>[414, 263, 2253, 709]</td>\n",
              "    </tr>\n",
              "    <tr>\n",
              "      <th>385322</th>\n",
              "      <td>[764, 718, 4666, 332, 451, 69]</td>\n",
              "      <td>[107, 764, 718, 4666, 332]</td>\n",
              "    </tr>\n",
              "    <tr>\n",
              "      <th>138223</th>\n",
              "      <td>[66, 5, 11, 2, 36, 70, 129, 2137, 469, 20, 6, ...</td>\n",
              "      <td>[192, 2137, 469]</td>\n",
              "    </tr>\n",
              "    <tr>\n",
              "      <th>1148150</th>\n",
              "      <td>[255, 15, 44, 23, 77, 53, 314, 264, 9, 154, 246]</td>\n",
              "      <td>[44, 23, 77, 151, 53]</td>\n",
              "    </tr>\n",
              "    <tr>\n",
              "      <th>1185228</th>\n",
              "      <td>[2, 22, 46, 787, 312, 126, 135, 437, 60, 60, 5...</td>\n",
              "      <td>[787, 312, 46, 58]</td>\n",
              "    </tr>\n",
              "  </tbody>\n",
              "</table>\n",
              "<p>1157452 rows × 2 columns</p>\n",
              "</div>"
            ],
            "text/plain": [
              "                                        item_description_t                       name_t\n",
              "233645   [15, 44, 532, 321, 2421, 698, 321, 1732, 4, 1,...                    [44, 532]\n",
              "1419447                            [4, 1, 61, 26, 89, 148]  [167, 1863, 3374, 2711, 61]\n",
              "935662   [91, 15, 6, 1294, 384, 32, 2, 36, 757, 22, 21,...                [384, 32, 36]\n",
              "1147679                                           [18, 15]                           []\n",
              "766955                        [338, 39, 156, 4, 1, 18, 15]                  [153, 1314]\n",
              "...                                                    ...                          ...\n",
              "19252                                            [29, 595]        [414, 263, 2253, 709]\n",
              "385322                      [764, 718, 4666, 332, 451, 69]   [107, 764, 718, 4666, 332]\n",
              "138223   [66, 5, 11, 2, 36, 70, 129, 2137, 469, 20, 6, ...             [192, 2137, 469]\n",
              "1148150   [255, 15, 44, 23, 77, 53, 314, 264, 9, 154, 246]        [44, 23, 77, 151, 53]\n",
              "1185228  [2, 22, 46, 787, 312, 126, 135, 437, 60, 60, 5...           [787, 312, 46, 58]\n",
              "\n",
              "[1157452 rows x 2 columns]"
            ]
          },
          "metadata": {
            "tags": []
          },
          "execution_count": 89
        }
      ]
    },
    {
      "cell_type": "code",
      "metadata": {
        "id": "Y40ov-ULHtla"
      },
      "source": [
        "desc_length_max=75\n",
        "inputDesc_train = pad_sequences(train[\"item_description_t\"],\n",
        "                                                  padding='post', maxlen=desc_length_max)"
      ],
      "execution_count": 90,
      "outputs": []
    },
    {
      "cell_type": "code",
      "metadata": {
        "id": "tky1YzlkB8U5"
      },
      "source": [
        "inputDesc_validation = pad_sequences(validation[\"item_description_t\"],\n",
        "                                                  padding='post', maxlen=desc_length_max)"
      ],
      "execution_count": 91,
      "outputs": []
    },
    {
      "cell_type": "code",
      "metadata": {
        "id": "XBZIAP9n3yTU"
      },
      "source": [
        "name_length_max=10\r\n",
        "inputName_train = pad_sequences(train[\"name_t\"], padding='post', maxlen=name_length_max)"
      ],
      "execution_count": 92,
      "outputs": []
    },
    {
      "cell_type": "code",
      "metadata": {
        "id": "1uhYXRYQCCHb"
      },
      "source": [
        "inputName_validation = pad_sequences(validation[\"name_t\"], padding='post', maxlen=name_length_max)"
      ],
      "execution_count": 93,
      "outputs": []
    },
    {
      "cell_type": "code",
      "metadata": {
        "colab": {
          "base_uri": "https://localhost:8080/"
        },
        "id": "nFlm8Qqx-Qab",
        "outputId": "de1d0c16-39a0-48e5-8af3-bad3d2473643"
      },
      "source": [
        "y_train = train[\"price\"]\r\n",
        "y_train"
      ],
      "execution_count": 94,
      "outputs": [
        {
          "output_type": "execute_result",
          "data": {
            "text/plain": [
              "233645     105.0\n",
              "1419447     16.0\n",
              "935662      26.0\n",
              "1147679     14.0\n",
              "766955       8.0\n",
              "           ...  \n",
              "19252       18.0\n",
              "385322      54.0\n",
              "138223      23.0\n",
              "1148150     14.0\n",
              "1185228     18.0\n",
              "Name: price, Length: 1157452, dtype: float64"
            ]
          },
          "metadata": {
            "tags": []
          },
          "execution_count": 94
        }
      ]
    },
    {
      "cell_type": "code",
      "metadata": {
        "colab": {
          "base_uri": "https://localhost:8080/"
        },
        "id": "IkHBOiRXggJw",
        "outputId": "e13a2444-7e8e-48c8-9d92-3418762c7f14"
      },
      "source": [
        "y_validation = validation[\"price\"]\r\n",
        "y_validation"
      ],
      "execution_count": 95,
      "outputs": [
        {
          "output_type": "execute_result",
          "data": {
            "text/plain": [
              "1378349     39.0\n",
              "1186437     14.0\n",
              "1356070    559.0\n",
              "981120      54.0\n",
              "1017699     25.0\n",
              "           ...  \n",
              "933953      10.0\n",
              "1246650     30.0\n",
              "1415233     10.0\n",
              "376025      28.0\n",
              "511335      19.0\n",
              "Name: price, Length: 289363, dtype: float64"
            ]
          },
          "metadata": {
            "tags": []
          },
          "execution_count": 95
        }
      ]
    },
    {
      "cell_type": "code",
      "metadata": {
        "colab": {
          "base_uri": "https://localhost:8080/",
          "height": 201
        },
        "id": "HR5og0VNTg-Y",
        "outputId": "938bf20b-2b9b-4b87-c586-4d1e1afd8cdc"
      },
      "source": [
        "train.head()"
      ],
      "execution_count": 97,
      "outputs": [
        {
          "output_type": "execute_result",
          "data": {
            "text/html": [
              "<div>\n",
              "<style scoped>\n",
              "    .dataframe tbody tr th:only-of-type {\n",
              "        vertical-align: middle;\n",
              "    }\n",
              "\n",
              "    .dataframe tbody tr th {\n",
              "        vertical-align: top;\n",
              "    }\n",
              "\n",
              "    .dataframe thead th {\n",
              "        text-align: right;\n",
              "    }\n",
              "</style>\n",
              "<table border=\"1\" class=\"dataframe\">\n",
              "  <thead>\n",
              "    <tr style=\"text-align: right;\">\n",
              "      <th></th>\n",
              "      <th>item_condition_id</th>\n",
              "      <th>shipping</th>\n",
              "      <th>category_name_l</th>\n",
              "      <th>brand_name_l</th>\n",
              "      <th>item_description_t</th>\n",
              "      <th>name_t</th>\n",
              "      <th>price</th>\n",
              "    </tr>\n",
              "  </thead>\n",
              "  <tbody>\n",
              "    <tr>\n",
              "      <th>233645</th>\n",
              "      <td>4</td>\n",
              "      <td>1</td>\n",
              "      <td>42</td>\n",
              "      <td>6</td>\n",
              "      <td>[15, 44, 532, 321, 2421, 698, 321, 1732, 4, 1,...</td>\n",
              "      <td>[44, 532]</td>\n",
              "      <td>105.0</td>\n",
              "    </tr>\n",
              "    <tr>\n",
              "      <th>1419447</th>\n",
              "      <td>1</td>\n",
              "      <td>0</td>\n",
              "      <td>6</td>\n",
              "      <td>1</td>\n",
              "      <td>[4, 1, 61, 26, 89, 148]</td>\n",
              "      <td>[167, 1863, 3374, 2711, 61]</td>\n",
              "      <td>16.0</td>\n",
              "    </tr>\n",
              "    <tr>\n",
              "      <th>935662</th>\n",
              "      <td>3</td>\n",
              "      <td>1</td>\n",
              "      <td>29</td>\n",
              "      <td>621</td>\n",
              "      <td>[91, 15, 6, 1294, 384, 32, 2, 36, 757, 22, 21,...</td>\n",
              "      <td>[384, 32, 36]</td>\n",
              "      <td>26.0</td>\n",
              "    </tr>\n",
              "    <tr>\n",
              "      <th>1147679</th>\n",
              "      <td>2</td>\n",
              "      <td>0</td>\n",
              "      <td>78</td>\n",
              "      <td>1</td>\n",
              "      <td>[18, 15]</td>\n",
              "      <td>[]</td>\n",
              "      <td>14.0</td>\n",
              "    </tr>\n",
              "    <tr>\n",
              "      <th>766955</th>\n",
              "      <td>1</td>\n",
              "      <td>1</td>\n",
              "      <td>4</td>\n",
              "      <td>13</td>\n",
              "      <td>[338, 39, 156, 4, 1, 18, 15]</td>\n",
              "      <td>[153, 1314]</td>\n",
              "      <td>8.0</td>\n",
              "    </tr>\n",
              "  </tbody>\n",
              "</table>\n",
              "</div>"
            ],
            "text/plain": [
              "         item_condition_id  shipping  ...                       name_t  price\n",
              "233645                   4         1  ...                    [44, 532]  105.0\n",
              "1419447                  1         0  ...  [167, 1863, 3374, 2711, 61]   16.0\n",
              "935662                   3         1  ...                [384, 32, 36]   26.0\n",
              "1147679                  2         0  ...                           []   14.0\n",
              "766955                   1         1  ...                  [153, 1314]    8.0\n",
              "\n",
              "[5 rows x 7 columns]"
            ]
          },
          "metadata": {
            "tags": []
          },
          "execution_count": 97
        }
      ]
    },
    {
      "cell_type": "code",
      "metadata": {
        "id": "CZh4kWw73yTY"
      },
      "source": [
        "inputA_train = train[[\"item_condition_id\", \"category_name_l\", \"brand_name_l\", \"shipping\"]].values.astype('int32')"
      ],
      "execution_count": 98,
      "outputs": []
    },
    {
      "cell_type": "code",
      "metadata": {
        "id": "-oTri-SwCHqe"
      },
      "source": [
        "inputA_validation = validation[[\"item_condition_id\", \"category_name_l\", \"brand_name_l\", \"shipping\"]].values.astype('int32')"
      ],
      "execution_count": 99,
      "outputs": []
    },
    {
      "cell_type": "code",
      "metadata": {
        "colab": {
          "base_uri": "https://localhost:8080/"
        },
        "id": "OUeT17cO-xhP",
        "outputId": "9bc1afa2-bf53-4bc9-ad65-4fa4b90964cc"
      },
      "source": [
        "#! wget http://downloads.cs.stanford.edu/nlp/data/wordvecs/glove.6B.zip"
      ],
      "execution_count": 113,
      "outputs": [
        {
          "output_type": "stream",
          "text": [
            "--2020-12-20 16:29:58--  http://downloads.cs.stanford.edu/nlp/data/wordvecs/glove.6B.zip\n",
            "Resolving downloads.cs.stanford.edu (downloads.cs.stanford.edu)... 171.64.64.22\n",
            "Connecting to downloads.cs.stanford.edu (downloads.cs.stanford.edu)|171.64.64.22|:80... connected.\n",
            "HTTP request sent, awaiting response... 200 OK\n",
            "Length: 862182753 (822M) [application/zip]\n",
            "Saving to: ‘glove.6B.zip’\n",
            "\n",
            "glove.6B.zip        100%[===================>] 822.24M  2.00MB/s    in 6m 31s  \n",
            "\n",
            "2020-12-20 16:36:29 (2.10 MB/s) - ‘glove.6B.zip’ saved [862182753/862182753]\n",
            "\n"
          ],
          "name": "stdout"
        }
      ]
    },
    {
      "cell_type": "code",
      "metadata": {
        "colab": {
          "base_uri": "https://localhost:8080/"
        },
        "id": "m6X2PUTqGNGI",
        "outputId": "4168ff25-1e52-4e78-c34a-fd32abec9c97"
      },
      "source": [
        "#! unzip glove.6B.zip glove.6B.100d.txt"
      ],
      "execution_count": 139,
      "outputs": [
        {
          "output_type": "stream",
          "text": [
            "Archive:  glove.6B.zip\n",
            "  inflating: glove.6B.200d.txt       \n"
          ],
          "name": "stdout"
        }
      ]
    },
    {
      "cell_type": "code",
      "metadata": {
        "colab": {
          "base_uri": "https://localhost:8080/"
        },
        "id": "gPFLTtl_C6A4",
        "outputId": "3dc50975-bd26-4297-b383-17fdfa2d06d3"
      },
      "source": [
        "word_index = tokenizer.word_index\n",
        "print(len(word_index))"
      ],
      "execution_count": 126,
      "outputs": [
        {
          "output_type": "stream",
          "text": [
            "240579\n"
          ],
          "name": "stdout"
        }
      ]
    },
    {
      "cell_type": "code",
      "metadata": {
        "colab": {
          "base_uri": "https://localhost:8080/"
        },
        "id": "hVnTcD3nCet7",
        "outputId": "d6cd0203-9553-4c65-f179-8f1f55319c1d"
      },
      "source": [
        "if glove:\n",
        "  path_to_glove_file = os.path.join(\n",
        "      base_dir, \"glove.6B.100d.txt\"\n",
        "  )\n",
        "\n",
        "  embeddings_index = {}\n",
        "  with open(path_to_glove_file) as f:\n",
        "      for line in f:\n",
        "          word, coefs = line.split(maxsplit=1)\n",
        "          coefs = np.fromstring(coefs, \"f\", sep=\" \")\n",
        "          embeddings_index[word] = coefs\n",
        "\n",
        "  print(\"Found %s word vectors.\" % len(embeddings_index))"
      ],
      "execution_count": 140,
      "outputs": [
        {
          "output_type": "stream",
          "text": [
            "Found 400001 word vectors.\n"
          ],
          "name": "stdout"
        }
      ]
    },
    {
      "cell_type": "code",
      "metadata": {
        "colab": {
          "base_uri": "https://localhost:8080/"
        },
        "id": "Vffbp5FHB-ZN",
        "outputId": "ff82614e-1a21-4dc5-9d9c-7bc3c4525fab"
      },
      "source": [
        "#glove pretrained embedding\n",
        "\n",
        "if glove:\n",
        "\n",
        "  num_tokens = len(word_index) + 2\n",
        "  embedding_dim = 100\n",
        "  hits = 0\n",
        "  misses = 0\n",
        "\n",
        "  # Prepare embedding matrix\n",
        "  embedding_matrix = np.zeros((num_tokens, embedding_dim))\n",
        "  for word, i in word_index.items():\n",
        "      embedding_vector = embeddings_index.get(word)\n",
        "      if embedding_vector is not None:\n",
        "          # Words not found in embedding index will be all-zeros.\n",
        "          # This includes the representation for \"padding\" and \"OOV\"\n",
        "          embedding_matrix[i] = embedding_vector\n",
        "          hits += 1\n",
        "      else:\n",
        "          misses += 1\n",
        "  print(\"Converted %d words (%d misses)\" % (hits, misses))"
      ],
      "execution_count": 142,
      "outputs": [
        {
          "output_type": "stream",
          "text": [
            "Converted 72301 words (168278 misses)\n"
          ],
          "name": "stdout"
        }
      ]
    },
    {
      "cell_type": "code",
      "metadata": {
        "id": "7ZmQxJaT3yTX"
      },
      "source": [
        "name_vocab_size=vocab_size\n",
        "desc_vocab_size=vocab_size\n",
        "def getModel():\n",
        "    inputA = Input(shape=(4,))\n",
        "    #Ad = Dense(4, activation='relu')(inputA)\n",
        "    Ad = inputA\n",
        "    \n",
        "    inputName = Input(shape=(name_length_max,))\n",
        "    Ne = Embedding(input_dim=name_vocab_size, output_dim=8, input_length=name_length_max)(inputName)\n",
        "    #Ne = Embedding(\n",
        "    #    num_tokens,\n",
        "    #    embedding_dim,\n",
        "    #    embeddings_initializer=keras.initializers.Constant(embedding_matrix),\n",
        "    #    trainable=False,\n",
        "    #)(inputName)\n",
        "    Nd = LSTM(8,return_sequences=True)(Ne)\n",
        "    Nd = Flatten()(Nd)\n",
        "\n",
        "    #Nd = Nf\n",
        "    \n",
        "    inputDesc = Input(shape=(desc_length_max,))\n",
        "    De = Embedding(input_dim=desc_vocab_size, output_dim=16, input_length=desc_length_max)(inputDesc)\n",
        "    #De = Embedding(\n",
        "    #    num_tokens,\n",
        "    #    embedding_dim,\n",
        "    #    embeddings_initializer=keras.initializers.Constant(embedding_matrix),\n",
        "    #    trainable=False,\n",
        "    #)(inputDesc)\n",
        "    Dd = LSTM(16,return_sequences=True)(De)\n",
        "    Dd = LSTM(8,return_sequences=True)(Dd)\n",
        "    Dd = Flatten()(Dd)\n",
        "    #Dd = Df\n",
        "    \n",
        "    concat = Concatenate()([Ad, Nd, Dd])\n",
        "\n",
        "    x = Dropout(0.1)(concat)    \n",
        "    x = Dense(32, activation='relu')(x)\n",
        "    x = Dropout(0.1)(x)\n",
        "    x = Dense(16, activation='relu')(x)\n",
        "    \n",
        "    x = Dense(1, activation='linear')(x)\n",
        "    \n",
        "    model = Model(inputs=[inputA, inputName, inputDesc], outputs=x)\n",
        "    \n",
        "    return model\n",
        "    "
      ],
      "execution_count": 143,
      "outputs": []
    },
    {
      "cell_type": "code",
      "metadata": {
        "colab": {
          "base_uri": "https://localhost:8080/"
        },
        "id": "SWfolHUC3yTX",
        "outputId": "c7d29033-a927-437f-95ef-1cc578ada9cc"
      },
      "source": [
        "model = getModel()\n",
        "model.summary()"
      ],
      "execution_count": 144,
      "outputs": [
        {
          "output_type": "stream",
          "text": [
            "Model: \"model_3\"\n",
            "__________________________________________________________________________________________________\n",
            "Layer (type)                    Output Shape         Param #     Connected to                     \n",
            "==================================================================================================\n",
            "input_16 (InputLayer)           [(None, 75)]         0                                            \n",
            "__________________________________________________________________________________________________\n",
            "input_15 (InputLayer)           [(None, 10)]         0                                            \n",
            "__________________________________________________________________________________________________\n",
            "embedding_7 (Embedding)         (None, 75, 16)       3849280     input_16[0][0]                   \n",
            "__________________________________________________________________________________________________\n",
            "embedding_6 (Embedding)         (None, 10, 8)        1924640     input_15[0][0]                   \n",
            "__________________________________________________________________________________________________\n",
            "lstm_7 (LSTM)                   (None, 75, 16)       2112        embedding_7[0][0]                \n",
            "__________________________________________________________________________________________________\n",
            "lstm_6 (LSTM)                   (None, 10, 8)        544         embedding_6[0][0]                \n",
            "__________________________________________________________________________________________________\n",
            "lstm_8 (LSTM)                   (None, 75, 8)        800         lstm_7[0][0]                     \n",
            "__________________________________________________________________________________________________\n",
            "input_14 (InputLayer)           [(None, 4)]          0                                            \n",
            "__________________________________________________________________________________________________\n",
            "flatten_6 (Flatten)             (None, 80)           0           lstm_6[0][0]                     \n",
            "__________________________________________________________________________________________________\n",
            "flatten_7 (Flatten)             (None, 600)          0           lstm_8[0][0]                     \n",
            "__________________________________________________________________________________________________\n",
            "concatenate_3 (Concatenate)     (None, 684)          0           input_14[0][0]                   \n",
            "                                                                 flatten_6[0][0]                  \n",
            "                                                                 flatten_7[0][0]                  \n",
            "__________________________________________________________________________________________________\n",
            "dropout_6 (Dropout)             (None, 684)          0           concatenate_3[0][0]              \n",
            "__________________________________________________________________________________________________\n",
            "dense_12 (Dense)                (None, 32)           21920       dropout_6[0][0]                  \n",
            "__________________________________________________________________________________________________\n",
            "dropout_7 (Dropout)             (None, 32)           0           dense_12[0][0]                   \n",
            "__________________________________________________________________________________________________\n",
            "dense_13 (Dense)                (None, 16)           528         dropout_7[0][0]                  \n",
            "__________________________________________________________________________________________________\n",
            "dense_14 (Dense)                (None, 1)            17          dense_13[0][0]                   \n",
            "==================================================================================================\n",
            "Total params: 5,799,841\n",
            "Trainable params: 5,799,841\n",
            "Non-trainable params: 0\n",
            "__________________________________________________________________________________________________\n"
          ],
          "name": "stdout"
        }
      ]
    },
    {
      "cell_type": "code",
      "metadata": {
        "colab": {
          "base_uri": "https://localhost:8080/",
          "height": 1000
        },
        "id": "aNoRvN6T3yTX",
        "outputId": "c0875dcb-bdd6-43e0-a382-853778292d29"
      },
      "source": [
        "plot_model(model)"
      ],
      "execution_count": 133,
      "outputs": [
        {
          "output_type": "execute_result",
          "data": {
            "image/png": "[encoded data removed]",
            "text/plain": [
              "<IPython.core.display.Image object>"
            ]
          },
          "metadata": {
            "tags": []
          },
          "execution_count": 133
        }
      ]
    },
    {
      "cell_type": "code",
      "metadata": {
        "id": "K0ETrpfjg_ha"
      },
      "source": [
        "import keras.backend as K\r\n",
        "msle = tf.keras.losses.MeanSquaredLogarithmicError()\r\n",
        "\r\n",
        "def root_mean_squared_logarithmic_error(y_true, y_pred):\r\n",
        "    return K.sqrt(msle(y_true, y_pred))"
      ],
      "execution_count": 134,
      "outputs": []
    },
    {
      "cell_type": "code",
      "metadata": {
        "id": "1-rcb1aLIHPX"
      },
      "source": [
        "model.compile(loss = root_mean_squared_logarithmic_error, optimizer='adam', metrics=['mse', 'mae', tf.keras.metrics.RootMeanSquaredError(), 'mean_squared_logarithmic_error', root_mean_squared_logarithmic_error])"
      ],
      "execution_count": 135,
      "outputs": []
    },
    {
      "cell_type": "code",
      "metadata": {
        "colab": {
          "base_uri": "https://localhost:8080/",
          "height": 690
        },
        "id": "Y2m3WcI-JWcP",
        "outputId": "95a356ec-f2cb-4c55-ae6e-4083878792d2"
      },
      "source": [
        "history = model.fit(x=[inputA_train, inputName_train, inputDesc_train], y=y_train,\n",
        "                    epochs=20,\n",
        "                    verbose=True,\n",
        "                    validation_data=([inputA_validation, inputName_validation, inputDesc_validation], y_validation),\n",
        "                    batch_size=512)"
      ],
      "execution_count": 136,
      "outputs": [
        {
          "output_type": "stream",
          "text": [
            "Epoch 1/20\n",
            "2261/2261 [==============================] - 55s 22ms/step - loss: 0.7130 - mse: 1489.7029 - mae: 15.6055 - root_mean_squared_error: 38.5473 - mean_squared_logarithmic_error: 0.5915 - root_mean_squared_logarithmic_error: 0.7130 - val_loss: 0.5552 - val_mse: 1127.7937 - val_mae: 12.8965 - val_root_mean_squared_error: 33.5826 - val_mean_squared_logarithmic_error: 0.3089 - val_root_mean_squared_logarithmic_error: 0.5552\n",
            "Epoch 2/20\n",
            "2261/2261 [==============================] - 48s 21ms/step - loss: 0.5526 - mse: 1182.3161 - mae: 12.9984 - root_mean_squared_error: 34.3797 - mean_squared_logarithmic_error: 0.3060 - root_mean_squared_logarithmic_error: 0.5526 - val_loss: 0.5375 - val_mse: 1064.6044 - val_mae: 12.5310 - val_root_mean_squared_error: 32.6283 - val_mean_squared_logarithmic_error: 0.2895 - val_root_mean_squared_logarithmic_error: 0.5376\n",
            "Epoch 3/20\n",
            "2261/2261 [==============================] - 46s 21ms/step - loss: 0.5364 - mse: 1071.1223 - mae: 12.5667 - root_mean_squared_error: 32.7221 - mean_squared_logarithmic_error: 0.2883 - root_mean_squared_logarithmic_error: 0.5364 - val_loss: 0.5281 - val_mse: 1007.4161 - val_mae: 12.3645 - val_root_mean_squared_error: 31.7398 - val_mean_squared_logarithmic_error: 0.2794 - val_root_mean_squared_logarithmic_error: 0.5282\n",
            "Epoch 4/20\n",
            "2261/2261 [==============================] - 46s 20ms/step - loss: 0.5295 - mse: 1083.5487 - mae: 12.4184 - root_mean_squared_error: 32.9099 - mean_squared_logarithmic_error: 0.2809 - root_mean_squared_logarithmic_error: 0.5295 - val_loss: 0.5293 - val_mse: 1040.2892 - val_mae: 12.2529 - val_root_mean_squared_error: 32.2535 - val_mean_squared_logarithmic_error: 0.2807 - val_root_mean_squared_logarithmic_error: 0.5294\n",
            "Epoch 5/20\n",
            "2261/2261 [==============================] - 46s 20ms/step - loss: 0.5245 - mse: 1096.2865 - mae: 12.2906 - root_mean_squared_error: 33.1056 - mean_squared_logarithmic_error: 0.2756 - root_mean_squared_logarithmic_error: 0.5245 - val_loss: 0.5331 - val_mse: 1051.6057 - val_mae: 12.2848 - val_root_mean_squared_error: 32.4285 - val_mean_squared_logarithmic_error: 0.2848 - val_root_mean_squared_logarithmic_error: 0.5332\n",
            "Epoch 6/20\n",
            "2261/2261 [==============================] - 45s 20ms/step - loss: 0.5208 - mse: 1036.8139 - mae: 12.2208 - root_mean_squared_error: 32.1946 - mean_squared_logarithmic_error: 0.2717 - root_mean_squared_logarithmic_error: 0.5208 - val_loss: 0.5205 - val_mse: 990.6666 - val_mae: 12.0703 - val_root_mean_squared_error: 31.4749 - val_mean_squared_logarithmic_error: 0.2715 - val_root_mean_squared_logarithmic_error: 0.5206\n",
            "Epoch 7/20\n",
            "2261/2261 [==============================] - 45s 20ms/step - loss: 0.5181 - mse: 1044.6849 - mae: 12.1624 - root_mean_squared_error: 32.3156 - mean_squared_logarithmic_error: 0.2689 - root_mean_squared_logarithmic_error: 0.5181 - val_loss: 0.5177 - val_mse: 1000.4944 - val_mae: 12.0350 - val_root_mean_squared_error: 31.6306 - val_mean_squared_logarithmic_error: 0.2686 - val_root_mean_squared_logarithmic_error: 0.5178\n",
            "Epoch 8/20\n",
            "2261/2261 [==============================] - 44s 19ms/step - loss: 0.5163 - mse: 1042.6691 - mae: 12.1258 - root_mean_squared_error: 32.2873 - mean_squared_logarithmic_error: 0.2671 - root_mean_squared_logarithmic_error: 0.5163 - val_loss: 0.5154 - val_mse: 982.4363 - val_mae: 11.9663 - val_root_mean_squared_error: 31.3438 - val_mean_squared_logarithmic_error: 0.2662 - val_root_mean_squared_logarithmic_error: 0.5155\n",
            "Epoch 9/20\n",
            "2261/2261 [==============================] - 46s 20ms/step - loss: 0.5126 - mse: 998.8755 - mae: 11.9846 - root_mean_squared_error: 31.6001 - mean_squared_logarithmic_error: 0.2633 - root_mean_squared_logarithmic_error: 0.5126 - val_loss: 0.5122 - val_mse: 959.2112 - val_mae: 11.9038 - val_root_mean_squared_error: 30.9711 - val_mean_squared_logarithmic_error: 0.2629 - val_root_mean_squared_logarithmic_error: 0.5123\n",
            "Epoch 10/20\n",
            "2259/2261 [============================>.] - ETA: 0s - loss: 0.5117 - mse: 988.3393 - mae: 11.9322 - root_mean_squared_error: 31.4243 - mean_squared_logarithmic_error: 0.2623 - root_mean_squared_logarithmic_error: 0.5117"
          ],
          "name": "stdout"
        },
        {
          "output_type": "error",
          "ename": "KeyboardInterrupt",
          "evalue": "ignored",
          "traceback": [
            "\u001b[0;31m---------------------------------------------------------------------------\u001b[0m",
            "\u001b[0;31mKeyboardInterrupt\u001b[0m                         Traceback (most recent call last)",
            "\u001b[0;32m<ipython-input-136-467502a2802c>\u001b[0m in \u001b[0;36m<module>\u001b[0;34m()\u001b[0m\n\u001b[1;32m      3\u001b[0m                     \u001b[0mverbose\u001b[0m\u001b[0;34m=\u001b[0m\u001b[0;32mTrue\u001b[0m\u001b[0;34m,\u001b[0m\u001b[0;34m\u001b[0m\u001b[0;34m\u001b[0m\u001b[0m\n\u001b[1;32m      4\u001b[0m                     \u001b[0mvalidation_data\u001b[0m\u001b[0;34m=\u001b[0m\u001b[0;34m(\u001b[0m\u001b[0;34m[\u001b[0m\u001b[0minputA_validation\u001b[0m\u001b[0;34m,\u001b[0m \u001b[0minputName_validation\u001b[0m\u001b[0;34m,\u001b[0m \u001b[0minputDesc_validation\u001b[0m\u001b[0;34m]\u001b[0m\u001b[0;34m,\u001b[0m \u001b[0my_validation\u001b[0m\u001b[0;34m)\u001b[0m\u001b[0;34m,\u001b[0m\u001b[0;34m\u001b[0m\u001b[0;34m\u001b[0m\u001b[0m\n\u001b[0;32m----> 5\u001b[0;31m                     batch_size=512)\n\u001b[0m",
            "\u001b[0;32m/usr/local/lib/python3.6/dist-packages/tensorflow/python/keras/engine/training.py\u001b[0m in \u001b[0;36mfit\u001b[0;34m(self, x, y, batch_size, epochs, verbose, callbacks, validation_split, validation_data, shuffle, class_weight, sample_weight, initial_epoch, steps_per_epoch, validation_steps, validation_batch_size, validation_freq, max_queue_size, workers, use_multiprocessing)\u001b[0m\n\u001b[1;32m   1139\u001b[0m               \u001b[0mworkers\u001b[0m\u001b[0;34m=\u001b[0m\u001b[0mworkers\u001b[0m\u001b[0;34m,\u001b[0m\u001b[0;34m\u001b[0m\u001b[0;34m\u001b[0m\u001b[0m\n\u001b[1;32m   1140\u001b[0m               \u001b[0muse_multiprocessing\u001b[0m\u001b[0;34m=\u001b[0m\u001b[0muse_multiprocessing\u001b[0m\u001b[0;34m,\u001b[0m\u001b[0;34m\u001b[0m\u001b[0;34m\u001b[0m\u001b[0m\n\u001b[0;32m-> 1141\u001b[0;31m               return_dict=True)\n\u001b[0m\u001b[1;32m   1142\u001b[0m           \u001b[0mval_logs\u001b[0m \u001b[0;34m=\u001b[0m \u001b[0;34m{\u001b[0m\u001b[0;34m'val_'\u001b[0m \u001b[0;34m+\u001b[0m \u001b[0mname\u001b[0m\u001b[0;34m:\u001b[0m \u001b[0mval\u001b[0m \u001b[0;32mfor\u001b[0m \u001b[0mname\u001b[0m\u001b[0;34m,\u001b[0m \u001b[0mval\u001b[0m \u001b[0;32min\u001b[0m \u001b[0mval_logs\u001b[0m\u001b[0;34m.\u001b[0m\u001b[0mitems\u001b[0m\u001b[0;34m(\u001b[0m\u001b[0;34m)\u001b[0m\u001b[0;34m}\u001b[0m\u001b[0;34m\u001b[0m\u001b[0;34m\u001b[0m\u001b[0m\n\u001b[1;32m   1143\u001b[0m           \u001b[0mepoch_logs\u001b[0m\u001b[0;34m.\u001b[0m\u001b[0mupdate\u001b[0m\u001b[0;34m(\u001b[0m\u001b[0mval_logs\u001b[0m\u001b[0;34m)\u001b[0m\u001b[0;34m\u001b[0m\u001b[0;34m\u001b[0m\u001b[0m\n",
            "\u001b[0;32m/usr/local/lib/python3.6/dist-packages/tensorflow/python/keras/engine/training.py\u001b[0m in \u001b[0;36mevaluate\u001b[0;34m(self, x, y, batch_size, verbose, sample_weight, steps, callbacks, max_queue_size, workers, use_multiprocessing, return_dict)\u001b[0m\n\u001b[1;32m   1387\u001b[0m             \u001b[0;32mwith\u001b[0m \u001b[0mtrace\u001b[0m\u001b[0;34m.\u001b[0m\u001b[0mTrace\u001b[0m\u001b[0;34m(\u001b[0m\u001b[0;34m'test'\u001b[0m\u001b[0;34m,\u001b[0m \u001b[0mstep_num\u001b[0m\u001b[0;34m=\u001b[0m\u001b[0mstep\u001b[0m\u001b[0;34m,\u001b[0m \u001b[0m_r\u001b[0m\u001b[0;34m=\u001b[0m\u001b[0;36m1\u001b[0m\u001b[0;34m)\u001b[0m\u001b[0;34m:\u001b[0m\u001b[0;34m\u001b[0m\u001b[0;34m\u001b[0m\u001b[0m\n\u001b[1;32m   1388\u001b[0m               \u001b[0mcallbacks\u001b[0m\u001b[0;34m.\u001b[0m\u001b[0mon_test_batch_begin\u001b[0m\u001b[0;34m(\u001b[0m\u001b[0mstep\u001b[0m\u001b[0;34m)\u001b[0m\u001b[0;34m\u001b[0m\u001b[0;34m\u001b[0m\u001b[0m\n\u001b[0;32m-> 1389\u001b[0;31m               \u001b[0mtmp_logs\u001b[0m \u001b[0;34m=\u001b[0m \u001b[0mself\u001b[0m\u001b[0;34m.\u001b[0m\u001b[0mtest_function\u001b[0m\u001b[0;34m(\u001b[0m\u001b[0miterator\u001b[0m\u001b[0;34m)\u001b[0m\u001b[0;34m\u001b[0m\u001b[0;34m\u001b[0m\u001b[0m\n\u001b[0m\u001b[1;32m   1390\u001b[0m               \u001b[0;32mif\u001b[0m \u001b[0mdata_handler\u001b[0m\u001b[0;34m.\u001b[0m\u001b[0mshould_sync\u001b[0m\u001b[0;34m:\u001b[0m\u001b[0;34m\u001b[0m\u001b[0;34m\u001b[0m\u001b[0m\n\u001b[1;32m   1391\u001b[0m                 \u001b[0mcontext\u001b[0m\u001b[0;34m.\u001b[0m\u001b[0masync_wait\u001b[0m\u001b[0;34m(\u001b[0m\u001b[0;34m)\u001b[0m\u001b[0;34m\u001b[0m\u001b[0;34m\u001b[0m\u001b[0m\n",
            "\u001b[0;32m/usr/local/lib/python3.6/dist-packages/tensorflow/python/eager/def_function.py\u001b[0m in \u001b[0;36m__call__\u001b[0;34m(self, *args, **kwds)\u001b[0m\n\u001b[1;32m    826\u001b[0m     \u001b[0mtracing_count\u001b[0m \u001b[0;34m=\u001b[0m \u001b[0mself\u001b[0m\u001b[0;34m.\u001b[0m\u001b[0mexperimental_get_tracing_count\u001b[0m\u001b[0;34m(\u001b[0m\u001b[0;34m)\u001b[0m\u001b[0;34m\u001b[0m\u001b[0;34m\u001b[0m\u001b[0m\n\u001b[1;32m    827\u001b[0m     \u001b[0;32mwith\u001b[0m \u001b[0mtrace\u001b[0m\u001b[0;34m.\u001b[0m\u001b[0mTrace\u001b[0m\u001b[0;34m(\u001b[0m\u001b[0mself\u001b[0m\u001b[0;34m.\u001b[0m\u001b[0m_name\u001b[0m\u001b[0;34m)\u001b[0m \u001b[0;32mas\u001b[0m \u001b[0mtm\u001b[0m\u001b[0;34m:\u001b[0m\u001b[0;34m\u001b[0m\u001b[0;34m\u001b[0m\u001b[0m\n\u001b[0;32m--> 828\u001b[0;31m       \u001b[0mresult\u001b[0m \u001b[0;34m=\u001b[0m \u001b[0mself\u001b[0m\u001b[0;34m.\u001b[0m\u001b[0m_call\u001b[0m\u001b[0;34m(\u001b[0m\u001b[0;34m*\u001b[0m\u001b[0margs\u001b[0m\u001b[0;34m,\u001b[0m \u001b[0;34m**\u001b[0m\u001b[0mkwds\u001b[0m\u001b[0;34m)\u001b[0m\u001b[0;34m\u001b[0m\u001b[0;34m\u001b[0m\u001b[0m\n\u001b[0m\u001b[1;32m    829\u001b[0m       \u001b[0mcompiler\u001b[0m \u001b[0;34m=\u001b[0m \u001b[0;34m\"xla\"\u001b[0m \u001b[0;32mif\u001b[0m \u001b[0mself\u001b[0m\u001b[0;34m.\u001b[0m\u001b[0m_experimental_compile\u001b[0m \u001b[0;32melse\u001b[0m \u001b[0;34m\"nonXla\"\u001b[0m\u001b[0;34m\u001b[0m\u001b[0;34m\u001b[0m\u001b[0m\n\u001b[1;32m    830\u001b[0m       \u001b[0mnew_tracing_count\u001b[0m \u001b[0;34m=\u001b[0m \u001b[0mself\u001b[0m\u001b[0;34m.\u001b[0m\u001b[0mexperimental_get_tracing_count\u001b[0m\u001b[0;34m(\u001b[0m\u001b[0;34m)\u001b[0m\u001b[0;34m\u001b[0m\u001b[0;34m\u001b[0m\u001b[0m\n",
            "\u001b[0;32m/usr/local/lib/python3.6/dist-packages/tensorflow/python/eager/def_function.py\u001b[0m in \u001b[0;36m_call\u001b[0;34m(self, *args, **kwds)\u001b[0m\n\u001b[1;32m    860\u001b[0m       \u001b[0;31m# In this case we have not created variables on the first call. So we can\u001b[0m\u001b[0;34m\u001b[0m\u001b[0;34m\u001b[0m\u001b[0;34m\u001b[0m\u001b[0m\n\u001b[1;32m    861\u001b[0m       \u001b[0;31m# run the first trace but we should fail if variables are created.\u001b[0m\u001b[0;34m\u001b[0m\u001b[0;34m\u001b[0m\u001b[0;34m\u001b[0m\u001b[0m\n\u001b[0;32m--> 862\u001b[0;31m       \u001b[0mresults\u001b[0m \u001b[0;34m=\u001b[0m \u001b[0mself\u001b[0m\u001b[0;34m.\u001b[0m\u001b[0m_stateful_fn\u001b[0m\u001b[0;34m(\u001b[0m\u001b[0;34m*\u001b[0m\u001b[0margs\u001b[0m\u001b[0;34m,\u001b[0m \u001b[0;34m**\u001b[0m\u001b[0mkwds\u001b[0m\u001b[0;34m)\u001b[0m\u001b[0;34m\u001b[0m\u001b[0;34m\u001b[0m\u001b[0m\n\u001b[0m\u001b[1;32m    863\u001b[0m       \u001b[0;32mif\u001b[0m \u001b[0mself\u001b[0m\u001b[0;34m.\u001b[0m\u001b[0m_created_variables\u001b[0m\u001b[0;34m:\u001b[0m\u001b[0;34m\u001b[0m\u001b[0;34m\u001b[0m\u001b[0m\n\u001b[1;32m    864\u001b[0m         raise ValueError(\"Creating variables on a non-first call to a function\"\n",
            "\u001b[0;32m/usr/local/lib/python3.6/dist-packages/tensorflow/python/eager/function.py\u001b[0m in \u001b[0;36m__call__\u001b[0;34m(self, *args, **kwargs)\u001b[0m\n\u001b[1;32m   2939\u001b[0m     \u001b[0;32mwith\u001b[0m \u001b[0mself\u001b[0m\u001b[0;34m.\u001b[0m\u001b[0m_lock\u001b[0m\u001b[0;34m:\u001b[0m\u001b[0;34m\u001b[0m\u001b[0;34m\u001b[0m\u001b[0m\n\u001b[1;32m   2940\u001b[0m       (graph_function,\n\u001b[0;32m-> 2941\u001b[0;31m        filtered_flat_args) = self._maybe_define_function(args, kwargs)\n\u001b[0m\u001b[1;32m   2942\u001b[0m     return graph_function._call_flat(\n\u001b[1;32m   2943\u001b[0m         filtered_flat_args, captured_inputs=graph_function.captured_inputs)  # pylint: disable=protected-access\n",
            "\u001b[0;32m/usr/local/lib/python3.6/dist-packages/tensorflow/python/eager/function.py\u001b[0m in \u001b[0;36m_maybe_define_function\u001b[0;34m(self, args, kwargs)\u001b[0m\n\u001b[1;32m   3317\u001b[0m \u001b[0;34m\u001b[0m\u001b[0m\n\u001b[1;32m   3318\u001b[0m     \u001b[0mcache_key_context\u001b[0m \u001b[0;34m=\u001b[0m \u001b[0mself\u001b[0m\u001b[0;34m.\u001b[0m\u001b[0m_cache_key_context\u001b[0m\u001b[0;34m(\u001b[0m\u001b[0;34m)\u001b[0m\u001b[0;34m\u001b[0m\u001b[0;34m\u001b[0m\u001b[0m\n\u001b[0;32m-> 3319\u001b[0;31m     \u001b[0mcache_key\u001b[0m \u001b[0;34m=\u001b[0m \u001b[0mself\u001b[0m\u001b[0;34m.\u001b[0m\u001b[0m_cache_key\u001b[0m\u001b[0;34m(\u001b[0m\u001b[0margs\u001b[0m\u001b[0;34m,\u001b[0m \u001b[0mkwargs\u001b[0m\u001b[0;34m,\u001b[0m \u001b[0mcache_key_context\u001b[0m\u001b[0;34m)\u001b[0m\u001b[0;34m\u001b[0m\u001b[0;34m\u001b[0m\u001b[0m\n\u001b[0m\u001b[1;32m   3320\u001b[0m \u001b[0;34m\u001b[0m\u001b[0m\n\u001b[1;32m   3321\u001b[0m     \u001b[0;32mtry\u001b[0m\u001b[0;34m:\u001b[0m\u001b[0;34m\u001b[0m\u001b[0;34m\u001b[0m\u001b[0m\n",
            "\u001b[0;32m/usr/local/lib/python3.6/dist-packages/tensorflow/python/eager/function.py\u001b[0m in \u001b[0;36m_cache_key\u001b[0;34m(self, args, kwargs, cache_key_context, include_tensor_ranks_only)\u001b[0m\n\u001b[1;32m   3098\u001b[0m       input_signature = pywrap_tfe.TFE_Py_EncodeArg(inputs,\n\u001b[1;32m   3099\u001b[0m                                                     include_tensor_ranks_only)\n\u001b[0;32m-> 3100\u001b[0;31m       \u001b[0mhashable_input_signature\u001b[0m \u001b[0;34m=\u001b[0m \u001b[0m_make_input_signature_hashable\u001b[0m\u001b[0;34m(\u001b[0m\u001b[0minput_signature\u001b[0m\u001b[0;34m)\u001b[0m\u001b[0;34m\u001b[0m\u001b[0;34m\u001b[0m\u001b[0m\n\u001b[0m\u001b[1;32m   3101\u001b[0m     \u001b[0;32melse\u001b[0m\u001b[0;34m:\u001b[0m\u001b[0;34m\u001b[0m\u001b[0;34m\u001b[0m\u001b[0m\n\u001b[1;32m   3102\u001b[0m       \u001b[0;32mdel\u001b[0m \u001b[0margs\u001b[0m\u001b[0;34m,\u001b[0m \u001b[0mkwargs\u001b[0m\u001b[0;34m\u001b[0m\u001b[0;34m\u001b[0m\u001b[0m\n",
            "\u001b[0;32m/usr/local/lib/python3.6/dist-packages/tensorflow/python/eager/function.py\u001b[0m in \u001b[0;36m_make_input_signature_hashable\u001b[0;34m(elem)\u001b[0m\n\u001b[1;32m    111\u001b[0m   \"\"\"\n\u001b[1;32m    112\u001b[0m   \u001b[0;32mtry\u001b[0m\u001b[0;34m:\u001b[0m\u001b[0;34m\u001b[0m\u001b[0;34m\u001b[0m\u001b[0m\n\u001b[0;32m--> 113\u001b[0;31m     \u001b[0mhash\u001b[0m\u001b[0;34m(\u001b[0m\u001b[0melem\u001b[0m\u001b[0;34m)\u001b[0m\u001b[0;34m\u001b[0m\u001b[0;34m\u001b[0m\u001b[0m\n\u001b[0m\u001b[1;32m    114\u001b[0m   \u001b[0;32mexcept\u001b[0m \u001b[0mTypeError\u001b[0m\u001b[0;34m:\u001b[0m\u001b[0;34m\u001b[0m\u001b[0;34m\u001b[0m\u001b[0m\n\u001b[1;32m    115\u001b[0m     \u001b[0;31m# TODO(slebedev): consider using nest.\u001b[0m\u001b[0;34m\u001b[0m\u001b[0;34m\u001b[0m\u001b[0;34m\u001b[0m\u001b[0m\n",
            "\u001b[0;32m/usr/local/lib/python3.6/dist-packages/tensorflow/python/framework/type_spec.py\u001b[0m in \u001b[0;36m__hash__\u001b[0;34m(self)\u001b[0m\n\u001b[1;32m    300\u001b[0m \u001b[0;34m\u001b[0m\u001b[0m\n\u001b[1;32m    301\u001b[0m   \u001b[0;32mdef\u001b[0m \u001b[0m__hash__\u001b[0m\u001b[0;34m(\u001b[0m\u001b[0mself\u001b[0m\u001b[0;34m)\u001b[0m\u001b[0;34m:\u001b[0m\u001b[0;34m\u001b[0m\u001b[0;34m\u001b[0m\u001b[0m\n\u001b[0;32m--> 302\u001b[0;31m     \u001b[0;32mreturn\u001b[0m \u001b[0mhash\u001b[0m\u001b[0;34m(\u001b[0m\u001b[0mself\u001b[0m\u001b[0;34m.\u001b[0m\u001b[0m__get_cmp_key\u001b[0m\u001b[0;34m(\u001b[0m\u001b[0;34m)\u001b[0m\u001b[0;34m)\u001b[0m\u001b[0;34m\u001b[0m\u001b[0;34m\u001b[0m\u001b[0m\n\u001b[0m\u001b[1;32m    303\u001b[0m \u001b[0;34m\u001b[0m\u001b[0m\n\u001b[1;32m    304\u001b[0m   \u001b[0;32mdef\u001b[0m \u001b[0m__reduce__\u001b[0m\u001b[0;34m(\u001b[0m\u001b[0mself\u001b[0m\u001b[0;34m)\u001b[0m\u001b[0;34m:\u001b[0m\u001b[0;34m\u001b[0m\u001b[0;34m\u001b[0m\u001b[0m\n",
            "\u001b[0;32m/usr/local/lib/python3.6/dist-packages/tensorflow/python/framework/type_spec.py\u001b[0m in \u001b[0;36m__get_cmp_key\u001b[0;34m(self)\u001b[0m\n\u001b[1;32m    338\u001b[0m     \u001b[0;34m\"\"\"Returns a hashable eq-comparable key for `self`.\"\"\"\u001b[0m\u001b[0;34m\u001b[0m\u001b[0;34m\u001b[0m\u001b[0m\n\u001b[1;32m    339\u001b[0m     \u001b[0;31m# TODO(b/133606651): Decide whether to cache this value.\u001b[0m\u001b[0;34m\u001b[0m\u001b[0;34m\u001b[0m\u001b[0;34m\u001b[0m\u001b[0m\n\u001b[0;32m--> 340\u001b[0;31m     \u001b[0;32mreturn\u001b[0m \u001b[0;34m(\u001b[0m\u001b[0mtype\u001b[0m\u001b[0;34m(\u001b[0m\u001b[0mself\u001b[0m\u001b[0;34m)\u001b[0m\u001b[0;34m,\u001b[0m \u001b[0mself\u001b[0m\u001b[0;34m.\u001b[0m\u001b[0m__make_cmp_key\u001b[0m\u001b[0;34m(\u001b[0m\u001b[0mself\u001b[0m\u001b[0;34m.\u001b[0m\u001b[0m_serialize\u001b[0m\u001b[0;34m(\u001b[0m\u001b[0;34m)\u001b[0m\u001b[0;34m)\u001b[0m\u001b[0;34m)\u001b[0m\u001b[0;34m\u001b[0m\u001b[0;34m\u001b[0m\u001b[0m\n\u001b[0m\u001b[1;32m    341\u001b[0m \u001b[0;34m\u001b[0m\u001b[0m\n\u001b[1;32m    342\u001b[0m   \u001b[0;32mdef\u001b[0m \u001b[0m__make_cmp_key\u001b[0m\u001b[0;34m(\u001b[0m\u001b[0mself\u001b[0m\u001b[0;34m,\u001b[0m \u001b[0mvalue\u001b[0m\u001b[0;34m)\u001b[0m\u001b[0;34m:\u001b[0m\u001b[0;34m\u001b[0m\u001b[0;34m\u001b[0m\u001b[0m\n",
            "\u001b[0;32m/usr/local/lib/python3.6/dist-packages/tensorflow/python/framework/type_spec.py\u001b[0m in \u001b[0;36m__make_cmp_key\u001b[0;34m(self, value)\u001b[0m\n\u001b[1;32m    342\u001b[0m   \u001b[0;32mdef\u001b[0m \u001b[0m__make_cmp_key\u001b[0m\u001b[0;34m(\u001b[0m\u001b[0mself\u001b[0m\u001b[0;34m,\u001b[0m \u001b[0mvalue\u001b[0m\u001b[0;34m)\u001b[0m\u001b[0;34m:\u001b[0m\u001b[0;34m\u001b[0m\u001b[0;34m\u001b[0m\u001b[0m\n\u001b[1;32m    343\u001b[0m     \u001b[0;34m\"\"\"Converts `value` to a hashable key.\"\"\"\u001b[0m\u001b[0;34m\u001b[0m\u001b[0;34m\u001b[0m\u001b[0m\n\u001b[0;32m--> 344\u001b[0;31m     \u001b[0;32mif\u001b[0m \u001b[0misinstance\u001b[0m\u001b[0;34m(\u001b[0m\u001b[0mvalue\u001b[0m\u001b[0;34m,\u001b[0m \u001b[0;34m(\u001b[0m\u001b[0mint\u001b[0m\u001b[0;34m,\u001b[0m \u001b[0mfloat\u001b[0m\u001b[0;34m,\u001b[0m \u001b[0mbool\u001b[0m\u001b[0;34m,\u001b[0m \u001b[0mdtypes\u001b[0m\u001b[0;34m.\u001b[0m\u001b[0mDType\u001b[0m\u001b[0;34m,\u001b[0m \u001b[0mTypeSpec\u001b[0m\u001b[0;34m)\u001b[0m\u001b[0;34m)\u001b[0m\u001b[0;34m:\u001b[0m\u001b[0;34m\u001b[0m\u001b[0;34m\u001b[0m\u001b[0m\n\u001b[0m\u001b[1;32m    345\u001b[0m       \u001b[0;32mreturn\u001b[0m \u001b[0mvalue\u001b[0m\u001b[0;34m\u001b[0m\u001b[0;34m\u001b[0m\u001b[0m\n\u001b[1;32m    346\u001b[0m     \u001b[0;32mif\u001b[0m \u001b[0misinstance\u001b[0m\u001b[0;34m(\u001b[0m\u001b[0mvalue\u001b[0m\u001b[0;34m,\u001b[0m \u001b[0mcompat\u001b[0m\u001b[0;34m.\u001b[0m\u001b[0mbytes_or_text_types\u001b[0m\u001b[0;34m)\u001b[0m\u001b[0;34m:\u001b[0m\u001b[0;34m\u001b[0m\u001b[0;34m\u001b[0m\u001b[0m\n",
            "\u001b[0;32m/usr/lib/python3.6/abc.py\u001b[0m in \u001b[0;36m__instancecheck__\u001b[0;34m(cls, instance)\u001b[0m\n\u001b[1;32m    178\u001b[0m                 \u001b[0mprint\u001b[0m\u001b[0;34m(\u001b[0m\u001b[0;34m\"%s: %r\"\u001b[0m \u001b[0;34m%\u001b[0m \u001b[0;34m(\u001b[0m\u001b[0mname\u001b[0m\u001b[0;34m,\u001b[0m \u001b[0mvalue\u001b[0m\u001b[0;34m)\u001b[0m\u001b[0;34m,\u001b[0m \u001b[0mfile\u001b[0m\u001b[0;34m=\u001b[0m\u001b[0mfile\u001b[0m\u001b[0;34m)\u001b[0m\u001b[0;34m\u001b[0m\u001b[0;34m\u001b[0m\u001b[0m\n\u001b[1;32m    179\u001b[0m \u001b[0;34m\u001b[0m\u001b[0m\n\u001b[0;32m--> 180\u001b[0;31m     \u001b[0;32mdef\u001b[0m \u001b[0m__instancecheck__\u001b[0m\u001b[0;34m(\u001b[0m\u001b[0mcls\u001b[0m\u001b[0;34m,\u001b[0m \u001b[0minstance\u001b[0m\u001b[0;34m)\u001b[0m\u001b[0;34m:\u001b[0m\u001b[0;34m\u001b[0m\u001b[0;34m\u001b[0m\u001b[0m\n\u001b[0m\u001b[1;32m    181\u001b[0m         \u001b[0;34m\"\"\"Override for isinstance(instance, cls).\"\"\"\u001b[0m\u001b[0;34m\u001b[0m\u001b[0;34m\u001b[0m\u001b[0m\n\u001b[1;32m    182\u001b[0m         \u001b[0;31m# Inline the cache checking\u001b[0m\u001b[0;34m\u001b[0m\u001b[0;34m\u001b[0m\u001b[0;34m\u001b[0m\u001b[0m\n",
            "\u001b[0;31mKeyboardInterrupt\u001b[0m: "
          ]
        }
      ]
    },
    {
      "cell_type": "code",
      "metadata": {
        "id": "m6ZqDQxG4de0"
      },
      "source": [
        "histDf = pd.DataFrame(history.history)\n",
        "histDf.tail()"
      ],
      "execution_count": null,
      "outputs": []
    },
    {
      "cell_type": "code",
      "metadata": {
        "id": "d8NNZQXuht7t"
      },
      "source": [
        "histDf.plot(y=[\"loss\", \"val_loss\"])"
      ],
      "execution_count": null,
      "outputs": []
    }
  ]
}